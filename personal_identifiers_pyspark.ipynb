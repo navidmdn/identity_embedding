{
 "cells": [
  {
   "cell_type": "markdown",
   "id": "206aa80b",
   "metadata": {},
   "source": [
    " # Configs and Initializations"
   ]
  },
  {
   "cell_type": "markdown",
   "id": "f5ff9a52",
   "metadata": {},
   "source": [
    "## Spark"
   ]
  },
  {
   "cell_type": "code",
   "execution_count": 86,
   "id": "45a876b4",
   "metadata": {},
   "outputs": [
    {
     "name": "stdout",
     "output_type": "stream",
     "text": [
      "huggingface/tokenizers: The current process just got forked, after parallelism has already been used. Disabling parallelism to avoid deadlocks...\n",
      "To disable this warning, you can either:\n",
      "\t- Avoid using `tokenizers` before the fork if possible\n",
      "\t- Explicitly set the environment variable TOKENIZERS_PARALLELISM=(true | false)\n"
     ]
    },
    {
     "name": "stderr",
     "output_type": "stream",
     "text": [
      "Using Spark's default log4j profile: org/apache/spark/log4j-defaults.properties\n",
      "Setting default log level to \"WARN\".\n",
      "To adjust logging level use sc.setLogLevel(newLevel). For SparkR, use setLogLevel(newLevel).\n",
      "22/11/11 16:35:48 WARN NativeCodeLoader: Unable to load native-hadoop library for your platform... using builtin-java classes where applicable\n"
     ]
    }
   ],
   "source": [
    "import pyspark\n",
    "import collections\n",
    "collections.namedtuple(\"n\", [], module=__name__)\n",
    "\n",
    "\n",
    "from pyspark.sql import SparkSession\n",
    "\n",
    "spark = (\n",
    "    SparkSession\n",
    "    .builder\n",
    "    .master(\"local[{}]\".format(70))\n",
    "    .config(\"spark.driver.memory\", \"{}g\".format(20))\n",
    "    .config(\"spark.driver.maxResultSize\", f\"{10}g\")\n",
    "    .getOrCreate()\n",
    ")\n",
    "\n",
    "SEED = 100001\n"
   ]
  },
  {
   "cell_type": "markdown",
   "id": "5fa23574",
   "metadata": {},
   "source": [
    "# Loading Dataset"
   ]
  },
  {
   "cell_type": "markdown",
   "id": "62766450",
   "metadata": {},
   "source": [
    "## load pickle data"
   ]
  },
  {
   "cell_type": "code",
   "execution_count": 2,
   "id": "7660c687",
   "metadata": {},
   "outputs": [
    {
     "data": {
      "text/plain": [
       "['Doer, maker, photo-taker. Words: http://fashionist.contently.com BFF.fm Radio DJ: http://bff.fm/shows/mai-charlie',\n",
       " 'I like to build things (@Foursquare📱, @StockadeFC ⚽️ @StreetFC, Dodgeball 📟) Husband to @Chelsa, dad to 👧🏼❄️ & 👶🏼🚀. I enjoy snowboards, soccer & hot dogs',\n",
       " 'Product and Design Leader. Formerly @getfandom, @ign, and @yahoo. I build great teams that build great products.']"
      ]
     },
     "execution_count": 2,
     "metadata": {},
     "output_type": "execute_result"
    }
   ],
   "source": [
    "import pickle\n",
    "\n",
    "\n",
    "PATH = './bios2020.pkl'\n",
    "with open(PATH, 'rb') as f:\n",
    "    bios = pickle.load(f)\n",
    "    \n",
    "bios[:3]"
   ]
  },
  {
   "cell_type": "code",
   "execution_count": 3,
   "id": "8dea83a8",
   "metadata": {},
   "outputs": [
    {
     "name": "stdout",
     "output_type": "stream",
     "text": [
      "size of dataset: 16240577\n"
     ]
    }
   ],
   "source": [
    "print(f\"size of dataset: {len(bios)}\")"
   ]
  },
  {
   "cell_type": "markdown",
   "id": "6bb95588",
   "metadata": {},
   "source": [
    "## convert it to spark dataframe"
   ]
  },
  {
   "cell_type": "code",
   "execution_count": 4,
   "id": "c5158599",
   "metadata": {},
   "outputs": [
    {
     "name": "stdout",
     "output_type": "stream",
     "text": [
      "22/10/17 14:57:00 WARN TaskSetManager: Stage 0 contains a task of very large size (18843 KiB). The maximum recommended task size is 1000 KiB.\n"
     ]
    },
    {
     "name": "stderr",
     "output_type": "stream",
     "text": [
      "[Stage 0:>                                                          (0 + 1) / 1]\r"
     ]
    },
    {
     "name": "stdout",
     "output_type": "stream",
     "text": [
      "22/10/17 14:57:04 WARN PythonRunner: Detected deadlock while completing task 0.0 in stage 0 (TID 0): Attempting to kill Python Worker\n",
      "+--------------------+\n",
      "|                text|\n",
      "+--------------------+\n",
      "|Doer, maker, phot...|\n",
      "|I like to build t...|\n",
      "|Product and Desig...|\n",
      "|Founder at @hello...|\n",
      "|Compassionate Tec...|\n",
      "+--------------------+\n",
      "only showing top 5 rows\n",
      "\n"
     ]
    },
    {
     "name": "stderr",
     "output_type": "stream",
     "text": [
      "                                                                                \r"
     ]
    }
   ],
   "source": [
    "import pyspark.sql.functions as F\n",
    "\n",
    "bios_df = spark.createDataFrame([{'text': x} for x in bios])\n",
    "#bios_df = bios_df.withColumn(\"id\", F.monotonically_increasing_id())\n",
    "\n",
    "bios_df.show(5)"
   ]
  },
  {
   "cell_type": "markdown",
   "id": "6c3e66df",
   "metadata": {},
   "source": [
    "## store dataset in parquet format for future"
   ]
  },
  {
   "cell_type": "code",
   "execution_count": 9,
   "id": "41b91e4e",
   "metadata": {},
   "outputs": [
    {
     "name": "stdout",
     "output_type": "stream",
     "text": [
      "22/10/17 14:41:03 WARN TaskSetManager: Stage 6 contains a task of very large size (18843 KiB). The maximum recommended task size is 1000 KiB.\n"
     ]
    },
    {
     "name": "stderr",
     "output_type": "stream",
     "text": [
      "                                                                                \r"
     ]
    }
   ],
   "source": [
    "PATH = './bios2020.parquet'\n",
    "bios_df.write.parquet(PATH, mode='overwrite')"
   ]
  },
  {
   "cell_type": "markdown",
   "id": "f8d1701c",
   "metadata": {},
   "source": [
    "## loading the parquet dataset"
   ]
  },
  {
   "cell_type": "code",
   "execution_count": 2,
   "id": "b758e68e",
   "metadata": {},
   "outputs": [],
   "source": [
    "PATH = './bios2020.parquet'\n",
    "bios_df = spark.read.parquet(PATH)"
   ]
  },
  {
   "cell_type": "markdown",
   "id": "db029f39",
   "metadata": {},
   "source": [
    "# Data Preprocessing and Cleaning"
   ]
  },
  {
   "cell_type": "markdown",
   "id": "f07747c7",
   "metadata": {},
   "source": [
    "## data schema"
   ]
  },
  {
   "cell_type": "code",
   "execution_count": 3,
   "id": "7ee4ce98",
   "metadata": {},
   "outputs": [
    {
     "name": "stdout",
     "output_type": "stream",
     "text": [
      "+-------------------------+------------+\n",
      "|                     text|          id|\n",
      "+-------------------------+------------+\n",
      "|     taga rt and like ...|549755813888|\n",
      "|           sookai she her|549755813889|\n",
      "|     В глубине души вс...|549755813890|\n",
      "|     ★ 1998 ╱ illusory...|549755813891|\n",
      "|V→🦊⚔️🍚🔺など 絵描き ...|549755813892|\n",
      "+-------------------------+------------+\n",
      "only showing top 5 rows\n",
      "\n"
     ]
    }
   ],
   "source": [
    "bios_df.show(5)"
   ]
  },
  {
   "cell_type": "code",
   "execution_count": 4,
   "id": "41ad3813",
   "metadata": {},
   "outputs": [
    {
     "name": "stderr",
     "output_type": "stream",
     "text": [
      "[Stage 2:============================================>           (56 + 14) / 70]\r"
     ]
    },
    {
     "name": "stdout",
     "output_type": "stream",
     "text": [
      "total rows: 16240577\n"
     ]
    },
    {
     "name": "stderr",
     "output_type": "stream",
     "text": [
      "                                                                                \r"
     ]
    }
   ],
   "source": [
    "print(f\"total rows: {bios_df.count()}\")"
   ]
  },
  {
   "cell_type": "markdown",
   "id": "66154b19",
   "metadata": {},
   "source": [
    "## cleaning text"
   ]
  },
  {
   "cell_type": "code",
   "execution_count": 31,
   "id": "bf5740c0",
   "metadata": {},
   "outputs": [],
   "source": [
    "def clean_personal_marker(phrase):\n",
    "    \"\"\" Clean a clause extracted from a description\"\"\"\n",
    "    \n",
    "    if not phrase:\n",
    "        return None\n",
    "\n",
    "    # drop weird special characters\n",
    "    phrase = phrase.encode('ascii', errors='ignore').decode().strip()\n",
    "    x_prev = phrase\n",
    "\n",
    "    while True:\n",
    "        # remove excess whitespace\n",
    "        phrase = re.sub(r\"\\s+\", \" \", phrase).strip()\n",
    "\n",
    "        # remove personal markers such as I like X\n",
    "        phrase = re.sub(r\"^i (love|like|enjoy) \", \"\", phrase)\n",
    "        # remove personal references such as I am a Y\n",
    "        phrase = re.sub(r\"^(i am|i'm|i'm) (a |an )?\", \"\", phrase)\n",
    "        # remove personal pronouns\n",
    "        phrase = re.sub(r\"^(i |a[n]?)\\b\", \"\", phrase)\n",
    "        # remove unimportant words at the beginning and end of clause\n",
    "        phrase = re.sub(r\"^(and|the|from|to)\\b\", \"\", phrase)\n",
    "        phrase = re.sub(r\" of$\", \"\", phrase)\n",
    "        \n",
    "        # removes social media links (snapchat, ig, email and phone address) mentions from bio\n",
    "        phrase = re.sub(r'(on )?(snapchat|snap|ig|insta|instagram|email|phone): +[A-Za-z0-9_@.-]+', \" \", phrase)\n",
    "        \n",
    "        # remove special characters\n",
    "        phrase = re.sub(r'\\u200d', \"\", phrase)\n",
    "\n",
    "        # remove unimportant marks at the beginning and end of each phrase\n",
    "        phrase = phrase.strip().strip(\".,/!-]+[:)(-?'$%&_\").strip()\n",
    "        \n",
    "        # remove some markers from the whole sentence\n",
    "        phrase = re.sub(r\"[!\\(\\)?.\\{\\}]\", \" \", phrase).strip()\n",
    "        \n",
    "        if phrase == x_prev:\n",
    "            return phrase\n",
    "\n",
    "        x_prev = phrase\n",
    "\n"
   ]
  },
  {
   "cell_type": "code",
   "execution_count": 32,
   "id": "d4b4d3a0",
   "metadata": {},
   "outputs": [],
   "source": [
    "from tqdm import tqdm\n",
    "import re\n",
    "import pyspark.sql.functions as F\n",
    "import pyspark.sql.types as T\n",
    "import emoji\n",
    "\n",
    "\n",
    "def get_emoji_regexp():\n",
    "    # Sort emoji by length to make sure multi-character emojis are\n",
    "    # matched first\n",
    "    emojis = sorted(emoji.EMOJI_DATA, key=len, reverse=True)\n",
    "    pattern = u'(' + u'|'.join(re.escape(u) for u in emojis) + u')'\n",
    "    return re.compile(pattern)\n",
    "\n",
    "emojiexp = get_emoji_regexp()\n",
    "\n",
    "#@F.udf(returnType=T.ArrayType(T.StringType()))\n",
    "def generate_personal_identifiers(description):\n",
    "    \"\"\"\n",
    "    Splits up a profile description into a set of clauses. Returns the clauses and\n",
    "    all emojis in the description (which are being treated as identity markers)\n",
    "    \"\"\"\n",
    "\n",
    "    # lower cases the text\n",
    "    # remove email addresses\n",
    "    d = re.sub(r'\\w+@\\w+\\.\\w+', '', description.lower()).strip()\n",
    "    # remove urls\n",
    "    d = re.sub(r'http\\S+', '', d).strip()\n",
    "    # replace excess space characters\n",
    "    d = d.replace(\"&emsp;\", \"\").replace(\"&nbsp;\", \"\")\n",
    "\n",
    "    # get all emoji and treat them as split characters\n",
    "    d = emojiexp.sub(\"|\", string=d)  # .encode(\"ascii\",\"namereplace\").decode()\n",
    "\n",
    "    # split on sensible split characters\n",
    "    # | and\n",
    "    spl = [x for x in re.split(\n",
    "        r\"[\\(\\)|•*;~°,\\n\\t]|[!…]+|[-–\\/.]+ | [&+:]+ | [+] |([\\/])(?=[A-Za-z ])|([.!-]{2,})| and |([#@][A-Za-z0-9_]+)\",\n",
    "        d.lower()) if (\n",
    "                   x and x.strip() != \"\" and not x.strip() in \"|•&*#;~°.!…-/–\")]\n",
    "\n",
    "    # clean all clauses\n",
    "    spl = [clean_personal_marker(x) for x in spl]\n",
    "    \n",
    "    # remove weird things and things that become empty\n",
    "    spl = [x for x in spl if x.strip() != \"\" and x.encode() != b'\\xef\\xb8\\x8f']\n",
    "    \n",
    "    return spl\n",
    "        \n"
   ]
  },
  {
   "cell_type": "code",
   "execution_count": 7,
   "id": "d353dae5",
   "metadata": {},
   "outputs": [
    {
     "name": "stdout",
     "output_type": "stream",
     "text": [
      "22/10/17 14:57:19 WARN TaskSetManager: Stage 1 contains a task of very large size (18843 KiB). The maximum recommended task size is 1000 KiB.\n"
     ]
    },
    {
     "name": "stderr",
     "output_type": "stream",
     "text": [
      "ERROR:root:KeyboardInterrupt while sending command.                 (0 + 1) / 1]\n",
      "Traceback (most recent call last):\n",
      "  File \"/home/csgrad/smadani/venvs/general/lib/python3.8/site-packages/py4j/java_gateway.py\", line 1038, in send_command\n",
      "    response = connection.send_command(command)\n",
      "  File \"/home/csgrad/smadani/venvs/general/lib/python3.8/site-packages/py4j/clientserver.py\", line 511, in send_command\n",
      "    answer = smart_decode(self.stream.readline()[:-1])\n",
      "  File \"/usr/lib/python3.8/socket.py\", line 669, in readinto\n",
      "    return self._sock.recv_into(b)\n",
      "KeyboardInterrupt\n",
      "\n",
      "KeyboardInterrupt\n",
      "\n"
     ]
    }
   ],
   "source": [
    "bios_df = bios_df.withColumn('pi', generate_personal_identifiers(F.col('text')))\n",
    "\n",
    "bios_df.persist()\n",
    "bios_df.show(5)"
   ]
  },
  {
   "cell_type": "code",
   "execution_count": 11,
   "id": "c3c8bec3",
   "metadata": {},
   "outputs": [
    {
     "name": "stderr",
     "output_type": "stream",
     "text": [
      "                                                                                \r"
     ]
    }
   ],
   "source": [
    "#remove bios with empty personal identifiers detected\n",
    "bios_df = bios_df.filter(F.size(F.col('pi')) > 0)\n",
    "bios_df.select(\"id\", F.col('pi').alias(\"pis\")).write.parquet(\"pis.parquet\")"
   ]
  },
  {
   "cell_type": "markdown",
   "id": "c6e02ff0",
   "metadata": {},
   "source": [
    "# EDA"
   ]
  },
  {
   "cell_type": "markdown",
   "id": "bf119a72",
   "metadata": {},
   "source": [
    "## load data"
   ]
  },
  {
   "cell_type": "code",
   "execution_count": 3,
   "id": "cf13fc98",
   "metadata": {},
   "outputs": [
    {
     "name": "stderr",
     "output_type": "stream",
     "text": [
      "                                                                                \r"
     ]
    },
    {
     "name": "stdout",
     "output_type": "stream",
     "text": [
      "+-----------+--------------------+\n",
      "|         id|                 pis|\n",
      "+-----------+--------------------+\n",
      "|42949672960|[harold edward st...|\n",
      "|42949672961|[tony, underrated...|\n",
      "|42949672962|[no sides, just g...|\n",
      "|42949672963|[fan account, o, ...|\n",
      "|42949672964|[lder del club ni...|\n",
      "+-----------+--------------------+\n",
      "only showing top 5 rows\n",
      "\n"
     ]
    },
    {
     "name": "stderr",
     "output_type": "stream",
     "text": [
      "                                                                                \r"
     ]
    }
   ],
   "source": [
    "import seaborn as sns\n",
    "sns.set_theme()\n",
    "import matplotlib.pyplot as plt\n",
    "\n",
    "pis_df = spark.read.parquet('pis.parquet')\n",
    "pis_df.persist()\n",
    "\n",
    "pis_df.show(5)\n",
    "n_distinct_bios = pis_df.count()"
   ]
  },
  {
   "cell_type": "code",
   "execution_count": 45,
   "id": "894f3b49",
   "metadata": {},
   "outputs": [
    {
     "data": {
      "text/plain": [
       "15033198"
      ]
     },
     "execution_count": 45,
     "metadata": {},
     "output_type": "execute_result"
    }
   ],
   "source": [
    "n_distinct_bios"
   ]
  },
  {
   "cell_type": "markdown",
   "id": "53d37fb9",
   "metadata": {},
   "source": [
    "## distribution of number of pis each user have"
   ]
  },
  {
   "cell_type": "code",
   "execution_count": 36,
   "id": "9d0a81e2",
   "metadata": {},
   "outputs": [
    {
     "data": {
      "text/plain": [
       "Text(0.5, 1.0, 'distribution of number of PIs in a bio')"
      ]
     },
     "execution_count": 36,
     "metadata": {},
     "output_type": "execute_result"
    },
    {
     "data": {
      "image/png": "[encoded data removed]",
      "text/plain": [
       "<Figure size 432x288 with 1 Axes>"
      ]
     },
     "metadata": {},
     "output_type": "display_data"
    }
   ],
   "source": [
    "\n",
    "pi_cnt_df = (\n",
    "    pis_df\n",
    "    .withColumn('pi_cnt', F.size(F.col('pis')))\n",
    "    .select('id', 'pi_cnt')\n",
    "    .toPandas()\n",
    ")\n",
    "\n",
    "sns.histplot(pi_cnt_df['pi_cnt'], log_scale=False, bins=[0,2,4,6,8,10,12,14,16,18,20])\n",
    "plt.title(\"distribution of number of PIs in a bio\")\n"
   ]
  },
  {
   "cell_type": "code",
   "execution_count": 37,
   "id": "7da5a19e",
   "metadata": {},
   "outputs": [
    {
     "data": {
      "text/plain": [
       "(3.4150380378147083, 2.0)"
      ]
     },
     "execution_count": 37,
     "metadata": {},
     "output_type": "execute_result"
    }
   ],
   "source": [
    "np.mean(pi_cnt_df['pi_cnt']), np.median(pi_cnt_df['pi_cnt'])"
   ]
  },
  {
   "cell_type": "markdown",
   "id": "7ca91257",
   "metadata": {},
   "source": [
    "## extract qunatifying stats"
   ]
  },
  {
   "cell_type": "code",
   "execution_count": 31,
   "id": "d12fa0c0",
   "metadata": {},
   "outputs": [
    {
     "name": "stderr",
     "output_type": "stream",
     "text": [
      "                                                                                \r"
     ]
    },
    {
     "name": "stdout",
     "output_type": "stream",
     "text": [
      "+-----------+--------------------+\n",
      "|         id|                  pi|\n",
      "+-----------+--------------------+\n",
      "|42949672960|harold edward sty...|\n",
      "|42949672961|                tony|\n",
      "|42949672961|underrated contro...|\n",
      "|42949672961|             manager|\n",
      "|42949672961|               dm me|\n",
      "+-----------+--------------------+\n",
      "only showing top 5 rows\n",
      "\n"
     ]
    },
    {
     "name": "stderr",
     "output_type": "stream",
     "text": [
      "                                                                                \r"
     ]
    }
   ],
   "source": [
    "import pyspark.sql.functions as F\n",
    "\n",
    "\n",
    "pi_df = pis_df.select(\"id\", F.explode(\"pis\").alias(\"pi\"))\n",
    "\n",
    "# remove single character PIs\n",
    "pi_df = pi_df.filter(F.length(F.col('pi'))>1)\n",
    "\n",
    "pi_df.persist()\n",
    "pi_df.show(5)\n",
    "\n",
    "# counting distinct bios\n",
    "n_distinct_pis = pi_df.select(\"pi\").distinct().count()\n",
    "\n",
    "# calculating frequency of each pi\n",
    "pi_cnt_pdf = pi_df.groupBy(\"pi\").agg(F.count(F.lit(1)).alias('cnt')).toPandas()\n",
    "counts = pi_cnt_pdf['cnt']\n"
   ]
  },
  {
   "cell_type": "code",
   "execution_count": 46,
   "id": "6dd51cf4",
   "metadata": {},
   "outputs": [
    {
     "data": {
      "text/plain": [
       "19784548"
      ]
     },
     "execution_count": 46,
     "metadata": {},
     "output_type": "execute_result"
    }
   ],
   "source": [
    "n_distinct_pis"
   ]
  },
  {
   "cell_type": "markdown",
   "id": "26bc3e42",
   "metadata": {},
   "source": [
    "## hashtag pis"
   ]
  },
  {
   "cell_type": "code",
   "execution_count": 38,
   "id": "5f922bd7",
   "metadata": {},
   "outputs": [
    {
     "name": "stdout",
     "output_type": "stream",
     "text": [
      "+-----------+---------------+\n",
      "|         id|        hashtag|\n",
      "+-----------+---------------+\n",
      "|42949672964|          #gor7|\n",
      "|42949672964|         #goest|\n",
      "|42949672964|         #t1win|\n",
      "|42949672964|        #flywin|\n",
      "|42949672975|     #gregghead|\n",
      "|42949672977|    #calicarter|\n",
      "|42949672977|  #abelladanger|\n",
      "|42949672977|     #meganrain|\n",
      "|42949672977|#adrianachechik|\n",
      "|42949672987|    #fitstyczen|\n",
      "+-----------+---------------+\n",
      "only showing top 10 rows\n",
      "\n"
     ]
    }
   ],
   "source": [
    "import pyspark.sql.types as T\n",
    "\n",
    "hashtags_df = pi_df.filter(pi_df.pi.rlike('#[a-zA-Z0-9(_)]+')).withColumnRenamed('pi', 'hashtag')\n",
    "hashtags_df.show(10)"
   ]
  },
  {
   "cell_type": "code",
   "execution_count": 39,
   "id": "0135a54c",
   "metadata": {},
   "outputs": [
    {
     "name": "stderr",
     "output_type": "stream",
     "text": [
      "                                                                                \r"
     ]
    },
    {
     "data": {
      "text/plain": [
       "847260"
      ]
     },
     "execution_count": 39,
     "metadata": {},
     "output_type": "execute_result"
    }
   ],
   "source": [
    "# extract distinct hashtags\n",
    "n_distinct_hashtags = hashtags_df.select('hashtag').distinct().count()\n",
    "n_distinct_hashtags"
   ]
  },
  {
   "cell_type": "code",
   "execution_count": 40,
   "id": "e7726a2a",
   "metadata": {},
   "outputs": [
    {
     "name": "stderr",
     "output_type": "stream",
     "text": [
      "[Stage 75:=====================>                                 (27 + 43) / 70]\r"
     ]
    },
    {
     "name": "stdout",
     "output_type": "stream",
     "text": [
      "1979278\n"
     ]
    },
    {
     "name": "stderr",
     "output_type": "stream",
     "text": [
      "                                                                                \r"
     ]
    }
   ],
   "source": [
    "# extract ratio of users that use hashtags in their bios\n",
    "\n",
    "users_with_hashtags = hashtags_df.select(\"id\").distinct()\n",
    "print(users_with_hashtags.count())\n"
   ]
  },
  {
   "cell_type": "code",
   "execution_count": 43,
   "id": "afaec6a2",
   "metadata": {},
   "outputs": [
    {
     "name": "stderr",
     "output_type": "stream",
     "text": [
      "                                                                                \r"
     ]
    },
    {
     "data": {
      "image/png": "[encoded data removed]",
      "text/plain": [
       "<Figure size 864x360 with 1 Axes>"
      ]
     },
     "metadata": {},
     "output_type": "display_data"
    }
   ],
   "source": [
    "import seaborn as sns\n",
    "sns.set_theme()\n",
    "\n",
    "import matplotlib.pyplot as plt\n",
    "\n",
    "def plot_top_k(df, col, title, k=10):\n",
    "    grouped_df = (\n",
    "        df\n",
    "        .groupBy(col)\n",
    "        .agg(F.count(F.lit(1)).alias('cnt'))\n",
    "        .orderBy(F.col('cnt').desc())\n",
    "        .limit(k)\n",
    "    ).toPandas()\n",
    "    \n",
    "    plt.figure(figsize=(12, 5))\n",
    "    sns.barplot(data=grouped_df, x=col, y='cnt')\n",
    "    plt.title(title)\n",
    "    plt.xticks(rotation=45, ha='right')\n",
    "    plt.show()\n",
    "\n",
    "plot_top_k(hashtags_df, 'hashtag', title='top 20 hashtags in bios', k=20)"
   ]
  },
  {
   "cell_type": "markdown",
   "id": "6d40565e",
   "metadata": {},
   "source": [
    "## PI frequency stats"
   ]
  },
  {
   "cell_type": "code",
   "execution_count": 5,
   "id": "0629ba37",
   "metadata": {},
   "outputs": [
    {
     "data": {
      "text/plain": [
       "(2.5948929796894142, 1.0)"
      ]
     },
     "execution_count": 5,
     "metadata": {},
     "output_type": "execute_result"
    }
   ],
   "source": [
    "import numpy as np\n",
    "import seaborn as sns\n",
    "\n",
    "\n",
    "# extract mean and median of pi \n",
    "mean_pi_cnt, median_pi_cnt = np.mean(list(counts)), np.median(list(counts))\n",
    "mean_pi_cnt, median_pi_cnt"
   ]
  },
  {
   "cell_type": "code",
   "execution_count": 47,
   "id": "7b719e47",
   "metadata": {},
   "outputs": [
    {
     "data": {
      "text/plain": [
       "Text(0.5, 1.0, 'distribution of frequency of each PI')"
      ]
     },
     "execution_count": 47,
     "metadata": {},
     "output_type": "execute_result"
    },
    {
     "data": {
      "image/png": "[encoded data removed]",
      "text/plain": [
       "<Figure size 432x288 with 1 Axes>"
      ]
     },
     "metadata": {},
     "output_type": "display_data"
    }
   ],
   "source": [
    "sns.histplot(list(counts), log_scale=True)\n",
    "plt.title(\"distribution of frequency of each PI\")"
   ]
  },
  {
   "cell_type": "markdown",
   "id": "440d4cba",
   "metadata": {},
   "source": [
    "## keeping meaningful PIs\n",
    "\n",
    "based on the above count distribution of PIs, since most of the PIs are unique and never occured, they are not \n",
    "informative for this task, so I try to clean data and only keep most informative PIs by removing PIs that repeat\n",
    "less than 10 times in the dataset"
   ]
  },
  {
   "cell_type": "code",
   "execution_count": 50,
   "id": "256b32c3",
   "metadata": {},
   "outputs": [
    {
     "name": "stderr",
     "output_type": "stream",
     "text": [
      "                                                                                \r"
     ]
    }
   ],
   "source": [
    "pi_cnt_df = (\n",
    "    pi_df\n",
    "    .groupBy(\"pi\").agg(F.count(F.lit(1)).alias('cnt'))\n",
    "    .filter(F.col('cnt') > 10)\n",
    ")\n",
    "\n",
    "pi_cnt_pdf = pi_cnt_df.toPandas()\n",
    "counts = list(pi_cnt_pdf['cnt'])"
   ]
  },
  {
   "cell_type": "code",
   "execution_count": 51,
   "id": "775b03fb",
   "metadata": {},
   "outputs": [
    {
     "name": "stderr",
     "output_type": "stream",
     "text": [
      "[Stage 98:===================================================>    (64 + 6) / 70]\r"
     ]
    },
    {
     "name": "stdout",
     "output_type": "stream",
     "text": [
      "+-----+-----------+-----+\n",
      "|   pi|         id|  cnt|\n",
      "+-----+-----------+-----+\n",
      "|anime|42949673480|31405|\n",
      "|anime|42949674506|31405|\n",
      "|anime|42949675356|31405|\n",
      "|anime|42949676196|31405|\n",
      "|anime|42949676306|31405|\n",
      "+-----+-----------+-----+\n",
      "only showing top 5 rows\n",
      "\n"
     ]
    },
    {
     "name": "stderr",
     "output_type": "stream",
     "text": [
      "                                                                                \r"
     ]
    }
   ],
   "source": [
    "filtered_pi_df = pi_df.join(pi_cnt_df, how='right', on='pi')\n",
    "filtered_pi_df.show(5)"
   ]
  },
  {
   "cell_type": "code",
   "execution_count": 53,
   "id": "a1e58c6e",
   "metadata": {},
   "outputs": [
    {
     "name": "stderr",
     "output_type": "stream",
     "text": [
      "                                                                                \r"
     ]
    },
    {
     "name": "stdout",
     "output_type": "stream",
     "text": [
      "distinct users after filtering: 10242965\n"
     ]
    },
    {
     "name": "stderr",
     "output_type": "stream",
     "text": [
      "                                                                                \r"
     ]
    },
    {
     "name": "stdout",
     "output_type": "stream",
     "text": [
      "distinct pis after filtering: 266679\n"
     ]
    },
    {
     "name": "stderr",
     "output_type": "stream",
     "text": [
      "[Stage 126:==>                                                    (3 + 64) / 67]\r"
     ]
    },
    {
     "name": "stdout",
     "output_type": "stream",
     "text": [
      "distinct hashtags after filtering: 32412\n"
     ]
    },
    {
     "name": "stderr",
     "output_type": "stream",
     "text": [
      "                                                                                \r"
     ]
    }
   ],
   "source": [
    "print(f'distinct users after filtering: {filtered_pi_df.select(\"id\").distinct().count()}')\n",
    "print(f'distinct pis after filtering: {filtered_pi_df.select(\"pi\").distinct().count()}')\n",
    "\n",
    "ht_cnt = filtered_pi_df.filter(pi_df.pi.rlike('#[a-zA-Z0-9(_)]+'))\\\n",
    ".withColumnRenamed('pi', 'hashtag').select(\"hashtag\").distinct().count()\n",
    "\n",
    "print(f'distinct hashtags after filtering: {ht_cnt}')"
   ]
  },
  {
   "cell_type": "code",
   "execution_count": 54,
   "id": "ff27024b",
   "metadata": {},
   "outputs": [
    {
     "data": {
      "text/plain": [
       "(100.10152655439686, 22.0)"
      ]
     },
     "execution_count": 54,
     "metadata": {},
     "output_type": "execute_result"
    }
   ],
   "source": [
    "# extract mean and median of pi \n",
    "mean_pi_cnt, median_pi_cnt = np.mean(counts), np.median(counts)\n",
    "mean_pi_cnt, median_pi_cnt"
   ]
  },
  {
   "cell_type": "code",
   "execution_count": 9,
   "id": "e4a2b222",
   "metadata": {},
   "outputs": [
    {
     "data": {
      "text/plain": [
       "<AxesSubplot:ylabel='Count'>"
      ]
     },
     "execution_count": 9,
     "metadata": {},
     "output_type": "execute_result"
    },
    {
     "data": {
      "image/png": "[encoded data removed]",
      "text/plain": [
       "<Figure size 432x288 with 1 Axes>"
      ]
     },
     "metadata": {
      "needs_background": "light"
     },
     "output_type": "display_data"
    }
   ],
   "source": [
    "sns.histplot(list(counts), log_scale=True)"
   ]
  },
  {
   "cell_type": "code",
   "execution_count": 44,
   "id": "caa37992",
   "metadata": {},
   "outputs": [
    {
     "name": "stderr",
     "output_type": "stream",
     "text": [
      "                                                                                \r"
     ]
    },
    {
     "data": {
      "image/png": "[encoded data removed]",
      "text/plain": [
       "<Figure size 864x360 with 1 Axes>"
      ]
     },
     "metadata": {},
     "output_type": "display_data"
    }
   ],
   "source": [
    "plot_top_k(pi_df, col='pi', k=20, title='top 20 PIs in bios')"
   ]
  },
  {
   "cell_type": "markdown",
   "id": "d9088be0",
   "metadata": {},
   "source": [
    "## pie chart of democrats and republicans based on keywords"
   ]
  },
  {
   "cell_type": "code",
   "execution_count": 64,
   "id": "3ab13efc",
   "metadata": {},
   "outputs": [
    {
     "name": "stderr",
     "output_type": "stream",
     "text": [
      "                                                                                \r"
     ]
    }
   ],
   "source": [
    "\n",
    "dem_kw = [\n",
    "    'biden supporter', 'bidenharris', 'bidenharris2020', 'biden2020', \n",
    "    'democrat', \n",
    "]\n",
    "\n",
    "repub_kw = [\n",
    "    'republican', 'trump supporter', 'trump2020', 'maga',\n",
    "     'conservative'\n",
    "]\n",
    "\n",
    "repubs = pi_df.filter(pi_df.pi.rlike('|'.join(repub_kw))).select('id').distinct()\n",
    "dems = pi_df.filter(pi_df.pi.rlike('|'.join(dem_kw))).select('id').distinct()\n",
    "\n",
    "others = (\n",
    "    pi_df\n",
    "    .select('id').distinct()\n",
    "    .join(repubs, how='left_anti')\n",
    "    .join(dems, how='left_anti')\n",
    "    .select('id')\n",
    ")\n",
    "\n",
    "data = [repubs.count(), dems.count()]\n",
    "labels = ['republican', 'democrat']\n",
    "\n"
   ]
  },
  {
   "cell_type": "code",
   "execution_count": 63,
   "id": "75fd46ad",
   "metadata": {},
   "outputs": [
    {
     "name": "stderr",
     "output_type": "stream",
     "text": [
      "                                                                                \r"
     ]
    },
    {
     "data": {
      "text/plain": [
       "(174788, 47702, 14908979)"
      ]
     },
     "execution_count": 63,
     "metadata": {},
     "output_type": "execute_result"
    }
   ],
   "source": [
    "repubs.count(), dems.count(), pi_df.select('id').distinct().count()"
   ]
  },
  {
   "cell_type": "code",
   "execution_count": 66,
   "id": "dca67010",
   "metadata": {},
   "outputs": [
    {
     "data": {
      "image/png": "[encoded data removed]",
      "text/plain": [
       "<Figure size 432x432 with 1 Axes>"
      ]
     },
     "metadata": {},
     "output_type": "display_data"
    }
   ],
   "source": [
    "colors = sns.color_palette('pastel')[0:5]\n",
    "colors = [colors[0], colors[3],]\n",
    "\n",
    "plt.figure(figsize=(6,6))\n",
    "plt.pie(data, labels=labels, colors=colors, autopct='%.0f%%')\n",
    "plt.show()"
   ]
  },
  {
   "cell_type": "code",
   "execution_count": 67,
   "id": "66feb92b",
   "metadata": {},
   "outputs": [
    {
     "name": "stderr",
     "output_type": "stream",
     "text": [
      "                                                                                \r"
     ]
    },
    {
     "data": {
      "image/png": "[encoded data removed]",
      "text/plain": [
       "<Figure size 864x360 with 1 Axes>"
      ]
     },
     "metadata": {},
     "output_type": "display_data"
    },
    {
     "name": "stderr",
     "output_type": "stream",
     "text": [
      "                                                                                \r"
     ]
    },
    {
     "data": {
      "image/png": "[encoded data removed]",
      "text/plain": [
       "<Figure size 864x360 with 1 Axes>"
      ]
     },
     "metadata": {},
     "output_type": "display_data"
    }
   ],
   "source": [
    "repubs = pi_df.filter(pi_df.pi.rlike('|'.join(repub_kw)))\n",
    "dems = pi_df.filter(pi_df.pi.rlike('|'.join(dem_kw)))\n",
    "\n",
    "plot_top_k(dems, col='pi', k=20, title='top 20 PIs used by democrats')\n",
    "plot_top_k(repubs, col='pi', k=20, title='top 20 PIs used by republicans')"
   ]
  },
  {
   "cell_type": "markdown",
   "id": "63d31901",
   "metadata": {},
   "source": [
    "# Combining with demographic information"
   ]
  },
  {
   "cell_type": "markdown",
   "id": "10f4b137",
   "metadata": {},
   "source": [
    "## loading demographic information"
   ]
  },
  {
   "cell_type": "code",
   "execution_count": 87,
   "id": "3b112acc",
   "metadata": {},
   "outputs": [
    {
     "name": "stderr",
     "output_type": "stream",
     "text": [
      "                                                                                \r"
     ]
    },
    {
     "name": "stdout",
     "output_type": "stream",
     "text": [
      "+-----+-------+---+---------+--------------+---------------+--------------------+--------+\n",
      "|state| gender|age|     race|partisan_score|followers_count|         description|verified|\n",
      "+-----+-------+---+---------+--------------+---------------+--------------------+--------+\n",
      "|   NY|   Male| 39|Caucasian|            95|          24210|Human potential b...|   FALSE|\n",
      "|   CA|   Male| 51|Caucasian|          50.6|          11952|Human Augmentatio...|   FALSE|\n",
      "|   CA|   Male| 33|Caucasian|          98.8|           2503|Food, design, tec...|   FALSE|\n",
      "|   CA|   Male| 44|Caucasian|          85.8|          26525|Here to talk prod...|    TRUE|\n",
      "|   NV|   Male| 48|Caucasian|          52.8|            408|Art Director @Dia...|   FALSE|\n",
      "|   CA| Female| 45|Caucasian|          98.9|             62|rebuilding from 2...|   FALSE|\n",
      "|   CA|   Male| 52|Caucasian|            53|           2683|bassist, designer...|   FALSE|\n",
      "|   NY| Female| 40|Caucasian|          98.6|         238591|sociotechnical re...|    TRUE|\n",
      "|   NE|   Male| 45|Caucasian|           3.7|            776|Programmer, reade...|   FALSE|\n",
      "|   OH|   Male| 35|Caucasian|          95.5|            657|Infosec Professio...|   FALSE|\n",
      "|   CA|   Male| 36|Caucasian|          85.9|           1834|This is the water...|   FALSE|\n",
      "|   NY|   Male| 54|Caucasian|          77.1|          32432|Largehearted Boy ...|   FALSE|\n",
      "|   CA|   Male| 38|Caucasian|          98.7|           4117|Here from the ver...|   FALSE|\n",
      "|   CA|   Male| 59|    Asian|          92.4|           4360|Data and Math gee...|   FALSE|\n",
      "|   CA|   Male| 47|Caucasian|          93.2|          13929|Profit-from-purpo...|   FALSE|\n",
      "|   CA|   Male| 37|    Asian|          97.6|           2192|Head of Growth, A...|   FALSE|\n",
      "|   CA|   Male| 34|Caucasian|          92.5|           6467|Full stack entrep...|   FALSE|\n",
      "|   CA|Unknown| 45|Caucasian|          70.6|           1186|Founder & CEO @ve...|   FALSE|\n",
      "|   CA|   Male| 39|Caucasian|          35.3|           2468|Tech Pioneer, Art...|   FALSE|\n",
      "|   CA|   Male| 47|Caucasian|          90.3|           7395|Director of Commu...|   FALSE|\n",
      "+-----+-------+---+---------+--------------+---------------+--------------------+--------+\n",
      "only showing top 20 rows\n",
      "\n"
     ]
    },
    {
     "data": {
      "text/plain": [
       "(1018000, None)"
      ]
     },
     "execution_count": 87,
     "metadata": {},
     "output_type": "execute_result"
    }
   ],
   "source": [
    "import pandas as pd\n",
    "from pyspark.sql.types import *\n",
    "import pyspark.sql.functions as F\n",
    "\n",
    "schema = StructType([ \n",
    "    StructField(\"state\", StringType(), True),\n",
    "    StructField(\"gender\", StringType(), True), \n",
    "    StructField(\"age\", IntegerType(),True), \n",
    "    StructField(\"race\", StringType(), True), \n",
    "    StructField(\"partisan_score\", FloatType(), True), \n",
    "    StructField(\"followers_count\", IntegerType(), True),\n",
    "    StructField(\"description\", StringType(), True), \n",
    "    StructField(\"verified\", StringType(), True), \n",
    "])\n",
    "\n",
    "df = spark.read.parquet('data/demographic.parquet/', schema=schema)\n",
    "df = df.filter(F.col('partisan_score').isNotNull())\n",
    "\n",
    "df.count(), df.show()\n"
   ]
  },
  {
   "cell_type": "markdown",
   "id": "a40fda8f",
   "metadata": {},
   "source": [
    "## EDA of demographics"
   ]
  },
  {
   "cell_type": "code",
   "execution_count": 88,
   "id": "9e44b3e4",
   "metadata": {},
   "outputs": [
    {
     "data": {
      "text/plain": [
       "789"
      ]
     },
     "execution_count": 88,
     "metadata": {},
     "output_type": "execute_result"
    }
   ],
   "source": [
    "df.filter(F.col('description').contains('blacklivesmatter')).count()"
   ]
  },
  {
   "cell_type": "code",
   "execution_count": 89,
   "id": "44f84601",
   "metadata": {},
   "outputs": [
    {
     "data": {
      "text/plain": [
       "(133, 656)"
      ]
     },
     "execution_count": 89,
     "metadata": {},
     "output_type": "execute_result"
    }
   ],
   "source": [
    "df.filter(F.col('description').contains('blacklivesmatter')).filter(F.col('partisan_score')<35).count(),\\\n",
    "df.filter(F.col('description').contains('blacklivesmatter')).filter(F.col('partisan_score')>=35).count()"
   ]
  },
  {
   "cell_type": "markdown",
   "id": "0f521898",
   "metadata": {},
   "source": [
    "### distribution of demographics"
   ]
  },
  {
   "cell_type": "code",
   "execution_count": 90,
   "id": "92f571a2",
   "metadata": {},
   "outputs": [
    {
     "name": "stderr",
     "output_type": "stream",
     "text": [
      "\r",
      "[Stage 14:======>                                                 (4 + 29) / 33]\r",
      "\r",
      "                                                                                \r"
     ]
    },
    {
     "data": {
      "text/html": [
       "<div>\n",
       "<style scoped>\n",
       "    .dataframe tbody tr th:only-of-type {\n",
       "        vertical-align: middle;\n",
       "    }\n",
       "\n",
       "    .dataframe tbody tr th {\n",
       "        vertical-align: top;\n",
       "    }\n",
       "\n",
       "    .dataframe thead th {\n",
       "        text-align: right;\n",
       "    }\n",
       "</style>\n",
       "<table border=\"1\" class=\"dataframe\">\n",
       "  <thead>\n",
       "    <tr style=\"text-align: right;\">\n",
       "      <th></th>\n",
       "      <th>age</th>\n",
       "      <th>partisan_score</th>\n",
       "      <th>followers_count</th>\n",
       "    </tr>\n",
       "  </thead>\n",
       "  <tbody>\n",
       "    <tr>\n",
       "      <th>0</th>\n",
       "      <td>39</td>\n",
       "      <td>95</td>\n",
       "      <td>24210</td>\n",
       "    </tr>\n",
       "    <tr>\n",
       "      <th>1</th>\n",
       "      <td>51</td>\n",
       "      <td>50.6</td>\n",
       "      <td>11952</td>\n",
       "    </tr>\n",
       "    <tr>\n",
       "      <th>2</th>\n",
       "      <td>33</td>\n",
       "      <td>98.8</td>\n",
       "      <td>2503</td>\n",
       "    </tr>\n",
       "    <tr>\n",
       "      <th>3</th>\n",
       "      <td>44</td>\n",
       "      <td>85.8</td>\n",
       "      <td>26525</td>\n",
       "    </tr>\n",
       "    <tr>\n",
       "      <th>4</th>\n",
       "      <td>48</td>\n",
       "      <td>52.8</td>\n",
       "      <td>408</td>\n",
       "    </tr>\n",
       "    <tr>\n",
       "      <th>...</th>\n",
       "      <td>...</td>\n",
       "      <td>...</td>\n",
       "      <td>...</td>\n",
       "    </tr>\n",
       "    <tr>\n",
       "      <th>991792</th>\n",
       "      <td>23</td>\n",
       "      <td>91.9</td>\n",
       "      <td>47</td>\n",
       "    </tr>\n",
       "    <tr>\n",
       "      <th>991793</th>\n",
       "      <td>24</td>\n",
       "      <td>96.2</td>\n",
       "      <td>128</td>\n",
       "    </tr>\n",
       "    <tr>\n",
       "      <th>991794</th>\n",
       "      <td>24</td>\n",
       "      <td>68.3</td>\n",
       "      <td>15</td>\n",
       "    </tr>\n",
       "    <tr>\n",
       "      <th>991795</th>\n",
       "      <td>19</td>\n",
       "      <td>89.1</td>\n",
       "      <td>96</td>\n",
       "    </tr>\n",
       "    <tr>\n",
       "      <th>991796</th>\n",
       "      <td>54</td>\n",
       "      <td>17</td>\n",
       "      <td>0</td>\n",
       "    </tr>\n",
       "  </tbody>\n",
       "</table>\n",
       "<p>991797 rows × 3 columns</p>\n",
       "</div>"
      ],
      "text/plain": [
       "       age partisan_score followers_count\n",
       "0       39             95           24210\n",
       "1       51           50.6           11952\n",
       "2       33           98.8            2503\n",
       "3       44           85.8           26525\n",
       "4       48           52.8             408\n",
       "...     ..            ...             ...\n",
       "991792  23           91.9              47\n",
       "991793  24           96.2             128\n",
       "991794  24           68.3              15\n",
       "991795  19           89.1              96\n",
       "991796  54             17               0\n",
       "\n",
       "[991797 rows x 3 columns]"
      ]
     },
     "execution_count": 90,
     "metadata": {},
     "output_type": "execute_result"
    }
   ],
   "source": [
    "import seaborn as sns\n",
    "\n",
    "dems_df = (\n",
    "    df\n",
    "    .filter(F.col('followers_count').isNotNull())\n",
    "    .filter(F.col('age').isNotNull())\n",
    "    .toPandas())[[\"age\", \"partisan_score\", \"followers_count\"]]\n",
    "\n",
    "dems_df"
   ]
  },
  {
   "cell_type": "code",
   "execution_count": 91,
   "id": "17885d24",
   "metadata": {},
   "outputs": [],
   "source": [
    "dems_df['partisan_score'] = dems_df['partisan_score'].astype('float')"
   ]
  },
  {
   "cell_type": "code",
   "execution_count": 92,
   "id": "49321ad8",
   "metadata": {},
   "outputs": [
    {
     "data": {
      "text/plain": [
       "<AxesSubplot:xlabel='partisan_score'>"
      ]
     },
     "execution_count": 92,
     "metadata": {},
     "output_type": "execute_result"
    },
    {
     "data": {
      "image/png": "[encoded data removed]",
      "text/plain": [
       "<Figure size 432x288 with 1 Axes>"
      ]
     },
     "metadata": {},
     "output_type": "display_data"
    }
   ],
   "source": [
    "sns.boxplot(x=dems_df['partisan_score'])"
   ]
  },
  {
   "cell_type": "code",
   "execution_count": 93,
   "id": "2524f1ee",
   "metadata": {},
   "outputs": [
    {
     "data": {
      "text/plain": [
       "<AxesSubplot:xlabel='partisan_score', ylabel='Count'>"
      ]
     },
     "execution_count": 93,
     "metadata": {},
     "output_type": "execute_result"
    },
    {
     "data": {
      "image/png": "[encoded data removed]",
      "text/plain": [
       "<Figure size 432x288 with 1 Axes>"
      ]
     },
     "metadata": {},
     "output_type": "display_data"
    }
   ],
   "source": [
    "sns.histplot(dems_df['partisan_score'])"
   ]
  },
  {
   "cell_type": "markdown",
   "id": "94b9f86f",
   "metadata": {},
   "source": [
    "## keeping all partisan_socres and profile bios"
   ]
  },
  {
   "cell_type": "code",
   "execution_count": 117,
   "id": "38bc31a8",
   "metadata": {},
   "outputs": [
    {
     "name": "stdout",
     "output_type": "stream",
     "text": [
      "0 1\n"
     ]
    }
   ],
   "source": [
    "data_clc = df.collect()\n",
    "\n",
    "features = [x.description for x in data_clc]\n",
    "target = [float(x.partisan_score) for x in data_clc]\n",
    "\n",
    "# making a classification problem\n",
    "target = [1 if t >= 35.0 else 0 for t in target]\n",
    "\n",
    "print(min(target), max(target))"
   ]
  },
  {
   "cell_type": "markdown",
   "id": "60e9e54b",
   "metadata": {},
   "source": [
    "### save and load dataset"
   ]
  },
  {
   "cell_type": "code",
   "execution_count": 1,
   "id": "e8ea8e9a",
   "metadata": {},
   "outputs": [],
   "source": [
    "import pickle\n",
    "\n",
    "# save\n",
    "\n",
    "# dataset = list(zip(features, target))\n",
    "# with open('bio_dem_dataset.pkl', 'wb') as f:\n",
    "#     pickle.dump(dataset, f)\n",
    "    \n",
    "    \n",
    "# load\n",
    "\n",
    "with open('bio_dem_dataset.pkl', 'rb') as f:\n",
    "    dataset = pickle.load(f)"
   ]
  },
  {
   "cell_type": "markdown",
   "id": "82f94e56",
   "metadata": {},
   "source": [
    "### creating train, test and validation sets"
   ]
  },
  {
   "cell_type": "code",
   "execution_count": 4,
   "id": "c7e05228",
   "metadata": {},
   "outputs": [
    {
     "name": "stdout",
     "output_type": "stream",
     "text": [
      "train set size: 732960\n",
      "test set size: 203600\n",
      "validation set size: 81440\n"
     ]
    }
   ],
   "source": [
    "from sklearn.model_selection import train_test_split\n",
    "\n",
    "SEED = 100001\n",
    "\n",
    "train_ds, test_ds = train_test_split(dataset, test_size=0.2, shuffle=True, random_state=SEED)\n",
    "train_ds, valid_ds = train_test_split(train_ds, test_size=0.1, random_state=SEED)\n",
    "\n",
    "print(f\"train set size: {len(train_ds)}\")\n",
    "print(f\"test set size: {len(test_ds)}\")\n",
    "print(f\"validation set size: {len(valid_ds)}\")"
   ]
  },
  {
   "cell_type": "markdown",
   "id": "69af02fb",
   "metadata": {},
   "source": [
    "## getting embedding vectors from bios"
   ]
  },
  {
   "cell_type": "markdown",
   "id": "73f705f8",
   "metadata": {},
   "source": [
    "### tf-idf vectors"
   ]
  },
  {
   "cell_type": "code",
   "execution_count": 4,
   "id": "5320b98a",
   "metadata": {},
   "outputs": [
    {
     "name": "stdout",
     "output_type": "stream",
     "text": [
      "(732960, 1800)\n"
     ]
    }
   ],
   "source": [
    "from sklearn.feature_extraction.text import TfidfVectorizer\n",
    "import umap\n",
    "\n",
    "vectorizer = TfidfVectorizer(\n",
    "    lowercase=True,\n",
    "    stop_words='english',\n",
    "    min_df=500\n",
    "    \n",
    ")\n",
    "\n",
    "train_features = [x[0] for x in train_ds]\n",
    "train_tfidf = vectorizer.fit_transform(train_features)\n",
    "\n",
    "test_features = [x[0] for x in test_ds]\n",
    "valid_features = [x[0] for x in valid_ds]\n",
    "\n",
    "test_tfidf = vectorizer.transform(test_features)\n",
    "valid_tfidf = vectorizer.transform(valid_features)\n",
    "\n",
    "print(train_tfidf.shape)\n"
   ]
  },
  {
   "cell_type": "code",
   "execution_count": 5,
   "id": "9fc02e6f",
   "metadata": {},
   "outputs": [],
   "source": [
    "test_y = [x[1] for x in test_ds]\n",
    "valid_y = [x[1] for x in valid_ds]\n",
    "train_y = [x[1] for x in train_ds]"
   ]
  },
  {
   "cell_type": "markdown",
   "id": "17fdb71a",
   "metadata": {},
   "source": [
    "## helper functions"
   ]
  },
  {
   "cell_type": "code",
   "execution_count": 5,
   "id": "99c0cb7b",
   "metadata": {},
   "outputs": [],
   "source": [
    "from sklearn.metrics import precision_recall_fscore_support, accuracy_score\n",
    "\n",
    "def calculate_metrics(preds, labels):\n",
    "    prec, recall, f1, _ = precision_recall_fscore_support(labels, preds)\n",
    "    acc = accuracy_score(labels, preds)\n",
    "    return prec[0], recall[0], f1[0], acc\n"
   ]
  },
  {
   "cell_type": "markdown",
   "id": "910df57b",
   "metadata": {},
   "source": [
    "## Logistic Regression"
   ]
  },
  {
   "cell_type": "markdown",
   "id": "3ddd7757",
   "metadata": {},
   "source": [
    "### train model and find best parameters"
   ]
  },
  {
   "cell_type": "code",
   "execution_count": 7,
   "id": "bd3799ce",
   "metadata": {},
   "outputs": [
    {
     "name": "stdout",
     "output_type": "stream",
     "text": [
      "CPU times: user 6.32 s, sys: 333 ms, total: 6.66 s\n",
      "Wall time: 53.1 s\n"
     ]
    }
   ],
   "source": [
    "%%time\n",
    "\n",
    "from sklearn.linear_model import LogisticRegression\n",
    "\n",
    "\n",
    "\n",
    "\n",
    "train_acc = []\n",
    "train_f1 = [] \n",
    "train_prec = []\n",
    "train_recall = []\n",
    "\n",
    "valid_acc = []\n",
    "valid_f1 = [] \n",
    "valid_prec = []\n",
    "valid_recall = []\n",
    "\n",
    "for max_iter in [5, 10, 25, 50, 100, 150, 200]:\n",
    "    clf = LogisticRegression(\n",
    "        penalty='l2',\n",
    "        max_iter=max_iter,\n",
    "        verbose=0,\n",
    "        n_jobs=10\n",
    "    ).fit(train_tfidf, train_y)\n",
    "    \n",
    "    preds = clf.predict(train_tfidf)\n",
    "    tp, tr, tf, ta = calculate_metrics(preds, train_y)\n",
    "    train_acc.append(ta)\n",
    "    train_prec.append(tp)\n",
    "    train_recall.append(tr)\n",
    "    train_f1.append(tf)\n",
    "    \n",
    "    preds = clf.predict(valid_tfidf)\n",
    "    tp, tr, tf, ta = calculate_metrics(preds, valid_y)\n",
    "    valid_acc.append(ta)\n",
    "    valid_prec.append(tp)\n",
    "    valid_recall.append(tr)\n",
    "    valid_f1.append(tf)\n",
    "    \n",
    "    \n"
   ]
  },
  {
   "cell_type": "markdown",
   "id": "2d9efb4e",
   "metadata": {},
   "source": [
    "### visualize metrics"
   ]
  },
  {
   "cell_type": "code",
   "execution_count": 8,
   "id": "7a72716c",
   "metadata": {
    "scrolled": false
   },
   "outputs": [
    {
     "data": {
      "image/png": "[encoded data removed]",
      "text/plain": [
       "<Figure size 432x288 with 1 Axes>"
      ]
     },
     "metadata": {},
     "output_type": "display_data"
    },
    {
     "data": {
      "image/png": "[encoded data removed]",
      "text/plain": [
       "<Figure size 432x288 with 1 Axes>"
      ]
     },
     "metadata": {},
     "output_type": "display_data"
    }
   ],
   "source": [
    "import matplotlib.pyplot as plt\n",
    "import seaborn as sns\n",
    "\n",
    "sns.set_theme()\n",
    "\n",
    "iters = [5, 10, 25, 50, 100, 150, 200]\n",
    "\n",
    "sns.lineplot(x=iters, y=valid_acc)\n",
    "sns.lineplot(x=iters, y=train_acc)\n",
    "plt.legend(['validation', 'train'])\n",
    "plt.title(\"accuracy scores\")\n",
    "plt.show()\n",
    "\n",
    "sns.lineplot(x=iters, y=valid_f1)\n",
    "sns.lineplot(x=iters, y=train_f1)\n",
    "plt.legend(['validation', 'train'])\n",
    "plt.title(\"f1 scores\")\n",
    "plt.show()\n"
   ]
  },
  {
   "cell_type": "markdown",
   "id": "49bd329b",
   "metadata": {},
   "source": [
    "#### pick best model and report test metrics"
   ]
  },
  {
   "cell_type": "code",
   "execution_count": 9,
   "id": "644acdc9",
   "metadata": {},
   "outputs": [
    {
     "name": "stderr",
     "output_type": "stream",
     "text": [
      "[Parallel(n_jobs=10)]: Using backend LokyBackend with 10 concurrent workers.\n",
      "[Parallel(n_jobs=10)]: Done   1 out of   1 | elapsed:    4.9s finished\n"
     ]
    }
   ],
   "source": [
    "clf = LogisticRegression(\n",
    "    penalty='l2',\n",
    "    max_iter=25,\n",
    "    verbose=1,\n",
    "    n_jobs=10\n",
    ").fit(train_tfidf, train_y)\n",
    "\n",
    "preds = clf.predict(test_tfidf)\n",
    "tp, tr, tf, ta = calculate_metrics(preds, test_y)"
   ]
  },
  {
   "cell_type": "code",
   "execution_count": 10,
   "id": "e2d62d31",
   "metadata": {
    "scrolled": true
   },
   "outputs": [
    {
     "name": "stdout",
     "output_type": "stream",
     "text": [
      "+----------------+----------+\n",
      "| test_precision | 0.602238 |\n",
      "+----------------+----------+\n",
      "| test_recall    | 0.272909 |\n",
      "+----------------+----------+\n",
      "| test_f1        | 0.375608 |\n",
      "+----------------+----------+\n",
      "| test_accuracy  | 0.647559 |\n",
      "+----------------+----------+\n"
     ]
    }
   ],
   "source": [
    "import tabulate\n",
    "\n",
    "print(tabulate.tabulate([['test_precision', tp], ['test_recall', tr], ['test_f1', tf], ['test_accuracy', ta]], tablefmt='grid'))"
   ]
  },
  {
   "cell_type": "markdown",
   "id": "fe30ee3c",
   "metadata": {},
   "source": [
    "## SVM"
   ]
  },
  {
   "cell_type": "markdown",
   "id": "20830d22",
   "metadata": {},
   "source": [
    "### train model and find best parameters"
   ]
  },
  {
   "cell_type": "code",
   "execution_count": 43,
   "id": "47adb27f",
   "metadata": {},
   "outputs": [
    {
     "name": "stderr",
     "output_type": "stream",
     "text": [
      "/projects/academic/kjoseph/navid/anaconda3/envs/py38/lib/python3.8/site-packages/sklearn/svm/_base.py:284: ConvergenceWarning: Solver terminated early (max_iter=5).  Consider pre-processing your data with StandardScaler or MinMaxScaler.\n",
      "  warnings.warn(\n",
      "/projects/academic/kjoseph/navid/anaconda3/envs/py38/lib/python3.8/site-packages/sklearn/svm/_base.py:284: ConvergenceWarning: Solver terminated early (max_iter=10).  Consider pre-processing your data with StandardScaler or MinMaxScaler.\n",
      "  warnings.warn(\n",
      "/projects/academic/kjoseph/navid/anaconda3/envs/py38/lib/python3.8/site-packages/sklearn/svm/_base.py:284: ConvergenceWarning: Solver terminated early (max_iter=25).  Consider pre-processing your data with StandardScaler or MinMaxScaler.\n",
      "  warnings.warn(\n",
      "/projects/academic/kjoseph/navid/anaconda3/envs/py38/lib/python3.8/site-packages/sklearn/svm/_base.py:284: ConvergenceWarning: Solver terminated early (max_iter=50).  Consider pre-processing your data with StandardScaler or MinMaxScaler.\n",
      "  warnings.warn(\n",
      "/projects/academic/kjoseph/navid/anaconda3/envs/py38/lib/python3.8/site-packages/sklearn/svm/_base.py:284: ConvergenceWarning: Solver terminated early (max_iter=100).  Consider pre-processing your data with StandardScaler or MinMaxScaler.\n",
      "  warnings.warn(\n",
      "/projects/academic/kjoseph/navid/anaconda3/envs/py38/lib/python3.8/site-packages/sklearn/svm/_base.py:284: ConvergenceWarning: Solver terminated early (max_iter=150).  Consider pre-processing your data with StandardScaler or MinMaxScaler.\n",
      "  warnings.warn(\n",
      "/projects/academic/kjoseph/navid/anaconda3/envs/py38/lib/python3.8/site-packages/sklearn/svm/_base.py:284: ConvergenceWarning: Solver terminated early (max_iter=200).  Consider pre-processing your data with StandardScaler or MinMaxScaler.\n",
      "  warnings.warn(\n"
     ]
    },
    {
     "name": "stdout",
     "output_type": "stream",
     "text": [
      "CPU times: user 1min 19s, sys: 1.17 s, total: 1min 20s\n",
      "Wall time: 1min 20s\n"
     ]
    }
   ],
   "source": [
    "%%time\n",
    "\n",
    "from sklearn.svm import SVC\n",
    "\n",
    "\n",
    "train_acc = []\n",
    "train_f1 = [] \n",
    "train_prec = []\n",
    "train_recall = []\n",
    "\n",
    "valid_acc = []\n",
    "valid_f1 = [] \n",
    "valid_prec = []\n",
    "valid_recall = []\n",
    "\n",
    "for max_iter in [5, 10, 25, 50, 100, 150, 200]:\n",
    "    clf = SVC(\n",
    "        max_iter=max_iter,\n",
    "        verbose=0,\n",
    "    ).fit(train_tfidf, train_y)\n",
    "    \n",
    "    preds = clf.predict(train_tfidf)\n",
    "    tp, tr, tf, ta = calculate_metrics(preds, train_y)\n",
    "    train_acc.append(ta)\n",
    "    train_prec.append(tp)\n",
    "    train_recall.append(tr)\n",
    "    train_f1.append(tf)\n",
    "    \n",
    "    preds = clf.predict(valid_tfidf)\n",
    "    tp, tr, tf, ta = calculate_metrics(preds, valid_y)\n",
    "    valid_acc.append(ta)\n",
    "    valid_prec.append(tp)\n",
    "    valid_recall.append(tr)\n",
    "    valid_f1.append(tf)\n",
    "    \n",
    "    \n"
   ]
  },
  {
   "cell_type": "markdown",
   "id": "dbaf85dd",
   "metadata": {},
   "source": [
    "### visualize metrics"
   ]
  },
  {
   "cell_type": "code",
   "execution_count": 44,
   "id": "17567a3f",
   "metadata": {},
   "outputs": [
    {
     "data": {
      "image/png": "[encoded data removed]",
      "text/plain": [
       "<Figure size 432x288 with 1 Axes>"
      ]
     },
     "metadata": {},
     "output_type": "display_data"
    },
    {
     "data": {
      "image/png": "[encoded data removed]",
      "text/plain": [
       "<Figure size 432x288 with 1 Axes>"
      ]
     },
     "metadata": {},
     "output_type": "display_data"
    }
   ],
   "source": [
    "import matplotlib.pyplot as plt\n",
    "import seaborn as sns\n",
    "\n",
    "sns.set_theme()\n",
    "\n",
    "iters = [5, 10, 25, 50, 100, 150, 200]\n",
    "\n",
    "sns.lineplot(x=iters, y=valid_acc)\n",
    "sns.lineplot(x=iters, y=train_acc)\n",
    "plt.legend(['validation', 'train'])\n",
    "plt.title(\"accuracy scores\")\n",
    "plt.show()\n",
    "\n",
    "sns.lineplot(x=iters, y=valid_f1)\n",
    "sns.lineplot(x=iters, y=train_f1)\n",
    "plt.legend(['validation', 'train'])\n",
    "plt.title(\"f1 scores\")\n",
    "plt.show()\n"
   ]
  },
  {
   "cell_type": "markdown",
   "id": "d009b810",
   "metadata": {},
   "source": [
    "#### pick best model and report test metrics"
   ]
  },
  {
   "cell_type": "code",
   "execution_count": null,
   "id": "a2616e9c",
   "metadata": {},
   "outputs": [
    {
     "name": "stdout",
     "output_type": "stream",
     "text": [
      "[LibSVM]...."
     ]
    }
   ],
   "source": [
    "clf = SVC(\n",
    "    max_iter=50,\n",
    "    verbose=1,\n",
    ").fit(train_tfidf, train_y)\n",
    "\n",
    "preds = clf.predict(test_tfidf)\n",
    "tp_svm, tr_svm, tf_svm, ta_svm = calculate_metrics(preds, test_y)"
   ]
  },
  {
   "cell_type": "code",
   "execution_count": 46,
   "id": "312ff057",
   "metadata": {
    "scrolled": true
   },
   "outputs": [
    {
     "name": "stdout",
     "output_type": "stream",
     "text": [
      "+----------------+----------+\n",
      "| test_precision | 0.388712 |\n",
      "+----------------+----------+\n",
      "| test_recall    | 0.981122 |\n",
      "+----------------+----------+\n",
      "| test_f1        | 0.556818 |\n",
      "+----------------+----------+\n",
      "| test_accuracy  | 0.39335  |\n",
      "+----------------+----------+\n"
     ]
    }
   ],
   "source": [
    "import tabulate\n",
    "\n",
    "print(tabulate.tabulate([['test_precision', tp_svm], ['test_recall', tr_svm], ['test_f1', tf_svm], ['test_accuracy', ta_svm]], tablefmt='grid'))"
   ]
  },
  {
   "cell_type": "markdown",
   "id": "c01a3b9e",
   "metadata": {},
   "source": [
    "## Random Forest along with dimension reduction"
   ]
  },
  {
   "cell_type": "markdown",
   "id": "3d662f07",
   "metadata": {},
   "source": [
    "### using umap for dimension reduction"
   ]
  },
  {
   "cell_type": "code",
   "execution_count": null,
   "id": "055026f0",
   "metadata": {},
   "outputs": [
    {
     "name": "stdout",
     "output_type": "stream",
     "text": [
      "sample size: 73296\n",
      "huggingface/tokenizers: The current process just got forked, after parallelism has already been used. Disabling parallelism to avoid deadlocks...\n",
      "To disable this warning, you can either:\n",
      "\t- Avoid using `tokenizers` before the fork if possible\n",
      "\t- Explicitly set the environment variable TOKENIZERS_PARALLELISM=(true | false)\n",
      "finished fitting umap\n"
     ]
    },
    {
     "name": "stderr",
     "output_type": "stream",
     "text": [
      "/projects/academic/kjoseph/navid/anaconda3/envs/py38/lib/python3.8/site-packages/scipy/sparse/_index.py:125: SparseEfficiencyWarning: Changing the sparsity structure of a csr_matrix is expensive. lil_matrix is more efficient.\n",
      "  self._set_arrayXarray(i, j, x)\n"
     ]
    }
   ],
   "source": [
    "%%time\n",
    "\n",
    "import numpy as np\n",
    "import umap\n",
    "\n",
    "reducer = umap.UMAP(\n",
    "    n_components=3,\n",
    "    n_jobs=20,\n",
    "#     low_memory=True\n",
    ")\n",
    "\n",
    "sample_indices = np.random.randint(0, train_tfidf.shape[0], size=train_tfidf.shape[0]//10)\n",
    "sample = train_tfidf[sample_indices]\n",
    "print(f\"sample size: {sample.shape[0]}\")\n",
    "\n",
    "reducer = reducer.fit(sample)\n",
    "print(\"finished fitting umap\")\n",
    "\n",
    "train_umap = reducer.transform(train_tfidf)\n",
    "valid_umap = reducer.transform(valid_tfidf)\n",
    "test_umap = reducer.transform(test_tfidf)\n"
   ]
  },
  {
   "cell_type": "markdown",
   "id": "f8ad8fa7",
   "metadata": {},
   "source": [
    "### saving intermediate data"
   ]
  },
  {
   "cell_type": "code",
   "execution_count": 28,
   "id": "01725bcc",
   "metadata": {},
   "outputs": [],
   "source": [
    "with open('train_umap.pkl', 'wb') as f:\n",
    "    pickle.dump(train_umap, f)\n",
    "    \n",
    "with open('valid_umap.pkl', 'wb') as f:\n",
    "    pickle.dump(valid_umap, f)\n",
    "    \n",
    "with open('test_umap.pkl', 'wb') as f:\n",
    "    pickle.dump(test_umap, f)\n",
    "    "
   ]
  },
  {
   "cell_type": "markdown",
   "id": "6df8e3c3",
   "metadata": {},
   "source": [
    "### loading intermediate data"
   ]
  },
  {
   "cell_type": "code",
   "execution_count": 75,
   "id": "b3ddc8c1",
   "metadata": {},
   "outputs": [],
   "source": [
    "with open('train_umap.pkl', 'rb') as f:\n",
    "    train_umap = pickle.load(f)\n",
    "    \n",
    "with open('valid_umap.pkl', 'rb') as f:\n",
    "    valid_umap = pickle.load(f)\n",
    "    \n",
    "with open('test_umap.pkl', 'rb') as f:\n",
    "    test_umap = pickle.load(f)\n"
   ]
  },
  {
   "cell_type": "markdown",
   "id": "b1da57f8",
   "metadata": {},
   "source": [
    "### grid-search for best parameters"
   ]
  },
  {
   "cell_type": "code",
   "execution_count": 76,
   "id": "228f8181",
   "metadata": {},
   "outputs": [
    {
     "name": "stdout",
     "output_type": "stream",
     "text": [
      "train prec: 0.6295604532436807, recall:0.01772648068353534, f1:0.03448205310072497 and acc:0.6137006112202575\n",
      "valid prec: 0.6416666666666667, recall:0.01691511062294053, f1:0.032961320898945115 and acc:0.6116527504911591\n",
      "train prec: 0.6181979714222255, recall:0.029275338945316472, f1:0.0559033240719044 and acc:0.6152177472167649\n",
      "valid prec: 0.600547195622435, recall:0.027553742350541345, f1:0.052690011102109406 and acc:0.612340373280943\n",
      "train prec: 0.6108818177783695, recall:0.048260483902069606, f1:0.08945398302551372 and acc:0.6176790002182929\n",
      "valid prec: 0.5785773366418527, recall:0.0439039698729013, f1:0.08161479450456494 and acc:0.6133963654223968\n",
      "train prec: 0.6256355681683812, recall:0.018550397408343647, f1:0.03603241623535821 and acc:0.6137606417812704\n",
      "valid prec: 0.6270810210876804, recall:0.017731052879334692, f1:0.03448696819874259 and acc:0.6115422396856581\n",
      "train prec: 0.6221234724646881, recall:0.027487264351051633, f1:0.052648367329807766 and acc:0.6150608491595722\n",
      "valid prec: 0.6068313953488372, recall:0.026204299388043306, f1:0.05023916248006979 and acc:0.612340373280943\n",
      "train prec: 0.6122244944330834, recall:0.04723321751752138, f1:0.08770033981277747 and acc:0.6175998690242305\n",
      "valid prec: 0.5761843790012804, recall:0.042366232543543075, f1:0.07892890551917679 and acc:0.6131139489194499\n",
      "CPU times: user 13min 43s, sys: 1.76 s, total: 13min 45s\n",
      "Wall time: 1min 30s\n"
     ]
    }
   ],
   "source": [
    "%%time\n",
    "\n",
    "from sklearn.ensemble import RandomForestClassifier\n",
    "from sklearn.metrics import precision_recall_fscore_support, accuracy_score\n",
    "\n",
    "\n",
    "f1s = []\n",
    "best_f1 = 0\n",
    "best_clf = None\n",
    "\n",
    "for ne in [100, 200]:\n",
    "    for md in [5, 7, 9]:\n",
    "        clf = RandomForestClassifier(\n",
    "            n_estimators=ne,\n",
    "            max_depth=md,\n",
    "            n_jobs=10,\n",
    "            verbose=0,\n",
    "            random_state=31103\n",
    "        ).fit(train_umap, train_y)\n",
    "\n",
    "        preds = clf.predict(train_umap)\n",
    "        tp, tr, tf, ta = calculate_metrics(preds, train_y)\n",
    "        \n",
    "        print(f\"train prec: {tp}, recall:{tr}, f1:{tf} and acc:{ta}\")\n",
    "        \n",
    "        preds = clf.predict(valid_umap)\n",
    "        tp, tr, tf, ta = calculate_metrics(preds, valid_y)\n",
    "        f1s.append(tf)\n",
    "        print(f\"valid prec: {tp}, recall:{tr}, f1:{tf} and acc:{ta}\")\n",
    "        \n",
    "        if tf > best_f1:\n",
    "            best_f1 = tf\n",
    "            best_clf = clf\n",
    "            \n",
    "        \n"
   ]
  },
  {
   "cell_type": "code",
   "execution_count": 80,
   "id": "0c4162f1",
   "metadata": {},
   "outputs": [
    {
     "data": {
      "text/plain": [
       "(array([0, 1, 2, 3, 4, 5]),\n",
       " [Text(0, 0, 'n_estimators=100 depth=5'),\n",
       "  Text(1, 0, 'n_estimators=100 depth=7'),\n",
       "  Text(2, 0, 'n_estimators=100 depth=9'),\n",
       "  Text(3, 0, 'n_estimators=200 depth=5'),\n",
       "  Text(4, 0, 'n_estimators=200 depth=7'),\n",
       "  Text(5, 0, 'n_estimators=200 depth=9')])"
      ]
     },
     "execution_count": 80,
     "metadata": {},
     "output_type": "execute_result"
    },
    {
     "data": {
      "image/png": "[encoded data removed]",
      "text/plain": [
       "<Figure size 432x288 with 1 Axes>"
      ]
     },
     "metadata": {},
     "output_type": "display_data"
    }
   ],
   "source": [
    "xs = [\n",
    "    'n_estimators=100 depth=5',\n",
    "    'n_estimators=100 depth=7',\n",
    "    'n_estimators=100 depth=9',\n",
    "    'n_estimators=200 depth=5',\n",
    "    'n_estimators=200 depth=7',\n",
    "    'n_estimators=200 depth=9',\n",
    "]\n",
    "sns.barplot(x=xs, y=f1s)\n",
    "\n",
    "plt.xticks(rotation=45)"
   ]
  },
  {
   "cell_type": "markdown",
   "id": "ce4756ab",
   "metadata": {},
   "source": [
    "### evaluate best model on test dataset"
   ]
  },
  {
   "cell_type": "code",
   "execution_count": 33,
   "id": "9e812ccd",
   "metadata": {},
   "outputs": [
    {
     "name": "stdout",
     "output_type": "stream",
     "text": [
      "test prec: 0.5697074010327022, recall:0.0418537017133464, f1:0.0779786795453207 and acc:0.6155451866404715\n"
     ]
    }
   ],
   "source": [
    "clf = RandomForestClassifier(\n",
    "    n_estimators=100,\n",
    "    max_depth=9,\n",
    "    n_jobs=10,\n",
    "    verbose=0,\n",
    "    random_state=SEED\n",
    ").fit(train_umap, train_y)\n",
    "\n",
    "preds = clf.predict(test_umap)\n",
    "tp_rf, tr_rf, tf_rf, ta_rf = calculate_metrics(preds, test_y)\n",
    "\n",
    "print(f\"test prec: {tp_rf}, recall:{tr_rf}, f1:{tf_rf} and acc:{ta_rf}\")"
   ]
  },
  {
   "cell_type": "markdown",
   "id": "c14cf860",
   "metadata": {
    "heading_collapsed": true
   },
   "source": [
    "## Logistic regression with dimension reduction"
   ]
  },
  {
   "cell_type": "markdown",
   "id": "61be87ad",
   "metadata": {
    "hidden": true
   },
   "source": [
    "### train model and find best parameters"
   ]
  },
  {
   "cell_type": "code",
   "execution_count": 34,
   "id": "a5b1751d",
   "metadata": {
    "hidden": true
   },
   "outputs": [
    {
     "name": "stdout",
     "output_type": "stream",
     "text": [
      "huggingface/tokenizers: The current process just got forked, after parallelism has already been used. Disabling parallelism to avoid deadlocks...\n",
      "To disable this warning, you can either:\n",
      "\t- Avoid using `tokenizers` before the fork if possible\n",
      "\t- Explicitly set the environment variable TOKENIZERS_PARALLELISM=(true | false)\n",
      "huggingface/tokenizers: The current process just got forked, after parallelism has already been used. Disabling parallelism to avoid deadlocks...\n",
      "To disable this warning, you can either:\n",
      "\t- Avoid using `tokenizers` before the fork if possible\n",
      "\t- Explicitly set the environment variable TOKENIZERS_PARALLELISM=(true | false)\n",
      "huggingface/tokenizers: The current process just got forked, after parallelism has already been used. Disabling parallelism to avoid deadlocks...\n",
      "To disable this warning, you can either:\n",
      "\t- Avoid using `tokenizers` before the fork if possible\n",
      "\t- Explicitly set the environment variable TOKENIZERS_PARALLELISM=(true | false)\n",
      "huggingface/tokenizers: The current process just got forked, after parallelism has already been used. Disabling parallelism to avoid deadlocks...\n",
      "To disable this warning, you can either:\n",
      "\t- Avoid using `tokenizers` before the fork if possible\n",
      "\t- Explicitly set the environment variable TOKENIZERS_PARALLELISM=(true | false)\n",
      "huggingface/tokenizers: The current process just got forked, after parallelism has already been used. Disabling parallelism to avoid deadlocks...\n",
      "To disable this warning, you can either:\n",
      "\t- Avoid using `tokenizers` before the fork if possible\n",
      "\t- Explicitly set the environment variable TOKENIZERS_PARALLELISM=(true | false)\n",
      "huggingface/tokenizers: The current process just got forked, after parallelism has already been used. Disabling parallelism to avoid deadlocks...\n",
      "To disable this warning, you can either:\n",
      "\t- Avoid using `tokenizers` before the fork if possible\n",
      "\t- Explicitly set the environment variable TOKENIZERS_PARALLELISM=(true | false)\n",
      "huggingface/tokenizers: The current process just got forked, after parallelism has already been used. Disabling parallelism to avoid deadlocks...\n",
      "To disable this warning, you can either:\n",
      "\t- Avoid using `tokenizers` before the fork if possible\n",
      "\t- Explicitly set the environment variable TOKENIZERS_PARALLELISM=(true | false)\n",
      "huggingface/tokenizers: The current process just got forked, after parallelism has already been used. Disabling parallelism to avoid deadlocks...\n",
      "To disable this warning, you can either:\n",
      "\t- Avoid using `tokenizers` before the fork if possible\n",
      "\t- Explicitly set the environment variable TOKENIZERS_PARALLELISM=(true | false)\n",
      "huggingface/tokenizers: The current process just got forked, after parallelism has already been used. Disabling parallelism to avoid deadlocks...\n",
      "To disable this warning, you can either:\n",
      "\t- Avoid using `tokenizers` before the fork if possible\n",
      "\t- Explicitly set the environment variable TOKENIZERS_PARALLELISM=(true | false)\n",
      "huggingface/tokenizers: The current process just got forked, after parallelism has already been used. Disabling parallelism to avoid deadlocks...\n",
      "To disable this warning, you can either:\n",
      "\t- Avoid using `tokenizers` before the fork if possible\n",
      "\t- Explicitly set the environment variable TOKENIZERS_PARALLELISM=(true | false)\n"
     ]
    },
    {
     "name": "stderr",
     "output_type": "stream",
     "text": [
      "/projects/academic/kjoseph/navid/anaconda3/envs/py38/lib/python3.8/site-packages/sklearn/metrics/_classification.py:1308: UndefinedMetricWarning: Precision and F-score are ill-defined and being set to 0.0 in labels with no predicted samples. Use `zero_division` parameter to control this behavior.\n",
      "  _warn_prf(average, modifier, msg_start, len(result))\n",
      "/projects/academic/kjoseph/navid/anaconda3/envs/py38/lib/python3.8/site-packages/sklearn/metrics/_classification.py:1308: UndefinedMetricWarning: Precision and F-score are ill-defined and being set to 0.0 in labels with no predicted samples. Use `zero_division` parameter to control this behavior.\n",
      "  _warn_prf(average, modifier, msg_start, len(result))\n",
      "/projects/academic/kjoseph/navid/anaconda3/envs/py38/lib/python3.8/site-packages/sklearn/metrics/_classification.py:1308: UndefinedMetricWarning: Precision and F-score are ill-defined and being set to 0.0 in labels with no predicted samples. Use `zero_division` parameter to control this behavior.\n",
      "  _warn_prf(average, modifier, msg_start, len(result))\n",
      "/projects/academic/kjoseph/navid/anaconda3/envs/py38/lib/python3.8/site-packages/sklearn/metrics/_classification.py:1308: UndefinedMetricWarning: Precision and F-score are ill-defined and being set to 0.0 in labels with no predicted samples. Use `zero_division` parameter to control this behavior.\n",
      "  _warn_prf(average, modifier, msg_start, len(result))\n",
      "/projects/academic/kjoseph/navid/anaconda3/envs/py38/lib/python3.8/site-packages/sklearn/metrics/_classification.py:1308: UndefinedMetricWarning: Precision and F-score are ill-defined and being set to 0.0 in labels with no predicted samples. Use `zero_division` parameter to control this behavior.\n",
      "  _warn_prf(average, modifier, msg_start, len(result))\n",
      "/projects/academic/kjoseph/navid/anaconda3/envs/py38/lib/python3.8/site-packages/sklearn/metrics/_classification.py:1308: UndefinedMetricWarning: Precision and F-score are ill-defined and being set to 0.0 in labels with no predicted samples. Use `zero_division` parameter to control this behavior.\n",
      "  _warn_prf(average, modifier, msg_start, len(result))\n",
      "/projects/academic/kjoseph/navid/anaconda3/envs/py38/lib/python3.8/site-packages/sklearn/metrics/_classification.py:1308: UndefinedMetricWarning: Precision and F-score are ill-defined and being set to 0.0 in labels with no predicted samples. Use `zero_division` parameter to control this behavior.\n",
      "  _warn_prf(average, modifier, msg_start, len(result))\n",
      "/projects/academic/kjoseph/navid/anaconda3/envs/py38/lib/python3.8/site-packages/sklearn/metrics/_classification.py:1308: UndefinedMetricWarning: Precision and F-score are ill-defined and being set to 0.0 in labels with no predicted samples. Use `zero_division` parameter to control this behavior.\n",
      "  _warn_prf(average, modifier, msg_start, len(result))\n",
      "/projects/academic/kjoseph/navid/anaconda3/envs/py38/lib/python3.8/site-packages/sklearn/metrics/_classification.py:1308: UndefinedMetricWarning: Precision and F-score are ill-defined and being set to 0.0 in labels with no predicted samples. Use `zero_division` parameter to control this behavior.\n",
      "  _warn_prf(average, modifier, msg_start, len(result))\n",
      "/projects/academic/kjoseph/navid/anaconda3/envs/py38/lib/python3.8/site-packages/sklearn/metrics/_classification.py:1308: UndefinedMetricWarning: Precision and F-score are ill-defined and being set to 0.0 in labels with no predicted samples. Use `zero_division` parameter to control this behavior.\n",
      "  _warn_prf(average, modifier, msg_start, len(result))\n"
     ]
    },
    {
     "name": "stdout",
     "output_type": "stream",
     "text": [
      "CPU times: user 8.48 s, sys: 20.4 s, total: 28.8 s\n",
      "Wall time: 58.6 s\n"
     ]
    }
   ],
   "source": [
    "%%time\n",
    "\n",
    "from sklearn.linear_model import LogisticRegression\n",
    "\n",
    "\n",
    "\n",
    "\n",
    "train_acc = []\n",
    "train_f1 = [] \n",
    "train_prec = []\n",
    "train_recall = []\n",
    "\n",
    "valid_acc = []\n",
    "valid_f1 = [] \n",
    "valid_prec = []\n",
    "valid_recall = []\n",
    "\n",
    "for max_iter in [5, 10, 25, 50, 100, 150, 200]:\n",
    "    clf = LogisticRegression(\n",
    "        penalty='l2',\n",
    "        max_iter=max_iter,\n",
    "        verbose=0,\n",
    "        n_jobs=10\n",
    "    ).fit(train_umap, train_y)\n",
    "    \n",
    "    preds = clf.predict(train_umap)\n",
    "    tp, tr, tf, ta = calculate_metrics(preds, train_y)\n",
    "    train_acc.append(ta)\n",
    "    train_prec.append(tp)\n",
    "    train_recall.append(tr)\n",
    "    train_f1.append(tf)\n",
    "    \n",
    "    preds = clf.predict(valid_umap)\n",
    "    tp, tr, tf, ta = calculate_metrics(preds, valid_y)\n",
    "    valid_acc.append(ta)\n",
    "    valid_prec.append(tp)\n",
    "    valid_recall.append(tr)\n",
    "    valid_f1.append(tf)\n",
    "    \n",
    "    \n"
   ]
  },
  {
   "cell_type": "markdown",
   "id": "298998a0",
   "metadata": {
    "hidden": true
   },
   "source": [
    "### visualize metrics"
   ]
  },
  {
   "cell_type": "code",
   "execution_count": 35,
   "id": "ea94b419",
   "metadata": {
    "hidden": true
   },
   "outputs": [
    {
     "data": {
      "image/png": "[encoded data removed]",
      "text/plain": [
       "<Figure size 432x288 with 1 Axes>"
      ]
     },
     "metadata": {},
     "output_type": "display_data"
    },
    {
     "data": {
      "image/png": "[encoded data removed]",
      "text/plain": [
       "<Figure size 432x288 with 1 Axes>"
      ]
     },
     "metadata": {},
     "output_type": "display_data"
    }
   ],
   "source": [
    "import matplotlib.pyplot as plt\n",
    "import seaborn as sns\n",
    "\n",
    "sns.set_theme()\n",
    "\n",
    "iters = [5, 10, 25, 50, 100, 150, 200]\n",
    "\n",
    "sns.lineplot(x=iters, y=valid_acc)\n",
    "sns.lineplot(x=iters, y=train_acc)\n",
    "plt.legend(['validation', 'train'])\n",
    "plt.title(\"accuracy scores\")\n",
    "plt.show()\n",
    "\n",
    "sns.lineplot(x=iters, y=valid_f1)\n",
    "sns.lineplot(x=iters, y=train_f1)\n",
    "plt.legend(['validation', 'train'])\n",
    "plt.title(\"f1 scores\")\n",
    "plt.show()\n"
   ]
  },
  {
   "cell_type": "markdown",
   "id": "fb5020cb",
   "metadata": {
    "hidden": true
   },
   "source": [
    "#### pick best model and report test metrics"
   ]
  },
  {
   "cell_type": "code",
   "execution_count": 36,
   "id": "3c948972",
   "metadata": {
    "hidden": true
   },
   "outputs": [
    {
     "name": "stderr",
     "output_type": "stream",
     "text": [
      "[Parallel(n_jobs=10)]: Using backend LokyBackend with 10 concurrent workers.\n",
      "[Parallel(n_jobs=10)]: Done   1 out of   1 | elapsed:   11.5s finished\n"
     ]
    }
   ],
   "source": [
    "clf = LogisticRegression(\n",
    "    penalty='l2',\n",
    "    max_iter=5,\n",
    "    verbose=1,\n",
    "    n_jobs=10\n",
    ").fit(train_tfidf, train_y)\n",
    "\n",
    "preds = clf.predict(test_tfidf)\n",
    "tp, tr, tf, ta = calculate_metrics(preds, test_y)"
   ]
  },
  {
   "cell_type": "code",
   "execution_count": 37,
   "id": "8a644e22",
   "metadata": {
    "hidden": true
   },
   "outputs": [
    {
     "name": "stdout",
     "output_type": "stream",
     "text": [
      "+----------------+----------+\n",
      "| test_precision | 0.594483 |\n",
      "+----------------+----------+\n",
      "| test_recall    | 0.237643 |\n",
      "+----------------+----------+\n",
      "| test_f1        | 0.339551 |\n",
      "+----------------+----------+\n",
      "| test_accuracy  | 0.640909 |\n",
      "+----------------+----------+\n"
     ]
    }
   ],
   "source": [
    "import tabulate\n",
    "\n",
    "print(tabulate.tabulate([['test_precision', tp], ['test_recall', tr], ['test_f1', tf], ['test_accuracy', ta]], tablefmt='grid'))"
   ]
  },
  {
   "cell_type": "markdown",
   "id": "3285cd84",
   "metadata": {},
   "source": [
    "## BERT model"
   ]
  },
  {
   "cell_type": "markdown",
   "id": "ad98a589",
   "metadata": {},
   "source": [
    "### loading BERT model"
   ]
  },
  {
   "cell_type": "code",
   "execution_count": 6,
   "id": "77bcf42e",
   "metadata": {},
   "outputs": [
    {
     "name": "stderr",
     "output_type": "stream",
     "text": [
      "Some weights of the model checkpoint at bert-base-uncased were not used when initializing BertModel: ['cls.seq_relationship.weight', 'cls.predictions.transform.LayerNorm.weight', 'cls.predictions.transform.dense.bias', 'cls.predictions.bias', 'cls.predictions.decoder.weight', 'cls.predictions.transform.LayerNorm.bias', 'cls.predictions.transform.dense.weight', 'cls.seq_relationship.bias']\n",
      "- This IS expected if you are initializing BertModel from the checkpoint of a model trained on another task or with another architecture (e.g. initializing a BertForSequenceClassification model from a BertForPreTraining model).\n",
      "- This IS NOT expected if you are initializing BertModel from the checkpoint of a model that you expect to be exactly identical (initializing a BertForSequenceClassification model from a BertForSequenceClassification model).\n"
     ]
    },
    {
     "data": {
      "text/plain": [
       "BertModel(\n",
       "  (embeddings): BertEmbeddings(\n",
       "    (word_embeddings): Embedding(30522, 768, padding_idx=0)\n",
       "    (position_embeddings): Embedding(512, 768)\n",
       "    (token_type_embeddings): Embedding(2, 768)\n",
       "    (LayerNorm): LayerNorm((768,), eps=1e-12, elementwise_affine=True)\n",
       "    (dropout): Dropout(p=0.1, inplace=False)\n",
       "  )\n",
       "  (encoder): BertEncoder(\n",
       "    (layer): ModuleList(\n",
       "      (0): BertLayer(\n",
       "        (attention): BertAttention(\n",
       "          (self): BertSelfAttention(\n",
       "            (query): Linear(in_features=768, out_features=768, bias=True)\n",
       "            (key): Linear(in_features=768, out_features=768, bias=True)\n",
       "            (value): Linear(in_features=768, out_features=768, bias=True)\n",
       "            (dropout): Dropout(p=0.1, inplace=False)\n",
       "          )\n",
       "          (output): BertSelfOutput(\n",
       "            (dense): Linear(in_features=768, out_features=768, bias=True)\n",
       "            (LayerNorm): LayerNorm((768,), eps=1e-12, elementwise_affine=True)\n",
       "            (dropout): Dropout(p=0.1, inplace=False)\n",
       "          )\n",
       "        )\n",
       "        (intermediate): BertIntermediate(\n",
       "          (dense): Linear(in_features=768, out_features=3072, bias=True)\n",
       "          (intermediate_act_fn): GELUActivation()\n",
       "        )\n",
       "        (output): BertOutput(\n",
       "          (dense): Linear(in_features=3072, out_features=768, bias=True)\n",
       "          (LayerNorm): LayerNorm((768,), eps=1e-12, elementwise_affine=True)\n",
       "          (dropout): Dropout(p=0.1, inplace=False)\n",
       "        )\n",
       "      )\n",
       "      (1): BertLayer(\n",
       "        (attention): BertAttention(\n",
       "          (self): BertSelfAttention(\n",
       "            (query): Linear(in_features=768, out_features=768, bias=True)\n",
       "            (key): Linear(in_features=768, out_features=768, bias=True)\n",
       "            (value): Linear(in_features=768, out_features=768, bias=True)\n",
       "            (dropout): Dropout(p=0.1, inplace=False)\n",
       "          )\n",
       "          (output): BertSelfOutput(\n",
       "            (dense): Linear(in_features=768, out_features=768, bias=True)\n",
       "            (LayerNorm): LayerNorm((768,), eps=1e-12, elementwise_affine=True)\n",
       "            (dropout): Dropout(p=0.1, inplace=False)\n",
       "          )\n",
       "        )\n",
       "        (intermediate): BertIntermediate(\n",
       "          (dense): Linear(in_features=768, out_features=3072, bias=True)\n",
       "          (intermediate_act_fn): GELUActivation()\n",
       "        )\n",
       "        (output): BertOutput(\n",
       "          (dense): Linear(in_features=3072, out_features=768, bias=True)\n",
       "          (LayerNorm): LayerNorm((768,), eps=1e-12, elementwise_affine=True)\n",
       "          (dropout): Dropout(p=0.1, inplace=False)\n",
       "        )\n",
       "      )\n",
       "      (2): BertLayer(\n",
       "        (attention): BertAttention(\n",
       "          (self): BertSelfAttention(\n",
       "            (query): Linear(in_features=768, out_features=768, bias=True)\n",
       "            (key): Linear(in_features=768, out_features=768, bias=True)\n",
       "            (value): Linear(in_features=768, out_features=768, bias=True)\n",
       "            (dropout): Dropout(p=0.1, inplace=False)\n",
       "          )\n",
       "          (output): BertSelfOutput(\n",
       "            (dense): Linear(in_features=768, out_features=768, bias=True)\n",
       "            (LayerNorm): LayerNorm((768,), eps=1e-12, elementwise_affine=True)\n",
       "            (dropout): Dropout(p=0.1, inplace=False)\n",
       "          )\n",
       "        )\n",
       "        (intermediate): BertIntermediate(\n",
       "          (dense): Linear(in_features=768, out_features=3072, bias=True)\n",
       "          (intermediate_act_fn): GELUActivation()\n",
       "        )\n",
       "        (output): BertOutput(\n",
       "          (dense): Linear(in_features=3072, out_features=768, bias=True)\n",
       "          (LayerNorm): LayerNorm((768,), eps=1e-12, elementwise_affine=True)\n",
       "          (dropout): Dropout(p=0.1, inplace=False)\n",
       "        )\n",
       "      )\n",
       "      (3): BertLayer(\n",
       "        (attention): BertAttention(\n",
       "          (self): BertSelfAttention(\n",
       "            (query): Linear(in_features=768, out_features=768, bias=True)\n",
       "            (key): Linear(in_features=768, out_features=768, bias=True)\n",
       "            (value): Linear(in_features=768, out_features=768, bias=True)\n",
       "            (dropout): Dropout(p=0.1, inplace=False)\n",
       "          )\n",
       "          (output): BertSelfOutput(\n",
       "            (dense): Linear(in_features=768, out_features=768, bias=True)\n",
       "            (LayerNorm): LayerNorm((768,), eps=1e-12, elementwise_affine=True)\n",
       "            (dropout): Dropout(p=0.1, inplace=False)\n",
       "          )\n",
       "        )\n",
       "        (intermediate): BertIntermediate(\n",
       "          (dense): Linear(in_features=768, out_features=3072, bias=True)\n",
       "          (intermediate_act_fn): GELUActivation()\n",
       "        )\n",
       "        (output): BertOutput(\n",
       "          (dense): Linear(in_features=3072, out_features=768, bias=True)\n",
       "          (LayerNorm): LayerNorm((768,), eps=1e-12, elementwise_affine=True)\n",
       "          (dropout): Dropout(p=0.1, inplace=False)\n",
       "        )\n",
       "      )\n",
       "      (4): BertLayer(\n",
       "        (attention): BertAttention(\n",
       "          (self): BertSelfAttention(\n",
       "            (query): Linear(in_features=768, out_features=768, bias=True)\n",
       "            (key): Linear(in_features=768, out_features=768, bias=True)\n",
       "            (value): Linear(in_features=768, out_features=768, bias=True)\n",
       "            (dropout): Dropout(p=0.1, inplace=False)\n",
       "          )\n",
       "          (output): BertSelfOutput(\n",
       "            (dense): Linear(in_features=768, out_features=768, bias=True)\n",
       "            (LayerNorm): LayerNorm((768,), eps=1e-12, elementwise_affine=True)\n",
       "            (dropout): Dropout(p=0.1, inplace=False)\n",
       "          )\n",
       "        )\n",
       "        (intermediate): BertIntermediate(\n",
       "          (dense): Linear(in_features=768, out_features=3072, bias=True)\n",
       "          (intermediate_act_fn): GELUActivation()\n",
       "        )\n",
       "        (output): BertOutput(\n",
       "          (dense): Linear(in_features=3072, out_features=768, bias=True)\n",
       "          (LayerNorm): LayerNorm((768,), eps=1e-12, elementwise_affine=True)\n",
       "          (dropout): Dropout(p=0.1, inplace=False)\n",
       "        )\n",
       "      )\n",
       "      (5): BertLayer(\n",
       "        (attention): BertAttention(\n",
       "          (self): BertSelfAttention(\n",
       "            (query): Linear(in_features=768, out_features=768, bias=True)\n",
       "            (key): Linear(in_features=768, out_features=768, bias=True)\n",
       "            (value): Linear(in_features=768, out_features=768, bias=True)\n",
       "            (dropout): Dropout(p=0.1, inplace=False)\n",
       "          )\n",
       "          (output): BertSelfOutput(\n",
       "            (dense): Linear(in_features=768, out_features=768, bias=True)\n",
       "            (LayerNorm): LayerNorm((768,), eps=1e-12, elementwise_affine=True)\n",
       "            (dropout): Dropout(p=0.1, inplace=False)\n",
       "          )\n",
       "        )\n",
       "        (intermediate): BertIntermediate(\n",
       "          (dense): Linear(in_features=768, out_features=3072, bias=True)\n",
       "          (intermediate_act_fn): GELUActivation()\n",
       "        )\n",
       "        (output): BertOutput(\n",
       "          (dense): Linear(in_features=3072, out_features=768, bias=True)\n",
       "          (LayerNorm): LayerNorm((768,), eps=1e-12, elementwise_affine=True)\n",
       "          (dropout): Dropout(p=0.1, inplace=False)\n",
       "        )\n",
       "      )\n",
       "      (6): BertLayer(\n",
       "        (attention): BertAttention(\n",
       "          (self): BertSelfAttention(\n",
       "            (query): Linear(in_features=768, out_features=768, bias=True)\n",
       "            (key): Linear(in_features=768, out_features=768, bias=True)\n",
       "            (value): Linear(in_features=768, out_features=768, bias=True)\n",
       "            (dropout): Dropout(p=0.1, inplace=False)\n",
       "          )\n",
       "          (output): BertSelfOutput(\n",
       "            (dense): Linear(in_features=768, out_features=768, bias=True)\n",
       "            (LayerNorm): LayerNorm((768,), eps=1e-12, elementwise_affine=True)\n",
       "            (dropout): Dropout(p=0.1, inplace=False)\n",
       "          )\n",
       "        )\n",
       "        (intermediate): BertIntermediate(\n",
       "          (dense): Linear(in_features=768, out_features=3072, bias=True)\n",
       "          (intermediate_act_fn): GELUActivation()\n",
       "        )\n",
       "        (output): BertOutput(\n",
       "          (dense): Linear(in_features=3072, out_features=768, bias=True)\n",
       "          (LayerNorm): LayerNorm((768,), eps=1e-12, elementwise_affine=True)\n",
       "          (dropout): Dropout(p=0.1, inplace=False)\n",
       "        )\n",
       "      )\n",
       "      (7): BertLayer(\n",
       "        (attention): BertAttention(\n",
       "          (self): BertSelfAttention(\n",
       "            (query): Linear(in_features=768, out_features=768, bias=True)\n",
       "            (key): Linear(in_features=768, out_features=768, bias=True)\n",
       "            (value): Linear(in_features=768, out_features=768, bias=True)\n",
       "            (dropout): Dropout(p=0.1, inplace=False)\n",
       "          )\n",
       "          (output): BertSelfOutput(\n",
       "            (dense): Linear(in_features=768, out_features=768, bias=True)\n",
       "            (LayerNorm): LayerNorm((768,), eps=1e-12, elementwise_affine=True)\n",
       "            (dropout): Dropout(p=0.1, inplace=False)\n",
       "          )\n",
       "        )\n",
       "        (intermediate): BertIntermediate(\n",
       "          (dense): Linear(in_features=768, out_features=3072, bias=True)\n",
       "          (intermediate_act_fn): GELUActivation()\n",
       "        )\n",
       "        (output): BertOutput(\n",
       "          (dense): Linear(in_features=3072, out_features=768, bias=True)\n",
       "          (LayerNorm): LayerNorm((768,), eps=1e-12, elementwise_affine=True)\n",
       "          (dropout): Dropout(p=0.1, inplace=False)\n",
       "        )\n",
       "      )\n",
       "      (8): BertLayer(\n",
       "        (attention): BertAttention(\n",
       "          (self): BertSelfAttention(\n",
       "            (query): Linear(in_features=768, out_features=768, bias=True)\n",
       "            (key): Linear(in_features=768, out_features=768, bias=True)\n",
       "            (value): Linear(in_features=768, out_features=768, bias=True)\n",
       "            (dropout): Dropout(p=0.1, inplace=False)\n",
       "          )\n",
       "          (output): BertSelfOutput(\n",
       "            (dense): Linear(in_features=768, out_features=768, bias=True)\n",
       "            (LayerNorm): LayerNorm((768,), eps=1e-12, elementwise_affine=True)\n",
       "            (dropout): Dropout(p=0.1, inplace=False)\n",
       "          )\n",
       "        )\n",
       "        (intermediate): BertIntermediate(\n",
       "          (dense): Linear(in_features=768, out_features=3072, bias=True)\n",
       "          (intermediate_act_fn): GELUActivation()\n",
       "        )\n",
       "        (output): BertOutput(\n",
       "          (dense): Linear(in_features=3072, out_features=768, bias=True)\n",
       "          (LayerNorm): LayerNorm((768,), eps=1e-12, elementwise_affine=True)\n",
       "          (dropout): Dropout(p=0.1, inplace=False)\n",
       "        )\n",
       "      )\n",
       "      (9): BertLayer(\n",
       "        (attention): BertAttention(\n",
       "          (self): BertSelfAttention(\n",
       "            (query): Linear(in_features=768, out_features=768, bias=True)\n",
       "            (key): Linear(in_features=768, out_features=768, bias=True)\n",
       "            (value): Linear(in_features=768, out_features=768, bias=True)\n",
       "            (dropout): Dropout(p=0.1, inplace=False)\n",
       "          )\n",
       "          (output): BertSelfOutput(\n",
       "            (dense): Linear(in_features=768, out_features=768, bias=True)\n",
       "            (LayerNorm): LayerNorm((768,), eps=1e-12, elementwise_affine=True)\n",
       "            (dropout): Dropout(p=0.1, inplace=False)\n",
       "          )\n",
       "        )\n",
       "        (intermediate): BertIntermediate(\n",
       "          (dense): Linear(in_features=768, out_features=3072, bias=True)\n",
       "          (intermediate_act_fn): GELUActivation()\n",
       "        )\n",
       "        (output): BertOutput(\n",
       "          (dense): Linear(in_features=3072, out_features=768, bias=True)\n",
       "          (LayerNorm): LayerNorm((768,), eps=1e-12, elementwise_affine=True)\n",
       "          (dropout): Dropout(p=0.1, inplace=False)\n",
       "        )\n",
       "      )\n",
       "      (10): BertLayer(\n",
       "        (attention): BertAttention(\n",
       "          (self): BertSelfAttention(\n",
       "            (query): Linear(in_features=768, out_features=768, bias=True)\n",
       "            (key): Linear(in_features=768, out_features=768, bias=True)\n",
       "            (value): Linear(in_features=768, out_features=768, bias=True)\n",
       "            (dropout): Dropout(p=0.1, inplace=False)\n",
       "          )\n",
       "          (output): BertSelfOutput(\n",
       "            (dense): Linear(in_features=768, out_features=768, bias=True)\n",
       "            (LayerNorm): LayerNorm((768,), eps=1e-12, elementwise_affine=True)\n",
       "            (dropout): Dropout(p=0.1, inplace=False)\n",
       "          )\n",
       "        )\n",
       "        (intermediate): BertIntermediate(\n",
       "          (dense): Linear(in_features=768, out_features=3072, bias=True)\n",
       "          (intermediate_act_fn): GELUActivation()\n",
       "        )\n",
       "        (output): BertOutput(\n",
       "          (dense): Linear(in_features=3072, out_features=768, bias=True)\n",
       "          (LayerNorm): LayerNorm((768,), eps=1e-12, elementwise_affine=True)\n",
       "          (dropout): Dropout(p=0.1, inplace=False)\n",
       "        )\n",
       "      )\n",
       "      (11): BertLayer(\n",
       "        (attention): BertAttention(\n",
       "          (self): BertSelfAttention(\n",
       "            (query): Linear(in_features=768, out_features=768, bias=True)\n",
       "            (key): Linear(in_features=768, out_features=768, bias=True)\n",
       "            (value): Linear(in_features=768, out_features=768, bias=True)\n",
       "            (dropout): Dropout(p=0.1, inplace=False)\n",
       "          )\n",
       "          (output): BertSelfOutput(\n",
       "            (dense): Linear(in_features=768, out_features=768, bias=True)\n",
       "            (LayerNorm): LayerNorm((768,), eps=1e-12, elementwise_affine=True)\n",
       "            (dropout): Dropout(p=0.1, inplace=False)\n",
       "          )\n",
       "        )\n",
       "        (intermediate): BertIntermediate(\n",
       "          (dense): Linear(in_features=768, out_features=3072, bias=True)\n",
       "          (intermediate_act_fn): GELUActivation()\n",
       "        )\n",
       "        (output): BertOutput(\n",
       "          (dense): Linear(in_features=3072, out_features=768, bias=True)\n",
       "          (LayerNorm): LayerNorm((768,), eps=1e-12, elementwise_affine=True)\n",
       "          (dropout): Dropout(p=0.1, inplace=False)\n",
       "        )\n",
       "      )\n",
       "    )\n",
       "  )\n",
       "  (pooler): BertPooler(\n",
       "    (dense): Linear(in_features=768, out_features=768, bias=True)\n",
       "    (activation): Tanh()\n",
       "  )\n",
       ")"
      ]
     },
     "execution_count": 6,
     "metadata": {},
     "output_type": "execute_result"
    }
   ],
   "source": [
    "from transformers import BertTokenizer, BertModel, BertConfig\n",
    "import torch\n",
    "\n",
    "device = 'cuda:1'\n",
    "\n",
    "config = BertConfig.from_pretrained(\"bert-base-uncased\", output_hidden_states=True)\n",
    "bert_tokenizer = BertTokenizer.from_pretrained(\"bert-base-uncased\")\n",
    "bert_model = BertModel.from_pretrained(\"bert-base-uncased\", config=config)\n",
    "bert_model = bert_model.to(device)\n",
    "bert_model.eval()"
   ]
  },
  {
   "cell_type": "code",
   "execution_count": 7,
   "id": "66e7bec4",
   "metadata": {},
   "outputs": [],
   "source": [
    "import torch \n",
    "from tqdm import tqdm\n",
    "\n",
    "def get_results_batched(model, tokenizer, str_l, bs=256, average_k_layers=1):\n",
    "    i = 0\n",
    "    result = []\n",
    "    pbar = tqdm(total=len(str_l))\n",
    "    while i < len(str_l):\n",
    "        batch = list(str_l[i:i+bs])\n",
    "        with torch.no_grad():\n",
    "            tokens = tokenizer(batch, return_tensors='pt', padding=True, truncation=True).to(device)\n",
    "            res_full = model(**tokens, output_hidden_states=True).hidden_states\n",
    "            layers = []\n",
    "\n",
    "            for k in range(-average_k_layers,0):\n",
    "                pooled_val = res_full[k].detach().cpu()\n",
    "                # taking cls token embeddings\n",
    "                layers.append(pooled_val[:,0,:])\n",
    "\n",
    "            stacked_layers = torch.stack(layers, dim=1)\n",
    "            #print(stacked_layers.shape)\n",
    "\n",
    "            average_embs = torch.mean(stacked_layers, dim=1)\n",
    "            #print(average_embs.shape)\n",
    "\n",
    "            result.append(average_embs)\n",
    "            i = i + bs\n",
    "            pbar.update(bs)\n",
    "    return torch.concat(result, dim=0)\n",
    "\n"
   ]
  },
  {
   "cell_type": "markdown",
   "id": "2e89d971",
   "metadata": {},
   "source": [
    "### unsupervised dimension projection for BERT"
   ]
  },
  {
   "cell_type": "markdown",
   "id": "8616ec78",
   "metadata": {},
   "source": [
    "#### getting test embeddings"
   ]
  },
  {
   "cell_type": "code",
   "execution_count": 8,
   "id": "1eb797b9",
   "metadata": {},
   "outputs": [
    {
     "name": "stderr",
     "output_type": "stream",
     "text": [
      "203776it [02:43, 1247.64it/s]                            \n"
     ]
    }
   ],
   "source": [
    "test_x, test_y = zip(*test_ds)\n",
    "bio_embs = get_results_batched(bert_model, bert_tokenizer, test_x, bs=256, average_k_layers=3)"
   ]
  },
  {
   "cell_type": "markdown",
   "id": "ee448dd1",
   "metadata": {},
   "source": [
    "#### pole embeddings"
   ]
  },
  {
   "cell_type": "code",
   "execution_count": 13,
   "id": "4fa35d25",
   "metadata": {},
   "outputs": [
    {
     "name": "stderr",
     "output_type": "stream",
     "text": [
      "256it [00:00, 27664.49it/s]          \n",
      "256it [00:00, 30454.71it/s]          \n"
     ]
    }
   ],
   "source": [
    "political_dimension = [\n",
    "    ['republican', 'trump supporter', 'conservative'],\n",
    "    ['democrat', 'biden', 'harris']\n",
    "]\n",
    "\n",
    "pole1 = get_results_batched(\n",
    "    bert_model,\n",
    "    bert_tokenizer,\n",
    "    [','.join(political_dimension[0])],\n",
    "    bs=256,\n",
    "    average_k_layers=3\n",
    ")\n",
    "\n",
    "pole2 = get_results_batched(\n",
    "    bert_model,\n",
    "    bert_tokenizer,\n",
    "    [','.join(political_dimension[1])],\n",
    "    bs=256,\n",
    "    average_k_layers=3\n",
    ")"
   ]
  },
  {
   "cell_type": "markdown",
   "id": "1e36fb37",
   "metadata": {},
   "source": [
    "#### normalize embeddings"
   ]
  },
  {
   "cell_type": "code",
   "execution_count": 14,
   "id": "f371eda1",
   "metadata": {},
   "outputs": [],
   "source": [
    "from numpy import linalg as LA\n",
    "import numpy as np\n",
    "\n",
    "\n",
    "def normalize(wv):\n",
    "    # normalize vectors\n",
    "    norms = np.apply_along_axis(LA.norm, 1, wv)\n",
    "    wv = wv / (norms[:, np.newaxis]+1e-6)\n",
    "    return wv\n",
    "\n",
    "\n",
    "pole1_norm = normalize(pole1.numpy())[0]\n",
    "pole2_norm = normalize(pole2.numpy())[0]\n",
    "embs_norm = normalize(bio_embs.numpy())\n",
    "\n"
   ]
  },
  {
   "cell_type": "markdown",
   "id": "65e584bf",
   "metadata": {},
   "source": [
    "#### projection to the dimension"
   ]
  },
  {
   "cell_type": "code",
   "execution_count": 15,
   "id": "51769079",
   "metadata": {},
   "outputs": [],
   "source": [
    "def ripa(w, b):\n",
    "    return w.dot(b)/LA.norm(b)\n",
    "\n",
    "diff = pole2_norm - pole1_norm\n",
    "scores = []\n",
    "for e in embs_norm:\n",
    "    scores.append(ripa(e, diff))\n",
    "    \n",
    "scores = [0.0 if x < 0 else 1.0 for x in scores]"
   ]
  },
  {
   "cell_type": "code",
   "execution_count": 16,
   "id": "79a2e6f1",
   "metadata": {},
   "outputs": [
    {
     "data": {
      "text/plain": [
       "(0.38633149777903475,\n",
       " 0.8809002971486375,\n",
       " 0.5371069958213189,\n",
       " 0.41021611001964636)"
      ]
     },
     "execution_count": 16,
     "metadata": {},
     "output_type": "execute_result"
    }
   ],
   "source": [
    "tp_bert, tr_bert, tf_bert, ta_bert = calculate_metrics(scores, test_y)\n",
    "tp_bert, tr_bert, tf_bert, ta_bert"
   ]
  },
  {
   "cell_type": "markdown",
   "id": "178547c1",
   "metadata": {},
   "source": [
    "### KNN classifier"
   ]
  },
  {
   "cell_type": "markdown",
   "id": "0ed643e9",
   "metadata": {},
   "source": [
    "#### load training, validation and test embeddings"
   ]
  },
  {
   "cell_type": "code",
   "execution_count": 9,
   "id": "98921123",
   "metadata": {},
   "outputs": [
    {
     "name": "stderr",
     "output_type": "stream",
     "text": [
      "733184it [09:38, 1268.07it/s]                            \n"
     ]
    }
   ],
   "source": [
    "train_x, train_y = zip(*train_ds)\n",
    "train_bio_embs = get_results_batched(bert_model, bert_tokenizer, train_x, bs=256, average_k_layers=3)"
   ]
  },
  {
   "cell_type": "code",
   "execution_count": 10,
   "id": "abe2f00c",
   "metadata": {},
   "outputs": [
    {
     "name": "stderr",
     "output_type": "stream",
     "text": [
      "81664it [01:02, 1300.07it/s]                           \n"
     ]
    }
   ],
   "source": [
    "valid_x, valid_y = zip(*valid_ds)\n",
    "valid_bio_embs = get_results_batched(bert_model, bert_tokenizer, valid_x, bs=256, average_k_layers=3)"
   ]
  },
  {
   "cell_type": "code",
   "execution_count": 11,
   "id": "9eab9d41",
   "metadata": {},
   "outputs": [
    {
     "name": "stderr",
     "output_type": "stream",
     "text": [
      "203776it [02:40, 1272.79it/s]                            \n"
     ]
    }
   ],
   "source": [
    "test_x, test_y = zip(*test_ds)\n",
    "test_bio_embs = get_results_batched(bert_model, bert_tokenizer, test_x, bs=256, average_k_layers=3)"
   ]
  },
  {
   "cell_type": "code",
   "execution_count": 15,
   "id": "b0d98c6f",
   "metadata": {},
   "outputs": [],
   "source": [
    "train_bio_embs = train_bio_embs.numpy()\n",
    "valid_bio_embs = valid_bio_embs.numpy()\n",
    "test_bio_embs = test_bio_embs.numpy()"
   ]
  },
  {
   "cell_type": "markdown",
   "id": "4acd229e",
   "metadata": {},
   "source": [
    "#### classify samples"
   ]
  },
  {
   "cell_type": "code",
   "execution_count": 21,
   "id": "6f873a45",
   "metadata": {},
   "outputs": [
    {
     "name": "stdout",
     "output_type": "stream",
     "text": [
      "training with k=3\n",
      "training with k=5\n",
      "training with k=10\n",
      "training with k=15\n",
      "training with k=20\n",
      "CPU times: user 1h 25min 19s, sys: 56min 33s, total: 2h 21min 52s\n",
      "Wall time: 21min 46s\n"
     ]
    }
   ],
   "source": [
    "%%time \n",
    "\n",
    "from sklearn.neighbors import KNeighborsClassifier\n",
    "\n",
    "train_acc = []\n",
    "train_f1 = [] \n",
    "train_prec = []\n",
    "train_recall = []\n",
    "\n",
    "valid_acc = []\n",
    "valid_f1 = [] \n",
    "valid_prec = []\n",
    "valid_recall = []\n",
    "\n",
    "for k in [3, 5, 10, 15, 20]:\n",
    "    print(f\"training with k={k}\")\n",
    "    clf = KNeighborsClassifier(\n",
    "        n_jobs=10,\n",
    "        metric='cosine'\n",
    "    ).fit(train_bio_embs[:10000], train_y[:10000])\n",
    "    \n",
    "    preds = clf.predict(train_bio_embs)\n",
    "    tp, tr, tf, ta = calculate_metrics(preds, train_y)\n",
    "    train_acc.append(ta)\n",
    "    train_prec.append(tp)\n",
    "    train_recall.append(tr)\n",
    "    train_f1.append(tf)\n",
    "    \n",
    "    preds = clf.predict(valid_bio_embs)\n",
    "    tp, tr, tf, ta = calculate_metrics(preds, valid_y)\n",
    "    valid_acc.append(ta)\n",
    "    valid_prec.append(tp)\n",
    "    valid_recall.append(tr)\n",
    "    valid_f1.append(tf)\n",
    "    \n",
    "    "
   ]
  },
  {
   "cell_type": "code",
   "execution_count": 25,
   "id": "ae83fd01",
   "metadata": {
    "scrolled": false
   },
   "outputs": [
    {
     "data": {
      "image/png": "[encoded data removed]",
      "text/plain": [
       "<Figure size 432x288 with 1 Axes>"
      ]
     },
     "metadata": {},
     "output_type": "display_data"
    },
    {
     "data": {
      "image/png": "[encoded data removed]",
      "text/plain": [
       "<Figure size 432x288 with 1 Axes>"
      ]
     },
     "metadata": {},
     "output_type": "display_data"
    }
   ],
   "source": [
    "import matplotlib.pyplot as plt\n",
    "import seaborn as sns\n",
    "\n",
    "sns.set_theme()\n",
    "\n",
    "iters = [3, 5, 10, 15, 20]\n",
    "\n",
    "sns.lineplot(x=iters, y=valid_acc)\n",
    "sns.lineplot(x=iters, y=train_acc)\n",
    "plt.legend(['validation', 'train'])\n",
    "plt.title(\"accuracy scores\")\n",
    "plt.show()\n",
    "\n",
    "sns.lineplot(x=iters, y=valid_f1)\n",
    "sns.lineplot(x=iters, y=train_f1)\n",
    "plt.legend(['validation', 'train'])\n",
    "plt.title(\"f1 scores\")\n",
    "plt.show()\n"
   ]
  },
  {
   "cell_type": "markdown",
   "id": "9b8db549",
   "metadata": {},
   "source": [
    "#### pick best model and report test metrics"
   ]
  },
  {
   "cell_type": "code",
   "execution_count": 26,
   "id": "2a56e6d6",
   "metadata": {},
   "outputs": [],
   "source": [
    "# clf = LogisticRegression(\n",
    "#     penalty='l2',\n",
    "#     max_iter=25,\n",
    "#     verbose=1,\n",
    "#     n_jobs=10\n",
    "# ).fit(train_tfidf, train_y)\n",
    "\n",
    "preds = clf.predict(test_bio_embs)\n",
    "tp_knn, tr_knn, tf_knn, ta_knn = calculate_metrics(preds, test_y)"
   ]
  },
  {
   "cell_type": "code",
   "execution_count": 27,
   "id": "6ab1dcb7",
   "metadata": {
    "scrolled": true
   },
   "outputs": [
    {
     "name": "stdout",
     "output_type": "stream",
     "text": [
      "+----------------+----------+\n",
      "| test_precision | 0.433129 |\n",
      "+----------------+----------+\n",
      "| test_recall    | 0.321173 |\n",
      "+----------------+----------+\n",
      "| test_f1        | 0.368843 |\n",
      "+----------------+----------+\n",
      "| test_accuracy  | 0.573045 |\n",
      "+----------------+----------+\n"
     ]
    }
   ],
   "source": [
    "import tabulate\n",
    "\n",
    "print(tabulate.tabulate([['test_precision', tp_knn], ['test_recall', tr_knn], ['test_f1', tf_knn], ['test_accuracy', ta_knn]], tablefmt='grid'))"
   ]
  },
  {
   "cell_type": "markdown",
   "id": "44b955b5",
   "metadata": {},
   "source": [
    "### Logistic regression classifier"
   ]
  },
  {
   "cell_type": "markdown",
   "id": "95887bb2",
   "metadata": {},
   "source": [
    "#### load training, validation and test embeddings"
   ]
  },
  {
   "cell_type": "code",
   "execution_count": 68,
   "id": "db1c7253",
   "metadata": {},
   "outputs": [
    {
     "name": "stderr",
     "output_type": "stream",
     "text": [
      "  4%|▍         | 8192/202356 [13:33<5:21:19, 10.07it/s]\n",
      "733184it [23:45, 514.19it/s]                            \n"
     ]
    }
   ],
   "source": [
    "train_x, train_y = zip(*train_ds)\n",
    "train_bio_embs = get_results_batched(bert_model, bert_tokenizer, train_x, bs=256, average_k_layers=3)"
   ]
  },
  {
   "cell_type": "code",
   "execution_count": 69,
   "id": "b0020e17",
   "metadata": {},
   "outputs": [
    {
     "name": "stderr",
     "output_type": "stream",
     "text": [
      "81664it [01:22, 990.79it/s]                            \n"
     ]
    }
   ],
   "source": [
    "valid_x, valid_y = zip(*valid_ds)\n",
    "valid_bio_embs = get_results_batched(bert_model, bert_tokenizer, valid_x, bs=256, average_k_layers=3)"
   ]
  },
  {
   "cell_type": "code",
   "execution_count": 70,
   "id": "b0a9d9c7",
   "metadata": {},
   "outputs": [
    {
     "name": "stderr",
     "output_type": "stream",
     "text": [
      "203776it [02:44, 1237.01it/s]                            \n"
     ]
    }
   ],
   "source": [
    "test_x, test_y = zip(*test_ds)\n",
    "test_bio_embs = get_results_batched(bert_model, bert_tokenizer, test_x, bs=256, average_k_layers=3)"
   ]
  },
  {
   "cell_type": "code",
   "execution_count": 71,
   "id": "11df2cc5",
   "metadata": {},
   "outputs": [],
   "source": [
    "train_bio_embs = train_bio_embs.numpy()\n",
    "valid_bio_embs = valid_bio_embs.numpy()\n",
    "test_bio_embs = test_bio_embs.numpy()"
   ]
  },
  {
   "cell_type": "markdown",
   "id": "6f5fc6d6",
   "metadata": {},
   "source": [
    "#### classify samples"
   ]
  },
  {
   "cell_type": "code",
   "execution_count": null,
   "id": "25edd00b",
   "metadata": {},
   "outputs": [],
   "source": [
    "%%time \n",
    "\n",
    "from sklearn.neighbors import KNeighborsClassifier\n",
    "\n",
    "train_acc = []\n",
    "train_f1 = [] \n",
    "train_prec = []\n",
    "train_recall = []\n",
    "\n",
    "valid_acc = []\n",
    "valid_f1 = [] \n",
    "valid_prec = []\n",
    "valid_recall = []\n",
    "\n",
    "for max_iter in [5, 10, 25, 50, 100, 150, 200]:\n",
    "    clf = LogisticRegression(\n",
    "        penalty='l2',\n",
    "        max_iter=max_iter,\n",
    "        verbose=0,\n",
    "        n_jobs=10\n",
    "    ).fit(train_bio_embs, train_y)\n",
    "    \n",
    "    preds = clf.predict(train_bio_embs)\n",
    "    tp, tr, tf, ta = calculate_metrics(preds, train_y)\n",
    "    train_acc.append(ta)\n",
    "    train_prec.append(tp)\n",
    "    train_recall.append(tr)\n",
    "    train_f1.append(tf)\n",
    "    \n",
    "    preds = clf.predict(valid_bio_embs)\n",
    "    tp, tr, tf, ta = calculate_metrics(preds, valid_y)\n",
    "    valid_acc.append(ta)\n",
    "    valid_prec.append(tp)\n",
    "    valid_recall.append(tr)\n",
    "    valid_f1.append(tf)\n",
    "    \n",
    "    "
   ]
  },
  {
   "cell_type": "code",
   "execution_count": null,
   "id": "52c27380",
   "metadata": {
    "scrolled": false
   },
   "outputs": [],
   "source": [
    "import matplotlib.pyplot as plt\n",
    "import seaborn as sns\n",
    "\n",
    "sns.set_theme()\n",
    "\n",
    "iters = [3, 5, 10, 15, 20]\n",
    "\n",
    "sns.lineplot(x=iters, y=valid_acc)\n",
    "sns.lineplot(x=iters, y=train_acc)\n",
    "plt.legend(['validation', 'train'])\n",
    "plt.title(\"accuracy scores\")\n",
    "plt.show()\n",
    "\n",
    "sns.lineplot(x=iters, y=valid_f1)\n",
    "sns.lineplot(x=iters, y=train_f1)\n",
    "plt.legend(['validation', 'train'])\n",
    "plt.title(\"f1 scores\")\n",
    "plt.show()\n"
   ]
  },
  {
   "cell_type": "markdown",
   "id": "20a49a90",
   "metadata": {},
   "source": [
    "#### pick best model and report test metrics"
   ]
  },
  {
   "cell_type": "code",
   "execution_count": 26,
   "id": "ce60f15f",
   "metadata": {},
   "outputs": [],
   "source": [
    "clf = LogisticRegression(\n",
    "    penalty='l2',\n",
    "    max_iter=25,\n",
    "    verbose=1,\n",
    "    n_jobs=10\n",
    ").fit(train_tfidf, train_y)\n",
    "\n",
    "preds = clf.predict(test_bio_embs)\n",
    "tp_bertlr, tr_bertlr, tf_bertlr, ta_bertlr = calculate_metrics(preds, test_y)"
   ]
  },
  {
   "cell_type": "code",
   "execution_count": 27,
   "id": "4700f639",
   "metadata": {
    "scrolled": true
   },
   "outputs": [
    {
     "name": "stdout",
     "output_type": "stream",
     "text": [
      "+----------------+----------+\n",
      "| test_precision | 0.433129 |\n",
      "+----------------+----------+\n",
      "| test_recall    | 0.321173 |\n",
      "+----------------+----------+\n",
      "| test_f1        | 0.368843 |\n",
      "+----------------+----------+\n",
      "| test_accuracy  | 0.573045 |\n",
      "+----------------+----------+\n"
     ]
    }
   ],
   "source": [
    "import tabulate\n",
    "\n",
    "print(tabulate.tabulate([['test_precision', tp_bertlr], ['test_recall', tr_bertlr], ['test_f1', tf_bertlr], ['test_accuracy', ta_bertlr]], tablefmt='grid'))"
   ]
  },
  {
   "cell_type": "markdown",
   "id": "f55ed2df",
   "metadata": {},
   "source": [
    "## sentence bert model"
   ]
  },
  {
   "cell_type": "markdown",
   "id": "97b60f1b",
   "metadata": {},
   "source": [
    "### loading model"
   ]
  },
  {
   "cell_type": "code",
   "execution_count": 37,
   "id": "b3891233",
   "metadata": {},
   "outputs": [
    {
     "name": "stderr",
     "output_type": "stream",
     "text": [
      "/projects/academic/kjoseph/navid/anaconda3/envs/py38/lib/python3.8/site-packages/huggingface_hub/snapshot_download.py:6: FutureWarning: snapshot_download.py has been made private and will no longer be available from version 0.11. Please use `from huggingface_hub import snapshot_download` to import the only public function in this module. Other members of the file may be changed without a deprecation notice.\n",
      "  warnings.warn(\n"
     ]
    },
    {
     "name": "stdout",
     "output_type": "stream",
     "text": [
      "CPU times: user 8.66 s, sys: 387 ms, total: 9.05 s\n",
      "Wall time: 6.52 s\n"
     ]
    },
    {
     "data": {
      "text/plain": [
       "SentenceTransformer(\n",
       "  (0): Transformer({'max_seq_length': 256, 'do_lower_case': False}) with Transformer model: BertModel \n",
       "  (1): Pooling({'word_embedding_dimension': 384, 'pooling_mode_cls_token': False, 'pooling_mode_mean_tokens': True, 'pooling_mode_max_tokens': False, 'pooling_mode_mean_sqrt_len_tokens': False})\n",
       "  (2): Normalize()\n",
       "  (3): Dense({'in_features': 384, 'out_features': 256, 'bias': True, 'activation_function': 'torch.nn.modules.activation.Tanh'})\n",
       ")"
      ]
     },
     "execution_count": 37,
     "metadata": {},
     "output_type": "execute_result"
    }
   ],
   "source": [
    "%%time\n",
    "\n",
    "from sentence_transformers import SentenceTransformer, models, util\n",
    "from transformers import AutoTokenizer, AutoModel\n",
    "\n",
    "\n",
    "device = 'cuda:1'\n",
    "twitter_ft_sbert = SentenceTransformer('./models/miniLM-L6-twitter-out256/', device=device)\n",
    "twitter_ft_sbert.eval()\n"
   ]
  },
  {
   "cell_type": "code",
   "execution_count": 38,
   "id": "d037ba9a",
   "metadata": {},
   "outputs": [],
   "source": [
    "import torch \n",
    "from tqdm import tqdm\n",
    "\n",
    "def get_sbertbased_results_batched(model, str_l, bs=256):\n",
    "    i = 0\n",
    "    result = []\n",
    "    pbar = tqdm(total=len(str_l))\n",
    "    while i < len(str_l):\n",
    "        batch = list(str_l[i:i+bs])\n",
    "        with torch.no_grad():\n",
    "            embeddings = model.encode(batch, convert_to_tensor=True)\n",
    "            result.append(embeddings.detach().cpu())\n",
    "            \n",
    "            i = i + bs\n",
    "            pbar.update(bs)\n",
    "    return torch.concat(result, dim=0)\n",
    "\n"
   ]
  },
  {
   "cell_type": "markdown",
   "id": "13c19b6d",
   "metadata": {},
   "source": [
    "### unsupervised dimension projection"
   ]
  },
  {
   "cell_type": "markdown",
   "id": "505fe172",
   "metadata": {},
   "source": [
    "#### loading test embeddings"
   ]
  },
  {
   "cell_type": "code",
   "execution_count": null,
   "id": "04c62f64",
   "metadata": {},
   "outputs": [],
   "source": [
    "test_x, test_y = zip(*test_ds)\n",
    "bio_embs = get_sbertbased_results_batched(twitter_ft_sbert, test_x, bs=256)"
   ]
  },
  {
   "cell_type": "markdown",
   "id": "ebf93a27",
   "metadata": {},
   "source": [
    "#### pole embeddings"
   ]
  },
  {
   "cell_type": "code",
   "execution_count": 19,
   "id": "f00b827d",
   "metadata": {},
   "outputs": [
    {
     "name": "stderr",
     "output_type": "stream",
     "text": [
      "256it [00:00, 37638.17it/s]          \n",
      "256it [00:00, 43476.61it/s]          \n"
     ]
    }
   ],
   "source": [
    "political_dimension = [\n",
    "    ['republican', 'trump supporter', 'conservative'],\n",
    "    ['democrat', 'biden', 'harris']\n",
    "]\n",
    "\n",
    "pole1 = get_sbertbased_results_batched(\n",
    "    twitter_ft_sbert,\n",
    "    [','.join(political_dimension[0])],\n",
    "    bs=256,\n",
    ")\n",
    "\n",
    "pole2 = get_sbertbased_results_batched(\n",
    "    twitter_ft_sbert,\n",
    "    [','.join(political_dimension[1])],\n",
    "    bs=256,\n",
    ")"
   ]
  },
  {
   "cell_type": "markdown",
   "id": "169f2f9d",
   "metadata": {},
   "source": [
    "#### normalize embeddings"
   ]
  },
  {
   "cell_type": "code",
   "execution_count": 20,
   "id": "65f0faf3",
   "metadata": {},
   "outputs": [],
   "source": [
    "from numpy import linalg as LA\n",
    "import numpy as np\n",
    "\n",
    "\n",
    "def normalize(wv):\n",
    "    # normalize vectors\n",
    "    norms = np.apply_along_axis(LA.norm, 1, wv)\n",
    "    wv = wv / (norms[:, np.newaxis]+1e-6)\n",
    "    return wv\n",
    "\n",
    "\n",
    "pole1_norm = normalize(pole1.numpy())[0]\n",
    "pole2_norm = normalize(pole2.numpy())[0]\n",
    "embs_norm = normalize(bio_embs.numpy())\n",
    "\n"
   ]
  },
  {
   "cell_type": "markdown",
   "id": "aa4495f1",
   "metadata": {},
   "source": [
    "#### projection to the dimension"
   ]
  },
  {
   "cell_type": "code",
   "execution_count": 21,
   "id": "3d6da33d",
   "metadata": {},
   "outputs": [],
   "source": [
    "def ripa(w, b):\n",
    "    return w.dot(b)/LA.norm(b)\n",
    "\n",
    "diff = pole2_norm - pole1_norm\n",
    "scores = []\n",
    "for e in embs_norm:\n",
    "    scores.append(ripa(e, diff))\n",
    "    \n",
    "scores = [0.0 if x < 0 else 1.0 for x in scores]"
   ]
  },
  {
   "cell_type": "code",
   "execution_count": 22,
   "id": "c0f8e123",
   "metadata": {},
   "outputs": [
    {
     "name": "stderr",
     "output_type": "stream",
     "text": [
      "256it [00:00, 35455.75it/s]          \n"
     ]
    },
    {
     "data": {
      "text/plain": [
       "-0.47110555"
      ]
     },
     "execution_count": 22,
     "metadata": {},
     "output_type": "execute_result"
    }
   ],
   "source": [
    "ripa(\n",
    "    get_sbertbased_results_batched(\n",
    "        twitter_ft_sbert,\n",
    "        ['maga'],\n",
    "        bs=256,\n",
    "    ).numpy()[0],\n",
    "    diff\n",
    ")"
   ]
  },
  {
   "cell_type": "code",
   "execution_count": 23,
   "id": "392e5810",
   "metadata": {},
   "outputs": [
    {
     "data": {
      "text/plain": [
       "(0.4617706631819667,\n",
       " 0.44682303850287663,\n",
       " 0.45417389627915944,\n",
       " 0.5828290766208252)"
      ]
     },
     "execution_count": 23,
     "metadata": {},
     "output_type": "execute_result"
    },
    {
     "name": "stderr",
     "output_type": "stream",
     "text": [
      "/projects/academic/kjoseph/navid/anaconda3/envs/py38/lib/python3.8/site-packages/sklearn/linear_model/_logistic.py:814: ConvergenceWarning: lbfgs failed to converge (status=1):\n",
      "STOP: TOTAL NO. of ITERATIONS REACHED LIMIT.\n",
      "\n",
      "Increase the number of iterations (max_iter) or scale the data as shown in:\n",
      "    https://scikit-learn.org/stable/modules/preprocessing.html\n",
      "Please also refer to the documentation for alternative solver options:\n",
      "    https://scikit-learn.org/stable/modules/linear_model.html#logistic-regression\n",
      "  n_iter_i = _check_optimize_result(\n",
      " This problem is unconstrained.\n"
     ]
    },
    {
     "name": "stdout",
     "output_type": "stream",
     "text": [
      "RUNNING THE L-BFGS-B CODE\n",
      "\n",
      "           * * *\n",
      "\n",
      "Machine precision = 2.220D-16\n",
      " N =         1801     M =           10\n",
      "\n",
      "At X0         0 variables are exactly at the bounds\n",
      "\n",
      "At iterate    0    f=  5.08049D+05    |proj g|=  8.12570D+04\n",
      "\n",
      "           * * *\n",
      "\n",
      "Tit   = total number of iterations\n",
      "Tnf   = total number of function evaluations\n",
      "Tnint = total number of segments explored during Cauchy searches\n",
      "Skip  = number of BFGS updates skipped\n",
      "Nact  = number of active bounds at final generalized Cauchy point\n",
      "Projg = norm of the final projected gradient\n",
      "F     = final function value\n",
      "\n",
      "           * * *\n",
      "\n",
      "   N    Tit     Tnf  Tnint  Skip  Nact     Projg        F\n",
      " 1801     25     32      1     0     0   1.939D+01   4.605D+05\n",
      "  F =   460496.07435839187     \n",
      "\n",
      "STOP: TOTAL NO. of ITERATIONS REACHED LIMIT                 \n"
     ]
    }
   ],
   "source": [
    "tp_ftsbert, tr_ftsbert, tf_ftsbert, ta_ftsbert = calculate_metrics(scores, test_y)\n",
    "tp_ftsbert, tr_ftsbert, tf_ftsbert, ta_ftsbert"
   ]
  },
  {
   "cell_type": "markdown",
   "id": "7eb61177",
   "metadata": {},
   "source": [
    "### unsupervised dimension projection on PIs"
   ]
  },
  {
   "cell_type": "markdown",
   "id": "6351b7a0",
   "metadata": {},
   "source": [
    "#### loading test embeddings"
   ]
  },
  {
   "cell_type": "code",
   "execution_count": 55,
   "id": "8fd2faa7",
   "metadata": {},
   "outputs": [
    {
     "data": {
      "text/plain": [
       "[['just a 22 year old living one hell of a life'],\n",
       " ['mom',\n",
       "  'nurse',\n",
       "  'animal lover',\n",
       "  'hockey lover',\n",
       "  'david beckham lover',\n",
       "  'adore my true friends',\n",
       "  'limits are set with family'],\n",
       " ['catholic', 'business management', 'txst 21'],\n",
       " [\"hulk hogan's fourth cousin\", 'twice removed', 'he', 'him', 'his'],\n",
       " ['mom of 3',\n",
       "  'occupational therapist',\n",
       "  'rodan+fields business owner',\n",
       "  'user',\n",
       "  'love all things outlander',\n",
       "  'nodcc',\n",
       "  'clt-lana']]"
      ]
     },
     "execution_count": 55,
     "metadata": {},
     "output_type": "execute_result"
    }
   ],
   "source": [
    "test_x, test_y = zip(*test_ds)\n",
    "test_x = [generate_personal_identifiers(x) for x in test_x]\n",
    "test_x[:5]\n"
   ]
  },
  {
   "cell_type": "code",
   "execution_count": 58,
   "id": "361f4799",
   "metadata": {},
   "outputs": [
    {
     "name": "stderr",
     "output_type": "stream",
     "text": [
      "\n",
      "  0%|          | 0/202356 [00:00<?, ?it/s]\u001b[A\n",
      "  0%|          | 256/202356 [00:00<01:33, 2162.35it/s]\u001b[A\n",
      "  0%|          | 512/202356 [00:00<01:41, 1979.33it/s]\u001b[A\n",
      "  0%|          | 768/202356 [00:00<01:49, 1837.84it/s]\u001b[A\n",
      "  1%|          | 1024/202356 [00:00<01:52, 1791.25it/s]\u001b[A\n",
      "  1%|          | 1280/202356 [00:00<01:50, 1827.22it/s]\u001b[A\n",
      "  1%|          | 1536/202356 [00:00<01:48, 1855.52it/s]\u001b[A\n",
      "  1%|          | 1792/202356 [00:00<01:47, 1864.82it/s]\u001b[A\n",
      "  1%|          | 2048/202356 [00:01<01:51, 1798.61it/s]\u001b[A\n",
      "  1%|          | 2304/202356 [00:01<01:52, 1780.88it/s]\u001b[A\n",
      "  1%|▏         | 2560/202356 [00:01<01:50, 1804.67it/s]\u001b[A\n",
      "  1%|▏         | 2816/202356 [00:01<01:56, 1717.14it/s]\u001b[A\n",
      "  2%|▏         | 3072/202356 [00:01<01:53, 1759.64it/s]\u001b[A\n",
      "  2%|▏         | 3328/202356 [00:01<01:56, 1713.12it/s]\u001b[A\n",
      "  2%|▏         | 3584/202356 [00:02<01:58, 1680.34it/s]\u001b[A\n",
      "  2%|▏         | 4096/202356 [00:02<01:34, 2103.22it/s]\u001b[A\n",
      "  2%|▏         | 4608/202356 [00:02<01:30, 2189.00it/s]\u001b[A\n",
      "  2%|▏         | 4864/202356 [00:02<01:37, 2030.04it/s]\u001b[A\n",
      "  3%|▎         | 5120/202356 [00:02<01:35, 2070.34it/s]\u001b[A\n",
      "  3%|▎         | 5632/202356 [00:02<01:22, 2389.53it/s]\u001b[A\n",
      "  3%|▎         | 5888/202356 [00:02<01:28, 2211.05it/s]\u001b[A\n",
      "  3%|▎         | 6144/202356 [00:03<01:40, 1942.98it/s]\u001b[A\n",
      "  3%|▎         | 6400/202356 [00:03<01:42, 1917.79it/s]\u001b[A\n",
      "  3%|▎         | 6656/202356 [00:03<01:41, 1919.79it/s]\u001b[A\n",
      "  3%|▎         | 6912/202356 [00:03<01:45, 1851.66it/s]\u001b[A\n",
      "  4%|▎         | 7168/202356 [00:03<01:51, 1756.34it/s]\u001b[A\n",
      "  4%|▎         | 7424/202356 [00:03<01:50, 1762.72it/s]\u001b[A\n",
      "  4%|▍         | 7680/202356 [00:04<01:44, 1866.53it/s]\u001b[A\n",
      "  4%|▍         | 7936/202356 [00:04<01:42, 1888.80it/s]\u001b[A\n",
      "  4%|▍         | 8192/202356 [00:04<01:47, 1808.16it/s]\u001b[A\n",
      "  4%|▍         | 8448/202356 [00:04<01:41, 1917.89it/s]\u001b[A\n",
      "  4%|▍         | 8960/202356 [00:04<01:39, 1953.16it/s]\u001b[A\n",
      "  5%|▍         | 9216/202356 [00:04<01:44, 1849.49it/s]\u001b[A\n",
      "  5%|▍         | 9472/202356 [00:04<01:40, 1919.13it/s]\u001b[A\n",
      "  5%|▍         | 9728/202356 [00:05<01:36, 1997.09it/s]\u001b[A\n",
      "  5%|▍         | 9984/202356 [00:05<01:37, 1971.87it/s]\u001b[A\n",
      "  5%|▌         | 10240/202356 [00:05<01:41, 1889.12it/s]\u001b[A\n",
      "  5%|▌         | 10752/202356 [00:05<01:24, 2271.17it/s]\u001b[A\n",
      "  6%|▌         | 11264/202356 [00:05<01:14, 2553.82it/s]\u001b[A\n",
      "  6%|▌         | 11520/202356 [00:05<01:16, 2490.25it/s]\u001b[A\n",
      "  6%|▌         | 11776/202356 [00:05<01:21, 2351.05it/s]\u001b[A\n",
      "  6%|▌         | 12032/202356 [00:06<01:26, 2198.67it/s]\u001b[A\n",
      "  6%|▌         | 12288/202356 [00:06<01:32, 2063.37it/s]\u001b[A\n",
      "  6%|▌         | 12544/202356 [00:06<01:35, 1984.98it/s]\u001b[A\n",
      "  6%|▋         | 13056/202356 [00:06<01:32, 2054.17it/s]\u001b[A\n",
      "  7%|▋         | 13312/202356 [00:06<01:33, 2011.18it/s]\u001b[A\n",
      "  7%|▋         | 13568/202356 [00:06<01:41, 1856.70it/s]\u001b[A\n",
      "  7%|▋         | 13824/202356 [00:07<01:40, 1883.99it/s]\u001b[A\n",
      "  7%|▋         | 14336/202356 [00:07<01:19, 2358.92it/s]\u001b[A\n",
      "  7%|▋         | 14592/202356 [00:07<01:23, 2241.49it/s]\u001b[A\n",
      "  7%|▋         | 14848/202356 [00:07<01:30, 2078.29it/s]\u001b[A\n",
      "  7%|▋         | 15104/202356 [00:07<01:29, 2103.72it/s]\u001b[A\n",
      "  8%|▊         | 15360/202356 [00:07<01:33, 1998.17it/s]\u001b[A\n",
      "  8%|▊         | 15616/202356 [00:07<01:36, 1929.91it/s]\u001b[A\n",
      "  8%|▊         | 16128/202356 [00:08<01:21, 2297.12it/s]\u001b[A\n",
      "  8%|▊         | 16384/202356 [00:08<01:21, 2293.27it/s]\u001b[A\n",
      "  8%|▊         | 16640/202356 [00:08<01:32, 2002.46it/s]\u001b[A\n",
      "  8%|▊         | 16896/202356 [00:08<01:31, 2024.97it/s]\u001b[A\n",
      "  9%|▊         | 17408/202356 [00:08<01:16, 2405.74it/s]\u001b[A\n",
      "  9%|▊         | 17664/202356 [00:08<01:17, 2371.50it/s]\u001b[A\n",
      "  9%|▉         | 17920/202356 [00:08<01:24, 2176.38it/s]\u001b[A\n",
      "  9%|▉         | 18176/202356 [00:09<01:30, 2025.12it/s]\u001b[A\n",
      "  9%|▉         | 18432/202356 [00:09<01:41, 1816.46it/s]\u001b[A\n",
      "  9%|▉         | 18688/202356 [00:09<01:39, 1842.87it/s]\u001b[A\n",
      "  9%|▉         | 18944/202356 [00:09<01:32, 1981.43it/s]\u001b[A\n",
      "  9%|▉         | 19200/202356 [00:09<01:39, 1838.26it/s]\u001b[A\n",
      " 10%|▉         | 19456/202356 [00:09<01:46, 1722.89it/s]\u001b[A\n",
      " 10%|▉         | 19712/202356 [00:09<01:42, 1785.96it/s]\u001b[A\n",
      " 10%|▉         | 19968/202356 [00:10<01:40, 1821.93it/s]\u001b[A\n",
      " 10%|▉         | 20224/202356 [00:10<01:41, 1793.21it/s]\u001b[A\n",
      " 10%|█         | 20480/202356 [00:10<01:45, 1720.75it/s]\u001b[A\n",
      " 10%|█         | 20736/202356 [00:10<01:38, 1843.23it/s]\u001b[A\n",
      " 10%|█         | 20992/202356 [00:10<01:35, 1895.97it/s]\u001b[A\n",
      " 11%|█         | 21248/202356 [00:10<01:30, 2005.09it/s]\u001b[A\n",
      " 11%|█         | 21504/202356 [00:10<01:26, 2089.38it/s]\u001b[A\n",
      " 11%|█         | 21760/202356 [00:10<01:26, 2079.64it/s]\u001b[A\n",
      " 11%|█         | 22016/202356 [00:11<01:29, 2015.15it/s]\u001b[A\n",
      " 11%|█         | 22272/202356 [00:11<01:31, 1977.78it/s]\u001b[A\n",
      " 11%|█         | 22528/202356 [00:11<01:26, 2086.23it/s]\u001b[A\n",
      " 11%|█▏        | 22784/202356 [00:11<01:35, 1876.65it/s]\u001b[A\n",
      " 11%|█▏        | 23040/202356 [00:11<01:31, 1961.36it/s]\u001b[A\n",
      " 12%|█▏        | 23296/202356 [00:11<01:34, 1902.43it/s]\u001b[A\n",
      " 12%|█▏        | 23552/202356 [00:11<01:32, 1927.91it/s]\u001b[A\n",
      " 12%|█▏        | 23808/202356 [00:11<01:25, 2078.35it/s]\u001b[A\n",
      " 12%|█▏        | 24064/202356 [00:12<01:28, 2010.47it/s]\u001b[A\n",
      " 12%|█▏        | 24320/202356 [00:12<01:27, 2044.10it/s]\u001b[A\n",
      " 12%|█▏        | 24576/202356 [00:12<01:29, 1982.22it/s]\u001b[A\n",
      " 12%|█▏        | 24832/202356 [00:12<01:30, 1968.69it/s]\u001b[A\n",
      " 12%|█▏        | 25088/202356 [00:12<01:33, 1899.58it/s]\u001b[A\n",
      " 13%|█▎        | 25344/202356 [00:12<01:35, 1857.72it/s]\u001b[A\n",
      " 13%|█▎        | 25856/202356 [00:13<01:26, 2050.74it/s]\u001b[A\n",
      " 13%|█▎        | 26112/202356 [00:13<01:30, 1956.24it/s]\u001b[A\n",
      " 13%|█▎        | 26368/202356 [00:13<01:33, 1888.85it/s]\u001b[A\n",
      " 13%|█▎        | 26880/202356 [00:13<01:17, 2272.92it/s]\u001b[A\n",
      " 13%|█▎        | 27136/202356 [00:13<01:16, 2292.05it/s]\u001b[A\n",
      " 14%|█▎        | 27392/202356 [00:13<01:14, 2350.56it/s]\u001b[A\n",
      " 14%|█▎        | 27648/202356 [00:13<01:19, 2202.73it/s]\u001b[A\n",
      " 14%|█▍        | 27904/202356 [00:13<01:27, 1984.46it/s]\u001b[A\n",
      " 14%|█▍        | 28160/202356 [00:14<01:41, 1723.55it/s]\u001b[A\n",
      " 14%|█▍        | 28416/202356 [00:14<01:49, 1589.34it/s]\u001b[A\n",
      " 14%|█▍        | 28672/202356 [00:14<01:54, 1513.49it/s]\u001b[A\n",
      " 14%|█▍        | 28928/202356 [00:14<01:58, 1465.81it/s]\u001b[A\n",
      " 14%|█▍        | 29184/202356 [00:14<02:01, 1428.39it/s]\u001b[A\n",
      " 15%|█▍        | 29440/202356 [00:15<02:01, 1419.21it/s]\u001b[A\n",
      " 15%|█▍        | 29696/202356 [00:15<01:55, 1499.67it/s]\u001b[A\n",
      " 15%|█▍        | 29952/202356 [00:15<01:42, 1684.93it/s]\u001b[A\n",
      " 15%|█▌        | 30464/202356 [00:15<01:14, 2296.37it/s]\u001b[A\n",
      " 15%|█▌        | 30976/202356 [00:15<01:01, 2801.65it/s]\u001b[A\n",
      " 16%|█▌        | 31488/202356 [00:15<00:53, 3183.30it/s]\u001b[A\n",
      " 16%|█▌        | 32000/202356 [00:16<01:06, 2546.36it/s]\u001b[A\n",
      " 16%|█▌        | 32512/202356 [00:16<01:02, 2726.38it/s]\u001b[A\n",
      " 16%|█▋        | 33024/202356 [00:16<01:11, 2371.09it/s]\u001b[A\n",
      " 17%|█▋        | 33536/202356 [00:16<01:16, 2197.03it/s]\u001b[A\n",
      " 17%|█▋        | 33792/202356 [00:16<01:18, 2153.12it/s]\u001b[A\n",
      " 17%|█▋        | 34048/202356 [00:17<01:22, 2045.77it/s]\u001b[A\n",
      " 17%|█▋        | 34304/202356 [00:17<01:21, 2053.23it/s]\u001b[A\n",
      " 17%|█▋        | 34560/202356 [00:17<01:23, 2016.91it/s]\u001b[A\n",
      " 17%|█▋        | 34816/202356 [00:17<01:23, 2018.16it/s]\u001b[A\n",
      " 17%|█▋        | 35072/202356 [00:17<01:28, 1897.20it/s]\u001b[A\n",
      " 17%|█▋        | 35328/202356 [00:17<01:38, 1698.42it/s]\u001b[A\n",
      " 18%|█▊        | 35584/202356 [00:17<01:37, 1716.16it/s]\u001b[A\n",
      " 18%|█▊        | 35840/202356 [00:18<01:39, 1673.04it/s]\u001b[A\n",
      " 18%|█▊        | 36096/202356 [00:18<01:39, 1670.07it/s]\u001b[A\n",
      " 18%|█▊        | 36352/202356 [00:18<01:33, 1768.55it/s]\u001b[A\n",
      " 18%|█▊        | 36608/202356 [00:18<01:31, 1820.58it/s]\u001b[A\n",
      " 18%|█▊        | 36864/202356 [00:18<01:27, 1892.98it/s]\u001b[A\n",
      " 18%|█▊        | 37120/202356 [00:18<01:35, 1723.14it/s]\u001b[A\n",
      " 18%|█▊        | 37376/202356 [00:18<01:40, 1649.77it/s]\u001b[A\n",
      " 19%|█▊        | 37632/202356 [00:19<01:33, 1768.73it/s]\u001b[A\n",
      " 19%|█▊        | 37888/202356 [00:19<01:27, 1876.80it/s]\u001b[A\n",
      " 19%|█▉        | 38144/202356 [00:19<01:37, 1682.40it/s]\u001b[A\n",
      " 19%|█▉        | 38400/202356 [00:19<01:40, 1623.71it/s]\u001b[A\n",
      " 19%|█▉        | 38656/202356 [00:19<01:33, 1746.56it/s]\u001b[A\n",
      " 19%|█▉        | 38912/202356 [00:19<01:34, 1725.84it/s]\u001b[A\n",
      " 19%|█▉        | 39168/202356 [00:19<01:37, 1670.23it/s]\u001b[A\n",
      " 19%|█▉        | 39424/202356 [00:20<01:44, 1556.72it/s]\u001b[A\n",
      " 20%|█▉        | 39680/202356 [00:20<01:38, 1651.45it/s]\u001b[A\n",
      " 20%|█▉        | 39936/202356 [00:20<01:35, 1694.63it/s]\u001b[A\n",
      " 20%|█▉        | 40192/202356 [00:20<01:30, 1789.75it/s]\u001b[A\n",
      " 20%|█▉        | 40448/202356 [00:20<01:28, 1823.62it/s]\u001b[A\n",
      " 20%|██        | 40704/202356 [00:20<01:29, 1809.65it/s]\u001b[A\n",
      " 20%|██        | 40960/202356 [00:21<01:38, 1633.43it/s]\u001b[A\n",
      " 20%|██        | 41216/202356 [00:21<01:31, 1755.28it/s]\u001b[A\n",
      " 20%|██        | 41472/202356 [00:21<01:28, 1813.48it/s]\u001b[A\n",
      " 21%|██        | 41728/202356 [00:21<01:25, 1871.96it/s]\u001b[A\n",
      " 21%|██        | 41984/202356 [00:21<01:22, 1939.10it/s]\u001b[A\n",
      " 21%|██        | 42240/202356 [00:21<01:24, 1896.24it/s]\u001b[A\n",
      " 21%|██        | 42496/202356 [00:21<01:21, 1971.15it/s]\u001b[A\n",
      " 21%|██        | 42752/202356 [00:21<01:27, 1819.64it/s]\u001b[A\n",
      " 21%|██▏       | 43008/202356 [00:22<01:23, 1912.74it/s]\u001b[A\n",
      " 21%|██▏       | 43264/202356 [00:22<01:21, 1954.02it/s]\u001b[A\n",
      " 22%|██▏       | 43520/202356 [00:22<01:22, 1914.75it/s]\u001b[A\n",
      " 22%|██▏       | 43776/202356 [00:22<01:25, 1850.86it/s]\u001b[A\n",
      " 22%|██▏       | 44032/202356 [00:22<01:30, 1756.84it/s]\u001b[A\n",
      " 22%|██▏       | 44288/202356 [00:22<01:29, 1761.44it/s]\u001b[A\n",
      " 22%|██▏       | 44544/202356 [00:22<01:38, 1597.30it/s]\u001b[A\n",
      " 22%|██▏       | 44800/202356 [00:23<01:42, 1542.31it/s]\u001b[A\n",
      " 22%|██▏       | 45056/202356 [00:23<01:32, 1698.54it/s]\u001b[A\n",
      " 23%|██▎       | 45568/202356 [00:23<01:12, 2157.36it/s]\u001b[A\n",
      " 23%|██▎       | 45824/202356 [00:23<01:14, 2089.76it/s]\u001b[A\n",
      " 23%|██▎       | 46080/202356 [00:23<01:15, 2060.49it/s]\u001b[A\n",
      " 23%|██▎       | 46336/202356 [00:23<01:14, 2097.90it/s]\u001b[A\n",
      " 23%|██▎       | 46592/202356 [00:23<01:18, 1979.42it/s]\u001b[A\n",
      " 23%|██▎       | 46848/202356 [00:24<01:23, 1860.16it/s]\u001b[A\n",
      " 23%|██▎       | 47104/202356 [00:24<01:22, 1884.87it/s]\u001b[A\n",
      " 23%|██▎       | 47360/202356 [00:24<01:21, 1898.55it/s]\u001b[A\n",
      " 24%|██▎       | 47616/202356 [00:24<01:24, 1839.07it/s]\u001b[A\n",
      " 24%|██▎       | 47872/202356 [00:24<01:22, 1876.99it/s]\u001b[A\n",
      " 24%|██▍       | 48128/202356 [00:24<01:19, 1946.12it/s]\u001b[A\n",
      " 24%|██▍       | 48384/202356 [00:24<01:19, 1941.20it/s]\u001b[A\n",
      " 24%|██▍       | 48640/202356 [00:25<01:18, 1948.17it/s]\u001b[A\n",
      " 24%|██▍       | 48896/202356 [00:25<01:16, 2000.87it/s]\u001b[A\n",
      " 24%|██▍       | 49152/202356 [00:25<01:17, 1981.75it/s]\u001b[A\n",
      " 24%|██▍       | 49408/202356 [00:25<01:28, 1723.07it/s]\u001b[A\n",
      " 25%|██▍       | 49664/202356 [00:25<01:24, 1803.13it/s]\u001b[A\n",
      " 25%|██▍       | 49920/202356 [00:25<01:23, 1835.48it/s]\u001b[A\n",
      " 25%|██▍       | 50176/202356 [00:25<01:20, 1882.70it/s]\u001b[A\n",
      " 25%|██▍       | 50432/202356 [00:26<01:20, 1879.78it/s]\u001b[A\n",
      " 25%|██▌       | 50688/202356 [00:26<01:19, 1916.59it/s]\u001b[A\n",
      " 25%|██▌       | 50944/202356 [00:26<01:15, 1995.26it/s]\u001b[A\n",
      " 25%|██▌       | 51200/202356 [00:26<01:17, 1957.93it/s]\u001b[A\n",
      " 26%|██▌       | 51712/202356 [00:26<01:06, 2248.75it/s]\u001b[A\n",
      " 26%|██▌       | 51968/202356 [00:26<01:10, 2145.52it/s]\u001b[A\n",
      " 26%|██▌       | 52224/202356 [00:26<01:13, 2044.56it/s]\u001b[A\n",
      " 26%|██▌       | 52480/202356 [00:27<01:20, 1871.21it/s]\u001b[A\n",
      " 26%|██▌       | 52736/202356 [00:27<01:17, 1930.63it/s]\u001b[A\n",
      " 26%|██▌       | 52992/202356 [00:27<01:29, 1663.84it/s]\u001b[A\n",
      " 26%|██▋       | 53248/202356 [00:27<01:27, 1709.37it/s]\u001b[A\n",
      " 26%|██▋       | 53504/202356 [00:27<01:28, 1687.87it/s]\u001b[A\n",
      " 27%|██▋       | 53760/202356 [00:27<01:21, 1825.48it/s]\u001b[A\n",
      " 27%|██▋       | 54016/202356 [00:27<01:22, 1808.43it/s]\u001b[A\n",
      " 27%|██▋       | 54272/202356 [00:28<01:34, 1560.60it/s]\u001b[A\n",
      " 27%|██▋       | 54528/202356 [00:28<01:42, 1435.41it/s]\u001b[A\n",
      " 27%|██▋       | 54784/202356 [00:28<01:42, 1440.35it/s]\u001b[A\n",
      " 27%|██▋       | 55040/202356 [00:28<01:43, 1419.66it/s]\u001b[A\n",
      " 27%|██▋       | 55296/202356 [00:28<01:43, 1420.49it/s]\u001b[A\n",
      " 27%|██▋       | 55552/202356 [00:29<01:35, 1534.98it/s]\u001b[A\n",
      " 28%|██▊       | 56064/202356 [00:29<01:10, 2061.24it/s]\u001b[A\n",
      " 28%|██▊       | 56576/202356 [00:29<00:59, 2451.37it/s]\u001b[A\n",
      " 28%|██▊       | 56832/202356 [00:29<01:07, 2150.42it/s]\u001b[A\n",
      " 28%|██▊       | 57088/202356 [00:29<01:08, 2119.73it/s]\u001b[A\n",
      " 28%|██▊       | 57344/202356 [00:29<01:08, 2128.90it/s]\u001b[A\n",
      " 28%|██▊       | 57600/202356 [00:29<01:10, 2054.48it/s]\u001b[A\n",
      " 29%|██▊       | 57856/202356 [00:30<01:12, 1997.44it/s]\u001b[A\n",
      " 29%|██▊       | 58112/202356 [00:30<01:14, 1927.52it/s]\u001b[A\n",
      " 29%|██▉       | 58368/202356 [00:30<01:11, 2023.91it/s]\u001b[A\n",
      " 29%|██▉       | 58880/202356 [00:30<00:59, 2404.68it/s]\u001b[A\n",
      " 29%|██▉       | 59392/202356 [00:30<00:49, 2874.23it/s]\u001b[A\n",
      " 30%|██▉       | 59904/202356 [00:30<00:42, 3348.20it/s]\u001b[A\n",
      " 30%|██▉       | 60416/202356 [00:30<00:39, 3617.01it/s]\u001b[A\n",
      " 30%|███       | 60928/202356 [00:30<00:37, 3727.46it/s]\u001b[A\n",
      " 30%|███       | 61440/202356 [00:31<00:49, 2851.87it/s]\u001b[A\n",
      " 31%|███       | 61952/202356 [00:31<00:58, 2417.22it/s]\u001b[A\n",
      " 31%|███       | 62464/202356 [00:31<01:01, 2290.05it/s]\u001b[A\n",
      " 31%|███       | 62976/202356 [00:31<01:02, 2216.06it/s]\u001b[A\n",
      " 31%|███       | 63232/202356 [00:32<01:05, 2118.12it/s]\u001b[A\n",
      " 31%|███▏      | 63488/202356 [00:32<01:06, 2089.31it/s]\u001b[A\n",
      " 32%|███▏      | 63744/202356 [00:32<01:07, 2066.29it/s]\u001b[A\n",
      " 32%|███▏      | 64000/202356 [00:32<01:11, 1935.10it/s]\u001b[A\n",
      " 32%|███▏      | 64256/202356 [00:32<01:21, 1685.99it/s]\u001b[A\n",
      " 32%|███▏      | 64512/202356 [00:32<01:27, 1579.81it/s]\u001b[A\n",
      " 32%|███▏      | 64768/202356 [00:33<01:22, 1666.84it/s]\u001b[A\n",
      " 32%|███▏      | 65024/202356 [00:33<01:19, 1721.69it/s]\u001b[A\n",
      " 32%|███▏      | 65280/202356 [00:33<01:17, 1759.53it/s]\u001b[A\n",
      " 33%|███▎      | 65792/202356 [00:33<01:13, 1854.30it/s]\u001b[A\n",
      " 33%|███▎      | 66304/202356 [00:33<00:59, 2267.69it/s]\u001b[A\n",
      " 33%|███▎      | 66560/202356 [00:33<01:13, 1857.06it/s]\u001b[A\n",
      " 33%|███▎      | 66816/202356 [00:34<01:14, 1816.75it/s]\u001b[A\n",
      " 33%|███▎      | 67072/202356 [00:34<01:12, 1872.49it/s]\u001b[A\n",
      " 33%|███▎      | 67328/202356 [00:34<01:07, 1998.49it/s]\u001b[A\n",
      " 33%|███▎      | 67584/202356 [00:34<01:16, 1755.10it/s]\u001b[A\n",
      " 34%|███▎      | 67840/202356 [00:34<01:20, 1674.00it/s]\u001b[A\n",
      " 34%|███▎      | 68096/202356 [00:34<01:21, 1655.09it/s]\u001b[A\n",
      " 34%|███▍      | 68352/202356 [00:34<01:15, 1772.19it/s]\u001b[A\n",
      " 34%|███▍      | 68608/202356 [00:35<01:13, 1817.08it/s]\u001b[A\n",
      " 34%|███▍      | 68864/202356 [00:35<01:07, 1978.40it/s]\u001b[A\n",
      " 34%|███▍      | 69376/202356 [00:35<00:56, 2353.62it/s]\u001b[A\n",
      " 34%|███▍      | 69632/202356 [00:35<00:57, 2319.61it/s]\u001b[A\n",
      " 35%|███▍      | 69888/202356 [00:35<01:04, 2050.13it/s]\u001b[A\n",
      " 35%|███▍      | 70144/202356 [00:35<01:02, 2123.95it/s]\u001b[A\n",
      " 35%|███▍      | 70400/202356 [00:35<01:02, 2122.19it/s]\u001b[A\n",
      " 35%|███▌      | 70912/202356 [00:36<00:57, 2287.01it/s]\u001b[A\n",
      " 35%|███▌      | 71424/202356 [00:36<00:51, 2535.53it/s]\u001b[A\n",
      " 36%|███▌      | 71936/202356 [00:36<00:48, 2666.16it/s]\u001b[A\n",
      " 36%|███▌      | 72448/202356 [00:36<00:54, 2362.11it/s]\u001b[A\n",
      " 36%|███▌      | 72960/202356 [00:36<00:51, 2535.29it/s]\u001b[A\n",
      " 36%|███▋      | 73472/202356 [00:37<00:57, 2249.70it/s]\u001b[A\n",
      " 36%|███▋      | 73728/202356 [00:37<01:00, 2139.82it/s]\u001b[A\n",
      " 37%|███▋      | 73984/202356 [00:37<01:04, 1998.82it/s]\u001b[A\n",
      " 37%|███▋      | 74240/202356 [00:37<01:04, 1984.95it/s]\u001b[A\n",
      " 37%|███▋      | 74496/202356 [00:37<01:08, 1876.63it/s]\u001b[A\n",
      " 37%|███▋      | 74752/202356 [00:37<01:11, 1786.78it/s]\u001b[A\n",
      " 37%|███▋      | 75008/202356 [00:38<01:11, 1785.31it/s]\u001b[A\n",
      " 37%|███▋      | 75264/202356 [00:38<01:18, 1613.86it/s]\u001b[A\n",
      " 37%|███▋      | 75520/202356 [00:38<01:15, 1689.53it/s]\u001b[A\n",
      " 37%|███▋      | 75776/202356 [00:38<01:22, 1531.00it/s]\u001b[A\n",
      " 38%|███▊      | 76032/202356 [00:38<01:21, 1557.97it/s]\u001b[A\n",
      " 38%|███▊      | 76288/202356 [00:38<01:16, 1658.49it/s]\u001b[A\n",
      " 38%|███▊      | 76544/202356 [00:39<01:15, 1664.02it/s]\u001b[A\n",
      " 38%|███▊      | 76800/202356 [00:39<01:10, 1768.85it/s]\u001b[A\n",
      " 38%|███▊      | 77056/202356 [00:39<01:08, 1839.33it/s]\u001b[A\n",
      " 38%|███▊      | 77312/202356 [00:39<01:06, 1872.00it/s]\u001b[A\n",
      " 38%|███▊      | 77568/202356 [00:39<01:05, 1892.15it/s]\u001b[A\n",
      " 38%|███▊      | 77824/202356 [00:39<01:08, 1804.82it/s]\u001b[A\n",
      " 39%|███▊      | 78080/202356 [00:39<01:10, 1759.80it/s]\u001b[A\n",
      " 39%|███▊      | 78336/202356 [00:40<01:09, 1777.40it/s]\u001b[A\n",
      " 39%|███▉      | 78592/202356 [00:40<01:15, 1645.00it/s]\u001b[A\n",
      " 39%|███▉      | 78848/202356 [00:40<01:13, 1682.74it/s]\u001b[A\n",
      " 39%|███▉      | 79104/202356 [00:40<01:12, 1698.68it/s]\u001b[A\n",
      " 39%|███▉      | 79360/202356 [00:40<01:09, 1770.83it/s]\u001b[A\n",
      " 39%|███▉      | 79616/202356 [00:40<01:05, 1874.24it/s]\u001b[A\n",
      " 39%|███▉      | 79872/202356 [00:40<01:03, 1942.84it/s]\u001b[A\n",
      " 40%|███▉      | 80128/202356 [00:41<01:07, 1799.25it/s]\u001b[A\n"
     ]
    },
    {
     "name": "stderr",
     "output_type": "stream",
     "text": [
      " 40%|███▉      | 80640/202356 [00:41<00:56, 2154.14it/s]\u001b[A\n",
      " 40%|████      | 81152/202356 [00:41<00:49, 2448.67it/s]\u001b[A\n",
      " 40%|████      | 81408/202356 [00:41<00:53, 2259.25it/s]\u001b[A\n",
      " 40%|████      | 81664/202356 [00:41<01:04, 1872.63it/s]\u001b[A\n",
      " 40%|████      | 81920/202356 [00:41<01:06, 1800.56it/s]\u001b[A\n",
      " 41%|████      | 82176/202356 [00:42<01:05, 1842.38it/s]\u001b[A\n",
      " 41%|████      | 82688/202356 [00:42<01:00, 1983.51it/s]\u001b[A\n",
      " 41%|████      | 82944/202356 [00:42<01:04, 1839.00it/s]\u001b[A\n",
      " 41%|████      | 83200/202356 [00:42<01:04, 1844.94it/s]\u001b[A\n",
      " 41%|████      | 83456/202356 [00:42<01:05, 1817.76it/s]\u001b[A\n",
      " 41%|████▏     | 83712/202356 [00:42<01:04, 1852.41it/s]\u001b[A\n",
      " 41%|████▏     | 83968/202356 [00:42<01:02, 1895.20it/s]\u001b[A\n",
      " 42%|████▏     | 84224/202356 [00:43<01:02, 1891.08it/s]\u001b[A\n",
      " 42%|████▏     | 84480/202356 [00:43<01:03, 1845.08it/s]\u001b[A\n",
      " 42%|████▏     | 84736/202356 [00:43<01:06, 1761.84it/s]\u001b[A\n",
      " 42%|████▏     | 84992/202356 [00:43<01:07, 1740.10it/s]\u001b[A\n",
      " 42%|████▏     | 85248/202356 [00:43<01:08, 1703.48it/s]\u001b[A\n",
      " 42%|████▏     | 85504/202356 [00:43<01:13, 1591.91it/s]\u001b[A\n",
      " 42%|████▏     | 85760/202356 [00:44<01:16, 1515.43it/s]\u001b[A\n",
      " 43%|████▎     | 86016/202356 [00:44<01:16, 1511.56it/s]\u001b[A\n",
      " 43%|████▎     | 86272/202356 [00:44<01:11, 1618.03it/s]\u001b[A\n",
      " 43%|████▎     | 86528/202356 [00:44<01:07, 1724.96it/s]\u001b[A\n",
      " 43%|████▎     | 86784/202356 [00:44<01:05, 1768.38it/s]\u001b[A\n",
      " 43%|████▎     | 87040/202356 [00:44<01:10, 1640.66it/s]\u001b[A\n",
      " 43%|████▎     | 87296/202356 [00:44<01:05, 1766.73it/s]\u001b[A\n",
      " 43%|████▎     | 87552/202356 [00:45<01:02, 1823.91it/s]\u001b[A\n",
      " 43%|████▎     | 87808/202356 [00:45<01:04, 1768.99it/s]\u001b[A\n",
      " 44%|████▎     | 88064/202356 [00:45<01:01, 1851.31it/s]\u001b[A\n",
      " 44%|████▎     | 88320/202356 [00:45<01:00, 1885.89it/s]\u001b[A\n",
      " 44%|████▍     | 88576/202356 [00:45<00:59, 1918.48it/s]\u001b[A\n",
      " 44%|████▍     | 88832/202356 [00:45<00:59, 1924.04it/s]\u001b[A\n",
      " 44%|████▍     | 89344/202356 [00:45<00:46, 2426.05it/s]\u001b[A\n",
      " 44%|████▍     | 89856/202356 [00:46<00:37, 2988.33it/s]\u001b[A\n",
      " 45%|████▍     | 90368/202356 [00:46<00:33, 3340.63it/s]\u001b[A\n",
      " 45%|████▍     | 90880/202356 [00:46<00:32, 3474.80it/s]\u001b[A\n",
      " 45%|████▌     | 91392/202356 [00:46<00:40, 2773.16it/s]\u001b[A\n",
      " 45%|████▌     | 91904/202356 [00:46<00:48, 2295.03it/s]\u001b[A\n",
      " 46%|████▌     | 92416/202356 [00:47<00:52, 2085.13it/s]\u001b[A\n",
      " 46%|████▌     | 92672/202356 [00:47<00:53, 2069.41it/s]\u001b[A\n",
      " 46%|████▌     | 92928/202356 [00:47<00:56, 1950.45it/s]\u001b[A\n",
      " 46%|████▌     | 93184/202356 [00:47<01:00, 1815.67it/s]\u001b[A\n",
      " 46%|████▌     | 93440/202356 [00:47<01:00, 1810.72it/s]\u001b[A\n",
      " 46%|████▋     | 93696/202356 [00:47<00:59, 1838.75it/s]\u001b[A\n",
      " 46%|████▋     | 93952/202356 [00:48<01:03, 1717.27it/s]\u001b[A\n",
      " 47%|████▋     | 94208/202356 [00:48<01:01, 1759.83it/s]\u001b[A\n",
      " 47%|████▋     | 94464/202356 [00:48<00:59, 1818.13it/s]\u001b[A\n",
      " 47%|████▋     | 94720/202356 [00:48<00:56, 1896.69it/s]\u001b[A\n",
      " 47%|████▋     | 94976/202356 [00:48<01:04, 1655.80it/s]\u001b[A\n",
      " 47%|████▋     | 95232/202356 [00:48<01:03, 1688.80it/s]\u001b[A\n",
      " 47%|████▋     | 95488/202356 [00:48<01:01, 1726.45it/s]\u001b[A\n",
      " 47%|████▋     | 95744/202356 [00:49<01:02, 1711.99it/s]\u001b[A\n",
      " 47%|████▋     | 96000/202356 [00:49<00:59, 1774.18it/s]\u001b[A\n",
      " 48%|████▊     | 96256/202356 [00:49<01:00, 1751.23it/s]\u001b[A\n",
      " 48%|████▊     | 96512/202356 [00:49<00:58, 1817.84it/s]\u001b[A\n",
      " 48%|████▊     | 96768/202356 [00:49<00:55, 1907.36it/s]\u001b[A\n",
      " 48%|████▊     | 97024/202356 [00:49<00:51, 2064.93it/s]\u001b[A\n",
      " 48%|████▊     | 97280/202356 [00:49<00:50, 2088.40it/s]\u001b[A\n",
      " 48%|████▊     | 97536/202356 [00:49<00:50, 2084.86it/s]\u001b[A\n",
      " 48%|████▊     | 97792/202356 [00:50<00:49, 2124.05it/s]\u001b[A\n",
      " 49%|████▊     | 98304/202356 [00:50<00:41, 2485.83it/s]\u001b[A\n",
      " 49%|████▊     | 98560/202356 [00:50<00:44, 2342.88it/s]\u001b[A\n",
      " 49%|████▉     | 98816/202356 [00:50<00:43, 2367.76it/s]\u001b[A\n",
      " 49%|████▉     | 99072/202356 [00:50<00:48, 2140.36it/s]\u001b[A\n",
      " 49%|████▉     | 99328/202356 [00:50<00:50, 2028.65it/s]\u001b[A\n",
      " 49%|████▉     | 99584/202356 [00:50<00:51, 1977.11it/s]\u001b[A\n",
      " 49%|████▉     | 99840/202356 [00:50<00:50, 2041.60it/s]\u001b[A\n",
      " 49%|████▉     | 100096/202356 [00:51<00:49, 2045.82it/s]\u001b[A\n",
      " 50%|████▉     | 100352/202356 [00:51<00:51, 1969.70it/s]\u001b[A\n",
      " 50%|████▉     | 100608/202356 [00:51<00:52, 1947.15it/s]\u001b[A\n",
      " 50%|████▉     | 100864/202356 [00:51<00:52, 1931.50it/s]\u001b[A\n",
      " 50%|████▉     | 101120/202356 [00:51<00:55, 1821.90it/s]\u001b[A\n",
      " 50%|█████     | 101376/202356 [00:51<00:51, 1961.16it/s]\u001b[A\n",
      " 50%|█████     | 101632/202356 [00:51<00:52, 1919.52it/s]\u001b[A\n",
      " 50%|█████     | 101888/202356 [00:52<00:53, 1878.57it/s]\u001b[A\n",
      " 50%|█████     | 102144/202356 [00:52<00:56, 1764.66it/s]\u001b[A\n",
      " 51%|█████     | 102400/202356 [00:52<00:54, 1843.73it/s]\u001b[A\n",
      " 51%|█████     | 102656/202356 [00:52<00:53, 1876.27it/s]\u001b[A\n",
      " 51%|█████     | 102912/202356 [00:52<00:52, 1882.65it/s]\u001b[A\n",
      " 51%|█████     | 103168/202356 [00:52<00:52, 1899.49it/s]\u001b[A\n",
      " 51%|█████     | 103424/202356 [00:52<00:51, 1916.36it/s]\u001b[A\n",
      " 51%|█████     | 103680/202356 [00:53<00:50, 1941.18it/s]\u001b[A\n",
      " 51%|█████▏    | 103936/202356 [00:53<00:50, 1929.86it/s]\u001b[A\n",
      " 51%|█████▏    | 104192/202356 [00:53<00:51, 1894.04it/s]\u001b[A\n",
      " 52%|█████▏    | 104448/202356 [00:53<00:51, 1903.59it/s]\u001b[A\n",
      " 52%|█████▏    | 104704/202356 [00:53<00:49, 1953.34it/s]\u001b[A\n",
      " 52%|█████▏    | 104960/202356 [00:53<00:49, 1974.34it/s]\u001b[A\n",
      " 52%|█████▏    | 105216/202356 [00:53<00:48, 1985.07it/s]\u001b[A\n",
      " 52%|█████▏    | 105472/202356 [00:53<00:49, 1964.59it/s]\u001b[A\n",
      " 52%|█████▏    | 105728/202356 [00:54<00:51, 1889.62it/s]\u001b[A\n",
      " 52%|█████▏    | 105984/202356 [00:54<00:50, 1925.59it/s]\u001b[A\n",
      " 53%|█████▎    | 106240/202356 [00:54<00:49, 1947.44it/s]\u001b[A\n",
      " 53%|█████▎    | 106496/202356 [00:54<00:50, 1890.55it/s]\u001b[A\n",
      " 53%|█████▎    | 106752/202356 [00:54<00:49, 1913.08it/s]\u001b[A\n",
      " 53%|█████▎    | 107008/202356 [00:54<00:48, 1946.76it/s]\u001b[A\n",
      " 53%|█████▎    | 107264/202356 [00:54<00:48, 1969.53it/s]\u001b[A\n",
      " 53%|█████▎    | 107520/202356 [00:55<00:47, 1984.91it/s]\u001b[A\n",
      " 53%|█████▎    | 107776/202356 [00:55<00:50, 1891.20it/s]\u001b[A\n",
      " 53%|█████▎    | 108032/202356 [00:55<00:49, 1887.57it/s]\u001b[A\n",
      " 54%|█████▎    | 108288/202356 [00:55<00:48, 1950.65it/s]\u001b[A\n",
      " 54%|█████▎    | 108544/202356 [00:55<00:52, 1775.38it/s]\u001b[A\n",
      " 54%|█████▍    | 108800/202356 [00:55<00:57, 1632.40it/s]\u001b[A\n",
      " 54%|█████▍    | 109056/202356 [00:55<00:52, 1766.49it/s]\u001b[A\n",
      " 54%|█████▍    | 109312/202356 [00:56<00:48, 1923.19it/s]\u001b[A\n",
      " 54%|█████▍    | 109568/202356 [00:56<00:51, 1797.81it/s]\u001b[A\n",
      " 54%|█████▍    | 109824/202356 [00:56<00:57, 1609.71it/s]\u001b[A\n",
      " 54%|█████▍    | 110080/202356 [00:56<00:53, 1712.34it/s]\u001b[A\n",
      " 55%|█████▍    | 110336/202356 [00:56<00:55, 1659.13it/s]\u001b[A\n",
      " 55%|█████▍    | 110592/202356 [00:56<00:56, 1625.02it/s]\u001b[A\n",
      " 55%|█████▍    | 111104/202356 [00:57<00:49, 1832.89it/s]\u001b[A\n",
      " 55%|█████▌    | 111360/202356 [00:57<00:55, 1641.33it/s]\u001b[A\n",
      " 55%|█████▌    | 111616/202356 [00:57<00:52, 1721.21it/s]\u001b[A\n",
      " 55%|█████▌    | 111872/202356 [00:57<00:51, 1765.25it/s]\u001b[A\n",
      " 55%|█████▌    | 112128/202356 [00:57<00:50, 1774.50it/s]\u001b[A\n",
      " 56%|█████▌    | 112384/202356 [00:57<00:49, 1825.24it/s]\u001b[A\n",
      " 56%|█████▌    | 112640/202356 [00:57<00:47, 1876.65it/s]\u001b[A\n",
      " 56%|█████▌    | 113152/202356 [00:58<00:45, 1960.04it/s]\u001b[A\n",
      " 56%|█████▌    | 113408/202356 [00:58<00:44, 1998.05it/s]\u001b[A\n",
      " 56%|█████▌    | 113664/202356 [00:58<00:45, 1955.72it/s]\u001b[A\n",
      " 56%|█████▋    | 113920/202356 [00:58<00:46, 1919.32it/s]\u001b[A\n",
      " 56%|█████▋    | 114176/202356 [00:58<00:43, 2009.93it/s]\u001b[A\n",
      " 57%|█████▋    | 114432/202356 [00:58<00:47, 1848.92it/s]\u001b[A\n",
      " 57%|█████▋    | 114688/202356 [00:58<00:46, 1879.92it/s]\u001b[A\n",
      " 57%|█████▋    | 114944/202356 [00:59<00:45, 1938.15it/s]\u001b[A\n",
      " 57%|█████▋    | 115200/202356 [00:59<00:46, 1884.18it/s]\u001b[A\n",
      " 57%|█████▋    | 115456/202356 [00:59<00:47, 1813.15it/s]\u001b[A\n",
      " 57%|█████▋    | 115712/202356 [00:59<00:46, 1854.24it/s]\u001b[A\n",
      " 57%|█████▋    | 115968/202356 [00:59<00:48, 1768.97it/s]\u001b[A\n",
      " 57%|█████▋    | 116224/202356 [00:59<00:49, 1756.82it/s]\u001b[A\n",
      " 58%|█████▊    | 116480/202356 [01:00<00:51, 1660.44it/s]\u001b[A\n",
      " 58%|█████▊    | 116736/202356 [01:00<00:55, 1533.51it/s]\u001b[A\n",
      " 58%|█████▊    | 116992/202356 [01:00<00:52, 1634.74it/s]\u001b[A\n",
      " 58%|█████▊    | 117248/202356 [01:00<00:50, 1679.11it/s]\u001b[A\n",
      " 58%|█████▊    | 117504/202356 [01:00<00:50, 1694.91it/s]\u001b[A\n",
      " 58%|█████▊    | 117760/202356 [01:00<00:48, 1749.98it/s]\u001b[A\n",
      " 58%|█████▊    | 118016/202356 [01:00<00:50, 1684.59it/s]\u001b[A\n",
      " 58%|█████▊    | 118272/202356 [01:01<00:49, 1702.80it/s]\u001b[A\n",
      " 59%|█████▊    | 118528/202356 [01:01<00:48, 1718.68it/s]\u001b[A\n",
      " 59%|█████▊    | 118784/202356 [01:01<00:46, 1779.21it/s]\u001b[A\n",
      " 59%|█████▉    | 119296/202356 [01:01<00:37, 2218.19it/s]\u001b[A\n",
      " 59%|█████▉    | 119808/202356 [01:01<00:31, 2599.19it/s]\u001b[A\n",
      " 59%|█████▉    | 120320/202356 [01:01<00:27, 2977.93it/s]\u001b[A\n",
      " 60%|█████▉    | 120832/202356 [01:01<00:25, 3209.00it/s]\u001b[A\n",
      " 60%|█████▉    | 121344/202356 [01:02<00:26, 3086.02it/s]\u001b[A\n",
      " 60%|██████    | 121856/202356 [01:02<00:30, 2649.59it/s]\u001b[A\n",
      " 60%|██████    | 122368/202356 [01:02<00:34, 2286.90it/s]\u001b[A\n",
      " 61%|██████    | 122624/202356 [01:02<00:37, 2099.80it/s]\u001b[A\n",
      " 61%|██████    | 122880/202356 [01:02<00:36, 2170.07it/s]\u001b[A\n",
      " 61%|██████    | 123392/202356 [01:03<00:35, 2241.97it/s]\u001b[A\n",
      " 61%|██████    | 123648/202356 [01:03<00:36, 2133.32it/s]\u001b[A\n",
      " 61%|██████    | 123904/202356 [01:03<00:35, 2204.63it/s]\u001b[A\n",
      " 61%|██████▏   | 124160/202356 [01:03<00:35, 2174.54it/s]\u001b[A\n",
      " 61%|██████▏   | 124416/202356 [01:03<00:37, 2104.66it/s]\u001b[A\n",
      " 62%|██████▏   | 124928/202356 [01:03<00:33, 2302.07it/s]\u001b[A\n",
      " 62%|██████▏   | 125184/202356 [01:03<00:33, 2291.71it/s]\u001b[A\n",
      " 62%|██████▏   | 125440/202356 [01:04<00:32, 2334.89it/s]\u001b[A\n",
      " 62%|██████▏   | 125696/202356 [01:04<00:35, 2170.19it/s]\u001b[A\n",
      " 62%|██████▏   | 125952/202356 [01:04<00:35, 2170.50it/s]\u001b[A\n",
      " 62%|██████▏   | 126208/202356 [01:04<00:37, 2011.44it/s]\u001b[A\n",
      " 62%|██████▏   | 126464/202356 [01:04<00:36, 2063.80it/s]\u001b[A\n",
      " 63%|██████▎   | 126720/202356 [01:04<00:38, 1974.04it/s]\u001b[A\n",
      " 63%|██████▎   | 126976/202356 [01:04<00:38, 1974.21it/s]\u001b[A\n",
      " 63%|██████▎   | 127232/202356 [01:04<00:36, 2045.60it/s]\u001b[A\n",
      " 63%|██████▎   | 127488/202356 [01:05<00:36, 2061.52it/s]\u001b[A\n",
      " 63%|██████▎   | 127744/202356 [01:05<00:36, 2054.11it/s]\u001b[A\n",
      " 63%|██████▎   | 128000/202356 [01:05<00:35, 2086.54it/s]\u001b[A\n",
      " 63%|██████▎   | 128256/202356 [01:05<00:36, 2008.18it/s]\u001b[A\n",
      " 64%|██████▎   | 128512/202356 [01:05<00:38, 1911.09it/s]\u001b[A\n",
      " 64%|██████▎   | 128768/202356 [01:05<00:37, 1942.91it/s]\u001b[A\n",
      " 64%|██████▍   | 129024/202356 [01:05<00:37, 1955.12it/s]\u001b[A\n",
      " 64%|██████▍   | 129280/202356 [01:06<00:38, 1896.95it/s]\u001b[A\n",
      " 64%|██████▍   | 129536/202356 [01:06<00:37, 1954.88it/s]\u001b[A\n",
      " 64%|██████▍   | 129792/202356 [01:06<00:37, 1946.52it/s]\u001b[A\n",
      " 64%|██████▍   | 130048/202356 [01:06<00:36, 1980.03it/s]\u001b[A\n",
      " 64%|██████▍   | 130304/202356 [01:06<00:41, 1737.12it/s]\u001b[A\n",
      " 65%|██████▍   | 130560/202356 [01:06<00:42, 1705.53it/s]\u001b[A\n",
      " 65%|██████▍   | 130816/202356 [01:06<00:40, 1754.23it/s]\u001b[A\n",
      " 65%|██████▍   | 131072/202356 [01:07<00:39, 1824.49it/s]\u001b[A\n",
      " 65%|██████▍   | 131328/202356 [01:07<00:36, 1925.30it/s]\u001b[A\n",
      " 65%|██████▌   | 131840/202356 [01:07<00:28, 2441.47it/s]\u001b[A\n",
      " 65%|██████▌   | 132352/202356 [01:07<00:26, 2607.45it/s]\u001b[A\n",
      " 66%|██████▌   | 132864/202356 [01:07<00:26, 2608.35it/s]\u001b[A\n",
      " 66%|██████▌   | 133376/202356 [01:07<00:28, 2409.16it/s]\u001b[A\n",
      " 66%|██████▌   | 133632/202356 [01:08<00:29, 2330.39it/s]\u001b[A\n",
      " 66%|██████▌   | 133888/202356 [01:08<00:31, 2198.60it/s]\u001b[A\n",
      " 66%|██████▋   | 134144/202356 [01:08<00:32, 2127.99it/s]\u001b[A\n",
      " 66%|██████▋   | 134400/202356 [01:08<00:32, 2112.87it/s]\u001b[A\n",
      " 67%|██████▋   | 134912/202356 [01:08<00:28, 2378.89it/s]\u001b[A\n",
      " 67%|██████▋   | 135424/202356 [01:08<00:25, 2660.36it/s]\u001b[A\n",
      " 67%|██████▋   | 135936/202356 [01:08<00:24, 2743.77it/s]\u001b[A\n",
      " 67%|██████▋   | 136448/202356 [01:09<00:24, 2700.97it/s]\u001b[A\n",
      " 68%|██████▊   | 136960/202356 [01:09<00:25, 2539.28it/s]\u001b[A\n",
      " 68%|██████▊   | 137472/202356 [01:09<00:23, 2707.16it/s]\u001b[A\n",
      " 68%|██████▊   | 137984/202356 [01:09<00:22, 2871.12it/s]\u001b[A\n",
      " 68%|██████▊   | 138496/202356 [01:09<00:22, 2897.15it/s]\u001b[A\n",
      " 69%|██████▊   | 139008/202356 [01:10<00:24, 2585.10it/s]\u001b[A\n",
      " 69%|██████▉   | 139520/202356 [01:10<00:27, 2288.71it/s]\u001b[A\n",
      " 69%|██████▉   | 139776/202356 [01:10<00:27, 2283.33it/s]\u001b[A\n",
      " 69%|██████▉   | 140032/202356 [01:10<00:29, 2130.66it/s]\u001b[A\n",
      " 69%|██████▉   | 140288/202356 [01:10<00:29, 2082.56it/s]\u001b[A\n",
      " 69%|██████▉   | 140544/202356 [01:10<00:31, 1958.87it/s]\u001b[A\n",
      " 70%|██████▉   | 140800/202356 [01:11<00:30, 2002.99it/s]\u001b[A\n",
      " 70%|██████▉   | 141056/202356 [01:11<00:30, 2015.36it/s]\u001b[A\n",
      " 70%|██████▉   | 141312/202356 [01:11<00:31, 1929.74it/s]\u001b[A\n",
      " 70%|██████▉   | 141568/202356 [01:11<00:29, 2037.34it/s]\u001b[A\n",
      " 70%|███████   | 142080/202356 [01:11<00:24, 2417.33it/s]\u001b[A\n",
      " 70%|███████   | 142336/202356 [01:11<00:26, 2261.71it/s]\u001b[A\n",
      " 70%|███████   | 142592/202356 [01:11<00:27, 2161.37it/s]\u001b[A\n",
      " 71%|███████   | 142848/202356 [01:12<00:30, 1962.91it/s]\u001b[A\n",
      " 71%|███████   | 143104/202356 [01:12<00:29, 1975.93it/s]\u001b[A\n",
      " 71%|███████   | 143360/202356 [01:12<00:31, 1871.06it/s]\u001b[A\n",
      " 71%|███████   | 143616/202356 [01:12<00:34, 1694.51it/s]\u001b[A\n",
      " 71%|███████   | 143872/202356 [01:12<00:33, 1731.59it/s]\u001b[A\n",
      " 71%|███████   | 144128/202356 [01:12<00:33, 1716.60it/s]\u001b[A\n",
      " 71%|███████▏  | 144384/202356 [01:12<00:32, 1783.04it/s]\u001b[A\n",
      " 71%|███████▏  | 144640/202356 [01:13<00:31, 1848.01it/s]\u001b[A\n",
      " 72%|███████▏  | 144896/202356 [01:13<00:31, 1811.12it/s]\u001b[A\n",
      " 72%|███████▏  | 145152/202356 [01:13<00:30, 1851.34it/s]\u001b[A\n",
      " 72%|███████▏  | 145408/202356 [01:13<00:29, 1919.48it/s]\u001b[A\n",
      " 72%|███████▏  | 145664/202356 [01:13<00:29, 1898.73it/s]\u001b[A\n",
      " 72%|███████▏  | 145920/202356 [01:13<00:30, 1851.39it/s]\u001b[A\n",
      " 72%|███████▏  | 146176/202356 [01:13<00:28, 1944.98it/s]\u001b[A\n",
      " 72%|███████▏  | 146432/202356 [01:13<00:28, 1973.25it/s]\u001b[A\n",
      " 72%|███████▏  | 146688/202356 [01:14<00:31, 1792.38it/s]\u001b[A\n",
      " 73%|███████▎  | 147200/202356 [01:14<00:24, 2289.28it/s]\u001b[A\n",
      " 73%|███████▎  | 147456/202356 [01:14<00:25, 2126.92it/s]\u001b[A\n",
      " 73%|███████▎  | 147712/202356 [01:14<00:25, 2120.30it/s]\u001b[A\n",
      " 73%|███████▎  | 148224/202356 [01:14<00:22, 2457.67it/s]\u001b[A\n",
      " 74%|███████▎  | 148736/202356 [01:14<00:22, 2381.07it/s]\u001b[A\n",
      " 74%|███████▍  | 149248/202356 [01:15<00:22, 2345.72it/s]\u001b[A\n",
      " 74%|███████▍  | 149504/202356 [01:15<00:23, 2205.75it/s]\u001b[A\n",
      " 74%|███████▍  | 149760/202356 [01:15<00:24, 2176.14it/s]\u001b[A\n",
      " 74%|███████▍  | 150272/202356 [01:15<00:24, 2140.42it/s]\u001b[A\n",
      " 74%|███████▍  | 150528/202356 [01:15<00:25, 2060.32it/s]\u001b[A\n",
      " 75%|███████▍  | 150784/202356 [01:15<00:25, 2019.00it/s]\u001b[A\n",
      " 75%|███████▍  | 151040/202356 [01:16<00:25, 2021.91it/s]\u001b[A\n",
      " 75%|███████▍  | 151296/202356 [01:16<00:24, 2062.99it/s]\u001b[A\n",
      " 75%|███████▍  | 151552/202356 [01:16<00:25, 2013.94it/s]\u001b[A\n",
      " 75%|███████▌  | 151808/202356 [01:16<00:26, 1937.62it/s]\u001b[A\n",
      " 75%|███████▌  | 152064/202356 [01:16<00:26, 1869.54it/s]\u001b[A\n",
      " 75%|███████▌  | 152320/202356 [01:16<00:26, 1857.79it/s]\u001b[A\n",
      " 76%|███████▌  | 152832/202356 [01:16<00:20, 2367.12it/s]\u001b[A\n",
      " 76%|███████▌  | 153344/202356 [01:17<00:16, 2910.98it/s]\u001b[A\n",
      " 76%|███████▌  | 153856/202356 [01:17<00:14, 3372.48it/s]\u001b[A\n",
      " 76%|███████▋  | 154368/202356 [01:17<00:13, 3676.42it/s]\u001b[A\n",
      " 77%|███████▋  | 154880/202356 [01:17<00:13, 3642.44it/s]\u001b[A\n",
      " 77%|███████▋  | 155392/202356 [01:17<00:15, 3118.55it/s]\u001b[A\n",
      " 77%|███████▋  | 155904/202356 [01:17<00:14, 3185.22it/s]\u001b[A\n",
      " 77%|███████▋  | 156416/202356 [01:17<00:15, 2895.30it/s]\u001b[A\n",
      " 78%|███████▊  | 156928/202356 [01:18<00:16, 2775.64it/s]\u001b[A\n",
      " 78%|███████▊  | 157440/202356 [01:18<00:15, 2956.50it/s]\u001b[A\n",
      " 78%|███████▊  | 157952/202356 [01:18<00:14, 3015.87it/s]\u001b[A\n",
      " 78%|███████▊  | 158464/202356 [01:18<00:14, 3087.74it/s]\u001b[A\n",
      " 79%|███████▊  | 158976/202356 [01:18<00:14, 2957.04it/s]\u001b[A\n",
      " 79%|███████▉  | 159488/202356 [01:18<00:13, 3091.64it/s]\u001b[A\n",
      " 79%|███████▉  | 160000/202356 [01:19<00:15, 2764.52it/s]\u001b[A\n",
      " 79%|███████▉  | 160512/202356 [01:19<00:17, 2436.77it/s]\u001b[A\n",
      " 80%|███████▉  | 161024/202356 [01:19<00:18, 2238.43it/s]\u001b[A\n",
      " 80%|███████▉  | 161280/202356 [01:19<00:18, 2223.23it/s]\u001b[A\n",
      " 80%|███████▉  | 161536/202356 [01:19<00:18, 2208.32it/s]\u001b[A\n",
      " 80%|████████  | 162048/202356 [01:20<00:16, 2484.99it/s]\u001b[A\n",
      " 80%|████████  | 162560/202356 [01:20<00:14, 2717.35it/s]\u001b[A\n",
      " 81%|████████  | 163072/202356 [01:20<00:15, 2587.90it/s]\u001b[A\n",
      " 81%|████████  | 163584/202356 [01:20<00:14, 2622.26it/s]\u001b[A\n",
      " 81%|████████  | 164096/202356 [01:20<00:16, 2304.95it/s]\u001b[A\n",
      " 81%|████████  | 164352/202356 [01:21<00:17, 2133.56it/s]\u001b[A\n",
      " 81%|████████▏ | 164608/202356 [01:21<00:17, 2136.17it/s]\u001b[A\n",
      " 81%|████████▏ | 164864/202356 [01:21<00:17, 2101.02it/s]\u001b[A\n",
      " 82%|████████▏ | 165120/202356 [01:21<00:17, 2137.71it/s]\u001b[A\n",
      " 82%|████████▏ | 165376/202356 [01:21<00:18, 1991.87it/s]\u001b[A\n"
     ]
    },
    {
     "name": "stderr",
     "output_type": "stream",
     "text": [
      " 82%|████████▏ | 165632/202356 [01:21<00:18, 1957.62it/s]\u001b[A\n",
      " 82%|████████▏ | 165888/202356 [01:21<00:18, 1992.78it/s]\u001b[A\n",
      " 82%|████████▏ | 166144/202356 [01:22<00:17, 2054.16it/s]\u001b[A\n",
      " 82%|████████▏ | 166400/202356 [01:22<00:17, 2047.71it/s]\u001b[A\n",
      " 82%|████████▏ | 166656/202356 [01:22<00:17, 2041.40it/s]\u001b[A\n",
      " 82%|████████▏ | 166912/202356 [01:22<00:17, 2015.16it/s]\u001b[A\n",
      " 83%|████████▎ | 167168/202356 [01:22<00:20, 1724.01it/s]\u001b[A\n",
      " 83%|████████▎ | 167424/202356 [01:22<00:22, 1565.27it/s]\u001b[A\n",
      " 83%|████████▎ | 167680/202356 [01:23<00:23, 1467.86it/s]\u001b[A\n",
      " 83%|████████▎ | 167936/202356 [01:23<00:24, 1404.33it/s]\u001b[A\n",
      " 83%|████████▎ | 168192/202356 [01:23<00:23, 1428.85it/s]\u001b[A\n",
      " 83%|████████▎ | 168448/202356 [01:23<00:22, 1499.25it/s]\u001b[A\n",
      " 83%|████████▎ | 168704/202356 [01:23<00:21, 1536.40it/s]\u001b[A\n",
      " 83%|████████▎ | 168960/202356 [01:23<00:20, 1603.77it/s]\u001b[A\n",
      " 84%|████████▎ | 169216/202356 [01:23<00:20, 1652.20it/s]\u001b[A\n",
      " 84%|████████▎ | 169472/202356 [01:24<00:19, 1707.24it/s]\u001b[A\n",
      " 84%|████████▍ | 169728/202356 [01:24<00:18, 1743.60it/s]\u001b[A\n",
      " 84%|████████▍ | 169984/202356 [01:24<00:19, 1662.39it/s]\u001b[A\n",
      " 84%|████████▍ | 170240/202356 [01:24<00:18, 1719.95it/s]\u001b[A\n",
      " 84%|████████▍ | 170496/202356 [01:24<00:17, 1843.85it/s]\u001b[A\n",
      " 84%|████████▍ | 170752/202356 [01:24<00:16, 1931.15it/s]\u001b[A\n",
      " 85%|████████▍ | 171264/202356 [01:25<00:15, 1963.56it/s]\u001b[A\n",
      " 85%|████████▍ | 171520/202356 [01:25<00:15, 1995.61it/s]\u001b[A\n",
      " 85%|████████▍ | 171776/202356 [01:25<00:15, 2019.39it/s]\u001b[A\n",
      " 85%|████████▌ | 172032/202356 [01:25<00:15, 1961.40it/s]\u001b[A\n",
      " 85%|████████▌ | 172288/202356 [01:25<00:15, 1942.10it/s]\u001b[A\n",
      " 85%|████████▌ | 172544/202356 [01:25<00:15, 1965.75it/s]\u001b[A\n",
      " 85%|████████▌ | 172800/202356 [01:25<00:15, 1894.36it/s]\u001b[A\n",
      " 86%|████████▌ | 173056/202356 [01:25<00:15, 1868.42it/s]\u001b[A\n",
      " 86%|████████▌ | 173312/202356 [01:26<00:15, 1879.72it/s]\u001b[A\n",
      " 86%|████████▌ | 173568/202356 [01:26<00:15, 1840.00it/s]\u001b[A\n",
      " 86%|████████▌ | 173824/202356 [01:26<00:15, 1868.15it/s]\u001b[A\n",
      " 86%|████████▌ | 174080/202356 [01:26<00:14, 1894.25it/s]\u001b[A\n",
      " 86%|████████▋ | 174592/202356 [01:26<00:12, 2288.09it/s]\u001b[A\n",
      " 87%|████████▋ | 175104/202356 [01:26<00:10, 2507.69it/s]\u001b[A\n",
      " 87%|████████▋ | 175360/202356 [01:27<00:11, 2330.79it/s]\u001b[A\n",
      " 87%|████████▋ | 175616/202356 [01:27<00:12, 2147.69it/s]\u001b[A\n",
      " 87%|████████▋ | 175872/202356 [01:27<00:12, 2149.74it/s]\u001b[A\n",
      " 87%|████████▋ | 176128/202356 [01:27<00:12, 2046.64it/s]\u001b[A\n",
      " 87%|████████▋ | 176384/202356 [01:27<00:13, 1875.17it/s]\u001b[A\n",
      " 87%|████████▋ | 176640/202356 [01:27<00:13, 1854.86it/s]\u001b[A\n",
      " 87%|████████▋ | 176896/202356 [01:27<00:13, 1877.97it/s]\u001b[A\n",
      " 88%|████████▊ | 177152/202356 [01:28<00:14, 1766.95it/s]\u001b[A\n",
      " 88%|████████▊ | 177408/202356 [01:28<00:13, 1826.31it/s]\u001b[A\n",
      " 88%|████████▊ | 177664/202356 [01:28<00:12, 1980.10it/s]\u001b[A\n",
      " 88%|████████▊ | 178176/202356 [01:28<00:09, 2462.67it/s]\u001b[A\n",
      " 88%|████████▊ | 178688/202356 [01:28<00:08, 2734.04it/s]\u001b[A\n",
      " 89%|████████▊ | 179200/202356 [01:28<00:09, 2330.54it/s]\u001b[A\n",
      " 89%|████████▊ | 179456/202356 [01:28<00:10, 2192.12it/s]\u001b[A\n",
      " 89%|████████▉ | 179712/202356 [01:29<00:10, 2081.16it/s]\u001b[A\n",
      " 89%|████████▉ | 179968/202356 [01:29<00:10, 2123.98it/s]\u001b[A\n",
      " 89%|████████▉ | 180224/202356 [01:29<00:10, 2012.07it/s]\u001b[A\n",
      " 89%|████████▉ | 180480/202356 [01:29<00:11, 1969.59it/s]\u001b[A\n",
      " 89%|████████▉ | 180736/202356 [01:29<00:11, 1918.16it/s]\u001b[A\n",
      " 89%|████████▉ | 180992/202356 [01:29<00:10, 1953.32it/s]\u001b[A\n",
      " 90%|████████▉ | 181248/202356 [01:29<00:10, 1928.41it/s]\u001b[A\n",
      " 90%|████████▉ | 181504/202356 [01:30<00:11, 1888.76it/s]\u001b[A\n",
      " 90%|████████▉ | 181760/202356 [01:30<00:11, 1814.67it/s]\u001b[A\n",
      " 90%|████████▉ | 182016/202356 [01:30<00:10, 1931.66it/s]\u001b[A\n",
      " 90%|█████████ | 182272/202356 [01:30<00:10, 1900.66it/s]\u001b[A\n",
      " 90%|█████████ | 182528/202356 [01:30<00:10, 1903.26it/s]\u001b[A\n",
      " 90%|█████████ | 182784/202356 [01:30<00:10, 1930.57it/s]\u001b[A\n",
      " 90%|█████████ | 183040/202356 [01:30<00:10, 1846.63it/s]\u001b[A\n",
      " 91%|█████████ | 183296/202356 [01:31<00:11, 1663.18it/s]\u001b[A\n",
      " 91%|█████████ | 183552/202356 [01:31<00:11, 1581.82it/s]\u001b[A\n",
      " 91%|█████████ | 183808/202356 [01:31<00:12, 1509.76it/s]\u001b[A\n",
      " 91%|█████████ | 184064/202356 [01:31<00:11, 1529.71it/s]\u001b[A\n",
      " 91%|█████████ | 184320/202356 [01:31<00:11, 1565.83it/s]\u001b[A\n",
      " 91%|█████████ | 184576/202356 [01:31<00:11, 1535.05it/s]\u001b[A\n",
      " 91%|█████████▏| 184832/202356 [01:32<00:10, 1672.33it/s]\u001b[A\n",
      " 92%|█████████▏| 185344/202356 [01:32<00:07, 2307.50it/s]\u001b[A\n",
      " 92%|█████████▏| 185856/202356 [01:32<00:05, 2840.63it/s]\u001b[A\n",
      " 92%|█████████▏| 186368/202356 [01:32<00:05, 3182.25it/s]\u001b[A\n",
      " 92%|█████████▏| 186880/202356 [01:32<00:04, 3235.85it/s]\u001b[A\n",
      " 93%|█████████▎| 187392/202356 [01:32<00:04, 3007.06it/s]\u001b[A\n",
      " 93%|█████████▎| 187904/202356 [01:33<00:05, 2602.59it/s]\u001b[A\n",
      " 93%|█████████▎| 188416/202356 [01:33<00:05, 2370.80it/s]\u001b[A\n",
      " 93%|█████████▎| 188672/202356 [01:33<00:05, 2377.09it/s]\u001b[A\n",
      " 93%|█████████▎| 188928/202356 [01:33<00:06, 2184.67it/s]\u001b[A\n",
      " 94%|█████████▎| 189440/202356 [01:33<00:05, 2304.71it/s]\u001b[A\n",
      " 94%|█████████▎| 189696/202356 [01:33<00:05, 2190.79it/s]\u001b[A\n",
      " 94%|█████████▍| 189952/202356 [01:34<00:05, 2161.28it/s]\u001b[A\n",
      " 94%|█████████▍| 190208/202356 [01:34<00:05, 2130.61it/s]\u001b[A\n",
      " 94%|█████████▍| 190464/202356 [01:34<00:05, 2042.25it/s]\u001b[A\n",
      " 94%|█████████▍| 190720/202356 [01:34<00:05, 2005.39it/s]\u001b[A\n",
      " 94%|█████████▍| 190976/202356 [01:34<00:05, 1991.35it/s]\u001b[A\n",
      " 95%|█████████▍| 191232/202356 [01:34<00:05, 1879.48it/s]\u001b[A\n",
      " 95%|█████████▍| 191488/202356 [01:34<00:05, 2010.08it/s]\u001b[A\n",
      " 95%|█████████▍| 191744/202356 [01:34<00:05, 2068.53it/s]\u001b[A\n",
      " 95%|█████████▍| 192000/202356 [01:35<00:05, 1894.46it/s]\u001b[A\n",
      " 95%|█████████▌| 192256/202356 [01:35<00:05, 1791.93it/s]\u001b[A\n",
      " 95%|█████████▌| 192512/202356 [01:35<00:05, 1885.44it/s]\u001b[A\n",
      " 95%|█████████▌| 192768/202356 [01:35<00:05, 1879.72it/s]\u001b[A\n",
      " 95%|█████████▌| 193024/202356 [01:35<00:05, 1844.99it/s]\u001b[A\n",
      " 96%|█████████▌| 193536/202356 [01:35<00:03, 2288.51it/s]\u001b[A\n",
      " 96%|█████████▌| 193792/202356 [01:35<00:03, 2209.41it/s]\u001b[A\n",
      " 96%|█████████▌| 194048/202356 [01:36<00:04, 2060.01it/s]\u001b[A\n",
      " 96%|█████████▌| 194304/202356 [01:36<00:03, 2105.92it/s]\u001b[A\n",
      " 96%|█████████▋| 194816/202356 [01:36<00:03, 2449.97it/s]\u001b[A\n",
      " 97%|█████████▋| 195328/202356 [01:36<00:02, 2725.03it/s]\u001b[A\n",
      " 97%|█████████▋| 195840/202356 [01:36<00:02, 2741.19it/s]\u001b[A\n",
      " 97%|█████████▋| 196352/202356 [01:36<00:02, 2857.87it/s]\u001b[A\n",
      " 97%|█████████▋| 196864/202356 [01:37<00:02, 2656.53it/s]\u001b[A\n",
      " 98%|█████████▊| 197376/202356 [01:37<00:01, 2893.06it/s]\u001b[A\n",
      " 98%|█████████▊| 197888/202356 [01:37<00:01, 2719.28it/s]\u001b[A\n",
      " 98%|█████████▊| 198400/202356 [01:37<00:01, 2814.47it/s]\u001b[A\n",
      " 98%|█████████▊| 198912/202356 [01:37<00:01, 2918.29it/s]\u001b[A\n",
      " 99%|█████████▊| 199424/202356 [01:37<00:01, 2858.50it/s]\u001b[A\n",
      " 99%|█████████▉| 199936/202356 [01:38<00:01, 2379.60it/s]\u001b[A\n",
      " 99%|█████████▉| 200192/202356 [01:38<00:00, 2334.88it/s]\u001b[A\n",
      " 99%|█████████▉| 200448/202356 [01:38<00:00, 2182.78it/s]\u001b[A\n",
      " 99%|█████████▉| 200704/202356 [01:38<00:00, 2219.11it/s]\u001b[A\n",
      " 99%|█████████▉| 200960/202356 [01:38<00:00, 2120.54it/s]\u001b[A\n",
      " 99%|█████████▉| 201216/202356 [01:38<00:00, 2090.70it/s]\u001b[A\n",
      "100%|█████████▉| 201472/202356 [01:39<00:00, 1856.66it/s]\u001b[A\n",
      "100%|█████████▉| 201728/202356 [01:39<00:00, 1957.78it/s]\u001b[A\n",
      "100%|█████████▉| 202240/202356 [01:39<00:00, 2278.47it/s]\u001b[A\n",
      "202496it [02:06, 1596.58it/s]                            \u001b[A\n"
     ]
    }
   ],
   "source": [
    "test_ds_pi = zip(test_x, test_y)\n",
    "test_ds_pi = [(x[0], x[1]) for x in test_ds_pi if len(x[0])>0]\n",
    "test_x_pi, test_y_pi = zip(*test_ds_pi)\n",
    "\n",
    "test_x_pi = [', '.join(x) for x in test_x_pi]\n",
    "bio_embs = get_sbertbased_results_batched(twitter_ft_sbert, test_x_pi, bs=256)"
   ]
  },
  {
   "cell_type": "code",
   "execution_count": 59,
   "id": "5af80de8",
   "metadata": {},
   "outputs": [
    {
     "data": {
      "text/plain": [
       "['just a 22 year old living one hell of a life',\n",
       " 'mom, nurse, animal lover, hockey lover, david beckham lover, adore my true friends, limits are set with family',\n",
       " 'catholic, business management, txst 21',\n",
       " \"hulk hogan's fourth cousin, twice removed, he, him, his\",\n",
       " 'mom of 3, occupational therapist, rodan+fields business owner, user, love all things outlander, nodcc, clt-lana']"
      ]
     },
     "execution_count": 59,
     "metadata": {},
     "output_type": "execute_result"
    }
   ],
   "source": [
    "test_x_pi[:5]"
   ]
  },
  {
   "cell_type": "markdown",
   "id": "72e400ca",
   "metadata": {},
   "source": [
    "#### pole embeddings"
   ]
  },
  {
   "cell_type": "code",
   "execution_count": 60,
   "id": "98f44bd5",
   "metadata": {},
   "outputs": [
    {
     "name": "stderr",
     "output_type": "stream",
     "text": [
      "\n",
      "256it [00:00, 27136.62it/s]          \u001b[A\n",
      "\n",
      "256it [00:00, 34315.81it/s]          \u001b[A\n"
     ]
    }
   ],
   "source": [
    "political_dimension = [\n",
    "    ['republican', 'trump supporter', 'conservative'],\n",
    "    ['democrat', 'biden', 'harris']\n",
    "]\n",
    "\n",
    "pole1 = get_sbertbased_results_batched(\n",
    "    twitter_ft_sbert,\n",
    "    [','.join(political_dimension[0])],\n",
    "    bs=256,\n",
    ")\n",
    "\n",
    "pole2 = get_sbertbased_results_batched(\n",
    "    twitter_ft_sbert,\n",
    "    [','.join(political_dimension[1])],\n",
    "    bs=256,\n",
    ")"
   ]
  },
  {
   "cell_type": "markdown",
   "id": "f2a23b22",
   "metadata": {},
   "source": [
    "#### normalize embeddings"
   ]
  },
  {
   "cell_type": "code",
   "execution_count": 63,
   "id": "5d0aef2d",
   "metadata": {},
   "outputs": [],
   "source": [
    "from numpy import linalg as LA\n",
    "import numpy as np\n",
    "\n",
    "\n",
    "def normalize(wv):\n",
    "    # normalize vectors\n",
    "    norms = np.apply_along_axis(LA.norm, 1, wv)\n",
    "    wv = wv / (norms[:, np.newaxis]+1e-6)\n",
    "    return wv\n",
    "\n",
    "\n",
    "pole1_norm = normalize(pole1.numpy())[0]\n",
    "pole2_norm = normalize(pole2.numpy())[0]\n",
    "embs_norm = normalize(bio_embs.numpy())\n",
    "\n"
   ]
  },
  {
   "cell_type": "markdown",
   "id": "7e53f85b",
   "metadata": {},
   "source": [
    "#### projection to the dimension"
   ]
  },
  {
   "cell_type": "code",
   "execution_count": 64,
   "id": "9eb65c6e",
   "metadata": {},
   "outputs": [],
   "source": [
    "def ripa(w, b):\n",
    "    return w.dot(b)/LA.norm(b)\n",
    "\n",
    "diff = pole2_norm - pole1_norm\n",
    "scores = []\n",
    "for e in embs_norm:\n",
    "    scores.append(ripa(e, diff))\n",
    "    \n",
    "scores = [0.0 if x < 0 else 1.0 for x in scores]"
   ]
  },
  {
   "cell_type": "code",
   "execution_count": 65,
   "id": "9e15e46d",
   "metadata": {},
   "outputs": [
    {
     "name": "stderr",
     "output_type": "stream",
     "text": [
      "\n",
      "256it [00:00, 27608.30it/s]          \u001b[A\n"
     ]
    },
    {
     "data": {
      "text/plain": [
       "-0.47110555"
      ]
     },
     "execution_count": 65,
     "metadata": {},
     "output_type": "execute_result"
    }
   ],
   "source": [
    "ripa(\n",
    "    get_sbertbased_results_batched(\n",
    "        twitter_ft_sbert,\n",
    "        ['maga'],\n",
    "        bs=256,\n",
    "    ).numpy()[0],\n",
    "    diff\n",
    ")"
   ]
  },
  {
   "cell_type": "code",
   "execution_count": 67,
   "id": "4511a79f",
   "metadata": {},
   "outputs": [
    {
     "data": {
      "text/plain": [
       "(0.46539502164502167,\n",
       " 0.4376343675660548,\n",
       " 0.45108798982488574,\n",
       " 0.5862489869339185)"
      ]
     },
     "execution_count": 67,
     "metadata": {},
     "output_type": "execute_result"
    }
   ],
   "source": [
    "tp_ftsbert_pi, tr_ftsbert_pi, tf_ftsbert_pi, ta_ftsbert_pi = calculate_metrics(scores, test_y_pi)\n",
    "tp_ftsbert_pi, tr_ftsbert_pi, tf_ftsbert_pi, ta_ftsbert_pi"
   ]
  },
  {
   "cell_type": "markdown",
   "id": "af5600a8",
   "metadata": {},
   "source": [
    "# Comparing all models"
   ]
  },
  {
   "cell_type": "code",
   "execution_count": 83,
   "id": "60e336cd",
   "metadata": {},
   "outputs": [
    {
     "data": {
      "text/plain": [
       "Text(0, 0.5, 'F-1 score')"
      ]
     },
     "execution_count": 83,
     "metadata": {},
     "output_type": "execute_result"
    },
    {
     "data": {
      "image/png": "[encoded data removed]",
      "text/plain": [
       "<Figure size 432x288 with 1 Axes>"
      ]
     },
     "metadata": {},
     "output_type": "display_data"
    }
   ],
   "source": [
    "sns.barplot(\n",
    "    x = [\n",
    "        'logistic regression + tfidf',\n",
    "        'svm + tfidf',\n",
    "        'random forest + tfidf + umap',\n",
    "        'bert + knn',\n",
    "        'sentece bert + semantic projection'\n",
    "    ],\n",
    "    y = [\n",
    "        0.375608,\n",
    "        0.556818,\n",
    "        0.077978,\n",
    "        0.3688,\n",
    "        0.451087,\n",
    "    ]\n",
    ")\n",
    "\n",
    "plt.xticks(rotation=90)\n",
    "plt.ylabel('F-1 score')"
   ]
  }
 ],
 "metadata": {
  "kernelspec": {
   "display_name": "Python 3 (ipykernel)",
   "language": "python",
   "name": "python3"
  },
  "language_info": {
   "codemirror_mode": {
    "name": "ipython",
    "version": 3
   },
   "file_extension": ".py",
   "mimetype": "text/x-python",
   "name": "python",
   "nbconvert_exporter": "python",
   "pygments_lexer": "ipython3",
   "version": "3.8.12"
  },
  "toc": {
   "base_numbering": 1,
   "nav_menu": {},
   "number_sections": true,
   "sideBar": true,
   "skip_h1_title": false,
   "title_cell": "Table of Contents",
   "title_sidebar": "Contents",
   "toc_cell": false,
   "toc_position": {
    "height": "calc(100% - 180px)",
    "left": "10px",
    "top": "150px",
    "width": "339.797px"
   },
   "toc_section_display": true,
   "toc_window_display": true
  }
 },
 "nbformat": 4,
 "nbformat_minor": 5
}
