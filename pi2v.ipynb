{
 "cells": [
  {
   "cell_type": "markdown",
   "id": "f52cbb85",
   "metadata": {},
   "source": [
    "# Loading wikipedia bios"
   ]
  },
  {
   "cell_type": "markdown",
   "id": "4c4c5e25",
   "metadata": {},
   "source": [
    "## loading raw identities"
   ]
  },
  {
   "cell_type": "code",
   "execution_count": 45,
   "id": "f7a2eb59",
   "metadata": {},
   "outputs": [
    {
     "data": {
      "text/plain": [
       "[['rapper'],\n",
       " ['minister', 'Bible scholar', 'author'],\n",
       " ['astrophysicist'],\n",
       " ['snooker', 'billiards player'],\n",
       " ['Welsh sports journalist']]"
      ]
     },
     "execution_count": 45,
     "metadata": {},
     "output_type": "execute_result"
    }
   ],
   "source": [
    "import pandas as pd\n",
    "from ast import literal_eval\n",
    "\n",
    "\n",
    "df = pd.read_csv('FinalDataFrame5.csv')\n",
    "df.identities = df.identities.apply(literal_eval)\n",
    "bios = list(df['identities'])\n",
    "\n",
    "bios[:5]"
   ]
  },
  {
   "cell_type": "code",
   "execution_count": 46,
   "id": "d88f40ca",
   "metadata": {},
   "outputs": [
    {
     "data": {
      "text/plain": [
       "985429"
      ]
     },
     "execution_count": 46,
     "metadata": {},
     "output_type": "execute_result"
    }
   ],
   "source": [
    "len(bios)"
   ]
  },
  {
   "cell_type": "code",
   "execution_count": null,
   "id": "0cc61467",
   "metadata": {},
   "outputs": [],
   "source": [
    "pd.set_option(\"max_colwidth\", None)\n",
    "df.iloc[1:2]"
   ]
  },
  {
   "cell_type": "code",
   "execution_count": null,
   "id": "ddeb456f",
   "metadata": {},
   "outputs": [],
   "source": [
    "# The rest is similar to twitter bios approach"
   ]
  },
  {
   "cell_type": "code",
   "execution_count": null,
   "id": "756174d9",
   "metadata": {},
   "outputs": [],
   "source": []
  },
  {
   "cell_type": "markdown",
   "id": "04a048cc",
   "metadata": {},
   "source": [
    "# Loading twitter bios"
   ]
  },
  {
   "cell_type": "markdown",
   "id": "e85b010d",
   "metadata": {},
   "source": [
    "## load all raw data"
   ]
  },
  {
   "cell_type": "code",
   "execution_count": null,
   "id": "1a19f38e",
   "metadata": {},
   "outputs": [],
   "source": [
    "import pickle\n",
    "with open('/user/smadani/navid/data/pis2020.pkl', 'rb') as f:\n",
    "    bios = pickle.load(f)\n",
    "    "
   ]
  },
  {
   "cell_type": "markdown",
   "id": "bbc70cc9",
   "metadata": {},
   "source": [
    "# PI frequency and top PIs"
   ]
  },
  {
   "cell_type": "code",
   "execution_count": null,
   "id": "43e3926f",
   "metadata": {},
   "outputs": [],
   "source": [
    "from collections import Counter\n",
    "cntr = Counter()\n",
    "\n",
    "for bio in bios:\n",
    "    cntr.update(bio)\n",
    "\n",
    "print(len(bios))"
   ]
  },
  {
   "cell_type": "code",
   "execution_count": null,
   "id": "2b0aa7df",
   "metadata": {},
   "outputs": [],
   "source": [
    "import numpy as np\n",
    "\n",
    "freqs = list(cntr.values())\n",
    "print(f\"percentile freq: {np.percentile(freqs, 90)} mean freq: {np.mean(freqs)}\")"
   ]
  },
  {
   "cell_type": "code",
   "execution_count": null,
   "id": "b48510dd",
   "metadata": {},
   "outputs": [],
   "source": [
    "most_frequent_pis = {k:v for k,v in cntr.items() if v > 10}\n",
    "len(most_frequent_pis)"
   ]
  },
  {
   "cell_type": "code",
   "execution_count": null,
   "id": "12b0dafe",
   "metadata": {},
   "outputs": [],
   "source": [
    "import pandas as pd\n",
    "\n",
    "df = pd.DataFrame({'pi': list(most_frequent_pis.keys()), 'cnt': list(most_frequent_pis.values())})\n",
    "df = df.sort_values(by=['cnt'], ascending=False)"
   ]
  },
  {
   "cell_type": "code",
   "execution_count": null,
   "id": "ac5a2723",
   "metadata": {},
   "outputs": [],
   "source": [
    "df.to_csv('wiki_most_frequent_pis.csv', index=False, header=True)"
   ]
  },
  {
   "cell_type": "code",
   "execution_count": null,
   "id": "e6cfc071",
   "metadata": {},
   "outputs": [],
   "source": [
    "!head twitter_most_frequent_pis.csv"
   ]
  },
  {
   "cell_type": "markdown",
   "id": "fa7c6460",
   "metadata": {
    "heading_collapsed": true
   },
   "source": [
    "### most frequent neighbors"
   ]
  },
  {
   "cell_type": "code",
   "execution_count": null,
   "id": "04aeea28",
   "metadata": {
    "hidden": true
   },
   "outputs": [],
   "source": [
    "from tqdm import tqdm\n",
    "neighbor_cnt = {}\n",
    "\n",
    "for bio in tqdm(bios):\n",
    "    for pi in bio:\n",
    "        if pi in most_frequent_pis:\n",
    "            if pi not in neighbor_cnt:\n",
    "                neighbor_cnt[pi] = Counter()\n",
    "                \n",
    "            rest = [b for b in bio if b!=pi and b in most_frequent_pis]\n",
    "            neighbor_cnt[pi].update(rest)\n",
    "\n",
    "print(len(neighbor_cnt))            \n",
    "\n",
    "#post processing and pruning empty adjacencies\n",
    "\n",
    "for pi, adj in neighbor_cnt.copy().items():\n",
    "    if len(adj) < 2:\n",
    "        neighbor_cnt.pop(pi)\n",
    "    \n",
    "print(f\"size after pruning: {len(neighbor_cnt)}\")        "
   ]
  },
  {
   "cell_type": "markdown",
   "id": "1a59e0cb",
   "metadata": {
    "heading_collapsed": true
   },
   "source": [
    "### calculating tf-idf"
   ]
  },
  {
   "cell_type": "code",
   "execution_count": null,
   "id": "8ac1acb3",
   "metadata": {
    "hidden": true
   },
   "outputs": [],
   "source": [
    "for pi, neighs in tqdm(neighbor_cnt.items()):\n",
    "    for phrase in neighs.keys():\n",
    "        neighs[phrase] /= most_frequent_pis[phrase]\n",
    "        "
   ]
  },
  {
   "cell_type": "markdown",
   "id": "86d69a95",
   "metadata": {
    "heading_collapsed": true
   },
   "source": [
    "### calculating using bi-partite method"
   ]
  },
  {
   "cell_type": "code",
   "execution_count": null,
   "id": "37077142",
   "metadata": {
    "hidden": true
   },
   "outputs": [],
   "source": [
    "from scipy import sparse, io\n",
    "\n",
    "pi_idx = {}\n",
    "for pi in most_frequent_pis:\n",
    "    pi_idx[pi] = len(pi_idx)\n",
    "\n",
    "#creating bipartite matrix\n",
    "usr_pi = []\n",
    "\n",
    "for bio in bios:\n",
    "    cur_usr_pis = []\n",
    "    for pi in bio:\n",
    "        if pi in most_frequent_pis:\n",
    "            cur_usr_pis.append(pi_idx[pi])\n",
    "    if len(cur_usr_pis) < 2:\n",
    "        continue\n",
    "    usr_pi.append(cur_usr_pis)\n",
    "    \n",
    "\n",
    "print(f\"original users: {len(bios)}\")\n",
    "print(f\"no of users after pruning: {len(usr_pi)}\")\n"
   ]
  },
  {
   "cell_type": "code",
   "execution_count": null,
   "id": "6ae185fc",
   "metadata": {
    "hidden": true
   },
   "outputs": [],
   "source": [
    "usrs = []\n",
    "pis = []\n",
    "scores = []\n",
    "\n",
    "for uid, pis in enumerate(usr_pi):\n",
    "    for pi in pis:\n",
    "        usrs.append(uid)\n",
    "        pis.append(pi)\n",
    "        scores.append(1)"
   ]
  },
  {
   "cell_type": "code",
   "execution_count": null,
   "id": "6cf9be0f",
   "metadata": {
    "hidden": true
   },
   "outputs": [],
   "source": [
    "%% time\n",
    "\n",
    "BP_MATRIX_FILENAME = \"./bipartite_pi.mtx\"\n",
    "output_matrix = sparse.coo_matrix((scores, (usrs, pis)))\n",
    "io.mmwrite(BP_MATRIX_FILENAME, output_matrix)"
   ]
  },
  {
   "cell_type": "code",
   "execution_count": null,
   "id": "e72cad62",
   "metadata": {
    "hidden": true
   },
   "outputs": [],
   "source": [
    "!du -hs ./bipartite_pi.mtx"
   ]
  },
  {
   "cell_type": "code",
   "execution_count": null,
   "id": "12192548",
   "metadata": {
    "hidden": true
   },
   "outputs": [],
   "source": [
    "from scipy import io\n",
    "\n",
    "io.mmread(BP_MATRIX_FILENAME, output_matrix)"
   ]
  },
  {
   "cell_type": "code",
   "execution_count": null,
   "id": "44744b56",
   "metadata": {
    "hidden": true
   },
   "outputs": [],
   "source": [
    "scores"
   ]
  },
  {
   "cell_type": "code",
   "execution_count": null,
   "id": "3123d499",
   "metadata": {
    "hidden": true
   },
   "outputs": [],
   "source": [
    "!rm ./bipartite_pi.mtx.gz\n",
    "!gzip ./bipartite_pi.mtx\n",
    "!ls"
   ]
  },
  {
   "cell_type": "code",
   "execution_count": null,
   "id": "6010f65c",
   "metadata": {
    "hidden": true
   },
   "outputs": [],
   "source": [
    "import sys\n",
    "\n",
    "sys.path.append(\"../bipartite-pairs/python-scoring/\")\n",
    "import score_data\n",
    "\n",
    "BP_SCORING_OUTPUT = './bipartite_output.csv.gz'\n",
    "score_data.score_only(\n",
    "    BP_MATRIX_FILENAME+\".gz\",\n",
    "    ['weighted_corr_exp'],\n",
    "    BP_SCORING_OUTPUT,\n",
    ")"
   ]
  },
  {
   "cell_type": "code",
   "execution_count": null,
   "id": "2698bdfc",
   "metadata": {
    "hidden": true
   },
   "outputs": [],
   "source": [
    "!zcat ./bipartite_output.csv.gz"
   ]
  },
  {
   "cell_type": "code",
   "execution_count": null,
   "id": "94224328",
   "metadata": {
    "hidden": true
   },
   "outputs": [],
   "source": [
    "import pandas as pd\n",
    "\n",
    "BP_SCORING_OUTPUT = './bipartite_output.csv.gz'\n",
    "df = pd.read_csv(BP_SCORING_OUTPUT)\n",
    "df.head()"
   ]
  },
  {
   "cell_type": "code",
   "execution_count": null,
   "id": "8e0fdd88",
   "metadata": {
    "hidden": true
   },
   "outputs": [],
   "source": [
    "# recreate the neighboring dictionary\n",
    "\n"
   ]
  },
  {
   "cell_type": "markdown",
   "id": "fe12e66c",
   "metadata": {
    "heading_collapsed": true
   },
   "source": [
    "### save "
   ]
  },
  {
   "cell_type": "code",
   "execution_count": null,
   "id": "b66c7124",
   "metadata": {
    "hidden": true
   },
   "outputs": [],
   "source": [
    "import pandas as pd\n",
    "\n",
    "pis = []\n",
    "positives = []\n",
    "negatives = []\n",
    "\n",
    "for pi, cntr in tqdm(neighbor_cnt.items()):\n",
    "    cur_neg = [x for x in most_frequent_pis if x not in neighbor_cnt[pi]]\n",
    "    if len(cur_neg) > 20:\n",
    "        cur_neg = list(np.random.choice(cur_neg, size=20, replace=False))\n",
    "    cur_pos = [x[0] for x in neighbor_cnt[pi].most_common(5)]\n",
    "    if len(cur_neg) < 4 or len(neighbor_cnt[pi])<2:\n",
    "        print(f\"PASSING PI: {pi}\")\n",
    "        continue\n",
    "    positives.append(cur_pos)\n",
    "    pis.append(pi)\n",
    "    negatives.append(cur_neg)\n",
    "                 \n",
    "print(f\"saving {len(pis)} pis\")\n",
    "df = pd.DataFrame({'pis': pis, 'positives': positives, 'negatives': negatives})\n",
    "df.to_csv('twitter_pi_with_neighbors_tfidf.csv', index=False, header=True)"
   ]
  },
  {
   "cell_type": "code",
   "execution_count": null,
   "id": "eea41545",
   "metadata": {
    "hidden": true
   },
   "outputs": [],
   "source": [
    "!wc -l wiki_pi_with_neighbors_standard.csv"
   ]
  },
  {
   "cell_type": "code",
   "execution_count": null,
   "id": "cdb1fc2a",
   "metadata": {
    "hidden": true
   },
   "outputs": [],
   "source": [
    "!head wiki_pi_with_neighbors_standard.csv"
   ]
  },
  {
   "cell_type": "markdown",
   "id": "b1e553a1",
   "metadata": {},
   "source": [
    "## create train and test dataset"
   ]
  },
  {
   "cell_type": "code",
   "execution_count": null,
   "id": "0e18435a",
   "metadata": {},
   "outputs": [],
   "source": [
    "from sklearn.model_selection import train_test_split\n",
    "\n",
    "lower_bios = []\n",
    "for bio in bios:\n",
    "    lower_bio = []\n",
    "    for pi in bio:\n",
    "        lower_bio.append(pi.lower())\n",
    "    lower_bios.append(lower_bio)\n",
    "    \n",
    "train, test = train_test_split(lower_bios, test_size=0.2, shuffle=True)\n",
    "print(len(train), len(test))\n",
    "\n"
   ]
  },
  {
   "cell_type": "code",
   "execution_count": null,
   "id": "407be37b",
   "metadata": {},
   "outputs": [],
   "source": [
    "import pickle\n",
    "\n",
    "dataset = 'twitter'\n",
    "\n",
    "with open(f'./data/{dataset}_test_bios.pkl', 'wb') as f:\n",
    "    pickle.dump(test, f)\n",
    "    \n",
    "with open(f'./data/{dataset}_train_bios.pkl', 'wb') as f:\n",
    "    pickle.dump(train, f)"
   ]
  },
  {
   "cell_type": "code",
   "execution_count": null,
   "id": "df502c56",
   "metadata": {},
   "outputs": [],
   "source": [
    "import pickle\n",
    "\n",
    "dataset = 'twitter'\n",
    "\n",
    "with open(f'./data/{dataset}_test_bios.pkl', 'rb') as f:\n",
    "    test = pickle.load(f)\n",
    "    \n",
    "test[:5]"
   ]
  },
  {
   "cell_type": "markdown",
   "id": "6bbf8c10",
   "metadata": {},
   "source": [
    "# Cleaning data"
   ]
  },
  {
   "cell_type": "markdown",
   "id": "24388589",
   "metadata": {},
   "source": [
    "## phrase cleaning"
   ]
  },
  {
   "cell_type": "code",
   "execution_count": 79,
   "id": "5008d8a0",
   "metadata": {},
   "outputs": [
    {
     "name": "stdout",
     "output_type": "stream",
     "text": [
      "500\n"
     ]
    }
   ],
   "source": [
    "import pickle\n",
    "\n",
    "dataset = 'twitter'\n",
    "# min_freq = 3 if dataset == 'wiki' else 100\n",
    "min_freq = 500\n",
    "\n",
    "print(min_freq)\n",
    "with open(f'./data/{dataset}_train_bios.pkl', 'rb') as f:\n",
    "    bios = pickle.load(f)"
   ]
  },
  {
   "cell_type": "code",
   "execution_count": 80,
   "id": "f2ea45e2",
   "metadata": {},
   "outputs": [
    {
     "name": "stderr",
     "output_type": "stream",
     "text": [
      "/scratch/12791954/ipykernel_13862/308708586.py:6: TqdmDeprecationWarning: This function will be removed in tqdm==5.0.0\n",
      "Please use `tqdm.notebook.tqdm` instead of `tqdm.tqdm_notebook`\n",
      "  for bio in tqdm(bios):\n"
     ]
    },
    {
     "data": {
      "application/vnd.jupyter.widget-view+json": {
       "model_id": "6a026f7c64514be19edb71c00dd75bc4",
       "version_major": 2,
       "version_minor": 0
      },
      "text/plain": [
       "  0%|          | 0/12367897 [00:00<?, ?it/s]"
      ]
     },
     "metadata": {},
     "output_type": "display_data"
    },
    {
     "data": {
      "text/plain": [
       "7860996"
      ]
     },
     "execution_count": 80,
     "metadata": {},
     "output_type": "execute_result"
    }
   ],
   "source": [
    "# build a vocabulary of phrases\n",
    "from tqdm import tqdm_notebook as tqdm\n",
    "from collections import Counter\n",
    "\n",
    "pi_cnt = Counter()\n",
    "for bio in tqdm(bios):\n",
    "    pi_cnt.update(bio)\n",
    "\n",
    "len(pi_cnt)"
   ]
  },
  {
   "cell_type": "code",
   "execution_count": null,
   "id": "d79ad7e6",
   "metadata": {},
   "outputs": [],
   "source": [
    "pi_cnt.most_common(10)"
   ]
  },
  {
   "cell_type": "code",
   "execution_count": null,
   "id": "aad1f8b1",
   "metadata": {},
   "outputs": [],
   "source": [
    "pi_cnt.most_common(len(pi_cnt))[-5:]"
   ]
  },
  {
   "cell_type": "markdown",
   "id": "89587ee3",
   "metadata": {},
   "source": [
    "## cleaning each bio"
   ]
  },
  {
   "cell_type": "code",
   "execution_count": 81,
   "id": "b5283dbf",
   "metadata": {},
   "outputs": [
    {
     "name": "stderr",
     "output_type": "stream",
     "text": [
      "100%|██████████| 12367897/12367897 [00:23<00:00, 531308.92it/s]"
     ]
    },
    {
     "name": "stdout",
     "output_type": "stream",
     "text": [
      "2753951 12367897\n"
     ]
    },
    {
     "name": "stderr",
     "output_type": "stream",
     "text": [
      "\n"
     ]
    }
   ],
   "source": [
    "from tqdm import tqdm\n",
    "\n",
    "# phrases of lenght at least m\n",
    "# profiles with at least k phrases\n",
    "# pis that's been repeated at least m times in dataset\n",
    "\n",
    "def clean_pis(all_pis):\n",
    "    result = []\n",
    "    for pis in tqdm(all_pis):\n",
    "        current_pi = set()\n",
    "        for pi in pis:\n",
    "            if len(pi) >= 2 and pi_cnt[pi] >= min_freq:\n",
    "                current_pi.add(pi)\n",
    "        if len(current_pi) > 1:\n",
    "            result.append(list(current_pi))\n",
    "            \n",
    "    return result\n",
    "            \n",
    "cleaned_bios = clean_pis(bios)\n",
    "print(len(cleaned_bios), len(bios))"
   ]
  },
  {
   "cell_type": "markdown",
   "id": "9b67b153",
   "metadata": {},
   "source": [
    "## saving cleaned dataset"
   ]
  },
  {
   "cell_type": "code",
   "execution_count": 82,
   "id": "94269da5",
   "metadata": {},
   "outputs": [],
   "source": [
    "with open(f'./data/{dataset}_cleaned_train_bios_{min_freq}.pkl', 'wb') as f:\n",
    "    pickle.dump(cleaned_bios, f)"
   ]
  },
  {
   "cell_type": "markdown",
   "id": "66548333",
   "metadata": {},
   "source": [
    "# Masked Language Modeling"
   ]
  },
  {
   "cell_type": "markdown",
   "id": "28657f20",
   "metadata": {},
   "source": [
    "## loading dataset"
   ]
  },
  {
   "cell_type": "code",
   "execution_count": 83,
   "id": "4cf396a7",
   "metadata": {},
   "outputs": [
    {
     "data": {
      "text/plain": [
       "(2753951, 4750)"
      ]
     },
     "execution_count": 83,
     "metadata": {},
     "output_type": "execute_result"
    }
   ],
   "source": [
    "import pickle\n",
    "import numpy as np\n",
    "\n",
    "dataset = 'twitter'\n",
    "freq = 100\n",
    "    \n",
    "with open(f'./data/{dataset}_cleaned_train_bios_{freq}.pkl', 'rb') as f:\n",
    "    bios = pickle.load(f)\n",
    "    \n",
    "pi_set = set()\n",
    "for bio in bios:\n",
    "    pi_set.update(bio)\n",
    "pi_set = list(pi_set)\n",
    "    \n",
    "len(bios), len(pi_set)"
   ]
  },
  {
   "cell_type": "markdown",
   "id": "b270187d",
   "metadata": {},
   "source": [
    "\n",
    "## cleaning dataset for full bio"
   ]
  },
  {
   "cell_type": "code",
   "execution_count": 84,
   "id": "82938af5",
   "metadata": {},
   "outputs": [
    {
     "name": "stderr",
     "output_type": "stream",
     "text": [
      "  0%|          | 0/2753951 [00:00<?, ?it/s]\n"
     ]
    },
    {
     "ename": "AttributeError",
     "evalue": "'list' object has no attribute 'lower'",
     "output_type": "error",
     "traceback": [
      "\u001b[0;31m---------------------------------------------------------------------------\u001b[0m",
      "\u001b[0;31mAttributeError\u001b[0m                            Traceback (most recent call last)",
      "\u001b[0;32m/scratch/12791954/ipykernel_13862/3855680804.py\u001b[0m in \u001b[0;36m<module>\u001b[0;34m\u001b[0m\n\u001b[1;32m      6\u001b[0m \u001b[0;34m\u001b[0m\u001b[0m\n\u001b[1;32m      7\u001b[0m \u001b[0;32mfor\u001b[0m \u001b[0mdescription\u001b[0m \u001b[0;32min\u001b[0m \u001b[0mtqdm\u001b[0m\u001b[0;34m(\u001b[0m\u001b[0mbios\u001b[0m\u001b[0;34m)\u001b[0m\u001b[0;34m:\u001b[0m\u001b[0;34m\u001b[0m\u001b[0;34m\u001b[0m\u001b[0m\n\u001b[0;32m----> 8\u001b[0;31m     \u001b[0md\u001b[0m \u001b[0;34m=\u001b[0m \u001b[0mre\u001b[0m\u001b[0;34m.\u001b[0m\u001b[0msub\u001b[0m\u001b[0;34m(\u001b[0m\u001b[0;34mr'\\w+@\\w+\\.\\w+'\u001b[0m\u001b[0;34m,\u001b[0m \u001b[0;34m''\u001b[0m\u001b[0;34m,\u001b[0m \u001b[0mdescription\u001b[0m\u001b[0;34m.\u001b[0m\u001b[0mlower\u001b[0m\u001b[0;34m(\u001b[0m\u001b[0;34m)\u001b[0m\u001b[0;34m)\u001b[0m\u001b[0;34m.\u001b[0m\u001b[0mstrip\u001b[0m\u001b[0;34m(\u001b[0m\u001b[0;34m)\u001b[0m\u001b[0;34m\u001b[0m\u001b[0;34m\u001b[0m\u001b[0m\n\u001b[0m\u001b[1;32m      9\u001b[0m     \u001b[0md\u001b[0m \u001b[0;34m=\u001b[0m \u001b[0mre\u001b[0m\u001b[0;34m.\u001b[0m\u001b[0msub\u001b[0m\u001b[0;34m(\u001b[0m\u001b[0;34mr'(on )?(snapchat|snap|ig|insta|instagram|email|phone): +[A-Za-z0-9_@.-]+'\u001b[0m\u001b[0;34m,\u001b[0m \u001b[0;34m\" \"\u001b[0m\u001b[0;34m,\u001b[0m \u001b[0md\u001b[0m\u001b[0;34m)\u001b[0m\u001b[0;34m.\u001b[0m\u001b[0mstrip\u001b[0m\u001b[0;34m(\u001b[0m\u001b[0;34m)\u001b[0m\u001b[0;34m\u001b[0m\u001b[0;34m\u001b[0m\u001b[0m\n\u001b[1;32m     10\u001b[0m     \u001b[0md\u001b[0m \u001b[0;34m=\u001b[0m \u001b[0mre\u001b[0m\u001b[0;34m.\u001b[0m\u001b[0msub\u001b[0m\u001b[0;34m(\u001b[0m\u001b[0;34mr'http\\S+'\u001b[0m\u001b[0;34m,\u001b[0m \u001b[0;34m''\u001b[0m\u001b[0;34m,\u001b[0m \u001b[0md\u001b[0m\u001b[0;34m)\u001b[0m\u001b[0;34m.\u001b[0m\u001b[0mstrip\u001b[0m\u001b[0;34m(\u001b[0m\u001b[0;34m)\u001b[0m\u001b[0;34m\u001b[0m\u001b[0;34m\u001b[0m\u001b[0m\n",
      "\u001b[0;31mAttributeError\u001b[0m: 'list' object has no attribute 'lower'"
     ]
    }
   ],
   "source": [
    "from tqdm import tqdm\n",
    "import re\n",
    "\n",
    "## remove url and email addresses + social media links\n",
    "cleaned_bios = []\n",
    "\n",
    "for description in tqdm(bios):\n",
    "    d = re.sub(r'\\w+@\\w+\\.\\w+', '', description.lower()).strip()\n",
    "    d = re.sub(r'(on )?(snapchat|snap|ig|insta|instagram|email|phone): +[A-Za-z0-9_@.-]+', \" \", d).strip()\n",
    "    d = re.sub(r'http\\S+', '', d).strip()\n",
    "    d = d.replace(\"&emsp;\", \"\").replace(\"&nbsp;\", \"\")\n",
    "    d = re.sub(r\"\\s+\", \" \", d).strip()\n",
    "    if len(d) > 5:\n",
    "        cleaned_bios.append(d)\n",
    "\n",
    "len(cleaned_bios), cleaned_bios[:10]"
   ]
  },
  {
   "cell_type": "markdown",
   "id": "b7dc4cd3",
   "metadata": {},
   "source": [
    "## save train and test datasets"
   ]
  },
  {
   "cell_type": "markdown",
   "id": "17ab08da",
   "metadata": {},
   "source": [
    "### convert to pytorch dataset"
   ]
  },
  {
   "cell_type": "code",
   "execution_count": 14,
   "id": "42258b70",
   "metadata": {},
   "outputs": [],
   "source": [
    "\n",
    "from datasets import Dataset\n",
    "import pandas as pd\n",
    "\n",
    "train_df = pd.DataFrame([{'bios': \", \".join(t)} for t in bios])\n",
    "train_dataset = Dataset.from_pandas(train_df)\n",
    "\n"
   ]
  },
  {
   "cell_type": "code",
   "execution_count": 15,
   "id": "2727915c",
   "metadata": {},
   "outputs": [],
   "source": [
    "!rm -rf ./data/twitter_hf_dataset"
   ]
  },
  {
   "cell_type": "code",
   "execution_count": 16,
   "id": "4b0f9eff",
   "metadata": {},
   "outputs": [],
   "source": [
    "from datasets import DatasetDict\n",
    "\n",
    "dataset_name = 'twitter'\n",
    "\n",
    "train_dataset.save_to_disk(f'./data/{dataset_name}_hf_dataset')"
   ]
  },
  {
   "cell_type": "code",
   "execution_count": 18,
   "id": "01a81685",
   "metadata": {},
   "outputs": [
    {
     "name": "stdout",
     "output_type": "stream",
     "text": [
      "109M\t./data/twitter_hf_dataset/\n"
     ]
    }
   ],
   "source": [
    "!du -hs  ./data/twitter_hf_dataset/"
   ]
  },
  {
   "cell_type": "markdown",
   "id": "f178b937",
   "metadata": {},
   "source": [
    "## load train and test"
   ]
  },
  {
   "cell_type": "code",
   "execution_count": 19,
   "id": "a2c0fd31",
   "metadata": {},
   "outputs": [
    {
     "data": {
      "text/plain": [
       "Dataset({\n",
       "    features: ['bios'],\n",
       "    num_rows: 3534903\n",
       "})"
      ]
     },
     "execution_count": 19,
     "metadata": {},
     "output_type": "execute_result"
    }
   ],
   "source": [
    "from datasets import DatasetDict, Dataset\n",
    "\n",
    "dataset_name = 'twitter'\n",
    "dataset = Dataset.load_from_disk(f'./data/{dataset_name}_hf_dataset')\n",
    "\n",
    "dataset"
   ]
  },
  {
   "cell_type": "markdown",
   "id": "21c30e01",
   "metadata": {},
   "source": [
    "## data preprocessing"
   ]
  },
  {
   "cell_type": "markdown",
   "id": "20f4ec77",
   "metadata": {},
   "source": [
    "### load model and tokenizers"
   ]
  },
  {
   "cell_type": "code",
   "execution_count": 21,
   "id": "df4b5af3",
   "metadata": {},
   "outputs": [
    {
     "name": "stderr",
     "output_type": "stream",
     "text": [
      "Some weights of the model checkpoint at bert-large-uncased were not used when initializing BertForMaskedLM: ['cls.seq_relationship.weight', 'cls.seq_relationship.bias']\n",
      "- This IS expected if you are initializing BertForMaskedLM from the checkpoint of a model trained on another task or with another architecture (e.g. initializing a BertForSequenceClassification model from a BertForPreTraining model).\n",
      "- This IS NOT expected if you are initializing BertForMaskedLM from the checkpoint of a model that you expect to be exactly identical (initializing a BertForSequenceClassification model from a BertForSequenceClassification model).\n"
     ]
    }
   ],
   "source": [
    "from transformers import AutoModelForMaskedLM\n",
    "from transformers import AutoTokenizer\n",
    "\n",
    "\n",
    "# model_checkpoint = \"bert-base-uncased\"\n",
    "model_checkpoint = \"bert-large-uncased\"\n",
    "model = AutoModelForMaskedLM.from_pretrained(model_checkpoint)\n",
    "tokenizer = AutoTokenizer.from_pretrained(model_checkpoint)"
   ]
  },
  {
   "cell_type": "markdown",
   "id": "0fd0b746",
   "metadata": {},
   "source": [
    "### test if model"
   ]
  },
  {
   "cell_type": "code",
   "execution_count": 70,
   "id": "ebb5020e",
   "metadata": {},
   "outputs": [
    {
     "name": "stdout",
     "output_type": "stream",
     "text": [
      "torch.Size([1, 8, 30522])\n",
      "tensor([5])\n",
      "'>>> This is a great idea.'\n",
      "'>>> This is a great day.'\n",
      "'>>> This is a great place.'\n",
      "'>>> This is a great time.'\n",
      "'>>> This is a great thing.'\n"
     ]
    }
   ],
   "source": [
    "import torch\n",
    "\n",
    "\n",
    "text = \"This is a great [MASK].\"\n",
    "\n",
    "\n",
    "inputs = tokenizer(text, return_tensors=\"pt\")\n",
    "token_logits = model(**inputs).logits\n",
    "print(token_logits.shape)\n",
    "# Find the location of [MASK] and extract its logits\n",
    "mask_token_index = torch.where(inputs[\"input_ids\"] == tokenizer.mask_token_id)[1]\n",
    "print(mask_token_index)\n",
    "mask_token_logits = token_logits[0, mask_token_index, :]\n",
    "# Pick the [MASK] candidates with the highest logits\n",
    "top_5_tokens = torch.topk(mask_token_logits, 5, dim=1).indices[0].tolist()\n",
    "\n",
    "for token in top_5_tokens:\n",
    "    print(f\"'>>> {text.replace(tokenizer.mask_token, tokenizer.decode([token]))}'\")"
   ]
  },
  {
   "cell_type": "code",
   "execution_count": 59,
   "id": "2a424b9f",
   "metadata": {},
   "outputs": [
    {
     "name": "stderr",
     "output_type": "stream",
     "text": [
      "loading configuration file config.json from cache at /user/smadani/.cache/huggingface/hub/models--bert-base-uncased/snapshots/0a6aa9128b6194f4f3c4db429b6cb4891cdb421b/config.json\n",
      "Model config BertConfig {\n",
      "  \"architectures\": [\n",
      "    \"BertForMaskedLM\"\n",
      "  ],\n",
      "  \"attention_probs_dropout_prob\": 0.1,\n",
      "  \"classifier_dropout\": null,\n",
      "  \"gradient_checkpointing\": false,\n",
      "  \"hidden_act\": \"gelu\",\n",
      "  \"hidden_dropout_prob\": 0.1,\n",
      "  \"hidden_size\": 768,\n",
      "  \"initializer_range\": 0.02,\n",
      "  \"intermediate_size\": 3072,\n",
      "  \"layer_norm_eps\": 1e-12,\n",
      "  \"max_position_embeddings\": 512,\n",
      "  \"model_type\": \"bert\",\n",
      "  \"num_attention_heads\": 12,\n",
      "  \"num_hidden_layers\": 12,\n",
      "  \"output_hidden_states\": true,\n",
      "  \"pad_token_id\": 0,\n",
      "  \"position_embedding_type\": \"absolute\",\n",
      "  \"transformers_version\": \"4.23.1\",\n",
      "  \"type_vocab_size\": 2,\n",
      "  \"use_cache\": true,\n",
      "  \"vocab_size\": 30522\n",
      "}\n",
      "\n",
      "loading file vocab.txt from cache at /user/smadani/.cache/huggingface/hub/models--bert-base-uncased/snapshots/0a6aa9128b6194f4f3c4db429b6cb4891cdb421b/vocab.txt\n",
      "loading file added_tokens.json from cache at None\n",
      "loading file special_tokens_map.json from cache at None\n",
      "loading file tokenizer_config.json from cache at /user/smadani/.cache/huggingface/hub/models--bert-base-uncased/snapshots/0a6aa9128b6194f4f3c4db429b6cb4891cdb421b/tokenizer_config.json\n",
      "loading configuration file config.json from cache at /user/smadani/.cache/huggingface/hub/models--bert-base-uncased/snapshots/0a6aa9128b6194f4f3c4db429b6cb4891cdb421b/config.json\n",
      "Model config BertConfig {\n",
      "  \"_name_or_path\": \"bert-base-uncased\",\n",
      "  \"architectures\": [\n",
      "    \"BertForMaskedLM\"\n",
      "  ],\n",
      "  \"attention_probs_dropout_prob\": 0.1,\n",
      "  \"classifier_dropout\": null,\n",
      "  \"gradient_checkpointing\": false,\n",
      "  \"hidden_act\": \"gelu\",\n",
      "  \"hidden_dropout_prob\": 0.1,\n",
      "  \"hidden_size\": 768,\n",
      "  \"initializer_range\": 0.02,\n",
      "  \"intermediate_size\": 3072,\n",
      "  \"layer_norm_eps\": 1e-12,\n",
      "  \"max_position_embeddings\": 512,\n",
      "  \"model_type\": \"bert\",\n",
      "  \"num_attention_heads\": 12,\n",
      "  \"num_hidden_layers\": 12,\n",
      "  \"pad_token_id\": 0,\n",
      "  \"position_embedding_type\": \"absolute\",\n",
      "  \"transformers_version\": \"4.23.1\",\n",
      "  \"type_vocab_size\": 2,\n",
      "  \"use_cache\": true,\n",
      "  \"vocab_size\": 30522\n",
      "}\n",
      "\n",
      "loading weights file pytorch_model.bin from cache at /user/smadani/.cache/huggingface/hub/models--bert-base-uncased/snapshots/0a6aa9128b6194f4f3c4db429b6cb4891cdb421b/pytorch_model.bin\n",
      "Some weights of the model checkpoint at bert-base-uncased were not used when initializing BertForMaskedLM: ['cls.seq_relationship.weight', 'cls.seq_relationship.bias']\n",
      "- This IS expected if you are initializing BertForMaskedLM from the checkpoint of a model trained on another task or with another architecture (e.g. initializing a BertForSequenceClassification model from a BertForPreTraining model).\n",
      "- This IS NOT expected if you are initializing BertForMaskedLM from the checkpoint of a model that you expect to be exactly identical (initializing a BertForSequenceClassification model from a BertForSequenceClassification model).\n",
      "All the weights of BertForMaskedLM were initialized from the model checkpoint at bert-base-uncased.\n",
      "If your task is similar to the task the model of the checkpoint was trained on, you can already use BertForMaskedLM for predictions without further training.\n",
      "loading configuration file ./models/bert-ft-mlm-twitter/checkpoint-24992/config.json\n",
      "Model config BertConfig {\n",
      "  \"_name_or_path\": \"./models/bert-ft-mlm-twitter/checkpoint-24992/\",\n",
      "  \"architectures\": [\n",
      "    \"BertForMaskedLM\"\n",
      "  ],\n",
      "  \"attention_probs_dropout_prob\": 0.1,\n",
      "  \"classifier_dropout\": null,\n",
      "  \"gradient_checkpointing\": false,\n",
      "  \"hidden_act\": \"gelu\",\n",
      "  \"hidden_dropout_prob\": 0.1,\n",
      "  \"hidden_size\": 768,\n",
      "  \"initializer_range\": 0.02,\n",
      "  \"intermediate_size\": 3072,\n",
      "  \"layer_norm_eps\": 1e-12,\n",
      "  \"max_position_embeddings\": 512,\n",
      "  \"model_type\": \"bert\",\n",
      "  \"num_attention_heads\": 12,\n",
      "  \"num_hidden_layers\": 12,\n",
      "  \"pad_token_id\": 0,\n",
      "  \"position_embedding_type\": \"absolute\",\n",
      "  \"torch_dtype\": \"float32\",\n",
      "  \"transformers_version\": \"4.23.1\",\n",
      "  \"type_vocab_size\": 2,\n",
      "  \"use_cache\": true,\n",
      "  \"vocab_size\": 30522\n",
      "}\n",
      "\n",
      "loading weights file ./models/bert-ft-mlm-twitter/checkpoint-24992/pytorch_model.bin\n",
      "All model checkpoint weights were used when initializing BertForMaskedLM.\n",
      "\n",
      "All the weights of BertForMaskedLM were initialized from the model checkpoint at ./models/bert-ft-mlm-twitter/checkpoint-24992/.\n",
      "If your task is similar to the task the model of the checkpoint was trained on, you can already use BertForMaskedLM for predictions without further training.\n"
     ]
    },
    {
     "name": "stdout",
     "output_type": "stream",
     "text": [
      "torch.Size([1, 9, 30522])\n",
      "tensor([5])\n",
      "'>>> pro-life, japan, japanese'\n",
      "'>>> pro-life, japanese, japanese'\n",
      "'>>> pro-life, tokyo, japanese'\n",
      "'>>> pro-life, english, japanese'\n",
      "'>>> pro-life, [UNK], japanese'\n",
      "'>>> pro-life, usa, japanese'\n",
      "'>>> pro-life, korean, japanese'\n",
      "'>>> pro-life, 2008, japanese'\n",
      "'>>> pro-life, us, japanese'\n",
      "'>>> pro-life, 2012, japanese'\n",
      "'>>> pro-life, american, japanese'\n",
      "'>>> pro-life, taiwan, japanese'\n",
      "'>>> pro-life, 2009, japanese'\n",
      "'>>> pro-life, okinawa, japanese'\n",
      "'>>> pro-life, 2017, japanese'\n",
      "'>>> pro-life, 2013, japanese'\n",
      "'>>> pro-life, 2014, japanese'\n",
      "'>>> pro-life, 2011, japanese'\n",
      "'>>> pro-life, 2016, japanese'\n",
      "'>>> pro-life, 2015, japanese'\n",
      "torch.Size([1, 9, 30522])\n",
      "tensor([5])\n",
      "'>>> pro-life, christian, japanese'\n",
      "'>>> pro-life, american, japanese'\n",
      "'>>> pro-life, catholic, japanese'\n",
      "'>>> pro-life, conservative, japanese'\n",
      "'>>> pro-life, liberal, japanese'\n",
      "'>>> pro-life, democrat, japanese'\n",
      "'>>> pro-life, japanese, japanese'\n",
      "'>>> pro-life, patriot, japanese'\n",
      "'>>> pro-life, english, japanese'\n",
      "'>>> pro-life, nationalist, japanese'\n",
      "'>>> pro-life, european, japanese'\n",
      "'>>> pro-life, retired, japanese'\n",
      "'>>> pro-life, german, japanese'\n",
      "'>>> pro-life, canadian, japanese'\n",
      "'>>> pro-life, veteran, japanese'\n",
      "'>>> pro-life, married, japanese'\n",
      "'>>> pro-life, korean, japanese'\n",
      "'>>> pro-life, irish, japanese'\n",
      "'>>> pro-life, socialist, japanese'\n",
      "'>>> pro-life, progressive, japanese'\n"
     ]
    }
   ],
   "source": [
    "from transformers import AutoModelForMaskedLM\n",
    "from transformers import AutoTokenizer\n",
    "import torch\n",
    "\n",
    "device = 'cpu'\n",
    "\n",
    "config = BertConfig.from_pretrained(\"bert-base-uncased\", output_hidden_states=True)\n",
    "bert_tokenizer = BertTokenizer.from_pretrained(\"bert-base-uncased\")\n",
    "bert_model = AutoModelForMaskedLM.from_pretrained(\"bert-base-uncased\", config=config)\n",
    "bert_model = bert_model.to(device)\n",
    "bert_model.eval()\n",
    "\n",
    "bert_ft_twitter_model = AutoModelForMaskedLM.from_pretrained(\"./models/bert-ft-mlm-twitter/checkpoint-24992/\")\n",
    "bert_ft_twitter_model = bert_ft_twitter_model.to(device)\n",
    "bert_ft_twitter_model.eval()\n",
    "\n",
    "def get_best_choices(text, tokenizer, model):\n",
    "    model.cpu()\n",
    "    \n",
    "    inputs = tokenizer(text, return_tensors=\"pt\")\n",
    "    token_logits = model(**inputs).logits\n",
    "    print(token_logits.shape)\n",
    "    # Find the location of [MASK] and extract its logits\n",
    "    mask_token_index = torch.where(inputs[\"input_ids\"] == tokenizer.mask_token_id)[1]\n",
    "    print(mask_token_index)\n",
    "    mask_token_logits = token_logits[0, mask_token_index, :]\n",
    "    # Pick the [MASK] candidates with the highest logits\n",
    "    top_5_tokens = torch.topk(mask_token_logits, 20, dim=1).indices[0].tolist()\n",
    "\n",
    "    for token in top_5_tokens:\n",
    "        print(f\"'>>> {text.replace(tokenizer.mask_token, tokenizer.decode([token]))}'\")\n",
    "\n",
    "        \n",
    "t = \"pro-life, [MASK], japanese\"\n",
    "get_best_choices(\n",
    "    text=t,\n",
    "    tokenizer=bert_tokenizer,\n",
    "    model=bert_model\n",
    ")\n",
    "get_best_choices(\n",
    "    text=t,\n",
    "    tokenizer=bert_ft_tokenizer,\n",
    "    model=bert_ft_twitter_model\n",
    ")"
   ]
  },
  {
   "cell_type": "markdown",
   "id": "fa7d3750",
   "metadata": {},
   "source": [
    "### preprocessing data"
   ]
  },
  {
   "cell_type": "code",
   "execution_count": 22,
   "id": "969b9fd1",
   "metadata": {},
   "outputs": [
    {
     "name": "stdout",
     "output_type": "stream",
     "text": [
      "              "
     ]
    },
    {
     "data": {
      "application/vnd.jupyter.widget-view+json": {
       "model_id": "aa8a67e0ec3f42d7bf6e33fcee12e287",
       "version_major": 2,
       "version_minor": 0
      },
      "text/plain": [
       "#1:   0%|          | 0/1414 [00:00<?, ?ba/s]"
      ]
     },
     "metadata": {},
     "output_type": "display_data"
    },
    {
     "data": {
      "application/vnd.jupyter.widget-view+json": {
       "model_id": "3aa4ad5bd0864256a9522d13e4092e3d",
       "version_major": 2,
       "version_minor": 0
      },
      "text/plain": [
       "#0:   0%|          | 0/1414 [00:00<?, ?ba/s]"
      ]
     },
     "metadata": {},
     "output_type": "display_data"
    },
    {
     "name": "stdout",
     "output_type": "stream",
     "text": [
      " "
     ]
    },
    {
     "data": {
      "application/vnd.jupyter.widget-view+json": {
       "model_id": "25620d0ec46f46178eae0ed5229369f9",
       "version_major": 2,
       "version_minor": 0
      },
      "text/plain": [
       "#2:   0%|          | 0/1414 [00:00<?, ?ba/s]"
      ]
     },
     "metadata": {},
     "output_type": "display_data"
    },
    {
     "data": {
      "application/vnd.jupyter.widget-view+json": {
       "model_id": "ecdd2aa5e94848dd8560a5332bbe6c11",
       "version_major": 2,
       "version_minor": 0
      },
      "text/plain": [
       "#3:   0%|          | 0/1414 [00:00<?, ?ba/s]"
      ]
     },
     "metadata": {},
     "output_type": "display_data"
    },
    {
     "data": {
      "application/vnd.jupyter.widget-view+json": {
       "model_id": "83a7115911d944ba8f0d68abef2b4553",
       "version_major": 2,
       "version_minor": 0
      },
      "text/plain": [
       "#4:   0%|          | 0/1414 [00:00<?, ?ba/s]"
      ]
     },
     "metadata": {},
     "output_type": "display_data"
    },
    {
     "name": "stdout",
     "output_type": "stream",
     "text": [
      "  "
     ]
    },
    {
     "data": {
      "application/vnd.jupyter.widget-view+json": {
       "model_id": "aebf04b984b74b2985a00be9df1b4eef",
       "version_major": 2,
       "version_minor": 0
      },
      "text/plain": [
       "#5:   0%|          | 0/1414 [00:00<?, ?ba/s]"
      ]
     },
     "metadata": {},
     "output_type": "display_data"
    },
    {
     "data": {
      "application/vnd.jupyter.widget-view+json": {
       "model_id": "5e07b43bc60d486fa18b08b8b58ec363",
       "version_major": 2,
       "version_minor": 0
      },
      "text/plain": [
       "#6:   0%|          | 0/1414 [00:00<?, ?ba/s]"
      ]
     },
     "metadata": {},
     "output_type": "display_data"
    },
    {
     "name": "stdout",
     "output_type": "stream",
     "text": [
      "  "
     ]
    },
    {
     "data": {
      "application/vnd.jupyter.widget-view+json": {
       "model_id": "932c4613fe274b45b294c8fd28856d21",
       "version_major": 2,
       "version_minor": 0
      },
      "text/plain": [
       "#7:   0%|          | 0/1414 [00:00<?, ?ba/s]"
      ]
     },
     "metadata": {},
     "output_type": "display_data"
    },
    {
     "name": "stdout",
     "output_type": "stream",
     "text": [
      " "
     ]
    },
    {
     "data": {
      "application/vnd.jupyter.widget-view+json": {
       "model_id": "5a4b9a2caf104ee984e51342b176a50c",
       "version_major": 2,
       "version_minor": 0
      },
      "text/plain": [
       "#8:   0%|          | 0/1414 [00:00<?, ?ba/s]"
      ]
     },
     "metadata": {},
     "output_type": "display_data"
    },
    {
     "data": {
      "application/vnd.jupyter.widget-view+json": {
       "model_id": "0b1992016ee94c75b826e7738424779d",
       "version_major": 2,
       "version_minor": 0
      },
      "text/plain": [
       "#9:   0%|          | 0/1414 [00:00<?, ?ba/s]"
      ]
     },
     "metadata": {},
     "output_type": "display_data"
    },
    {
     "data": {
      "text/plain": [
       "Dataset({\n",
       "    features: ['input_ids', 'token_type_ids', 'attention_mask', 'word_ids', 'labels'],\n",
       "    num_rows: 3534903\n",
       "})"
      ]
     },
     "execution_count": 22,
     "metadata": {},
     "output_type": "execute_result"
    }
   ],
   "source": [
    "def preprocess(examples):\n",
    "    result = tokenizer(examples[\"bios\"], padding='max_length', max_length=80, truncation=True)\n",
    "    if tokenizer.is_fast:\n",
    "        result[\"word_ids\"] = [result.word_ids(i) for i in range(len(result[\"input_ids\"]))]\n",
    "    \n",
    "    result[\"labels\"] = result[\"input_ids\"].copy()\n",
    "    return result\n",
    "\n",
    "# for test\n",
    "# tokenized_datasets2 = dataset.select(range(1000)).map(\n",
    "#     preprocess, batched=True, batch_size=250, num_proc=1\n",
    "# )\n",
    "# tokenized_datasets2\n",
    "\n",
    "#Use batched=True to activate fast multithreading!\n",
    "tokenized_datasets = dataset.map(\n",
    "    preprocess, batched=True, remove_columns=[\"bios\",], batch_size=250, num_proc=10\n",
    ")\n",
    "tokenized_datasets"
   ]
  },
  {
   "cell_type": "code",
   "execution_count": null,
   "id": "ac53fc9b",
   "metadata": {},
   "outputs": [],
   "source": [
    "!rm -rf ./data/twitter_hf_dataset_tokenized/"
   ]
  },
  {
   "cell_type": "code",
   "execution_count": null,
   "id": "71062ee2",
   "metadata": {},
   "outputs": [],
   "source": [
    "tokenized_datasets.save_to_disk(f'./data/{dataset_name}_hf_dataset_tokenized')"
   ]
  },
  {
   "cell_type": "code",
   "execution_count": null,
   "id": "8b449496",
   "metadata": {},
   "outputs": [],
   "source": [
    "!du -hs ./data/wiki_hf_dataset_tokenized/"
   ]
  },
  {
   "cell_type": "code",
   "execution_count": null,
   "id": "4e041ce1",
   "metadata": {},
   "outputs": [],
   "source": [
    "from datasets import DatasetDict, Dataset\n",
    "import torch\n",
    "\n",
    "dataset_name = 'wiki'\n",
    "tokenized_datasets = Dataset.load_from_disk(f'./data/{dataset_name}_hf_dataset_tokenized')\n",
    "\n",
    "tokenized_datasets"
   ]
  },
  {
   "cell_type": "markdown",
   "id": "089f125c",
   "metadata": {},
   "source": [
    "### masking"
   ]
  },
  {
   "cell_type": "code",
   "execution_count": 23,
   "id": "3081eeea",
   "metadata": {},
   "outputs": [],
   "source": [
    "import collections\n",
    "import numpy as np\n",
    "\n",
    "from transformers import default_data_collator\n",
    "\n",
    "wwm_probability = 0.33\n",
    "\n",
    "\n",
    "def whole_word_masking_data_collator(features):\n",
    "    for feature in features:\n",
    "        word_ids = feature.pop(\"word_ids\")\n",
    "\n",
    "        # Create a map between words and corresponding token indices\n",
    "        mapping = collections.defaultdict(list)\n",
    "        current_word_index = -1\n",
    "        current_word = None\n",
    "        for idx, word_id in enumerate(word_ids):\n",
    "            if word_id is not None:\n",
    "                if word_id != current_word:\n",
    "                    current_word = word_id\n",
    "                    current_word_index += 1\n",
    "                mapping[current_word_index].append(idx)\n",
    "\n",
    "        # Randomly mask words\n",
    "        mask = np.random.binomial(1, wwm_probability, (len(mapping),))\n",
    "        input_ids = feature[\"input_ids\"]\n",
    "        labels = feature[\"labels\"]\n",
    "        new_labels = [-100] * len(labels)\n",
    "        for word_id in np.where(mask)[0]:\n",
    "            word_id = word_id.item()\n",
    "            for idx in mapping[word_id]:\n",
    "                new_labels[idx] = labels[idx]\n",
    "                input_ids[idx] = tokenizer.mask_token_id\n",
    "        feature[\"labels\"] = new_labels\n",
    "\n",
    "    return default_data_collator(features)"
   ]
  },
  {
   "cell_type": "code",
   "execution_count": 24,
   "id": "3a5ed00d",
   "metadata": {},
   "outputs": [
    {
     "name": "stdout",
     "output_type": "stream",
     "text": [
      "\n",
      "'>>> [CLS] [MASK] of [MASK], seeker of knowledge [MASK] [MASK] [SEP] [PAD] [PAD] [PAD] [PAD] [PAD] [PAD] [PAD] [PAD] [PAD] [PAD] [PAD] [PAD] [PAD] [PAD] [PAD] [PAD] [PAD] [PAD] [PAD] [PAD] [PAD] [PAD] [PAD] [PAD] [PAD] [PAD] [PAD] [PAD] [PAD] [PAD] [PAD] [PAD] [PAD] [PAD] [PAD] [PAD] [PAD] [PAD] [PAD] [PAD] [PAD] [PAD] [PAD] [PAD] [PAD] [PAD] [PAD] [PAD] [PAD] [PAD] [PAD] [PAD] [PAD] [PAD] [PAD] [PAD] [PAD] [PAD] [PAD] [PAD] [PAD] [PAD] [PAD] [PAD] [PAD] [PAD] [PAD] [PAD] [PAD]'\n",
      "\n",
      "'>>> [CLS] psychologist, wwg1wga [SEP] [PAD] [PAD] [PAD] [PAD] [PAD] [PAD] [PAD] [PAD] [PAD] [PAD] [PAD] [PAD] [PAD] [PAD] [PAD] [PAD] [PAD] [PAD] [PAD] [PAD] [PAD] [PAD] [PAD] [PAD] [PAD] [PAD] [PAD] [PAD] [PAD] [PAD] [PAD] [PAD] [PAD] [PAD] [PAD] [PAD] [PAD] [PAD] [PAD] [PAD] [PAD] [PAD] [PAD] [PAD] [PAD] [PAD] [PAD] [PAD] [PAD] [PAD] [PAD] [PAD] [PAD] [PAD] [PAD] [PAD] [PAD] [PAD] [PAD] [PAD] [PAD] [PAD] [PAD] [PAD] [PAD] [PAD] [PAD] [PAD] [PAD] [PAD] [PAD]'\n",
      "\n",
      "'>>> [CLS] boba, incest, [MASK] [MASK], 22, him, rat, draw stuff, [MASK], [MASK] [MASK] [SEP] [PAD] [PAD] [PAD] [PAD] [PAD] [PAD] [PAD] [PAD] [PAD] [PAD] [PAD] [PAD] [PAD] [PAD] [PAD] [PAD] [PAD] [PAD] [PAD] [PAD] [PAD] [PAD] [PAD] [PAD] [PAD] [PAD] [PAD] [PAD] [PAD] [PAD] [PAD] [PAD] [PAD] [PAD] [PAD] [PAD] [PAD] [PAD] [PAD] [PAD] [PAD] [PAD] [PAD] [PAD] [PAD] [PAD] [PAD] [PAD] [PAD] [PAD] [PAD] [PAD] [PAD] [PAD] [PAD] [PAD]'\n",
      "\n",
      "'>>> [CLS] husband, [MASK] [MASK] [MASK] dad, [MASK] [MASK] [SEP] [PAD] [PAD] [PAD] [PAD] [PAD] [PAD] [PAD] [PAD] [PAD] [PAD] [PAD] [PAD] [PAD] [PAD] [PAD] [PAD] [PAD] [PAD] [PAD] [PAD] [PAD] [PAD] [PAD] [PAD] [PAD] [PAD] [PAD] [PAD] [PAD] [PAD] [PAD] [PAD] [PAD] [PAD] [PAD] [PAD] [PAD] [PAD] [PAD] [PAD] [PAD] [PAD] [PAD] [PAD] [PAD] [PAD] [PAD] [PAD] [PAD] [PAD] [PAD] [PAD] [PAD] [PAD] [PAD] [PAD] [PAD] [PAD] [PAD] [PAD] [PAD] [PAD] [PAD] [PAD] [PAD] [PAD] [PAD] [PAD] [PAD]'\n",
      "\n",
      "'>>> [CLS] resistance, member of the [SEP] [PAD] [PAD] [PAD] [PAD] [PAD] [PAD] [PAD] [PAD] [PAD] [PAD] [PAD] [PAD] [PAD] [PAD] [PAD] [PAD] [PAD] [PAD] [PAD] [PAD] [PAD] [PAD] [PAD] [PAD] [PAD] [PAD] [PAD] [PAD] [PAD] [PAD] [PAD] [PAD] [PAD] [PAD] [PAD] [PAD] [PAD] [PAD] [PAD] [PAD] [PAD] [PAD] [PAD] [PAD] [PAD] [PAD] [PAD] [PAD] [PAD] [PAD] [PAD] [PAD] [PAD] [PAD] [PAD] [PAD] [PAD] [PAD] [PAD] [PAD] [PAD] [PAD] [PAD] [PAD] [PAD] [PAD] [PAD] [PAD] [PAD] [PAD] [PAD] [PAD] [PAD]'\n",
      "\n",
      "'>>> [CLS] growing, writing, [MASK], [MASK] [SEP] [PAD] [PAD] [PAD] [PAD] [PAD] [PAD] [PAD] [PAD] [PAD] [PAD] [PAD] [PAD] [PAD] [PAD] [PAD] [PAD] [PAD] [PAD] [PAD] [PAD] [PAD] [PAD] [PAD] [PAD] [PAD] [PAD] [PAD] [PAD] [PAD] [PAD] [PAD] [PAD] [PAD] [PAD] [PAD] [PAD] [PAD] [PAD] [PAD] [PAD] [PAD] [PAD] [PAD] [PAD] [PAD] [PAD] [PAD] [PAD] [PAD] [PAD] [PAD] [PAD] [PAD] [PAD] [PAD] [PAD] [PAD] [PAD] [PAD] [PAD] [PAD] [PAD] [PAD] [PAD] [PAD] [PAD] [PAD] [PAD] [PAD] [PAD] [PAD]'\n",
      "\n",
      "'>>> [CLS] she [MASK] [MASK], [MASK], [MASK] [SEP] [PAD] [PAD] [PAD] [PAD] [PAD] [PAD] [PAD] [PAD] [PAD] [PAD] [PAD] [PAD] [PAD] [PAD] [PAD] [PAD] [PAD] [PAD] [PAD] [PAD] [PAD] [PAD] [PAD] [PAD] [PAD] [PAD] [PAD] [PAD] [PAD] [PAD] [PAD] [PAD] [PAD] [PAD] [PAD] [PAD] [PAD] [PAD] [PAD] [PAD] [PAD] [PAD] [PAD] [PAD] [PAD] [PAD] [PAD] [PAD] [PAD] [PAD] [PAD] [PAD] [PAD] [PAD] [PAD] [PAD] [PAD] [PAD] [PAD] [PAD] [PAD] [PAD] [PAD] [PAD] [PAD] [PAD] [PAD] [PAD] [PAD] [PAD] [PAD]'\n",
      "\n",
      "'>>> [CLS] never [MASK], 110 [SEP] [PAD] [PAD] [PAD] [PAD] [PAD] [PAD] [PAD] [PAD] [PAD] [PAD] [PAD] [PAD] [PAD] [PAD] [PAD] [PAD] [PAD] [PAD] [PAD] [PAD] [PAD] [PAD] [PAD] [PAD] [PAD] [PAD] [PAD] [PAD] [PAD] [PAD] [PAD] [PAD] [PAD] [PAD] [PAD] [PAD] [PAD] [PAD] [PAD] [PAD] [PAD] [PAD] [PAD] [PAD] [PAD] [PAD] [PAD] [PAD] [PAD] [PAD] [PAD] [PAD] [PAD] [PAD] [PAD] [PAD] [PAD] [PAD] [PAD] [PAD] [PAD] [PAD] [PAD] [PAD] [PAD] [PAD] [PAD] [PAD] [PAD] [PAD] [PAD] [PAD] [PAD] [PAD]'\n",
      "\n",
      "'>>> [CLS] [MASK] acc, bts [MASK] twt [MASK] stream [MASK] [SEP] [PAD] [PAD] [PAD] [PAD] [PAD] [PAD] [PAD] [PAD] [PAD] [PAD] [PAD] [PAD] [PAD] [PAD] [PAD] [PAD] [PAD] [PAD] [PAD] [PAD] [PAD] [PAD] [PAD] [PAD] [PAD] [PAD] [PAD] [PAD] [PAD] [PAD] [PAD] [PAD] [PAD] [PAD] [PAD] [PAD] [PAD] [PAD] [PAD] [PAD] [PAD] [PAD] [PAD] [PAD] [PAD] [PAD] [PAD] [PAD] [PAD] [PAD] [PAD] [PAD] [PAD] [PAD] [PAD] [PAD] [PAD] [PAD] [PAD] [PAD] [PAD] [PAD] [PAD] [PAD] [PAD] [PAD] [PAD]'\n",
      "\n",
      "'>>> [CLS] official, [MASK], [MASK] [MASK] [MASK], outlander [SEP] [PAD] [PAD] [PAD] [PAD] [PAD] [PAD] [PAD] [PAD] [PAD] [PAD] [PAD] [PAD] [PAD] [PAD] [PAD] [PAD] [PAD] [PAD] [PAD] [PAD] [PAD] [PAD] [PAD] [PAD] [PAD] [PAD] [PAD] [PAD] [PAD] [PAD] [PAD] [PAD] [PAD] [PAD] [PAD] [PAD] [PAD] [PAD] [PAD] [PAD] [PAD] [PAD] [PAD] [PAD] [PAD] [PAD] [PAD] [PAD] [PAD] [PAD] [PAD] [PAD] [PAD] [PAD] [PAD] [PAD] [PAD] [PAD] [PAD] [PAD] [PAD] [PAD] [PAD] [PAD] [PAD] [PAD] [PAD] [PAD]'\n"
     ]
    }
   ],
   "source": [
    "samples = [tokenized_datasets[i] for i in range(10)]\n",
    "batch = whole_word_masking_data_collator(samples)\n",
    "\n",
    "for chunk in batch[\"input_ids\"]:\n",
    "    print(f\"\\n'>>> {tokenizer.decode(chunk)}'\")"
   ]
  },
  {
   "cell_type": "markdown",
   "id": "3072b7c3",
   "metadata": {},
   "source": [
    "### fine tuning"
   ]
  },
  {
   "cell_type": "code",
   "execution_count": 25,
   "id": "fc80c4cf",
   "metadata": {},
   "outputs": [
    {
     "name": "stdout",
     "output_type": "stream",
     "text": [
      "DatasetDict({\n",
      "    train: Dataset({\n",
      "        features: ['input_ids', 'token_type_ids', 'attention_mask', 'word_ids', 'labels'],\n",
      "        num_rows: 250000\n",
      "    })\n",
      "    test: Dataset({\n",
      "        features: ['input_ids', 'token_type_ids', 'attention_mask', 'word_ids', 'labels'],\n",
      "        num_rows: 25000\n",
      "    })\n",
      "})\n",
      "logging steps: 976\n"
     ]
    }
   ],
   "source": [
    "from transformers import TrainingArguments\n",
    "\n",
    "\n",
    "downsampled_dataset = tokenized_datasets.train_test_split(\n",
    "    train_size=int(25e4), test_size=int(25e3), seed=42\n",
    ")\n",
    "\n",
    "print(downsampled_dataset)\n",
    "\n",
    "batch_size = 64\n",
    "logging_steps = int((len(downsampled_dataset['train']) // batch_size) / 4)\n",
    "\n",
    "print(f\"logging steps: {logging_steps}\")\n",
    "\n",
    "args = TrainingArguments(\n",
    "    # output_dir: directory where the model checkpoints will be saved.\n",
    "    output_dir='./models/bertlarge-ft-mlm-twitter',\n",
    "    overwrite_output_dir=True,\n",
    "    # evaluation_strategy (default \"no\"):\n",
    "    # Possible values are:\n",
    "    # \"no\": No evaluation is done during training.\n",
    "    # \"steps\": Evaluation is done (and logged) every eval_steps.\n",
    "    # \"epoch\": Evaluation is done at the end of each epoch.\n",
    "    evaluation_strategy=\"steps\",\n",
    "    # eval_steps: Number of update steps between two evaluations if\n",
    "    # evaluation_strategy=\"steps\". Will default to the same value as\n",
    "    # logging_steps if not set.\n",
    "    eval_steps=logging_steps,\n",
    "    # logging_strategy (default: \"steps\"): The logging strategy to adopt during\n",
    "    # training (used to log training loss for example). Possible values are:\n",
    "    # \"no\": No logging is done during training.\n",
    "    # \"epoch\": Logging is done at the end of each epoch.\n",
    "    # \"steps\": Logging is done every logging_steps.\n",
    "    logging_strategy=\"steps\",\n",
    "    # logging_steps (default 500): Number of update steps between two logs if\n",
    "    # logging_strategy=\"steps\".\n",
    "    logging_steps=logging_steps,\n",
    "    # save_strategy (default \"steps\"):\n",
    "    # The checkpoint save strategy to adopt during training. Possible values are:\n",
    "    # \"no\": No save is done during training.\n",
    "    # \"epoch\": Save is done at the end of each epoch.\n",
    "    # \"steps\": Save is done every save_steps (default 500).\n",
    "    save_strategy=\"steps\",\n",
    "    # save_steps (default: 500): Number of updates steps before two checkpoint\n",
    "    # saves if save_strategy=\"steps\".\n",
    "    save_steps=logging_steps,\n",
    "    # learning_rate (default 5e-5): The initial learning rate for AdamW optimizer.\n",
    "    # Adam algorithm with weight decay fix as introduced in the paper\n",
    "    # Decoupled Weight Decay Regularization.\n",
    "    learning_rate=2e-5,\n",
    "    # per_device_train_batch_size: The batch size per GPU/TPU core/CPU for training.\n",
    "    per_device_train_batch_size=batch_size,\n",
    "    # per_device_eval_batch_size: The batch size per GPU/TPU core/CPU for evaluation.\n",
    "    per_device_eval_batch_size=batch_size,\n",
    "    # num_train_epochs (default 3.0): Total number of training epochs to perform\n",
    "    # (if not an integer, will perform the decimal part percents of the last epoch\n",
    "    # before stopping training).\n",
    "    num_train_epochs=2,\n",
    "    # load_best_model_at_end (default False): Whether or not to load the best model\n",
    "    # found during training at the end of training.\n",
    "    load_best_model_at_end=True,\n",
    "    # metric_for_best_model:\n",
    "    # Use in conjunction with load_best_model_at_end to specify the metric to use\n",
    "    # to compare two different models. Must be the name of a metric returned by\n",
    "    # the evaluation with or without the prefix \"eval_\".\n",
    "    metric_for_best_model=\"loss\",\n",
    "    # report_to:\n",
    "    # The list of integrations to report the results and logs to. Supported\n",
    "    # platforms are \"azure_ml\", \"comet_ml\", \"mlflow\", \"tensorboard\" and \"wandb\".\n",
    "    # Use \"all\" to report to all integrations installed, \"none\" for no integrations.\n",
    "    report_to=\"tensorboard\",\n",
    "    weight_decay=0.01,\n",
    "    # to avoid removing word_ids\n",
    "    remove_unused_columns=False\n",
    "    \n",
    ")"
   ]
  },
  {
   "cell_type": "code",
   "execution_count": 26,
   "id": "7e84d02a",
   "metadata": {},
   "outputs": [],
   "source": [
    "from transformers import Trainer\n",
    "\n",
    "\n",
    "trainer = Trainer(\n",
    "    model=model,\n",
    "    args=args,\n",
    "    train_dataset=downsampled_dataset[\"train\"],\n",
    "    eval_dataset=downsampled_dataset[\"test\"],\n",
    "    data_collator=whole_word_masking_data_collator,\n",
    ")"
   ]
  },
  {
   "cell_type": "code",
   "execution_count": 27,
   "id": "72e23c2c",
   "metadata": {},
   "outputs": [
    {
     "name": "stderr",
     "output_type": "stream",
     "text": [
      "/projects/academic/kjoseph/navid/anaconda3/envs/py38/lib/python3.8/site-packages/transformers/optimization.py:306: FutureWarning: This implementation of AdamW is deprecated and will be removed in a future version. Use the PyTorch implementation torch.optim.AdamW instead, or set `no_deprecation_warning=True` to disable this warning\n",
      "  warnings.warn(\n",
      "***** Running training *****\n",
      "  Num examples = 250000\n",
      "  Num Epochs = 2\n",
      "  Instantaneous batch size per device = 64\n",
      "  Total train batch size (w. parallel, distributed & accumulation) = 128\n",
      "  Gradient Accumulation steps = 1\n",
      "  Total optimization steps = 3908\n",
      "/projects/academic/kjoseph/navid/anaconda3/envs/py38/lib/python3.8/site-packages/torch/nn/parallel/_functions.py:68: UserWarning: Was asked to gather along dimension 0, but all input tensors were scalars; will instead unsqueeze and return a vector.\n",
      "  warnings.warn('Was asked to gather along dimension 0, but all '\n"
     ]
    },
    {
     "data": {
      "text/html": [
       "\n",
       "    <div>\n",
       "      \n",
       "      <progress value='3908' max='3908' style='width:300px; height:20px; vertical-align: middle;'></progress>\n",
       "      [3908/3908 32:57, Epoch 2/2]\n",
       "    </div>\n",
       "    <table border=\"1\" class=\"dataframe\">\n",
       "  <thead>\n",
       " <tr style=\"text-align: left;\">\n",
       "      <th>Step</th>\n",
       "      <th>Training Loss</th>\n",
       "      <th>Validation Loss</th>\n",
       "    </tr>\n",
       "  </thead>\n",
       "  <tbody>\n",
       "    <tr>\n",
       "      <td>976</td>\n",
       "      <td>4.268100</td>\n",
       "      <td>3.926489</td>\n",
       "    </tr>\n",
       "    <tr>\n",
       "      <td>1952</td>\n",
       "      <td>3.840900</td>\n",
       "      <td>3.723820</td>\n",
       "    </tr>\n",
       "    <tr>\n",
       "      <td>2928</td>\n",
       "      <td>3.689700</td>\n",
       "      <td>3.644656</td>\n",
       "    </tr>\n",
       "    <tr>\n",
       "      <td>3904</td>\n",
       "      <td>3.638900</td>\n",
       "      <td>3.587528</td>\n",
       "    </tr>\n",
       "  </tbody>\n",
       "</table><p>"
      ],
      "text/plain": [
       "<IPython.core.display.HTML object>"
      ]
     },
     "metadata": {},
     "output_type": "display_data"
    },
    {
     "name": "stderr",
     "output_type": "stream",
     "text": [
      "***** Running Evaluation *****\n",
      "  Num examples = 25000\n",
      "  Batch size = 128\n",
      "Saving model checkpoint to ./models/bertlarge-ft-mlm-twitter/checkpoint-976\n",
      "Configuration saved in ./models/bertlarge-ft-mlm-twitter/checkpoint-976/config.json\n",
      "Model weights saved in ./models/bertlarge-ft-mlm-twitter/checkpoint-976/pytorch_model.bin\n",
      "/projects/academic/kjoseph/navid/anaconda3/envs/py38/lib/python3.8/site-packages/torch/nn/parallel/_functions.py:68: UserWarning: Was asked to gather along dimension 0, but all input tensors were scalars; will instead unsqueeze and return a vector.\n",
      "  warnings.warn('Was asked to gather along dimension 0, but all '\n",
      "***** Running Evaluation *****\n",
      "  Num examples = 25000\n",
      "  Batch size = 128\n",
      "Saving model checkpoint to ./models/bertlarge-ft-mlm-twitter/checkpoint-1952\n",
      "Configuration saved in ./models/bertlarge-ft-mlm-twitter/checkpoint-1952/config.json\n",
      "Model weights saved in ./models/bertlarge-ft-mlm-twitter/checkpoint-1952/pytorch_model.bin\n",
      "/projects/academic/kjoseph/navid/anaconda3/envs/py38/lib/python3.8/site-packages/torch/nn/parallel/_functions.py:68: UserWarning: Was asked to gather along dimension 0, but all input tensors were scalars; will instead unsqueeze and return a vector.\n",
      "  warnings.warn('Was asked to gather along dimension 0, but all '\n",
      "***** Running Evaluation *****\n",
      "  Num examples = 25000\n",
      "  Batch size = 128\n",
      "Saving model checkpoint to ./models/bertlarge-ft-mlm-twitter/checkpoint-2928\n",
      "Configuration saved in ./models/bertlarge-ft-mlm-twitter/checkpoint-2928/config.json\n",
      "Model weights saved in ./models/bertlarge-ft-mlm-twitter/checkpoint-2928/pytorch_model.bin\n",
      "/projects/academic/kjoseph/navid/anaconda3/envs/py38/lib/python3.8/site-packages/torch/nn/parallel/_functions.py:68: UserWarning: Was asked to gather along dimension 0, but all input tensors were scalars; will instead unsqueeze and return a vector.\n",
      "  warnings.warn('Was asked to gather along dimension 0, but all '\n",
      "***** Running Evaluation *****\n",
      "  Num examples = 25000\n",
      "  Batch size = 128\n",
      "Saving model checkpoint to ./models/bertlarge-ft-mlm-twitter/checkpoint-3904\n",
      "Configuration saved in ./models/bertlarge-ft-mlm-twitter/checkpoint-3904/config.json\n",
      "Model weights saved in ./models/bertlarge-ft-mlm-twitter/checkpoint-3904/pytorch_model.bin\n",
      "/projects/academic/kjoseph/navid/anaconda3/envs/py38/lib/python3.8/site-packages/torch/nn/parallel/_functions.py:68: UserWarning: Was asked to gather along dimension 0, but all input tensors were scalars; will instead unsqueeze and return a vector.\n",
      "  warnings.warn('Was asked to gather along dimension 0, but all '\n",
      "\n",
      "\n",
      "Training completed. Do not forget to share your model on huggingface.co/models =)\n",
      "\n",
      "\n",
      "Loading best model from ./models/bertlarge-ft-mlm-twitter/checkpoint-3904 (score: 3.5875275135040283).\n"
     ]
    },
    {
     "data": {
      "text/plain": [
       "TrainOutput(global_step=3908, training_loss=3.85937551100154, metrics={'train_runtime': 1983.5885, 'train_samples_per_second': 252.068, 'train_steps_per_second': 1.97, 'total_flos': 7.281446256e+16, 'train_loss': 3.85937551100154, 'epoch': 2.0})"
      ]
     },
     "execution_count": 27,
     "metadata": {},
     "output_type": "execute_result"
    }
   ],
   "source": [
    "trainer.train()"
   ]
  },
  {
   "cell_type": "markdown",
   "id": "b64ba747",
   "metadata": {},
   "source": [
    "### evaluate model"
   ]
  },
  {
   "cell_type": "code",
   "execution_count": null,
   "id": "c8946114",
   "metadata": {},
   "outputs": [],
   "source": [
    "import math\n",
    "\n",
    "eval_results = trainer.evaluate(tokenized_datasets['valid'])\n",
    "print(f\">>> Perplexity: {math.exp(eval_results['eval_loss']):.2f}\")"
   ]
  },
  {
   "cell_type": "markdown",
   "id": "b8579a27",
   "metadata": {},
   "source": [
    "# Contrastive learning"
   ]
  },
  {
   "cell_type": "markdown",
   "id": "c4049e62",
   "metadata": {},
   "source": [
    "## generating positive negative samples"
   ]
  },
  {
   "cell_type": "code",
   "execution_count": 1,
   "id": "e79004e9",
   "metadata": {},
   "outputs": [
    {
     "name": "stdout",
     "output_type": "stream",
     "text": [
      "env: CUDA_VISIBLE_DEVICES=1\n"
     ]
    }
   ],
   "source": [
    "%env CUDA_VISIBLE_DEVICES=1"
   ]
  },
  {
   "cell_type": "code",
   "execution_count": 85,
   "id": "0e276d72",
   "metadata": {},
   "outputs": [
    {
     "data": {
      "text/plain": [
       "(2753951, 4750)"
      ]
     },
     "execution_count": 85,
     "metadata": {},
     "output_type": "execute_result"
    }
   ],
   "source": [
    "import pickle\n",
    "import numpy as np\n",
    "\n",
    "dataset = 'twitter'\n",
    "freq = 500\n",
    "    \n",
    "with open(f'./data/{dataset}_cleaned_train_bios_{freq}.pkl', 'rb') as f:\n",
    "    bios = pickle.load(f)\n",
    "    \n",
    "pi_dict = {}\n",
    "for bio in bios:\n",
    "    for pi in bio:\n",
    "        if pi not in pi_dict:\n",
    "            pi_dict[pi] = len(pi_dict)\n",
    "\n",
    "pi_set = list(pi_dict.keys())\n",
    "    \n",
    "len(bios), len(pi_set)"
   ]
  },
  {
   "cell_type": "code",
   "execution_count": 86,
   "id": "652af647",
   "metadata": {},
   "outputs": [
    {
     "data": {
      "text/plain": [
       "3.0"
      ]
     },
     "execution_count": 86,
     "metadata": {},
     "output_type": "execute_result"
    }
   ],
   "source": [
    "np.median([len(x) for x in bios])"
   ]
  },
  {
   "cell_type": "markdown",
   "id": "59b26bdf",
   "metadata": {},
   "source": [
    "### neighbors of a PI"
   ]
  },
  {
   "cell_type": "code",
   "execution_count": 87,
   "id": "fd94ba1c",
   "metadata": {},
   "outputs": [
    {
     "name": "stderr",
     "output_type": "stream",
     "text": [
      "100%|██████████| 2753951/2753951 [00:18<00:00, 152481.50it/s]"
     ]
    },
    {
     "name": "stdout",
     "output_type": "stream",
     "text": [
      "4750\n"
     ]
    },
    {
     "name": "stderr",
     "output_type": "stream",
     "text": [
      "\n"
     ]
    }
   ],
   "source": [
    "from tqdm import tqdm\n",
    "neighbors = {}\n",
    "from collections import Counter\n",
    "\n",
    "\n",
    "for bio in tqdm(bios):\n",
    "    for pi in bio:\n",
    "        if pi not in neighbors:\n",
    "            neighbors[pi] = Counter()\n",
    "                \n",
    "        rest = [b for b in bio if b!=pi]\n",
    "        neighbors[pi].update(rest)\n",
    "\n",
    "print(len(neighbors))            \n"
   ]
  },
  {
   "cell_type": "markdown",
   "id": "da2f5038",
   "metadata": {},
   "source": [
    "### pos/neg samples"
   ]
  },
  {
   "cell_type": "markdown",
   "id": "b0a444d5",
   "metadata": {
    "heading_collapsed": true
   },
   "source": [
    "#### sampling PI pairs"
   ]
  },
  {
   "cell_type": "code",
   "execution_count": null,
   "id": "37c4ab31",
   "metadata": {
    "hidden": true
   },
   "outputs": [],
   "source": [
    "from random import randint\n",
    "import numpy as np\n",
    "\n",
    "def pair_in_list(current_pair, l):\n",
    "    for pair in l:\n",
    "        if current_pair[0] in pair and current_pair[1] in pair:\n",
    "            return True\n",
    "    return False\n",
    "\n",
    "\n",
    "def generate_triplets(bios, k=3):\n",
    "    samples = []\n",
    "    for idx, bio in tqdm(enumerate(bios), total=len(bios)):\n",
    "        if len(bio) != len(set(bio)):\n",
    "            continue\n",
    "        iters = min(len(bio)-1, k)\n",
    "        chosen_pis = []\n",
    "        for i in range(iters):\n",
    "            pos1, pos2 = np.random.choice(bio, size=2, replace=False)\n",
    "            while pair_in_list([pos1,pos2], chosen_pis):\n",
    "                pos1, pos2 = np.random.choice(bio, size=2, replace=False)\n",
    "            chosen_pis.append([pos1, pos2])\n",
    "            neg_idx = randint(0, len(pi_set)-1)\n",
    "            while pi_set[neg_idx] in neighbors[pos1] or pi_set[neg_idx] in neighbors[pos2]:\n",
    "                neg_idx = randint(0, len(pi_set)-1)\n",
    "            samples.append([pos1, pos2, pi_set[neg_idx]])\n",
    "    return samples\n",
    "\n",
    "triplets = generate_triplets(bios, k=3)"
   ]
  },
  {
   "cell_type": "markdown",
   "id": "f1e0a4c3",
   "metadata": {},
   "source": [
    "#### sampling bios vs PIs"
   ]
  },
  {
   "cell_type": "code",
   "execution_count": 88,
   "id": "96544675",
   "metadata": {},
   "outputs": [
    {
     "name": "stderr",
     "output_type": "stream",
     "text": [
      "100%|██████████| 2753951/2753951 [01:14<00:00, 36831.58it/s]\n"
     ]
    }
   ],
   "source": [
    "from random import randint\n",
    "import numpy as np\n",
    "\n",
    "\n",
    "def generate_triplets(bios):\n",
    "    samples = []\n",
    "    for idx, bio in tqdm(enumerate(bios), total=len(bios)):\n",
    "        if len(bio) != len(set(bio)):\n",
    "            continue\n",
    "        anchor = np.random.choice(bio, size=1, replace=False)[0]\n",
    "        pos = [pi for pi in bio if pi != anchor]\n",
    "        pos = \", \".join(pos)\n",
    "        \n",
    "        neg_idx = randint(0, len(pi_set)-1)\n",
    "        while pi_set[neg_idx] in neighbors[anchor]:\n",
    "            neg_idx = randint(0, len(pi_set)-1)\n",
    "        \n",
    "        samples.append([anchor, pos, pi_set[neg_idx]])\n",
    "    return samples\n",
    "\n",
    "triplets = generate_triplets(bios)"
   ]
  },
  {
   "cell_type": "code",
   "execution_count": 89,
   "id": "68ef2d81",
   "metadata": {},
   "outputs": [
    {
     "name": "stdout",
     "output_type": "stream",
     "text": [
      "2753951\n"
     ]
    }
   ],
   "source": [
    "print(len(triplets))"
   ]
  },
  {
   "cell_type": "code",
   "execution_count": 90,
   "id": "e110f55e",
   "metadata": {},
   "outputs": [
    {
     "data": {
      "text/plain": [
       "[['curious', 'lover of nature', 'carrd byf'],\n",
       " ['psychologist', 'wwg1wga', 'pussy'],\n",
       " ['him', '22, draw stuff, he, blm', 'god is good'],\n",
       " ['husband', 'dad', 'idv'],\n",
       " ['member of the', 'resistance', 'wethepeople'],\n",
       " ['writing', 'growing, learning', 'ada'],\n",
       " ['nineteen', 'she, her, for', 'experience'],\n",
       " ['bts_twt', 'fan acc, stream dynamite', 'comic artist'],\n",
       " ['official', 'outlander', 'ks'],\n",
       " ['adventures', 'good food, 26', 'ot23']]"
      ]
     },
     "execution_count": 90,
     "metadata": {},
     "output_type": "execute_result"
    }
   ],
   "source": [
    "triplets[:10]"
   ]
  },
  {
   "cell_type": "markdown",
   "id": "30d18ff5",
   "metadata": {},
   "source": [
    "## save dataset"
   ]
  },
  {
   "cell_type": "code",
   "execution_count": 91,
   "id": "b096589a",
   "metadata": {},
   "outputs": [],
   "source": [
    "import pickle \n",
    "\n",
    "with open(f'data/{dataset}-triplet500_v2_{freq}.pkl', 'wb') as f:\n",
    "    pickle.dump(triplets, f)"
   ]
  },
  {
   "cell_type": "code",
   "execution_count": 61,
   "id": "6b7a0d98",
   "metadata": {},
   "outputs": [],
   "source": [
    "import pickle \n",
    "\n",
    "dataset = 'twitter'\n",
    "freq = 500\n",
    "\n",
    "with open(f'data/{dataset}-triplet500_v2_{freq}.pkl', 'rb') as f:\n",
    "    triplets = pickle.load(f)"
   ]
  },
  {
   "cell_type": "code",
   "execution_count": 62,
   "id": "fc3d0c2f",
   "metadata": {},
   "outputs": [
    {
     "data": {
      "text/plain": [
       "[['curious', 'lover of nature', 'carrd byf'],\n",
       " ['psychologist', 'wwg1wga', 'pussy'],\n",
       " ['him', '22, draw stuff, he, blm', 'god is good'],\n",
       " ['husband', 'dad', 'idv'],\n",
       " ['member of the', 'resistance', 'wethepeople'],\n",
       " ['writing', 'growing, learning', 'ada'],\n",
       " ['nineteen', 'she, her, for', 'experience'],\n",
       " ['bts_twt', 'fan acc, stream dynamite', 'comic artist'],\n",
       " ['official', 'outlander', 'ks'],\n",
       " ['adventures', 'good food, 26', 'ot23'],\n",
       " ['hers', 'she, her', 'everglow'],\n",
       " ['defundthepolice', 'acab', 'ot23'],\n",
       " ['ele', 'ela', 'logic'],\n",
       " ['virgo', 'libra, sag', 'china'],\n",
       " ['she', 'see, they', 'bnb'],\n",
       " ['still', 'rise', 'experience'],\n",
       " ['artist', 'fan, arsenal', 'lover of jesus'],\n",
       " ['her', 'bi, she', 'poker'],\n",
       " ['foodie', 'wine lover, french', 'conta nova'],\n",
       " ['swimmer', 'web designer', 'loves'],\n",
       " ['animals', 'environment, dogs, nature, cats, birds', 'field'],\n",
       " ['reader', 'writer, journalist, live', 'dhoni'],\n",
       " ['love', 'justice, grandmother', 'bootwt'],\n",
       " ['fan', 'bara, f1', 'moonchild'],\n",
       " ['ynwa', 'gamer, liverpool fc, jft96', 'fearless'],\n",
       " ['engineer', 'businessman, investor', 'agender'],\n",
       " ['conservative', 'maga, usa', 'book reader'],\n",
       " ['blm', 'uk', 'jai janasena'],\n",
       " ['she', 'they', 'pro-life'],\n",
       " ['he', 'formerly, him', 'prolife'],\n",
       " ['co', 'chartered accountant', 'jesus is king'],\n",
       " ['china', 'intellectual', 'children'],\n",
       " ['be happy', 'be strong', 'build'],\n",
       " ['he', '30', 'backup id'],\n",
       " ['he', 'him', '2nd amendment'],\n",
       " ['architect', 'environmentalist', 'nasty'],\n",
       " ['22', 'enfp', 'tacos'],\n",
       " ['gamer', 'writer, metalhead', 'vmin'],\n",
       " ['jeno', 'renjun, taeyong, fan acc', 'share'],\n",
       " ['onlyfans', 'milf', '2ne1'],\n",
       " ['defi', 'eth', 'nba'],\n",
       " ['creative', 'loving, fun', 'fan page'],\n",
       " ['she', 'they, blacklivesmatter', 'proud patriot'],\n",
       " ['jaehyun', 'hanbin', 'anthropology'],\n",
       " ['sr', 'tennis, outdoors, bbq, jazz, gin, mom', 'hehe'],\n",
       " ['coffee lover', 'cat lady', 'sleep'],\n",
       " ['moa', 'bts, army, txt, got7', 'harta'],\n",
       " ['her', 'fire emblem, kh, pokemon, she, pfp by', 'crypto trader'],\n",
       " ['sports', 'alum, cpa', 'indigenous'],\n",
       " ['traveler',\n",
       "  'places, people, reader, marketer, ideas, fantasy, science fiction',\n",
       "  'anitwt'],\n",
       " ['guitar player', 'mba, science', 'nsfw 18'],\n",
       " ['pawankalyan', 'die hard fan, devotee', 'fam'],\n",
       " ['llm', 'msc, law, economics, lecturer, researcher, phd, lawyer', 'ovo'],\n",
       " ['22', 'he, pisces, they', 'family man'],\n",
       " ['seventeen', 'mamamoo', 'plant mom'],\n",
       " ['monbebe', 'melody', 'fam'],\n",
       " ['fan account', 'new', 'usc'],\n",
       " ['he', 'she', '1904'],\n",
       " ['soundcloud', 'comics, tv', 'comic'],\n",
       " ['realmadrid', 'flamengo', 'clc'],\n",
       " ['rt', 'ptsd, eng', 'deep thinker'],\n",
       " ['sun', 'moon, rising', 'sharks'],\n",
       " ['bulls', 'bears, blackhawks', 'rants'],\n",
       " ['manchester united', 'sagittarius', 'mina'],\n",
       " ['nctdream', 'nct127', 'lvl'],\n",
       " ['ktbffh', 'ig', 'heritage'],\n",
       " ['hufflepuff', 'she, her', 'movement'],\n",
       " ['weeb', 'feminist', 'graphics'],\n",
       " ['ateez', 'superjunior, tvxq', 'nutrition'],\n",
       " ['hustler', 'loyal', 'awake'],\n",
       " ['scientist', 'read', '2nd'],\n",
       " ['husband', 'father, gaming', '20 y'],\n",
       " ['stylist', 'graduate, artist', 'managing editor'],\n",
       " ['gay', 'gf', '^o^'],\n",
       " ['latest news', 'f4f', 'joker'],\n",
       " ['god bless', 'god fearing', 'web design'],\n",
       " ['producer', 'en, fr', 'not interested'],\n",
       " ['love god', 'pro-life, country, family', 'iii'],\n",
       " ['game designer', 'streamer, 23', 'aroha'],\n",
       " ['selena', 'principal, fan account', 'sea'],\n",
       " ['her', 'she, scientist', 'forex'],\n",
       " ['nsfw 18', 'bestie', 'inspired by'],\n",
       " ['god first', 'blacklivesmatter', \"don't follow me\"],\n",
       " ['free', 'nra, thank you', 'bunny'],\n",
       " ['him', 'he', 'man of god'],\n",
       " ['muslimah', 'human being, aries, optimist, ambivert', 'night'],\n",
       " ['ltd', 'ceo', 'video game'],\n",
       " ['be kind', 'electrician', 'development'],\n",
       " ['info', 'java, css, ceo', 'amen'],\n",
       " ['nationalist', 'farmer, lecturer', 'or'],\n",
       " ['sports fan', 'mom, person, canadian, librarian', 'civil'],\n",
       " ['they', 'she', 'acmilan'],\n",
       " ['he', 'him, 18', '100% follow back'],\n",
       " ['free palestine', 'marketer, democrat', 'us'],\n",
       " ['sex', 'hot', 'this is me'],\n",
       " ['dios', 'familia, cpa', 'understanding'],\n",
       " ['liberal', 'socialist, human rights', 'latest news'],\n",
       " ['ig', 'gt, play games', 'trx'],\n",
       " ['onedirection', 'she, her', 'die hard'],\n",
       " ['kag', 'maga, trump2020', 'atla']]"
      ]
     },
     "execution_count": 62,
     "metadata": {},
     "output_type": "execute_result"
    }
   ],
   "source": [
    "triplets[:100]"
   ]
  },
  {
   "cell_type": "markdown",
   "id": "7ba7ad2d",
   "metadata": {},
   "source": [
    "## finetuning"
   ]
  },
  {
   "cell_type": "markdown",
   "id": "cf22515a",
   "metadata": {},
   "source": [
    "### building the dataset\n"
   ]
  },
  {
   "cell_type": "code",
   "execution_count": 93,
   "id": "9209cd27",
   "metadata": {},
   "outputs": [],
   "source": [
    "import csv\n",
    "from sklearn.model_selection import train_test_split\n",
    "\n",
    "train_set, valid_set = train_test_split(triplets, test_size=0.1)\n",
    "\n",
    "# writing the data into the file\n",
    "with open(f'data/{dataset}-valid-{freq}.csv', 'w') as f:   \n",
    "    write = csv.writer(f, delimiter='\\t')\n",
    "    write.writerows(valid_set)\n",
    "    \n",
    "with open(f'data/{dataset}-train-{freq}.csv', 'w') as f:   \n",
    "    write = csv.writer(f, delimiter='\\t')\n",
    "    write.writerows(train_set)\n"
   ]
  },
  {
   "cell_type": "code",
   "execution_count": 94,
   "id": "806f4a46",
   "metadata": {},
   "outputs": [
    {
     "name": "stdout",
     "output_type": "stream",
     "text": [
      "huggingface/tokenizers: The current process just got forked, after parallelism has already been used. Disabling parallelism to avoid deadlocks...\n",
      "To disable this warning, you can either:\n",
      "\t- Avoid using `tokenizers` before the fork if possible\n",
      "\t- Explicitly set the environment variable TOKENIZERS_PARALLELISM=(true | false)\n",
      "black lives matter\twear a mask\tgis\n",
      "friend\tchild of god, mother\thmu\n",
      "cooking\t16, he, him, drawing\tfather of 4\n",
      "polyamorous\the, him, 26\thorse racing\n",
      "pisces\tsu\tbjp\n",
      "lakeshow\tkingjames, fan\tlove to laugh\n",
      "entrepreneur\tman utd fan, analyst\tav\n",
      "author\tspeaker\top\n",
      "nojusticenopeace\tblm\tbr\n",
      "she\talt\tftm\n"
     ]
    }
   ],
   "source": [
    "!head data/twitter-train-500.csv"
   ]
  },
  {
   "cell_type": "code",
   "execution_count": 95,
   "id": "72d8c754",
   "metadata": {},
   "outputs": [
    {
     "name": "stderr",
     "output_type": "stream",
     "text": [
      "2478555it [00:26, 93356.73it/s] \n"
     ]
    }
   ],
   "source": [
    "import csv\n",
    "from sentence_transformers import SentenceTransformer, InputExample, losses, util\n",
    "from torch.utils.data import DataLoader\n",
    "\n",
    "dataset = 'twitter'\n",
    "freq=500\n",
    "\n",
    "with open(f'data/{dataset}-train-{freq}.csv', newline='') as f:\n",
    "    train_examples = []\n",
    "    reader = csv.reader(f, delimiter='\\t', quoting=csv.QUOTE_NONE)\n",
    "    for row in tqdm(reader):\n",
    "        train_examples.append(InputExample(texts=[row[0], row[1]], label=1.0))\n",
    "        train_examples.append(InputExample(texts=[row[0], row[2]], label=0.0))\n",
    "    "
   ]
  },
  {
   "cell_type": "markdown",
   "id": "23ca3a11",
   "metadata": {},
   "source": [
    "### loading evaluation dataset"
   ]
  },
  {
   "cell_type": "code",
   "execution_count": 96,
   "id": "3f1ae891",
   "metadata": {},
   "outputs": [
    {
     "name": "stderr",
     "output_type": "stream",
     "text": [
      "275396it [00:00, 655264.23it/s]\n"
     ]
    }
   ],
   "source": [
    "\n",
    "from sentence_transformers import evaluation\n",
    "\n",
    "with open(f'data/{dataset}-valid-{freq}.csv', newline='') as f:\n",
    "    sent1s = []\n",
    "    sent2s = []\n",
    "    scores = []\n",
    "    i = 0\n",
    "    reader = csv.reader(f, delimiter='\\t', quoting=csv.QUOTE_NONE)\n",
    "    for row in tqdm(reader):\n",
    "        sent1s.append(row[0])\n",
    "        sent1s.append(row[0])\n",
    "        sent2s.append(row[1])\n",
    "        sent2s.append(row[2])\n",
    "        scores.append(1.0)\n",
    "        scores.append(0.0)\n",
    "        i += 1\n",
    "evaluator = evaluation.EmbeddingSimilarityEvaluator(sent1s, sent2s, scores)\n"
   ]
  },
  {
   "cell_type": "markdown",
   "id": "d645e1e0",
   "metadata": {},
   "source": [
    "### creating data loaders"
   ]
  },
  {
   "cell_type": "code",
   "execution_count": 97,
   "id": "253e199f",
   "metadata": {},
   "outputs": [
    {
     "name": "stderr",
     "output_type": "stream",
     "text": [
      "/projects/academic/kjoseph/navid/anaconda3/envs/py38/lib/python3.8/site-packages/huggingface_hub/file_download.py:588: FutureWarning: `cached_download` is the legacy way to download files from the HF hub, please consider upgrading to `hf_hub_download`\n",
      "  warnings.warn(\n"
     ]
    },
    {
     "data": {
      "text/plain": [
       "SentenceTransformer(\n",
       "  (0): Transformer({'max_seq_length': 384, 'do_lower_case': False}) with Transformer model: MPNetModel \n",
       "  (1): Pooling({'word_embedding_dimension': 768, 'pooling_mode_cls_token': False, 'pooling_mode_mean_tokens': True, 'pooling_mode_max_tokens': False, 'pooling_mode_mean_sqrt_len_tokens': False})\n",
       "  (2): Normalize()\n",
       ")"
      ]
     },
     "execution_count": 97,
     "metadata": {},
     "output_type": "execute_result"
    }
   ],
   "source": [
    "from sentence_transformers import SentenceTransformer, models\n",
    "from torch import nn\n",
    "\n",
    "# model_name = 'all-distilroberta-v1'\n",
    "model_name = 'all-mpnet-base-v2'\n",
    "model = SentenceTransformer(model_name)\n",
    "# dense_model = models.Dense(in_features=model.get_sentence_embedding_dimension(), out_features=256, activation_function=nn.Tanh())\n",
    "# model.add_module('3', dense_model)\n",
    "\n",
    "train_dataloader = DataLoader(train_examples, shuffle=True, batch_size=256)\n",
    "train_loss = losses.CosineSimilarityLoss(model)\n",
    "\n",
    "model"
   ]
  },
  {
   "cell_type": "markdown",
   "id": "2b6804d7",
   "metadata": {},
   "source": [
    "### training"
   ]
  },
  {
   "cell_type": "code",
   "execution_count": 98,
   "id": "c30365eb",
   "metadata": {},
   "outputs": [
    {
     "name": "stderr",
     "output_type": "stream",
     "text": [
      "/projects/academic/kjoseph/navid/anaconda3/envs/py38/lib/python3.8/site-packages/transformers/optimization.py:306: FutureWarning: This implementation of AdamW is deprecated and will be removed in a future version. Use the PyTorch implementation torch.optim.AdamW instead, or set `no_deprecation_warning=True` to disable this warning\n",
      "  warnings.warn(\n"
     ]
    },
    {
     "data": {
      "application/vnd.jupyter.widget-view+json": {
       "model_id": "f4744d52b2bd44c296a8b36361b315b6",
       "version_major": 2,
       "version_minor": 0
      },
      "text/plain": [
       "Epoch:   0%|          | 0/5 [00:00<?, ?it/s]"
      ]
     },
     "metadata": {},
     "output_type": "display_data"
    },
    {
     "data": {
      "application/vnd.jupyter.widget-view+json": {
       "model_id": "720a6762c0e24dd299eb4ec096fed4ca",
       "version_major": 2,
       "version_minor": 0
      },
      "text/plain": [
       "Iteration:   0%|          | 0/19364 [00:00<?, ?it/s]"
      ]
     },
     "metadata": {},
     "output_type": "display_data"
    },
    {
     "data": {
      "application/vnd.jupyter.widget-view+json": {
       "model_id": "03c68fe928974fb193dba4970e6fcc99",
       "version_major": 2,
       "version_minor": 0
      },
      "text/plain": [
       "Iteration:   0%|          | 0/19364 [00:00<?, ?it/s]"
      ]
     },
     "metadata": {},
     "output_type": "display_data"
    },
    {
     "name": "stderr",
     "output_type": "stream",
     "text": [
      "IOPub message rate exceeded.\n",
      "The notebook server will temporarily stop sending output\n",
      "to the client in order to avoid crashing it.\n",
      "To change this limit, set the config variable\n",
      "`--NotebookApp.iopub_msg_rate_limit`.\n",
      "\n",
      "Current values:\n",
      "NotebookApp.iopub_msg_rate_limit=1000.0 (msgs/sec)\n",
      "NotebookApp.rate_limit_window=3.0 (secs)\n",
      "\n",
      "IOPub message rate exceeded.\n",
      "The notebook server will temporarily stop sending output\n",
      "to the client in order to avoid crashing it.\n",
      "To change this limit, set the config variable\n",
      "`--NotebookApp.iopub_msg_rate_limit`.\n",
      "\n",
      "Current values:\n",
      "NotebookApp.iopub_msg_rate_limit=1000.0 (msgs/sec)\n",
      "NotebookApp.rate_limit_window=3.0 (secs)\n",
      "\n"
     ]
    },
    {
     "data": {
      "application/vnd.jupyter.widget-view+json": {
       "model_id": "349ea3729b8e4fbaa7909cad450b04a1",
       "version_major": 2,
       "version_minor": 0
      },
      "text/plain": [
       "Iteration:   0%|          | 0/19364 [00:00<?, ?it/s]"
      ]
     },
     "metadata": {},
     "output_type": "display_data"
    },
    {
     "name": "stderr",
     "output_type": "stream",
     "text": [
      "IOPub message rate exceeded.\n",
      "The notebook server will temporarily stop sending output\n",
      "to the client in order to avoid crashing it.\n",
      "To change this limit, set the config variable\n",
      "`--NotebookApp.iopub_msg_rate_limit`.\n",
      "\n",
      "Current values:\n",
      "NotebookApp.iopub_msg_rate_limit=1000.0 (msgs/sec)\n",
      "NotebookApp.rate_limit_window=3.0 (secs)\n",
      "\n",
      "IOPub message rate exceeded.\n",
      "The notebook server will temporarily stop sending output\n",
      "to the client in order to avoid crashing it.\n",
      "To change this limit, set the config variable\n",
      "`--NotebookApp.iopub_msg_rate_limit`.\n",
      "\n",
      "Current values:\n",
      "NotebookApp.iopub_msg_rate_limit=1000.0 (msgs/sec)\n",
      "NotebookApp.rate_limit_window=3.0 (secs)\n",
      "\n",
      "IOPub message rate exceeded.\n",
      "The notebook server will temporarily stop sending output\n",
      "to the client in order to avoid crashing it.\n",
      "To change this limit, set the config variable\n",
      "`--NotebookApp.iopub_msg_rate_limit`.\n",
      "\n",
      "Current values:\n",
      "NotebookApp.iopub_msg_rate_limit=1000.0 (msgs/sec)\n",
      "NotebookApp.rate_limit_window=3.0 (secs)\n",
      "\n",
      "IOPub message rate exceeded.\n",
      "The notebook server will temporarily stop sending output\n",
      "to the client in order to avoid crashing it.\n",
      "To change this limit, set the config variable\n",
      "`--NotebookApp.iopub_msg_rate_limit`.\n",
      "\n",
      "Current values:\n",
      "NotebookApp.iopub_msg_rate_limit=1000.0 (msgs/sec)\n",
      "NotebookApp.rate_limit_window=3.0 (secs)\n",
      "\n"
     ]
    }
   ],
   "source": [
    "output_model_path = f'models/mpnet-{dataset}-freq{freq}'\n",
    "\n",
    "model.fit(train_objectives=[(train_dataloader, train_loss)],\n",
    "          evaluator=evaluator,\n",
    "          epochs=5,\n",
    "          evaluation_steps=6000,\n",
    "          warmup_steps=6000,\n",
    "          checkpoint_save_steps=35000,\n",
    "          output_path=output_model_path)"
   ]
  },
  {
   "cell_type": "markdown",
   "id": "baf551e7",
   "metadata": {},
   "source": [
    "### valiation results - best model\n"
   ]
  },
  {
   "cell_type": "code",
   "execution_count": 18,
   "id": "9c382185",
   "metadata": {},
   "outputs": [
    {
     "data": {
      "image/png": "[encoded data removed]",
      "text/plain": [
       "<Figure size 432x288 with 1 Axes>"
      ]
     },
     "metadata": {
      "needs_background": "light"
     },
     "output_type": "display_data"
    }
   ],
   "source": [
    "import seaborn as sns\n",
    "import pandas as pd\n",
    "import matplotlib.pyplot as plt\n",
    "\n",
    "twitter_valid = pd.read_csv(f'models/mpnet-twitter-freq100/eval/similarity_evaluation_results.csv')\n",
    "# wiki_valid = pd.read_csv(f'models/distilroberta-{dataset}-freq{freq}/eval/similarity_evaluation_results.csv')\n",
    "\n",
    "sns.lineplot(x=range(len(twitter_valid)), y=twitter_valid['cosine_pearson'])\n",
    "plt.show()\n",
    "# sns.lineplot(x=range(len(wiki_valid)), y=wiki_valid['cosine_pearson'])\n",
    "# plt.show()"
   ]
  },
  {
   "cell_type": "code",
   "execution_count": 99,
   "id": "d88507c2",
   "metadata": {},
   "outputs": [
    {
     "data": {
      "image/png": "[encoded data removed]",
      "text/plain": [
       "<Figure size 432x288 with 1 Axes>"
      ]
     },
     "metadata": {},
     "output_type": "display_data"
    }
   ],
   "source": [
    "import seaborn as sns\n",
    "import pandas as pd\n",
    "import matplotlib.pyplot as plt\n",
    "\n",
    "twitter_valid = pd.read_csv(f'models/mpnet-twitter-freq500/eval/similarity_evaluation_results.csv')\n",
    "# wiki_valid = pd.read_csv(f'models/distilroberta-{dataset}-freq{freq}/eval/similarity_evaluation_results.csv')\n",
    "\n",
    "sns.lineplot(x=range(len(twitter_valid)), y=twitter_valid['cosine_pearson'])\n",
    "plt.show()\n",
    "# sns.lineplot(x=range(len(wiki_valid)), y=wiki_valid['cosine_pearson'])\n",
    "# plt.show()"
   ]
  },
  {
   "cell_type": "markdown",
   "id": "67356ab1",
   "metadata": {},
   "source": [
    "## evaluation"
   ]
  },
  {
   "cell_type": "markdown",
   "id": "6f996d9b",
   "metadata": {},
   "source": [
    "### loading saved model"
   ]
  },
  {
   "cell_type": "code",
   "execution_count": null,
   "id": "99293b13",
   "metadata": {},
   "outputs": [],
   "source": [
    "%env CUDA_VISIBLE_DEVICES=1"
   ]
  },
  {
   "cell_type": "code",
   "execution_count": 1,
   "id": "82ba41ae",
   "metadata": {},
   "outputs": [
    {
     "data": {
      "text/plain": [
       "SentenceTransformer(\n",
       "  (0): Transformer({'max_seq_length': 384, 'do_lower_case': False}) with Transformer model: MPNetModel \n",
       "  (1): Pooling({'word_embedding_dimension': 768, 'pooling_mode_cls_token': False, 'pooling_mode_mean_tokens': True, 'pooling_mode_max_tokens': False, 'pooling_mode_mean_sqrt_len_tokens': False})\n",
       "  (2): Normalize()\n",
       ")"
      ]
     },
     "execution_count": 1,
     "metadata": {},
     "output_type": "execute_result"
    }
   ],
   "source": [
    "from sentence_transformers import SentenceTransformer, models\n",
    "\n",
    "model = SentenceTransformer('./models/mpnet-twitter-freq100/')\n",
    "\n",
    "model"
   ]
  },
  {
   "cell_type": "code",
   "execution_count": 2,
   "id": "811bcaac-fc6a-43fe-a3cc-c831cc13ed30",
   "metadata": {},
   "outputs": [
    {
     "name": "stdout",
     "output_type": "stream",
     "text": [
      "Getting sentence embeddings\n"
     ]
    },
    {
     "data": {
      "application/vnd.jupyter.widget-view+json": {
       "model_id": "85e9bd7da65f4d54aca87b1c7f2bf3df",
       "version_major": 2,
       "version_minor": 0
      },
      "text/plain": [
       "Batches:   0%|          | 0/1 [00:00<?, ?it/s]"
      ]
     },
     "metadata": {},
     "output_type": "display_data"
    },
    {
     "name": "stdout",
     "output_type": "stream",
     "text": [
      "Projecting embeddings\n"
     ]
    },
    {
     "data": {
      "text/plain": [
       "[{'a': 0.4622251, 'g': 0.66121656, 'e': 0.19234742},\n",
       " {'p': 0.3971424,\n",
       "  'o': 0.6946778,\n",
       "  'l': 0.29304522,\n",
       "  'i': 0.019956112,\n",
       "  't': 0.24655272},\n",
       " {'r': 0.45206383,\n",
       "  'e': -0.30867043,\n",
       "  'l': -0.38980037,\n",
       "  'i': 0.15958893,\n",
       "  'g': 0.2396613}]"
      ]
     },
     "execution_count": 2,
     "metadata": {},
     "output_type": "execute_result"
    }
   ],
   "source": [
    "from src.inference.projection import load_sbert_based_model, get_sentence_projections\n",
    "\n",
    "model = load_sbert_based_model('navidmadani/mpnet-twitter-freq100')\n",
    "get_sentence_projections(['trump can save us', 'build the wall', 'get vaccinated asap'], model, as_dict=True) "
   ]
  },
  {
   "cell_type": "markdown",
   "id": "2ee894bf",
   "metadata": {},
   "source": [
    "### calculating encodings for all phrases"
   ]
  },
  {
   "cell_type": "code",
   "execution_count": null,
   "id": "ad34c86c",
   "metadata": {},
   "outputs": [],
   "source": [
    "pis = set()\n",
    "\n",
    "for bio in cleaned_bios:\n",
    "    pis.update(bio)\n",
    "\n",
    "pis = list(pis)\n",
    "print(len(pis))\n",
    "\n",
    "embeddings = model.encode(pis, convert_to_tensor=True)\n",
    "        "
   ]
  },
  {
   "cell_type": "code",
   "execution_count": null,
   "id": "237ba151",
   "metadata": {
    "scrolled": true
   },
   "outputs": [],
   "source": [
    "def most_similar(pi, all_pis, all_pi_embs, model, k=11):\n",
    "    cur_emb = model.encode(pi, convert_to_tensor=True)\n",
    "    cosine_scores = util.cos_sim(cur_emb, all_pi_embs).detach().cpu().numpy()[0]\n",
    "    most_similars = np.argsort(cosine_scores)[-k:]\n",
    "    return [(all_pis[i], cosine_scores[i]) for i in most_similars if pi!=all_pis[i]]\n",
    "\n",
    "most_similar('mima', pis, embeddings, model, k=50)"
   ]
  },
  {
   "cell_type": "code",
   "execution_count": null,
   "id": "94edeb53",
   "metadata": {},
   "outputs": [],
   "source": [
    "def get_similarity(w1, w2, model=model):\n",
    "    emb1 = model.encode(w1, convert_to_tensor=True)\n",
    "    emb2 = model.encode(w2, convert_to_tensor=True)\n",
    "    return util.cos_sim(emb1, emb2)\n",
    "\n",
    "print(\n",
    "    get_similarity('isfj', 'man'),\n",
    "    get_similarity('isfj', 'woman'),\n",
    "    get_similarity('isfj', 'man', model=model),\n",
    "    get_similarity('isfj', 'woman', model=model),\n",
    ")\n",
    "\n",
    "print(\n",
    "    get_similarity('intj', 'man'),\n",
    "    get_similarity('intj', 'woman'),\n",
    "    get_similarity('intj', 'man', model=model),\n",
    "    get_similarity('intj', 'woman', model=model),\n",
    ")\n",
    "\n",
    "print(\n",
    "    get_similarity('entj', 'man'),\n",
    "    get_similarity('entj', 'woman'),\n",
    "    get_similarity('entj', 'man', model=model),\n",
    "    get_similarity('entj', 'woman', model=model),\n",
    ")\n"
   ]
  },
  {
   "cell_type": "code",
   "execution_count": null,
   "id": "8a1f8c21",
   "metadata": {},
   "outputs": [],
   "source": [
    "mom_emb = base_model.encode('intp', convert_to_tensor=True)\n",
    "dad_emb = base_model.encode('esfj', convert_to_tensor=True)\n",
    "util.cos_sim(mom_emb, dad_emb)"
   ]
  },
  {
   "cell_type": "markdown",
   "id": "2821f8ae",
   "metadata": {},
   "source": [
    "### loading not tuned model and doing the same thing"
   ]
  },
  {
   "cell_type": "code",
   "execution_count": null,
   "id": "7ffd31d8",
   "metadata": {},
   "outputs": [],
   "source": [
    "from sentence_transformers import SentenceTransformer, models\n",
    "\n",
    "base_model = SentenceTransformer('all-MiniLM-L6-v2')\n",
    "base_embs = base_model.encode(pis, convert_to_tensor=True)\n",
    "base_cosine_scores = util.cos_sim(base_embs, base_embs).detach().cpu().numpy()"
   ]
  },
  {
   "cell_type": "code",
   "execution_count": null,
   "id": "84054f5b",
   "metadata": {},
   "outputs": [],
   "source": [
    "import seaborn as sns\n",
    "import pandas as pd\n",
    "import matplotlib.pyplot as plt\n",
    "\n",
    "target_word = 'build the wall'\n",
    "df1 = pd.DataFrame(most_similar(target_word, pis, embeddings, model), columns=['identifier', 'similarity'])\n",
    "df1['model'] = 'fine-tuned-sentence-bert'\n",
    "df2 = pd.DataFrame(most_similar(target_word, pis, base_embs, base_model), columns=['identifier', 'similarity'])\n",
    "df2['model'] = 'original-sentence-bert'\n",
    "\n",
    "\n",
    "fig, (ax1, ax2) = plt.subplots(nrows=1, ncols=2, figsize=(15,6))\n",
    "\n",
    "ax1.scatter(x=df1['identifier'], y=df1['similarity'])\n",
    "ax1.tick_params(axis='x', rotation=-60)\n",
    "ax1.set_xlabel('phrase')\n",
    "ax1.set_ylabel('similarity')\n",
    "ax1.set_title('fine-tuned-sentence-bert')\n",
    "\n",
    "\n",
    "ax2.scatter(x=df2['identifier'], y=df2['similarity'])\n",
    "ax2.tick_params(axis='x', rotation=-60)\n",
    "ax2.set_xlabel('phrase')\n",
    "ax2.set_ylabel('similarity')\n",
    "ax2.set_title('original-sentence-bert')\n",
    "\n",
    "plt.show()"
   ]
  },
  {
   "cell_type": "markdown",
   "id": "2ad9278e",
   "metadata": {},
   "source": [
    "### analyzing personalities"
   ]
  },
  {
   "cell_type": "code",
   "execution_count": null,
   "id": "22507a62",
   "metadata": {},
   "outputs": [],
   "source": [
    "for personality in ['ESTJ', 'ENTJ', 'ESFJ', 'ENFJ', 'ISTJ', 'ISFJ', 'INTJ', 'INFJ', 'ESTP', 'ESFP', 'ENTP', 'ENFP', 'ISTP', 'ISFP', 'INTP', 'INFP']:\n",
    "    if personality in pis or personality.lower() in pis:\n",
    "        print(f\"{personality}: True\")\n",
    "    else:\n",
    "        print(f\"{personality}: False\")"
   ]
  },
  {
   "cell_type": "code",
   "execution_count": null,
   "id": "2c1b63b6",
   "metadata": {},
   "outputs": [],
   "source": [
    "personalities = ['ESTJ', 'ENTJ', 'ESFJ', 'ENFJ', 'ISTJ', 'ISFJ', 'INTJ', 'INFJ', 'ESTP', 'ESFP', 'ENTP', 'ENFP', 'ISTP', 'ISFP', 'INTP', 'INFP']\n",
    "personalities = [p.lower() for p in personalities]\n",
    "\n",
    "pers_emb = model.encode(personalities, convert_to_tensor=True)\n",
    "pers_emb_base = base_model.encode(personalities, convert_to_tensor=True)\n",
    "\n",
    "base_cosine_scores = util.cos_sim(pers_emb_base, pers_emb_base).detach().cpu().numpy()\n",
    "cosine_scores = util.cos_sim(pers_emb, pers_emb).detach().cpu().numpy()"
   ]
  },
  {
   "cell_type": "code",
   "execution_count": null,
   "id": "406d3001",
   "metadata": {},
   "outputs": [],
   "source": [
    "plt.figure(figsize=(10,10))\n",
    "ax = sns.heatmap(cosine_scores)\n",
    "ax.set_xticklabels(personalities, rotation=90)\n",
    "ax.set_yticklabels(personalities, rotation=0)\n",
    "\n",
    "# plt.xticks(ticks=personalities)\n",
    "# plt.yticks(ticks=personalities)"
   ]
  },
  {
   "cell_type": "code",
   "execution_count": null,
   "id": "db1ab792",
   "metadata": {},
   "outputs": [],
   "source": [
    "plt.figure(figsize=(10,10))\n",
    "\n",
    "ax = sns.heatmap(base_cosine_scores)\n",
    "ax.set_xticklabels(personalities, rotation=90)\n",
    "ax.set_yticklabels(personalities, rotation=0)"
   ]
  },
  {
   "cell_type": "markdown",
   "id": "7c00590e",
   "metadata": {},
   "source": [
    "### comparing in gensim vocab"
   ]
  },
  {
   "cell_type": "code",
   "execution_count": null,
   "id": "f40dfb8f",
   "metadata": {},
   "outputs": [],
   "source": [
    "import gensim.downloader as api\n",
    "\n",
    "w2v = api.load(\"glove-wiki-gigaword-50\")\n",
    "w2v.most_similar(\"glass\")"
   ]
  },
  {
   "cell_type": "code",
   "execution_count": null,
   "id": "636e7a2b",
   "metadata": {},
   "outputs": [],
   "source": [
    "vocab = list(w2v.key_to_index.keys())\n",
    "\n",
    "vocab_embs = model.encode(vocab, convert_to_tensor=True)\n"
   ]
  },
  {
   "cell_type": "code",
   "execution_count": null,
   "id": "036f73ec",
   "metadata": {},
   "outputs": [],
   "source": [
    "most_similar('vaccine', vocab, vocab_embs, model, k=10)"
   ]
  },
  {
   "cell_type": "code",
   "execution_count": null,
   "id": "8b650b74",
   "metadata": {},
   "outputs": [],
   "source": [
    "most_similar('blm', vocab, vocab_embs, model, k=50)"
   ]
  },
  {
   "cell_type": "markdown",
   "id": "e679f9e7",
   "metadata": {},
   "source": [
    "# Word2vec embedding"
   ]
  },
  {
   "cell_type": "code",
   "execution_count": null,
   "id": "d9bee5cd",
   "metadata": {},
   "outputs": [],
   "source": [
    "from gensim.models import Word2Vec\n",
    "from gensim.models.callbacks import CallbackAny2Vec\n",
    "\n",
    "import pickle\n",
    "\n",
    "dataset = 'twitter'\n",
    "freq = 500\n",
    "\n",
    "with open(f'./data/{dataset}_cleaned_train_bios_{freq}.pkl', 'rb') as f:\n",
    "    bios = pickle.load(f)\n",
    "    \n",
    "print(len(bios))"
   ]
  },
  {
   "cell_type": "markdown",
   "id": "adf61bbd",
   "metadata": {},
   "source": [
    "## number of distinct pis in test and train"
   ]
  },
  {
   "cell_type": "code",
   "execution_count": null,
   "id": "0ba43941",
   "metadata": {},
   "outputs": [],
   "source": [
    "with open(f'./data/{dataset}_test_bios.pkl', 'rb') as f:\n",
    "    tbios = pickle.load(f)\n",
    "    \n",
    "print(len(tbios))\n",
    "\n",
    "tpis = {}\n",
    "\n",
    "for tb in tbios:\n",
    "    for tpi in tb:\n",
    "        if tpi not in tpis:\n",
    "            tpis[tpi] = len(tpis)\n",
    "\n",
    "print(len(tpis))\n",
    "\n",
    "pis = {}\n",
    "\n",
    "for b in bios:\n",
    "    for pi in b:\n",
    "        if pi not in pis:\n",
    "            pis[pi] = len(pis)\n",
    "print(len(pis))"
   ]
  },
  {
   "cell_type": "code",
   "execution_count": null,
   "id": "4e9cfb73",
   "metadata": {},
   "outputs": [],
   "source": [
    "cnt = 0\n",
    "for pi in tpis:\n",
    "    if pi not in pis:\n",
    "        cnt += 1\n",
    "        \n",
    "print(f\"{cnt}/{len(tpis)} pis in test are not seen ever\")"
   ]
  },
  {
   "cell_type": "code",
   "execution_count": null,
   "id": "e71a315d",
   "metadata": {},
   "outputs": [],
   "source": [
    "def count_bios_with_pi(pi):\n",
    "    cnt = 0\n",
    "    for b in bios:\n",
    "        if pi in b:\n",
    "            print(b)\n",
    "            cnt += 1 \n",
    "    return cnt\n",
    "\n",
    "count_bios_with_pi('ryan fournier')"
   ]
  },
  {
   "cell_type": "code",
   "execution_count": null,
   "id": "235e5a60",
   "metadata": {},
   "outputs": [],
   "source": [
    "bios[:3]"
   ]
  },
  {
   "cell_type": "code",
   "execution_count": 25,
   "id": "1f51047e",
   "metadata": {
    "scrolled": true
   },
   "outputs": [
    {
     "name": "stdout",
     "output_type": "stream",
     "text": [
      "2753951\n",
      "Loss after epoch 0: 1418478.625\n",
      "Loss after epoch 1: 1329196.875\n",
      "Loss after epoch 2: 1245573.0\n",
      "Loss after epoch 3: 1169506.0\n",
      "Loss after epoch 4: 1075390.0\n",
      "Loss after epoch 5: 1029586.0\n",
      "Loss after epoch 6: 1113121.0\n",
      "Loss after epoch 7: 1014204.5\n",
      "Loss after epoch 8: 974551.0\n",
      "Loss after epoch 9: 946892.0\n",
      "Loss after epoch 10: 1026008.0\n",
      "Loss after epoch 11: 945799.0\n",
      "Loss after epoch 12: 845971.0\n",
      "Loss after epoch 13: 1060943.0\n",
      "Loss after epoch 14: 1057831.0\n",
      "Loss after epoch 15: 873495.0\n",
      "Loss after epoch 16: 996786.0\n",
      "Loss after epoch 17: 898814.0\n",
      "Loss after epoch 18: 868850.0\n",
      "Loss after epoch 19: 1017488.0\n",
      "Loss after epoch 20: 933150.0\n",
      "Loss after epoch 21: 938446.0\n",
      "Loss after epoch 22: 960850.0\n",
      "Loss after epoch 23: 875164.0\n",
      "Loss after epoch 24: 958390.0\n",
      "Loss after epoch 25: 925448.0\n",
      "Loss after epoch 26: 922576.0\n",
      "Loss after epoch 27: 833524.0\n",
      "Loss after epoch 28: 925386.0\n",
      "Loss after epoch 29: 925046.0\n",
      "Loss after epoch 30: 904882.0\n",
      "Loss after epoch 31: 981362.0\n",
      "Loss after epoch 32: 899624.0\n",
      "Loss after epoch 33: 821956.0\n",
      "Loss after epoch 34: 689704.0\n",
      "Loss after epoch 35: 721472.0\n",
      "Loss after epoch 36: 736564.0\n",
      "Loss after epoch 37: 708948.0\n",
      "Loss after epoch 38: 718200.0\n",
      "Loss after epoch 39: 696820.0\n",
      "Loss after epoch 40: 790320.0\n",
      "Loss after epoch 41: 720756.0\n",
      "Loss after epoch 42: 739680.0\n",
      "Loss after epoch 43: 795292.0\n",
      "Loss after epoch 44: 731892.0\n",
      "Loss after epoch 57: 710852.0\n",
      "Loss after epoch 58: 683404.0\n",
      "Loss after epoch 59: 735748.0\n",
      "Loss after epoch 60: 757220.0\n",
      "Loss after epoch 61: 775996.0\n",
      "Loss after epoch 62: 708560.0\n",
      "Loss after epoch 63: 786732.0\n",
      "Loss after epoch 64: 755028.0\n",
      "Loss after epoch 65: 724552.0\n",
      "Loss after epoch 66: 704308.0\n",
      "Loss after epoch 67: 751576.0\n",
      "Loss after epoch 68: 727656.0\n",
      "Loss after epoch 69: 675024.0\n",
      "Loss after epoch 70: 752008.0\n",
      "Loss after epoch 71: 721584.0\n",
      "Loss after epoch 72: 718592.0\n",
      "Loss after epoch 73: 696776.0\n",
      "Loss after epoch 74: 726888.0\n",
      "Loss after epoch 75: 718864.0\n",
      "Loss after epoch 76: 671276.0\n",
      "Loss after epoch 77: 717132.0\n",
      "Loss after epoch 78: 671020.0\n",
      "Loss after epoch 79: 771672.0\n",
      "Loss after epoch 80: 163060.0\n",
      "Loss after epoch 81: 98240.0\n",
      "Loss after epoch 82: 104648.0\n",
      "Loss after epoch 83: 99040.0\n",
      "Loss after epoch 84: 92320.0\n",
      "Loss after epoch 85: 98928.0\n",
      "Loss after epoch 86: 102008.0\n",
      "Loss after epoch 87: 94880.0\n",
      "Loss after epoch 88: 94016.0\n",
      "Loss after epoch 89: 98624.0\n",
      "Loss after epoch 90: 101632.0\n",
      "Loss after epoch 91: 89176.0\n",
      "Loss after epoch 92: 91496.0\n",
      "Loss after epoch 93: 92384.0\n",
      "Loss after epoch 94: 88552.0\n",
      "Loss after epoch 95: 88792.0\n",
      "Loss after epoch 96: 92360.0\n",
      "Loss after epoch 97: 92824.0\n",
      "Loss after epoch 98: 89880.0\n",
      "Loss after epoch 99: 91024.0\n",
      "Loss after epoch 100: 101552.0\n",
      "Loss after epoch 101: 95344.0\n",
      "Loss after epoch 102: 96576.0\n",
      "Loss after epoch 103: 92904.0\n",
      "Loss after epoch 104: 89520.0\n",
      "Loss after epoch 105: 95768.0\n",
      "Loss after epoch 106: 91600.0\n",
      "Loss after epoch 107: 91912.0\n",
      "Loss after epoch 108: 93120.0\n",
      "Loss after epoch 109: 88856.0\n",
      "Loss after epoch 110: 90688.0\n",
      "Loss after epoch 111: 88904.0\n",
      "Loss after epoch 112: 89416.0\n",
      "Loss after epoch 113: 92144.0\n",
      "Loss after epoch 114: 87200.0\n",
      "Loss after epoch 115: 94472.0\n",
      "Loss after epoch 116: 90576.0\n",
      "Loss after epoch 117: 87048.0\n",
      "Loss after epoch 118: 85520.0\n",
      "Loss after epoch 119: 86144.0\n",
      "Loss after epoch 120: 92928.0\n",
      "Loss after epoch 121: 91008.0\n",
      "Loss after epoch 122: 81912.0\n",
      "Loss after epoch 123: 93568.0\n",
      "Loss after epoch 124: 87768.0\n",
      "Loss after epoch 125: 91480.0\n",
      "Loss after epoch 126: 78600.0\n",
      "Loss after epoch 127: 93800.0\n",
      "Loss after epoch 128: 78304.0\n",
      "Loss after epoch 129: 87528.0\n",
      "Loss after epoch 130: 91488.0\n",
      "Loss after epoch 131: 90256.0\n",
      "Loss after epoch 132: 78296.0\n",
      "Loss after epoch 133: 82560.0\n",
      "Loss after epoch 134: 82776.0\n",
      "Loss after epoch 135: 88496.0\n",
      "Loss after epoch 136: 84048.0\n",
      "Loss after epoch 137: 88456.0\n",
      "Loss after epoch 138: 83608.0\n",
      "Loss after epoch 139: 86008.0\n",
      "Loss after epoch 140: 86312.0\n",
      "Loss after epoch 141: 83408.0\n",
      "Loss after epoch 142: 82344.0\n",
      "Loss after epoch 143: 82600.0\n",
      "Loss after epoch 144: 83800.0\n",
      "Loss after epoch 145: 81840.0\n",
      "Loss after epoch 146: 74120.0\n",
      "Loss after epoch 147: 79832.0\n",
      "Loss after epoch 148: 82920.0\n",
      "Loss after epoch 149: 83008.0\n",
      "Loss after epoch 150: 81064.0\n",
      "Loss after epoch 151: 80864.0\n",
      "Loss after epoch 152: 77072.0\n",
      "Loss after epoch 153: 80784.0\n",
      "Loss after epoch 154: 78624.0\n",
      "Loss after epoch 155: 80856.0\n",
      "Loss after epoch 156: 81384.0\n",
      "Loss after epoch 157: 82104.0\n",
      "Loss after epoch 158: 78768.0\n",
      "Loss after epoch 159: 84736.0\n",
      "Loss after epoch 160: 81808.0\n",
      "Loss after epoch 161: 83352.0\n",
      "Loss after epoch 162: 77568.0\n",
      "Loss after epoch 163: 77248.0\n",
      "Loss after epoch 164: 82720.0\n",
      "Loss after epoch 165: 83136.0\n",
      "Loss after epoch 166: 78824.0\n",
      "Loss after epoch 167: 80120.0\n",
      "Loss after epoch 168: 79944.0\n",
      "Loss after epoch 169: 77016.0\n",
      "Loss after epoch 170: 78392.0\n",
      "Loss after epoch 171: 74568.0\n",
      "Loss after epoch 172: 80184.0\n",
      "Loss after epoch 173: 80880.0\n",
      "Loss after epoch 174: 75800.0\n",
      "Loss after epoch 175: 74440.0\n",
      "Loss after epoch 176: 76056.0\n",
      "Loss after epoch 177: 73800.0\n",
      "Loss after epoch 178: 73968.0\n",
      "Loss after epoch 179: 81208.0\n",
      "Loss after epoch 180: 75392.0\n",
      "Loss after epoch 181: 75384.0\n",
      "Loss after epoch 182: 77360.0\n",
      "Loss after epoch 183: 77776.0\n",
      "Loss after epoch 184: 68000.0\n",
      "Loss after epoch 185: 74592.0\n",
      "Loss after epoch 186: 76016.0\n",
      "Loss after epoch 187: 75040.0\n",
      "Loss after epoch 188: 68696.0\n",
      "Loss after epoch 189: 75776.0\n",
      "Loss after epoch 190: 68912.0\n",
      "Loss after epoch 191: 73824.0\n",
      "Loss after epoch 192: 75488.0\n",
      "Loss after epoch 193: 75488.0\n",
      "Loss after epoch 194: 71352.0\n",
      "Loss after epoch 195: 75664.0\n",
      "Loss after epoch 196: 70328.0\n",
      "Loss after epoch 197: 73696.0\n",
      "Loss after epoch 198: 71192.0\n",
      "Loss after epoch 199: 69560.0\n",
      "Loss after epoch 200: 72464.0\n",
      "Loss after epoch 201: 67160.0\n",
      "Loss after epoch 202: 72648.0\n",
      "Loss after epoch 203: 73680.0\n",
      "Loss after epoch 204: 70440.0\n",
      "Loss after epoch 205: 68208.0\n",
      "Loss after epoch 206: 73200.0\n",
      "Loss after epoch 207: 68424.0\n",
      "Loss after epoch 208: 59240.0\n",
      "Loss after epoch 209: 62376.0\n",
      "Loss after epoch 210: 69032.0\n",
      "Loss after epoch 211: 64272.0\n",
      "Loss after epoch 212: 74984.0\n",
      "Loss after epoch 213: 69008.0\n",
      "Loss after epoch 214: 67184.0\n",
      "Loss after epoch 215: 70232.0\n",
      "Loss after epoch 216: 64384.0\n",
      "Loss after epoch 217: 61688.0\n",
      "Loss after epoch 218: 63352.0\n",
      "Loss after epoch 219: 65336.0\n",
      "Loss after epoch 220: 63344.0\n",
      "Loss after epoch 221: 69784.0\n",
      "Loss after epoch 222: 66512.0\n",
      "Loss after epoch 223: 68112.0\n",
      "Loss after epoch 224: 60280.0\n",
      "Loss after epoch 225: 64112.0\n",
      "Loss after epoch 226: 62048.0\n",
      "Loss after epoch 227: 60128.0\n",
      "Loss after epoch 228: 61296.0\n",
      "Loss after epoch 229: 62544.0\n",
      "Loss after epoch 230: 63912.0\n",
      "Loss after epoch 231: 64008.0\n",
      "Loss after epoch 232: 61216.0\n",
      "Loss after epoch 233: 66880.0\n",
      "Loss after epoch 234: 63136.0\n",
      "Loss after epoch 235: 58832.0\n",
      "Loss after epoch 236: 60128.0\n",
      "Loss after epoch 237: 61392.0\n",
      "Loss after epoch 238: 62512.0\n",
      "Loss after epoch 239: 56000.0\n",
      "Loss after epoch 240: 58688.0\n",
      "Loss after epoch 241: 60448.0\n",
      "Loss after epoch 242: 56464.0\n",
      "Loss after epoch 243: 60840.0\n",
      "Loss after epoch 244: 63976.0\n",
      "Loss after epoch 245: 58912.0\n",
      "Loss after epoch 246: 62208.0\n",
      "Loss after epoch 247: 61648.0\n",
      "Loss after epoch 248: 65872.0\n",
      "Loss after epoch 249: 58984.0\n",
      "Loss after epoch 250: 57952.0\n",
      "Loss after epoch 251: 58096.0\n",
      "Loss after epoch 252: 53120.0\n",
      "Loss after epoch 253: 53640.0\n",
      "Loss after epoch 254: 56704.0\n",
      "Loss after epoch 255: 54224.0\n",
      "Loss after epoch 256: 59088.0\n",
      "Loss after epoch 257: 57832.0\n",
      "Loss after epoch 258: 49712.0\n",
      "Loss after epoch 259: 58400.0\n",
      "Loss after epoch 260: 57144.0\n",
      "Loss after epoch 261: 58144.0\n",
      "Loss after epoch 262: 57736.0\n",
      "Loss after epoch 263: 55208.0\n",
      "Loss after epoch 264: 49200.0\n",
      "Loss after epoch 265: 53056.0\n",
      "Loss after epoch 266: 36136.0\n",
      "Loss after epoch 267: 49496.0\n",
      "Loss after epoch 268: 56128.0\n",
      "Loss after epoch 269: 56624.0\n",
      "Loss after epoch 270: 56280.0\n",
      "Loss after epoch 271: 49912.0\n",
      "Loss after epoch 272: 57792.0\n",
      "Loss after epoch 273: 53592.0\n",
      "Loss after epoch 274: 54792.0\n",
      "Loss after epoch 275: 53392.0\n",
      "Loss after epoch 276: 49208.0\n",
      "Loss after epoch 277: 46408.0\n",
      "Loss after epoch 278: 47400.0\n",
      "Loss after epoch 279: 59528.0\n",
      "Loss after epoch 280: 54064.0\n",
      "Loss after epoch 281: 54600.0\n",
      "Loss after epoch 282: 50080.0\n",
      "Loss after epoch 283: 48000.0\n",
      "Loss after epoch 284: 52592.0\n",
      "Loss after epoch 285: 49456.0\n",
      "Loss after epoch 286: 51304.0\n",
      "Loss after epoch 287: 48192.0\n",
      "Loss after epoch 288: 46696.0\n",
      "Loss after epoch 289: 51632.0\n",
      "Loss after epoch 290: 47152.0\n",
      "Loss after epoch 291: 49344.0\n",
      "Loss after epoch 292: 53952.0\n",
      "Loss after epoch 293: 51096.0\n",
      "Loss after epoch 294: 48080.0\n",
      "Loss after epoch 295: 47952.0\n",
      "Loss after epoch 296: 50912.0\n",
      "Loss after epoch 297: 46712.0\n",
      "Loss after epoch 298: 50392.0\n",
      "Loss after epoch 299: 46032.0\n"
     ]
    }
   ],
   "source": [
    "\n",
    "print(len(bios))\n",
    "\n",
    "class Callback(CallbackAny2Vec):\n",
    "    '''Callback to print loss after each epoch.'''\n",
    "\n",
    "    def __init__(self):\n",
    "        self.epoch = 0\n",
    "        self.loss_to_be_subed = 0\n",
    "\n",
    "    def on_epoch_end(self, model):\n",
    "        loss = model.get_latest_training_loss()\n",
    "        loss_now = loss - self.loss_to_be_subed\n",
    "        self.loss_to_be_subed = loss\n",
    "        print('Loss after epoch {}: {}'.format(self.epoch, loss_now))\n",
    "        self.epoch += 1\n",
    "\n",
    "monitor = Callback()\n",
    "\n",
    "w2v_negsampling_model = Word2Vec(bios, vector_size=768, window=8, min_count=1,\n",
    "                 negative=8, workers=30, sg=1, epochs=300, callbacks=[monitor],\n",
    "                 compute_loss=True)\n",
    "\n",
    "# w2v_cbow_model = Word2Vec(bios, vector_size=256, window=8, min_count=1,\n",
    "#                  negative=8, workers=30, sg=0,  cbow_mean=1, epochs=300, callbacks=[monitor],\n",
    "#                  compute_loss=True)\n",
    "\n",
    "model_path = f'./models/w2v_negsampling_{dataset}_{freq}.model'\n",
    "w2v_negsampling_model.save(model_path)\n",
    "\n",
    "# model_path = f'./models/w2v_cbow_{dataset}_{freq}.model'\n",
    "# w2v_cbow_model.save(model_path)"
   ]
  },
  {
   "cell_type": "code",
   "execution_count": null,
   "id": "ccc4c356",
   "metadata": {},
   "outputs": [],
   "source": [
    "model_path = f'./models/w2v_negsampling_{dataset}_{freq}.model'\n",
    "w2v_model = Word2Vec.load(model_path)"
   ]
  },
  {
   "cell_type": "code",
   "execution_count": null,
   "id": "65904ea8",
   "metadata": {},
   "outputs": [],
   "source": [
    "w2v_model.wv.most_similar('democrat', topn=15)"
   ]
  },
  {
   "cell_type": "markdown",
   "id": "73a84e0e",
   "metadata": {},
   "source": [
    "# hold-one-out prediction of PIs"
   ]
  },
  {
   "cell_type": "markdown",
   "id": "733b75ad",
   "metadata": {},
   "source": [
    "## load w2v model for vocabulary\n"
   ]
  },
  {
   "cell_type": "code",
   "execution_count": 1,
   "id": "324b001f",
   "metadata": {},
   "outputs": [
    {
     "name": "stdout",
     "output_type": "stream",
     "text": [
      "CPU times: user 897 ms, sys: 2.21 s, total: 3.11 s\n",
      "Wall time: 2.19 s\n"
     ]
    }
   ],
   "source": [
    "%%time\n",
    "\n",
    "from gensim.models import Word2Vec\n",
    "\n",
    "model_path = f'./models/w2v_negsampling_twitter_100.model'\n",
    "w2v_twitter_negsamp_model = Word2Vec.load(model_path)\n",
    "\n",
    "# model_path = f'./models/w2v_cbow_twitter.model'\n",
    "# w2v_twitter_cbow_model = Word2Vec.load(model_path)\n",
    "\n",
    "# model_path = f'./models/w2v_negsampling_wiki.model'\n",
    "# w2v_wiki_negsamp_model = Word2Vec.load(model_path)\n",
    "\n",
    "model_path = f'./models/w2v_cbow_wiki_3.model'\n",
    "w2v_wiki_cbow_model = Word2Vec.load(model_path)\n",
    "\n"
   ]
  },
  {
   "cell_type": "markdown",
   "id": "43527519",
   "metadata": {},
   "source": [
    "## load and filter data"
   ]
  },
  {
   "cell_type": "code",
   "execution_count": 2,
   "id": "c3034ef2",
   "metadata": {},
   "outputs": [
    {
     "name": "stdout",
     "output_type": "stream",
     "text": [
      "CPU times: user 2.91 ms, sys: 1.43 ms, total: 4.35 ms\n",
      "Wall time: 28.6 ms\n"
     ]
    }
   ],
   "source": [
    "%%time\n",
    "\n",
    "from tqdm import tqdm_notebook as tqdm\n",
    "from collections import Counter\n",
    "import pickle\n",
    "from collections import OrderedDict\n",
    "import numpy as np\n",
    "\n",
    "\n",
    "def load_bios(dataset='twitter', mode='test'):\n",
    "    with open(f'data/{dataset}_{mode}_bios.pkl', 'rb') as f:\n",
    "        bios = pickle.load(f)\n",
    "    \n",
    "    #filter only bios with more than 1 PI\n",
    "    morethan2pi = [x for x in bios if len(x)>1]\n",
    "    return morethan2pi\n",
    "\n",
    "def build_vocab_list(bios):\n",
    "    all_pis = set()\n",
    "    for bio in bios:\n",
    "        all_pis.update(bio)\n",
    "\n",
    "    return list(all_pis)\n",
    "\n",
    "def filter_bios_with_vocab_restriction(bios, vocab):\n",
    "    if vocab is None:\n",
    "        return bios\n",
    "    \n",
    "    filtered_bios = []\n",
    "    for bio in bios:\n",
    "        cur_bio = []\n",
    "        for pi in bio:\n",
    "            if pi in vocab:\n",
    "                cur_bio.append(pi)\n",
    "        if len(cur_bio) > 1:\n",
    "            filtered_bios.append(cur_bio)\n",
    "    return filtered_bios\n",
    "\n",
    "def build_contextual_dataset(bios):\n",
    "    test_ds = []\n",
    "    test_ds_rand = []\n",
    "    \n",
    "    for bio in bios:\n",
    "        hold_out_idx = np.random.randint(0, len(bio))\n",
    "        remaining = [x for i, x in enumerate(bio) if i != hold_out_idx]\n",
    "        random_remaining = list(np.random.choice(remaining, 1))[0]\n",
    "        \n",
    "        remaining = ', '.join(remaining)\n",
    "        target = bio[hold_out_idx]\n",
    "\n",
    "        test_ds.append((remaining, target))\n",
    "        test_ds_rand.append((random_remaining, target))\n",
    "\n",
    "    return test_ds, test_ds_rand\n",
    "\n",
    "\n",
    "def build_w2v_dataset(bios):\n",
    "    w2v_test_ds = []\n",
    "    w2v_test_random_ds = []\n",
    "\n",
    "    for bio in bios:\n",
    "        hold_out_idx = np.random.randint(0, len(bio))\n",
    "        remaining = [x for i, x in enumerate(bio) if i != hold_out_idx]\n",
    "        random_remaining = list(np.random.choice(remaining, 1))\n",
    "        target = bio[hold_out_idx]\n",
    "\n",
    "        w2v_test_ds.append((remaining, target))\n",
    "        w2v_test_random_ds.append((random_remaining, target))\n",
    "    \n",
    "    return w2v_test_ds, w2v_test_random_ds\n",
    "\n",
    "\n",
    "def filter_with_freq(bios, freq=500):\n",
    "    cntr = Counter()\n",
    "    for bio in bios:\n",
    "        cntr.update(bio)\n",
    "        \n",
    "    filtered_bios = []\n",
    "    for bio in bios:\n",
    "        cur = []\n",
    "        for pi in bio:\n",
    "            if cntr[pi] >= freq:\n",
    "                cur.append(pi)\n",
    "        if len(cur) > 1:\n",
    "            filtered_bios.append(cur)\n",
    "    return filtered_bios\n",
    "            \n",
    "\n",
    "def create_test_dataset(dataset='twitter', restrict_vocab_to_training=None, w2v=False, filter_th=None):\n",
    "    print(f\"creating dataset for {dataset}:\")\n",
    "    \n",
    "    test_bios = load_bios(dataset)\n",
    "    print(f\"total test bios: {len(test_bios)}\")\n",
    "    \n",
    "    test_bios = filter_bios_with_vocab_restriction(test_bios, restrict_vocab_to_training)\n",
    "    print(f\"total test bios after restriction: {len(test_bios)}\")\n",
    "    \n",
    "    if filter_th is not None:\n",
    "        test_bios = filter_with_freq(test_bios, freq=filter_th)\n",
    "        print(f\"total test bios after freq filter: {len(test_bios)}\")\n",
    "    \n",
    "    test_pis = build_vocab_list(test_bios)\n",
    "    print(f\"total PIs: {len(test_pis)}\")\n",
    "    \n",
    "    pi_dict = OrderedDict()\n",
    "    for p in test_pis:\n",
    "        pi_dict[p] = len(pi_dict)\n",
    "    \n",
    "    if w2v:\n",
    "        test_ds, test_ds_rand = build_w2v_dataset(test_bios)\n",
    "        return test_ds, test_ds_rand, pi_dict\n",
    "    else:\n",
    "        test_ds, test_ds_rand = build_contextual_dataset(test_bios)\n",
    "        return test_ds, test_ds_rand, pi_dict\n",
    "        \n",
    "    \n",
    "def build_restricted_target_dataset(bios, vocab, generalization):\n",
    "    test_ds = []\n",
    "    \n",
    "    for bio in bios:\n",
    "        for idx, pi in enumerate(bio):\n",
    "            if pi in vocab:\n",
    "                remaining = [x for x in bio if x != pi]\n",
    "                \n",
    "                # we want the remainig not to be available in vocab to test generalization\n",
    "                if generalization:\n",
    "                    gen = True\n",
    "                    for rem in remaining:\n",
    "                        if rem in vocab:\n",
    "                            gen = False\n",
    "                    \n",
    "                    if not gen:\n",
    "                        continue\n",
    "                \n",
    "                remaining_ctxt = ', '.join(remaining)\n",
    "                if len(remaining) == 0:\n",
    "                    continue\n",
    "                test_ds.append((remaining, remaining_ctxt, pi))\n",
    "            \n",
    "    return test_ds\n",
    "\n",
    "\n",
    "def create_restricted_target_test_dataset(dataset, vocab, generalization=False):\n",
    "    print(f\"creating dataset for {dataset}:\")\n",
    "    \n",
    "    test_bios = load_bios(dataset)\n",
    "    print(f\"total test bios: {len(test_bios)}\")\n",
    "    \n",
    "    filtered_test_bios = []\n",
    "    for bio in test_bios:\n",
    "        for pi in bio:\n",
    "            if pi in vocab:\n",
    "                filtered_test_bios.append(bio)\n",
    "                break\n",
    "                \n",
    "    print(f\"total test bios after restriction: {len(filtered_test_bios)}\")\n",
    "    \n",
    "    test_ds = build_restricted_target_dataset(filtered_test_bios, vocab, generalization)\n",
    "    print(f\"total test dataset entires: \", len(test_ds))\n",
    "    print(f\"vocab size:\", len(vocab))\n",
    "    return test_ds, vocab\n",
    "    \n",
    "    \n",
    "    "
   ]
  },
  {
   "cell_type": "code",
   "execution_count": null,
   "id": "0e97eb23",
   "metadata": {},
   "outputs": [],
   "source": [
    "w2v_twitter_negsamp_model.wv.key_to_index\n",
    "\n"
   ]
  },
  {
   "cell_type": "code",
   "execution_count": 3,
   "id": "d19e2563",
   "metadata": {},
   "outputs": [
    {
     "name": "stdout",
     "output_type": "stream",
     "text": [
      "creating dataset for twitter:\n",
      "total test bios: 1546001\n",
      "total test bios after restriction: 1279200\n",
      "total test dataset entires:  3439676\n",
      "vocab size: 22516\n"
     ]
    }
   ],
   "source": [
    "test_ds_twitter_target_restricted, twitter_target_restricted_pis = create_restricted_target_test_dataset(\n",
    "    dataset='twitter',\n",
    "    vocab=w2v_twitter_negsamp_model.wv.key_to_index,\n",
    "    generalization=False\n",
    ")\n",
    "\n",
    "\n",
    "# sampling test sets for faster results\n",
    "sample_indices = np.random.randint(0, len(test_ds_twitter_target_restricted), 100000)\n",
    "test_ds_twitter_target_restricted = [test_ds_twitter_target_restricted[i] for i in sample_indices]\n",
    "\n",
    "\n",
    "\n",
    "# test_ds_wiki_target_restricted, wiki_target_restricted_pis = create_restricted_target_test_dataset(\n",
    "#     dataset='wiki',\n",
    "#     vocab=w2v_wiki_cbow_model.wv.key_to_index,\n",
    "# )\n"
   ]
  },
  {
   "cell_type": "code",
   "execution_count": null,
   "id": "5a9cd700",
   "metadata": {},
   "outputs": [],
   "source": [
    "test_ds_twitter_target_restricted[:5]\n",
    "\n"
   ]
  },
  {
   "cell_type": "code",
   "execution_count": 6,
   "id": "5017a753",
   "metadata": {},
   "outputs": [
    {
     "data": {
      "text/plain": [
       "False"
      ]
     },
     "execution_count": 6,
     "metadata": {},
     "output_type": "execute_result"
    }
   ],
   "source": [
    "\n",
    "'diy projects' in w2v_twitter_negsamp_model.wv.key_to_index\n",
    "\n"
   ]
  },
  {
   "cell_type": "markdown",
   "id": "2697ee64",
   "metadata": {},
   "source": [
    "## helper function for batching"
   ]
  },
  {
   "cell_type": "code",
   "execution_count": 4,
   "id": "9785fa1e",
   "metadata": {},
   "outputs": [],
   "source": [
    "from tqdm import tqdm\n",
    "import torch \n",
    "\n",
    "def get_results_batched(model, tokenizer, str_l, bs=256, average_k_layers=1):\n",
    "    i = 0\n",
    "    result = []\n",
    "    pbar = tqdm(total=len(str_l))\n",
    "    while i < len(str_l):\n",
    "        batch = list(str_l[i:i+bs])\n",
    "        with torch.no_grad():\n",
    "            tokens = tokenizer(batch, return_tensors='pt', padding=True, truncation=True).to(device)\n",
    "            res_full = model(**tokens, output_hidden_states=True).hidden_states\n",
    "            layers = []\n",
    "\n",
    "            for k in range(-average_k_layers,0):\n",
    "                pooled_val = res_full[k].detach().cpu()\n",
    "                # taking cls token embeddings\n",
    "                layers.append(pooled_val[:,0,:])\n",
    "\n",
    "            stacked_layers = torch.stack(layers, dim=1)\n",
    "            #print(stacked_layers.shape)\n",
    "\n",
    "            average_embs = torch.mean(stacked_layers, dim=1)\n",
    "            #print(average_embs.shape)\n",
    "\n",
    "            result.append(average_embs)\n",
    "            i = i + bs\n",
    "            pbar.update(bs)\n",
    "    return torch.concat(result, dim=0)\n",
    "\n",
    "\n",
    "def get_sbertbased_results_batched(model, str_l, bs=256):\n",
    "    i = 0\n",
    "    result = []\n",
    "    pbar = tqdm(total=len(str_l))\n",
    "    while i < len(str_l):\n",
    "        batch = list(str_l[i:i+bs])\n",
    "        with torch.no_grad():\n",
    "            embeddings = model.encode(batch, convert_to_tensor=True)\n",
    "            result.append(embeddings.detach().cpu())\n",
    "            \n",
    "            i = i + bs\n",
    "            pbar.update(bs)\n",
    "    return torch.concat(result, dim=0)\n"
   ]
  },
  {
   "cell_type": "markdown",
   "id": "0df6379b",
   "metadata": {},
   "source": [
    "## word2vec"
   ]
  },
  {
   "cell_type": "markdown",
   "id": "fd87ee3f",
   "metadata": {
    "heading_collapsed": true
   },
   "source": [
    "### full dataset"
   ]
  },
  {
   "cell_type": "code",
   "execution_count": null,
   "id": "133ac741",
   "metadata": {
    "hidden": true
   },
   "outputs": [],
   "source": [
    "w2v_test_ds_twitter, _, twitter_pi_dict = create_test_dataset(\n",
    "    dataset='twitter',\n",
    "    w2v=True\n",
    ")\n",
    "\n",
    "w2v_test_ds_wiki, _, wiki_pi_dict = create_test_dataset(\n",
    "    dataset='wiki',\n",
    "    w2v=True\n",
    ")\n",
    "\n",
    "print(len(w2v_test_ds_twitter), len(twitter_pi_dict))\n",
    "print(len(w2v_test_ds_wiki), len(wiki_pi_dict))"
   ]
  },
  {
   "cell_type": "markdown",
   "id": "1e493b95",
   "metadata": {},
   "source": [
    "### dataset with restriction"
   ]
  },
  {
   "cell_type": "code",
   "execution_count": 5,
   "id": "6c7e772c",
   "metadata": {},
   "outputs": [],
   "source": [
    "\n",
    "\n",
    "# dataset for fixed target\n",
    "fixed_target_twitter_w2v_ds = [(x[0], x[2]) for x in test_ds_twitter_target_restricted]\n",
    "# fixed_target_wiki_w2v_ds = [(x[0], x[2]) for x in test_ds_wiki_target_restricted]\n"
   ]
  },
  {
   "cell_type": "markdown",
   "id": "3998362b",
   "metadata": {},
   "source": [
    "### measure metrics"
   ]
  },
  {
   "cell_type": "code",
   "execution_count": 6,
   "id": "6827008b",
   "metadata": {},
   "outputs": [
    {
     "name": "stderr",
     "output_type": "stream",
     "text": [
      "/projects/academic/kjoseph/navid/anaconda3/envs/py38/lib/python3.8/site-packages/huggingface_hub/snapshot_download.py:6: FutureWarning: snapshot_download.py has been made private and will no longer be available from version 0.11. Please use `from huggingface_hub import snapshot_download` to import the only public function in this module. Other members of the file may be changed without a deprecation notice.\n",
      "  warnings.warn(\n"
     ]
    },
    {
     "name": "stdout",
     "output_type": "stream",
     "text": [
      "CPU times: user 329 ms, sys: 84.8 ms, total: 414 ms\n",
      "Wall time: 2.97 s\n"
     ]
    }
   ],
   "source": [
    "%%time\n",
    "import torch\n",
    "from sentence_transformers import SentenceTransformer, models, util\n",
    "from tqdm import tqdm\n",
    "from torch.nn.functional import log_softmax\n",
    "\n",
    "def normalize(word_vectors):\n",
    "    norms = torch.norm(word_vectors, dim=1, keepdim=True)\n",
    "    res = word_vectors / (norms + 1e-6)\n",
    "    return res\n",
    "\n",
    "\n",
    "def calculate_w2v_based_metrics(w2v_model, dataset, pi_dict, device='cpu', cosine_bs=512, return_ranks=False):\n",
    "    pi_list = list(pi_dict.keys())\n",
    "    X, ys = zip(*dataset)\n",
    "    \n",
    "    emb_x = torch.tensor([w2v_model.wv.get_mean_vector(x) for x in X], device=device)\n",
    "    emb_all = torch.tensor([w2v_model.wv.get_vector(x) for x in pi_list], device=device)\n",
    "    \n",
    "    emb_x = normalize(emb_x)\n",
    "    emb_all = normalize(emb_all)\n",
    "    \n",
    "    print(\"calculating ranks...\")\n",
    "    \n",
    "    i = 0\n",
    "    pbar = tqdm(total=emb_x.shape[0])\n",
    "\n",
    "    target_ranks = []\n",
    "    softmax_scores = []\n",
    "    \n",
    "    while i < emb_x.shape[0]:\n",
    "        batch = emb_x[i:i+cosine_bs]\n",
    "        batch_y = ys[i:i+cosine_bs]\n",
    "        batch_cosine_scores = util.cos_sim(batch.to(device), emb_all.to(device))\n",
    "        batch_softmax = log_softmax(batch_cosine_scores, dim=1)\n",
    "#         print(torch.sum(batch_softmax, dim=1), torch.sum(batch_softmax, dim=1).shape)\n",
    "        ranks = torch.argsort(torch.argsort(batch_cosine_scores, dim=1, descending=True), dim=1)\n",
    "        target_idxs = torch.tensor([pi_dict[y] for y in batch_y], dtype=torch.int64, device=device)\n",
    "        \n",
    "        batch_target_ranks = torch.gather(ranks, 1, target_idxs.unsqueeze(1).reshape(-1,1)).type(torch.FloatTensor)\n",
    "        batch_target_scores = torch.gather(batch_softmax, 1, target_idxs.unsqueeze(1).reshape(-1,1)).type(torch.FloatTensor)\n",
    "        \n",
    "        target_ranks.append(batch_target_ranks)\n",
    "        softmax_scores.append(batch_target_scores)\n",
    "        \n",
    "        i += cosine_bs\n",
    "        pbar.update(cosine_bs)\n",
    "\n",
    "\n",
    "    target_ranks = torch.concat(target_ranks)\n",
    "    softmax_scores = torch.concat(softmax_scores)\n",
    "    \n",
    "#     print(softmax_scores)\n",
    "\n",
    "    avg_score = torch.mean(softmax_scores).item()\n",
    "    avg_rank = torch.mean(target_ranks).item()\n",
    "#     \n",
    "    top100_acc = len([r for r in target_ranks.reshape(1,-1).squeeze().tolist() if r < len(pi_list)//100])/emb_x.shape[0]\n",
    "    \n",
    "    print(avg_rank, top100_acc, avg_score)\n",
    "    \n",
    "    if return_ranks:\n",
    "        return avg_rank, top100_acc, avg_score, target_ranks.tolist()\n",
    "\n",
    "    return avg_rank, top100_acc, avg_score\n",
    "    \n",
    "    "
   ]
  },
  {
   "cell_type": "markdown",
   "id": "3e1955f5",
   "metadata": {
    "heading_collapsed": true
   },
   "source": [
    "### compare different w2v models"
   ]
  },
  {
   "cell_type": "code",
   "execution_count": null,
   "id": "4cc58ed9",
   "metadata": {
    "hidden": true
   },
   "outputs": [],
   "source": [
    "%%time\n",
    "\n",
    "\n",
    "# twitterrand_w2v_cbow_avgrank, twitterrand_w2v_cbow_top100acc = calculate_w2v_based_metrics(\n",
    "#     w2v_model=w2v_twitter_cbow_model,\n",
    "#     dataset=w2v_test_ds_twitter_rand,\n",
    "#     pi_dict=twitter_pi_dict,\n",
    "# )\n",
    "\n",
    "# twitterrand_w2v_negsample_avgrank, twitterrand_w2v_negsample_top100acc = calculate_w2v_based_metrics(\n",
    "#     w2v_model=w2v_twitter_negsamp_model,\n",
    "#     dataset=w2v_test_ds_twitter_rand,\n",
    "#     pi_dict=twitter_pi_dict,\n",
    "# )\n",
    "\n",
    "# wikirand_w2v_cbow_avgrank, wikirand_w2v_cbow_top100acc = calculate_w2v_based_metrics(\n",
    "#     w2v_model=w2v_wiki_cbow_model,\n",
    "#     dataset=w2v_test_ds_wiki_rand,\n",
    "#     pi_dict=wiki_pi_dict,\n",
    "# )\n",
    "\n",
    "# wikirand_w2v_negsample_avgrank, wikirand_w2v_negsample_top100acc = calculate_w2v_based_metrics(\n",
    "#     w2v_model=w2v_wiki_negsamp_model,\n",
    "#     dataset=w2v_test_ds_wiki_rand,\n",
    "#     pi_dict=wiki_pi_dict,\n",
    "# )\n",
    "\n",
    "# twitter_w2v_cbow_avgrank, twitter_w2v_cbow_top100acc = calculate_w2v_based_metrics(\n",
    "#     w2v_model=w2v_twitter_cbow_model,\n",
    "#     dataset=w2v_test_ds_twitter,\n",
    "#     pi_dict=twitter_pi_dict,\n",
    "# )\n",
    "\n",
    "twitter_w2v_negsample_avgrank, twitter_w2v_negsample_top100acc = calculate_w2v_based_metrics(\n",
    "    w2v_model=w2v_twitter_negsamp_model,\n",
    "    dataset=w2v_test_ds_twitter,\n",
    "    pi_dict=twitter_pi_dict,\n",
    ")\n",
    "\n",
    "wiki_w2v_cbow_avgrank, wiki_w2v_cbow_top100acc = calculate_w2v_based_metrics(\n",
    "    w2v_model=w2v_wiki_cbow_model,\n",
    "    dataset=w2v_test_ds_wiki,\n",
    "    pi_dict=wiki_pi_dict,\n",
    ")\n",
    "\n",
    "# wiki_w2v_negsample_avgrank, wiki_w2v_negsample_top100acc = calculate_w2v_based_metrics(\n",
    "#     w2v_model=w2v_wiki_negsamp_model,\n",
    "#     dataset=w2v_test_ds_wiki,\n",
    "#     pi_dict=wiki_pi_dict,\n",
    "# )\n",
    "\n"
   ]
  },
  {
   "cell_type": "markdown",
   "id": "bcd2e20c",
   "metadata": {},
   "source": [
    "### run fixed target experiment"
   ]
  },
  {
   "cell_type": "code",
   "execution_count": 7,
   "id": "e4ff4470",
   "metadata": {},
   "outputs": [
    {
     "name": "stderr",
     "output_type": "stream",
     "text": [
      "<timed exec>:16: UserWarning: Creating a tensor from a list of numpy.ndarrays is extremely slow. Please consider converting the list to a single numpy.ndarray with numpy.array() before converting to a tensor. (Triggered internally at  /opt/conda/conda-bld/pytorch_1634272068694/work/torch/csrc/utils/tensor_new.cpp:201.)\n"
     ]
    },
    {
     "name": "stdout",
     "output_type": "stream",
     "text": [
      "calculating ranks...\n"
     ]
    },
    {
     "name": "stderr",
     "output_type": "stream",
     "text": [
      "100%|██████████| 100000/100000 [05:49<00:00, 286.25it/s]"
     ]
    },
    {
     "name": "stdout",
     "output_type": "stream",
     "text": [
      "4173.19921875 0.43113 -9.892007827758789\n"
     ]
    },
    {
     "name": "stderr",
     "output_type": "stream",
     "text": [
      "\n"
     ]
    }
   ],
   "source": [
    "twitter_w2v_negsample_avgrank, twitter_w2v_negsample_top100acc, twitter_w2v_negsample_avgscore, twitter_w2v_negsample_ranks = calculate_w2v_based_metrics(\n",
    "    w2v_model=w2v_twitter_negsamp_model,\n",
    "    dataset=fixed_target_twitter_w2v_ds,\n",
    "    pi_dict=twitter_target_restricted_pis,\n",
    "    cosine_bs=2000,\n",
    "    return_ranks=True\n",
    ")\n",
    "\n",
    "# wiki_w2v_cbow_avgrank, wiki_w2v_cbow_top100acc, wiki_w2v_cbow_avgscore, wiki_w2v_cbow_ranks = calculate_w2v_based_metrics(\n",
    "#     w2v_model=w2v_wiki_cbow_model,\n",
    "#     dataset=fixed_target_wiki_w2v_ds,\n",
    "#     pi_dict=wiki_target_restricted_pis,\n",
    "#     cosine_bs=2000,\n",
    "#     return_ranks=True\n",
    "# )"
   ]
  },
  {
   "cell_type": "markdown",
   "id": "898bf3e1",
   "metadata": {
    "heading_collapsed": true
   },
   "source": [
    "### visualize results"
   ]
  },
  {
   "cell_type": "code",
   "execution_count": null,
   "id": "b6358d64",
   "metadata": {
    "hidden": true
   },
   "outputs": [],
   "source": [
    "import seaborn as sns\n",
    "sns.set_theme()\n",
    "\n",
    "import matplotlib.pyplot as plt\n",
    "import pandas as pd\n",
    "\n",
    "df = pd.DataFrame({\n",
    "    'model': ['w2v_cbow', 'w2v_negsample', 'w2v_cbow', 'w2v_negsample',\n",
    "              'w2v_cbow', 'w2v_negsample', 'w2v_cbow', 'w2v_negsample'],\n",
    "    'dataset': ['twitter', 'wiki', 'wiki', 'twitter', 'twitter_rand', 'wiki_rand', 'wiki_rand', 'twitter_rand',],\n",
    "    'avg_rank': [twitter_w2v_cbow_avgrank, wiki_w2v_negsample_avgrank, wiki_w2v_cbow_avgrank,\n",
    "                 twitter_w2v_negsample_avgrank, twitterrand_w2v_cbow_avgrank, wikirand_w2v_negsample_avgrank, wikirand_w2v_cbow_avgrank,\n",
    "                 twitterrand_w2v_negsample_avgrank],\n",
    "    'top100_acc': [twitter_w2v_cbow_top100acc, wiki_w2v_negsample_top100acc, wiki_w2v_cbow_top100acc,\n",
    "                   twitter_w2v_negsample_top100acc, twitterrand_w2v_cbow_top100acc, wikirand_w2v_negsample_top100acc, wikirand_w2v_cbow_top100acc,\n",
    "                   twitterrand_w2v_negsample_top100acc],\n",
    "    \n",
    "})\n",
    "\n",
    "sns.barplot(data=df, x='model', y='top100_acc', hue='dataset')\n",
    "plt.show()\n",
    "\n",
    "sns.barplot(data=df, x='model', y='avg_rank', hue='dataset')\n",
    "plt.show()\n"
   ]
  },
  {
   "cell_type": "markdown",
   "id": "9f2c3e10",
   "metadata": {},
   "source": [
    "## Contextual LMs"
   ]
  },
  {
   "cell_type": "markdown",
   "id": "ea73d94c",
   "metadata": {},
   "source": [
    "### load datasets"
   ]
  },
  {
   "cell_type": "markdown",
   "id": "a1233075",
   "metadata": {
    "heading_collapsed": true
   },
   "source": [
    "#### restricted vocab datasets"
   ]
  },
  {
   "cell_type": "code",
   "execution_count": null,
   "id": "f0862bd0",
   "metadata": {
    "hidden": true
   },
   "outputs": [],
   "source": [
    "clm_test_ds_twitter, clm_test_ds_twitter_rand, twitter_pi_dict = create_test_dataset(\n",
    "    dataset='twitter',\n",
    "    restrict_vocab_to_training=w2v_twitter_negsamp_model.wv.key_to_index,\n",
    "    w2v=False\n",
    ")\n",
    "\n",
    "clm_test_ds_wiki, clm_test_ds_wiki_rand, wiki_pi_dict = create_test_dataset(\n",
    "    dataset='wiki',\n",
    "    restrict_vocab_to_training=w2v_wiki_negsamp_model.wv.key_to_index,\n",
    "    w2v=False\n",
    ")"
   ]
  },
  {
   "cell_type": "markdown",
   "id": "bf20f6db",
   "metadata": {
    "heading_collapsed": true
   },
   "source": [
    "#### full test dataset"
   ]
  },
  {
   "cell_type": "code",
   "execution_count": null,
   "id": "9b8ddeec",
   "metadata": {
    "hidden": true
   },
   "outputs": [],
   "source": [
    "clm_test_ds_full_twitter, _, twitter_pi_dict_full = create_test_dataset(\n",
    "    dataset='twitter',\n",
    "    restrict_vocab_to_training=None,\n",
    "    w2v=False,\n",
    "    filter_th=10\n",
    ")\n",
    "\n",
    "clm_test_ds_full_wiki, _, wiki_pi_dict_full = create_test_dataset(\n",
    "    dataset='wiki',\n",
    "    restrict_vocab_to_training=None,\n",
    "    w2v=False,\n",
    "    filter_th=None\n",
    ")"
   ]
  },
  {
   "cell_type": "markdown",
   "id": "3ec71e70",
   "metadata": {},
   "source": [
    "#### target restricted dataset"
   ]
  },
  {
   "cell_type": "code",
   "execution_count": 8,
   "id": "8018081d",
   "metadata": {},
   "outputs": [],
   "source": [
    "fixed_target_twitter_clm_ds = [(x[1], x[2]) for x in test_ds_twitter_target_restricted]\n",
    "# fixed_target_wiki_clm_ds = [(x[1], x[2]) for x in test_ds_wiki_target_restricted]\n"
   ]
  },
  {
   "cell_type": "markdown",
   "id": "2250f05f",
   "metadata": {},
   "source": [
    "### load different models"
   ]
  },
  {
   "cell_type": "markdown",
   "id": "d67138a2",
   "metadata": {},
   "source": [
    "#### load BERT"
   ]
  },
  {
   "cell_type": "code",
   "execution_count": 9,
   "id": "b52fb567",
   "metadata": {},
   "outputs": [
    {
     "name": "stderr",
     "output_type": "stream",
     "text": [
      "Some weights of the model checkpoint at bert-base-uncased were not used when initializing BertModel: ['cls.seq_relationship.weight', 'cls.predictions.transform.dense.weight', 'cls.predictions.transform.LayerNorm.weight', 'cls.predictions.transform.dense.bias', 'cls.predictions.transform.LayerNorm.bias', 'cls.seq_relationship.bias', 'cls.predictions.decoder.weight', 'cls.predictions.bias']\n",
      "- This IS expected if you are initializing BertModel from the checkpoint of a model trained on another task or with another architecture (e.g. initializing a BertForSequenceClassification model from a BertForPreTraining model).\n",
      "- This IS NOT expected if you are initializing BertModel from the checkpoint of a model that you expect to be exactly identical (initializing a BertForSequenceClassification model from a BertForSequenceClassification model).\n"
     ]
    },
    {
     "data": {
      "text/plain": [
       "BertModel(\n",
       "  (embeddings): BertEmbeddings(\n",
       "    (word_embeddings): Embedding(30522, 768, padding_idx=0)\n",
       "    (position_embeddings): Embedding(512, 768)\n",
       "    (token_type_embeddings): Embedding(2, 768)\n",
       "    (LayerNorm): LayerNorm((768,), eps=1e-12, elementwise_affine=True)\n",
       "    (dropout): Dropout(p=0.1, inplace=False)\n",
       "  )\n",
       "  (encoder): BertEncoder(\n",
       "    (layer): ModuleList(\n",
       "      (0): BertLayer(\n",
       "        (attention): BertAttention(\n",
       "          (self): BertSelfAttention(\n",
       "            (query): Linear(in_features=768, out_features=768, bias=True)\n",
       "            (key): Linear(in_features=768, out_features=768, bias=True)\n",
       "            (value): Linear(in_features=768, out_features=768, bias=True)\n",
       "            (dropout): Dropout(p=0.1, inplace=False)\n",
       "          )\n",
       "          (output): BertSelfOutput(\n",
       "            (dense): Linear(in_features=768, out_features=768, bias=True)\n",
       "            (LayerNorm): LayerNorm((768,), eps=1e-12, elementwise_affine=True)\n",
       "            (dropout): Dropout(p=0.1, inplace=False)\n",
       "          )\n",
       "        )\n",
       "        (intermediate): BertIntermediate(\n",
       "          (dense): Linear(in_features=768, out_features=3072, bias=True)\n",
       "          (intermediate_act_fn): GELUActivation()\n",
       "        )\n",
       "        (output): BertOutput(\n",
       "          (dense): Linear(in_features=3072, out_features=768, bias=True)\n",
       "          (LayerNorm): LayerNorm((768,), eps=1e-12, elementwise_affine=True)\n",
       "          (dropout): Dropout(p=0.1, inplace=False)\n",
       "        )\n",
       "      )\n",
       "      (1): BertLayer(\n",
       "        (attention): BertAttention(\n",
       "          (self): BertSelfAttention(\n",
       "            (query): Linear(in_features=768, out_features=768, bias=True)\n",
       "            (key): Linear(in_features=768, out_features=768, bias=True)\n",
       "            (value): Linear(in_features=768, out_features=768, bias=True)\n",
       "            (dropout): Dropout(p=0.1, inplace=False)\n",
       "          )\n",
       "          (output): BertSelfOutput(\n",
       "            (dense): Linear(in_features=768, out_features=768, bias=True)\n",
       "            (LayerNorm): LayerNorm((768,), eps=1e-12, elementwise_affine=True)\n",
       "            (dropout): Dropout(p=0.1, inplace=False)\n",
       "          )\n",
       "        )\n",
       "        (intermediate): BertIntermediate(\n",
       "          (dense): Linear(in_features=768, out_features=3072, bias=True)\n",
       "          (intermediate_act_fn): GELUActivation()\n",
       "        )\n",
       "        (output): BertOutput(\n",
       "          (dense): Linear(in_features=3072, out_features=768, bias=True)\n",
       "          (LayerNorm): LayerNorm((768,), eps=1e-12, elementwise_affine=True)\n",
       "          (dropout): Dropout(p=0.1, inplace=False)\n",
       "        )\n",
       "      )\n",
       "      (2): BertLayer(\n",
       "        (attention): BertAttention(\n",
       "          (self): BertSelfAttention(\n",
       "            (query): Linear(in_features=768, out_features=768, bias=True)\n",
       "            (key): Linear(in_features=768, out_features=768, bias=True)\n",
       "            (value): Linear(in_features=768, out_features=768, bias=True)\n",
       "            (dropout): Dropout(p=0.1, inplace=False)\n",
       "          )\n",
       "          (output): BertSelfOutput(\n",
       "            (dense): Linear(in_features=768, out_features=768, bias=True)\n",
       "            (LayerNorm): LayerNorm((768,), eps=1e-12, elementwise_affine=True)\n",
       "            (dropout): Dropout(p=0.1, inplace=False)\n",
       "          )\n",
       "        )\n",
       "        (intermediate): BertIntermediate(\n",
       "          (dense): Linear(in_features=768, out_features=3072, bias=True)\n",
       "          (intermediate_act_fn): GELUActivation()\n",
       "        )\n",
       "        (output): BertOutput(\n",
       "          (dense): Linear(in_features=3072, out_features=768, bias=True)\n",
       "          (LayerNorm): LayerNorm((768,), eps=1e-12, elementwise_affine=True)\n",
       "          (dropout): Dropout(p=0.1, inplace=False)\n",
       "        )\n",
       "      )\n",
       "      (3): BertLayer(\n",
       "        (attention): BertAttention(\n",
       "          (self): BertSelfAttention(\n",
       "            (query): Linear(in_features=768, out_features=768, bias=True)\n",
       "            (key): Linear(in_features=768, out_features=768, bias=True)\n",
       "            (value): Linear(in_features=768, out_features=768, bias=True)\n",
       "            (dropout): Dropout(p=0.1, inplace=False)\n",
       "          )\n",
       "          (output): BertSelfOutput(\n",
       "            (dense): Linear(in_features=768, out_features=768, bias=True)\n",
       "            (LayerNorm): LayerNorm((768,), eps=1e-12, elementwise_affine=True)\n",
       "            (dropout): Dropout(p=0.1, inplace=False)\n",
       "          )\n",
       "        )\n",
       "        (intermediate): BertIntermediate(\n",
       "          (dense): Linear(in_features=768, out_features=3072, bias=True)\n",
       "          (intermediate_act_fn): GELUActivation()\n",
       "        )\n",
       "        (output): BertOutput(\n",
       "          (dense): Linear(in_features=3072, out_features=768, bias=True)\n",
       "          (LayerNorm): LayerNorm((768,), eps=1e-12, elementwise_affine=True)\n",
       "          (dropout): Dropout(p=0.1, inplace=False)\n",
       "        )\n",
       "      )\n",
       "      (4): BertLayer(\n",
       "        (attention): BertAttention(\n",
       "          (self): BertSelfAttention(\n",
       "            (query): Linear(in_features=768, out_features=768, bias=True)\n",
       "            (key): Linear(in_features=768, out_features=768, bias=True)\n",
       "            (value): Linear(in_features=768, out_features=768, bias=True)\n",
       "            (dropout): Dropout(p=0.1, inplace=False)\n",
       "          )\n",
       "          (output): BertSelfOutput(\n",
       "            (dense): Linear(in_features=768, out_features=768, bias=True)\n",
       "            (LayerNorm): LayerNorm((768,), eps=1e-12, elementwise_affine=True)\n",
       "            (dropout): Dropout(p=0.1, inplace=False)\n",
       "          )\n",
       "        )\n",
       "        (intermediate): BertIntermediate(\n",
       "          (dense): Linear(in_features=768, out_features=3072, bias=True)\n",
       "          (intermediate_act_fn): GELUActivation()\n",
       "        )\n",
       "        (output): BertOutput(\n",
       "          (dense): Linear(in_features=3072, out_features=768, bias=True)\n",
       "          (LayerNorm): LayerNorm((768,), eps=1e-12, elementwise_affine=True)\n",
       "          (dropout): Dropout(p=0.1, inplace=False)\n",
       "        )\n",
       "      )\n",
       "      (5): BertLayer(\n",
       "        (attention): BertAttention(\n",
       "          (self): BertSelfAttention(\n",
       "            (query): Linear(in_features=768, out_features=768, bias=True)\n",
       "            (key): Linear(in_features=768, out_features=768, bias=True)\n",
       "            (value): Linear(in_features=768, out_features=768, bias=True)\n",
       "            (dropout): Dropout(p=0.1, inplace=False)\n",
       "          )\n",
       "          (output): BertSelfOutput(\n",
       "            (dense): Linear(in_features=768, out_features=768, bias=True)\n",
       "            (LayerNorm): LayerNorm((768,), eps=1e-12, elementwise_affine=True)\n",
       "            (dropout): Dropout(p=0.1, inplace=False)\n",
       "          )\n",
       "        )\n",
       "        (intermediate): BertIntermediate(\n",
       "          (dense): Linear(in_features=768, out_features=3072, bias=True)\n",
       "          (intermediate_act_fn): GELUActivation()\n",
       "        )\n",
       "        (output): BertOutput(\n",
       "          (dense): Linear(in_features=3072, out_features=768, bias=True)\n",
       "          (LayerNorm): LayerNorm((768,), eps=1e-12, elementwise_affine=True)\n",
       "          (dropout): Dropout(p=0.1, inplace=False)\n",
       "        )\n",
       "      )\n",
       "      (6): BertLayer(\n",
       "        (attention): BertAttention(\n",
       "          (self): BertSelfAttention(\n",
       "            (query): Linear(in_features=768, out_features=768, bias=True)\n",
       "            (key): Linear(in_features=768, out_features=768, bias=True)\n",
       "            (value): Linear(in_features=768, out_features=768, bias=True)\n",
       "            (dropout): Dropout(p=0.1, inplace=False)\n",
       "          )\n",
       "          (output): BertSelfOutput(\n",
       "            (dense): Linear(in_features=768, out_features=768, bias=True)\n",
       "            (LayerNorm): LayerNorm((768,), eps=1e-12, elementwise_affine=True)\n",
       "            (dropout): Dropout(p=0.1, inplace=False)\n",
       "          )\n",
       "        )\n",
       "        (intermediate): BertIntermediate(\n",
       "          (dense): Linear(in_features=768, out_features=3072, bias=True)\n",
       "          (intermediate_act_fn): GELUActivation()\n",
       "        )\n",
       "        (output): BertOutput(\n",
       "          (dense): Linear(in_features=3072, out_features=768, bias=True)\n",
       "          (LayerNorm): LayerNorm((768,), eps=1e-12, elementwise_affine=True)\n",
       "          (dropout): Dropout(p=0.1, inplace=False)\n",
       "        )\n",
       "      )\n",
       "      (7): BertLayer(\n",
       "        (attention): BertAttention(\n",
       "          (self): BertSelfAttention(\n",
       "            (query): Linear(in_features=768, out_features=768, bias=True)\n",
       "            (key): Linear(in_features=768, out_features=768, bias=True)\n",
       "            (value): Linear(in_features=768, out_features=768, bias=True)\n",
       "            (dropout): Dropout(p=0.1, inplace=False)\n",
       "          )\n",
       "          (output): BertSelfOutput(\n",
       "            (dense): Linear(in_features=768, out_features=768, bias=True)\n",
       "            (LayerNorm): LayerNorm((768,), eps=1e-12, elementwise_affine=True)\n",
       "            (dropout): Dropout(p=0.1, inplace=False)\n",
       "          )\n",
       "        )\n",
       "        (intermediate): BertIntermediate(\n",
       "          (dense): Linear(in_features=768, out_features=3072, bias=True)\n",
       "          (intermediate_act_fn): GELUActivation()\n",
       "        )\n",
       "        (output): BertOutput(\n",
       "          (dense): Linear(in_features=3072, out_features=768, bias=True)\n",
       "          (LayerNorm): LayerNorm((768,), eps=1e-12, elementwise_affine=True)\n",
       "          (dropout): Dropout(p=0.1, inplace=False)\n",
       "        )\n",
       "      )\n",
       "      (8): BertLayer(\n",
       "        (attention): BertAttention(\n",
       "          (self): BertSelfAttention(\n",
       "            (query): Linear(in_features=768, out_features=768, bias=True)\n",
       "            (key): Linear(in_features=768, out_features=768, bias=True)\n",
       "            (value): Linear(in_features=768, out_features=768, bias=True)\n",
       "            (dropout): Dropout(p=0.1, inplace=False)\n",
       "          )\n",
       "          (output): BertSelfOutput(\n",
       "            (dense): Linear(in_features=768, out_features=768, bias=True)\n",
       "            (LayerNorm): LayerNorm((768,), eps=1e-12, elementwise_affine=True)\n",
       "            (dropout): Dropout(p=0.1, inplace=False)\n",
       "          )\n",
       "        )\n",
       "        (intermediate): BertIntermediate(\n",
       "          (dense): Linear(in_features=768, out_features=3072, bias=True)\n",
       "          (intermediate_act_fn): GELUActivation()\n",
       "        )\n",
       "        (output): BertOutput(\n",
       "          (dense): Linear(in_features=3072, out_features=768, bias=True)\n",
       "          (LayerNorm): LayerNorm((768,), eps=1e-12, elementwise_affine=True)\n",
       "          (dropout): Dropout(p=0.1, inplace=False)\n",
       "        )\n",
       "      )\n",
       "      (9): BertLayer(\n",
       "        (attention): BertAttention(\n",
       "          (self): BertSelfAttention(\n",
       "            (query): Linear(in_features=768, out_features=768, bias=True)\n",
       "            (key): Linear(in_features=768, out_features=768, bias=True)\n",
       "            (value): Linear(in_features=768, out_features=768, bias=True)\n",
       "            (dropout): Dropout(p=0.1, inplace=False)\n",
       "          )\n",
       "          (output): BertSelfOutput(\n",
       "            (dense): Linear(in_features=768, out_features=768, bias=True)\n",
       "            (LayerNorm): LayerNorm((768,), eps=1e-12, elementwise_affine=True)\n",
       "            (dropout): Dropout(p=0.1, inplace=False)\n",
       "          )\n",
       "        )\n",
       "        (intermediate): BertIntermediate(\n",
       "          (dense): Linear(in_features=768, out_features=3072, bias=True)\n",
       "          (intermediate_act_fn): GELUActivation()\n",
       "        )\n",
       "        (output): BertOutput(\n",
       "          (dense): Linear(in_features=3072, out_features=768, bias=True)\n",
       "          (LayerNorm): LayerNorm((768,), eps=1e-12, elementwise_affine=True)\n",
       "          (dropout): Dropout(p=0.1, inplace=False)\n",
       "        )\n",
       "      )\n",
       "      (10): BertLayer(\n",
       "        (attention): BertAttention(\n",
       "          (self): BertSelfAttention(\n",
       "            (query): Linear(in_features=768, out_features=768, bias=True)\n",
       "            (key): Linear(in_features=768, out_features=768, bias=True)\n",
       "            (value): Linear(in_features=768, out_features=768, bias=True)\n",
       "            (dropout): Dropout(p=0.1, inplace=False)\n",
       "          )\n",
       "          (output): BertSelfOutput(\n",
       "            (dense): Linear(in_features=768, out_features=768, bias=True)\n",
       "            (LayerNorm): LayerNorm((768,), eps=1e-12, elementwise_affine=True)\n",
       "            (dropout): Dropout(p=0.1, inplace=False)\n",
       "          )\n",
       "        )\n",
       "        (intermediate): BertIntermediate(\n",
       "          (dense): Linear(in_features=768, out_features=3072, bias=True)\n",
       "          (intermediate_act_fn): GELUActivation()\n",
       "        )\n",
       "        (output): BertOutput(\n",
       "          (dense): Linear(in_features=3072, out_features=768, bias=True)\n",
       "          (LayerNorm): LayerNorm((768,), eps=1e-12, elementwise_affine=True)\n",
       "          (dropout): Dropout(p=0.1, inplace=False)\n",
       "        )\n",
       "      )\n",
       "      (11): BertLayer(\n",
       "        (attention): BertAttention(\n",
       "          (self): BertSelfAttention(\n",
       "            (query): Linear(in_features=768, out_features=768, bias=True)\n",
       "            (key): Linear(in_features=768, out_features=768, bias=True)\n",
       "            (value): Linear(in_features=768, out_features=768, bias=True)\n",
       "            (dropout): Dropout(p=0.1, inplace=False)\n",
       "          )\n",
       "          (output): BertSelfOutput(\n",
       "            (dense): Linear(in_features=768, out_features=768, bias=True)\n",
       "            (LayerNorm): LayerNorm((768,), eps=1e-12, elementwise_affine=True)\n",
       "            (dropout): Dropout(p=0.1, inplace=False)\n",
       "          )\n",
       "        )\n",
       "        (intermediate): BertIntermediate(\n",
       "          (dense): Linear(in_features=768, out_features=3072, bias=True)\n",
       "          (intermediate_act_fn): GELUActivation()\n",
       "        )\n",
       "        (output): BertOutput(\n",
       "          (dense): Linear(in_features=3072, out_features=768, bias=True)\n",
       "          (LayerNorm): LayerNorm((768,), eps=1e-12, elementwise_affine=True)\n",
       "          (dropout): Dropout(p=0.1, inplace=False)\n",
       "        )\n",
       "      )\n",
       "    )\n",
       "  )\n",
       "  (pooler): BertPooler(\n",
       "    (dense): Linear(in_features=768, out_features=768, bias=True)\n",
       "    (activation): Tanh()\n",
       "  )\n",
       ")"
      ]
     },
     "execution_count": 9,
     "metadata": {},
     "output_type": "execute_result"
    }
   ],
   "source": [
    "from transformers import BertTokenizer, BertModel, BertConfig\n",
    "import torch\n",
    "\n",
    "device = 'cuda:0'\n",
    "\n",
    "config = BertConfig.from_pretrained(\"bert-base-uncased\", output_hidden_states=True)\n",
    "bert_tokenizer = BertTokenizer.from_pretrained(\"bert-base-uncased\")\n",
    "bert_model = BertModel.from_pretrained(\"bert-base-uncased\", config=config)\n",
    "bert_model = bert_model.to(device)\n",
    "bert_model.eval()\n",
    "\n",
    "# config = BertConfig.from_pretrained(\"bert-large-uncased\", output_hidden_states=True)\n",
    "# bertlarge_tokenizer = BertTokenizer.from_pretrained(\"bert-large-uncased\")\n",
    "# bertlarge_model = BertModel.from_pretrained(\"bert-large-uncased\", config=config)\n",
    "# bertlarge_model = bertlarge_model.to(device)\n",
    "# bertlarge_model.eval()"
   ]
  },
  {
   "cell_type": "markdown",
   "id": "2ff3ebae",
   "metadata": {},
   "source": [
    "#### load RoBERTa"
   ]
  },
  {
   "cell_type": "code",
   "execution_count": 10,
   "id": "8c1fe106",
   "metadata": {},
   "outputs": [
    {
     "name": "stderr",
     "output_type": "stream",
     "text": [
      "Some weights of the model checkpoint at roberta-base were not used when initializing RobertaModel: ['lm_head.layer_norm.bias', 'lm_head.decoder.weight', 'lm_head.dense.bias', 'lm_head.dense.weight', 'lm_head.bias', 'lm_head.layer_norm.weight']\n",
      "- This IS expected if you are initializing RobertaModel from the checkpoint of a model trained on another task or with another architecture (e.g. initializing a BertForSequenceClassification model from a BertForPreTraining model).\n",
      "- This IS NOT expected if you are initializing RobertaModel from the checkpoint of a model that you expect to be exactly identical (initializing a BertForSequenceClassification model from a BertForSequenceClassification model).\n"
     ]
    },
    {
     "name": "stdout",
     "output_type": "stream",
     "text": [
      "CPU times: user 2.29 s, sys: 314 ms, total: 2.6 s\n",
      "Wall time: 3.19 s\n"
     ]
    },
    {
     "data": {
      "text/plain": [
       "RobertaModel(\n",
       "  (embeddings): RobertaEmbeddings(\n",
       "    (word_embeddings): Embedding(50265, 768, padding_idx=1)\n",
       "    (position_embeddings): Embedding(514, 768, padding_idx=1)\n",
       "    (token_type_embeddings): Embedding(1, 768)\n",
       "    (LayerNorm): LayerNorm((768,), eps=1e-05, elementwise_affine=True)\n",
       "    (dropout): Dropout(p=0.1, inplace=False)\n",
       "  )\n",
       "  (encoder): RobertaEncoder(\n",
       "    (layer): ModuleList(\n",
       "      (0): RobertaLayer(\n",
       "        (attention): RobertaAttention(\n",
       "          (self): RobertaSelfAttention(\n",
       "            (query): Linear(in_features=768, out_features=768, bias=True)\n",
       "            (key): Linear(in_features=768, out_features=768, bias=True)\n",
       "            (value): Linear(in_features=768, out_features=768, bias=True)\n",
       "            (dropout): Dropout(p=0.1, inplace=False)\n",
       "          )\n",
       "          (output): RobertaSelfOutput(\n",
       "            (dense): Linear(in_features=768, out_features=768, bias=True)\n",
       "            (LayerNorm): LayerNorm((768,), eps=1e-05, elementwise_affine=True)\n",
       "            (dropout): Dropout(p=0.1, inplace=False)\n",
       "          )\n",
       "        )\n",
       "        (intermediate): RobertaIntermediate(\n",
       "          (dense): Linear(in_features=768, out_features=3072, bias=True)\n",
       "          (intermediate_act_fn): GELUActivation()\n",
       "        )\n",
       "        (output): RobertaOutput(\n",
       "          (dense): Linear(in_features=3072, out_features=768, bias=True)\n",
       "          (LayerNorm): LayerNorm((768,), eps=1e-05, elementwise_affine=True)\n",
       "          (dropout): Dropout(p=0.1, inplace=False)\n",
       "        )\n",
       "      )\n",
       "      (1): RobertaLayer(\n",
       "        (attention): RobertaAttention(\n",
       "          (self): RobertaSelfAttention(\n",
       "            (query): Linear(in_features=768, out_features=768, bias=True)\n",
       "            (key): Linear(in_features=768, out_features=768, bias=True)\n",
       "            (value): Linear(in_features=768, out_features=768, bias=True)\n",
       "            (dropout): Dropout(p=0.1, inplace=False)\n",
       "          )\n",
       "          (output): RobertaSelfOutput(\n",
       "            (dense): Linear(in_features=768, out_features=768, bias=True)\n",
       "            (LayerNorm): LayerNorm((768,), eps=1e-05, elementwise_affine=True)\n",
       "            (dropout): Dropout(p=0.1, inplace=False)\n",
       "          )\n",
       "        )\n",
       "        (intermediate): RobertaIntermediate(\n",
       "          (dense): Linear(in_features=768, out_features=3072, bias=True)\n",
       "          (intermediate_act_fn): GELUActivation()\n",
       "        )\n",
       "        (output): RobertaOutput(\n",
       "          (dense): Linear(in_features=3072, out_features=768, bias=True)\n",
       "          (LayerNorm): LayerNorm((768,), eps=1e-05, elementwise_affine=True)\n",
       "          (dropout): Dropout(p=0.1, inplace=False)\n",
       "        )\n",
       "      )\n",
       "      (2): RobertaLayer(\n",
       "        (attention): RobertaAttention(\n",
       "          (self): RobertaSelfAttention(\n",
       "            (query): Linear(in_features=768, out_features=768, bias=True)\n",
       "            (key): Linear(in_features=768, out_features=768, bias=True)\n",
       "            (value): Linear(in_features=768, out_features=768, bias=True)\n",
       "            (dropout): Dropout(p=0.1, inplace=False)\n",
       "          )\n",
       "          (output): RobertaSelfOutput(\n",
       "            (dense): Linear(in_features=768, out_features=768, bias=True)\n",
       "            (LayerNorm): LayerNorm((768,), eps=1e-05, elementwise_affine=True)\n",
       "            (dropout): Dropout(p=0.1, inplace=False)\n",
       "          )\n",
       "        )\n",
       "        (intermediate): RobertaIntermediate(\n",
       "          (dense): Linear(in_features=768, out_features=3072, bias=True)\n",
       "          (intermediate_act_fn): GELUActivation()\n",
       "        )\n",
       "        (output): RobertaOutput(\n",
       "          (dense): Linear(in_features=3072, out_features=768, bias=True)\n",
       "          (LayerNorm): LayerNorm((768,), eps=1e-05, elementwise_affine=True)\n",
       "          (dropout): Dropout(p=0.1, inplace=False)\n",
       "        )\n",
       "      )\n",
       "      (3): RobertaLayer(\n",
       "        (attention): RobertaAttention(\n",
       "          (self): RobertaSelfAttention(\n",
       "            (query): Linear(in_features=768, out_features=768, bias=True)\n",
       "            (key): Linear(in_features=768, out_features=768, bias=True)\n",
       "            (value): Linear(in_features=768, out_features=768, bias=True)\n",
       "            (dropout): Dropout(p=0.1, inplace=False)\n",
       "          )\n",
       "          (output): RobertaSelfOutput(\n",
       "            (dense): Linear(in_features=768, out_features=768, bias=True)\n",
       "            (LayerNorm): LayerNorm((768,), eps=1e-05, elementwise_affine=True)\n",
       "            (dropout): Dropout(p=0.1, inplace=False)\n",
       "          )\n",
       "        )\n",
       "        (intermediate): RobertaIntermediate(\n",
       "          (dense): Linear(in_features=768, out_features=3072, bias=True)\n",
       "          (intermediate_act_fn): GELUActivation()\n",
       "        )\n",
       "        (output): RobertaOutput(\n",
       "          (dense): Linear(in_features=3072, out_features=768, bias=True)\n",
       "          (LayerNorm): LayerNorm((768,), eps=1e-05, elementwise_affine=True)\n",
       "          (dropout): Dropout(p=0.1, inplace=False)\n",
       "        )\n",
       "      )\n",
       "      (4): RobertaLayer(\n",
       "        (attention): RobertaAttention(\n",
       "          (self): RobertaSelfAttention(\n",
       "            (query): Linear(in_features=768, out_features=768, bias=True)\n",
       "            (key): Linear(in_features=768, out_features=768, bias=True)\n",
       "            (value): Linear(in_features=768, out_features=768, bias=True)\n",
       "            (dropout): Dropout(p=0.1, inplace=False)\n",
       "          )\n",
       "          (output): RobertaSelfOutput(\n",
       "            (dense): Linear(in_features=768, out_features=768, bias=True)\n",
       "            (LayerNorm): LayerNorm((768,), eps=1e-05, elementwise_affine=True)\n",
       "            (dropout): Dropout(p=0.1, inplace=False)\n",
       "          )\n",
       "        )\n",
       "        (intermediate): RobertaIntermediate(\n",
       "          (dense): Linear(in_features=768, out_features=3072, bias=True)\n",
       "          (intermediate_act_fn): GELUActivation()\n",
       "        )\n",
       "        (output): RobertaOutput(\n",
       "          (dense): Linear(in_features=3072, out_features=768, bias=True)\n",
       "          (LayerNorm): LayerNorm((768,), eps=1e-05, elementwise_affine=True)\n",
       "          (dropout): Dropout(p=0.1, inplace=False)\n",
       "        )\n",
       "      )\n",
       "      (5): RobertaLayer(\n",
       "        (attention): RobertaAttention(\n",
       "          (self): RobertaSelfAttention(\n",
       "            (query): Linear(in_features=768, out_features=768, bias=True)\n",
       "            (key): Linear(in_features=768, out_features=768, bias=True)\n",
       "            (value): Linear(in_features=768, out_features=768, bias=True)\n",
       "            (dropout): Dropout(p=0.1, inplace=False)\n",
       "          )\n",
       "          (output): RobertaSelfOutput(\n",
       "            (dense): Linear(in_features=768, out_features=768, bias=True)\n",
       "            (LayerNorm): LayerNorm((768,), eps=1e-05, elementwise_affine=True)\n",
       "            (dropout): Dropout(p=0.1, inplace=False)\n",
       "          )\n",
       "        )\n",
       "        (intermediate): RobertaIntermediate(\n",
       "          (dense): Linear(in_features=768, out_features=3072, bias=True)\n",
       "          (intermediate_act_fn): GELUActivation()\n",
       "        )\n",
       "        (output): RobertaOutput(\n",
       "          (dense): Linear(in_features=3072, out_features=768, bias=True)\n",
       "          (LayerNorm): LayerNorm((768,), eps=1e-05, elementwise_affine=True)\n",
       "          (dropout): Dropout(p=0.1, inplace=False)\n",
       "        )\n",
       "      )\n",
       "      (6): RobertaLayer(\n",
       "        (attention): RobertaAttention(\n",
       "          (self): RobertaSelfAttention(\n",
       "            (query): Linear(in_features=768, out_features=768, bias=True)\n",
       "            (key): Linear(in_features=768, out_features=768, bias=True)\n",
       "            (value): Linear(in_features=768, out_features=768, bias=True)\n",
       "            (dropout): Dropout(p=0.1, inplace=False)\n",
       "          )\n",
       "          (output): RobertaSelfOutput(\n",
       "            (dense): Linear(in_features=768, out_features=768, bias=True)\n",
       "            (LayerNorm): LayerNorm((768,), eps=1e-05, elementwise_affine=True)\n",
       "            (dropout): Dropout(p=0.1, inplace=False)\n",
       "          )\n",
       "        )\n",
       "        (intermediate): RobertaIntermediate(\n",
       "          (dense): Linear(in_features=768, out_features=3072, bias=True)\n",
       "          (intermediate_act_fn): GELUActivation()\n",
       "        )\n",
       "        (output): RobertaOutput(\n",
       "          (dense): Linear(in_features=3072, out_features=768, bias=True)\n",
       "          (LayerNorm): LayerNorm((768,), eps=1e-05, elementwise_affine=True)\n",
       "          (dropout): Dropout(p=0.1, inplace=False)\n",
       "        )\n",
       "      )\n",
       "      (7): RobertaLayer(\n",
       "        (attention): RobertaAttention(\n",
       "          (self): RobertaSelfAttention(\n",
       "            (query): Linear(in_features=768, out_features=768, bias=True)\n",
       "            (key): Linear(in_features=768, out_features=768, bias=True)\n",
       "            (value): Linear(in_features=768, out_features=768, bias=True)\n",
       "            (dropout): Dropout(p=0.1, inplace=False)\n",
       "          )\n",
       "          (output): RobertaSelfOutput(\n",
       "            (dense): Linear(in_features=768, out_features=768, bias=True)\n",
       "            (LayerNorm): LayerNorm((768,), eps=1e-05, elementwise_affine=True)\n",
       "            (dropout): Dropout(p=0.1, inplace=False)\n",
       "          )\n",
       "        )\n",
       "        (intermediate): RobertaIntermediate(\n",
       "          (dense): Linear(in_features=768, out_features=3072, bias=True)\n",
       "          (intermediate_act_fn): GELUActivation()\n",
       "        )\n",
       "        (output): RobertaOutput(\n",
       "          (dense): Linear(in_features=3072, out_features=768, bias=True)\n",
       "          (LayerNorm): LayerNorm((768,), eps=1e-05, elementwise_affine=True)\n",
       "          (dropout): Dropout(p=0.1, inplace=False)\n",
       "        )\n",
       "      )\n",
       "      (8): RobertaLayer(\n",
       "        (attention): RobertaAttention(\n",
       "          (self): RobertaSelfAttention(\n",
       "            (query): Linear(in_features=768, out_features=768, bias=True)\n",
       "            (key): Linear(in_features=768, out_features=768, bias=True)\n",
       "            (value): Linear(in_features=768, out_features=768, bias=True)\n",
       "            (dropout): Dropout(p=0.1, inplace=False)\n",
       "          )\n",
       "          (output): RobertaSelfOutput(\n",
       "            (dense): Linear(in_features=768, out_features=768, bias=True)\n",
       "            (LayerNorm): LayerNorm((768,), eps=1e-05, elementwise_affine=True)\n",
       "            (dropout): Dropout(p=0.1, inplace=False)\n",
       "          )\n",
       "        )\n",
       "        (intermediate): RobertaIntermediate(\n",
       "          (dense): Linear(in_features=768, out_features=3072, bias=True)\n",
       "          (intermediate_act_fn): GELUActivation()\n",
       "        )\n",
       "        (output): RobertaOutput(\n",
       "          (dense): Linear(in_features=3072, out_features=768, bias=True)\n",
       "          (LayerNorm): LayerNorm((768,), eps=1e-05, elementwise_affine=True)\n",
       "          (dropout): Dropout(p=0.1, inplace=False)\n",
       "        )\n",
       "      )\n",
       "      (9): RobertaLayer(\n",
       "        (attention): RobertaAttention(\n",
       "          (self): RobertaSelfAttention(\n",
       "            (query): Linear(in_features=768, out_features=768, bias=True)\n",
       "            (key): Linear(in_features=768, out_features=768, bias=True)\n",
       "            (value): Linear(in_features=768, out_features=768, bias=True)\n",
       "            (dropout): Dropout(p=0.1, inplace=False)\n",
       "          )\n",
       "          (output): RobertaSelfOutput(\n",
       "            (dense): Linear(in_features=768, out_features=768, bias=True)\n",
       "            (LayerNorm): LayerNorm((768,), eps=1e-05, elementwise_affine=True)\n",
       "            (dropout): Dropout(p=0.1, inplace=False)\n",
       "          )\n",
       "        )\n",
       "        (intermediate): RobertaIntermediate(\n",
       "          (dense): Linear(in_features=768, out_features=3072, bias=True)\n",
       "          (intermediate_act_fn): GELUActivation()\n",
       "        )\n",
       "        (output): RobertaOutput(\n",
       "          (dense): Linear(in_features=3072, out_features=768, bias=True)\n",
       "          (LayerNorm): LayerNorm((768,), eps=1e-05, elementwise_affine=True)\n",
       "          (dropout): Dropout(p=0.1, inplace=False)\n",
       "        )\n",
       "      )\n",
       "      (10): RobertaLayer(\n",
       "        (attention): RobertaAttention(\n",
       "          (self): RobertaSelfAttention(\n",
       "            (query): Linear(in_features=768, out_features=768, bias=True)\n",
       "            (key): Linear(in_features=768, out_features=768, bias=True)\n",
       "            (value): Linear(in_features=768, out_features=768, bias=True)\n",
       "            (dropout): Dropout(p=0.1, inplace=False)\n",
       "          )\n",
       "          (output): RobertaSelfOutput(\n",
       "            (dense): Linear(in_features=768, out_features=768, bias=True)\n",
       "            (LayerNorm): LayerNorm((768,), eps=1e-05, elementwise_affine=True)\n",
       "            (dropout): Dropout(p=0.1, inplace=False)\n",
       "          )\n",
       "        )\n",
       "        (intermediate): RobertaIntermediate(\n",
       "          (dense): Linear(in_features=768, out_features=3072, bias=True)\n",
       "          (intermediate_act_fn): GELUActivation()\n",
       "        )\n",
       "        (output): RobertaOutput(\n",
       "          (dense): Linear(in_features=3072, out_features=768, bias=True)\n",
       "          (LayerNorm): LayerNorm((768,), eps=1e-05, elementwise_affine=True)\n",
       "          (dropout): Dropout(p=0.1, inplace=False)\n",
       "        )\n",
       "      )\n",
       "      (11): RobertaLayer(\n",
       "        (attention): RobertaAttention(\n",
       "          (self): RobertaSelfAttention(\n",
       "            (query): Linear(in_features=768, out_features=768, bias=True)\n",
       "            (key): Linear(in_features=768, out_features=768, bias=True)\n",
       "            (value): Linear(in_features=768, out_features=768, bias=True)\n",
       "            (dropout): Dropout(p=0.1, inplace=False)\n",
       "          )\n",
       "          (output): RobertaSelfOutput(\n",
       "            (dense): Linear(in_features=768, out_features=768, bias=True)\n",
       "            (LayerNorm): LayerNorm((768,), eps=1e-05, elementwise_affine=True)\n",
       "            (dropout): Dropout(p=0.1, inplace=False)\n",
       "          )\n",
       "        )\n",
       "        (intermediate): RobertaIntermediate(\n",
       "          (dense): Linear(in_features=768, out_features=3072, bias=True)\n",
       "          (intermediate_act_fn): GELUActivation()\n",
       "        )\n",
       "        (output): RobertaOutput(\n",
       "          (dense): Linear(in_features=3072, out_features=768, bias=True)\n",
       "          (LayerNorm): LayerNorm((768,), eps=1e-05, elementwise_affine=True)\n",
       "          (dropout): Dropout(p=0.1, inplace=False)\n",
       "        )\n",
       "      )\n",
       "    )\n",
       "  )\n",
       "  (pooler): RobertaPooler(\n",
       "    (dense): Linear(in_features=768, out_features=768, bias=True)\n",
       "    (activation): Tanh()\n",
       "  )\n",
       ")"
      ]
     },
     "execution_count": 10,
     "metadata": {},
     "output_type": "execute_result"
    }
   ],
   "source": [
    "%%time\n",
    "\n",
    "from sentence_transformers import SentenceTransformer, models, util\n",
    "from transformers import AutoTokenizer, AutoModel\n",
    "\n",
    "\n",
    "device = 'cuda:0'\n",
    "roberta_model = AutoModel.from_pretrained(\"roberta-base\")\n",
    "roberta_tokenizer = AutoTokenizer.from_pretrained(\"roberta-base\", use_fast=False)\n",
    "\n",
    "roberta_model = roberta_model.to(device)\n",
    "roberta_model.eval()"
   ]
  },
  {
   "cell_type": "markdown",
   "id": "ef9c016c",
   "metadata": {},
   "source": [
    "### load bert fine tuned"
   ]
  },
  {
   "cell_type": "code",
   "execution_count": 11,
   "id": "55c172bd",
   "metadata": {},
   "outputs": [
    {
     "name": "stderr",
     "output_type": "stream",
     "text": [
      "Some weights of the model checkpoint at ./models/bert-ft-mlm-twitter-v2/checkpoint-250000/ were not used when initializing BertModel: ['cls.predictions.transform.dense.weight', 'cls.predictions.transform.LayerNorm.weight', 'cls.predictions.transform.dense.bias', 'cls.predictions.transform.LayerNorm.bias', 'cls.predictions.decoder.bias', 'cls.predictions.decoder.weight', 'cls.predictions.bias']\n",
      "- This IS expected if you are initializing BertModel from the checkpoint of a model trained on another task or with another architecture (e.g. initializing a BertForSequenceClassification model from a BertForPreTraining model).\n",
      "- This IS NOT expected if you are initializing BertModel from the checkpoint of a model that you expect to be exactly identical (initializing a BertForSequenceClassification model from a BertForSequenceClassification model).\n",
      "Some weights of BertModel were not initialized from the model checkpoint at ./models/bert-ft-mlm-twitter-v2/checkpoint-250000/ and are newly initialized: ['bert.pooler.dense.weight', 'bert.pooler.dense.bias']\n",
      "You should probably TRAIN this model on a down-stream task to be able to use it for predictions and inference.\n",
      "Some weights of the model checkpoint at ./models/bert-ft-mlm-wiki/checkpoint-29328/ were not used when initializing BertModel: ['cls.predictions.transform.dense.weight', 'cls.predictions.transform.LayerNorm.weight', 'cls.predictions.transform.dense.bias', 'cls.predictions.transform.LayerNorm.bias', 'cls.predictions.decoder.bias', 'cls.predictions.decoder.weight', 'cls.predictions.bias']\n",
      "- This IS expected if you are initializing BertModel from the checkpoint of a model trained on another task or with another architecture (e.g. initializing a BertForSequenceClassification model from a BertForPreTraining model).\n",
      "- This IS NOT expected if you are initializing BertModel from the checkpoint of a model that you expect to be exactly identical (initializing a BertForSequenceClassification model from a BertForSequenceClassification model).\n",
      "Some weights of BertModel were not initialized from the model checkpoint at ./models/bert-ft-mlm-wiki/checkpoint-29328/ and are newly initialized: ['bert.pooler.dense.weight', 'bert.pooler.dense.bias']\n",
      "You should probably TRAIN this model on a down-stream task to be able to use it for predictions and inference.\n"
     ]
    },
    {
     "name": "stdout",
     "output_type": "stream",
     "text": [
      "CPU times: user 8.01 s, sys: 379 ms, total: 8.39 s\n",
      "Wall time: 2.97 s\n"
     ]
    },
    {
     "data": {
      "text/plain": [
       "BertModel(\n",
       "  (embeddings): BertEmbeddings(\n",
       "    (word_embeddings): Embedding(30522, 768, padding_idx=0)\n",
       "    (position_embeddings): Embedding(512, 768)\n",
       "    (token_type_embeddings): Embedding(2, 768)\n",
       "    (LayerNorm): LayerNorm((768,), eps=1e-12, elementwise_affine=True)\n",
       "    (dropout): Dropout(p=0.1, inplace=False)\n",
       "  )\n",
       "  (encoder): BertEncoder(\n",
       "    (layer): ModuleList(\n",
       "      (0): BertLayer(\n",
       "        (attention): BertAttention(\n",
       "          (self): BertSelfAttention(\n",
       "            (query): Linear(in_features=768, out_features=768, bias=True)\n",
       "            (key): Linear(in_features=768, out_features=768, bias=True)\n",
       "            (value): Linear(in_features=768, out_features=768, bias=True)\n",
       "            (dropout): Dropout(p=0.1, inplace=False)\n",
       "          )\n",
       "          (output): BertSelfOutput(\n",
       "            (dense): Linear(in_features=768, out_features=768, bias=True)\n",
       "            (LayerNorm): LayerNorm((768,), eps=1e-12, elementwise_affine=True)\n",
       "            (dropout): Dropout(p=0.1, inplace=False)\n",
       "          )\n",
       "        )\n",
       "        (intermediate): BertIntermediate(\n",
       "          (dense): Linear(in_features=768, out_features=3072, bias=True)\n",
       "          (intermediate_act_fn): GELUActivation()\n",
       "        )\n",
       "        (output): BertOutput(\n",
       "          (dense): Linear(in_features=3072, out_features=768, bias=True)\n",
       "          (LayerNorm): LayerNorm((768,), eps=1e-12, elementwise_affine=True)\n",
       "          (dropout): Dropout(p=0.1, inplace=False)\n",
       "        )\n",
       "      )\n",
       "      (1): BertLayer(\n",
       "        (attention): BertAttention(\n",
       "          (self): BertSelfAttention(\n",
       "            (query): Linear(in_features=768, out_features=768, bias=True)\n",
       "            (key): Linear(in_features=768, out_features=768, bias=True)\n",
       "            (value): Linear(in_features=768, out_features=768, bias=True)\n",
       "            (dropout): Dropout(p=0.1, inplace=False)\n",
       "          )\n",
       "          (output): BertSelfOutput(\n",
       "            (dense): Linear(in_features=768, out_features=768, bias=True)\n",
       "            (LayerNorm): LayerNorm((768,), eps=1e-12, elementwise_affine=True)\n",
       "            (dropout): Dropout(p=0.1, inplace=False)\n",
       "          )\n",
       "        )\n",
       "        (intermediate): BertIntermediate(\n",
       "          (dense): Linear(in_features=768, out_features=3072, bias=True)\n",
       "          (intermediate_act_fn): GELUActivation()\n",
       "        )\n",
       "        (output): BertOutput(\n",
       "          (dense): Linear(in_features=3072, out_features=768, bias=True)\n",
       "          (LayerNorm): LayerNorm((768,), eps=1e-12, elementwise_affine=True)\n",
       "          (dropout): Dropout(p=0.1, inplace=False)\n",
       "        )\n",
       "      )\n",
       "      (2): BertLayer(\n",
       "        (attention): BertAttention(\n",
       "          (self): BertSelfAttention(\n",
       "            (query): Linear(in_features=768, out_features=768, bias=True)\n",
       "            (key): Linear(in_features=768, out_features=768, bias=True)\n",
       "            (value): Linear(in_features=768, out_features=768, bias=True)\n",
       "            (dropout): Dropout(p=0.1, inplace=False)\n",
       "          )\n",
       "          (output): BertSelfOutput(\n",
       "            (dense): Linear(in_features=768, out_features=768, bias=True)\n",
       "            (LayerNorm): LayerNorm((768,), eps=1e-12, elementwise_affine=True)\n",
       "            (dropout): Dropout(p=0.1, inplace=False)\n",
       "          )\n",
       "        )\n",
       "        (intermediate): BertIntermediate(\n",
       "          (dense): Linear(in_features=768, out_features=3072, bias=True)\n",
       "          (intermediate_act_fn): GELUActivation()\n",
       "        )\n",
       "        (output): BertOutput(\n",
       "          (dense): Linear(in_features=3072, out_features=768, bias=True)\n",
       "          (LayerNorm): LayerNorm((768,), eps=1e-12, elementwise_affine=True)\n",
       "          (dropout): Dropout(p=0.1, inplace=False)\n",
       "        )\n",
       "      )\n",
       "      (3): BertLayer(\n",
       "        (attention): BertAttention(\n",
       "          (self): BertSelfAttention(\n",
       "            (query): Linear(in_features=768, out_features=768, bias=True)\n",
       "            (key): Linear(in_features=768, out_features=768, bias=True)\n",
       "            (value): Linear(in_features=768, out_features=768, bias=True)\n",
       "            (dropout): Dropout(p=0.1, inplace=False)\n",
       "          )\n",
       "          (output): BertSelfOutput(\n",
       "            (dense): Linear(in_features=768, out_features=768, bias=True)\n",
       "            (LayerNorm): LayerNorm((768,), eps=1e-12, elementwise_affine=True)\n",
       "            (dropout): Dropout(p=0.1, inplace=False)\n",
       "          )\n",
       "        )\n",
       "        (intermediate): BertIntermediate(\n",
       "          (dense): Linear(in_features=768, out_features=3072, bias=True)\n",
       "          (intermediate_act_fn): GELUActivation()\n",
       "        )\n",
       "        (output): BertOutput(\n",
       "          (dense): Linear(in_features=3072, out_features=768, bias=True)\n",
       "          (LayerNorm): LayerNorm((768,), eps=1e-12, elementwise_affine=True)\n",
       "          (dropout): Dropout(p=0.1, inplace=False)\n",
       "        )\n",
       "      )\n",
       "      (4): BertLayer(\n",
       "        (attention): BertAttention(\n",
       "          (self): BertSelfAttention(\n",
       "            (query): Linear(in_features=768, out_features=768, bias=True)\n",
       "            (key): Linear(in_features=768, out_features=768, bias=True)\n",
       "            (value): Linear(in_features=768, out_features=768, bias=True)\n",
       "            (dropout): Dropout(p=0.1, inplace=False)\n",
       "          )\n",
       "          (output): BertSelfOutput(\n",
       "            (dense): Linear(in_features=768, out_features=768, bias=True)\n",
       "            (LayerNorm): LayerNorm((768,), eps=1e-12, elementwise_affine=True)\n",
       "            (dropout): Dropout(p=0.1, inplace=False)\n",
       "          )\n",
       "        )\n",
       "        (intermediate): BertIntermediate(\n",
       "          (dense): Linear(in_features=768, out_features=3072, bias=True)\n",
       "          (intermediate_act_fn): GELUActivation()\n",
       "        )\n",
       "        (output): BertOutput(\n",
       "          (dense): Linear(in_features=3072, out_features=768, bias=True)\n",
       "          (LayerNorm): LayerNorm((768,), eps=1e-12, elementwise_affine=True)\n",
       "          (dropout): Dropout(p=0.1, inplace=False)\n",
       "        )\n",
       "      )\n",
       "      (5): BertLayer(\n",
       "        (attention): BertAttention(\n",
       "          (self): BertSelfAttention(\n",
       "            (query): Linear(in_features=768, out_features=768, bias=True)\n",
       "            (key): Linear(in_features=768, out_features=768, bias=True)\n",
       "            (value): Linear(in_features=768, out_features=768, bias=True)\n",
       "            (dropout): Dropout(p=0.1, inplace=False)\n",
       "          )\n",
       "          (output): BertSelfOutput(\n",
       "            (dense): Linear(in_features=768, out_features=768, bias=True)\n",
       "            (LayerNorm): LayerNorm((768,), eps=1e-12, elementwise_affine=True)\n",
       "            (dropout): Dropout(p=0.1, inplace=False)\n",
       "          )\n",
       "        )\n",
       "        (intermediate): BertIntermediate(\n",
       "          (dense): Linear(in_features=768, out_features=3072, bias=True)\n",
       "          (intermediate_act_fn): GELUActivation()\n",
       "        )\n",
       "        (output): BertOutput(\n",
       "          (dense): Linear(in_features=3072, out_features=768, bias=True)\n",
       "          (LayerNorm): LayerNorm((768,), eps=1e-12, elementwise_affine=True)\n",
       "          (dropout): Dropout(p=0.1, inplace=False)\n",
       "        )\n",
       "      )\n",
       "      (6): BertLayer(\n",
       "        (attention): BertAttention(\n",
       "          (self): BertSelfAttention(\n",
       "            (query): Linear(in_features=768, out_features=768, bias=True)\n",
       "            (key): Linear(in_features=768, out_features=768, bias=True)\n",
       "            (value): Linear(in_features=768, out_features=768, bias=True)\n",
       "            (dropout): Dropout(p=0.1, inplace=False)\n",
       "          )\n",
       "          (output): BertSelfOutput(\n",
       "            (dense): Linear(in_features=768, out_features=768, bias=True)\n",
       "            (LayerNorm): LayerNorm((768,), eps=1e-12, elementwise_affine=True)\n",
       "            (dropout): Dropout(p=0.1, inplace=False)\n",
       "          )\n",
       "        )\n",
       "        (intermediate): BertIntermediate(\n",
       "          (dense): Linear(in_features=768, out_features=3072, bias=True)\n",
       "          (intermediate_act_fn): GELUActivation()\n",
       "        )\n",
       "        (output): BertOutput(\n",
       "          (dense): Linear(in_features=3072, out_features=768, bias=True)\n",
       "          (LayerNorm): LayerNorm((768,), eps=1e-12, elementwise_affine=True)\n",
       "          (dropout): Dropout(p=0.1, inplace=False)\n",
       "        )\n",
       "      )\n",
       "      (7): BertLayer(\n",
       "        (attention): BertAttention(\n",
       "          (self): BertSelfAttention(\n",
       "            (query): Linear(in_features=768, out_features=768, bias=True)\n",
       "            (key): Linear(in_features=768, out_features=768, bias=True)\n",
       "            (value): Linear(in_features=768, out_features=768, bias=True)\n",
       "            (dropout): Dropout(p=0.1, inplace=False)\n",
       "          )\n",
       "          (output): BertSelfOutput(\n",
       "            (dense): Linear(in_features=768, out_features=768, bias=True)\n",
       "            (LayerNorm): LayerNorm((768,), eps=1e-12, elementwise_affine=True)\n",
       "            (dropout): Dropout(p=0.1, inplace=False)\n",
       "          )\n",
       "        )\n",
       "        (intermediate): BertIntermediate(\n",
       "          (dense): Linear(in_features=768, out_features=3072, bias=True)\n",
       "          (intermediate_act_fn): GELUActivation()\n",
       "        )\n",
       "        (output): BertOutput(\n",
       "          (dense): Linear(in_features=3072, out_features=768, bias=True)\n",
       "          (LayerNorm): LayerNorm((768,), eps=1e-12, elementwise_affine=True)\n",
       "          (dropout): Dropout(p=0.1, inplace=False)\n",
       "        )\n",
       "      )\n",
       "      (8): BertLayer(\n",
       "        (attention): BertAttention(\n",
       "          (self): BertSelfAttention(\n",
       "            (query): Linear(in_features=768, out_features=768, bias=True)\n",
       "            (key): Linear(in_features=768, out_features=768, bias=True)\n",
       "            (value): Linear(in_features=768, out_features=768, bias=True)\n",
       "            (dropout): Dropout(p=0.1, inplace=False)\n",
       "          )\n",
       "          (output): BertSelfOutput(\n",
       "            (dense): Linear(in_features=768, out_features=768, bias=True)\n",
       "            (LayerNorm): LayerNorm((768,), eps=1e-12, elementwise_affine=True)\n",
       "            (dropout): Dropout(p=0.1, inplace=False)\n",
       "          )\n",
       "        )\n",
       "        (intermediate): BertIntermediate(\n",
       "          (dense): Linear(in_features=768, out_features=3072, bias=True)\n",
       "          (intermediate_act_fn): GELUActivation()\n",
       "        )\n",
       "        (output): BertOutput(\n",
       "          (dense): Linear(in_features=3072, out_features=768, bias=True)\n",
       "          (LayerNorm): LayerNorm((768,), eps=1e-12, elementwise_affine=True)\n",
       "          (dropout): Dropout(p=0.1, inplace=False)\n",
       "        )\n",
       "      )\n",
       "      (9): BertLayer(\n",
       "        (attention): BertAttention(\n",
       "          (self): BertSelfAttention(\n",
       "            (query): Linear(in_features=768, out_features=768, bias=True)\n",
       "            (key): Linear(in_features=768, out_features=768, bias=True)\n",
       "            (value): Linear(in_features=768, out_features=768, bias=True)\n",
       "            (dropout): Dropout(p=0.1, inplace=False)\n",
       "          )\n",
       "          (output): BertSelfOutput(\n",
       "            (dense): Linear(in_features=768, out_features=768, bias=True)\n",
       "            (LayerNorm): LayerNorm((768,), eps=1e-12, elementwise_affine=True)\n",
       "            (dropout): Dropout(p=0.1, inplace=False)\n",
       "          )\n",
       "        )\n",
       "        (intermediate): BertIntermediate(\n",
       "          (dense): Linear(in_features=768, out_features=3072, bias=True)\n",
       "          (intermediate_act_fn): GELUActivation()\n",
       "        )\n",
       "        (output): BertOutput(\n",
       "          (dense): Linear(in_features=3072, out_features=768, bias=True)\n",
       "          (LayerNorm): LayerNorm((768,), eps=1e-12, elementwise_affine=True)\n",
       "          (dropout): Dropout(p=0.1, inplace=False)\n",
       "        )\n",
       "      )\n",
       "      (10): BertLayer(\n",
       "        (attention): BertAttention(\n",
       "          (self): BertSelfAttention(\n",
       "            (query): Linear(in_features=768, out_features=768, bias=True)\n",
       "            (key): Linear(in_features=768, out_features=768, bias=True)\n",
       "            (value): Linear(in_features=768, out_features=768, bias=True)\n",
       "            (dropout): Dropout(p=0.1, inplace=False)\n",
       "          )\n",
       "          (output): BertSelfOutput(\n",
       "            (dense): Linear(in_features=768, out_features=768, bias=True)\n",
       "            (LayerNorm): LayerNorm((768,), eps=1e-12, elementwise_affine=True)\n",
       "            (dropout): Dropout(p=0.1, inplace=False)\n",
       "          )\n",
       "        )\n",
       "        (intermediate): BertIntermediate(\n",
       "          (dense): Linear(in_features=768, out_features=3072, bias=True)\n",
       "          (intermediate_act_fn): GELUActivation()\n",
       "        )\n",
       "        (output): BertOutput(\n",
       "          (dense): Linear(in_features=3072, out_features=768, bias=True)\n",
       "          (LayerNorm): LayerNorm((768,), eps=1e-12, elementwise_affine=True)\n",
       "          (dropout): Dropout(p=0.1, inplace=False)\n",
       "        )\n",
       "      )\n",
       "      (11): BertLayer(\n",
       "        (attention): BertAttention(\n",
       "          (self): BertSelfAttention(\n",
       "            (query): Linear(in_features=768, out_features=768, bias=True)\n",
       "            (key): Linear(in_features=768, out_features=768, bias=True)\n",
       "            (value): Linear(in_features=768, out_features=768, bias=True)\n",
       "            (dropout): Dropout(p=0.1, inplace=False)\n",
       "          )\n",
       "          (output): BertSelfOutput(\n",
       "            (dense): Linear(in_features=768, out_features=768, bias=True)\n",
       "            (LayerNorm): LayerNorm((768,), eps=1e-12, elementwise_affine=True)\n",
       "            (dropout): Dropout(p=0.1, inplace=False)\n",
       "          )\n",
       "        )\n",
       "        (intermediate): BertIntermediate(\n",
       "          (dense): Linear(in_features=768, out_features=3072, bias=True)\n",
       "          (intermediate_act_fn): GELUActivation()\n",
       "        )\n",
       "        (output): BertOutput(\n",
       "          (dense): Linear(in_features=3072, out_features=768, bias=True)\n",
       "          (LayerNorm): LayerNorm((768,), eps=1e-12, elementwise_affine=True)\n",
       "          (dropout): Dropout(p=0.1, inplace=False)\n",
       "        )\n",
       "      )\n",
       "    )\n",
       "  )\n",
       "  (pooler): BertPooler(\n",
       "    (dense): Linear(in_features=768, out_features=768, bias=True)\n",
       "    (activation): Tanh()\n",
       "  )\n",
       ")"
      ]
     },
     "execution_count": 11,
     "metadata": {},
     "output_type": "execute_result"
    }
   ],
   "source": [
    "%%time\n",
    "\n",
    "from sentence_transformers import SentenceTransformer, models, util\n",
    "from transformers import AutoTokenizer, AutoModel\n",
    "\n",
    "\n",
    "device = 'cuda:0'\n",
    "bert_ft_tokenizer = AutoTokenizer.from_pretrained(\"bert-base-uncased\", use_fast=False)\n",
    "# bertlarge_ft_tokenizer = AutoTokenizer.from_pretrained(\"bert-large-uncased\", use_fast=False)\n",
    "\n",
    "bert_ft_twitter_model = AutoModel.from_pretrained(\"./models/bert-ft-mlm-twitter-v2/checkpoint-250000/\")\n",
    "bert_ft_twitter_model = bert_ft_twitter_model.to(device)\n",
    "bert_ft_twitter_model.eval()\n",
    "\n",
    "# bertlarge_ft_twitter_model = AutoModel.from_pretrained(\"./models/bertlarge-ft-mlm-twitter/checkpoint-3904/\")\n",
    "# bertlarge_ft_twitter_model = bertlarge_ft_twitter_model.to(device)\n",
    "# bertlarge_ft_twitter_model.eval()\n",
    "\n",
    "\n",
    "\n",
    "\n",
    "# bert_ft50_twitter_model = AutoModel.from_pretrained(\"./models/bert-ft-mlm-twitter/checkpoint-24992/\")\n",
    "# bert_ft50_twitter_model = bert_ft50_twitter_model.to(device)\n",
    "# bert_ft50_twitter_model.eval()\n",
    "\n",
    "bert_ft_wiki_model = AutoModel.from_pretrained(\"./models/bert-ft-mlm-wiki/checkpoint-29328/\")\n",
    "bert_ft_wiki_model = bert_ft_wiki_model.to(device)\n",
    "bert_ft_wiki_model.eval()\n",
    "\n"
   ]
  },
  {
   "cell_type": "markdown",
   "id": "113917c4",
   "metadata": {},
   "source": [
    "#### load sentenceBERT"
   ]
  },
  {
   "cell_type": "code",
   "execution_count": 12,
   "id": "f532a1fe",
   "metadata": {},
   "outputs": [
    {
     "name": "stderr",
     "output_type": "stream",
     "text": [
      "/projects/academic/kjoseph/navid/anaconda3/envs/py38/lib/python3.8/site-packages/huggingface_hub/file_download.py:588: FutureWarning: `cached_download` is the legacy way to download files from the HF hub, please consider upgrading to `hf_hub_download`\n",
      "  warnings.warn(\n"
     ]
    },
    {
     "name": "stdout",
     "output_type": "stream",
     "text": [
      "CPU times: user 9.9 s, sys: 285 ms, total: 10.2 s\n",
      "Wall time: 2.59 s\n"
     ]
    },
    {
     "data": {
      "text/plain": [
       "SentenceTransformer(\n",
       "  (0): Transformer({'max_seq_length': 384, 'do_lower_case': False}) with Transformer model: MPNetModel \n",
       "  (1): Pooling({'word_embedding_dimension': 768, 'pooling_mode_cls_token': False, 'pooling_mode_mean_tokens': True, 'pooling_mode_max_tokens': False, 'pooling_mode_mean_sqrt_len_tokens': False})\n",
       "  (2): Normalize()\n",
       ")"
      ]
     },
     "execution_count": 12,
     "metadata": {},
     "output_type": "execute_result"
    }
   ],
   "source": [
    "%%time\n",
    "\n",
    "from sentence_transformers import SentenceTransformer, models, util\n",
    "from transformers import AutoTokenizer, AutoModel\n",
    "\n",
    "device = 'cuda:0'\n",
    "\n",
    "sbert_model = SentenceTransformer('all-mpnet-base-v2', device=device)\n",
    "# sbert_model = SentenceTransformer('all-distilroberta-v1', device=device)\n",
    "# sbert_model = SentenceTransformer('all-MiniLM-L6-v2', device=device)\n",
    "sbert_model.eval()\n"
   ]
  },
  {
   "cell_type": "markdown",
   "id": "371ed213",
   "metadata": {},
   "source": [
    "#### load sentenceBERT fine-tuned"
   ]
  },
  {
   "cell_type": "code",
   "execution_count": 9,
   "id": "15e18e05",
   "metadata": {},
   "outputs": [
    {
     "name": "stdout",
     "output_type": "stream",
     "text": [
      "CPU times: user 10.2 s, sys: 686 ms, total: 10.9 s\n",
      "Wall time: 5.41 s\n"
     ]
    },
    {
     "data": {
      "text/plain": [
       "SentenceTransformer(\n",
       "  (0): Transformer({'max_seq_length': 384, 'do_lower_case': False}) with Transformer model: MPNetModel \n",
       "  (1): Pooling({'word_embedding_dimension': 768, 'pooling_mode_cls_token': False, 'pooling_mode_mean_tokens': True, 'pooling_mode_max_tokens': False, 'pooling_mode_mean_sqrt_len_tokens': False})\n",
       "  (2): Normalize()\n",
       ")"
      ]
     },
     "execution_count": 9,
     "metadata": {},
     "output_type": "execute_result"
    }
   ],
   "source": [
    "%%time\n",
    "\n",
    "from sentence_transformers import SentenceTransformer, models, util\n",
    "from transformers import AutoTokenizer, AutoModel\n",
    "\n",
    "\n",
    "device = 'cuda:0'\n",
    "twitter_ft_sbert = SentenceTransformer('./models/mpnet-twitter-freq100', device=device)\n",
    "twitter_ft_sbert.eval()\n",
    "\n",
    "# twitter_ft_sbert_10p = SentenceTransformer('./models/distilroberta-twitter-freq100-10p/', device=device)\n",
    "# twitter_ft_sbert_10p.eval()\n",
    "\n",
    "wiki_ft_sbert = SentenceTransformer('./models/mpnet-wiki-freq3/', device=device)\n",
    "wiki_ft_sbert.eval()\n",
    "\n",
    "# wiki_ft_sbert = SentenceTransformer('./models/miniLM-L6-wiki-out256/', device=device)\n",
    "# wiki_ft_sbert.eval()\n",
    "\n",
    "# twitter_ft_sbert = SentenceTransformer('./models/miniLM-L6-twitter-out256/', device=device)\n",
    "# twitter_ft_sbert.eval()\n",
    "\n",
    "# wiki_ft_sbert = SentenceTransformer('./models/miniLM-L6-wiki-out256/', device=device)\n",
    "# wiki_ft_sbert.eval()\n"
   ]
  },
  {
   "cell_type": "markdown",
   "id": "da0033ab",
   "metadata": {
    "heading_collapsed": true
   },
   "source": [
    "## projection model "
   ]
  },
  {
   "cell_type": "markdown",
   "id": "84ac109d",
   "metadata": {
    "hidden": true
   },
   "source": [
    "### define dimensions"
   ]
  },
  {
   "cell_type": "code",
   "execution_count": 33,
   "id": "b6eb2ffc",
   "metadata": {
    "hidden": true
   },
   "outputs": [],
   "source": [
    "# measures = [{\n",
    "#     \"group\": \"age\",\n",
    "#     \"names\": ['young', 'old'],\n",
    "#     \"sets\": [['young'], ['old']],\n",
    "#     \"paper\": \"this_short\",\n",
    "#     \"is_paired\": True\n",
    "# }, {\n",
    "#     \"group\":\n",
    "#     \"age\",\n",
    "#     \"names\": ['young', 'old'],\n",
    "#     \"sets\": [['young', 'new', 'youthful', 'young'],\n",
    "#              ['old', 'old', 'elderly', 'aged']],\n",
    "#     \"paper\":\n",
    "#     \"this_long\",\n",
    "#     \"is_paired\":\n",
    "#     True\n",
    "# }, {\n",
    "#     \"group\": \"gender\",\n",
    "#     \"names\": ['woman', 'man'],\n",
    "#     \"sets\": [['female'], ['male']],\n",
    "#     \"paper\": \"this_short\",\n",
    "#     \"is_paired\": True\n",
    "# }, {\n",
    "#     \"group\": \"gender\",\n",
    "#     \"names\": ['woman', 'man'],\n",
    "#     \"sets\": [['she'], ['he']],\n",
    "#     \"paper\": \"gonen\",\n",
    "#     \"is_paired\": True\n",
    "# }, {\n",
    "#     \"group\":\n",
    "#     \"gender\",\n",
    "#     \"names\": ['woman', 'man'],\n",
    "#     \"sets\": [[\n",
    "#         'woman', 'girl', 'she', 'mother', 'daughter', 'gal', 'female', 'her',\n",
    "#         'herself', 'Mary'\n",
    "#     ],\n",
    "#              [\n",
    "#                  'man', 'boy', 'he', 'father', 'son', 'guy', 'male', 'his',\n",
    "#                  'himself', 'John'\n",
    "#              ]],\n",
    "#     \"paper\":\n",
    "#     \"bolukbasi_words\",\n",
    "#     \"is_paired\":\n",
    "#     True\n",
    "# }, {\n",
    "#     \"group\":\n",
    "#     \"gender\",\n",
    "#     \"names\": ['woman', 'man'],\n",
    "#     \"sets\":\n",
    "#     [['amy', 'joan', 'lisa', 'sarah', 'diana', 'kate', 'ann', 'donna'],\n",
    "#      ['john', 'paul', 'mike', 'kevin', 'steve', 'greg', 'jeff', 'bill']],\n",
    "#     \"paper\":\n",
    "#     \"bolukbasi_names\",\n",
    "#     \"is_paired\":\n",
    "#     True\n",
    "# }, {\n",
    "#     \"group\":\n",
    "#     \"gender\",\n",
    "#     \"names\": ['woman', 'man'],\n",
    "#     \"sets\": [[\n",
    "#         'woman', 'women', 'she', 'her', 'her', 'hers', 'girl', 'girls',\n",
    "#         'female', 'feminine'\n",
    "#     ],\n",
    "#              [\n",
    "#                  'man', 'men', 'he', 'him', 'his', 'his', 'boy', 'boys',\n",
    "#                  'male', 'masculine'\n",
    "#              ]],\n",
    "#     \"paper\":\n",
    "#     \"kozlowski\",\n",
    "#     \"is_paired\":\n",
    "#     True\n",
    "# }]\n",
    "\n",
    "\n",
    "# race_ethnicities = ['white', 'latino', 'asian', 'middle eastern', 'black']\n",
    "\n",
    "# measures += [{\n",
    "#     \"sets\": [['white', 'White'], ['hispanic', 'Hispanic', 'latino', 'Latino'],\n",
    "#              ['asian', 'Asian'], ['arab', 'Arab'], ['black', 'Black']],\n",
    "#     \"names\":\n",
    "#     race_ethnicities,\n",
    "#     \"group\":\n",
    "#     \"race_ethnicity\",\n",
    "#     \"paper\":\n",
    "#     \"this_short\",\n",
    "#     \"is_paired\":\n",
    "#     False\n",
    "# }, {\n",
    "#     \"sets\":\n",
    "#     [['white', 'whites', 'White', 'Whites', 'European', 'Caucasian', 'Anglo'],\n",
    "#      [\n",
    "#          'hispanic', 'hispanics', 'Hispanic', 'Hispanics', 'Mexican', 'Latino',\n",
    "#          'Hispanic'\n",
    "#      ],\n",
    "#      ['asian', 'asians', 'Asian', 'Asians', 'Chinese', 'Japanese', 'Korean'],\n",
    "#      ['arab', 'arabs', 'Arab', 'Arabs', 'Muslim', 'Muslim', 'Muslim'],\n",
    "#      ['black', 'blacks', 'Black', 'Blacks', 'African', 'African', 'Afro']],\n",
    "#     \"names\":\n",
    "#     race_ethnicities,\n",
    "#     \"group\":\n",
    "#     \"race_ethnicity\",\n",
    "#     \"paper\":\n",
    "#     \"koslowski\",\n",
    "#     \"is_paired\":\n",
    "#     False\n",
    "# }, {\n",
    "#     \"sets\": [['white', 'whites', 'european', 'caucasian', 'anglo'],\n",
    "#              ['hispanic', 'hispanics', 'mexican', 'latino', 'hispanic'],\n",
    "#              ['asian', 'asians', 'chinese', 'japanese', 'korean'],\n",
    "#              ['arab', 'arabs', 'muslims', 'muslim', 'arab'],\n",
    "#              ['black', 'blacks', 'african', 'african', 'afro']],\n",
    "#     \"names\":\n",
    "#     race_ethnicities,\n",
    "#     \"group\":\n",
    "#     \"race_ethnicity\",\n",
    "#     \"paper\":\n",
    "#     \"koslowski_lowercase\",\n",
    "#     \"is_paired\":\n",
    "#     False\n",
    "# }, {\n",
    "#     \"sets\":\n",
    "#     [['white', 'whites', 'White', 'Whites', 'European', 'Caucasian', 'Anglo'],\n",
    "#      [\n",
    "#          'hispanic', 'hispanics', 'Hispanic', 'Hispanics', 'Mexican', 'latino',\n",
    "#          'latinos', 'latina', 'latinas', 'Latino', 'Latinos', 'Latina',\n",
    "#          'Latinas'\n",
    "#      ],\n",
    "#      ['asian', 'asians', 'Asian', 'Asians', 'Chinese', 'Japanese', 'Korean'],\n",
    "#      [\n",
    "#          'arab', 'arabs', 'Arab', 'Arabs', 'Muslim', 'Muslims', 'Muslim',\n",
    "#          'Muslims'\n",
    "#      ], [\n",
    "#          'black',\n",
    "#          'blacks',\n",
    "#          'Black',\n",
    "#          'Blacks',\n",
    "#          'African',\n",
    "#          'African',\n",
    "#      ]],\n",
    "#     \"names\":\n",
    "#     race_ethnicities,\n",
    "#     \"group\":\n",
    "#     \"race_ethnicity\",\n",
    "#     \"paper\":\n",
    "#     \"this_long\",\n",
    "#     \"is_paired\":\n",
    "#     False\n",
    "# }]\n",
    "\n",
    "\n",
    "# measures.append({\n",
    "#     \"group\":\n",
    "#     \"politics\",\n",
    "#     \"names\": ['republican', 'democrat'],\n",
    "#     \"sets\": [['republican', 'conservative'], ['democrat', 'democratic']],\n",
    "#     \"paper\":\n",
    "#     \"unk\",\n",
    "#     \"is_paired\":\n",
    "#     True\n",
    "# })"
   ]
  },
  {
   "cell_type": "code",
   "execution_count": 34,
   "id": "47e79503",
   "metadata": {
    "hidden": true
   },
   "outputs": [],
   "source": [
    "measures = [{\n",
    "    \"group\": \"age\",\n",
    "    \"names\": ['young', 'old'],\n",
    "    \"sets\": [['young'], ['old']],\n",
    "    \"paper\": \"this_short\",\n",
    "    \"is_paired\": True\n",
    "}, {\n",
    "    \"group\":\n",
    "    \"age\",\n",
    "    \"names\": ['young', 'old'],\n",
    "    \"sets\": [['young', 'new', 'youthful', 'young'],\n",
    "             ['old', 'old', 'elderly', 'aged']],\n",
    "    \"paper\":\n",
    "    \"this_long\",\n",
    "    \"is_paired\":\n",
    "    True\n",
    "}, {\n",
    "    \"group\": \"gender\",\n",
    "    \"names\": ['woman', 'man'],\n",
    "    \"sets\": [['female'], ['male']],\n",
    "    \"paper\": \"this_short\",\n",
    "    \"is_paired\": True\n",
    "}, {\n",
    "    \"group\": \"gender\",\n",
    "    \"names\": ['woman', 'man'],\n",
    "    \"sets\": [['she'], ['he']],\n",
    "    \"paper\": \"gonen\",\n",
    "    \"is_paired\": True\n",
    "}, {\n",
    "    \"group\":\n",
    "    \"gender\",\n",
    "    \"names\": ['woman', 'man'],\n",
    "    \"sets\": [[\n",
    "        'woman', 'girl', 'she', 'mother', 'daughter', 'gal', 'female', 'her',\n",
    "        'herself', 'Mary'\n",
    "    ],\n",
    "             [\n",
    "                 'man', 'boy', 'he', 'father', 'son', 'guy', 'male', 'his',\n",
    "                 'himself', 'John'\n",
    "             ]],\n",
    "    \"paper\":\n",
    "    \"bolukbasi_words\",\n",
    "    \"is_paired\":\n",
    "    True\n",
    "}, {\n",
    "    \"group\":\n",
    "    \"gender\",\n",
    "    \"names\": ['woman', 'man'],\n",
    "    \"sets\":\n",
    "    [['amy', 'joan', 'lisa', 'sarah', 'diana', 'kate', 'ann', 'donna'],\n",
    "     ['john', 'paul', 'mike', 'kevin', 'steve', 'greg', 'jeff', 'bill']],\n",
    "    \"paper\":\n",
    "    \"bolukbasi_names\",\n",
    "    \"is_paired\":\n",
    "    True\n",
    "}, {\n",
    "    \"group\":\n",
    "    \"gender\",\n",
    "    \"names\": ['woman', 'man'],\n",
    "    \"sets\": [[\n",
    "        'woman', 'women', 'she', 'her', 'her', 'hers', 'girl', 'girls',\n",
    "        'female', 'feminine'\n",
    "    ],\n",
    "             [\n",
    "                 'man', 'men', 'he', 'him', 'his', 'his', 'boy', 'boys',\n",
    "                 'male', 'masculine'\n",
    "             ]],\n",
    "    \"paper\":\n",
    "    \"kozlowski\",\n",
    "    \"is_paired\":\n",
    "    True\n",
    "}]\n",
    "\n",
    "\n",
    "race_ethnicities = ['white', 'latino', 'asian', 'middle eastern', 'black']\n",
    "\n",
    "measures += [{\n",
    "    \"sets\": [['white', 'White'], ['hispanic', 'Hispanic', 'latino', 'Latino'],\n",
    "             ['asian', 'Asian'], ['arab', 'Arab'], ['black', 'Black']],\n",
    "    \"names\":\n",
    "    race_ethnicities,\n",
    "    \"group\":\n",
    "    \"race_ethnicity\",\n",
    "    \"paper\":\n",
    "    \"this_short\",\n",
    "    \"is_paired\":\n",
    "    False\n",
    "}, {\n",
    "    \"sets\":\n",
    "    [['white', 'whites', 'White', 'Whites', 'European', 'Caucasian', 'Anglo'],\n",
    "     [\n",
    "         'hispanic', 'hispanics', 'Hispanic', 'Hispanics', 'Mexican', 'Latino',\n",
    "         'Hispanic'\n",
    "     ],\n",
    "     ['asian', 'asians', 'Asian', 'Asians', 'Chinese', 'Japanese', 'Korean'],\n",
    "     ['arab', 'arabs', 'Arab', 'Arabs', 'Muslim', 'Muslim', 'Muslim'],\n",
    "     ['black', 'blacks', 'Black', 'Blacks', 'African', 'African', 'Afro']],\n",
    "    \"names\":\n",
    "    race_ethnicities,\n",
    "    \"group\":\n",
    "    \"race_ethnicity\",\n",
    "    \"paper\":\n",
    "    \"koslowski\",\n",
    "    \"is_paired\":\n",
    "    False\n",
    "}, {\n",
    "    \"sets\": [['white', 'whites', 'european', 'caucasian', 'anglo'],\n",
    "             ['hispanic', 'hispanics', 'mexican', 'latino', 'hispanic'],\n",
    "             ['asian', 'asians', 'chinese', 'japanese', 'korean'],\n",
    "             ['arab', 'arabs', 'muslims', 'muslim', 'arab'],\n",
    "             ['black', 'blacks', 'african', 'african', 'afro']],\n",
    "    \"names\":\n",
    "    race_ethnicities,\n",
    "    \"group\":\n",
    "    \"race_ethnicity\",\n",
    "    \"paper\":\n",
    "    \"koslowski_lowercase\",\n",
    "    \"is_paired\":\n",
    "    False\n",
    "}, {\n",
    "    \"sets\":\n",
    "    [['white', 'whites', 'White', 'Whites', 'European', 'Caucasian', 'Anglo'],\n",
    "     [\n",
    "         'hispanic', 'hispanics', 'Hispanic', 'Hispanics', 'Mexican', 'latino',\n",
    "         'latinos', 'latina', 'latinas', 'Latino', 'Latinos', 'Latina',\n",
    "         'Latinas'\n",
    "     ],\n",
    "     ['asian', 'asians', 'Asian', 'Asians', 'Chinese', 'Japanese', 'Korean'],\n",
    "     [\n",
    "         'arab', 'arabs', 'Arab', 'Arabs', 'Muslim', 'Muslims', 'Muslim',\n",
    "         'Muslims'\n",
    "     ], [\n",
    "         'black',\n",
    "         'blacks',\n",
    "         'Black',\n",
    "         'Blacks',\n",
    "         'African',\n",
    "         'African',\n",
    "     ]],\n",
    "    \"names\":\n",
    "    race_ethnicities,\n",
    "    \"group\":\n",
    "    \"race_ethnicity\",\n",
    "    \"paper\":\n",
    "    \"this_long\",\n",
    "    \"is_paired\":\n",
    "    False\n",
    "}]\n",
    "\n",
    "\n",
    "measures.append({\n",
    "    \"group\":\n",
    "    \"politics\",\n",
    "    \"names\": ['republican', 'democrat'],\n",
    "    \"sets\": [['republican', 'conservative'], ['democrat', 'democratic']],\n",
    "    \"paper\":\n",
    "    \"unk\",\n",
    "    \"is_paired\":\n",
    "    True\n",
    "})\n",
    "\n",
    "measures.append({\n",
    "    \"group\":\n",
    "    \"religion\",\n",
    "    \"names\": ['religious', 'atheist'],\n",
    "    \"sets\": [['religious', 'believe in god', 'christian', 'believe in lord'], ['atheist', 'agnostic', 'skeptic']],\n",
    "    \"paper\":\n",
    "    \"unk\",\n",
    "    \"is_paired\":\n",
    "    True\n",
    "})"
   ]
  },
  {
   "cell_type": "markdown",
   "id": "e036bf16",
   "metadata": {
    "hidden": true
   },
   "source": [
    "### get poles"
   ]
  },
  {
   "cell_type": "code",
   "execution_count": 35,
   "id": "035c5ac6",
   "metadata": {
    "hidden": true,
    "scrolled": true
   },
   "outputs": [
    {
     "data": {
      "text/plain": [
       "(5,\n",
       " {'age': [['young', 'new', 'youthful'], ['old', 'aged', 'elderly']],\n",
       "  'gender': [['feminine',\n",
       "    'her',\n",
       "    'daughter',\n",
       "    'Mary',\n",
       "    'woman',\n",
       "    'herself',\n",
       "    'lisa',\n",
       "    'women',\n",
       "    'gal',\n",
       "    'donna',\n",
       "    'girl',\n",
       "    'girls',\n",
       "    'sarah',\n",
       "    'female',\n",
       "    'hers',\n",
       "    'ann',\n",
       "    'mother',\n",
       "    'she',\n",
       "    'joan',\n",
       "    'diana',\n",
       "    'amy',\n",
       "    'kate'],\n",
       "   ['kevin',\n",
       "    'him',\n",
       "    'greg',\n",
       "    'mike',\n",
       "    'he',\n",
       "    'himself',\n",
       "    'son',\n",
       "    'boy',\n",
       "    'bill',\n",
       "    'steve',\n",
       "    'jeff',\n",
       "    'male',\n",
       "    'paul',\n",
       "    'masculine',\n",
       "    'John',\n",
       "    'man',\n",
       "    'john',\n",
       "    'father',\n",
       "    'his',\n",
       "    'guy',\n",
       "    'men',\n",
       "    'boys']],\n",
       "  'race_ethnicity': [['white',\n",
       "    'european',\n",
       "    'anglo',\n",
       "    'European',\n",
       "    'Anglo',\n",
       "    'caucasian',\n",
       "    'Whites',\n",
       "    'whites',\n",
       "    'Caucasian',\n",
       "    'White'],\n",
       "   ['latina',\n",
       "    'latino',\n",
       "    'latinas',\n",
       "    'mexican',\n",
       "    'hispanics',\n",
       "    'hispanic',\n",
       "    'Hispanic',\n",
       "    'latinos',\n",
       "    'Latinos',\n",
       "    'Latina',\n",
       "    'Latinas',\n",
       "    'Mexican',\n",
       "    'Latino',\n",
       "    'Hispanics']],\n",
       "  'politics': [['republican', 'conservative'], ['democratic', 'democrat']],\n",
       "  'religion': [['believe in god', 'religious', 'believe in lord', 'christian'],\n",
       "   ['atheist', 'agnostic', 'skeptic']]})"
      ]
     },
     "execution_count": 35,
     "metadata": {},
     "output_type": "execute_result"
    }
   ],
   "source": [
    "dims = {}\n",
    "for m in measures:\n",
    "    if m['group'] in dims:\n",
    "        dims[m['group']][0].extend(m['sets'][0])\n",
    "        dims[m['group']][1].extend(m['sets'][1])\n",
    "    else:\n",
    "        dims[m['group']] = [m['sets'][0], m['sets'][1]]\n",
    "        \n",
    "for g, p in dims.items():\n",
    "    p[0] = list(set(p[0]))\n",
    "    p[1] = list(set(p[1]))\n",
    "    \n",
    "len(dims), dims"
   ]
  },
  {
   "cell_type": "code",
   "execution_count": 36,
   "id": "effc8488",
   "metadata": {
    "hidden": true
   },
   "outputs": [
    {
     "data": {
      "text/plain": [
       "{'age': [['young', 'new', 'youthful'], ['old', 'aged', 'elderly']],\n",
       " 'gender': [['feminine',\n",
       "   'her',\n",
       "   'daughter',\n",
       "   'Mary',\n",
       "   'woman',\n",
       "   'herself',\n",
       "   'lisa',\n",
       "   'women',\n",
       "   'gal',\n",
       "   'donna',\n",
       "   'girl',\n",
       "   'girls',\n",
       "   'sarah',\n",
       "   'female',\n",
       "   'hers',\n",
       "   'ann',\n",
       "   'mother',\n",
       "   'she',\n",
       "   'joan',\n",
       "   'diana',\n",
       "   'amy',\n",
       "   'kate'],\n",
       "  ['kevin',\n",
       "   'him',\n",
       "   'greg',\n",
       "   'mike',\n",
       "   'he',\n",
       "   'himself',\n",
       "   'son',\n",
       "   'boy',\n",
       "   'bill',\n",
       "   'steve',\n",
       "   'jeff',\n",
       "   'male',\n",
       "   'paul',\n",
       "   'masculine',\n",
       "   'John',\n",
       "   'man',\n",
       "   'john',\n",
       "   'father',\n",
       "   'his',\n",
       "   'guy',\n",
       "   'men',\n",
       "   'boys']],\n",
       " 'politics': [['republican', 'conservative'], ['democratic', 'democrat']],\n",
       " 'religion': [['believe in god', 'religious', 'believe in lord', 'christian'],\n",
       "  ['atheist', 'agnostic', 'skeptic']],\n",
       " 'race_ethnicity_wh': [['white',\n",
       "   'whites',\n",
       "   'White',\n",
       "   'Whites',\n",
       "   'European',\n",
       "   'Caucasian',\n",
       "   'Anglo'],\n",
       "  ['hispanic',\n",
       "   'hispanics',\n",
       "   'Hispanic',\n",
       "   'Hispanics',\n",
       "   'Mexican',\n",
       "   'latino',\n",
       "   'latinos',\n",
       "   'latina',\n",
       "   'latinas',\n",
       "   'Latino',\n",
       "   'Latinos',\n",
       "   'Latina',\n",
       "   'Latinas']],\n",
       " 'race_ethnicity_was': [['white',\n",
       "   'whites',\n",
       "   'White',\n",
       "   'Whites',\n",
       "   'European',\n",
       "   'Caucasian',\n",
       "   'Anglo'],\n",
       "  ['asian', 'asians', 'Asian', 'Asians', 'Chinese', 'Japanese', 'Korean']],\n",
       " 'race_ethnicity_wme': [['white',\n",
       "   'whites',\n",
       "   'White',\n",
       "   'Whites',\n",
       "   'European',\n",
       "   'Caucasian',\n",
       "   'Anglo'],\n",
       "  ['arab',\n",
       "   'arabs',\n",
       "   'Arab',\n",
       "   'Arabs',\n",
       "   'Muslim',\n",
       "   'Muslims',\n",
       "   'Muslim',\n",
       "   'Muslims',\n",
       "   'middle eastern',\n",
       "   'mideast',\n",
       "   'iranian']],\n",
       " 'race_ethnicity_wb': [['white',\n",
       "   'whites',\n",
       "   'White',\n",
       "   'Whites',\n",
       "   'European',\n",
       "   'Caucasian',\n",
       "   'Anglo'],\n",
       "  ['black', 'blacks', 'Black', 'Blacks', 'African', 'African']]}"
      ]
     },
     "execution_count": 36,
     "metadata": {},
     "output_type": "execute_result"
    }
   ],
   "source": [
    "dims.pop('race_ethnicity')\n",
    "\n",
    "dims['race_ethnicity_wh'] = [\n",
    "    ['white', 'whites', 'White', 'Whites', 'European', 'Caucasian', 'Anglo'],\n",
    "    [\n",
    "        'hispanic', 'hispanics', 'Hispanic', 'Hispanics', 'Mexican', 'latino',\n",
    "        'latinos', 'latina', 'latinas', 'Latino', 'Latinos', 'Latina',\n",
    "        'Latinas'\n",
    "    ]\n",
    "]\n",
    "\n",
    "dims['race_ethnicity_was'] = [\n",
    "    ['white', 'whites', 'White', 'Whites', 'European', 'Caucasian', 'Anglo'],\n",
    "    ['asian', 'asians', 'Asian', 'Asians', 'Chinese', 'Japanese', 'Korean'],\n",
    "]\n",
    "\n",
    "dims['race_ethnicity_wme'] = [[\n",
    "    'white', 'whites', 'White', 'Whites', 'European', 'Caucasian', 'Anglo'\n",
    "], [\n",
    "    'arab', 'arabs', 'Arab', 'Arabs', 'Muslim', 'Muslims', 'Muslim', 'Muslims', 'middle eastern', 'mideast', 'iranian'\n",
    "]]\n",
    "\n",
    "dims['race_ethnicity_wb'] = [[\n",
    "    'white', 'whites', 'White', 'Whites', 'European', 'Caucasian', 'Anglo'\n",
    "], [\n",
    "    'black','blacks','Black','Blacks','African','African',\n",
    "]]\n",
    "\n",
    "dims"
   ]
  },
  {
   "cell_type": "markdown",
   "id": "ad935f51",
   "metadata": {
    "hidden": true
   },
   "source": [
    "### generate embeddings"
   ]
  },
  {
   "cell_type": "code",
   "execution_count": 37,
   "id": "afdb272d",
   "metadata": {
    "hidden": true
   },
   "outputs": [],
   "source": [
    "from numpy import linalg as LA\n",
    "import numpy as np\n",
    "\n",
    "\n",
    "def normalize(wv):\n",
    "    # normalize vectors\n",
    "    norms = np.apply_along_axis(LA.norm, 1, wv)\n",
    "    wv = wv / (norms[:, np.newaxis]+1e-6)\n",
    "    return wv\n",
    "\n",
    "\n",
    "def ripa(w, b):\n",
    "    return w.dot(b)/LA.norm(b)\n",
    "\n",
    "\n",
    "def normalize_dict(wv_dict):\n",
    "    norm_voc = {}\n",
    "    embs = []\n",
    "    words = []\n",
    "    for w, e in wv_dict.items():\n",
    "        embs.append(e)\n",
    "        words.append(w)\n",
    "    embs = normalize(np.array(embs))\n",
    "    \n",
    "    for w, e in zip(words, embs):\n",
    "        norm_voc[w] = e\n",
    "    \n",
    "    return norm_voc\n",
    "\n",
    "def get_contextual_emb(model, word_list, w2v, tokenizer):\n",
    "    if w2v:\n",
    "        return model.wv.get_mean_vector(word_list)\n",
    "    \n",
    "    ctxt = ','.join(word_list)\n",
    "    if tokenizer is None:        \n",
    "        res = get_sbertbased_results_batched(model, [ctxt,], bs=512).numpy()\n",
    "    else:\n",
    "        res = get_results_batched(model, tokenizer, [ctxt,], average_k_layers=1, bs=512).numpy()\n",
    "        \n",
    "    return res[0]\n",
    "        \n",
    "\n",
    "def get_proj_embeddings(model, vocab_set, w2v=True, tokenizer=None):\n",
    "    pole_voc = {}\n",
    "    \n",
    "    print(\"getting pole embeddings\")\n",
    "    for group, poles in dims.items():\n",
    "        pole_voc[group] = get_contextual_emb(model, poles[0], w2v, tokenizer) -\\\n",
    "                                get_contextual_emb(model, poles[1], w2v, tokenizer)\n",
    "    \n",
    "    print(\"getting contextual embeddings\")\n",
    "    pi_embs = {}\n",
    "    if w2v:\n",
    "        bios = []\n",
    "        # each vocab is the whole bio\n",
    "        for ctxt in vocab_set:\n",
    "            ctxt = ctxt.split(\",\")\n",
    "            ctxt = [c.strip() for c in ctxt]\n",
    "            bios.append(ctxt)\n",
    "        embs = []\n",
    "        for pis in tqdm(bios):\n",
    "            embs.append(model.wv.get_mean_vector(pis))\n",
    "    else:\n",
    "        if tokenizer is None:        \n",
    "            embs = get_sbertbased_results_batched(model, vocab_set, bs=512).numpy()\n",
    "        else:\n",
    "            embs = get_results_batched(model, tokenizer, vocab_set, average_k_layers=3, bs=512).numpy()\n",
    "\n",
    "    for pi, e in zip(vocab_set, embs):\n",
    "        pi_embs[pi] = e \n",
    "            \n",
    "    print(\"normalizing embeddings\")\n",
    "    pole_voc = normalize_dict(pole_voc)\n",
    "    pi_embs = normalize_dict(pi_embs)\n",
    "    \n",
    "    pi_prj_embs = {}\n",
    "    print(\"calculating projections\")\n",
    "    for pi, e in tqdm(pi_embs.items()):\n",
    "        prj = []\n",
    "        for group, diff in pole_voc.items():\n",
    "            prj.append(ripa(e, diff))\n",
    "        pi_prj_embs[pi] = np.array(prj)\n",
    "        \n",
    "    return pi_prj_embs\n",
    "    "
   ]
  },
  {
   "cell_type": "code",
   "execution_count": 33,
   "id": "fec4c66d",
   "metadata": {
    "hidden": true
   },
   "outputs": [
    {
     "name": "stdout",
     "output_type": "stream",
     "text": [
      "all pis twitter: 107703\n",
      "all pis wiki: 73528\n"
     ]
    }
   ],
   "source": [
    "pis_ctxt, ys = zip(*fixed_target_twitter_clm_ds)\n",
    "pis_ctxt = list(pis_ctxt)\n",
    "pis_ctxt.extend(ys)\n",
    "all_pis_twitter = list(set(pis_ctxt))\n",
    "\n",
    "pis_ctxt, ys = zip(*fixed_target_wiki_clm_ds)\n",
    "pis_ctxt = list(pis_ctxt)\n",
    "pis_ctxt.extend(ys)\n",
    "all_pis_wiki = list(set(pis_ctxt))\n",
    "\n",
    "print(f\"all pis twitter: {len(all_pis_twitter)}\")\n",
    "print(f\"all pis wiki: {len(all_pis_wiki)}\")"
   ]
  },
  {
   "cell_type": "code",
   "execution_count": 21,
   "id": "6b420c7b",
   "metadata": {
    "hidden": true
   },
   "outputs": [
    {
     "name": "stdout",
     "output_type": "stream",
     "text": [
      "getting pole embeddings\n",
      "getting contextual embeddings\n"
     ]
    },
    {
     "name": "stderr",
     "output_type": "stream",
     "text": [
      "100%|██████████| 107703/107703 [00:03<00:00, 31825.93it/s]\n"
     ]
    },
    {
     "name": "stdout",
     "output_type": "stream",
     "text": [
      "normalizing embeddings\n",
      "calculating projections\n"
     ]
    },
    {
     "name": "stderr",
     "output_type": "stream",
     "text": [
      "100%|██████████| 107703/107703 [00:04<00:00, 22712.27it/s]\n"
     ]
    },
    {
     "name": "stdout",
     "output_type": "stream",
     "text": [
      "getting pole embeddings\n",
      "getting contextual embeddings\n"
     ]
    },
    {
     "name": "stderr",
     "output_type": "stream",
     "text": [
      "100%|██████████| 73528/73528 [00:02<00:00, 34736.57it/s]\n"
     ]
    },
    {
     "name": "stdout",
     "output_type": "stream",
     "text": [
      "normalizing embeddings\n",
      "calculating projections\n"
     ]
    },
    {
     "name": "stderr",
     "output_type": "stream",
     "text": [
      "  0%|          | 0/73528 [00:00<?, ?it/s]/scratch/12791954/ipykernel_31814/2208258390.py:13: RuntimeWarning: invalid value encountered in float_scalars\n",
      "  return w.dot(b)/LA.norm(b)\n",
      "100%|██████████| 73528/73528 [00:03<00:00, 22475.52it/s]\n"
     ]
    }
   ],
   "source": [
    "twitter_prj_embs_w2v_negsampling = get_proj_embeddings(\n",
    "    model=w2v_twitter_negsamp_model,\n",
    "    vocab_set=all_pis_twitter,\n",
    "    w2v=True,\n",
    "    tokenizer=None\n",
    ")\n",
    "\n",
    "wiki_prj_embs_w2v_cbow = get_proj_embeddings(\n",
    "    model=w2v_wiki_cbow_model,\n",
    "    vocab_set=all_pis_wiki,\n",
    "    w2v=True,\n",
    "    tokenizer=None\n",
    ")"
   ]
  },
  {
   "cell_type": "code",
   "execution_count": 46,
   "id": "e5036ce1",
   "metadata": {
    "hidden": true
   },
   "outputs": [],
   "source": [
    "import pickle\n",
    "\n",
    "def save_prj_model(model_name, model):\n",
    "    with open(model_name, 'wb') as f:\n",
    "        pickle.dump(model, f)\n",
    "        \n",
    "save_prj_model('twitter_prj_embs_w2v_negsampling', twitter_prj_embs_w2v_negsampling)\n",
    "save_prj_model('wiki_prj_embs_w2v_cbow', wiki_prj_embs_w2v_cbow)\n"
   ]
  },
  {
   "cell_type": "code",
   "execution_count": 23,
   "id": "322ac60c",
   "metadata": {
    "hidden": true
   },
   "outputs": [
    {
     "name": "stdout",
     "output_type": "stream",
     "text": [
      "getting pole embeddings\n"
     ]
    },
    {
     "name": "stderr",
     "output_type": "stream",
     "text": [
      "512it [00:02, 235.86it/s]            \n",
      "512it [00:00, 58915.88it/s]          \n",
      "512it [00:00, 1940.55it/s]           \n",
      "512it [00:00, 56106.69it/s]          \n",
      "512it [00:00, 61629.61it/s]          \n",
      "512it [00:00, 61670.31it/s]          \n",
      "512it [00:00, 61227.22it/s]          \n",
      "512it [00:00, 61223.73it/s]          \n",
      "512it [00:00, 60930.16it/s]          \n",
      "512it [00:00, 57459.29it/s]          \n",
      "512it [00:00, 60940.54it/s]          \n",
      "512it [00:00, 57582.55it/s]          \n",
      "512it [00:00, 61358.43it/s]          \n",
      "512it [00:00, 57109.37it/s]          \n",
      "512it [00:00, 59311.28it/s]          \n",
      "512it [00:00, 61499.00it/s]          \n"
     ]
    },
    {
     "name": "stdout",
     "output_type": "stream",
     "text": [
      "getting contextual embeddings\n"
     ]
    },
    {
     "name": "stderr",
     "output_type": "stream",
     "text": [
      "108032it [01:16, 1407.09it/s]                            \n"
     ]
    },
    {
     "name": "stdout",
     "output_type": "stream",
     "text": [
      "normalizing embeddings\n",
      "calculating projections\n"
     ]
    },
    {
     "name": "stderr",
     "output_type": "stream",
     "text": [
      "100%|██████████| 107703/107703 [00:04<00:00, 22505.29it/s]\n"
     ]
    },
    {
     "name": "stdout",
     "output_type": "stream",
     "text": [
      "getting pole embeddings\n"
     ]
    },
    {
     "name": "stderr",
     "output_type": "stream",
     "text": [
      "512it [00:00, 44858.87it/s]          \n",
      "512it [00:00, 60444.82it/s]          \n",
      "512it [00:00, 56429.57it/s]          \n",
      "512it [00:00, 57223.50it/s]          \n",
      "512it [00:00, 62195.43it/s]          \n",
      "512it [00:00, 62650.86it/s]          \n",
      "512it [00:00, 58084.05it/s]          \n",
      "512it [00:00, 62101.90it/s]          \n",
      "512it [00:00, 60964.76it/s]          \n",
      "512it [00:00, 57780.87it/s]          \n",
      "512it [00:00, 61711.07it/s]          \n",
      "512it [00:00, 58430.16it/s]          \n",
      "512it [00:00, 61384.74it/s]          \n",
      "512it [00:00, 57740.47it/s]          \n",
      "512it [00:00, 61562.47it/s]          \n",
      "512it [00:00, 61333.89it/s]          \n"
     ]
    },
    {
     "name": "stdout",
     "output_type": "stream",
     "text": [
      "getting contextual embeddings\n"
     ]
    },
    {
     "name": "stderr",
     "output_type": "stream",
     "text": [
      "73728it [00:41, 1770.78it/s]                           \n"
     ]
    },
    {
     "name": "stdout",
     "output_type": "stream",
     "text": [
      "normalizing embeddings\n",
      "calculating projections\n"
     ]
    },
    {
     "name": "stderr",
     "output_type": "stream",
     "text": [
      "100%|██████████| 73528/73528 [00:03<00:00, 22656.47it/s]\n"
     ]
    },
    {
     "name": "stdout",
     "output_type": "stream",
     "text": [
      "getting pole embeddings\n"
     ]
    },
    {
     "name": "stderr",
     "output_type": "stream",
     "text": [
      "512it [00:00, 3610.85it/s]           \n",
      "512it [00:00, 50034.57it/s]          \n",
      "512it [00:00, 49626.41it/s]          \n",
      "512it [00:00, 49293.78it/s]          \n",
      "512it [00:00, 51075.84it/s]          \n",
      "512it [00:00, 51097.71it/s]          \n",
      "512it [00:00, 51456.45it/s]          \n",
      "512it [00:00, 53677.70it/s]          \n",
      "512it [00:00, 51141.52it/s]          \n",
      "512it [00:00, 49905.50it/s]          \n",
      "512it [00:00, 51300.34it/s]          \n",
      "512it [00:00, 49237.27it/s]          \n",
      "512it [00:00, 53700.52it/s]          \n",
      "512it [00:00, 49177.51it/s]          \n",
      "512it [00:00, 51377.67it/s]          \n",
      "512it [00:00, 51717.93it/s]          \n"
     ]
    },
    {
     "name": "stdout",
     "output_type": "stream",
     "text": [
      "getting contextual embeddings\n"
     ]
    },
    {
     "name": "stderr",
     "output_type": "stream",
     "text": [
      "108032it [00:31, 3377.77it/s]                            \n"
     ]
    },
    {
     "name": "stdout",
     "output_type": "stream",
     "text": [
      "normalizing embeddings\n",
      "calculating projections\n"
     ]
    },
    {
     "name": "stderr",
     "output_type": "stream",
     "text": [
      "100%|██████████| 107703/107703 [00:04<00:00, 22199.76it/s]\n"
     ]
    },
    {
     "name": "stdout",
     "output_type": "stream",
     "text": [
      "getting pole embeddings\n"
     ]
    },
    {
     "name": "stderr",
     "output_type": "stream",
     "text": [
      "512it [00:00, 46381.94it/s]          \n",
      "512it [00:00, 51355.55it/s]          \n",
      "512it [00:00, 50231.19it/s]          \n",
      "512it [00:00, 49991.47it/s]          \n",
      "512it [00:00, 51613.52it/s]          \n",
      "512it [00:00, 51660.70it/s]          \n",
      "512it [00:00, 51419.49it/s]          \n",
      "512it [00:00, 51731.64it/s]          \n",
      "512it [00:00, 53298.02it/s]          \n",
      "512it [00:00, 49957.75it/s]          \n",
      "512it [00:00, 51617.24it/s]          \n",
      "512it [00:00, 49570.28it/s]          \n",
      "512it [00:00, 51557.76it/s]          \n",
      "512it [00:00, 49720.63it/s]          \n",
      "512it [00:00, 51686.81it/s]          \n",
      "512it [00:00, 51629.65it/s]          \n"
     ]
    },
    {
     "name": "stdout",
     "output_type": "stream",
     "text": [
      "getting contextual embeddings\n"
     ]
    },
    {
     "name": "stderr",
     "output_type": "stream",
     "text": [
      "73728it [00:23, 3203.97it/s]                           \n"
     ]
    },
    {
     "name": "stdout",
     "output_type": "stream",
     "text": [
      "normalizing embeddings\n",
      "calculating projections\n"
     ]
    },
    {
     "name": "stderr",
     "output_type": "stream",
     "text": [
      "100%|██████████| 73528/73528 [00:03<00:00, 22216.84it/s]\n"
     ]
    },
    {
     "name": "stdout",
     "output_type": "stream",
     "text": [
      "getting pole embeddings\n"
     ]
    },
    {
     "name": "stderr",
     "output_type": "stream",
     "text": [
      "512it [00:00, 33164.23it/s]          \n",
      "512it [00:00, 60358.18it/s]          \n",
      "512it [00:00, 51722.91it/s]          \n",
      "512it [00:00, 55556.57it/s]          \n",
      "512it [00:00, 53965.01it/s]          \n",
      "512it [00:00, 61988.96it/s]          \n",
      "512it [00:00, 59925.32it/s]          \n",
      "512it [00:00, 62327.20it/s]          \n",
      "512it [00:00, 55934.25it/s]          \n",
      "512it [00:00, 56575.26it/s]          \n",
      "512it [00:00, 58232.11it/s]          \n",
      "512it [00:00, 57703.24it/s]          \n",
      "512it [00:00, 58420.62it/s]          \n",
      "512it [00:00, 57283.03it/s]          \n",
      "512it [00:00, 58060.50it/s]          \n",
      "512it [00:00, 62053.45it/s]          \n"
     ]
    },
    {
     "name": "stdout",
     "output_type": "stream",
     "text": [
      "getting contextual embeddings\n"
     ]
    },
    {
     "name": "stderr",
     "output_type": "stream",
     "text": [
      "108032it [01:10, 1531.85it/s]                            \n"
     ]
    },
    {
     "name": "stdout",
     "output_type": "stream",
     "text": [
      "normalizing embeddings\n",
      "calculating projections\n"
     ]
    },
    {
     "name": "stderr",
     "output_type": "stream",
     "text": [
      "100%|██████████| 107703/107703 [00:04<00:00, 22566.86it/s]\n"
     ]
    },
    {
     "name": "stdout",
     "output_type": "stream",
     "text": [
      "getting pole embeddings\n"
     ]
    },
    {
     "name": "stderr",
     "output_type": "stream",
     "text": [
      "512it [00:00, 49125.76it/s]          \n",
      "512it [00:00, 61027.13it/s]          \n",
      "512it [00:00, 57577.92it/s]          \n",
      "512it [00:00, 58899.72it/s]          \n",
      "512it [00:00, 61558.94it/s]          \n",
      "512it [00:00, 61833.68it/s]          \n",
      "512it [00:00, 61304.13it/s]          \n",
      "512it [00:00, 61872.87it/s]          \n",
      "512it [00:00, 51943.10it/s]          \n",
      "512it [00:00, 59455.79it/s]          \n",
      "512it [00:00, 58487.45it/s]          \n",
      "512it [00:00, 59001.67it/s]          \n",
      "512it [00:00, 58540.06it/s]          \n",
      "512it [00:00, 58312.75it/s]          \n",
      "512it [00:00, 58082.48it/s]          \n",
      "512it [00:00, 62209.84it/s]          \n"
     ]
    },
    {
     "name": "stdout",
     "output_type": "stream",
     "text": [
      "getting contextual embeddings\n"
     ]
    },
    {
     "name": "stderr",
     "output_type": "stream",
     "text": [
      "73728it [00:35, 2069.80it/s]                           \n"
     ]
    },
    {
     "name": "stdout",
     "output_type": "stream",
     "text": [
      "normalizing embeddings\n",
      "calculating projections\n"
     ]
    },
    {
     "name": "stderr",
     "output_type": "stream",
     "text": [
      "100%|██████████| 73528/73528 [00:03<00:00, 22669.98it/s]\n"
     ]
    },
    {
     "name": "stdout",
     "output_type": "stream",
     "text": [
      "getting pole embeddings\n"
     ]
    },
    {
     "name": "stderr",
     "output_type": "stream",
     "text": [
      "512it [00:00, 3924.67it/s]           \n",
      "512it [00:00, 50584.97it/s]          \n",
      "512it [00:00, 48943.27it/s]          \n",
      "512it [00:00, 49763.26it/s]          \n",
      "512it [00:00, 51717.93it/s]          \n",
      "512it [00:00, 51633.37it/s]          \n",
      "512it [00:00, 51466.32it/s]          \n",
      "512it [00:00, 51566.42it/s]          \n",
      "512it [00:00, 51805.26it/s]          \n",
      "512it [00:00, 50066.06it/s]          \n",
      "512it [00:00, 51747.84it/s]          \n",
      "512it [00:00, 49702.22it/s]          \n",
      "512it [00:00, 51661.94it/s]          \n",
      "512it [00:00, 49891.59it/s]          \n",
      "512it [00:00, 51705.48it/s]          \n",
      "512it [00:00, 54133.69it/s]          \n"
     ]
    },
    {
     "name": "stdout",
     "output_type": "stream",
     "text": [
      "getting contextual embeddings\n"
     ]
    },
    {
     "name": "stderr",
     "output_type": "stream",
     "text": [
      "108032it [00:31, 3474.41it/s]                            \n"
     ]
    },
    {
     "name": "stdout",
     "output_type": "stream",
     "text": [
      "normalizing embeddings\n",
      "calculating projections\n"
     ]
    },
    {
     "name": "stderr",
     "output_type": "stream",
     "text": [
      "100%|██████████| 107703/107703 [00:04<00:00, 21843.45it/s]\n"
     ]
    },
    {
     "name": "stdout",
     "output_type": "stream",
     "text": [
      "getting pole embeddings\n"
     ]
    },
    {
     "name": "stderr",
     "output_type": "stream",
     "text": [
      "512it [00:00, 2534.94it/s]           \n",
      "512it [00:00, 52446.73it/s]          \n",
      "512it [00:00, 48521.93it/s]          \n",
      "512it [00:00, 49330.02it/s]          \n",
      "512it [00:00, 51896.66it/s]          \n",
      "512it [00:00, 51344.50it/s]          \n",
      "512it [00:00, 53486.52it/s]          \n",
      "512it [00:00, 51218.37it/s]          \n",
      "512it [00:00, 53550.54it/s]          \n",
      "512it [00:00, 51965.73it/s]          \n",
      "512it [00:00, 52723.57it/s]          \n",
      "512it [00:00, 49290.39it/s]          \n",
      "512it [00:00, 53740.83it/s]          \n",
      "512it [00:00, 49345.89it/s]          \n",
      "512it [00:00, 53845.94it/s]          \n",
      "512it [00:00, 51484.83it/s]          \n"
     ]
    },
    {
     "name": "stdout",
     "output_type": "stream",
     "text": [
      "getting contextual embeddings\n"
     ]
    },
    {
     "name": "stderr",
     "output_type": "stream",
     "text": [
      "73728it [00:23, 3203.12it/s]                           \n"
     ]
    },
    {
     "name": "stdout",
     "output_type": "stream",
     "text": [
      "normalizing embeddings\n",
      "calculating projections\n"
     ]
    },
    {
     "name": "stderr",
     "output_type": "stream",
     "text": [
      "100%|██████████| 73528/73528 [00:03<00:00, 22171.15it/s]\n"
     ]
    },
    {
     "name": "stdout",
     "output_type": "stream",
     "text": [
      "getting pole embeddings\n"
     ]
    },
    {
     "name": "stderr",
     "output_type": "stream",
     "text": [
      "512it [00:00, 39174.79it/s]          \n",
      "512it [00:00, 61319.88it/s]          \n",
      "512it [00:00, 57109.37it/s]          \n",
      "512it [00:00, 58450.83it/s]          \n",
      "512it [00:00, 63750.03it/s]          \n",
      "512it [00:00, 63230.09it/s]          \n",
      "512it [00:00, 62643.55it/s]          \n",
      "512it [00:00, 62762.56it/s]          \n",
      "512it [00:00, 62579.66it/s]          \n",
      "512it [00:00, 59319.48it/s]          \n",
      "512it [00:00, 62441.37it/s]          \n",
      "512it [00:00, 59855.17it/s]          \n",
      "512it [00:00, 62472.25it/s]          \n",
      "512it [00:00, 59475.55it/s]          \n",
      "512it [00:00, 63074.09it/s]          \n",
      "512it [00:00, 63405.58it/s]          \n"
     ]
    },
    {
     "name": "stdout",
     "output_type": "stream",
     "text": [
      "getting contextual embeddings\n"
     ]
    },
    {
     "name": "stderr",
     "output_type": "stream",
     "text": [
      "108032it [01:15, 1422.28it/s]                            \n"
     ]
    },
    {
     "name": "stdout",
     "output_type": "stream",
     "text": [
      "normalizing embeddings\n",
      "calculating projections\n"
     ]
    },
    {
     "name": "stderr",
     "output_type": "stream",
     "text": [
      "100%|██████████| 107703/107703 [00:04<00:00, 22456.72it/s]\n"
     ]
    },
    {
     "name": "stdout",
     "output_type": "stream",
     "text": [
      "getting pole embeddings\n"
     ]
    },
    {
     "name": "stderr",
     "output_type": "stream",
     "text": [
      "512it [00:00, 42462.21it/s]          \n",
      "512it [00:00, 61844.36it/s]          \n",
      "512it [00:00, 57568.66it/s]          \n",
      "512it [00:00, 58549.64it/s]          \n",
      "512it [00:00, 63356.94it/s]          \n",
      "512it [00:00, 63246.85it/s]          \n",
      "512it [00:00, 62134.24it/s]          \n",
      "512it [00:00, 63220.79it/s]          \n",
      "512it [00:00, 62060.62it/s]          \n",
      "512it [00:00, 59301.46it/s]          \n",
      "512it [00:00, 62499.52it/s]          \n",
      "512it [00:00, 59634.10it/s]          \n",
      "512it [00:00, 62966.83it/s]          \n",
      "512it [00:00, 59055.21it/s]          \n",
      "512it [00:00, 62272.98it/s]          \n",
      "512it [00:00, 63381.25it/s]          \n"
     ]
    },
    {
     "name": "stdout",
     "output_type": "stream",
     "text": [
      "getting contextual embeddings\n"
     ]
    },
    {
     "name": "stderr",
     "output_type": "stream",
     "text": [
      "73728it [00:40, 1838.52it/s]                           \n"
     ]
    },
    {
     "name": "stdout",
     "output_type": "stream",
     "text": [
      "normalizing embeddings\n",
      "calculating projections\n"
     ]
    },
    {
     "name": "stderr",
     "output_type": "stream",
     "text": [
      "100%|██████████| 73528/73528 [00:03<00:00, 22626.26it/s]\n"
     ]
    }
   ],
   "source": [
    "twitter_prj_embs_bert = get_proj_embeddings(\n",
    "    model=bert_model,\n",
    "    vocab_set=all_pis_twitter,\n",
    "    w2v=False,\n",
    "    tokenizer=bert_tokenizer\n",
    ")\n",
    "\n",
    "wiki_prj_embs_bert = get_proj_embeddings(\n",
    "    model=bert_model,\n",
    "    vocab_set=all_pis_wiki,\n",
    "    w2v=False,\n",
    "    tokenizer=bert_tokenizer\n",
    ")\n",
    "\n",
    "twitter_prj_embs_sbert = get_proj_embeddings(\n",
    "    model=sbert_model,\n",
    "    vocab_set=all_pis_twitter,\n",
    "    w2v=False,\n",
    "    tokenizer=None\n",
    ")\n",
    "\n",
    "wiki_prj_embs_sbert = get_proj_embeddings(\n",
    "    model=sbert_model,\n",
    "    vocab_set=all_pis_wiki,\n",
    "    w2v=False,\n",
    "    tokenizer=None\n",
    ")\n",
    "\n",
    "twitter_prj_embs_roberta = get_proj_embeddings(\n",
    "    model=roberta_model,\n",
    "    vocab_set=all_pis_twitter,\n",
    "    w2v=False,\n",
    "    tokenizer=roberta_tokenizer\n",
    ")\n",
    "\n",
    "wiki_prj_embs_roberta = get_proj_embeddings(\n",
    "    model=roberta_model,\n",
    "    vocab_set=all_pis_wiki,\n",
    "    w2v=False,\n",
    "    tokenizer=roberta_tokenizer\n",
    ")\n",
    "\n",
    "twitter_prj_embs_ftsbert = get_proj_embeddings(\n",
    "    model=twitter_ft_sbert,\n",
    "    vocab_set=all_pis_twitter,\n",
    "    w2v=False,\n",
    "    tokenizer=None\n",
    ")\n",
    "\n",
    "wiki_prj_embs_ftsbert = get_proj_embeddings(\n",
    "    model=wiki_ft_sbert,\n",
    "    vocab_set=all_pis_wiki,\n",
    "    w2v=False,\n",
    "    tokenizer=None\n",
    ")\n",
    "\n",
    "twitter_prj_embs_ftbert = get_proj_embeddings(\n",
    "    model=bert_ft_twitter_model,\n",
    "    vocab_set=all_pis_twitter,\n",
    "    w2v=False,\n",
    "    tokenizer=bert_tokenizer\n",
    ")\n",
    "\n",
    "wiki_prj_embs_ftbert = get_proj_embeddings(\n",
    "    model=bert_ft_wiki_model,\n",
    "    vocab_set=all_pis_wiki,\n",
    "    w2v=False,\n",
    "    tokenizer=bert_tokenizer\n",
    ")"
   ]
  },
  {
   "cell_type": "code",
   "execution_count": 24,
   "id": "225a6da8",
   "metadata": {
    "hidden": true
   },
   "outputs": [],
   "source": [
    "save_prj_model('twitter_prj_embs_bert', twitter_prj_embs_bert)\n",
    "save_prj_model('wiki_prj_embs_bert', wiki_prj_embs_bert)\n",
    "\n",
    "save_prj_model('twitter_prj_embs_sbert', twitter_prj_embs_sbert)\n",
    "save_prj_model('wiki_prj_embs_sbert', wiki_prj_embs_sbert)\n",
    "\n",
    "save_prj_model('twitter_prj_embs_roberta', twitter_prj_embs_roberta)\n",
    "save_prj_model('wiki_prj_embs_roberta', wiki_prj_embs_roberta)\n",
    "\n",
    "save_prj_model('twitter_prj_embs_ftbert', twitter_prj_embs_ftbert)\n",
    "save_prj_model('wiki_prj_embs_ftbert', wiki_prj_embs_ftbert)\n",
    "\n",
    "save_prj_model('twitter_prj_embs_ftsbert', twitter_prj_embs_ftsbert)\n",
    "save_prj_model('wiki_prj_embs_ftsbert', wiki_prj_embs_ftsbert)"
   ]
  },
  {
   "cell_type": "code",
   "execution_count": 25,
   "id": "734ceb80",
   "metadata": {
    "hidden": true
   },
   "outputs": [
    {
     "data": {
      "text/plain": [
       "array([ 0.01169994,  0.04557462,  0.08548136, -0.02985609, -0.01748994,\n",
       "       -0.04943321,  0.04168456,  0.02365859], dtype=float32)"
      ]
     },
     "execution_count": 25,
     "metadata": {},
     "output_type": "execute_result"
    }
   ],
   "source": [
    "twitter_prj_embs_bert['athlete']"
   ]
  },
  {
   "cell_type": "markdown",
   "id": "30e576a7",
   "metadata": {
    "hidden": true
   },
   "source": [
    "### get projected embeddings of a selected set of phrases"
   ]
  },
  {
   "cell_type": "code",
   "execution_count": 41,
   "id": "90e04efa",
   "metadata": {
    "hidden": true
   },
   "outputs": [
    {
     "data": {
      "text/plain": [
       "(['solicitor',\n",
       "  'ballerina',\n",
       "  'negotiator',\n",
       "  'strategist',\n",
       "  'sergeant',\n",
       "  'neurologist',\n",
       "  'nurse',\n",
       "  'musician',\n",
       "  'professor emeritus',\n",
       "  'employee'],\n",
       " 320)"
      ]
     },
     "execution_count": 41,
     "metadata": {},
     "output_type": "execute_result"
    }
   ],
   "source": [
    "with open('data/gender.txt', 'r') as f:\n",
    "    pis = f.readlines()\n",
    "    pis = [p.strip() for p in pis]\n",
    "    \n",
    "pis[:10], len(pis)"
   ]
  },
  {
   "cell_type": "code",
   "execution_count": 47,
   "id": "46aee294",
   "metadata": {
    "hidden": true
   },
   "outputs": [
    {
     "name": "stdout",
     "output_type": "stream",
     "text": [
      "getting pole embeddings\n",
      "getting contextual embeddings\n"
     ]
    },
    {
     "name": "stderr",
     "output_type": "stream",
     "text": [
      "100%|██████████| 320/320 [00:00<00:00, 74309.45it/s]\n"
     ]
    },
    {
     "name": "stdout",
     "output_type": "stream",
     "text": [
      "normalizing embeddings\n",
      "calculating projections\n"
     ]
    },
    {
     "name": "stderr",
     "output_type": "stream",
     "text": [
      "100%|██████████| 320/320 [00:00<00:00, 22346.53it/s]\n"
     ]
    },
    {
     "name": "stdout",
     "output_type": "stream",
     "text": [
      "getting pole embeddings\n",
      "getting contextual embeddings\n"
     ]
    },
    {
     "name": "stderr",
     "output_type": "stream",
     "text": [
      "100%|██████████| 320/320 [00:00<00:00, 63574.14it/s]\n"
     ]
    },
    {
     "name": "stdout",
     "output_type": "stream",
     "text": [
      "normalizing embeddings\n",
      "calculating projections\n"
     ]
    },
    {
     "name": "stderr",
     "output_type": "stream",
     "text": [
      "  0%|          | 0/320 [00:00<?, ?it/s]/scratch/12791954/ipykernel_36656/2208258390.py:13: RuntimeWarning: invalid value encountered in float_scalars\n",
      "  return w.dot(b)/LA.norm(b)\n",
      "100%|██████████| 320/320 [00:00<00:00, 19162.46it/s]\n"
     ]
    }
   ],
   "source": [
    "twitter_prj_embs_w2v_negsampling = get_proj_embeddings(\n",
    "    model=w2v_twitter_negsamp_model,\n",
    "    vocab_set=pis,\n",
    "    w2v=True,\n",
    "    tokenizer=None\n",
    ")\n",
    "\n",
    "wiki_prj_embs_w2v_cbow = get_proj_embeddings(\n",
    "    model=w2v_wiki_cbow_model,\n",
    "    vocab_set=pis,\n",
    "    w2v=True,\n",
    "    tokenizer=None\n",
    ")\n",
    "save_prj_model('twitter_w2v_genderset', twitter_prj_embs_w2v_negsampling)\n",
    "save_prj_model('wiki_w2v_genderset', wiki_prj_embs_w2v_cbow)\n"
   ]
  },
  {
   "cell_type": "code",
   "execution_count": 48,
   "id": "a08854c4",
   "metadata": {
    "hidden": true
   },
   "outputs": [
    {
     "name": "stdout",
     "output_type": "stream",
     "text": [
      "getting pole embeddings\n"
     ]
    },
    {
     "name": "stderr",
     "output_type": "stream",
     "text": [
      "512it [00:00, 30800.22it/s]          \n",
      "512it [00:00, 32381.12it/s]          \n",
      "512it [00:00, 32676.26it/s]          \n",
      "512it [00:00, 41209.80it/s]          \n",
      "512it [00:00, 34017.93it/s]          \n",
      "512it [00:00, 32327.99it/s]          \n",
      "512it [00:00, 32382.59it/s]          \n",
      "512it [00:00, 35414.23it/s]          \n",
      "512it [00:00, 32677.25it/s]          \n",
      "512it [00:00, 31856.10it/s]          \n",
      "512it [00:00, 32656.88it/s]          \n",
      "512it [00:00, 32392.36it/s]          \n",
      "512it [00:00, 35698.58it/s]          \n",
      "512it [00:00, 45962.02it/s]          \n",
      "512it [00:00, 34954.24it/s]          \n",
      "512it [00:00, 32868.31it/s]          \n"
     ]
    },
    {
     "name": "stdout",
     "output_type": "stream",
     "text": [
      "getting contextual embeddings\n"
     ]
    },
    {
     "name": "stderr",
     "output_type": "stream",
     "text": [
      "512it [00:00, 3834.70it/s]             \n"
     ]
    },
    {
     "name": "stdout",
     "output_type": "stream",
     "text": [
      "normalizing embeddings\n",
      "calculating projections\n"
     ]
    },
    {
     "name": "stderr",
     "output_type": "stream",
     "text": [
      "100%|██████████| 320/320 [00:00<00:00, 22659.28it/s]\n"
     ]
    },
    {
     "name": "stdout",
     "output_type": "stream",
     "text": [
      "getting pole embeddings\n"
     ]
    },
    {
     "name": "stderr",
     "output_type": "stream",
     "text": [
      "512it [00:00, 30893.71it/s]          \n",
      "512it [00:00, 32742.02it/s]          \n",
      "512it [00:00, 32095.59it/s]          \n",
      "512it [00:00, 32009.00it/s]          \n",
      "512it [00:00, 42623.18it/s]          \n",
      "512it [00:00, 47912.44it/s]          \n",
      "512it [00:00, 34417.01it/s]          \n",
      "512it [00:00, 32949.50it/s]          \n",
      "512it [00:00, 33070.26it/s]          \n",
      "512it [00:00, 36049.75it/s]          \n",
      "512it [00:00, 32788.01it/s]          \n",
      "512it [00:00, 32380.15it/s]          \n",
      "512it [00:00, 32719.57it/s]          \n",
      "512it [00:00, 32592.94it/s]          \n",
      "512it [00:00, 41668.77it/s]          \n",
      "512it [00:00, 47128.05it/s]          \n"
     ]
    },
    {
     "name": "stdout",
     "output_type": "stream",
     "text": [
      "getting contextual embeddings\n"
     ]
    },
    {
     "name": "stderr",
     "output_type": "stream",
     "text": [
      "512it [00:00, 3871.24it/s]             \n"
     ]
    },
    {
     "name": "stdout",
     "output_type": "stream",
     "text": [
      "normalizing embeddings\n",
      "calculating projections\n"
     ]
    },
    {
     "name": "stderr",
     "output_type": "stream",
     "text": [
      "100%|██████████| 320/320 [00:00<00:00, 21569.05it/s]\n"
     ]
    },
    {
     "name": "stdout",
     "output_type": "stream",
     "text": [
      "getting pole embeddings\n"
     ]
    },
    {
     "name": "stderr",
     "output_type": "stream",
     "text": [
      "512it [00:00, 26795.65it/s]          \n",
      "512it [00:00, 31267.05it/s]          \n",
      "512it [00:00, 32241.11it/s]          \n",
      "512it [00:00, 32198.09it/s]          \n",
      "512it [00:00, 33563.87it/s]          \n",
      "512it [00:00, 33434.28it/s]          \n",
      "512it [00:00, 41300.94it/s]          \n",
      "512it [00:00, 33604.31it/s]          \n",
      "512it [00:00, 33209.88it/s]          \n",
      "512it [00:00, 32379.66it/s]          \n",
      "512it [00:00, 36575.33it/s]          \n",
      "512it [00:00, 28602.22it/s]          \n",
      "512it [00:00, 32916.67it/s]          \n",
      "512it [00:00, 28454.42it/s]          \n",
      "512it [00:00, 33247.41it/s]          \n",
      "512it [00:00, 47837.73it/s]          \n"
     ]
    },
    {
     "name": "stdout",
     "output_type": "stream",
     "text": [
      "getting contextual embeddings\n"
     ]
    },
    {
     "name": "stderr",
     "output_type": "stream",
     "text": [
      "512it [00:00, 3359.05it/s]             \n"
     ]
    },
    {
     "name": "stdout",
     "output_type": "stream",
     "text": [
      "normalizing embeddings\n",
      "calculating projections\n"
     ]
    },
    {
     "name": "stderr",
     "output_type": "stream",
     "text": [
      "100%|██████████| 320/320 [00:00<00:00, 22245.42it/s]\n"
     ]
    },
    {
     "name": "stdout",
     "output_type": "stream",
     "text": [
      "getting pole embeddings\n"
     ]
    },
    {
     "name": "stderr",
     "output_type": "stream",
     "text": [
      "512it [00:00, 34192.88it/s]          \n",
      "512it [00:00, 33346.54it/s]          \n",
      "512it [00:00, 32623.14it/s]          \n",
      "512it [00:00, 30504.03it/s]          \n",
      "512it [00:00, 33271.62it/s]          \n",
      "512it [00:00, 33096.77it/s]          \n",
      "512it [00:00, 33111.05it/s]          \n",
      "512it [00:00, 33071.79it/s]          \n",
      "512it [00:00, 45610.60it/s]          \n",
      "512it [00:00, 33667.01it/s]          \n",
      "512it [00:00, 33350.68it/s]          \n",
      "512it [00:00, 28308.51it/s]          \n",
      "512it [00:00, 37386.55it/s]          \n",
      "512it [00:00, 32778.50it/s]          \n",
      "512it [00:00, 33222.72it/s]          \n",
      "512it [00:00, 33089.12it/s]          \n"
     ]
    },
    {
     "name": "stdout",
     "output_type": "stream",
     "text": [
      "getting contextual embeddings\n"
     ]
    },
    {
     "name": "stderr",
     "output_type": "stream",
     "text": [
      "512it [00:00, 3386.50it/s]             \n"
     ]
    },
    {
     "name": "stdout",
     "output_type": "stream",
     "text": [
      "normalizing embeddings\n",
      "calculating projections\n"
     ]
    },
    {
     "name": "stderr",
     "output_type": "stream",
     "text": [
      "100%|██████████| 320/320 [00:00<00:00, 22304.20it/s]\n"
     ]
    },
    {
     "name": "stdout",
     "output_type": "stream",
     "text": [
      "getting pole embeddings\n"
     ]
    },
    {
     "name": "stderr",
     "output_type": "stream",
     "text": [
      "512it [00:00, 40942.66it/s]          \n",
      "512it [00:00, 52905.41it/s]          \n",
      "512it [00:00, 43412.45it/s]          \n",
      "512it [00:00, 37596.66it/s]          \n",
      "512it [00:00, 39344.17it/s]          \n",
      "512it [00:00, 39203.40it/s]          \n",
      "512it [00:00, 44201.46it/s]          \n",
      "512it [00:00, 38602.28it/s]          \n",
      "512it [00:00, 38467.45it/s]          \n",
      "512it [00:00, 37846.46it/s]          \n",
      "512it [00:00, 38721.31it/s]          \n",
      "512it [00:00, 38708.05it/s]          \n",
      "512it [00:00, 49675.77it/s]          \n",
      "512it [00:00, 45994.51it/s]          \n",
      "512it [00:00, 41838.44it/s]          \n",
      "512it [00:00, 38876.22it/s]          \n"
     ]
    },
    {
     "name": "stdout",
     "output_type": "stream",
     "text": [
      "getting contextual embeddings\n"
     ]
    },
    {
     "name": "stderr",
     "output_type": "stream",
     "text": [
      "512it [00:00, 4317.70it/s]             \n"
     ]
    },
    {
     "name": "stdout",
     "output_type": "stream",
     "text": [
      "normalizing embeddings\n",
      "calculating projections\n"
     ]
    },
    {
     "name": "stderr",
     "output_type": "stream",
     "text": [
      "100%|██████████| 320/320 [00:00<00:00, 22095.27it/s]\n"
     ]
    },
    {
     "name": "stdout",
     "output_type": "stream",
     "text": [
      "getting pole embeddings\n"
     ]
    },
    {
     "name": "stderr",
     "output_type": "stream",
     "text": [
      "512it [00:00, 41634.84it/s]          \n",
      "512it [00:00, 37982.34it/s]          \n",
      "512it [00:00, 36894.54it/s]          \n",
      "512it [00:00, 37367.04it/s]          \n",
      "512it [00:00, 38913.56it/s]          \n",
      "512it [00:00, 38693.40it/s]          \n",
      "512it [00:00, 43875.44it/s]          \n",
      "512it [00:00, 47092.91it/s]          \n",
      "512it [00:00, 42701.15it/s]          \n",
      "512it [00:00, 36877.43it/s]          \n",
      "512it [00:00, 38682.25it/s]          \n",
      "512it [00:00, 33240.72it/s]          \n",
      "512it [00:00, 39196.24it/s]          \n",
      "512it [00:00, 38116.50it/s]          \n",
      "512it [00:00, 38652.31it/s]          \n",
      "512it [00:00, 39446.07it/s]          \n"
     ]
    },
    {
     "name": "stdout",
     "output_type": "stream",
     "text": [
      "getting contextual embeddings\n"
     ]
    },
    {
     "name": "stderr",
     "output_type": "stream",
     "text": [
      "512it [00:00, 4892.21it/s]             \n"
     ]
    },
    {
     "name": "stdout",
     "output_type": "stream",
     "text": [
      "normalizing embeddings\n",
      "calculating projections\n"
     ]
    },
    {
     "name": "stderr",
     "output_type": "stream",
     "text": [
      "100%|██████████| 320/320 [00:00<00:00, 22469.23it/s]\n"
     ]
    },
    {
     "name": "stdout",
     "output_type": "stream",
     "text": [
      "getting pole embeddings\n"
     ]
    },
    {
     "name": "stderr",
     "output_type": "stream",
     "text": [
      "512it [00:00, 30837.81it/s]          \n",
      "512it [00:00, 46581.14it/s]          \n",
      "512it [00:00, 32318.26it/s]          \n",
      "512it [00:00, 30468.97it/s]          \n",
      "512it [00:00, 33513.06it/s]          \n",
      "512it [00:00, 31110.78it/s]          \n",
      "512it [00:00, 33242.78it/s]          \n",
      "512it [00:00, 33556.00it/s]          \n",
      "512it [00:00, 33002.16it/s]          \n",
      "512it [00:00, 32564.27it/s]          \n",
      "512it [00:00, 36348.13it/s]          \n",
      "512it [00:00, 33695.53it/s]          \n",
      "512it [00:00, 30796.69it/s]          \n",
      "512it [00:00, 28560.76it/s]          \n",
      "512it [00:00, 31360.66it/s]          \n",
      "512it [00:00, 32821.09it/s]          \n"
     ]
    },
    {
     "name": "stdout",
     "output_type": "stream",
     "text": [
      "getting contextual embeddings\n"
     ]
    },
    {
     "name": "stderr",
     "output_type": "stream",
     "text": [
      "512it [00:00, 3258.71it/s]             \n"
     ]
    },
    {
     "name": "stdout",
     "output_type": "stream",
     "text": [
      "normalizing embeddings\n",
      "calculating projections\n"
     ]
    },
    {
     "name": "stderr",
     "output_type": "stream",
     "text": [
      "100%|██████████| 320/320 [00:00<00:00, 22171.56it/s]\n"
     ]
    },
    {
     "name": "stdout",
     "output_type": "stream",
     "text": [
      "getting pole embeddings\n"
     ]
    },
    {
     "name": "stderr",
     "output_type": "stream",
     "text": [
      "512it [00:00, 2154.94it/s]           \n",
      "512it [00:00, 34326.78it/s]          \n",
      "512it [00:00, 32154.22it/s]          \n",
      "512it [00:00, 32401.64it/s]          \n",
      "512it [00:00, 28845.42it/s]          \n",
      "512it [00:00, 44673.16it/s]          \n",
      "512it [00:00, 28855.11it/s]          \n",
      "512it [00:00, 33360.01it/s]          \n",
      "512it [00:00, 33380.23it/s]          \n",
      "512it [00:00, 36185.82it/s]          \n",
      "512it [00:00, 33192.43it/s]          \n",
      "512it [00:00, 28433.32it/s]          \n",
      "512it [00:00, 28590.80it/s]          \n",
      "512it [00:00, 28426.93it/s]          \n",
      "512it [00:00, 44210.56it/s]          \n",
      "512it [00:00, 33907.82it/s]          \n"
     ]
    },
    {
     "name": "stdout",
     "output_type": "stream",
     "text": [
      "getting contextual embeddings\n"
     ]
    },
    {
     "name": "stderr",
     "output_type": "stream",
     "text": [
      "512it [00:00, 3310.61it/s]             \n"
     ]
    },
    {
     "name": "stdout",
     "output_type": "stream",
     "text": [
      "normalizing embeddings\n",
      "calculating projections\n"
     ]
    },
    {
     "name": "stderr",
     "output_type": "stream",
     "text": [
      "100%|██████████| 320/320 [00:00<00:00, 21975.53it/s]\n"
     ]
    },
    {
     "name": "stdout",
     "output_type": "stream",
     "text": [
      "getting pole embeddings\n"
     ]
    },
    {
     "name": "stderr",
     "output_type": "stream",
     "text": [
      "512it [00:00, 31028.97it/s]          \n",
      "512it [00:00, 38499.86it/s]          \n",
      "512it [00:00, 31508.82it/s]          \n",
      "512it [00:00, 31869.81it/s]          \n",
      "512it [00:00, 33090.65it/s]          \n",
      "512it [00:00, 32712.59it/s]          \n",
      "512it [00:00, 40494.11it/s]          \n",
      "512it [00:00, 47571.74it/s]          \n",
      "512it [00:00, 34556.02it/s]          \n",
      "512it [00:00, 32328.96it/s]          \n",
      "512it [00:00, 32538.12it/s]          \n",
      "512it [00:00, 36868.57it/s]          \n",
      "512it [00:00, 33308.26it/s]          \n",
      "512it [00:00, 32335.78it/s]          \n",
      "512it [00:00, 32880.89it/s]          \n",
      "512it [00:00, 32605.81it/s]          \n"
     ]
    },
    {
     "name": "stdout",
     "output_type": "stream",
     "text": [
      "getting contextual embeddings\n"
     ]
    },
    {
     "name": "stderr",
     "output_type": "stream",
     "text": [
      "512it [00:00, 4157.70it/s]             \n"
     ]
    },
    {
     "name": "stdout",
     "output_type": "stream",
     "text": [
      "normalizing embeddings\n",
      "calculating projections\n"
     ]
    },
    {
     "name": "stderr",
     "output_type": "stream",
     "text": [
      "100%|██████████| 320/320 [00:00<00:00, 21706.84it/s]\n"
     ]
    },
    {
     "name": "stdout",
     "output_type": "stream",
     "text": [
      "getting pole embeddings\n"
     ]
    },
    {
     "name": "stderr",
     "output_type": "stream",
     "text": [
      "512it [00:00, 31423.06it/s]          \n",
      "512it [00:00, 33095.24it/s]          \n",
      "512it [00:00, 31968.97it/s]          \n",
      "512it [00:00, 34784.95it/s]          \n",
      "512it [00:00, 32825.60it/s]          \n",
      "512it [00:00, 32826.60it/s]          \n",
      "512it [00:00, 32615.22it/s]          \n",
      "512it [00:00, 32814.06it/s]          \n",
      "512it [00:00, 36780.80it/s]          \n",
      "512it [00:00, 42036.64it/s]          \n",
      "512it [00:00, 34702.88it/s]          \n",
      "512it [00:00, 32629.09it/s]          \n",
      "512it [00:00, 32727.05it/s]          \n",
      "512it [00:00, 35914.70it/s]          \n",
      "512it [00:00, 32681.23it/s]          \n",
      "512it [00:00, 32913.64it/s]          \n"
     ]
    },
    {
     "name": "stdout",
     "output_type": "stream",
     "text": [
      "getting contextual embeddings\n"
     ]
    },
    {
     "name": "stderr",
     "output_type": "stream",
     "text": [
      "512it [00:00, 10001.55it/s]            \n"
     ]
    },
    {
     "name": "stdout",
     "output_type": "stream",
     "text": [
      "normalizing embeddings\n",
      "calculating projections\n"
     ]
    },
    {
     "name": "stderr",
     "output_type": "stream",
     "text": [
      "100%|██████████| 320/320 [00:00<00:00, 22824.59it/s]\n"
     ]
    }
   ],
   "source": [
    "twitter_prj_embs_bert = get_proj_embeddings(\n",
    "    model=bert_model,\n",
    "    vocab_set=pis,\n",
    "    w2v=False,\n",
    "    tokenizer=bert_tokenizer\n",
    ")\n",
    "\n",
    "wiki_prj_embs_bert = get_proj_embeddings(\n",
    "    model=bert_model,\n",
    "    vocab_set=pis,\n",
    "    w2v=False,\n",
    "    tokenizer=bert_tokenizer\n",
    ")\n",
    "\n",
    "twitter_prj_embs_sbert = get_proj_embeddings(\n",
    "    model=sbert_model,\n",
    "    vocab_set=pis,\n",
    "    w2v=False,\n",
    "    tokenizer=None\n",
    ")\n",
    "\n",
    "wiki_prj_embs_sbert = get_proj_embeddings(\n",
    "    model=sbert_model,\n",
    "    vocab_set=pis,\n",
    "    w2v=False,\n",
    "    tokenizer=None\n",
    ")\n",
    "\n",
    "twitter_prj_embs_roberta = get_proj_embeddings(\n",
    "    model=roberta_model,\n",
    "    vocab_set=pis,\n",
    "    w2v=False,\n",
    "    tokenizer=roberta_tokenizer\n",
    ")\n",
    "\n",
    "wiki_prj_embs_roberta = get_proj_embeddings(\n",
    "    model=roberta_model,\n",
    "    vocab_set=pis,\n",
    "    w2v=False,\n",
    "    tokenizer=roberta_tokenizer\n",
    ")\n",
    "\n",
    "twitter_prj_embs_ftsbert = get_proj_embeddings(\n",
    "    model=twitter_ft_sbert,\n",
    "    vocab_set=pis,\n",
    "    w2v=False,\n",
    "    tokenizer=None\n",
    ")\n",
    "\n",
    "wiki_prj_embs_ftsbert = get_proj_embeddings(\n",
    "    model=wiki_ft_sbert,\n",
    "    vocab_set=pis,\n",
    "    w2v=False,\n",
    "    tokenizer=None\n",
    ")\n",
    "\n",
    "twitter_prj_embs_ftbert = get_proj_embeddings(\n",
    "    model=bert_ft_twitter_model,\n",
    "    vocab_set=pis,\n",
    "    w2v=False,\n",
    "    tokenizer=bert_tokenizer\n",
    ")\n",
    "\n",
    "wiki_prj_embs_ftbert = get_proj_embeddings(\n",
    "    model=bert_ft_wiki_model,\n",
    "    vocab_set=pis,\n",
    "    w2v=False,\n",
    "    tokenizer=bert_tokenizer\n",
    ")"
   ]
  },
  {
   "cell_type": "code",
   "execution_count": 50,
   "id": "a8027390",
   "metadata": {
    "hidden": true
   },
   "outputs": [],
   "source": [
    "save_prj_model('twitter_bert_genderset', twitter_prj_embs_bert)\n",
    "save_prj_model('wiki_bert_genderset', wiki_prj_embs_bert)\n",
    "\n",
    "save_prj_model('twitter_sbert_genderset', twitter_prj_embs_sbert)\n",
    "save_prj_model('wiki_sbert_genderset', wiki_prj_embs_sbert)\n",
    "\n",
    "save_prj_model('twitter_roberta_genderset', twitter_prj_embs_roberta)\n",
    "save_prj_model('wiki_roberta_genderset', wiki_prj_embs_roberta)\n",
    "\n",
    "save_prj_model('twitter_ftbert_genderset', twitter_prj_embs_ftbert)\n",
    "save_prj_model('wiki_ftbert_genderset', wiki_prj_embs_ftbert)\n",
    "\n",
    "save_prj_model('twitter_ftsbert_genderset', twitter_prj_embs_ftsbert)\n",
    "save_prj_model('wiki_ftsbert_genderset', wiki_prj_embs_ftsbert)"
   ]
  },
  {
   "cell_type": "markdown",
   "id": "dc5c234b",
   "metadata": {
    "hidden": true
   },
   "source": [
    "### calculate correlation with survey"
   ]
  },
  {
   "cell_type": "code",
   "execution_count": null,
   "id": "fb6beaa7",
   "metadata": {
    "hidden": true
   },
   "outputs": [],
   "source": [
    "list(dims.keys())"
   ]
  },
  {
   "cell_type": "code",
   "execution_count": 27,
   "id": "1a50232a",
   "metadata": {
    "hidden": true
   },
   "outputs": [
    {
     "name": "stderr",
     "output_type": "stream",
     "text": [
      "100%|██████████| 6/6 [00:00<00:00,  8.70it/s]\n"
     ]
    },
    {
     "data": {
      "text/html": [
       "<div>\n",
       "<style scoped>\n",
       "    .dataframe tbody tr th:only-of-type {\n",
       "        vertical-align: middle;\n",
       "    }\n",
       "\n",
       "    .dataframe tbody tr th {\n",
       "        vertical-align: top;\n",
       "    }\n",
       "\n",
       "    .dataframe thead th {\n",
       "        text-align: right;\n",
       "    }\n",
       "</style>\n",
       "<table border=\"1\" class=\"dataframe\">\n",
       "  <thead>\n",
       "    <tr style=\"text-align: right;\">\n",
       "      <th></th>\n",
       "      <th>twitter_prj_embs_bert</th>\n",
       "      <th>twitter_prj_embs_sbert</th>\n",
       "      <th>twitter_prj_embs_roberta</th>\n",
       "      <th>twitter_prj_embs_ftbert</th>\n",
       "      <th>twitter_prj_embs_w2v_negsampling</th>\n",
       "      <th>twitter_prj_embs_ftsbert</th>\n",
       "    </tr>\n",
       "  </thead>\n",
       "  <tbody>\n",
       "    <tr>\n",
       "      <th>0</th>\n",
       "      <td>0.052426</td>\n",
       "      <td>0.069076</td>\n",
       "      <td>-0.051443</td>\n",
       "      <td>-0.011989</td>\n",
       "      <td>-0.014609</td>\n",
       "      <td>0.061301</td>\n",
       "    </tr>\n",
       "    <tr>\n",
       "      <th>1</th>\n",
       "      <td>0.034561</td>\n",
       "      <td>-0.022951</td>\n",
       "      <td>-0.051701</td>\n",
       "      <td>0.071030</td>\n",
       "      <td>0.045082</td>\n",
       "      <td>0.242549</td>\n",
       "    </tr>\n",
       "    <tr>\n",
       "      <th>2</th>\n",
       "      <td>0.011700</td>\n",
       "      <td>0.024478</td>\n",
       "      <td>-0.052437</td>\n",
       "      <td>0.207615</td>\n",
       "      <td>-0.001400</td>\n",
       "      <td>0.283692</td>\n",
       "    </tr>\n",
       "    <tr>\n",
       "      <th>3</th>\n",
       "      <td>-0.007990</td>\n",
       "      <td>-0.059134</td>\n",
       "      <td>-0.051963</td>\n",
       "      <td>-0.071080</td>\n",
       "      <td>-0.036465</td>\n",
       "      <td>-0.039410</td>\n",
       "    </tr>\n",
       "    <tr>\n",
       "      <th>4</th>\n",
       "      <td>-0.034230</td>\n",
       "      <td>0.025516</td>\n",
       "      <td>-0.052114</td>\n",
       "      <td>-0.053951</td>\n",
       "      <td>0.023685</td>\n",
       "      <td>-0.129520</td>\n",
       "    </tr>\n",
       "    <tr>\n",
       "      <th>...</th>\n",
       "      <td>...</td>\n",
       "      <td>...</td>\n",
       "      <td>...</td>\n",
       "      <td>...</td>\n",
       "      <td>...</td>\n",
       "      <td>...</td>\n",
       "    </tr>\n",
       "    <tr>\n",
       "      <th>1995</th>\n",
       "      <td>0.081181</td>\n",
       "      <td>-0.032458</td>\n",
       "      <td>0.039921</td>\n",
       "      <td>0.003422</td>\n",
       "      <td>0.029962</td>\n",
       "      <td>0.105479</td>\n",
       "    </tr>\n",
       "    <tr>\n",
       "      <th>1996</th>\n",
       "      <td>0.025821</td>\n",
       "      <td>-0.065283</td>\n",
       "      <td>0.039206</td>\n",
       "      <td>-0.143449</td>\n",
       "      <td>-0.030297</td>\n",
       "      <td>-0.286012</td>\n",
       "    </tr>\n",
       "    <tr>\n",
       "      <th>1997</th>\n",
       "      <td>0.109511</td>\n",
       "      <td>-0.103817</td>\n",
       "      <td>0.040495</td>\n",
       "      <td>-0.106245</td>\n",
       "      <td>-0.004081</td>\n",
       "      <td>-0.293640</td>\n",
       "    </tr>\n",
       "    <tr>\n",
       "      <th>1998</th>\n",
       "      <td>0.121239</td>\n",
       "      <td>-0.021103</td>\n",
       "      <td>0.040548</td>\n",
       "      <td>-0.060063</td>\n",
       "      <td>-0.024174</td>\n",
       "      <td>-0.038017</td>\n",
       "    </tr>\n",
       "    <tr>\n",
       "      <th>1999</th>\n",
       "      <td>0.095826</td>\n",
       "      <td>-0.076873</td>\n",
       "      <td>0.040325</td>\n",
       "      <td>0.075859</td>\n",
       "      <td>0.016844</td>\n",
       "      <td>0.131744</td>\n",
       "    </tr>\n",
       "  </tbody>\n",
       "</table>\n",
       "<p>2000 rows × 6 columns</p>\n",
       "</div>"
      ],
      "text/plain": [
       "      twitter_prj_embs_bert  twitter_prj_embs_sbert  twitter_prj_embs_roberta  \\\n",
       "0                  0.052426                0.069076                 -0.051443   \n",
       "1                  0.034561               -0.022951                 -0.051701   \n",
       "2                  0.011700                0.024478                 -0.052437   \n",
       "3                 -0.007990               -0.059134                 -0.051963   \n",
       "4                 -0.034230                0.025516                 -0.052114   \n",
       "...                     ...                     ...                       ...   \n",
       "1995               0.081181               -0.032458                  0.039921   \n",
       "1996               0.025821               -0.065283                  0.039206   \n",
       "1997               0.109511               -0.103817                  0.040495   \n",
       "1998               0.121239               -0.021103                  0.040548   \n",
       "1999               0.095826               -0.076873                  0.040325   \n",
       "\n",
       "      twitter_prj_embs_ftbert  twitter_prj_embs_w2v_negsampling  \\\n",
       "0                   -0.011989                         -0.014609   \n",
       "1                    0.071030                          0.045082   \n",
       "2                    0.207615                         -0.001400   \n",
       "3                   -0.071080                         -0.036465   \n",
       "4                   -0.053951                          0.023685   \n",
       "...                       ...                               ...   \n",
       "1995                 0.003422                          0.029962   \n",
       "1996                -0.143449                         -0.030297   \n",
       "1997                -0.106245                         -0.004081   \n",
       "1998                -0.060063                         -0.024174   \n",
       "1999                 0.075859                          0.016844   \n",
       "\n",
       "      twitter_prj_embs_ftsbert  \n",
       "0                     0.061301  \n",
       "1                     0.242549  \n",
       "2                     0.283692  \n",
       "3                    -0.039410  \n",
       "4                    -0.129520  \n",
       "...                        ...  \n",
       "1995                  0.105479  \n",
       "1996                 -0.286012  \n",
       "1997                 -0.293640  \n",
       "1998                 -0.038017  \n",
       "1999                  0.131744  \n",
       "\n",
       "[2000 rows x 6 columns]"
      ]
     },
     "execution_count": 27,
     "metadata": {},
     "output_type": "execute_result"
    }
   ],
   "source": [
    "import pandas as pd\n",
    "\n",
    "df = pd.read_csv(\"data/dimension_data.csv\")\n",
    "\n",
    "dim_names = ['age', 'gender', 'partisanship', 'white', 'hispanic', 'asian', 'mideast', 'black']\n",
    "\n",
    "emb_models = {\n",
    "    \n",
    "#     'wiki_prj_embs_w2v_cbow': wiki_prj_embs_w2v_cbow,\n",
    "    'twitter_prj_embs_bert': twitter_prj_embs_bert,\n",
    "#     'wiki_prj_embs_bert': wiki_prj_embs_bert,\n",
    "    'twitter_prj_embs_sbert': twitter_prj_embs_sbert,\n",
    "#     'wiki_prj_embs_sbert': wiki_prj_embs_sbert,\n",
    "    'twitter_prj_embs_roberta': twitter_prj_embs_roberta,\n",
    "#     'wiki_prj_embs_roberta': wiki_prj_embs_roberta,\n",
    "    'twitter_prj_embs_ftbert': twitter_prj_embs_ftbert,\n",
    "    'twitter_prj_embs_w2v_negsampling': twitter_prj_embs_w2v_negsampling,\n",
    "#     'wiki_prj_embs_ftbert': wiki_prj_embs_ftbert,\n",
    "    'twitter_prj_embs_ftsbert': twitter_prj_embs_ftsbert,\n",
    "#     'wiki_prj_embs_ftsbert': wiki_prj_embs_ftsbert,\n",
    "}\n",
    "\n",
    "dim_idx = {\n",
    "    'age': 0,\n",
    "    'gender': 1,\n",
    "    'partisanship': 2,\n",
    "    'white': 7,\n",
    "    'hispanic': 4,\n",
    "    'asian': 5,\n",
    "    'mideast': 6,\n",
    "    'black': 7\n",
    "}\n",
    "\n",
    "\n",
    "model_vals = {m: [] for m in emb_models}\n",
    "missing = 0\n",
    "for model_name, e in tqdm(emb_models.items()):\n",
    "    for _,row in df.iterrows():\n",
    "        if row.identity not in e:\n",
    "            missing += 1\n",
    "            print(f\" {model_name} missing {row.identity}\")\n",
    "            continue\n",
    "        model_vals[model_name].append(e[row.identity][dim_idx[row.dimension]])\n",
    "        \n",
    "model_embs_df = pd.DataFrame(model_vals)\n",
    "model_embs_df"
   ]
  },
  {
   "cell_type": "code",
   "execution_count": 28,
   "id": "36f2f936",
   "metadata": {
    "hidden": true
   },
   "outputs": [
    {
     "data": {
      "text/html": [
       "<div>\n",
       "<style scoped>\n",
       "    .dataframe tbody tr th:only-of-type {\n",
       "        vertical-align: middle;\n",
       "    }\n",
       "\n",
       "    .dataframe tbody tr th {\n",
       "        vertical-align: top;\n",
       "    }\n",
       "\n",
       "    .dataframe thead th {\n",
       "        text-align: right;\n",
       "    }\n",
       "</style>\n",
       "<table border=\"1\" class=\"dataframe\">\n",
       "  <thead>\n",
       "    <tr style=\"text-align: right;\">\n",
       "      <th></th>\n",
       "      <th>dimension</th>\n",
       "      <th>identity</th>\n",
       "      <th>mean_value</th>\n",
       "      <th>cnt</th>\n",
       "      <th>twitter_prj_embs_bert</th>\n",
       "      <th>twitter_prj_embs_sbert</th>\n",
       "      <th>twitter_prj_embs_roberta</th>\n",
       "      <th>twitter_prj_embs_ftbert</th>\n",
       "      <th>twitter_prj_embs_w2v_negsampling</th>\n",
       "      <th>twitter_prj_embs_ftsbert</th>\n",
       "    </tr>\n",
       "  </thead>\n",
       "  <tbody>\n",
       "    <tr>\n",
       "      <th>0</th>\n",
       "      <td>age</td>\n",
       "      <td>freelance writer</td>\n",
       "      <td>42.066667</td>\n",
       "      <td>3</td>\n",
       "      <td>0.052426</td>\n",
       "      <td>0.069076</td>\n",
       "      <td>-0.051443</td>\n",
       "      <td>-0.011989</td>\n",
       "      <td>-0.014609</td>\n",
       "      <td>0.061301</td>\n",
       "    </tr>\n",
       "    <tr>\n",
       "      <th>1</th>\n",
       "      <td>age</td>\n",
       "      <td>die hard fan</td>\n",
       "      <td>37.620000</td>\n",
       "      <td>5</td>\n",
       "      <td>0.034561</td>\n",
       "      <td>-0.022951</td>\n",
       "      <td>-0.051701</td>\n",
       "      <td>0.071030</td>\n",
       "      <td>0.045082</td>\n",
       "      <td>0.242549</td>\n",
       "    </tr>\n",
       "    <tr>\n",
       "      <th>2</th>\n",
       "      <td>age</td>\n",
       "      <td>athlete</td>\n",
       "      <td>27.160000</td>\n",
       "      <td>5</td>\n",
       "      <td>0.011700</td>\n",
       "      <td>0.024478</td>\n",
       "      <td>-0.052437</td>\n",
       "      <td>0.207615</td>\n",
       "      <td>-0.001400</td>\n",
       "      <td>0.283692</td>\n",
       "    </tr>\n",
       "    <tr>\n",
       "      <th>3</th>\n",
       "      <td>age</td>\n",
       "      <td>phd</td>\n",
       "      <td>42.000000</td>\n",
       "      <td>3</td>\n",
       "      <td>-0.007990</td>\n",
       "      <td>-0.059134</td>\n",
       "      <td>-0.051963</td>\n",
       "      <td>-0.071080</td>\n",
       "      <td>-0.036465</td>\n",
       "      <td>-0.039410</td>\n",
       "    </tr>\n",
       "    <tr>\n",
       "      <th>4</th>\n",
       "      <td>age</td>\n",
       "      <td>irish</td>\n",
       "      <td>59.766667</td>\n",
       "      <td>3</td>\n",
       "      <td>-0.034230</td>\n",
       "      <td>0.025516</td>\n",
       "      <td>-0.052114</td>\n",
       "      <td>-0.053951</td>\n",
       "      <td>0.023685</td>\n",
       "      <td>-0.129520</td>\n",
       "    </tr>\n",
       "    <tr>\n",
       "      <th>...</th>\n",
       "      <td>...</td>\n",
       "      <td>...</td>\n",
       "      <td>...</td>\n",
       "      <td>...</td>\n",
       "      <td>...</td>\n",
       "      <td>...</td>\n",
       "      <td>...</td>\n",
       "      <td>...</td>\n",
       "      <td>...</td>\n",
       "      <td>...</td>\n",
       "    </tr>\n",
       "    <tr>\n",
       "      <th>1995</th>\n",
       "      <td>black</td>\n",
       "      <td>cosplay</td>\n",
       "      <td>12.333333</td>\n",
       "      <td>3</td>\n",
       "      <td>0.081181</td>\n",
       "      <td>-0.032458</td>\n",
       "      <td>0.039921</td>\n",
       "      <td>0.003422</td>\n",
       "      <td>0.029962</td>\n",
       "      <td>0.105479</td>\n",
       "    </tr>\n",
       "    <tr>\n",
       "      <th>1996</th>\n",
       "      <td>black</td>\n",
       "      <td>aquarius</td>\n",
       "      <td>38.500000</td>\n",
       "      <td>2</td>\n",
       "      <td>0.025821</td>\n",
       "      <td>-0.065283</td>\n",
       "      <td>0.039206</td>\n",
       "      <td>-0.143449</td>\n",
       "      <td>-0.030297</td>\n",
       "      <td>-0.286012</td>\n",
       "    </tr>\n",
       "    <tr>\n",
       "      <th>1997</th>\n",
       "      <td>black</td>\n",
       "      <td>medical student</td>\n",
       "      <td>34.000000</td>\n",
       "      <td>3</td>\n",
       "      <td>0.109511</td>\n",
       "      <td>-0.103817</td>\n",
       "      <td>0.040495</td>\n",
       "      <td>-0.106245</td>\n",
       "      <td>-0.004081</td>\n",
       "      <td>-0.293640</td>\n",
       "    </tr>\n",
       "    <tr>\n",
       "      <th>1998</th>\n",
       "      <td>black</td>\n",
       "      <td>vegan</td>\n",
       "      <td>7.500000</td>\n",
       "      <td>2</td>\n",
       "      <td>0.121239</td>\n",
       "      <td>-0.021103</td>\n",
       "      <td>0.040548</td>\n",
       "      <td>-0.060063</td>\n",
       "      <td>-0.024174</td>\n",
       "      <td>-0.038017</td>\n",
       "    </tr>\n",
       "    <tr>\n",
       "      <th>1999</th>\n",
       "      <td>black</td>\n",
       "      <td>happily married</td>\n",
       "      <td>25.333333</td>\n",
       "      <td>3</td>\n",
       "      <td>0.095826</td>\n",
       "      <td>-0.076873</td>\n",
       "      <td>0.040325</td>\n",
       "      <td>0.075859</td>\n",
       "      <td>0.016844</td>\n",
       "      <td>0.131744</td>\n",
       "    </tr>\n",
       "  </tbody>\n",
       "</table>\n",
       "<p>2000 rows × 10 columns</p>\n",
       "</div>"
      ],
      "text/plain": [
       "     dimension          identity  mean_value  cnt  twitter_prj_embs_bert  \\\n",
       "0          age  freelance writer   42.066667    3               0.052426   \n",
       "1          age      die hard fan   37.620000    5               0.034561   \n",
       "2          age           athlete   27.160000    5               0.011700   \n",
       "3          age               phd   42.000000    3              -0.007990   \n",
       "4          age             irish   59.766667    3              -0.034230   \n",
       "...        ...               ...         ...  ...                    ...   \n",
       "1995     black           cosplay   12.333333    3               0.081181   \n",
       "1996     black          aquarius   38.500000    2               0.025821   \n",
       "1997     black   medical student   34.000000    3               0.109511   \n",
       "1998     black             vegan    7.500000    2               0.121239   \n",
       "1999     black   happily married   25.333333    3               0.095826   \n",
       "\n",
       "      twitter_prj_embs_sbert  twitter_prj_embs_roberta  \\\n",
       "0                   0.069076                 -0.051443   \n",
       "1                  -0.022951                 -0.051701   \n",
       "2                   0.024478                 -0.052437   \n",
       "3                  -0.059134                 -0.051963   \n",
       "4                   0.025516                 -0.052114   \n",
       "...                      ...                       ...   \n",
       "1995               -0.032458                  0.039921   \n",
       "1996               -0.065283                  0.039206   \n",
       "1997               -0.103817                  0.040495   \n",
       "1998               -0.021103                  0.040548   \n",
       "1999               -0.076873                  0.040325   \n",
       "\n",
       "      twitter_prj_embs_ftbert  twitter_prj_embs_w2v_negsampling  \\\n",
       "0                   -0.011989                         -0.014609   \n",
       "1                    0.071030                          0.045082   \n",
       "2                    0.207615                         -0.001400   \n",
       "3                   -0.071080                         -0.036465   \n",
       "4                   -0.053951                          0.023685   \n",
       "...                       ...                               ...   \n",
       "1995                 0.003422                          0.029962   \n",
       "1996                -0.143449                         -0.030297   \n",
       "1997                -0.106245                         -0.004081   \n",
       "1998                -0.060063                         -0.024174   \n",
       "1999                 0.075859                          0.016844   \n",
       "\n",
       "      twitter_prj_embs_ftsbert  \n",
       "0                     0.061301  \n",
       "1                     0.242549  \n",
       "2                     0.283692  \n",
       "3                    -0.039410  \n",
       "4                    -0.129520  \n",
       "...                        ...  \n",
       "1995                  0.105479  \n",
       "1996                 -0.286012  \n",
       "1997                 -0.293640  \n",
       "1998                 -0.038017  \n",
       "1999                  0.131744  \n",
       "\n",
       "[2000 rows x 10 columns]"
      ]
     },
     "execution_count": 28,
     "metadata": {},
     "output_type": "execute_result"
    }
   ],
   "source": [
    "df_all = pd.concat([df, model_embs_df], axis=1)\n",
    "df_all"
   ]
  },
  {
   "cell_type": "code",
   "execution_count": 29,
   "id": "a6bf8097",
   "metadata": {
    "hidden": true
   },
   "outputs": [
    {
     "data": {
      "text/html": [
       "<div>\n",
       "<style scoped>\n",
       "    .dataframe tbody tr th:only-of-type {\n",
       "        vertical-align: middle;\n",
       "    }\n",
       "\n",
       "    .dataframe tbody tr th {\n",
       "        vertical-align: top;\n",
       "    }\n",
       "\n",
       "    .dataframe thead th {\n",
       "        text-align: right;\n",
       "    }\n",
       "</style>\n",
       "<table border=\"1\" class=\"dataframe\">\n",
       "  <thead>\n",
       "    <tr style=\"text-align: right;\">\n",
       "      <th></th>\n",
       "      <th>dimension</th>\n",
       "      <th>corr</th>\n",
       "      <th>model</th>\n",
       "    </tr>\n",
       "  </thead>\n",
       "  <tbody>\n",
       "    <tr>\n",
       "      <th>0</th>\n",
       "      <td>age</td>\n",
       "      <td>-0.157861</td>\n",
       "      <td>twitter_prj_embs_bert</td>\n",
       "    </tr>\n",
       "    <tr>\n",
       "      <th>1</th>\n",
       "      <td>asian</td>\n",
       "      <td>-0.033089</td>\n",
       "      <td>twitter_prj_embs_bert</td>\n",
       "    </tr>\n",
       "    <tr>\n",
       "      <th>2</th>\n",
       "      <td>black</td>\n",
       "      <td>-0.102164</td>\n",
       "      <td>twitter_prj_embs_bert</td>\n",
       "    </tr>\n",
       "    <tr>\n",
       "      <th>3</th>\n",
       "      <td>gender</td>\n",
       "      <td>0.153323</td>\n",
       "      <td>twitter_prj_embs_bert</td>\n",
       "    </tr>\n",
       "    <tr>\n",
       "      <th>4</th>\n",
       "      <td>hispanic</td>\n",
       "      <td>-0.100390</td>\n",
       "      <td>twitter_prj_embs_bert</td>\n",
       "    </tr>\n",
       "    <tr>\n",
       "      <th>5</th>\n",
       "      <td>mideast</td>\n",
       "      <td>0.031813</td>\n",
       "      <td>twitter_prj_embs_bert</td>\n",
       "    </tr>\n",
       "    <tr>\n",
       "      <th>6</th>\n",
       "      <td>partisanship</td>\n",
       "      <td>0.013258</td>\n",
       "      <td>twitter_prj_embs_bert</td>\n",
       "    </tr>\n",
       "    <tr>\n",
       "      <th>7</th>\n",
       "      <td>white</td>\n",
       "      <td>-0.059365</td>\n",
       "      <td>twitter_prj_embs_bert</td>\n",
       "    </tr>\n",
       "    <tr>\n",
       "      <th>0</th>\n",
       "      <td>age</td>\n",
       "      <td>-0.324225</td>\n",
       "      <td>twitter_prj_embs_sbert</td>\n",
       "    </tr>\n",
       "    <tr>\n",
       "      <th>1</th>\n",
       "      <td>asian</td>\n",
       "      <td>-0.286225</td>\n",
       "      <td>twitter_prj_embs_sbert</td>\n",
       "    </tr>\n",
       "    <tr>\n",
       "      <th>2</th>\n",
       "      <td>black</td>\n",
       "      <td>-0.250003</td>\n",
       "      <td>twitter_prj_embs_sbert</td>\n",
       "    </tr>\n",
       "    <tr>\n",
       "      <th>3</th>\n",
       "      <td>gender</td>\n",
       "      <td>0.564351</td>\n",
       "      <td>twitter_prj_embs_sbert</td>\n",
       "    </tr>\n",
       "    <tr>\n",
       "      <th>4</th>\n",
       "      <td>hispanic</td>\n",
       "      <td>-0.231469</td>\n",
       "      <td>twitter_prj_embs_sbert</td>\n",
       "    </tr>\n",
       "    <tr>\n",
       "      <th>5</th>\n",
       "      <td>mideast</td>\n",
       "      <td>-0.154992</td>\n",
       "      <td>twitter_prj_embs_sbert</td>\n",
       "    </tr>\n",
       "    <tr>\n",
       "      <th>6</th>\n",
       "      <td>partisanship</td>\n",
       "      <td>-0.056451</td>\n",
       "      <td>twitter_prj_embs_sbert</td>\n",
       "    </tr>\n",
       "    <tr>\n",
       "      <th>7</th>\n",
       "      <td>white</td>\n",
       "      <td>0.099996</td>\n",
       "      <td>twitter_prj_embs_sbert</td>\n",
       "    </tr>\n",
       "    <tr>\n",
       "      <th>0</th>\n",
       "      <td>age</td>\n",
       "      <td>-0.005516</td>\n",
       "      <td>twitter_prj_embs_roberta</td>\n",
       "    </tr>\n",
       "    <tr>\n",
       "      <th>1</th>\n",
       "      <td>asian</td>\n",
       "      <td>-0.012151</td>\n",
       "      <td>twitter_prj_embs_roberta</td>\n",
       "    </tr>\n",
       "    <tr>\n",
       "      <th>2</th>\n",
       "      <td>black</td>\n",
       "      <td>0.002174</td>\n",
       "      <td>twitter_prj_embs_roberta</td>\n",
       "    </tr>\n",
       "    <tr>\n",
       "      <th>3</th>\n",
       "      <td>gender</td>\n",
       "      <td>0.253073</td>\n",
       "      <td>twitter_prj_embs_roberta</td>\n",
       "    </tr>\n",
       "    <tr>\n",
       "      <th>4</th>\n",
       "      <td>hispanic</td>\n",
       "      <td>-0.034163</td>\n",
       "      <td>twitter_prj_embs_roberta</td>\n",
       "    </tr>\n",
       "    <tr>\n",
       "      <th>5</th>\n",
       "      <td>mideast</td>\n",
       "      <td>0.051789</td>\n",
       "      <td>twitter_prj_embs_roberta</td>\n",
       "    </tr>\n",
       "    <tr>\n",
       "      <th>6</th>\n",
       "      <td>partisanship</td>\n",
       "      <td>-0.047470</td>\n",
       "      <td>twitter_prj_embs_roberta</td>\n",
       "    </tr>\n",
       "    <tr>\n",
       "      <th>7</th>\n",
       "      <td>white</td>\n",
       "      <td>-0.015602</td>\n",
       "      <td>twitter_prj_embs_roberta</td>\n",
       "    </tr>\n",
       "    <tr>\n",
       "      <th>0</th>\n",
       "      <td>age</td>\n",
       "      <td>-0.200033</td>\n",
       "      <td>twitter_prj_embs_ftbert</td>\n",
       "    </tr>\n",
       "    <tr>\n",
       "      <th>1</th>\n",
       "      <td>asian</td>\n",
       "      <td>-0.281854</td>\n",
       "      <td>twitter_prj_embs_ftbert</td>\n",
       "    </tr>\n",
       "    <tr>\n",
       "      <th>2</th>\n",
       "      <td>black</td>\n",
       "      <td>-0.202221</td>\n",
       "      <td>twitter_prj_embs_ftbert</td>\n",
       "    </tr>\n",
       "    <tr>\n",
       "      <th>3</th>\n",
       "      <td>gender</td>\n",
       "      <td>0.415848</td>\n",
       "      <td>twitter_prj_embs_ftbert</td>\n",
       "    </tr>\n",
       "    <tr>\n",
       "      <th>4</th>\n",
       "      <td>hispanic</td>\n",
       "      <td>-0.023381</td>\n",
       "      <td>twitter_prj_embs_ftbert</td>\n",
       "    </tr>\n",
       "    <tr>\n",
       "      <th>5</th>\n",
       "      <td>mideast</td>\n",
       "      <td>-0.087471</td>\n",
       "      <td>twitter_prj_embs_ftbert</td>\n",
       "    </tr>\n",
       "    <tr>\n",
       "      <th>6</th>\n",
       "      <td>partisanship</td>\n",
       "      <td>-0.681351</td>\n",
       "      <td>twitter_prj_embs_ftbert</td>\n",
       "    </tr>\n",
       "    <tr>\n",
       "      <th>7</th>\n",
       "      <td>white</td>\n",
       "      <td>0.217442</td>\n",
       "      <td>twitter_prj_embs_ftbert</td>\n",
       "    </tr>\n",
       "    <tr>\n",
       "      <th>0</th>\n",
       "      <td>age</td>\n",
       "      <td>-0.225436</td>\n",
       "      <td>twitter_prj_embs_w2v_negsampling</td>\n",
       "    </tr>\n",
       "    <tr>\n",
       "      <th>1</th>\n",
       "      <td>asian</td>\n",
       "      <td>-0.117554</td>\n",
       "      <td>twitter_prj_embs_w2v_negsampling</td>\n",
       "    </tr>\n",
       "    <tr>\n",
       "      <th>2</th>\n",
       "      <td>black</td>\n",
       "      <td>-0.177526</td>\n",
       "      <td>twitter_prj_embs_w2v_negsampling</td>\n",
       "    </tr>\n",
       "    <tr>\n",
       "      <th>3</th>\n",
       "      <td>gender</td>\n",
       "      <td>0.722672</td>\n",
       "      <td>twitter_prj_embs_w2v_negsampling</td>\n",
       "    </tr>\n",
       "    <tr>\n",
       "      <th>4</th>\n",
       "      <td>hispanic</td>\n",
       "      <td>-0.085568</td>\n",
       "      <td>twitter_prj_embs_w2v_negsampling</td>\n",
       "    </tr>\n",
       "    <tr>\n",
       "      <th>5</th>\n",
       "      <td>mideast</td>\n",
       "      <td>-0.153420</td>\n",
       "      <td>twitter_prj_embs_w2v_negsampling</td>\n",
       "    </tr>\n",
       "    <tr>\n",
       "      <th>6</th>\n",
       "      <td>partisanship</td>\n",
       "      <td>-0.695927</td>\n",
       "      <td>twitter_prj_embs_w2v_negsampling</td>\n",
       "    </tr>\n",
       "    <tr>\n",
       "      <th>7</th>\n",
       "      <td>white</td>\n",
       "      <td>0.246001</td>\n",
       "      <td>twitter_prj_embs_w2v_negsampling</td>\n",
       "    </tr>\n",
       "    <tr>\n",
       "      <th>0</th>\n",
       "      <td>age</td>\n",
       "      <td>-0.277569</td>\n",
       "      <td>twitter_prj_embs_ftsbert</td>\n",
       "    </tr>\n",
       "    <tr>\n",
       "      <th>1</th>\n",
       "      <td>asian</td>\n",
       "      <td>-0.300525</td>\n",
       "      <td>twitter_prj_embs_ftsbert</td>\n",
       "    </tr>\n",
       "    <tr>\n",
       "      <th>2</th>\n",
       "      <td>black</td>\n",
       "      <td>-0.260236</td>\n",
       "      <td>twitter_prj_embs_ftsbert</td>\n",
       "    </tr>\n",
       "    <tr>\n",
       "      <th>3</th>\n",
       "      <td>gender</td>\n",
       "      <td>0.585978</td>\n",
       "      <td>twitter_prj_embs_ftsbert</td>\n",
       "    </tr>\n",
       "    <tr>\n",
       "      <th>4</th>\n",
       "      <td>hispanic</td>\n",
       "      <td>-0.085671</td>\n",
       "      <td>twitter_prj_embs_ftsbert</td>\n",
       "    </tr>\n",
       "    <tr>\n",
       "      <th>5</th>\n",
       "      <td>mideast</td>\n",
       "      <td>-0.294405</td>\n",
       "      <td>twitter_prj_embs_ftsbert</td>\n",
       "    </tr>\n",
       "    <tr>\n",
       "      <th>6</th>\n",
       "      <td>partisanship</td>\n",
       "      <td>-0.700022</td>\n",
       "      <td>twitter_prj_embs_ftsbert</td>\n",
       "    </tr>\n",
       "    <tr>\n",
       "      <th>7</th>\n",
       "      <td>white</td>\n",
       "      <td>0.261216</td>\n",
       "      <td>twitter_prj_embs_ftsbert</td>\n",
       "    </tr>\n",
       "  </tbody>\n",
       "</table>\n",
       "</div>"
      ],
      "text/plain": [
       "      dimension      corr                             model\n",
       "0           age -0.157861             twitter_prj_embs_bert\n",
       "1         asian -0.033089             twitter_prj_embs_bert\n",
       "2         black -0.102164             twitter_prj_embs_bert\n",
       "3        gender  0.153323             twitter_prj_embs_bert\n",
       "4      hispanic -0.100390             twitter_prj_embs_bert\n",
       "5       mideast  0.031813             twitter_prj_embs_bert\n",
       "6  partisanship  0.013258             twitter_prj_embs_bert\n",
       "7         white -0.059365             twitter_prj_embs_bert\n",
       "0           age -0.324225            twitter_prj_embs_sbert\n",
       "1         asian -0.286225            twitter_prj_embs_sbert\n",
       "2         black -0.250003            twitter_prj_embs_sbert\n",
       "3        gender  0.564351            twitter_prj_embs_sbert\n",
       "4      hispanic -0.231469            twitter_prj_embs_sbert\n",
       "5       mideast -0.154992            twitter_prj_embs_sbert\n",
       "6  partisanship -0.056451            twitter_prj_embs_sbert\n",
       "7         white  0.099996            twitter_prj_embs_sbert\n",
       "0           age -0.005516          twitter_prj_embs_roberta\n",
       "1         asian -0.012151          twitter_prj_embs_roberta\n",
       "2         black  0.002174          twitter_prj_embs_roberta\n",
       "3        gender  0.253073          twitter_prj_embs_roberta\n",
       "4      hispanic -0.034163          twitter_prj_embs_roberta\n",
       "5       mideast  0.051789          twitter_prj_embs_roberta\n",
       "6  partisanship -0.047470          twitter_prj_embs_roberta\n",
       "7         white -0.015602          twitter_prj_embs_roberta\n",
       "0           age -0.200033           twitter_prj_embs_ftbert\n",
       "1         asian -0.281854           twitter_prj_embs_ftbert\n",
       "2         black -0.202221           twitter_prj_embs_ftbert\n",
       "3        gender  0.415848           twitter_prj_embs_ftbert\n",
       "4      hispanic -0.023381           twitter_prj_embs_ftbert\n",
       "5       mideast -0.087471           twitter_prj_embs_ftbert\n",
       "6  partisanship -0.681351           twitter_prj_embs_ftbert\n",
       "7         white  0.217442           twitter_prj_embs_ftbert\n",
       "0           age -0.225436  twitter_prj_embs_w2v_negsampling\n",
       "1         asian -0.117554  twitter_prj_embs_w2v_negsampling\n",
       "2         black -0.177526  twitter_prj_embs_w2v_negsampling\n",
       "3        gender  0.722672  twitter_prj_embs_w2v_negsampling\n",
       "4      hispanic -0.085568  twitter_prj_embs_w2v_negsampling\n",
       "5       mideast -0.153420  twitter_prj_embs_w2v_negsampling\n",
       "6  partisanship -0.695927  twitter_prj_embs_w2v_negsampling\n",
       "7         white  0.246001  twitter_prj_embs_w2v_negsampling\n",
       "0           age -0.277569          twitter_prj_embs_ftsbert\n",
       "1         asian -0.300525          twitter_prj_embs_ftsbert\n",
       "2         black -0.260236          twitter_prj_embs_ftsbert\n",
       "3        gender  0.585978          twitter_prj_embs_ftsbert\n",
       "4      hispanic -0.085671          twitter_prj_embs_ftsbert\n",
       "5       mideast -0.294405          twitter_prj_embs_ftsbert\n",
       "6  partisanship -0.700022          twitter_prj_embs_ftsbert\n",
       "7         white  0.261216          twitter_prj_embs_ftsbert"
      ]
     },
     "execution_count": 29,
     "metadata": {},
     "output_type": "execute_result"
    }
   ],
   "source": [
    "final_df = pd.DataFrame({'dimension':[], 'corr':[] ,'model':[]})\n",
    "for model_name in emb_models:\n",
    "    corr_df = df_all[['dimension', 'mean_value', model_name]].groupby('dimension').corr().unstack()\n",
    "    corr_df.columns = ['vv', 'corr', 'cv', 'cc']\n",
    "    corr_df = corr_df.reset_index().drop(columns=['vv', 'cv', 'cc'])\n",
    "    corr_df['model'] = model_name\n",
    "    final_df = pd.concat([final_df, corr_df], axis=0)\n",
    "    \n",
    "final_df"
   ]
  },
  {
   "cell_type": "code",
   "execution_count": 30,
   "id": "197ab002",
   "metadata": {
    "hidden": true
   },
   "outputs": [],
   "source": [
    "final_df.to_csv('dimension_corr.csv', header=True, index=False)"
   ]
  },
  {
   "cell_type": "code",
   "execution_count": null,
   "id": "b6b40b38",
   "metadata": {
    "hidden": true
   },
   "outputs": [],
   "source": [
    "!head dimension_corr.csv"
   ]
  },
  {
   "cell_type": "code",
   "execution_count": 31,
   "id": "373da5f5",
   "metadata": {
    "hidden": true
   },
   "outputs": [
    {
     "data": {
      "image/png": "[encoded data removed]",
      "text/plain": [
       "<Figure size 720x288 with 1 Axes>"
      ]
     },
     "metadata": {},
     "output_type": "display_data"
    }
   ],
   "source": [
    "import seaborn as sns\n",
    "import matplotlib.pyplot as plt\n",
    "sns.set_theme()\n",
    "\n",
    "plt.figure(figsize=(10,4))\n",
    "ax = sns.barplot(data=final_df, x='dimension', y='corr', hue='model')\n",
    "ax.legend(bbox_to_anchor=(1, 1))\n",
    "plt.show()\n"
   ]
  },
  {
   "cell_type": "markdown",
   "id": "aa59bd9e",
   "metadata": {
    "hidden": true
   },
   "source": [
    "### load models"
   ]
  },
  {
   "cell_type": "code",
   "execution_count": null,
   "id": "713c2d2f",
   "metadata": {
    "hidden": true
   },
   "outputs": [],
   "source": [
    "print(twitter_prj_embs_bert[\"maga\"], twitter_prj_embs_bert[\"biden\"])\n",
    "print(twitter_prj_embs_ftsbert[\"maga\"], twitter_prj_embs_ftsbert[\"biden\"])\n",
    "print(twitter_prj_embs_ftsbert[\"senior citizen\"], twitter_prj_embs_ftsbert[\"bitchy\"])\n",
    "print(twitter_prj_embs_bert[\"senior citizen\"], twitter_prj_embs_bert[\"bitchy\"])\n",
    "print(twitter_prj_embs_bert[\"obama\"], twitter_prj_embs_bert[\"trump\"])\n",
    "print(twitter_prj_embs_ftsbert[\"biden\"], twitter_prj_embs_ftsbert[\"trump\"])"
   ]
  },
  {
   "cell_type": "markdown",
   "id": "f8b41e22",
   "metadata": {
    "hidden": true
   },
   "source": [
    "### calculate metrics"
   ]
  },
  {
   "cell_type": "code",
   "execution_count": 42,
   "id": "cf924e8c",
   "metadata": {
    "hidden": true
   },
   "outputs": [
    {
     "name": "stdout",
     "output_type": "stream",
     "text": [
      "CPU times: user 26 µs, sys: 0 ns, total: 26 µs\n",
      "Wall time: 30.5 µs\n"
     ]
    }
   ],
   "source": [
    "%%time\n",
    "import torch\n",
    "from tqdm import tqdm\n",
    "from torch.nn.functional import log_softmax\n",
    "\n",
    "\n",
    "\n",
    "def normalize(word_vectors):\n",
    "    norms = torch.norm(word_vectors, dim=1, keepdim=True)\n",
    "    res = word_vectors / (norms + 1e-6)\n",
    "    return res\n",
    "\n",
    "def calculate_prj_metrics(prj_model, dataset, cosine_bs=512):\n",
    "    print(\"calculating embeddings...\")\n",
    "    X, ys = zip(*dataset)\n",
    "\n",
    "    pi_list = list(set(ys))\n",
    "    pi_dict = {}\n",
    "    for pi in pi_list:\n",
    "        pi_dict[pi] = len(pi_dict)\n",
    "        \n",
    "    \n",
    "    emb_x = torch.tensor([prj_model[x] for x in X])\n",
    "    emb_all = torch.tensor([prj_model[y] for y in pi_list])\n",
    "\n",
    "    emb_x = normalize(emb_x)\n",
    "    emb_all = normalize(emb_all)\n",
    "    \n",
    "    print(\"calculating ranks...\")\n",
    "    \n",
    "    i = 0\n",
    "    pbar = tqdm(total=emb_x.shape[0])\n",
    "\n",
    "    target_ranks = []\n",
    "    softmax_scores = []\n",
    "    \n",
    "    while i < emb_x.shape[0]:\n",
    "        batch = emb_x[i:i+cosine_bs]\n",
    "        batch_y = ys[i:i+cosine_bs]\n",
    "        batch_cosine_scores = util.cos_sim(batch.to(device), emb_all.to(device))\n",
    "        batch_softmax = log_softmax(batch_cosine_scores, dim=1)\n",
    "        ranks = torch.argsort(torch.argsort(batch_cosine_scores, dim=1, descending=True), dim=1)\n",
    "        target_idxs = torch.tensor([pi_dict[y] for y in batch_y], dtype=torch.int64, device=device)\n",
    "        \n",
    "        batch_target_ranks = torch.gather(ranks, 1, target_idxs.unsqueeze(1).reshape(-1,1)).type(torch.FloatTensor)\n",
    "        batch_target_scores = torch.gather(batch_softmax, 1, target_idxs.unsqueeze(1).reshape(-1,1)).type(torch.FloatTensor)\n",
    "        \n",
    "        target_ranks.append(batch_target_ranks)\n",
    "        softmax_scores.append(batch_target_scores)\n",
    "        \n",
    "        i += cosine_bs\n",
    "        pbar.update(cosine_bs)\n",
    "\n",
    "\n",
    "    target_ranks = torch.concat(target_ranks)\n",
    "    softmax_scores = torch.concat(softmax_scores)\n",
    "    \n",
    "    avg_score = torch.mean(softmax_scores).item()\n",
    "    avg_rank = torch.mean(target_ranks).item()\n",
    "    top100_acc = len([r for r in target_ranks.reshape(1,-1).squeeze().tolist() if r < len(pi_dict)//100])/emb_x.shape[0]\n",
    "    \n",
    "    print(avg_rank, top100_acc, avg_score)\n",
    "    \n",
    "    return avg_rank, top100_acc, avg_score\n",
    "\n"
   ]
  },
  {
   "cell_type": "code",
   "execution_count": 43,
   "id": "c695896c",
   "metadata": {
    "hidden": true
   },
   "outputs": [
    {
     "name": "stdout",
     "output_type": "stream",
     "text": [
      "calculating embeddings...\n",
      "calculating ranks...\n"
     ]
    },
    {
     "name": "stderr",
     "output_type": "stream",
     "text": [
      "100352it [00:01, 93673.15it/s]                           \n"
     ]
    },
    {
     "name": "stdout",
     "output_type": "stream",
     "text": [
      "5331.86767578125 0.13437 -9.514012336730957\n",
      "calculating embeddings...\n",
      "calculating ranks...\n"
     ]
    },
    {
     "name": "stderr",
     "output_type": "stream",
     "text": [
      "100352it [00:01, 97583.47it/s]                            \n"
     ]
    },
    {
     "name": "stdout",
     "output_type": "stream",
     "text": [
      "7762.83251953125 0.02314 -9.711689949035645\n",
      "calculating embeddings...\n",
      "calculating ranks...\n"
     ]
    },
    {
     "name": "stderr",
     "output_type": "stream",
     "text": [
      "100352it [00:01, 98576.58it/s]                            \n"
     ]
    },
    {
     "name": "stdout",
     "output_type": "stream",
     "text": [
      "7530.09130859375 0.01411 -9.722024917602539\n",
      "calculating embeddings...\n",
      "calculating ranks...\n"
     ]
    },
    {
     "name": "stderr",
     "output_type": "stream",
     "text": [
      "100352it [00:01, 95414.90it/s]                            \n"
     ]
    },
    {
     "name": "stdout",
     "output_type": "stream",
     "text": [
      "6554.21435546875 0.04553 -9.652565956115723\n",
      "calculating embeddings...\n",
      "calculating ranks...\n"
     ]
    },
    {
     "name": "stderr",
     "output_type": "stream",
     "text": [
      "100352it [00:01, 95937.35it/s]                           \n"
     ]
    },
    {
     "name": "stdout",
     "output_type": "stream",
     "text": [
      "4772.92041015625 0.10004 -9.478482246398926\n",
      "calculating embeddings...\n",
      "calculating ranks...\n"
     ]
    },
    {
     "name": "stderr",
     "output_type": "stream",
     "text": [
      "100352it [00:01, 96378.83it/s]                            "
     ]
    },
    {
     "name": "stdout",
     "output_type": "stream",
     "text": [
      "2442.5263671875 0.27541 -9.260104179382324\n"
     ]
    },
    {
     "name": "stderr",
     "output_type": "stream",
     "text": [
      "\n"
     ]
    }
   ],
   "source": [
    "twitter_w2v_prj_avg_rank, twitter_w2v_prj_top100acc, twitter_w2v_prj_avg_score = calculate_prj_metrics(twitter_prj_embs_w2v_negsampling, fixed_target_twitter_clm_ds)\n",
    "twitter_bert_prj_avg_rank, twitter_bert_prj_top100acc, twitter_bert_prj_avg_score = calculate_prj_metrics(twitter_prj_embs_bert, fixed_target_twitter_clm_ds)\n",
    "twitter_roberta_prj_avg_rank, twitter_roberta_prj_top100acc, twitter_roberta_prj_avg_score = calculate_prj_metrics(twitter_prj_embs_roberta, fixed_target_twitter_clm_ds)\n",
    "twitter_sbert_prj_avg_rank, twitter_sbert_prj_top100acc, twitter_sbert_prj_avg_score = calculate_prj_metrics(twitter_prj_embs_sbert, fixed_target_twitter_clm_ds)\n",
    "twitter_bertft_prj_avg_rank, twitter_bertft_prj_top100acc, twitter_bertft_prj_avg_score = calculate_prj_metrics(twitter_prj_embs_ftbert, fixed_target_twitter_clm_ds)\n",
    "twitter_sbertft_prj_avg_rank, twitter_sbertft_prj_top100acc, twitter_sbertft_prj_avg_score = calculate_prj_metrics(twitter_prj_embs_ftsbert, fixed_target_twitter_clm_ds)"
   ]
  },
  {
   "cell_type": "code",
   "execution_count": 44,
   "id": "46f39bfb",
   "metadata": {
    "hidden": true
   },
   "outputs": [
    {
     "name": "stdout",
     "output_type": "stream",
     "text": [
      "calculating embeddings...\n",
      "calculating ranks...\n"
     ]
    },
    {
     "name": "stderr",
     "output_type": "stream",
     "text": [
      "165888it [00:00, 225658.46it/s]                            \n"
     ]
    },
    {
     "name": "stdout",
     "output_type": "stream",
     "text": [
      "3343.31640625 0.012108932146561497 nan\n",
      "calculating embeddings...\n",
      "calculating ranks...\n"
     ]
    },
    {
     "name": "stderr",
     "output_type": "stream",
     "text": [
      "165888it [00:00, 220501.41it/s]                            \n"
     ]
    },
    {
     "name": "stdout",
     "output_type": "stream",
     "text": [
      "3185.967041015625 0.014159249342692429 -8.83051586151123\n",
      "calculating embeddings...\n",
      "calculating ranks...\n"
     ]
    },
    {
     "name": "stderr",
     "output_type": "stream",
     "text": [
      "165888it [00:00, 223189.54it/s]                            \n"
     ]
    },
    {
     "name": "stdout",
     "output_type": "stream",
     "text": [
      "2854.643798828125 0.012549147309260197 -8.835498809814453\n",
      "calculating embeddings...\n",
      "calculating ranks...\n"
     ]
    },
    {
     "name": "stderr",
     "output_type": "stream",
     "text": [
      "165888it [00:00, 217073.87it/s]                            \n"
     ]
    },
    {
     "name": "stdout",
     "output_type": "stream",
     "text": [
      "2017.238525390625 0.041850592179849 -8.673888206481934\n",
      "calculating embeddings...\n",
      "calculating ranks...\n"
     ]
    },
    {
     "name": "stderr",
     "output_type": "stream",
     "text": [
      "165888it [00:00, 218753.72it/s]                            \n"
     ]
    },
    {
     "name": "stdout",
     "output_type": "stream",
     "text": [
      "1862.4869384765625 0.09263212485225655 -8.615859985351562\n",
      "calculating embeddings...\n",
      "calculating ranks...\n"
     ]
    },
    {
     "name": "stderr",
     "output_type": "stream",
     "text": [
      "165888it [00:00, 215966.64it/s]                            "
     ]
    },
    {
     "name": "stdout",
     "output_type": "stream",
     "text": [
      "580.7388305664062 0.3606025520418747 -8.198338508605957\n"
     ]
    },
    {
     "name": "stderr",
     "output_type": "stream",
     "text": [
      "\n"
     ]
    }
   ],
   "source": [
    "wiki_w2v_prj_avg_rank, wiki_w2v_prj_top100acc, wiki_w2v_prj_avg_score = calculate_prj_metrics(wiki_prj_embs_w2v_cbow, fixed_target_wiki_clm_ds)\n",
    "wiki_bert_prj_avg_rank, wiki_bert_prj_top100acc, wiki_bert_prj_avg_score = calculate_prj_metrics(wiki_prj_embs_bert, fixed_target_wiki_clm_ds)\n",
    "wiki_roberta_prj_avg_rank, wiki_roberta_prj_top100acc, wiki_roberta_prj_avg_score = calculate_prj_metrics(wiki_prj_embs_roberta, fixed_target_wiki_clm_ds)\n",
    "wiki_sbert_prj_avg_rank, wiki_sbert_prj_top100acc, wiki_sbert_prj_avg_score = calculate_prj_metrics(wiki_prj_embs_sbert, fixed_target_wiki_clm_ds)\n",
    "wiki_bertft_prj_avg_rank, wiki_bertft_prj_top100acc, wiki_bertft_prj_avg_score = calculate_prj_metrics(wiki_prj_embs_ftbert, fixed_target_wiki_clm_ds)\n",
    "wiki_sbertft_prj_avg_rank, wiki_sbertft_prj_top100acc, wiki_sbertft_prj_avg_score = calculate_prj_metrics(wiki_prj_embs_ftsbert, fixed_target_wiki_clm_ds)\n"
   ]
  },
  {
   "cell_type": "markdown",
   "id": "bb8900f3",
   "metadata": {
    "heading_collapsed": true
   },
   "source": [
    "## frequency baseline"
   ]
  },
  {
   "cell_type": "code",
   "execution_count": null,
   "id": "2f34a26f",
   "metadata": {
    "hidden": true
   },
   "outputs": [],
   "source": [
    "from collections import Counter\n",
    "from tqdm import tqdm\n",
    "\n",
    "def load_bios(dataset='twitter', mode='test'):\n",
    "    with open(f'data/{dataset}_{mode}_bios.pkl', 'rb') as f:\n",
    "        bios = pickle.load(f)\n",
    "    \n",
    "    return bios\n",
    "\n",
    "\n",
    "def calculate_freq_ranks(dataset_name, dataset, return_ranks=False):\n",
    "\n",
    "    bios = load_bios(dataset=dataset_name, mode='train')\n",
    "    cntr = Counter()\n",
    "\n",
    "    _, ys = zip(*dataset)\n",
    "    y_set = set(ys)\n",
    "    \n",
    "    for bio in tqdm(bios):\n",
    "        for pi in bio:\n",
    "            if pi in y_set:\n",
    "                cntr.update([pi])\n",
    "\n",
    "    \n",
    "    ranks_d = {item[1][0]: item[0] for item in enumerate(cntr.most_common())}\n",
    "    ranks = [ranks_d[x] for x in ys]\n",
    "    avg_rank = np.mean(ranks)\n",
    "    top100_acc = np.sum(np.where(np.array(ranks)<=100, 1., 0.))/len(ranks)\n",
    "    \n",
    "    if return_ranks:\n",
    "        return avg_rank, top100_acc, ranks\n",
    "\n",
    "    return avg_rank, top100_acc\n",
    "    \n",
    "# twitter_freq_based_avg_rank, twitter_freq_based_top100acc, twitter_freq_based_ranks = calculate_freq_ranks('twitter', fixed_target_twitter_clm_ds, return_ranks=True)\n",
    "wiki_freq_based_avg_rank, wiki_freq_based_top100acc, wiki_freq_based_ranks = calculate_freq_ranks('wiki', fixed_target_wiki_clm_ds, return_ranks=True)\n",
    "# wiki_freq_based_avg_rank, wiki_freq_based_top100acc = calculate_freq_ranks('wiki', fixed_target_wiki_clm_ds)\n"
   ]
  },
  {
   "cell_type": "markdown",
   "id": "e2c92921",
   "metadata": {},
   "source": [
    "## calculate metrics"
   ]
  },
  {
   "cell_type": "code",
   "execution_count": 10,
   "id": "fe8db5c5",
   "metadata": {},
   "outputs": [
    {
     "name": "stdout",
     "output_type": "stream",
     "text": [
      "CPU times: user 19 µs, sys: 0 ns, total: 19 µs\n",
      "Wall time: 21.7 µs\n"
     ]
    }
   ],
   "source": [
    "%%time\n",
    "import torch\n",
    "from sentence_transformers import SentenceTransformer, models, util\n",
    "from tqdm import tqdm\n",
    "from torch.nn.functional import log_softmax\n",
    "\n",
    "\n",
    "\n",
    "def normalize(word_vectors):\n",
    "    norms = torch.norm(word_vectors, dim=1, keepdim=True)\n",
    "    res = word_vectors / (norms + 1e-6)\n",
    "    return res\n",
    "\n",
    "def calculate_clm_based_metrics(clm_model, tokenizer, dataset, pi_dict,\n",
    "                                default_encoder=False, device='cuda:0', average_k_layers=1,\n",
    "                                cosine_bs=512, emb_bs=512, return_ranks=False):\n",
    "    print(\"calculating embeddings...\")\n",
    "    pi_list = list(pi_dict.keys())\n",
    "    X, ys = zip(*dataset)\n",
    "    \n",
    "    if default_encoder:        \n",
    "        emb_x = get_sbertbased_results_batched(clm_model, X, bs=emb_bs)\n",
    "        emb_all = get_sbertbased_results_batched(clm_model, pi_list, bs=emb_bs)\n",
    "            \n",
    "    else:\n",
    "        emb_x = get_results_batched(clm_model, tokenizer, X, average_k_layers=average_k_layers, bs=emb_bs)\n",
    "        emb_all = get_results_batched(clm_model, tokenizer, pi_list, average_k_layers=average_k_layers, bs=emb_bs)\n",
    "\n",
    "    print(\"calculating ranks...\")\n",
    "    \n",
    "    emb_x = normalize(emb_x)\n",
    "    emb_all = normalize(emb_all)\n",
    "    \n",
    "    \n",
    "    i = 0\n",
    "    pbar = tqdm(total=emb_x.shape[0])\n",
    "\n",
    "    target_ranks = []\n",
    "    softmax_scores = []\n",
    "    \n",
    "    while i < emb_x.shape[0]:\n",
    "        batch = emb_x[i:i+cosine_bs]\n",
    "        batch_y = ys[i:i+cosine_bs]\n",
    "        batch_cosine_scores = util.cos_sim(batch.to(device), emb_all.to(device))\n",
    "        batch_softmax = log_softmax(batch_cosine_scores, dim=1)\n",
    "#         print(torch.sum(batch_softmax, dim=1), torch.sum(batch_softmax, dim=1).shape)\n",
    "        ranks = torch.argsort(torch.argsort(batch_cosine_scores, dim=1, descending=True), dim=1)\n",
    "        target_idxs = torch.tensor([pi_dict[y] for y in batch_y], dtype=torch.int64, device=device)\n",
    "        \n",
    "        batch_target_ranks = torch.gather(ranks, 1, target_idxs.unsqueeze(1).reshape(-1,1)).type(torch.FloatTensor)\n",
    "        batch_target_scores = torch.gather(batch_softmax, 1, target_idxs.unsqueeze(1).reshape(-1,1)).type(torch.FloatTensor)\n",
    "        \n",
    "        target_ranks.append(batch_target_ranks)\n",
    "        softmax_scores.append(batch_target_scores)\n",
    "        \n",
    "        i += cosine_bs\n",
    "        pbar.update(cosine_bs)\n",
    "\n",
    "\n",
    "    target_ranks = torch.concat(target_ranks)\n",
    "    softmax_scores = torch.concat(softmax_scores)\n",
    "    \n",
    "#     print(softmax_scores)\n",
    "\n",
    "    avg_score = torch.mean(softmax_scores).item()\n",
    "    avg_rank = torch.mean(target_ranks).item()\n",
    "#     \n",
    "    top100_acc = len([r for r in target_ranks.reshape(1,-1).squeeze().tolist() if r < len(pi_list)//100])/emb_x.shape[0]\n",
    "    \n",
    "    print(avg_rank, top100_acc, avg_score)\n",
    "    \n",
    "    if return_ranks:\n",
    "        return avg_rank, top100_acc, avg_score, target_ranks.tolist()\n",
    "    return avg_rank, top100_acc, avg_score"
   ]
  },
  {
   "cell_type": "markdown",
   "id": "afb2270a",
   "metadata": {},
   "source": [
    "### twitter restricted target experiments"
   ]
  },
  {
   "cell_type": "code",
   "execution_count": 11,
   "id": "df4ac2db",
   "metadata": {
    "scrolled": true
   },
   "outputs": [
    {
     "name": "stdout",
     "output_type": "stream",
     "text": [
      "calculating embeddings...\n"
     ]
    },
    {
     "name": "stderr",
     "output_type": "stream",
     "text": [
      "100352it [00:57, 1747.06it/s]                           \n",
      "22528it [00:06, 3295.32it/s]                           \n"
     ]
    },
    {
     "name": "stdout",
     "output_type": "stream",
     "text": [
      "calculating ranks...\n"
     ]
    },
    {
     "name": "stderr",
     "output_type": "stream",
     "text": [
      "100352it [00:03, 29692.57it/s]                           "
     ]
    },
    {
     "name": "stdout",
     "output_type": "stream",
     "text": [
      "1556.8677978515625 0.46216 -9.599580764770508\n",
      "CPU times: user 1min 31s, sys: 16.7 s, total: 1min 48s\n",
      "Wall time: 1min 7s\n"
     ]
    },
    {
     "name": "stderr",
     "output_type": "stream",
     "text": [
      "\n"
     ]
    }
   ],
   "source": [
    "%%time\n",
    "\n",
    "# sbert and its finetuned\n",
    "twitter_sbertft_avg_rank, twitter_sbertft_top100acc, twitter_sbertft_avg_score, twitter_sbertft_ranks = calculate_clm_based_metrics(\n",
    "    clm_model=twitter_ft_sbert,\n",
    "    tokenizer=None,\n",
    "    dataset=fixed_target_twitter_clm_ds,\n",
    "    pi_dict=twitter_target_restricted_pis,\n",
    "    default_encoder=True,\n",
    "    return_ranks=True,\n",
    ")\n",
    "\n",
    "# twitter_sbertft10_avg_rank, twitter_sbertft10_top100acc, twitter_sbertft10_avg_score, twitter_sbertft10_ranks = calculate_clm_based_metrics(\n",
    "#     clm_model=twitter_ft_sbert_10p,\n",
    "#     tokenizer=None,\n",
    "#     dataset=fixed_target_twitter_clm_ds,\n",
    "#     pi_dict=twitter_target_restricted_pis,\n",
    "#     default_encoder=True,\n",
    "#     return_ranks=True,\n",
    "# )\n",
    "\n",
    "# twitter_sbert_avg_rank, twitter_sbert_top100acc, twitter_sbert_avg_score, twitter_sbert_ranks =  calculate_clm_based_metrics(\n",
    "#     clm_model=sbert_model,\n",
    "#     tokenizer=None,\n",
    "#     dataset=fixed_target_twitter_clm_ds,\n",
    "#     pi_dict=twitter_target_restricted_pis,\n",
    "#     default_encoder=True,\n",
    "#     return_ranks=True,\n",
    "# )\n",
    "\n",
    "# bert and roberta\n",
    "\n",
    "# twitter_bert_avg_rank, twitter_bert_top100acc, twitter_bert_avg_score, twitter_bert_ranks = calculate_clm_based_metrics(\n",
    "#     clm_model=bert_model,\n",
    "#     tokenizer=bert_tokenizer,\n",
    "#     dataset=fixed_target_twitter_clm_ds,\n",
    "#     pi_dict=twitter_target_restricted_pis,\n",
    "#     default_encoder=False,\n",
    "#     return_ranks=True,\n",
    "#     average_k_layers=1\n",
    "# )\n",
    "\n",
    "# twitter_roberta_avg_rank, twitter_roberta_top100acc, twitter_roberta_avg_score, twitter_roberta_ranks =  calculate_clm_based_metrics(\n",
    "#     clm_model=roberta_model,\n",
    "#     tokenizer=roberta_tokenizer,\n",
    "#     dataset=fixed_target_twitter_clm_ds,\n",
    "#     pi_dict=twitter_target_restricted_pis,\n",
    "#     default_encoder=False,\n",
    "#     return_ranks=True,\n",
    "#     average_k_layers=1\n",
    "# )\n",
    "\n",
    "# twitter_bertft_avg_rank, twitter_bertft_top100acc, twitter_bertft_avg_score, twitter_bertft_ranks =  calculate_clm_based_metrics(\n",
    "#     clm_model=bert_ft_twitter_model,\n",
    "#     tokenizer=bert_ft_tokenizer,\n",
    "#     dataset=fixed_target_twitter_clm_ds,\n",
    "#     pi_dict=twitter_target_restricted_pis,\n",
    "#     default_encoder=False,\n",
    "#     return_ranks=True,\n",
    "#     average_k_layers=1\n",
    "# )\n",
    "\n",
    "# twitter_bertft50_avg_rank, twitter_bertft50_top100acc, twitter_bertft50_avg_score, twitter_bertft50_ranks =  calculate_clm_based_metrics(\n",
    "#     clm_model=bert_ft50_twitter_model,\n",
    "#     tokenizer=bert_ft_tokenizer,\n",
    "#     dataset=fixed_target_twitter_clm_ds,\n",
    "#     pi_dict=twitter_target_restricted_pis,\n",
    "#     default_encoder=False,\n",
    "#     return_ranks=True,\n",
    "#     average_k_layers=1\n",
    "# )\n",
    "\n",
    "# twitter_bertftlarge_avg_rank, twitter_bertftlarge_top100acc, twitter_bertftlarge_avg_score, twitter_bertftlarge_ranks =  calculate_clm_based_metrics(\n",
    "#     clm_model=bertlarge_ft_twitter_model,\n",
    "#     tokenizer=bertlarge_ft_tokenizer,\n",
    "#     dataset=fixed_target_twitter_clm_ds,\n",
    "#     pi_dict=twitter_target_restricted_pis,\n",
    "#     default_encoder=False,\n",
    "#     return_ranks=True,\n",
    "#     average_k_layers=1\n",
    "# )\n"
   ]
  },
  {
   "cell_type": "markdown",
   "id": "e0e1e6e7",
   "metadata": {},
   "source": [
    "## wiki restricted target experiments"
   ]
  },
  {
   "cell_type": "code",
   "execution_count": null,
   "id": "bb04096c",
   "metadata": {},
   "outputs": [],
   "source": [
    "%%time\n",
    "\n",
    "# sbert and its finetuned\n",
    "wiki_sbertft_avg_rank, wiki_sbertft_top100acc, wiki_sbertft_avg_score, wiki_sbertft_ranks = calculate_clm_based_metrics(\n",
    "    clm_model=wiki_ft_sbert,\n",
    "    tokenizer=None,\n",
    "    dataset=fixed_target_wiki_clm_ds,\n",
    "    pi_dict=wiki_target_restricted_pis,\n",
    "    default_encoder=True,\n",
    "    return_ranks=True,\n",
    ")\n",
    "\n",
    "wiki_sbert_avg_rank, wiki_sbert_top100acc, wiki_sbert_avg_score, wiki_sbert_ranks =  calculate_clm_based_metrics(\n",
    "    clm_model=sbert_model,\n",
    "    tokenizer=None,\n",
    "    dataset=fixed_target_wiki_clm_ds,\n",
    "    pi_dict=wiki_target_restricted_pis,\n",
    "    default_encoder=True,\n",
    "    return_ranks=True,\n",
    ")\n",
    "\n",
    "# bert and roberta\n",
    "\n",
    "wiki_bert_avg_rank, wiki_bert_top100acc, wiki_bert_avg_score, wiki_bert_ranks = calculate_clm_based_metrics(\n",
    "    clm_model=bert_model,\n",
    "    tokenizer=bert_tokenizer,\n",
    "    dataset=fixed_target_wiki_clm_ds,\n",
    "    pi_dict=wiki_target_restricted_pis,\n",
    "    default_encoder=False,\n",
    "    return_ranks=True,\n",
    "    average_k_layers=1\n",
    ")\n",
    "\n",
    "wiki_roberta_avg_rank, wiki_roberta_top100acc, wiki_roberta_avg_score, wiki_roberta_ranks =  calculate_clm_based_metrics(\n",
    "    clm_model=roberta_model,\n",
    "    tokenizer=roberta_tokenizer,\n",
    "    dataset=fixed_target_wiki_clm_ds,\n",
    "    pi_dict=wiki_target_restricted_pis,\n",
    "    default_encoder=False,\n",
    "    return_ranks=True,\n",
    "    average_k_layers=1\n",
    ")\n",
    "\n",
    "wiki_bertft_avg_rank, wiki_bertft_top100acc, wiki_bertft_avg_score, wiki_bertft_ranks =  calculate_clm_based_metrics(\n",
    "    clm_model=bert_ft_wiki_model,\n",
    "    tokenizer=bert_ft_tokenizer,\n",
    "    dataset=fixed_target_wiki_clm_ds,\n",
    "    pi_dict=wiki_target_restricted_pis,\n",
    "    default_encoder=False,\n",
    "    return_ranks=True,\n",
    "    average_k_layers=1\n",
    ")\n"
   ]
  },
  {
   "cell_type": "markdown",
   "id": "c002261e",
   "metadata": {
    "heading_collapsed": true
   },
   "source": [
    "### full bio metrics"
   ]
  },
  {
   "cell_type": "code",
   "execution_count": null,
   "id": "f827c08c",
   "metadata": {
    "hidden": true
   },
   "outputs": [],
   "source": [
    "%%time\n",
    "# sbert and its finetuned\n",
    "\n",
    "twitter_sbertft_avg_rank, twitter_sbertft_top100acc = calculate_clm_based_metrics(\n",
    "    clm_model=twitter_ft_sbert,\n",
    "    tokenizer=None,\n",
    "    dataset=clm_test_ds_twitter,\n",
    "    pi_dict=twitter_pi_dict,\n",
    "    default_encoder=True\n",
    ")\n",
    "\n",
    "twitter_sbert_avg_rank, twitter_sbert_top100acc =  calculate_clm_based_metrics(\n",
    "    clm_model=sbert_model,\n",
    "    tokenizer=None,\n",
    "    dataset=clm_test_ds_twitter,\n",
    "    pi_dict=twitter_pi_dict,\n",
    "    default_encoder=True\n",
    ")\n",
    "\n",
    "wiki_sbertft_avg_rank, wiki_sbertft_top100acc =  calculate_clm_based_metrics(\n",
    "    clm_model=wiki_ft_sbert,\n",
    "    tokenizer=None,\n",
    "    dataset=clm_test_ds_wiki,\n",
    "    pi_dict=wiki_pi_dict,\n",
    "    default_encoder=True\n",
    ")\n",
    "\n",
    "wiki_sbert_avg_rank, wiki_sbert_top100acc =  calculate_clm_based_metrics(\n",
    "    clm_model=sbert_model,\n",
    "    tokenizer=None,\n",
    "    dataset=clm_test_ds_wiki,\n",
    "    pi_dict=wiki_pi_dict,\n",
    "    default_encoder=True\n",
    ")\n",
    "\n",
    "# bert and bertweet\n",
    "\n",
    "twitter_bert_avg_rank, twitter_bert_top100acc = calculate_clm_based_metrics(\n",
    "    clm_model=bert_model,\n",
    "    tokenizer=bert_tokenizer,\n",
    "    dataset=clm_test_ds_twitter,\n",
    "    pi_dict=twitter_pi_dict,\n",
    "    default_encoder=False\n",
    ")\n",
    "\n",
    "twitter_bertweet_avg_rank, twitter_bertweet_top100acc =  calculate_clm_based_metrics(\n",
    "    clm_model=bertweet_model,\n",
    "    tokenizer=bertweet_tokenizer,\n",
    "    dataset=clm_test_ds_twitter,\n",
    "    pi_dict=twitter_pi_dict,\n",
    "    default_encoder=False\n",
    ")\n",
    "\n",
    "wiki_bert_avg_rank, wiki_bert_top100acc = calculate_clm_based_metrics(\n",
    "    clm_model=bert_model,\n",
    "    tokenizer=bert_tokenizer,\n",
    "    dataset=clm_test_ds_wiki,\n",
    "    pi_dict=wiki_pi_dict,\n",
    "    default_encoder=False\n",
    ")\n",
    "\n",
    "wiki_bertweet_avg_rank, wiki_bertweet_top100acc =  calculate_clm_based_metrics(\n",
    "    clm_model=bertweet_model,\n",
    "    tokenizer=bertweet_tokenizer,\n",
    "    dataset=clm_test_ds_wiki,\n",
    "    pi_dict=wiki_pi_dict,\n",
    "    default_encoder=False\n",
    ")"
   ]
  },
  {
   "cell_type": "markdown",
   "id": "38ab34f4",
   "metadata": {
    "heading_collapsed": true
   },
   "source": [
    "### random pi in bio metrics"
   ]
  },
  {
   "cell_type": "code",
   "execution_count": null,
   "id": "8c2a6bc5",
   "metadata": {
    "hidden": true
   },
   "outputs": [],
   "source": [
    "%%time\n",
    "# sbert and its finetuned\n",
    "\n",
    "twitterrand_sbertft_avg_rank, twitterrand_sbertft_top100acc = calculate_clm_based_metrics(\n",
    "    clm_model=twitter_ft_sbert,\n",
    "    tokenizer=None,\n",
    "    dataset=clm_test_ds_twitter_rand,\n",
    "    pi_dict=twitter_pi_dict,\n",
    "    default_encoder=True\n",
    ")\n",
    "\n",
    "twitterrand_sbert_avg_rank, twitterrand_sbert_top100acc =  calculate_clm_based_metrics(\n",
    "    clm_model=sbert_model,\n",
    "    tokenizer=None,\n",
    "    dataset=clm_test_ds_twitter_rand,\n",
    "    pi_dict=twitter_pi_dict,\n",
    "    default_encoder=True\n",
    ")\n",
    "\n",
    "wikirand_sbertft_avg_rank, wikirand_sbertft_top100acc =  calculate_clm_based_metrics(\n",
    "    clm_model=wiki_ft_sbert,\n",
    "    tokenizer=None,\n",
    "    dataset=clm_test_ds_wiki_rand,\n",
    "    pi_dict=wiki_pi_dict,\n",
    "    default_encoder=True\n",
    ")\n",
    "\n",
    "wikirand_sbert_avg_rank, wikirand_sbert_top100acc =  calculate_clm_based_metrics(\n",
    "    clm_model=sbert_model,\n",
    "    tokenizer=None,\n",
    "    dataset=clm_test_ds_wiki_rand,\n",
    "    pi_dict=wiki_pi_dict,\n",
    "    default_encoder=True\n",
    ")\n",
    "\n",
    "# bert and bertweet\n",
    "\n",
    "twitterrand_bert_avg_rank, twitterrand_bert_top100acc = calculate_clm_based_metrics(\n",
    "    clm_model=bert_model,\n",
    "    tokenizer=bert_tokenizer,\n",
    "    dataset=clm_test_ds_twitter_rand,\n",
    "    pi_dict=twitter_pi_dict,\n",
    "    default_encoder=False\n",
    ")\n",
    "\n",
    "twitterrand_bertweet_avg_rank, twitterrand_bertweet_top100acc =  calculate_clm_based_metrics(\n",
    "    clm_model=bertweet_model,\n",
    "    tokenizer=bertweet_tokenizer,\n",
    "    dataset=clm_test_ds_twitter_rand,\n",
    "    pi_dict=twitter_pi_dict,\n",
    "    default_encoder=False\n",
    ")\n",
    "\n",
    "wikirand_bert_avg_rank, wikirand_bert_top100acc = calculate_clm_based_metrics(\n",
    "    clm_model=bert_model,\n",
    "    tokenizer=bert_tokenizer,\n",
    "    dataset=clm_test_ds_wiki_rand,\n",
    "    pi_dict=wiki_pi_dict,\n",
    "    default_encoder=False\n",
    ")\n",
    "\n",
    "wikirand_bertweet_avg_rank, wikirand_bertweet_top100acc =  calculate_clm_based_metrics(\n",
    "    clm_model=bertweet_model,\n",
    "    tokenizer=bertweet_tokenizer,\n",
    "    dataset=clm_test_ds_wiki_rand,\n",
    "    pi_dict=wiki_pi_dict,\n",
    "    default_encoder=False\n",
    ")"
   ]
  },
  {
   "cell_type": "markdown",
   "id": "258c96e4",
   "metadata": {
    "heading_collapsed": true
   },
   "source": [
    "### non restricted test dataset"
   ]
  },
  {
   "cell_type": "code",
   "execution_count": null,
   "id": "ce735bee",
   "metadata": {
    "hidden": true
   },
   "outputs": [],
   "source": [
    "\n",
    "twitter_bert_avg_rank, twitter_bert_top100acc = calculate_clm_based_metrics(\n",
    "    clm_model=bert_model,\n",
    "    tokenizer=bert_tokenizer,\n",
    "    dataset=clm_test_ds_full_twitter,\n",
    "    pi_dict=twitter_pi_dict_full,\n",
    "    default_encoder=False,\n",
    "    emb_bs=512,\n",
    "    cosine_bs=512\n",
    ")\n",
    "\n",
    "wiki_bert_avg_rank, wiki_bert_top100acc = calculate_clm_based_metrics(\n",
    "    clm_model=bert_model,\n",
    "    tokenizer=bert_tokenizer,\n",
    "    dataset=clm_test_ds_full_wiki,\n",
    "    pi_dict=wiki_pi_dict_full,\n",
    "    default_encoder=False,\n",
    "    emb_bs=512,\n",
    "    cosine_bs=512\n",
    ")"
   ]
  },
  {
   "cell_type": "code",
   "execution_count": null,
   "id": "4601f7a7",
   "metadata": {
    "hidden": true
   },
   "outputs": [],
   "source": [
    "twitter_bertweet_avg_rank, twitter_bertweet_top100acc =  calculate_clm_based_metrics(\n",
    "    clm_model=bertweet_model,\n",
    "    tokenizer=bertweet_tokenizer,\n",
    "    dataset=clm_test_ds_full_twitter,\n",
    "    pi_dict=twitter_pi_dict_full,\n",
    "    default_encoder=False,\n",
    "    emb_bs=512,\n",
    "    cosine_bs=512\n",
    ")\n",
    "\n",
    "wiki_bertweet_avg_rank, wiki_bertweet_top100acc =  calculate_clm_based_metrics(\n",
    "    clm_model=bertweet_model,\n",
    "    tokenizer=bertweet_tokenizer,\n",
    "    dataset=clm_test_ds_full_wiki,\n",
    "    pi_dict=wiki_pi_dict_full,\n",
    "    default_encoder=False,\n",
    "    emb_bs=512,\n",
    "    cosine_bs=512\n",
    ")"
   ]
  },
  {
   "cell_type": "code",
   "execution_count": null,
   "id": "92beaea6",
   "metadata": {
    "hidden": true
   },
   "outputs": [],
   "source": [
    "\n",
    "twitter_sbertft_avg_rank, twitter_sbertft_top100acc = calculate_clm_based_metrics(\n",
    "    clm_model=twitter_ft_sbert,\n",
    "    tokenizer=None,\n",
    "    dataset=clm_test_ds_full_twitter,\n",
    "    pi_dict=twitter_pi_dict_full,\n",
    "    default_encoder=True,\n",
    "    emb_bs=512,\n",
    "    cosine_bs=512\n",
    ")\n",
    "\n",
    "twitter_sbert_avg_rank, twitter_sbert_top100acc =  calculate_clm_based_metrics(\n",
    "    clm_model=sbert_model,\n",
    "    tokenizer=None,\n",
    "    dataset=clm_test_ds_full_twitter,\n",
    "    pi_dict=twitter_pi_dict_full,\n",
    "    default_encoder=True,\n",
    "    emb_bs=512,\n",
    "    cosine_bs=512\n",
    ")\n",
    "\n",
    "wiki_sbertft_avg_rank, wiki_sbertft_top100acc =  calculate_clm_based_metrics(\n",
    "    clm_model=wiki_ft_sbert,\n",
    "    tokenizer=None,\n",
    "    dataset=clm_test_ds_full_wiki,\n",
    "    pi_dict=wiki_pi_dict_full,\n",
    "    default_encoder=True,\n",
    "    emb_bs=512,\n",
    "    cosine_bs=512\n",
    ")\n",
    "\n",
    "wiki_sbert_avg_rank, wiki_sbert_top100acc =  calculate_clm_based_metrics(\n",
    "    clm_model=sbert_model,\n",
    "    tokenizer=None,\n",
    "    dataset=clm_test_ds_full_wiki,\n",
    "    pi_dict=wiki_pi_dict_full,\n",
    "    default_encoder=True,\n",
    "    emb_bs=512,\n",
    "    cosine_bs=512\n",
    ")\n"
   ]
  },
  {
   "cell_type": "markdown",
   "id": "18c237ed",
   "metadata": {
    "heading_collapsed": true
   },
   "source": [
    "### cross platform models"
   ]
  },
  {
   "cell_type": "code",
   "execution_count": null,
   "id": "d644ef0b",
   "metadata": {
    "hidden": true
   },
   "outputs": [],
   "source": [
    "\n",
    "twitter_crossplt_sbertft_avg_rank, twitter_crossplt_sbertft_top100acc = calculate_clm_based_metrics(\n",
    "    clm_model=wiki_ft_sbert,\n",
    "    tokenizer=None,\n",
    "    dataset=clm_test_ds_full_twitter,\n",
    "    pi_dict=twitter_pi_dict_full,\n",
    "    default_encoder=True,\n",
    "    emb_bs=512,\n",
    "    cosine_bs=512\n",
    ")\n",
    "\n",
    "\n",
    "wiki_crossplt_sbertft_avg_rank, wiki_crossplt_sbertft_top100acc =  calculate_clm_based_metrics(\n",
    "    clm_model=twitter_ft_sbert,\n",
    "    tokenizer=None,\n",
    "    dataset=clm_test_ds_full_wiki,\n",
    "    pi_dict=wiki_pi_dict_full,\n",
    "    default_encoder=True,\n",
    "    emb_bs=512,\n",
    "    cosine_bs=512\n",
    ")\n"
   ]
  },
  {
   "cell_type": "markdown",
   "id": "83839422",
   "metadata": {},
   "source": [
    "## Full comparison"
   ]
  },
  {
   "cell_type": "markdown",
   "id": "1fad091d",
   "metadata": {
    "heading_collapsed": true
   },
   "source": [
    "### twitter only"
   ]
  },
  {
   "cell_type": "code",
   "execution_count": 43,
   "id": "2a535637",
   "metadata": {
    "hidden": true
   },
   "outputs": [
    {
     "data": {
      "image/png": "[encoded data removed]",
      "text/plain": [
       "<Figure size 504x216 with 1 Axes>"
      ]
     },
     "metadata": {},
     "output_type": "display_data"
    },
    {
     "data": {
      "image/png": "[encoded data removed]",
      "text/plain": [
       "<Figure size 504x216 with 1 Axes>"
      ]
     },
     "metadata": {},
     "output_type": "display_data"
    },
    {
     "data": {
      "image/png": "[encoded data removed]",
      "text/plain": [
       "<Figure size 504x216 with 1 Axes>"
      ]
     },
     "metadata": {},
     "output_type": "display_data"
    }
   ],
   "source": [
    "import seaborn as sns\n",
    "\n",
    "sns.set_theme()\n",
    "\n",
    "import matplotlib.pyplot as plt\n",
    "import pandas as pd\n",
    "\n",
    "df = pd.DataFrame({\n",
    "    'model': [\n",
    "        'Roberta',\n",
    "        'BERT',\n",
    "        'S-BERT',\n",
    "        'BERT-ft',\n",
    "        'w2v',\n",
    "        'S-BERT-ft',\n",
    "    ],\n",
    "    'dataset': [\n",
    "        'twitter',\n",
    "        'twitter',\n",
    "        'twitter',\n",
    "        'twitter',\n",
    "        'twitter',\n",
    "        'twitter',\n",
    "    ],\n",
    "    'avg_rank': [\n",
    "        twitter_roberta_avg_rank,\n",
    "        twitter_bert_avg_rank,\n",
    "        twitter_sbert_avg_rank,\n",
    "        twitter_bertft_avg_rank,\n",
    "        twitter_w2v_negsample_avgrank,         \n",
    "        twitter_sbertft_avg_rank,\n",
    "    ],\n",
    "    'avg_score': [\n",
    "        twitter_roberta_avg_score,\n",
    "        twitter_bert_avg_score,\n",
    "        twitter_sbert_avg_score,\n",
    "        twitter_bertft_avg_score,\n",
    "        twitter_w2v_negsample_avgscore,         \n",
    "        twitter_sbertft_avg_score,\n",
    "    ],\n",
    "    'top100_acc': [\n",
    "        twitter_roberta_top100acc,\n",
    "        twitter_bert_top100acc,\n",
    "        twitter_sbert_top100acc,\n",
    "        twitter_bertft_top100acc,\n",
    "        twitter_w2v_negsample_top100acc,\n",
    "        twitter_sbertft_top100acc,\n",
    "    ],\n",
    "})\n",
    "\n",
    "df.to_csv('performance_twitter_f500.csv', header=True, index=False)\n",
    "\n",
    "plt.figure(figsize=(7,3))\n",
    "sns.barplot(data=df, x='dataset', y='top100_acc', hue='model')\n",
    "plt.legend(bbox_to_anchor=(1.05, 1), loc='upper left', borderaxespad=0)\n",
    "plt.show()\n",
    "\n",
    "plt.figure(figsize=(7,3))\n",
    "sns.barplot(data=df, x='dataset', y='avg_rank', hue='model')\n",
    "plt.legend(bbox_to_anchor=(1.05, 1), loc='upper left', borderaxespad=0)\n",
    "plt.show()\n",
    "\n",
    "plt.figure(figsize=(7,3))\n",
    "sns.barplot(data=df, x='dataset', y='avg_score', hue='model')\n",
    "plt.legend(bbox_to_anchor=(1.05, 1), loc='upper left', borderaxespad=0)\n",
    "plt.show()"
   ]
  },
  {
   "cell_type": "markdown",
   "id": "53d6d462",
   "metadata": {
    "heading_collapsed": true
   },
   "source": [
    "### twitter vs wiki - projection"
   ]
  },
  {
   "cell_type": "code",
   "execution_count": null,
   "id": "d5e7d2a1",
   "metadata": {
    "hidden": true
   },
   "outputs": [],
   "source": [
    "twitter_w2v_prj_avg_rank, twitter_w2v_prj_top100acc, twitter_w2v_prj_avg_score\n",
    "\n",
    "import seaborn as sns\n",
    "\n",
    "sns.set_theme()\n",
    "\n",
    "import matplotlib.pyplot as plt\n",
    "import pandas as pd\n",
    "\n",
    "df = pd.DataFrame({\n",
    "    'model': [\n",
    "        'w2v',\n",
    "        'w2v',\n",
    "        'BERT',\n",
    "        'BERT',\n",
    "        'S-BERT',\n",
    "        'S-BERT',\n",
    "        'Roberta',\n",
    "        'Roberta',\n",
    "        'S-BERT-ft',\n",
    "        'S-BERT-ft',\n",
    "        'BERT-ft',\n",
    "        'BERT-ft'\n",
    "    ],\n",
    "    'dataset': [\n",
    "        'twitter',\n",
    "        'wiki',\n",
    "        'twitter',\n",
    "        'wiki',\n",
    "        'twitter',\n",
    "        'wiki',\n",
    "        'twitter',\n",
    "        'wiki',\n",
    "        'twitter',\n",
    "        'wiki',\n",
    "        'twitter',\n",
    "        'wiki',\n",
    "    ],\n",
    "    'avg_rank': [\n",
    "        twitter_w2v_prj_avg_rank, \n",
    "        wiki_w2v_prj_avg_rank,\n",
    "        twitter_bert_prj_avg_rank, \n",
    "        wiki_bert_prj_avg_rank,\n",
    "        twitter_sbert_prj_avg_rank, \n",
    "        wiki_sbert_prj_avg_rank,\n",
    "        twitter_roberta_prj_avg_rank, \n",
    "        wiki_roberta_prj_avg_rank,\n",
    "        twitter_sbertft_prj_avg_rank, \n",
    "        wiki_sbertft_prj_avg_rank,\n",
    "        twitter_bertft_prj_avg_rank, \n",
    "        wiki_bertft_prj_avg_rank,\n",
    "    ],\n",
    "    'avg_score': [\n",
    "        twitter_w2v_prj_avg_score, \n",
    "        wiki_w2v_prj_avg_score,\n",
    "        twitter_bert_prj_avg_score, \n",
    "        wiki_bert_prj_avg_score,\n",
    "        twitter_sbert_prj_avg_score, \n",
    "        wiki_sbert_prj_avg_score,\n",
    "        twitter_roberta_prj_avg_score,\n",
    "        wiki_roberta_prj_avg_score,\n",
    "        twitter_sbertft_prj_avg_score, \n",
    "        wiki_sbertft_prj_avg_score,\n",
    "        twitter_bertft_prj_avg_score, \n",
    "        wiki_bertft_prj_avg_score,\n",
    "    ],\n",
    "    'top100_acc': [\n",
    "        twitter_w2v_prj_top100acc, \n",
    "        wiki_w2v_prj_top100acc,\n",
    "        twitter_bert_prj_top100acc, \n",
    "        wiki_bert_prj_top100acc,\n",
    "        twitter_sbert_prj_top100acc, \n",
    "        wiki_sbert_prj_top100acc,\n",
    "        twitter_roberta_prj_top100acc,\n",
    "        wiki_roberta_prj_top100acc,\n",
    "        twitter_sbertft_prj_top100acc, \n",
    "        wiki_sbertft_prj_top100acc,\n",
    "        twitter_bertft_prj_top100acc, \n",
    "        wiki_bertft_prj_top100acc,\n",
    "    ],\n",
    "})\n",
    "\n",
    "df.to_csv('projection_final_results.csv', header=True, index=False)\n",
    "\n",
    "plt.figure(figsize=(7,3))\n",
    "sns.barplot(data=df, x='dataset', y='top100_acc', hue='model')\n",
    "plt.legend(bbox_to_anchor=(1.05, 1), loc='upper left', borderaxespad=0)\n",
    "plt.show()\n",
    "\n",
    "plt.figure(figsize=(7,3))\n",
    "sns.barplot(data=df, x='dataset', y='avg_rank', hue='model')\n",
    "plt.legend(bbox_to_anchor=(1.05, 1), loc='upper left', borderaxespad=0)\n",
    "plt.show()\n",
    "\n",
    "plt.figure(figsize=(7,3))\n",
    "sns.barplot(data=df, x='dataset', y='avg_score', hue='model')\n",
    "plt.legend(bbox_to_anchor=(1.05, 1), loc='upper left', borderaxespad=0)\n",
    "plt.show()"
   ]
  },
  {
   "cell_type": "markdown",
   "id": "4457f43d",
   "metadata": {
    "heading_collapsed": true
   },
   "source": [
    "### twitter vs wiki"
   ]
  },
  {
   "cell_type": "code",
   "execution_count": 51,
   "id": "e64b7670",
   "metadata": {
    "hidden": true
   },
   "outputs": [
    {
     "data": {
      "image/png": "[encoded data removed]",
      "text/plain": [
       "<Figure size 504x216 with 1 Axes>"
      ]
     },
     "metadata": {},
     "output_type": "display_data"
    },
    {
     "data": {
      "image/png": "[encoded data removed]",
      "text/plain": [
       "<Figure size 504x216 with 1 Axes>"
      ]
     },
     "metadata": {},
     "output_type": "display_data"
    },
    {
     "data": {
      "image/png": "[encoded data removed]",
      "text/plain": [
       "<Figure size 504x216 with 1 Axes>"
      ]
     },
     "metadata": {},
     "output_type": "display_data"
    }
   ],
   "source": [
    "import seaborn as sns\n",
    "\n",
    "sns.set_theme()\n",
    "\n",
    "import matplotlib.pyplot as plt\n",
    "import pandas as pd\n",
    "\n",
    "df = pd.DataFrame({\n",
    "    'model': [\n",
    "        'RoBERTa',\n",
    "        'RoBERTa',\n",
    "        'BERT',\n",
    "        'BERT',\n",
    "        'SBERT',\n",
    "        'SBERT',\n",
    "        'BERT-ft',\n",
    "        'BERT-ft',\n",
    "        'w2v',\n",
    "        'w2v',\n",
    "        'SBERT-ft',\n",
    "        'SBERT-ft',\n",
    "    ],\n",
    "    'dataset': [\n",
    "        'twitter',\n",
    "        'wiki',\n",
    "        'twitter',\n",
    "        'wiki',\n",
    "        'twitter',\n",
    "        'wiki',\n",
    "        'twitter',\n",
    "        'wiki',\n",
    "        'twitter',\n",
    "        'wiki',\n",
    "        'twitter',\n",
    "        'wiki',\n",
    "    ],\n",
    "    'avg_rank': [\n",
    "        twitter_roberta_avg_rank,\n",
    "        wiki_roberta_avg_rank,\n",
    "        \n",
    "        twitter_bert_avg_rank,\n",
    "        wiki_bert_avg_rank,\n",
    "        twitter_sbert_avg_rank,\n",
    "        wiki_sbert_avg_rank,\n",
    "        \n",
    "        twitter_bertft_avg_rank,\n",
    "        wiki_bertft_avg_rank,\n",
    "        \n",
    "        twitter_w2v_negsample_avgrank, \n",
    "        wiki_w2v_cbow_avgrank,\n",
    "        twitter_sbertft_avg_rank,\n",
    "        wiki_sbertft_avg_rank,\n",
    "    ],\n",
    "    'avg_score': [\n",
    "        twitter_roberta_avg_score,\n",
    "        wiki_roberta_avg_score,\n",
    "        \n",
    "        twitter_bert_avg_score,\n",
    "        wiki_bert_avg_score,\n",
    "        twitter_sbert_avg_score,\n",
    "        wiki_sbert_avg_score,\n",
    "        \n",
    "        twitter_bertft_avg_score,\n",
    "        wiki_bertft_avg_score,\n",
    "        \n",
    "        twitter_w2v_negsample_avgscore, \n",
    "        wiki_w2v_cbow_avgscore,\n",
    "        twitter_sbertft_avg_score,\n",
    "        wiki_sbertft_avg_score,\n",
    "    ],\n",
    "    'top1percent_acc': [\n",
    "        twitter_roberta_top100acc,\n",
    "        wiki_roberta_top100acc,\n",
    "        \n",
    "        twitter_bert_top100acc,\n",
    "        wiki_bert_top100acc,\n",
    "        twitter_sbert_top100acc,\n",
    "        wiki_sbert_top100acc,\n",
    "        \n",
    "        twitter_bertft_top100acc,\n",
    "        wiki_bertft_top100acc,\n",
    "        \n",
    "        twitter_w2v_negsample_top100acc,\n",
    "        wiki_w2v_cbow_top100acc,\n",
    "        twitter_sbertft_top100acc,\n",
    "        wiki_sbertft_top100acc,\n",
    "    ],\n",
    "})\n",
    "\n",
    "df.to_csv('final_performance_results_f500.csv', header=True, index=False)\n",
    "\n",
    "plt.figure(figsize=(7,3))\n",
    "sns.barplot(data=df, x='dataset', y='top1percent_acc', hue='model')\n",
    "plt.legend(bbox_to_anchor=(1.05, 1), loc='upper left', borderaxespad=0)\n",
    "plt.show()\n",
    "\n",
    "plt.figure(figsize=(7,3))\n",
    "sns.barplot(data=df, x='dataset', y='avg_rank', hue='model')\n",
    "plt.legend(bbox_to_anchor=(1.05, 1), loc='upper left', borderaxespad=0)\n",
    "plt.show()\n",
    "\n",
    "plt.figure(figsize=(7,3))\n",
    "sns.barplot(data=df, x='dataset', y='avg_score', hue='model')\n",
    "plt.legend(bbox_to_anchor=(1.05, 1), loc='upper left', borderaxespad=0)\n",
    "plt.show()"
   ]
  },
  {
   "cell_type": "code",
   "execution_count": null,
   "id": "68cba604",
   "metadata": {
    "hidden": true
   },
   "outputs": [],
   "source": [
    "import seaborn as sns\n",
    "\n",
    "sns.set_theme()\n",
    "\n",
    "import matplotlib.pyplot as plt\n",
    "import pandas as pd\n",
    "\n",
    "df = pd.DataFrame({\n",
    "    'model': [\n",
    "        'w2v',\n",
    "        'w2v',\n",
    "        'BERT',\n",
    "        'BERT',\n",
    "        'S-BERT',\n",
    "        'S-BERT',\n",
    "        'BerTweet',\n",
    "        'BerTweet',\n",
    "        'S-BERT-ft',\n",
    "        'S-BERT-ft',\n",
    "    ],\n",
    "    'dataset': [\n",
    "        'twitter',\n",
    "        'wiki',\n",
    "        'twitter',\n",
    "        'wiki',\n",
    "        'twitter',\n",
    "        'wiki',\n",
    "        'twitter',\n",
    "        'wiki',\n",
    "        'twitter',\n",
    "        'wiki',\n",
    "    ],\n",
    "    'avg_rank': [\n",
    "        twitterrand_w2v_negsample_avgrank,\n",
    "        wiki_w2v_cbow_avgrank,\n",
    "        wikirand_w2v_cbow_avgrank,\n",
    "        twitterrand_bert_avg_rank,\n",
    "        wikirand_bert_avg_rank,\n",
    "        twitterrand_sbert_avg_rank,\n",
    "        wikirand_sbert_avg_rank,\n",
    "        twitterrand_bertweet_avg_rank,\n",
    "        wikirand_bertweet_avg_rank,\n",
    "        twitterrand_sbertft_avg_rank,\n",
    "        wikirand_sbertft_avg_rank,\n",
    "    ],\n",
    "    'top100_acc': [\n",
    "        twitterrand_w2v_negsample_top100acc,\n",
    "        wiki_w2v_cbow_top100acc\n",
    "        wikirand_w2v_cbow_top100acc,\n",
    "        twitterrand_bert_top100acc,\n",
    "        wikirand_bert_top100acc,\n",
    "        twitterrand_sbert_top100acc,\n",
    "        wikirand_sbert_top100acc,\n",
    "        twitterrand_bertweet_top100acc,\n",
    "        wikirand_bertweet_top100acc,\n",
    "        twitterrand_sbertft_top100acc,\n",
    "        wikirand_sbertft_top100acc,\n",
    "    ],\n",
    "})\n",
    "\n",
    "df.to_csv('result_restricted_randombio.csv', header=True, index=False)\n",
    "\n",
    "sns.barplot(data=df, x='dataset', y='top100_acc', hue='model')\n",
    "plt.show()\n",
    "\n",
    "sns.barplot(data=df, x='dataset', y='avg_rank', hue='model')\n",
    "plt.show()"
   ]
  },
  {
   "cell_type": "markdown",
   "id": "45234589",
   "metadata": {},
   "source": [
    "### twitter generalization"
   ]
  },
  {
   "cell_type": "code",
   "execution_count": 82,
   "id": "c2f5b365",
   "metadata": {},
   "outputs": [
    {
     "data": {
      "image/png": "[encoded data removed]",
      "text/plain": [
       "<Figure size 288x288 with 1 Axes>"
      ]
     },
     "metadata": {},
     "output_type": "display_data"
    },
    {
     "data": {
      "image/png": "[encoded data removed]",
      "text/plain": [
       "<Figure size 288x288 with 1 Axes>"
      ]
     },
     "metadata": {},
     "output_type": "display_data"
    },
    {
     "data": {
      "image/png": "[encoded data removed]",
      "text/plain": [
       "<Figure size 288x288 with 1 Axes>"
      ]
     },
     "metadata": {},
     "output_type": "display_data"
    }
   ],
   "source": [
    "import seaborn as sns\n",
    "\n",
    "sns.set_theme()\n",
    "\n",
    "import matplotlib.pyplot as plt\n",
    "import pandas as pd\n",
    "\n",
    "df = pd.DataFrame({\n",
    "    'model': [\n",
    "        'RoBERTa',\n",
    "        'BERT',\n",
    "        'SBERT',\n",
    "        'BERT-ft',\n",
    "        'SBERT-ft',\n",
    "    ],\n",
    "    'dataset': [\n",
    "        'twitter',\n",
    "        'twitter',\n",
    "        'twitter',\n",
    "        'twitter',\n",
    "        'twitter',\n",
    "    ],\n",
    "    'avg_rank': [\n",
    "        twitter_roberta_avg_rank,\n",
    "        \n",
    "        twitter_bert_avg_rank,\n",
    "        twitter_sbert_avg_rank,\n",
    "        \n",
    "        twitter_bertft_avg_rank,\n",
    "        \n",
    "        twitter_sbertft_avg_rank,\n",
    "    ],\n",
    "    'avg_score': [\n",
    "        twitter_roberta_avg_score,\n",
    "\n",
    "        twitter_bert_avg_score,\n",
    "\n",
    "        twitter_sbert_avg_score,\n",
    "        twitter_bertft_avg_score,\n",
    "        \n",
    "        \n",
    "        twitter_sbertft_avg_score,\n",
    "    ],\n",
    "    'top1percent_acc': [\n",
    "        twitter_roberta_top100acc,\n",
    "        \n",
    "        twitter_bert_top100acc,\n",
    "        twitter_sbert_top100acc,\n",
    "        \n",
    "        twitter_bertft_top100acc,\n",
    "        \n",
    "        twitter_sbertft_top100acc,\n",
    "    ],\n",
    "})\n",
    "\n",
    "df.to_csv('final_generalization_performance_results.csv', header=True, index=False)\n",
    "\n",
    "plt.figure(figsize=(4,4))\n",
    "sns.barplot(data=df, x='dataset', y='top1percent_acc', hue='model')\n",
    "plt.legend(bbox_to_anchor=(1.05, 1), loc='upper left', borderaxespad=0)\n",
    "plt.show()\n",
    "\n",
    "plt.figure(figsize=(4,4))\n",
    "sns.barplot(data=df, x='dataset', y='avg_rank', hue='model')\n",
    "plt.legend(bbox_to_anchor=(1.05, 1), loc='upper left', borderaxespad=0)\n",
    "plt.show()\n",
    "\n",
    "\n",
    "# df['avg_score'] = (df['avg_score'] - min(df['avg_score'])) / (max(df['avg_score']) - min(df['avg_score']))\n",
    "plt.figure(figsize=(4,4))\n",
    "sns.barplot(data=df, x='dataset', y='avg_score', hue='model')\n",
    "plt.legend(bbox_to_anchor=(1.05, 1), loc='upper left', borderaxespad=0)\n",
    "plt.show()"
   ]
  },
  {
   "cell_type": "code",
   "execution_count": 83,
   "id": "1560eef6",
   "metadata": {},
   "outputs": [
    {
     "data": {
      "text/html": [
       "<div>\n",
       "<style scoped>\n",
       "    .dataframe tbody tr th:only-of-type {\n",
       "        vertical-align: middle;\n",
       "    }\n",
       "\n",
       "    .dataframe tbody tr th {\n",
       "        vertical-align: top;\n",
       "    }\n",
       "\n",
       "    .dataframe thead th {\n",
       "        text-align: right;\n",
       "    }\n",
       "</style>\n",
       "<table border=\"1\" class=\"dataframe\">\n",
       "  <thead>\n",
       "    <tr style=\"text-align: right;\">\n",
       "      <th></th>\n",
       "      <th>model</th>\n",
       "      <th>dataset</th>\n",
       "      <th>avg_rank</th>\n",
       "      <th>avg_score</th>\n",
       "      <th>top1percent_acc</th>\n",
       "    </tr>\n",
       "  </thead>\n",
       "  <tbody>\n",
       "    <tr>\n",
       "      <th>0</th>\n",
       "      <td>RoBERTa</td>\n",
       "      <td>twitter-generalization</td>\n",
       "      <td>9771.505859</td>\n",
       "      <td>-10.021909</td>\n",
       "      <td>0.03491</td>\n",
       "    </tr>\n",
       "    <tr>\n",
       "      <th>1</th>\n",
       "      <td>BERT</td>\n",
       "      <td>twitter-generalization</td>\n",
       "      <td>9580.711914</td>\n",
       "      <td>-10.010970</td>\n",
       "      <td>0.04689</td>\n",
       "    </tr>\n",
       "    <tr>\n",
       "      <th>2</th>\n",
       "      <td>SBERT</td>\n",
       "      <td>twitter-generalization</td>\n",
       "      <td>7136.857422</td>\n",
       "      <td>-9.955600</td>\n",
       "      <td>0.12339</td>\n",
       "    </tr>\n",
       "    <tr>\n",
       "      <th>3</th>\n",
       "      <td>BERT-ft</td>\n",
       "      <td>twitter-generalization</td>\n",
       "      <td>7131.043945</td>\n",
       "      <td>-9.931478</td>\n",
       "      <td>0.13479</td>\n",
       "    </tr>\n",
       "    <tr>\n",
       "      <th>4</th>\n",
       "      <td>SBERT-ft</td>\n",
       "      <td>twitter-generalization</td>\n",
       "      <td>3620.277832</td>\n",
       "      <td>-9.755762</td>\n",
       "      <td>0.18677</td>\n",
       "    </tr>\n",
       "  </tbody>\n",
       "</table>\n",
       "</div>"
      ],
      "text/plain": [
       "      model                 dataset     avg_rank  avg_score  top1percent_acc\n",
       "0   RoBERTa  twitter-generalization  9771.505859 -10.021909          0.03491\n",
       "1      BERT  twitter-generalization  9580.711914 -10.010970          0.04689\n",
       "2     SBERT  twitter-generalization  7136.857422  -9.955600          0.12339\n",
       "3   BERT-ft  twitter-generalization  7131.043945  -9.931478          0.13479\n",
       "4  SBERT-ft  twitter-generalization  3620.277832  -9.755762          0.18677"
      ]
     },
     "execution_count": 83,
     "metadata": {},
     "output_type": "execute_result"
    }
   ],
   "source": [
    "gen_df = df.copy()\n",
    "gen_df['dataset'] = 'twitter-generalization'\n",
    "gen_df"
   ]
  },
  {
   "cell_type": "code",
   "execution_count": 84,
   "id": "e917be2c",
   "metadata": {},
   "outputs": [
    {
     "data": {
      "text/html": [
       "<div>\n",
       "<style scoped>\n",
       "    .dataframe tbody tr th:only-of-type {\n",
       "        vertical-align: middle;\n",
       "    }\n",
       "\n",
       "    .dataframe tbody tr th {\n",
       "        vertical-align: top;\n",
       "    }\n",
       "\n",
       "    .dataframe thead th {\n",
       "        text-align: right;\n",
       "    }\n",
       "</style>\n",
       "<table border=\"1\" class=\"dataframe\">\n",
       "  <thead>\n",
       "    <tr style=\"text-align: right;\">\n",
       "      <th></th>\n",
       "      <th>model</th>\n",
       "      <th>dataset</th>\n",
       "      <th>avg_rank</th>\n",
       "      <th>avg_score</th>\n",
       "      <th>top1percent_acc</th>\n",
       "    </tr>\n",
       "  </thead>\n",
       "  <tbody>\n",
       "    <tr>\n",
       "      <th>0</th>\n",
       "      <td>RoBERTa</td>\n",
       "      <td>twitter</td>\n",
       "      <td>9271.075195</td>\n",
       "      <td>-10.021880</td>\n",
       "      <td>0.03525</td>\n",
       "    </tr>\n",
       "    <tr>\n",
       "      <th>2</th>\n",
       "      <td>BERT</td>\n",
       "      <td>twitter</td>\n",
       "      <td>9611.648438</td>\n",
       "      <td>-10.011054</td>\n",
       "      <td>0.05112</td>\n",
       "    </tr>\n",
       "    <tr>\n",
       "      <th>4</th>\n",
       "      <td>SBERT</td>\n",
       "      <td>twitter</td>\n",
       "      <td>5606.247559</td>\n",
       "      <td>-9.928705</td>\n",
       "      <td>0.15891</td>\n",
       "    </tr>\n",
       "    <tr>\n",
       "      <th>6</th>\n",
       "      <td>BERT-ft</td>\n",
       "      <td>twitter</td>\n",
       "      <td>4450.077148</td>\n",
       "      <td>-9.863602</td>\n",
       "      <td>0.25423</td>\n",
       "    </tr>\n",
       "    <tr>\n",
       "      <th>8</th>\n",
       "      <td>w2v</td>\n",
       "      <td>twitter</td>\n",
       "      <td>4148.187988</td>\n",
       "      <td>-9.891065</td>\n",
       "      <td>0.43201</td>\n",
       "    </tr>\n",
       "    <tr>\n",
       "      <th>10</th>\n",
       "      <td>SBERT-ft</td>\n",
       "      <td>twitter</td>\n",
       "      <td>1543.439819</td>\n",
       "      <td>-9.598256</td>\n",
       "      <td>0.46429</td>\n",
       "    </tr>\n",
       "  </tbody>\n",
       "</table>\n",
       "</div>"
      ],
      "text/plain": [
       "       model  dataset     avg_rank  avg_score  top1percent_acc\n",
       "0    RoBERTa  twitter  9271.075195 -10.021880          0.03525\n",
       "2       BERT  twitter  9611.648438 -10.011054          0.05112\n",
       "4      SBERT  twitter  5606.247559  -9.928705          0.15891\n",
       "6    BERT-ft  twitter  4450.077148  -9.863602          0.25423\n",
       "8        w2v  twitter  4148.187988  -9.891065          0.43201\n",
       "10  SBERT-ft  twitter  1543.439819  -9.598256          0.46429"
      ]
     },
     "execution_count": 84,
     "metadata": {},
     "output_type": "execute_result"
    }
   ],
   "source": [
    "df = pd.read_csv('final_performance_results.csv')\n",
    "# df = df[df.model!='w2v']\n",
    "df = df[df.dataset != 'wiki']\n",
    "df\n"
   ]
  },
  {
   "cell_type": "code",
   "execution_count": 85,
   "id": "8894f1a9",
   "metadata": {},
   "outputs": [
    {
     "data": {
      "text/html": [
       "<div>\n",
       "<style scoped>\n",
       "    .dataframe tbody tr th:only-of-type {\n",
       "        vertical-align: middle;\n",
       "    }\n",
       "\n",
       "    .dataframe tbody tr th {\n",
       "        vertical-align: top;\n",
       "    }\n",
       "\n",
       "    .dataframe thead th {\n",
       "        text-align: right;\n",
       "    }\n",
       "</style>\n",
       "<table border=\"1\" class=\"dataframe\">\n",
       "  <thead>\n",
       "    <tr style=\"text-align: right;\">\n",
       "      <th></th>\n",
       "      <th>model</th>\n",
       "      <th>dataset</th>\n",
       "      <th>avg_rank</th>\n",
       "      <th>avg_score</th>\n",
       "      <th>top1percent_acc</th>\n",
       "    </tr>\n",
       "  </thead>\n",
       "  <tbody>\n",
       "    <tr>\n",
       "      <th>0</th>\n",
       "      <td>RoBERTa</td>\n",
       "      <td>twitter-generalization</td>\n",
       "      <td>9771.505859</td>\n",
       "      <td>-10.021909</td>\n",
       "      <td>0.03491</td>\n",
       "    </tr>\n",
       "    <tr>\n",
       "      <th>1</th>\n",
       "      <td>BERT</td>\n",
       "      <td>twitter-generalization</td>\n",
       "      <td>9580.711914</td>\n",
       "      <td>-10.010970</td>\n",
       "      <td>0.04689</td>\n",
       "    </tr>\n",
       "    <tr>\n",
       "      <th>2</th>\n",
       "      <td>SBERT</td>\n",
       "      <td>twitter-generalization</td>\n",
       "      <td>7136.857422</td>\n",
       "      <td>-9.955600</td>\n",
       "      <td>0.12339</td>\n",
       "    </tr>\n",
       "    <tr>\n",
       "      <th>3</th>\n",
       "      <td>BERT-ft</td>\n",
       "      <td>twitter-generalization</td>\n",
       "      <td>7131.043945</td>\n",
       "      <td>-9.931478</td>\n",
       "      <td>0.13479</td>\n",
       "    </tr>\n",
       "    <tr>\n",
       "      <th>4</th>\n",
       "      <td>SBERT-ft</td>\n",
       "      <td>twitter-generalization</td>\n",
       "      <td>3620.277832</td>\n",
       "      <td>-9.755762</td>\n",
       "      <td>0.18677</td>\n",
       "    </tr>\n",
       "    <tr>\n",
       "      <th>0</th>\n",
       "      <td>RoBERTa</td>\n",
       "      <td>twitter</td>\n",
       "      <td>9271.075195</td>\n",
       "      <td>-10.021880</td>\n",
       "      <td>0.03525</td>\n",
       "    </tr>\n",
       "    <tr>\n",
       "      <th>2</th>\n",
       "      <td>BERT</td>\n",
       "      <td>twitter</td>\n",
       "      <td>9611.648438</td>\n",
       "      <td>-10.011054</td>\n",
       "      <td>0.05112</td>\n",
       "    </tr>\n",
       "    <tr>\n",
       "      <th>4</th>\n",
       "      <td>SBERT</td>\n",
       "      <td>twitter</td>\n",
       "      <td>5606.247559</td>\n",
       "      <td>-9.928705</td>\n",
       "      <td>0.15891</td>\n",
       "    </tr>\n",
       "    <tr>\n",
       "      <th>6</th>\n",
       "      <td>BERT-ft</td>\n",
       "      <td>twitter</td>\n",
       "      <td>4450.077148</td>\n",
       "      <td>-9.863602</td>\n",
       "      <td>0.25423</td>\n",
       "    </tr>\n",
       "    <tr>\n",
       "      <th>10</th>\n",
       "      <td>SBERT-ft</td>\n",
       "      <td>twitter</td>\n",
       "      <td>1543.439819</td>\n",
       "      <td>-9.598256</td>\n",
       "      <td>0.46429</td>\n",
       "    </tr>\n",
       "  </tbody>\n",
       "</table>\n",
       "</div>"
      ],
      "text/plain": [
       "       model                 dataset     avg_rank  avg_score  top1percent_acc\n",
       "0    RoBERTa  twitter-generalization  9771.505859 -10.021909          0.03491\n",
       "1       BERT  twitter-generalization  9580.711914 -10.010970          0.04689\n",
       "2      SBERT  twitter-generalization  7136.857422  -9.955600          0.12339\n",
       "3    BERT-ft  twitter-generalization  7131.043945  -9.931478          0.13479\n",
       "4   SBERT-ft  twitter-generalization  3620.277832  -9.755762          0.18677\n",
       "0    RoBERTa                 twitter  9271.075195 -10.021880          0.03525\n",
       "2       BERT                 twitter  9611.648438 -10.011054          0.05112\n",
       "4      SBERT                 twitter  5606.247559  -9.928705          0.15891\n",
       "6    BERT-ft                 twitter  4450.077148  -9.863602          0.25423\n",
       "10  SBERT-ft                 twitter  1543.439819  -9.598256          0.46429"
      ]
     },
     "execution_count": 85,
     "metadata": {},
     "output_type": "execute_result"
    }
   ],
   "source": [
    "res_df = pd.concat([gen_df, df], axis=0)\n",
    "res_df = res_df[res_df.model!='w2v']\n",
    "res_df"
   ]
  },
  {
   "cell_type": "code",
   "execution_count": 92,
   "id": "629139fa",
   "metadata": {},
   "outputs": [],
   "source": [
    "res_df = res_df[res_df.dataset == 'twitter-generalization']\n",
    "res_df['avg_score'] = (res_df['avg_score'] - min(res_df['avg_score'])) / (max(res_df['avg_score']) - min(res_df['avg_score']))"
   ]
  },
  {
   "cell_type": "code",
   "execution_count": 93,
   "id": "bb32d709",
   "metadata": {},
   "outputs": [
    {
     "data": {
      "image/png": "[encoded data removed]",
      "text/plain": [
       "<Figure size 1296x360 with 3 Axes>"
      ]
     },
     "metadata": {},
     "output_type": "display_data"
    }
   ],
   "source": [
    "fig, ax = plt.subplots(1, 3, figsize=(18,5))\n",
    "\n",
    "g = sns.barplot(data=res_df, x='model', y='avg_rank', hue='dataset', ax=ax[0])\n",
    "# g.axhline(df[df.model=='w2v']['avg_rank'].item(), color='r')\n",
    "g.legend_.remove()\n",
    "\n",
    "g = sns.barplot(data=res_df, x='model', y='avg_score', hue='dataset', ax=ax[1])\n",
    "# g.axhline(df[df.model=='w2v']['avg_score'].item(), color='r')\n",
    "g.legend_.remove()\n",
    "\n",
    "g = sns.barplot(data=res_df, x='model', y='top1percent_acc', hue='dataset', ax=ax[2])\n",
    "# g.axhline(df[df.model=='w2v']['top1percent_acc'].item(), color='r')\n",
    "g.legend_.remove()\n",
    "\n",
    "handles, labels = ax[2].get_legend_handles_labels()\n",
    "fig.legend(handles, labels, loc='upper center')\n",
    "# plt.legend(bbox_to_anchor=(1.05, 1), loc='upper right', borderaxespad=0)\n",
    "plt.show()"
   ]
  },
  {
   "cell_type": "markdown",
   "id": "a7045204",
   "metadata": {},
   "source": [
    "### restricted target results for wiki"
   ]
  },
  {
   "cell_type": "code",
   "execution_count": null,
   "id": "b85fac2d",
   "metadata": {},
   "outputs": [],
   "source": [
    "import seaborn as sns\n",
    "\n",
    "sns.set_theme()\n",
    "\n",
    "import matplotlib.pyplot as plt\n",
    "import pandas as pd\n",
    "\n",
    "df = pd.DataFrame({\n",
    "    'model': [\n",
    "        'w2v',\n",
    "        'bert',\n",
    "        'roberta',\n",
    "        'bert-ft',\n",
    "        'sbert',\n",
    "        'sbert-ft'\n",
    "    ],\n",
    "    'dataset': [\n",
    "        'wiki',\n",
    "        'wiki',\n",
    "        'wiki',\n",
    "        'wiki',\n",
    "        'wiki',\n",
    "        'wiki',\n",
    "    ],\n",
    "    'avg_rank': [\n",
    "        wiki_w2v_cbow_avgrank, \n",
    "        wiki_bert_avg_rank,\n",
    "        wiki_roberta_avg_rank,\n",
    "        wiki_bertft_avg_rank,\n",
    "        wiki_sbert_avg_rank,\n",
    "        wiki_sbertft_avg_rank,\n",
    "    ],\n",
    "    'avg_score': [\n",
    "        wiki_w2v_cbow_avgscore, \n",
    "        wiki_bert_avg_score,\n",
    "        wiki_roberta_avg_score,\n",
    "        wiki_bertft_avg_score,\n",
    "        wiki_sbert_avg_score,\n",
    "        wiki_sbertft_avg_score,\n",
    "    ],\n",
    "    'top100_acc': [\n",
    "        wiki_w2v_cbow_top100acc, \n",
    "        wiki_bert_top100acc,\n",
    "        wiki_roberta_top100acc,\n",
    "        wiki_bertft_top100acc,\n",
    "        wiki_sbert_top100acc,\n",
    "        wiki_sbertft_top100acc,\n",
    "    ],\n",
    "})\n",
    "\n",
    "df.to_csv('wiki_final_results.csv', header=True, index=False)\n",
    "\n",
    "plt.figure(figsize=(4,4))\n",
    "sns.barplot(data=df, x='dataset', y='top100_acc', hue='model')\n",
    "plt.legend(bbox_to_anchor=(1.05, 1), loc='upper left', borderaxespad=0)\n",
    "plt.show()\n",
    "\n",
    "plt.figure(figsize=(4,4))\n",
    "sns.barplot(data=df, x='dataset', y='avg_rank', hue='model')\n",
    "plt.legend(bbox_to_anchor=(1.05, 1), loc='upper left', borderaxespad=0)\n",
    "plt.show()\n",
    "\n",
    "\n",
    "df['avg_score'] = (df['avg_score'] - min(df['avg_score'])) / (max(df['avg_score']) - min(df['avg_score']))\n",
    "plt.figure(figsize=(4,4))\n",
    "sns.barplot(data=df, x='dataset', y='avg_score', hue='model')\n",
    "plt.legend(bbox_to_anchor=(1.05, 1), loc='upper left', borderaxespad=0)\n",
    "plt.show()"
   ]
  },
  {
   "cell_type": "markdown",
   "id": "297b960c",
   "metadata": {},
   "source": [
    "## freq vs ranks"
   ]
  },
  {
   "cell_type": "code",
   "execution_count": 16,
   "id": "b5d600c6",
   "metadata": {},
   "outputs": [
    {
     "name": "stderr",
     "output_type": "stream",
     "text": [
      "100%|██████████| 3534903/3534903 [00:12<00:00, 290929.78it/s]\n"
     ]
    }
   ],
   "source": [
    "import pickle\n",
    "\n",
    "with open('data/twitter_cleaned_train_bios_100.pkl', 'rb') as f:\n",
    "    twitter_bios = pickle.load(f)\n",
    "\n",
    "twitter_cntr = Counter()\n",
    "\n",
    "_, twitter_ys = zip(*fixed_target_twitter_clm_ds)\n",
    "y_set = set(twitter_ys)\n",
    "\n",
    "for bio in tqdm(twitter_bios):\n",
    "    for pi in bio:\n",
    "        if pi in y_set:\n",
    "            twitter_cntr.update([pi])\n",
    "\n",
    "    \n",
    "# with open('data/wiki_cleaned_train_bios_3.pkl', 'rb') as f:\n",
    "#     wiki_bios = pickle.load(f)\n",
    "    \n",
    "# wiki_cntr = Counter()\n",
    "\n",
    "# _, wiki_ys = zip(*fixed_target_wiki_clm_ds)\n",
    "# y_set = set(wiki_ys)\n",
    "\n",
    "# for bio in tqdm(wiki_bios):\n",
    "#     for pi in bio:\n",
    "#         if pi in y_set:\n",
    "#             wiki_cntr.update([pi])"
   ]
  },
  {
   "cell_type": "code",
   "execution_count": 17,
   "id": "bb93b4c3",
   "metadata": {},
   "outputs": [],
   "source": [
    "import seaborn as sns\n",
    "import numpy as np\n",
    "import matplotlib.pyplot as plt\n",
    "import pickle\n",
    "\n",
    "sns.set_theme()\n",
    "\n",
    "def plot_rank_freq(ranks, ys, counter, name, order=1):\n",
    "    if isinstance(ranks[0], list):\n",
    "        ranks = [r[0] for r in ranks]\n",
    "    \n",
    "    data = np.array(list(zip(ranks, ys)))\n",
    "    sample_ids = np.random.randint(0, len(ranks), size=10000)\n",
    "    \n",
    "    data = list(data[sample_ids])\n",
    "    ranks, ys = zip(*data)\n",
    "    \n",
    "    freqs = []\n",
    "    for y in ys:\n",
    "        freqs.append(counter[y]/100)\n",
    "\n",
    "    ranks = [float(r) for r in ranks]\n",
    "        \n",
    "#     print(ranks[:3], freqs[:3])\n",
    "#     print(\"plotting\")\n",
    "    \n",
    "    with open(f\"freq-rank-{name}.pkl\", 'wb') as f:\n",
    "        pickle.dump({'freq': freqs, 'rank': ranks}, f)\n",
    "    sns.regplot(x=freqs, y=ranks, scatter=True, order=order, label=name)\n",
    "    plt.xlabel('frequency x 100')\n",
    "    plt.ylabel('rank')\n",
    "    plt.title('frequency vs rank for different models')\n",
    "    \n",
    "        \n"
   ]
  },
  {
   "cell_type": "code",
   "execution_count": null,
   "id": "eae9e619",
   "metadata": {},
   "outputs": [],
   "source": [
    "plt.figure(figsize=(10,8))\n",
    "plot_rank_freq(twitter_w2v_negsample_ranks, twitter_ys, twitter_cntr, 'w2v', order=1)\n",
    "plot_rank_freq(twitter_sbertft_ranks, twitter_ys, twitter_cntr, 'sbert-ft', order=1)\n",
    "plot_rank_freq(twitter_sbert_ranks, twitter_ys, twitter_cntr, 'sbert')\n",
    "plot_rank_freq(twitter_bert_ranks, twitter_ys, twitter_cntr, 'bert')\n",
    "plot_rank_freq(twitter_roberta_ranks, twitter_ys, twitter_cntr, 'roberta')\n",
    "plot_rank_freq(twitter_bertft_ranks, twitter_ys, twitter_cntr, 'bert-ft')\n",
    "plt.legend()\n",
    "plt.show()"
   ]
  },
  {
   "cell_type": "code",
   "execution_count": 18,
   "id": "69e00bda",
   "metadata": {},
   "outputs": [
    {
     "data": {
      "image/png": "[encoded data removed]",
      "text/plain": [
       "<Figure size 720x576 with 1 Axes>"
      ]
     },
     "metadata": {},
     "output_type": "display_data"
    }
   ],
   "source": [
    "plt.figure(figsize=(10,8))\n",
    "plot_rank_freq(twitter_w2v_negsample_ranks, twitter_ys, twitter_cntr, 'w2v', order=2)\n",
    "plot_rank_freq(twitter_sbertft_ranks, twitter_ys, twitter_cntr, 'sbert-ft', order=2)\n",
    "plt.legend()\n",
    "plt.show()"
   ]
  },
  {
   "cell_type": "code",
   "execution_count": 74,
   "id": "a068612b",
   "metadata": {},
   "outputs": [
    {
     "data": {
      "image/png": "[encoded data removed]",
      "text/plain": [
       "<Figure size 720x576 with 1 Axes>"
      ]
     },
     "metadata": {},
     "output_type": "display_data"
    }
   ],
   "source": [
    "plt.figure(figsize=(10,8))\n",
    "plot_rank_freq(wiki_w2v_cbow_ranks, wiki_ys, wiki_cntr, 'w2v', order=1)\n",
    "plot_rank_freq(wiki_sbertft_ranks, wiki_ys, wiki_cntr, 'sbert-ft', order=1)\n",
    "plot_rank_freq(wiki_sbert_ranks, wiki_ys, wiki_cntr, 'sbert')\n",
    "plot_rank_freq(wiki_bert_ranks, wiki_ys, wiki_cntr, 'bert')\n",
    "plot_rank_freq(wiki_roberta_ranks, wiki_ys, wiki_cntr, 'roberta')\n",
    "plot_rank_freq(wiki_bertft_ranks, wiki_ys, wiki_cntr, 'bert-ft')\n",
    "plt.legend(loc='upper right')\n",
    "plt.show()"
   ]
  },
  {
   "cell_type": "markdown",
   "id": "bab25d74",
   "metadata": {},
   "source": [
    "# per sample comparison - top samples"
   ]
  },
  {
   "cell_type": "markdown",
   "id": "0ea66329",
   "metadata": {},
   "source": [
    "## worst samples of each model"
   ]
  },
  {
   "cell_type": "code",
   "execution_count": 30,
   "id": "cff4a7ac",
   "metadata": {},
   "outputs": [],
   "source": [
    "from sentence_transformers import SentenceTransformer, models, util\n",
    "import pandas as pd\n",
    "\n",
    "def get_worst_ranks(xs, ys, ranks, other_ranks_dict, name='default', topk=1000):\n",
    "    if isinstance(ranks[0], list):\n",
    "        ranks = [r[0] for r in ranks]\n",
    "    ids = list(range(len(ranks)))\n",
    "    \n",
    "    ds_ranks = zip(ids, xs, ys, ranks)\n",
    "    sorted_ds = sorted(ds_ranks, key=lambda x: -x[3])[:topk]\n",
    "    \n",
    "    ids, xs, ys, ranks = zip(*sorted_ds)\n",
    "    \n",
    "    rank_names = []\n",
    "    other_ranks_list = []\n",
    "\n",
    "    for rank_name, other_rank in other_ranks_dict.items():\n",
    "        rank_names.append(rank_name)\n",
    "        r = []\n",
    "        for i in ids:\n",
    "            r.append(other_rank[i])\n",
    "        other_ranks_list.append(r)\n",
    "\n",
    "    other_ranks_dict = {}\n",
    "    for rank_name, rank in zip(rank_names, other_ranks_list):\n",
    "        other_ranks_dict[rank_name] = rank\n",
    "    \n",
    "    df = pd.DataFrame({\n",
    "        'bio': xs,\n",
    "        'target': ys,\n",
    "        f'{name}_rank': ranks,\n",
    "        **other_ranks_dict\n",
    "    })\n",
    "    \n",
    "    df.to_csv(f'{name}.csv', index=False, header=True)\n",
    "    \n",
    "    return ranks\n",
    "    \n",
    "    \n",
    "    \n",
    "all_ranks = {\n",
    "    'w2v': [r[0] for r in twitter_w2v_negsample_ranks],\n",
    "    'bert-ft': [r[0] for r in twitter_bertft_ranks],\n",
    "    'sbert-ft': [r[0] for r in twitter_sbert_ranks],\n",
    "    'bert': [r[0] for r in twitter_bert_ranks]\n",
    "}\n",
    "\n",
    "xs, ys = zip(*fixed_target_twitter_clm_ds)\n",
    "get_worst_ranks(xs, ys, twitter_w2v_negsample_ranks,\n",
    "                other_ranks_dict= {k:v for k,v in all_ranks.items() if k != 'w2v'},\n",
    "                name='w2v')\n",
    "get_worst_ranks(xs, ys, twitter_bertft_ranks,\n",
    "                other_ranks_dict= {k:v for k,v in all_ranks.items() if k != 'bert-ft'},\n",
    "                name='bert-ft')\n",
    "get_worst_ranks(xs, ys, twitter_bert_ranks,\n",
    "                other_ranks_dict= {k:v for k,v in all_ranks.items() if k != 'bert'},\n",
    "                name='bert')\n",
    "_ = get_worst_ranks(xs, ys, twitter_sbertft_ranks,\n",
    "                other_ranks_dict= {k:v for k,v in all_ranks.items() if k != 'sbert-ft'},\n",
    "                name='sbert-ft')\n",
    "\n"
   ]
  },
  {
   "cell_type": "markdown",
   "id": "c453ec6a",
   "metadata": {},
   "source": [
    "## nearest neighbors of samples analysis"
   ]
  },
  {
   "cell_type": "code",
   "execution_count": 52,
   "id": "fb6c6c13",
   "metadata": {},
   "outputs": [
    {
     "name": "stdout",
     "output_type": "stream",
     "text": [
      "CPU times: user 24 µs, sys: 0 ns, total: 24 µs\n",
      "Wall time: 28.6 µs\n"
     ]
    }
   ],
   "source": [
    "%%time\n",
    "import torch\n",
    "from sentence_transformers import SentenceTransformer, models, util\n",
    "from tqdm import tqdm\n",
    "from torch.nn.functional import log_softmax\n",
    "\n",
    "\n",
    "\n",
    "def normalize(word_vectors):\n",
    "    norms = torch.norm(word_vectors, dim=1, keepdim=True)\n",
    "    res = word_vectors / (norms + 1e-6)\n",
    "    return res\n",
    "\n",
    "def calculate_nearest_neighbors(model, tokenizer, pi, pi_dict,\n",
    "                                default_encoder=False, device='cuda:0', w2v=False, average_k_layers=3,\n",
    "                                cosine_bs=512, emb_bs=512, topk=10):\n",
    "    pi_list = list(pi_dict.keys())\n",
    "    \n",
    "    if w2v:\n",
    "        emb_x = torch.tensor([model.wv.get_mean_vector([pi,])], device=device)\n",
    "        emb_all = torch.tensor([model.wv.get_vector(x) for x in pi_list], device=device)\n",
    "    elif default_encoder:        \n",
    "        emb_x = get_sbertbased_results_batched(model, [pi,], bs=emb_bs)\n",
    "        emb_all = get_sbertbased_results_batched(model, pi_list, bs=emb_bs)\n",
    "    else:\n",
    "        emb_x = get_results_batched(model, tokenizer, [pi,], average_k_layers=average_k_layers, bs=emb_bs)\n",
    "        emb_all = get_results_batched(model, tokenizer, pi_list, average_k_layers=average_k_layers, bs=emb_bs)\n",
    "\n",
    "    emb_x = normalize(emb_x)\n",
    "    emb_all = normalize(emb_all)\n",
    "    \n",
    "    \n",
    "    batch_cosine_scores = util.cos_sim(emb_x.to(device), emb_all.to(device))\n",
    "    ranks = torch.argsort(torch.argsort(batch_cosine_scores, dim=1, descending=True), dim=1).tolist()[0]\n",
    "    batch_cosine_scores = batch_cosine_scores.tolist()[0]\n",
    "    res = sorted(list(zip(pi_list, ranks, batch_cosine_scores)), key=lambda x: x[1])[1:]\n",
    "    \n",
    "    return res[:topk]\n",
    "\n"
   ]
  },
  {
   "cell_type": "code",
   "execution_count": 54,
   "id": "64f22126",
   "metadata": {},
   "outputs": [
    {
     "name": "stderr",
     "output_type": "stream",
     "text": [
      "512it [00:00, 26725.95it/s]          \n",
      "22528it [00:10, 2174.10it/s]                           \n",
      "512it [00:00, 26626.54it/s]          \n",
      "22528it [00:10, 2124.38it/s]                           \n"
     ]
    },
    {
     "data": {
      "image/png": "[encoded data removed]",
      "text/plain": [
       "<Figure size 1080x576 with 3 Axes>"
      ]
     },
     "metadata": {},
     "output_type": "display_data"
    }
   ],
   "source": [
    "import matplotlib.pyplot as plt\n",
    "import seaborn as sns\n",
    "\n",
    "\n",
    "\n",
    "def visualize_nns(pi, topk=30):\n",
    "    assert pi in w2v_twitter_negsamp_model.wv.key_to_index\n",
    "    #TODO: change the pi dict\n",
    "    models = {\n",
    "        'sbert_nns': calculate_nearest_neighbors(\n",
    "            model=sbert_model,\n",
    "            tokenizer=None,\n",
    "            pi=pi,\n",
    "            pi_dict=twitter_target_restricted_pis,\n",
    "            default_encoder=True,\n",
    "            topk=topk\n",
    "        ),\n",
    "\n",
    "        'sbertft_nns': calculate_nearest_neighbors(\n",
    "            model=twitter_ft_sbert,\n",
    "            tokenizer=None,\n",
    "            pi=pi,\n",
    "            pi_dict=twitter_target_restricted_pis,\n",
    "            default_encoder=True,\n",
    "            topk=topk\n",
    "        ),\n",
    "\n",
    "\n",
    "        'w2v_nns': calculate_nearest_neighbors(\n",
    "            model=w2v_twitter_negsamp_model,\n",
    "            tokenizer=None,\n",
    "            pi=pi,\n",
    "            pi_dict=twitter_target_restricted_pis,\n",
    "            w2v=True,\n",
    "            topk=topk\n",
    "        )\n",
    "    }\n",
    "    \n",
    "    \n",
    "    fig, axes = plt.subplots(1, 3, figsize=(15, 8))\n",
    "    fig.suptitle(f'Nearest neighbors to the PI \"{pi}\" for different models')\n",
    "\n",
    "    cplt = sns.dark_palette(\"#69d\", topk, reverse=True)\n",
    "\n",
    "    for i , (model_name, nns) in enumerate(models.items()):\n",
    "    \n",
    "        nns = sorted(nns, key=lambda x: x[1])\n",
    "        sns.barplot(\n",
    "            ax=axes[i],\n",
    "            x=[x[2] for x in nns],\n",
    "            y=[x[0] for x in nns],\n",
    "            palette=np.array(cplt)[[x[1]-1 for x in nns]],\n",
    "        ).set(title=model_name)\n",
    "\n",
    "\n",
    "    fig.tight_layout()\n",
    "    plt.show()\n",
    "    \n",
    "visualize_nns(\"mask up\", topk=50)\n"
   ]
  },
  {
   "cell_type": "code",
   "execution_count": null,
   "id": "5c094783",
   "metadata": {},
   "outputs": [],
   "source": []
  },
  {
   "cell_type": "markdown",
   "id": "7062c0b7",
   "metadata": {},
   "source": [
    "## load best rankings for w2v and fine-tuned model on twitter"
   ]
  },
  {
   "cell_type": "code",
   "execution_count": null,
   "id": "4415b92d",
   "metadata": {},
   "outputs": [],
   "source": []
  },
  {
   "cell_type": "code",
   "execution_count": null,
   "id": "82797ff7",
   "metadata": {},
   "outputs": [],
   "source": [
    "from sentence_transformers import SentenceTransformer, models, util\n",
    "\n",
    "def get_topk_ranks(w2v_model, x, y ,pi_dict, device='cpu', k=50):\n",
    "    pi_list = list(pi_dict.keys())\n",
    "    inv_dict = {v:k for k,v in pi_dict.items()}\n",
    "    \n",
    "    emb_x = torch.tensor([w2v_model.wv.get_mean_vector(x),], device=device)\n",
    "    emb_all = torch.tensor([w2v_model.wv.get_vector(x) for x in pi_list], device=device)\n",
    "    \n",
    "    i = 0\n",
    "\n",
    "    cosine_scores = util.cos_sim(emb_x, emb_all)\n",
    "    ranks = torch.argsort(cosine_scores, dim=1, descending=True)\n",
    "    rankranks = torch.argsort(ranks, dim=1)\n",
    "    \n",
    "    top_idxs = ranks[0,:k].tolist()\n",
    "    top_pis = [inv_dict[i] for i in top_idxs]\n",
    "    target_idx = torch.tensor([pi_dict[y]], dtype=torch.int64)\n",
    "    target_rank = torch.gather(rankranks, 1, target_idx.unsqueeze(1).reshape(-1,1)).type(torch.FloatTensor).tolist()[0][0]\n",
    "\n",
    "    return target_rank, top_pis\n",
    "\n",
    "\n",
    "\n",
    "get_topk_ranks(\n",
    "    w2v_twitter_negsamp_model,\n",
    "    x=['dsd', 'xxxxxx', 'sd;flskdf;'],\n",
    "    y='maga',\n",
    "    pi_dict=twitter_pi_dict,\n",
    ")\n"
   ]
  },
  {
   "cell_type": "code",
   "execution_count": null,
   "id": "a0ff7497",
   "metadata": {},
   "outputs": [],
   "source": [
    "random_ids = np.random.randint(0, len(fixed_target_twitter_clm_ds), 100)\n",
    "\n",
    "sample = [fixed_target_twitter_clm_ds[i] for i in random_ids]\n",
    "\n",
    "for i, s in zip(random_ids, sample):\n",
    "    r_w2v, _ = get_topk_ranks(\n",
    "        w2v_twitter_negsamp_model,\n",
    "        x=s[0],\n",
    "        y=s[1],\n",
    "        pi_dict=twitter_target_restricted_pis,\n",
    "        wv=True\n",
    "    )\n",
    "    \n",
    "    r_sbertft, _ = get_topk_ranks(\n",
    "        twitter_ft_sbert,\n",
    "        x=s[0],\n",
    "        y=s[1],\n",
    "        pi_dict=twitter_target_restricted_pis,\n",
    "        wv=False\n",
    "    )\n",
    "    \n",
    "    if r_sbertft > r_w2v + 1000:\n",
    "        print(f\"index:{i} w2vscore:{r_w2v}  sbert_ft score:{r_sbertft}\")\n",
    "        print(\"*\"*100)\n",
    "        print(s[0], \"--->\", s[1])\n",
    "        print(\"*\"*100)\n",
    "    \n",
    "    "
   ]
  },
  {
   "cell_type": "code",
   "execution_count": null,
   "id": "e36aa39e",
   "metadata": {},
   "outputs": [],
   "source": [
    "from numpy.linalg import norm as np_norm\n",
    "import matplotlib.pyplot as plt\n",
    "    \n",
    "    \n",
    "bertft100_dists = []\n",
    "sbertft100_dists = []\n",
    "sbert_dists = []\n",
    "w2v_dists = []\n",
    "bert_dists = []\n",
    "\n",
    "\n",
    "def diff_norm(x1, x2):\n",
    "    x1n = x1 / np_norm(x1)\n",
    "    x2n = x2 / np_norm(x2)\n",
    "    return np_norm(x1n-x2n)\n",
    "\n",
    "for i in range(1, 4):\n",
    "    sbert_dists.append(diff_norm(sbert_model.encode(f'mother of {i}'), sbert_model.encode('christian')))\n",
    "    \n",
    "    bert_emb = get_results_batched(bert_model, bert_tokenizer, [f'mother of {i}', 'christian']).numpy()\n",
    "    bert_dists.append(diff_norm(bert_emb[0], bert_emb[1]))\n",
    "    \n",
    "    sbertft100_dists.append(diff_norm(twitter_ft_sbert.encode(f'mother of {i}'), twitter_ft_sbert.encode('christian')))\n",
    "    \n",
    "    bert_emb = get_results_batched(bert_ft_twitter_model, bert_tokenizer, [f'mother of {i}', 'christian']).numpy()\n",
    "    bertft100_dists.append(diff_norm(bert_emb[0], bert_emb[1]))\n",
    "\n",
    "    w2v_dists.append(diff_norm(w2v_twitter_negsamp_model.wv.get_mean_vector([f'mother of {i}']), w2v_twitter_negsamp_model.wv.get_vector('christian')))\n",
    "\n",
    "\n",
    "\n",
    "\n",
    "xs = [f'mother of {i}' for i in range(1,4)]\n",
    "sns.lineplot(x=xs, y=w2v_dists, label='w2v')\n",
    "sns.lineplot(x=xs, y=bert_dists, label='bert')\n",
    "sns.lineplot(x=xs, y=sbert_dists, label='sbert')\n",
    "sns.lineplot(x=xs, y=bertft100_dists, label='fine-tuned bert')\n",
    "sns.lineplot(x=xs, y=sbertft100_dists, label='fine-tuned sbert')\n",
    "plt.ylabel(\"L2 distance to <christian>\")\n",
    "plt.xticks(rotation=80)"
   ]
  },
  {
   "cell_type": "code",
   "execution_count": null,
   "id": "5abdc30c",
   "metadata": {},
   "outputs": [],
   "source": [
    "from numpy.linalg import norm as np_norm\n",
    "import matplotlib.pyplot as plt\n",
    "    \n",
    "    \n",
    "bertft100_dists = []\n",
    "sbertft100_dists = []\n",
    "sbert_dists = []\n",
    "w2v_dists = []\n",
    "bert_dists = []\n",
    "\n",
    "\n",
    "def diff_norm(x1, x2):\n",
    "    x1n = x1 / np_norm(x1)\n",
    "    x2n = x2 / np_norm(x2)\n",
    "    return np_norm(x1n-x2n)\n",
    "\n",
    "for i in range(1, 4):\n",
    "    sbert_dists.append(diff_norm(sbert_model.encode(f'mother of {i}'), sbert_model.encode('christian')))\n",
    "    \n",
    "    bert_emb = get_results_batched(bert_model, bert_tokenizer, [f'mother of {i}', 'christian']).numpy()\n",
    "    bert_dists.append(diff_norm(bert_emb[0], bert_emb[1]))\n",
    "    \n",
    "    sbertft100_dists.append(diff_norm(wiki_ft_sbert.encode(f'mother of {i}'), wiki_ft_sbert.encode('christian')))\n",
    "    \n",
    "    bert_emb = get_results_batched(bert_ft_wiki_model, bert_tokenizer, [f'mother of {i}', 'christian']).numpy()\n",
    "    bertft100_dists.append(diff_norm(bert_emb[0], bert_emb[1]))\n",
    "\n",
    "    w2v_dists.append(diff_norm(w2v_wiki_cbow_model.wv.get_mean_vector([f'mother of {i}']), w2v_wiki_cbow_model.wv.get_vector('christian')))\n",
    "\n",
    "xs = [f'mother of {i}' for i in range(1,4)]\n",
    "sns.lineplot(x=xs, y=w2v_dists, label='w2v')\n",
    "sns.lineplot(x=xs, y=bert_dists, label='bert')\n",
    "sns.lineplot(x=xs, y=sbert_dists, label='sbert')\n",
    "sns.lineplot(x=xs, y=bertft100_dists, label='fine-tuned bert')\n",
    "sns.lineplot(x=xs, y=sbertft100_dists, label='fine-tuned sbert')\n",
    "plt.ylabel(\"L2 distance to <christian>\")\n",
    "plt.xticks(rotation=80)"
   ]
  },
  {
   "cell_type": "markdown",
   "id": "fe137609",
   "metadata": {},
   "source": [
    "# build survey questions"
   ]
  },
  {
   "cell_type": "markdown",
   "id": "4f8af9de",
   "metadata": {},
   "source": [
    "## neighborhood score + negative sampling choices"
   ]
  },
  {
   "cell_type": "code",
   "execution_count": null,
   "id": "5d522613",
   "metadata": {},
   "outputs": [],
   "source": [
    "import pandas as pd\n",
    "from ast import literal_eval\n",
    "\n",
    "df = pd.read_csv('twitter_pi_with_neighbors_tfidf.csv')\n",
    "print(df.head())\n",
    "df.positives = df.positives.apply(literal_eval)\n",
    "df.negatives = df.negatives.apply(literal_eval)"
   ]
  },
  {
   "cell_type": "code",
   "execution_count": null,
   "id": "bd980929",
   "metadata": {},
   "outputs": [],
   "source": [
    "from tqdm import tqdm\n",
    "from random import randint\n",
    "\n",
    "pis = df['pis']\n",
    "positives = df['positives']\n",
    "negatives = df['negatives']\n",
    "\n",
    "sample_cnt = 500\n",
    "questions = []\n",
    "targets = []\n",
    "other_choices = []\n",
    "\n",
    "sample_idices = np.random.randint(0, len(df), size=sample_cnt)\n",
    "\n",
    "for qid in sample_idices:\n",
    "    q = pis[qid]\n",
    "    cur_pos = positives[qid]\n",
    "    cur_neg = negatives[qid]\n",
    "    target = cur_pos[randint(0,len(cur_pos)-1)]\n",
    "    targets.append(target)\n",
    "    questions.append(q)\n",
    "    other_choices.append(np.random.choice(cur_neg, size=3, replace=False))\n",
    "    \n",
    "res = pd.DataFrame({'question_pi': questions, 'ans_pi': targets, 'other_choices': other_choices})\n",
    "res.to_csv('surrvey_tfidf_twitter.csv', index=False, header=True)"
   ]
  },
  {
   "cell_type": "code",
   "execution_count": null,
   "id": "b86922b5",
   "metadata": {},
   "outputs": [],
   "source": [
    "!head surrvey_tfidf_twitter.csv -n 100"
   ]
  },
  {
   "cell_type": "markdown",
   "id": "e799829b",
   "metadata": {},
   "source": [
    "## model based question generation"
   ]
  },
  {
   "cell_type": "code",
   "execution_count": null,
   "id": "3166fb04",
   "metadata": {},
   "outputs": [],
   "source": [
    "from sentence_transformers import SentenceTransformer, models, util\n",
    "\n",
    "fint_model = SentenceTransformer('./models/miniLM-L6-finetuned/')"
   ]
  },
  {
   "cell_type": "code",
   "execution_count": null,
   "id": "61ac0a72",
   "metadata": {},
   "outputs": [],
   "source": [
    "from tqdm import tqdm\n",
    "from random import randint\n",
    "\n",
    "\n",
    "all_pis = df['pis']\n",
    "sims = df['similars']\n",
    "sample_cnt = 500\n",
    "\n",
    "questions = []\n",
    "targets = []\n",
    "other_choices = []\n",
    "\n",
    "i = 0\n",
    "while i < sample_cnt:\n",
    "    idx = randint(0, len(all_pis)-1)\n",
    "    questions.append(all_pis[idx])\n",
    "    i += 1\n",
    "\n"
   ]
  },
  {
   "cell_type": "code",
   "execution_count": null,
   "id": "88ea973d",
   "metadata": {},
   "outputs": [],
   "source": [
    "fint_emb_x = fint_model.encode(questions, convert_to_tensor=True)\n",
    "fint_emb_all = fint_model.encode(all_pis, convert_to_tensor=True)\n"
   ]
  },
  {
   "cell_type": "code",
   "execution_count": null,
   "id": "43b25cf4",
   "metadata": {},
   "outputs": [],
   "source": [
    "import numpy as np\n",
    "\n",
    "targets = []\n",
    "other_choices = []\n",
    "\n",
    "for x in tqdm(fint_emb_x):\n",
    "    cosine_scores = util.cos_sim(x, fint_emb_all).detach().cpu().numpy()[0]\n",
    "    argsort = np.argsort(cosine_scores)\n",
    "    best_k = argsort[-6:-1]\n",
    "    worst_k = argsort[:len(argsort)//2]\n",
    "    \n",
    "    target_idx = np.random.choice(best_k)\n",
    "    targets.append(all_pis[target_idx])\n",
    "    \n",
    "    other_idxs = np.random.choice(worst_k, size=3, replace=False)\n",
    "    other_choices.append([all_pis[x] for x in other_idxs])\n",
    "    \n",
    "    \n",
    "res = pd.DataFrame({'question_pi': questions, 'ans_pi': targets, 'other_choices': other_choices})\n",
    "res.to_csv('modelbased-selection.csv', index=False, header=True)\n",
    "    "
   ]
  },
  {
   "cell_type": "code",
   "execution_count": null,
   "id": "7bf38c3a",
   "metadata": {},
   "outputs": [],
   "source": [
    "!head modelbased-selection.csv"
   ]
  },
  {
   "cell_type": "code",
   "execution_count": null,
   "id": "0ae77b6d",
   "metadata": {},
   "outputs": [],
   "source": []
  }
 ],
 "metadata": {
  "kernelspec": {
   "display_name": "Python 3 (ipykernel)",
   "language": "python",
   "name": "python3"
  },
  "language_info": {
   "codemirror_mode": {
    "name": "ipython",
    "version": 3
   },
   "file_extension": ".py",
   "mimetype": "text/x-python",
   "name": "python",
   "nbconvert_exporter": "python",
   "pygments_lexer": "ipython3",
   "version": "3.10.10"
  },
  "toc": {
   "base_numbering": 1,
   "nav_menu": {},
   "number_sections": true,
   "sideBar": true,
   "skip_h1_title": false,
   "title_cell": "Table of Contents",
   "title_sidebar": "Contents",
   "toc_cell": false,
   "toc_position": {
    "height": "calc(100% - 180px)",
    "left": "10px",
    "top": "150px",
    "width": "349.045px"
   },
   "toc_section_display": true,
   "toc_window_display": true
  }
 },
 "nbformat": 4,
 "nbformat_minor": 5
}
