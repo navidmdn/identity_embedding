{
 "cells": [
  {
   "cell_type": "markdown",
   "id": "f52cbb85",
   "metadata": {},
   "source": [
    "# Loading wikipedia bios"
   ]
  },
  {
   "cell_type": "markdown",
   "id": "4c4c5e25",
   "metadata": {},
   "source": [
    "## loading raw identities"
   ]
  },
  {
   "cell_type": "code",
   "execution_count": null,
   "id": "f7a2eb59",
   "metadata": {},
   "outputs": [],
   "source": [
    "import pandas as pd\n",
    "from ast import literal_eval\n",
    "\n",
    "\n",
    "df = pd.read_csv('FinalDataFrame5.csv')\n",
    "df.identities = df.identities.apply(literal_eval)\n",
    "bios = list(df['identities'])\n",
    "\n",
    "bios[:5]"
   ]
  },
  {
   "cell_type": "code",
   "execution_count": null,
   "id": "0cc61467",
   "metadata": {},
   "outputs": [],
   "source": [
    "pd.set_option(\"max_colwidth\", None)\n",
    "df.iloc[1:2]"
   ]
  },
  {
   "cell_type": "code",
   "execution_count": null,
   "id": "ddeb456f",
   "metadata": {},
   "outputs": [],
   "source": [
    "# The rest is similar to twitter bios approach"
   ]
  },
  {
   "cell_type": "code",
   "execution_count": null,
   "id": "756174d9",
   "metadata": {},
   "outputs": [],
   "source": []
  },
  {
   "cell_type": "markdown",
   "id": "04a048cc",
   "metadata": {},
   "source": [
    "# Loading twitter bios"
   ]
  },
  {
   "cell_type": "markdown",
   "id": "e85b010d",
   "metadata": {},
   "source": [
    "## load all raw data"
   ]
  },
  {
   "cell_type": "code",
   "execution_count": null,
   "id": "1a19f38e",
   "metadata": {},
   "outputs": [],
   "source": [
    "import pickle\n",
    "with open('/user/smadani/navid/data/pis2020.pkl', 'rb') as f:\n",
    "    bios = pickle.load(f)\n",
    "    "
   ]
  },
  {
   "cell_type": "markdown",
   "id": "bbc70cc9",
   "metadata": {},
   "source": [
    "# PI frequency and top PIs"
   ]
  },
  {
   "cell_type": "code",
   "execution_count": null,
   "id": "43e3926f",
   "metadata": {},
   "outputs": [],
   "source": [
    "from collections import Counter\n",
    "cntr = Counter()\n",
    "\n",
    "for bio in bios:\n",
    "    cntr.update(bio)\n",
    "\n",
    "print(len(bios))"
   ]
  },
  {
   "cell_type": "code",
   "execution_count": null,
   "id": "2b0aa7df",
   "metadata": {},
   "outputs": [],
   "source": [
    "import numpy as np\n",
    "\n",
    "freqs = list(cntr.values())\n",
    "print(f\"percentile freq: {np.percentile(freqs, 90)} mean freq: {np.mean(freqs)}\")"
   ]
  },
  {
   "cell_type": "code",
   "execution_count": null,
   "id": "b48510dd",
   "metadata": {},
   "outputs": [],
   "source": [
    "most_frequent_pis = {k:v for k,v in cntr.items() if v > 10}\n",
    "len(most_frequent_pis)"
   ]
  },
  {
   "cell_type": "code",
   "execution_count": null,
   "id": "12b0dafe",
   "metadata": {},
   "outputs": [],
   "source": [
    "import pandas as pd\n",
    "\n",
    "df = pd.DataFrame({'pi': list(most_frequent_pis.keys()), 'cnt': list(most_frequent_pis.values())})\n",
    "df = df.sort_values(by=['cnt'], ascending=False)"
   ]
  },
  {
   "cell_type": "code",
   "execution_count": null,
   "id": "ac5a2723",
   "metadata": {},
   "outputs": [],
   "source": [
    "df.to_csv('wiki_most_frequent_pis.csv', index=False, header=True)"
   ]
  },
  {
   "cell_type": "code",
   "execution_count": null,
   "id": "e6cfc071",
   "metadata": {},
   "outputs": [],
   "source": [
    "!head twitter_most_frequent_pis.csv"
   ]
  },
  {
   "cell_type": "markdown",
   "id": "fa7c6460",
   "metadata": {
    "heading_collapsed": true
   },
   "source": [
    "### most frequent neighbors"
   ]
  },
  {
   "cell_type": "code",
   "execution_count": null,
   "id": "04aeea28",
   "metadata": {
    "hidden": true
   },
   "outputs": [],
   "source": [
    "from tqdm import tqdm\n",
    "neighbor_cnt = {}\n",
    "\n",
    "for bio in tqdm(bios):\n",
    "    for pi in bio:\n",
    "        if pi in most_frequent_pis:\n",
    "            if pi not in neighbor_cnt:\n",
    "                neighbor_cnt[pi] = Counter()\n",
    "                \n",
    "            rest = [b for b in bio if b!=pi and b in most_frequent_pis]\n",
    "            neighbor_cnt[pi].update(rest)\n",
    "\n",
    "print(len(neighbor_cnt))            \n",
    "\n",
    "#post processing and pruning empty adjacencies\n",
    "\n",
    "for pi, adj in neighbor_cnt.copy().items():\n",
    "    if len(adj) < 2:\n",
    "        neighbor_cnt.pop(pi)\n",
    "    \n",
    "print(f\"size after pruning: {len(neighbor_cnt)}\")        "
   ]
  },
  {
   "cell_type": "markdown",
   "id": "1a59e0cb",
   "metadata": {
    "heading_collapsed": true
   },
   "source": [
    "### calculating tf-idf"
   ]
  },
  {
   "cell_type": "code",
   "execution_count": null,
   "id": "8ac1acb3",
   "metadata": {
    "hidden": true
   },
   "outputs": [],
   "source": [
    "for pi, neighs in tqdm(neighbor_cnt.items()):\n",
    "    for phrase in neighs.keys():\n",
    "        neighs[phrase] /= most_frequent_pis[phrase]\n",
    "        "
   ]
  },
  {
   "cell_type": "markdown",
   "id": "86d69a95",
   "metadata": {
    "heading_collapsed": true
   },
   "source": [
    "### calculating using bi-partite method"
   ]
  },
  {
   "cell_type": "code",
   "execution_count": null,
   "id": "37077142",
   "metadata": {
    "hidden": true
   },
   "outputs": [],
   "source": [
    "from scipy import sparse, io\n",
    "\n",
    "pi_idx = {}\n",
    "for pi in most_frequent_pis:\n",
    "    pi_idx[pi] = len(pi_idx)\n",
    "\n",
    "#creating bipartite matrix\n",
    "usr_pi = []\n",
    "\n",
    "for bio in bios:\n",
    "    cur_usr_pis = []\n",
    "    for pi in bio:\n",
    "        if pi in most_frequent_pis:\n",
    "            cur_usr_pis.append(pi_idx[pi])\n",
    "    if len(cur_usr_pis) < 2:\n",
    "        continue\n",
    "    usr_pi.append(cur_usr_pis)\n",
    "    \n",
    "\n",
    "print(f\"original users: {len(bios)}\")\n",
    "print(f\"no of users after pruning: {len(usr_pi)}\")\n"
   ]
  },
  {
   "cell_type": "code",
   "execution_count": null,
   "id": "6ae185fc",
   "metadata": {
    "hidden": true
   },
   "outputs": [],
   "source": [
    "usrs = []\n",
    "pis = []\n",
    "scores = []\n",
    "\n",
    "for uid, pis in enumerate(usr_pi):\n",
    "    for pi in pis:\n",
    "        usrs.append(uid)\n",
    "        pis.append(pi)\n",
    "        scores.append(1)"
   ]
  },
  {
   "cell_type": "code",
   "execution_count": null,
   "id": "6cf9be0f",
   "metadata": {
    "hidden": true
   },
   "outputs": [],
   "source": [
    "%% time\n",
    "\n",
    "BP_MATRIX_FILENAME = \"./bipartite_pi.mtx\"\n",
    "output_matrix = sparse.coo_matrix((scores, (usrs, pis)))\n",
    "io.mmwrite(BP_MATRIX_FILENAME, output_matrix)"
   ]
  },
  {
   "cell_type": "code",
   "execution_count": null,
   "id": "e72cad62",
   "metadata": {
    "hidden": true
   },
   "outputs": [],
   "source": [
    "!du -hs ./bipartite_pi.mtx"
   ]
  },
  {
   "cell_type": "code",
   "execution_count": null,
   "id": "12192548",
   "metadata": {
    "hidden": true
   },
   "outputs": [],
   "source": [
    "from scipy import io\n",
    "\n",
    "io.mmread(BP_MATRIX_FILENAME, output_matrix)"
   ]
  },
  {
   "cell_type": "code",
   "execution_count": null,
   "id": "44744b56",
   "metadata": {
    "hidden": true
   },
   "outputs": [],
   "source": [
    "scores"
   ]
  },
  {
   "cell_type": "code",
   "execution_count": null,
   "id": "3123d499",
   "metadata": {
    "hidden": true
   },
   "outputs": [],
   "source": [
    "!rm ./bipartite_pi.mtx.gz\n",
    "!gzip ./bipartite_pi.mtx\n",
    "!ls"
   ]
  },
  {
   "cell_type": "code",
   "execution_count": null,
   "id": "6010f65c",
   "metadata": {
    "hidden": true
   },
   "outputs": [],
   "source": [
    "import sys\n",
    "\n",
    "sys.path.append(\"../bipartite-pairs/python-scoring/\")\n",
    "import score_data\n",
    "\n",
    "BP_SCORING_OUTPUT = './bipartite_output.csv.gz'\n",
    "score_data.score_only(\n",
    "    BP_MATRIX_FILENAME+\".gz\",\n",
    "    ['weighted_corr_exp'],\n",
    "    BP_SCORING_OUTPUT,\n",
    ")"
   ]
  },
  {
   "cell_type": "code",
   "execution_count": null,
   "id": "2698bdfc",
   "metadata": {
    "hidden": true
   },
   "outputs": [],
   "source": [
    "!zcat ./bipartite_output.csv.gz"
   ]
  },
  {
   "cell_type": "code",
   "execution_count": null,
   "id": "94224328",
   "metadata": {
    "hidden": true
   },
   "outputs": [],
   "source": [
    "import pandas as pd\n",
    "\n",
    "BP_SCORING_OUTPUT = './bipartite_output.csv.gz'\n",
    "df = pd.read_csv(BP_SCORING_OUTPUT)\n",
    "df.head()"
   ]
  },
  {
   "cell_type": "code",
   "execution_count": null,
   "id": "8e0fdd88",
   "metadata": {
    "hidden": true
   },
   "outputs": [],
   "source": [
    "# recreate the neighboring dictionary\n",
    "\n"
   ]
  },
  {
   "cell_type": "markdown",
   "id": "fe12e66c",
   "metadata": {
    "heading_collapsed": true
   },
   "source": [
    "### save "
   ]
  },
  {
   "cell_type": "code",
   "execution_count": null,
   "id": "b66c7124",
   "metadata": {
    "hidden": true
   },
   "outputs": [],
   "source": [
    "import pandas as pd\n",
    "\n",
    "pis = []\n",
    "positives = []\n",
    "negatives = []\n",
    "\n",
    "for pi, cntr in tqdm(neighbor_cnt.items()):\n",
    "    cur_neg = [x for x in most_frequent_pis if x not in neighbor_cnt[pi]]\n",
    "    if len(cur_neg) > 20:\n",
    "        cur_neg = list(np.random.choice(cur_neg, size=20, replace=False))\n",
    "    cur_pos = [x[0] for x in neighbor_cnt[pi].most_common(5)]\n",
    "    if len(cur_neg) < 4 or len(neighbor_cnt[pi])<2:\n",
    "        print(f\"PASSING PI: {pi}\")\n",
    "        continue\n",
    "    positives.append(cur_pos)\n",
    "    pis.append(pi)\n",
    "    negatives.append(cur_neg)\n",
    "                 \n",
    "print(f\"saving {len(pis)} pis\")\n",
    "df = pd.DataFrame({'pis': pis, 'positives': positives, 'negatives': negatives})\n",
    "df.to_csv('twitter_pi_with_neighbors_tfidf.csv', index=False, header=True)"
   ]
  },
  {
   "cell_type": "code",
   "execution_count": null,
   "id": "eea41545",
   "metadata": {
    "hidden": true
   },
   "outputs": [],
   "source": [
    "!wc -l wiki_pi_with_neighbors_standard.csv"
   ]
  },
  {
   "cell_type": "code",
   "execution_count": null,
   "id": "cdb1fc2a",
   "metadata": {
    "hidden": true
   },
   "outputs": [],
   "source": [
    "!head wiki_pi_with_neighbors_standard.csv"
   ]
  },
  {
   "cell_type": "markdown",
   "id": "b1e553a1",
   "metadata": {},
   "source": [
    "## create train and test dataset"
   ]
  },
  {
   "cell_type": "code",
   "execution_count": null,
   "id": "0e18435a",
   "metadata": {},
   "outputs": [],
   "source": [
    "from sklearn.model_selection import train_test_split\n",
    "\n",
    "lower_bios = []\n",
    "for bio in bios:\n",
    "    lower_bio = []\n",
    "    for pi in bio:\n",
    "        lower_bio.append(pi.lower())\n",
    "    lower_bios.append(lower_bio)\n",
    "    \n",
    "train, test = train_test_split(lower_bios, test_size=0.2, shuffle=True)\n",
    "print(len(train), len(test))\n",
    "\n"
   ]
  },
  {
   "cell_type": "code",
   "execution_count": null,
   "id": "407be37b",
   "metadata": {},
   "outputs": [],
   "source": [
    "import pickle\n",
    "\n",
    "dataset = 'twitter'\n",
    "\n",
    "with open(f'./data/{dataset}_test_bios.pkl', 'wb') as f:\n",
    "    pickle.dump(test, f)\n",
    "    \n",
    "with open(f'./data/{dataset}_train_bios.pkl', 'wb') as f:\n",
    "    pickle.dump(train, f)"
   ]
  },
  {
   "cell_type": "code",
   "execution_count": null,
   "id": "df502c56",
   "metadata": {},
   "outputs": [],
   "source": [
    "import pickle\n",
    "\n",
    "dataset = 'twitter'\n",
    "\n",
    "with open(f'./data/{dataset}_test_bios.pkl', 'rb') as f:\n",
    "    test = pickle.load(f)\n",
    "    \n",
    "test[:5]"
   ]
  },
  {
   "cell_type": "markdown",
   "id": "6bbf8c10",
   "metadata": {},
   "source": [
    "# Cleaning data"
   ]
  },
  {
   "cell_type": "markdown",
   "id": "24388589",
   "metadata": {},
   "source": [
    "## phrase cleaning"
   ]
  },
  {
   "cell_type": "code",
   "execution_count": 79,
   "id": "5008d8a0",
   "metadata": {},
   "outputs": [
    {
     "name": "stdout",
     "output_type": "stream",
     "text": [
      "500\n"
     ]
    }
   ],
   "source": [
    "import pickle\n",
    "\n",
    "dataset = 'twitter'\n",
    "# min_freq = 3 if dataset == 'wiki' else 100\n",
    "min_freq = 500\n",
    "\n",
    "print(min_freq)\n",
    "with open(f'./data/{dataset}_train_bios.pkl', 'rb') as f:\n",
    "    bios = pickle.load(f)"
   ]
  },
  {
   "cell_type": "code",
   "execution_count": 80,
   "id": "f2ea45e2",
   "metadata": {},
   "outputs": [
    {
     "name": "stderr",
     "output_type": "stream",
     "text": [
      "/scratch/12791954/ipykernel_13862/308708586.py:6: TqdmDeprecationWarning: This function will be removed in tqdm==5.0.0\n",
      "Please use `tqdm.notebook.tqdm` instead of `tqdm.tqdm_notebook`\n",
      "  for bio in tqdm(bios):\n"
     ]
    },
    {
     "data": {
      "application/vnd.jupyter.widget-view+json": {
       "model_id": "6a026f7c64514be19edb71c00dd75bc4",
       "version_major": 2,
       "version_minor": 0
      },
      "text/plain": [
       "  0%|          | 0/12367897 [00:00<?, ?it/s]"
      ]
     },
     "metadata": {},
     "output_type": "display_data"
    },
    {
     "data": {
      "text/plain": [
       "7860996"
      ]
     },
     "execution_count": 80,
     "metadata": {},
     "output_type": "execute_result"
    }
   ],
   "source": [
    "# build a vocabulary of phrases\n",
    "from tqdm import tqdm_notebook as tqdm\n",
    "from collections import Counter\n",
    "\n",
    "pi_cnt = Counter()\n",
    "for bio in tqdm(bios):\n",
    "    pi_cnt.update(bio)\n",
    "\n",
    "len(pi_cnt)"
   ]
  },
  {
   "cell_type": "code",
   "execution_count": null,
   "id": "d79ad7e6",
   "metadata": {},
   "outputs": [],
   "source": [
    "pi_cnt.most_common(10)"
   ]
  },
  {
   "cell_type": "code",
   "execution_count": null,
   "id": "aad1f8b1",
   "metadata": {},
   "outputs": [],
   "source": [
    "pi_cnt.most_common(len(pi_cnt))[-5:]"
   ]
  },
  {
   "cell_type": "markdown",
   "id": "89587ee3",
   "metadata": {},
   "source": [
    "## cleaning each bio"
   ]
  },
  {
   "cell_type": "code",
   "execution_count": 81,
   "id": "b5283dbf",
   "metadata": {},
   "outputs": [
    {
     "name": "stderr",
     "output_type": "stream",
     "text": [
      "100%|██████████| 12367897/12367897 [00:23<00:00, 531308.92it/s]"
     ]
    },
    {
     "name": "stdout",
     "output_type": "stream",
     "text": [
      "2753951 12367897\n"
     ]
    },
    {
     "name": "stderr",
     "output_type": "stream",
     "text": [
      "\n"
     ]
    }
   ],
   "source": [
    "from tqdm import tqdm\n",
    "\n",
    "# phrases of lenght at least m\n",
    "# profiles with at least k phrases\n",
    "# pis that's been repeated at least m times in dataset\n",
    "\n",
    "def clean_pis(all_pis):\n",
    "    result = []\n",
    "    for pis in tqdm(all_pis):\n",
    "        current_pi = set()\n",
    "        for pi in pis:\n",
    "            if len(pi) >= 2 and pi_cnt[pi] >= min_freq:\n",
    "                current_pi.add(pi)\n",
    "        if len(current_pi) > 1:\n",
    "            result.append(list(current_pi))\n",
    "            \n",
    "    return result\n",
    "            \n",
    "cleaned_bios = clean_pis(bios)\n",
    "print(len(cleaned_bios), len(bios))"
   ]
  },
  {
   "cell_type": "markdown",
   "id": "9b67b153",
   "metadata": {},
   "source": [
    "## saving cleaned dataset"
   ]
  },
  {
   "cell_type": "code",
   "execution_count": 82,
   "id": "94269da5",
   "metadata": {},
   "outputs": [],
   "source": [
    "with open(f'./data/{dataset}_cleaned_train_bios_{min_freq}.pkl', 'wb') as f:\n",
    "    pickle.dump(cleaned_bios, f)"
   ]
  },
  {
   "cell_type": "markdown",
   "id": "66548333",
   "metadata": {},
   "source": [
    "# Masked Language Modeling"
   ]
  },
  {
   "cell_type": "markdown",
   "id": "28657f20",
   "metadata": {},
   "source": [
    "## loading dataset"
   ]
  },
  {
   "cell_type": "code",
   "execution_count": 83,
   "id": "4cf396a7",
   "metadata": {},
   "outputs": [
    {
     "data": {
      "text/plain": [
       "(2753951, 4750)"
      ]
     },
     "execution_count": 83,
     "metadata": {},
     "output_type": "execute_result"
    }
   ],
   "source": [
    "import pickle\n",
    "import numpy as np\n",
    "\n",
    "dataset = 'twitter'\n",
    "freq = 100\n",
    "    \n",
    "with open(f'./data/{dataset}_cleaned_train_bios_{freq}.pkl', 'rb') as f:\n",
    "    bios = pickle.load(f)\n",
    "    \n",
    "pi_set = set()\n",
    "for bio in bios:\n",
    "    pi_set.update(bio)\n",
    "pi_set = list(pi_set)\n",
    "    \n",
    "len(bios), len(pi_set)"
   ]
  },
  {
   "cell_type": "markdown",
   "id": "b270187d",
   "metadata": {},
   "source": [
    "\n",
    "## cleaning dataset for full bio"
   ]
  },
  {
   "cell_type": "code",
   "execution_count": 84,
   "id": "82938af5",
   "metadata": {},
   "outputs": [
    {
     "name": "stderr",
     "output_type": "stream",
     "text": [
      "  0%|          | 0/2753951 [00:00<?, ?it/s]\n"
     ]
    },
    {
     "ename": "AttributeError",
     "evalue": "'list' object has no attribute 'lower'",
     "output_type": "error",
     "traceback": [
      "\u001b[0;31m---------------------------------------------------------------------------\u001b[0m",
      "\u001b[0;31mAttributeError\u001b[0m                            Traceback (most recent call last)",
      "\u001b[0;32m/scratch/12791954/ipykernel_13862/3855680804.py\u001b[0m in \u001b[0;36m<module>\u001b[0;34m\u001b[0m\n\u001b[1;32m      6\u001b[0m \u001b[0;34m\u001b[0m\u001b[0m\n\u001b[1;32m      7\u001b[0m \u001b[0;32mfor\u001b[0m \u001b[0mdescription\u001b[0m \u001b[0;32min\u001b[0m \u001b[0mtqdm\u001b[0m\u001b[0;34m(\u001b[0m\u001b[0mbios\u001b[0m\u001b[0;34m)\u001b[0m\u001b[0;34m:\u001b[0m\u001b[0;34m\u001b[0m\u001b[0;34m\u001b[0m\u001b[0m\n\u001b[0;32m----> 8\u001b[0;31m     \u001b[0md\u001b[0m \u001b[0;34m=\u001b[0m \u001b[0mre\u001b[0m\u001b[0;34m.\u001b[0m\u001b[0msub\u001b[0m\u001b[0;34m(\u001b[0m\u001b[0;34mr'\\w+@\\w+\\.\\w+'\u001b[0m\u001b[0;34m,\u001b[0m \u001b[0;34m''\u001b[0m\u001b[0;34m,\u001b[0m \u001b[0mdescription\u001b[0m\u001b[0;34m.\u001b[0m\u001b[0mlower\u001b[0m\u001b[0;34m(\u001b[0m\u001b[0;34m)\u001b[0m\u001b[0;34m)\u001b[0m\u001b[0;34m.\u001b[0m\u001b[0mstrip\u001b[0m\u001b[0;34m(\u001b[0m\u001b[0;34m)\u001b[0m\u001b[0;34m\u001b[0m\u001b[0;34m\u001b[0m\u001b[0m\n\u001b[0m\u001b[1;32m      9\u001b[0m     \u001b[0md\u001b[0m \u001b[0;34m=\u001b[0m \u001b[0mre\u001b[0m\u001b[0;34m.\u001b[0m\u001b[0msub\u001b[0m\u001b[0;34m(\u001b[0m\u001b[0;34mr'(on )?(snapchat|snap|ig|insta|instagram|email|phone): +[A-Za-z0-9_@.-]+'\u001b[0m\u001b[0;34m,\u001b[0m \u001b[0;34m\" \"\u001b[0m\u001b[0;34m,\u001b[0m \u001b[0md\u001b[0m\u001b[0;34m)\u001b[0m\u001b[0;34m.\u001b[0m\u001b[0mstrip\u001b[0m\u001b[0;34m(\u001b[0m\u001b[0;34m)\u001b[0m\u001b[0;34m\u001b[0m\u001b[0;34m\u001b[0m\u001b[0m\n\u001b[1;32m     10\u001b[0m     \u001b[0md\u001b[0m \u001b[0;34m=\u001b[0m \u001b[0mre\u001b[0m\u001b[0;34m.\u001b[0m\u001b[0msub\u001b[0m\u001b[0;34m(\u001b[0m\u001b[0;34mr'http\\S+'\u001b[0m\u001b[0;34m,\u001b[0m \u001b[0;34m''\u001b[0m\u001b[0;34m,\u001b[0m \u001b[0md\u001b[0m\u001b[0;34m)\u001b[0m\u001b[0;34m.\u001b[0m\u001b[0mstrip\u001b[0m\u001b[0;34m(\u001b[0m\u001b[0;34m)\u001b[0m\u001b[0;34m\u001b[0m\u001b[0;34m\u001b[0m\u001b[0m\n",
      "\u001b[0;31mAttributeError\u001b[0m: 'list' object has no attribute 'lower'"
     ]
    }
   ],
   "source": [
    "from tqdm import tqdm\n",
    "import re\n",
    "\n",
    "## remove url and email addresses + social media links\n",
    "cleaned_bios = []\n",
    "\n",
    "for description in tqdm(bios):\n",
    "    d = re.sub(r'\\w+@\\w+\\.\\w+', '', description.lower()).strip()\n",
    "    d = re.sub(r'(on )?(snapchat|snap|ig|insta|instagram|email|phone): +[A-Za-z0-9_@.-]+', \" \", d).strip()\n",
    "    d = re.sub(r'http\\S+', '', d).strip()\n",
    "    d = d.replace(\"&emsp;\", \"\").replace(\"&nbsp;\", \"\")\n",
    "    d = re.sub(r\"\\s+\", \" \", d).strip()\n",
    "    if len(d) > 5:\n",
    "        cleaned_bios.append(d)\n",
    "\n",
    "len(cleaned_bios), cleaned_bios[:10]"
   ]
  },
  {
   "cell_type": "markdown",
   "id": "b7dc4cd3",
   "metadata": {},
   "source": [
    "## save train and test datasets"
   ]
  },
  {
   "cell_type": "markdown",
   "id": "17ab08da",
   "metadata": {},
   "source": [
    "### convert to pytorch dataset"
   ]
  },
  {
   "cell_type": "code",
   "execution_count": 14,
   "id": "42258b70",
   "metadata": {},
   "outputs": [],
   "source": [
    "\n",
    "from datasets import Dataset\n",
    "import pandas as pd\n",
    "\n",
    "train_df = pd.DataFrame([{'bios': \", \".join(t)} for t in bios])\n",
    "train_dataset = Dataset.from_pandas(train_df)\n",
    "\n"
   ]
  },
  {
   "cell_type": "code",
   "execution_count": 15,
   "id": "2727915c",
   "metadata": {},
   "outputs": [],
   "source": [
    "!rm -rf ./data/twitter_hf_dataset"
   ]
  },
  {
   "cell_type": "code",
   "execution_count": 16,
   "id": "4b0f9eff",
   "metadata": {},
   "outputs": [],
   "source": [
    "from datasets import DatasetDict\n",
    "\n",
    "dataset_name = 'twitter'\n",
    "\n",
    "train_dataset.save_to_disk(f'./data/{dataset_name}_hf_dataset')"
   ]
  },
  {
   "cell_type": "code",
   "execution_count": 18,
   "id": "01a81685",
   "metadata": {},
   "outputs": [
    {
     "name": "stdout",
     "output_type": "stream",
     "text": [
      "109M\t./data/twitter_hf_dataset/\r\n"
     ]
    }
   ],
   "source": [
    "!du -hs  ./data/twitter_hf_dataset/"
   ]
  },
  {
   "cell_type": "markdown",
   "id": "f178b937",
   "metadata": {},
   "source": [
    "## load train and test"
   ]
  },
  {
   "cell_type": "code",
   "execution_count": 19,
   "id": "a2c0fd31",
   "metadata": {},
   "outputs": [
    {
     "data": {
      "text/plain": [
       "Dataset({\n",
       "    features: ['bios'],\n",
       "    num_rows: 3534903\n",
       "})"
      ]
     },
     "execution_count": 19,
     "metadata": {},
     "output_type": "execute_result"
    }
   ],
   "source": [
    "from datasets import DatasetDict, Dataset\n",
    "\n",
    "dataset_name = 'twitter'\n",
    "dataset = Dataset.load_from_disk(f'./data/{dataset_name}_hf_dataset')\n",
    "\n",
    "dataset"
   ]
  },
  {
   "cell_type": "markdown",
   "id": "21c30e01",
   "metadata": {},
   "source": [
    "## data preprocessing"
   ]
  },
  {
   "cell_type": "markdown",
   "id": "20f4ec77",
   "metadata": {},
   "source": [
    "### load model and tokenizers"
   ]
  },
  {
   "cell_type": "code",
   "execution_count": 21,
   "id": "df4b5af3",
   "metadata": {},
   "outputs": [
    {
     "name": "stderr",
     "output_type": "stream",
     "text": [
      "Some weights of the model checkpoint at bert-large-uncased were not used when initializing BertForMaskedLM: ['cls.seq_relationship.weight', 'cls.seq_relationship.bias']\n",
      "- This IS expected if you are initializing BertForMaskedLM from the checkpoint of a model trained on another task or with another architecture (e.g. initializing a BertForSequenceClassification model from a BertForPreTraining model).\n",
      "- This IS NOT expected if you are initializing BertForMaskedLM from the checkpoint of a model that you expect to be exactly identical (initializing a BertForSequenceClassification model from a BertForSequenceClassification model).\n"
     ]
    }
   ],
   "source": [
    "from transformers import AutoModelForMaskedLM\n",
    "from transformers import AutoTokenizer\n",
    "\n",
    "\n",
    "# model_checkpoint = \"bert-base-uncased\"\n",
    "model_checkpoint = \"bert-large-uncased\"\n",
    "model = AutoModelForMaskedLM.from_pretrained(model_checkpoint)\n",
    "tokenizer = AutoTokenizer.from_pretrained(model_checkpoint)"
   ]
  },
  {
   "cell_type": "markdown",
   "id": "0fd0b746",
   "metadata": {},
   "source": [
    "### test if model"
   ]
  },
  {
   "cell_type": "code",
   "execution_count": 70,
   "id": "ebb5020e",
   "metadata": {},
   "outputs": [
    {
     "name": "stdout",
     "output_type": "stream",
     "text": [
      "torch.Size([1, 8, 30522])\n",
      "tensor([5])\n",
      "'>>> This is a great idea.'\n",
      "'>>> This is a great day.'\n",
      "'>>> This is a great place.'\n",
      "'>>> This is a great time.'\n",
      "'>>> This is a great thing.'\n"
     ]
    }
   ],
   "source": [
    "import torch\n",
    "\n",
    "\n",
    "text = \"This is a great [MASK].\"\n",
    "\n",
    "\n",
    "inputs = tokenizer(text, return_tensors=\"pt\")\n",
    "token_logits = model(**inputs).logits\n",
    "print(token_logits.shape)\n",
    "# Find the location of [MASK] and extract its logits\n",
    "mask_token_index = torch.where(inputs[\"input_ids\"] == tokenizer.mask_token_id)[1]\n",
    "print(mask_token_index)\n",
    "mask_token_logits = token_logits[0, mask_token_index, :]\n",
    "# Pick the [MASK] candidates with the highest logits\n",
    "top_5_tokens = torch.topk(mask_token_logits, 5, dim=1).indices[0].tolist()\n",
    "\n",
    "for token in top_5_tokens:\n",
    "    print(f\"'>>> {text.replace(tokenizer.mask_token, tokenizer.decode([token]))}'\")"
   ]
  },
  {
   "cell_type": "code",
   "execution_count": 59,
   "id": "2a424b9f",
   "metadata": {
    "scrolled": false
   },
   "outputs": [
    {
     "name": "stderr",
     "output_type": "stream",
     "text": [
      "loading configuration file config.json from cache at /user/smadani/.cache/huggingface/hub/models--bert-base-uncased/snapshots/0a6aa9128b6194f4f3c4db429b6cb4891cdb421b/config.json\n",
      "Model config BertConfig {\n",
      "  \"architectures\": [\n",
      "    \"BertForMaskedLM\"\n",
      "  ],\n",
      "  \"attention_probs_dropout_prob\": 0.1,\n",
      "  \"classifier_dropout\": null,\n",
      "  \"gradient_checkpointing\": false,\n",
      "  \"hidden_act\": \"gelu\",\n",
      "  \"hidden_dropout_prob\": 0.1,\n",
      "  \"hidden_size\": 768,\n",
      "  \"initializer_range\": 0.02,\n",
      "  \"intermediate_size\": 3072,\n",
      "  \"layer_norm_eps\": 1e-12,\n",
      "  \"max_position_embeddings\": 512,\n",
      "  \"model_type\": \"bert\",\n",
      "  \"num_attention_heads\": 12,\n",
      "  \"num_hidden_layers\": 12,\n",
      "  \"output_hidden_states\": true,\n",
      "  \"pad_token_id\": 0,\n",
      "  \"position_embedding_type\": \"absolute\",\n",
      "  \"transformers_version\": \"4.23.1\",\n",
      "  \"type_vocab_size\": 2,\n",
      "  \"use_cache\": true,\n",
      "  \"vocab_size\": 30522\n",
      "}\n",
      "\n",
      "loading file vocab.txt from cache at /user/smadani/.cache/huggingface/hub/models--bert-base-uncased/snapshots/0a6aa9128b6194f4f3c4db429b6cb4891cdb421b/vocab.txt\n",
      "loading file added_tokens.json from cache at None\n",
      "loading file special_tokens_map.json from cache at None\n",
      "loading file tokenizer_config.json from cache at /user/smadani/.cache/huggingface/hub/models--bert-base-uncased/snapshots/0a6aa9128b6194f4f3c4db429b6cb4891cdb421b/tokenizer_config.json\n",
      "loading configuration file config.json from cache at /user/smadani/.cache/huggingface/hub/models--bert-base-uncased/snapshots/0a6aa9128b6194f4f3c4db429b6cb4891cdb421b/config.json\n",
      "Model config BertConfig {\n",
      "  \"_name_or_path\": \"bert-base-uncased\",\n",
      "  \"architectures\": [\n",
      "    \"BertForMaskedLM\"\n",
      "  ],\n",
      "  \"attention_probs_dropout_prob\": 0.1,\n",
      "  \"classifier_dropout\": null,\n",
      "  \"gradient_checkpointing\": false,\n",
      "  \"hidden_act\": \"gelu\",\n",
      "  \"hidden_dropout_prob\": 0.1,\n",
      "  \"hidden_size\": 768,\n",
      "  \"initializer_range\": 0.02,\n",
      "  \"intermediate_size\": 3072,\n",
      "  \"layer_norm_eps\": 1e-12,\n",
      "  \"max_position_embeddings\": 512,\n",
      "  \"model_type\": \"bert\",\n",
      "  \"num_attention_heads\": 12,\n",
      "  \"num_hidden_layers\": 12,\n",
      "  \"pad_token_id\": 0,\n",
      "  \"position_embedding_type\": \"absolute\",\n",
      "  \"transformers_version\": \"4.23.1\",\n",
      "  \"type_vocab_size\": 2,\n",
      "  \"use_cache\": true,\n",
      "  \"vocab_size\": 30522\n",
      "}\n",
      "\n",
      "loading weights file pytorch_model.bin from cache at /user/smadani/.cache/huggingface/hub/models--bert-base-uncased/snapshots/0a6aa9128b6194f4f3c4db429b6cb4891cdb421b/pytorch_model.bin\n",
      "Some weights of the model checkpoint at bert-base-uncased were not used when initializing BertForMaskedLM: ['cls.seq_relationship.weight', 'cls.seq_relationship.bias']\n",
      "- This IS expected if you are initializing BertForMaskedLM from the checkpoint of a model trained on another task or with another architecture (e.g. initializing a BertForSequenceClassification model from a BertForPreTraining model).\n",
      "- This IS NOT expected if you are initializing BertForMaskedLM from the checkpoint of a model that you expect to be exactly identical (initializing a BertForSequenceClassification model from a BertForSequenceClassification model).\n",
      "All the weights of BertForMaskedLM were initialized from the model checkpoint at bert-base-uncased.\n",
      "If your task is similar to the task the model of the checkpoint was trained on, you can already use BertForMaskedLM for predictions without further training.\n",
      "loading configuration file ./models/bert-ft-mlm-twitter/checkpoint-24992/config.json\n",
      "Model config BertConfig {\n",
      "  \"_name_or_path\": \"./models/bert-ft-mlm-twitter/checkpoint-24992/\",\n",
      "  \"architectures\": [\n",
      "    \"BertForMaskedLM\"\n",
      "  ],\n",
      "  \"attention_probs_dropout_prob\": 0.1,\n",
      "  \"classifier_dropout\": null,\n",
      "  \"gradient_checkpointing\": false,\n",
      "  \"hidden_act\": \"gelu\",\n",
      "  \"hidden_dropout_prob\": 0.1,\n",
      "  \"hidden_size\": 768,\n",
      "  \"initializer_range\": 0.02,\n",
      "  \"intermediate_size\": 3072,\n",
      "  \"layer_norm_eps\": 1e-12,\n",
      "  \"max_position_embeddings\": 512,\n",
      "  \"model_type\": \"bert\",\n",
      "  \"num_attention_heads\": 12,\n",
      "  \"num_hidden_layers\": 12,\n",
      "  \"pad_token_id\": 0,\n",
      "  \"position_embedding_type\": \"absolute\",\n",
      "  \"torch_dtype\": \"float32\",\n",
      "  \"transformers_version\": \"4.23.1\",\n",
      "  \"type_vocab_size\": 2,\n",
      "  \"use_cache\": true,\n",
      "  \"vocab_size\": 30522\n",
      "}\n",
      "\n",
      "loading weights file ./models/bert-ft-mlm-twitter/checkpoint-24992/pytorch_model.bin\n",
      "All model checkpoint weights were used when initializing BertForMaskedLM.\n",
      "\n",
      "All the weights of BertForMaskedLM were initialized from the model checkpoint at ./models/bert-ft-mlm-twitter/checkpoint-24992/.\n",
      "If your task is similar to the task the model of the checkpoint was trained on, you can already use BertForMaskedLM for predictions without further training.\n"
     ]
    },
    {
     "name": "stdout",
     "output_type": "stream",
     "text": [
      "torch.Size([1, 9, 30522])\n",
      "tensor([5])\n",
      "'>>> pro-life, japan, japanese'\n",
      "'>>> pro-life, japanese, japanese'\n",
      "'>>> pro-life, tokyo, japanese'\n",
      "'>>> pro-life, english, japanese'\n",
      "'>>> pro-life, [UNK], japanese'\n",
      "'>>> pro-life, usa, japanese'\n",
      "'>>> pro-life, korean, japanese'\n",
      "'>>> pro-life, 2008, japanese'\n",
      "'>>> pro-life, us, japanese'\n",
      "'>>> pro-life, 2012, japanese'\n",
      "'>>> pro-life, american, japanese'\n",
      "'>>> pro-life, taiwan, japanese'\n",
      "'>>> pro-life, 2009, japanese'\n",
      "'>>> pro-life, okinawa, japanese'\n",
      "'>>> pro-life, 2017, japanese'\n",
      "'>>> pro-life, 2013, japanese'\n",
      "'>>> pro-life, 2014, japanese'\n",
      "'>>> pro-life, 2011, japanese'\n",
      "'>>> pro-life, 2016, japanese'\n",
      "'>>> pro-life, 2015, japanese'\n",
      "torch.Size([1, 9, 30522])\n",
      "tensor([5])\n",
      "'>>> pro-life, christian, japanese'\n",
      "'>>> pro-life, american, japanese'\n",
      "'>>> pro-life, catholic, japanese'\n",
      "'>>> pro-life, conservative, japanese'\n",
      "'>>> pro-life, liberal, japanese'\n",
      "'>>> pro-life, democrat, japanese'\n",
      "'>>> pro-life, japanese, japanese'\n",
      "'>>> pro-life, patriot, japanese'\n",
      "'>>> pro-life, english, japanese'\n",
      "'>>> pro-life, nationalist, japanese'\n",
      "'>>> pro-life, european, japanese'\n",
      "'>>> pro-life, retired, japanese'\n",
      "'>>> pro-life, german, japanese'\n",
      "'>>> pro-life, canadian, japanese'\n",
      "'>>> pro-life, veteran, japanese'\n",
      "'>>> pro-life, married, japanese'\n",
      "'>>> pro-life, korean, japanese'\n",
      "'>>> pro-life, irish, japanese'\n",
      "'>>> pro-life, socialist, japanese'\n",
      "'>>> pro-life, progressive, japanese'\n"
     ]
    }
   ],
   "source": [
    "from transformers import AutoModelForMaskedLM\n",
    "from transformers import AutoTokenizer\n",
    "import torch\n",
    "\n",
    "device = 'cpu'\n",
    "\n",
    "config = BertConfig.from_pretrained(\"bert-base-uncased\", output_hidden_states=True)\n",
    "bert_tokenizer = BertTokenizer.from_pretrained(\"bert-base-uncased\")\n",
    "bert_model = AutoModelForMaskedLM.from_pretrained(\"bert-base-uncased\", config=config)\n",
    "bert_model = bert_model.to(device)\n",
    "bert_model.eval()\n",
    "\n",
    "bert_ft_twitter_model = AutoModelForMaskedLM.from_pretrained(\"./models/bert-ft-mlm-twitter/checkpoint-24992/\")\n",
    "bert_ft_twitter_model = bert_ft_twitter_model.to(device)\n",
    "bert_ft_twitter_model.eval()\n",
    "\n",
    "def get_best_choices(text, tokenizer, model):\n",
    "    model.cpu()\n",
    "    \n",
    "    inputs = tokenizer(text, return_tensors=\"pt\")\n",
    "    token_logits = model(**inputs).logits\n",
    "    print(token_logits.shape)\n",
    "    # Find the location of [MASK] and extract its logits\n",
    "    mask_token_index = torch.where(inputs[\"input_ids\"] == tokenizer.mask_token_id)[1]\n",
    "    print(mask_token_index)\n",
    "    mask_token_logits = token_logits[0, mask_token_index, :]\n",
    "    # Pick the [MASK] candidates with the highest logits\n",
    "    top_5_tokens = torch.topk(mask_token_logits, 20, dim=1).indices[0].tolist()\n",
    "\n",
    "    for token in top_5_tokens:\n",
    "        print(f\"'>>> {text.replace(tokenizer.mask_token, tokenizer.decode([token]))}'\")\n",
    "\n",
    "        \n",
    "t = \"pro-life, [MASK], japanese\"\n",
    "get_best_choices(\n",
    "    text=t,\n",
    "    tokenizer=bert_tokenizer,\n",
    "    model=bert_model\n",
    ")\n",
    "get_best_choices(\n",
    "    text=t,\n",
    "    tokenizer=bert_ft_tokenizer,\n",
    "    model=bert_ft_twitter_model\n",
    ")"
   ]
  },
  {
   "cell_type": "markdown",
   "id": "fa7d3750",
   "metadata": {},
   "source": [
    "### preprocessing data"
   ]
  },
  {
   "cell_type": "code",
   "execution_count": 22,
   "id": "969b9fd1",
   "metadata": {},
   "outputs": [
    {
     "name": "stdout",
     "output_type": "stream",
     "text": [
      "              "
     ]
    },
    {
     "data": {
      "application/vnd.jupyter.widget-view+json": {
       "model_id": "aa8a67e0ec3f42d7bf6e33fcee12e287",
       "version_major": 2,
       "version_minor": 0
      },
      "text/plain": [
       "#1:   0%|          | 0/1414 [00:00<?, ?ba/s]"
      ]
     },
     "metadata": {},
     "output_type": "display_data"
    },
    {
     "data": {
      "application/vnd.jupyter.widget-view+json": {
       "model_id": "3aa4ad5bd0864256a9522d13e4092e3d",
       "version_major": 2,
       "version_minor": 0
      },
      "text/plain": [
       "#0:   0%|          | 0/1414 [00:00<?, ?ba/s]"
      ]
     },
     "metadata": {},
     "output_type": "display_data"
    },
    {
     "name": "stdout",
     "output_type": "stream",
     "text": [
      " "
     ]
    },
    {
     "data": {
      "application/vnd.jupyter.widget-view+json": {
       "model_id": "25620d0ec46f46178eae0ed5229369f9",
       "version_major": 2,
       "version_minor": 0
      },
      "text/plain": [
       "#2:   0%|          | 0/1414 [00:00<?, ?ba/s]"
      ]
     },
     "metadata": {},
     "output_type": "display_data"
    },
    {
     "data": {
      "application/vnd.jupyter.widget-view+json": {
       "model_id": "ecdd2aa5e94848dd8560a5332bbe6c11",
       "version_major": 2,
       "version_minor": 0
      },
      "text/plain": [
       "#3:   0%|          | 0/1414 [00:00<?, ?ba/s]"
      ]
     },
     "metadata": {},
     "output_type": "display_data"
    },
    {
     "data": {
      "application/vnd.jupyter.widget-view+json": {
       "model_id": "83a7115911d944ba8f0d68abef2b4553",
       "version_major": 2,
       "version_minor": 0
      },
      "text/plain": [
       "#4:   0%|          | 0/1414 [00:00<?, ?ba/s]"
      ]
     },
     "metadata": {},
     "output_type": "display_data"
    },
    {
     "name": "stdout",
     "output_type": "stream",
     "text": [
      "  "
     ]
    },
    {
     "data": {
      "application/vnd.jupyter.widget-view+json": {
       "model_id": "aebf04b984b74b2985a00be9df1b4eef",
       "version_major": 2,
       "version_minor": 0
      },
      "text/plain": [
       "#5:   0%|          | 0/1414 [00:00<?, ?ba/s]"
      ]
     },
     "metadata": {},
     "output_type": "display_data"
    },
    {
     "data": {
      "application/vnd.jupyter.widget-view+json": {
       "model_id": "5e07b43bc60d486fa18b08b8b58ec363",
       "version_major": 2,
       "version_minor": 0
      },
      "text/plain": [
       "#6:   0%|          | 0/1414 [00:00<?, ?ba/s]"
      ]
     },
     "metadata": {},
     "output_type": "display_data"
    },
    {
     "name": "stdout",
     "output_type": "stream",
     "text": [
      "  "
     ]
    },
    {
     "data": {
      "application/vnd.jupyter.widget-view+json": {
       "model_id": "932c4613fe274b45b294c8fd28856d21",
       "version_major": 2,
       "version_minor": 0
      },
      "text/plain": [
       "#7:   0%|          | 0/1414 [00:00<?, ?ba/s]"
      ]
     },
     "metadata": {},
     "output_type": "display_data"
    },
    {
     "name": "stdout",
     "output_type": "stream",
     "text": [
      " "
     ]
    },
    {
     "data": {
      "application/vnd.jupyter.widget-view+json": {
       "model_id": "5a4b9a2caf104ee984e51342b176a50c",
       "version_major": 2,
       "version_minor": 0
      },
      "text/plain": [
       "#8:   0%|          | 0/1414 [00:00<?, ?ba/s]"
      ]
     },
     "metadata": {},
     "output_type": "display_data"
    },
    {
     "data": {
      "application/vnd.jupyter.widget-view+json": {
       "model_id": "0b1992016ee94c75b826e7738424779d",
       "version_major": 2,
       "version_minor": 0
      },
      "text/plain": [
       "#9:   0%|          | 0/1414 [00:00<?, ?ba/s]"
      ]
     },
     "metadata": {},
     "output_type": "display_data"
    },
    {
     "data": {
      "text/plain": [
       "Dataset({\n",
       "    features: ['input_ids', 'token_type_ids', 'attention_mask', 'word_ids', 'labels'],\n",
       "    num_rows: 3534903\n",
       "})"
      ]
     },
     "execution_count": 22,
     "metadata": {},
     "output_type": "execute_result"
    }
   ],
   "source": [
    "def preprocess(examples):\n",
    "    result = tokenizer(examples[\"bios\"], padding='max_length', max_length=80, truncation=True)\n",
    "    if tokenizer.is_fast:\n",
    "        result[\"word_ids\"] = [result.word_ids(i) for i in range(len(result[\"input_ids\"]))]\n",
    "    \n",
    "    result[\"labels\"] = result[\"input_ids\"].copy()\n",
    "    return result\n",
    "\n",
    "# for test\n",
    "# tokenized_datasets2 = dataset.select(range(1000)).map(\n",
    "#     preprocess, batched=True, batch_size=250, num_proc=1\n",
    "# )\n",
    "# tokenized_datasets2\n",
    "\n",
    "#Use batched=True to activate fast multithreading!\n",
    "tokenized_datasets = dataset.map(\n",
    "    preprocess, batched=True, remove_columns=[\"bios\",], batch_size=250, num_proc=10\n",
    ")\n",
    "tokenized_datasets"
   ]
  },
  {
   "cell_type": "code",
   "execution_count": null,
   "id": "ac53fc9b",
   "metadata": {},
   "outputs": [],
   "source": [
    "!rm -rf ./data/twitter_hf_dataset_tokenized/"
   ]
  },
  {
   "cell_type": "code",
   "execution_count": null,
   "id": "71062ee2",
   "metadata": {},
   "outputs": [],
   "source": [
    "tokenized_datasets.save_to_disk(f'./data/{dataset_name}_hf_dataset_tokenized')"
   ]
  },
  {
   "cell_type": "code",
   "execution_count": null,
   "id": "8b449496",
   "metadata": {},
   "outputs": [],
   "source": [
    "!du -hs ./data/wiki_hf_dataset_tokenized/"
   ]
  },
  {
   "cell_type": "code",
   "execution_count": null,
   "id": "4e041ce1",
   "metadata": {},
   "outputs": [],
   "source": [
    "from datasets import DatasetDict, Dataset\n",
    "import torch\n",
    "\n",
    "dataset_name = 'wiki'\n",
    "tokenized_datasets = Dataset.load_from_disk(f'./data/{dataset_name}_hf_dataset_tokenized')\n",
    "\n",
    "tokenized_datasets"
   ]
  },
  {
   "cell_type": "markdown",
   "id": "089f125c",
   "metadata": {},
   "source": [
    "### masking"
   ]
  },
  {
   "cell_type": "code",
   "execution_count": 23,
   "id": "3081eeea",
   "metadata": {},
   "outputs": [],
   "source": [
    "import collections\n",
    "import numpy as np\n",
    "\n",
    "from transformers import default_data_collator\n",
    "\n",
    "wwm_probability = 0.33\n",
    "\n",
    "\n",
    "def whole_word_masking_data_collator(features):\n",
    "    for feature in features:\n",
    "        word_ids = feature.pop(\"word_ids\")\n",
    "\n",
    "        # Create a map between words and corresponding token indices\n",
    "        mapping = collections.defaultdict(list)\n",
    "        current_word_index = -1\n",
    "        current_word = None\n",
    "        for idx, word_id in enumerate(word_ids):\n",
    "            if word_id is not None:\n",
    "                if word_id != current_word:\n",
    "                    current_word = word_id\n",
    "                    current_word_index += 1\n",
    "                mapping[current_word_index].append(idx)\n",
    "\n",
    "        # Randomly mask words\n",
    "        mask = np.random.binomial(1, wwm_probability, (len(mapping),))\n",
    "        input_ids = feature[\"input_ids\"]\n",
    "        labels = feature[\"labels\"]\n",
    "        new_labels = [-100] * len(labels)\n",
    "        for word_id in np.where(mask)[0]:\n",
    "            word_id = word_id.item()\n",
    "            for idx in mapping[word_id]:\n",
    "                new_labels[idx] = labels[idx]\n",
    "                input_ids[idx] = tokenizer.mask_token_id\n",
    "        feature[\"labels\"] = new_labels\n",
    "\n",
    "    return default_data_collator(features)"
   ]
  },
  {
   "cell_type": "code",
   "execution_count": 24,
   "id": "3a5ed00d",
   "metadata": {},
   "outputs": [
    {
     "name": "stdout",
     "output_type": "stream",
     "text": [
      "\n",
      "'>>> [CLS] [MASK] of [MASK], seeker of knowledge [MASK] [MASK] [SEP] [PAD] [PAD] [PAD] [PAD] [PAD] [PAD] [PAD] [PAD] [PAD] [PAD] [PAD] [PAD] [PAD] [PAD] [PAD] [PAD] [PAD] [PAD] [PAD] [PAD] [PAD] [PAD] [PAD] [PAD] [PAD] [PAD] [PAD] [PAD] [PAD] [PAD] [PAD] [PAD] [PAD] [PAD] [PAD] [PAD] [PAD] [PAD] [PAD] [PAD] [PAD] [PAD] [PAD] [PAD] [PAD] [PAD] [PAD] [PAD] [PAD] [PAD] [PAD] [PAD] [PAD] [PAD] [PAD] [PAD] [PAD] [PAD] [PAD] [PAD] [PAD] [PAD] [PAD] [PAD] [PAD] [PAD] [PAD] [PAD] [PAD]'\n",
      "\n",
      "'>>> [CLS] psychologist, wwg1wga [SEP] [PAD] [PAD] [PAD] [PAD] [PAD] [PAD] [PAD] [PAD] [PAD] [PAD] [PAD] [PAD] [PAD] [PAD] [PAD] [PAD] [PAD] [PAD] [PAD] [PAD] [PAD] [PAD] [PAD] [PAD] [PAD] [PAD] [PAD] [PAD] [PAD] [PAD] [PAD] [PAD] [PAD] [PAD] [PAD] [PAD] [PAD] [PAD] [PAD] [PAD] [PAD] [PAD] [PAD] [PAD] [PAD] [PAD] [PAD] [PAD] [PAD] [PAD] [PAD] [PAD] [PAD] [PAD] [PAD] [PAD] [PAD] [PAD] [PAD] [PAD] [PAD] [PAD] [PAD] [PAD] [PAD] [PAD] [PAD] [PAD] [PAD] [PAD] [PAD]'\n",
      "\n",
      "'>>> [CLS] boba, incest, [MASK] [MASK], 22, him, rat, draw stuff, [MASK], [MASK] [MASK] [SEP] [PAD] [PAD] [PAD] [PAD] [PAD] [PAD] [PAD] [PAD] [PAD] [PAD] [PAD] [PAD] [PAD] [PAD] [PAD] [PAD] [PAD] [PAD] [PAD] [PAD] [PAD] [PAD] [PAD] [PAD] [PAD] [PAD] [PAD] [PAD] [PAD] [PAD] [PAD] [PAD] [PAD] [PAD] [PAD] [PAD] [PAD] [PAD] [PAD] [PAD] [PAD] [PAD] [PAD] [PAD] [PAD] [PAD] [PAD] [PAD] [PAD] [PAD] [PAD] [PAD] [PAD] [PAD] [PAD] [PAD]'\n",
      "\n",
      "'>>> [CLS] husband, [MASK] [MASK] [MASK] dad, [MASK] [MASK] [SEP] [PAD] [PAD] [PAD] [PAD] [PAD] [PAD] [PAD] [PAD] [PAD] [PAD] [PAD] [PAD] [PAD] [PAD] [PAD] [PAD] [PAD] [PAD] [PAD] [PAD] [PAD] [PAD] [PAD] [PAD] [PAD] [PAD] [PAD] [PAD] [PAD] [PAD] [PAD] [PAD] [PAD] [PAD] [PAD] [PAD] [PAD] [PAD] [PAD] [PAD] [PAD] [PAD] [PAD] [PAD] [PAD] [PAD] [PAD] [PAD] [PAD] [PAD] [PAD] [PAD] [PAD] [PAD] [PAD] [PAD] [PAD] [PAD] [PAD] [PAD] [PAD] [PAD] [PAD] [PAD] [PAD] [PAD] [PAD] [PAD] [PAD]'\n",
      "\n",
      "'>>> [CLS] resistance, member of the [SEP] [PAD] [PAD] [PAD] [PAD] [PAD] [PAD] [PAD] [PAD] [PAD] [PAD] [PAD] [PAD] [PAD] [PAD] [PAD] [PAD] [PAD] [PAD] [PAD] [PAD] [PAD] [PAD] [PAD] [PAD] [PAD] [PAD] [PAD] [PAD] [PAD] [PAD] [PAD] [PAD] [PAD] [PAD] [PAD] [PAD] [PAD] [PAD] [PAD] [PAD] [PAD] [PAD] [PAD] [PAD] [PAD] [PAD] [PAD] [PAD] [PAD] [PAD] [PAD] [PAD] [PAD] [PAD] [PAD] [PAD] [PAD] [PAD] [PAD] [PAD] [PAD] [PAD] [PAD] [PAD] [PAD] [PAD] [PAD] [PAD] [PAD] [PAD] [PAD] [PAD] [PAD]'\n",
      "\n",
      "'>>> [CLS] growing, writing, [MASK], [MASK] [SEP] [PAD] [PAD] [PAD] [PAD] [PAD] [PAD] [PAD] [PAD] [PAD] [PAD] [PAD] [PAD] [PAD] [PAD] [PAD] [PAD] [PAD] [PAD] [PAD] [PAD] [PAD] [PAD] [PAD] [PAD] [PAD] [PAD] [PAD] [PAD] [PAD] [PAD] [PAD] [PAD] [PAD] [PAD] [PAD] [PAD] [PAD] [PAD] [PAD] [PAD] [PAD] [PAD] [PAD] [PAD] [PAD] [PAD] [PAD] [PAD] [PAD] [PAD] [PAD] [PAD] [PAD] [PAD] [PAD] [PAD] [PAD] [PAD] [PAD] [PAD] [PAD] [PAD] [PAD] [PAD] [PAD] [PAD] [PAD] [PAD] [PAD] [PAD] [PAD]'\n",
      "\n",
      "'>>> [CLS] she [MASK] [MASK], [MASK], [MASK] [SEP] [PAD] [PAD] [PAD] [PAD] [PAD] [PAD] [PAD] [PAD] [PAD] [PAD] [PAD] [PAD] [PAD] [PAD] [PAD] [PAD] [PAD] [PAD] [PAD] [PAD] [PAD] [PAD] [PAD] [PAD] [PAD] [PAD] [PAD] [PAD] [PAD] [PAD] [PAD] [PAD] [PAD] [PAD] [PAD] [PAD] [PAD] [PAD] [PAD] [PAD] [PAD] [PAD] [PAD] [PAD] [PAD] [PAD] [PAD] [PAD] [PAD] [PAD] [PAD] [PAD] [PAD] [PAD] [PAD] [PAD] [PAD] [PAD] [PAD] [PAD] [PAD] [PAD] [PAD] [PAD] [PAD] [PAD] [PAD] [PAD] [PAD] [PAD] [PAD]'\n",
      "\n",
      "'>>> [CLS] never [MASK], 110 [SEP] [PAD] [PAD] [PAD] [PAD] [PAD] [PAD] [PAD] [PAD] [PAD] [PAD] [PAD] [PAD] [PAD] [PAD] [PAD] [PAD] [PAD] [PAD] [PAD] [PAD] [PAD] [PAD] [PAD] [PAD] [PAD] [PAD] [PAD] [PAD] [PAD] [PAD] [PAD] [PAD] [PAD] [PAD] [PAD] [PAD] [PAD] [PAD] [PAD] [PAD] [PAD] [PAD] [PAD] [PAD] [PAD] [PAD] [PAD] [PAD] [PAD] [PAD] [PAD] [PAD] [PAD] [PAD] [PAD] [PAD] [PAD] [PAD] [PAD] [PAD] [PAD] [PAD] [PAD] [PAD] [PAD] [PAD] [PAD] [PAD] [PAD] [PAD] [PAD] [PAD] [PAD] [PAD]'\n",
      "\n",
      "'>>> [CLS] [MASK] acc, bts [MASK] twt [MASK] stream [MASK] [SEP] [PAD] [PAD] [PAD] [PAD] [PAD] [PAD] [PAD] [PAD] [PAD] [PAD] [PAD] [PAD] [PAD] [PAD] [PAD] [PAD] [PAD] [PAD] [PAD] [PAD] [PAD] [PAD] [PAD] [PAD] [PAD] [PAD] [PAD] [PAD] [PAD] [PAD] [PAD] [PAD] [PAD] [PAD] [PAD] [PAD] [PAD] [PAD] [PAD] [PAD] [PAD] [PAD] [PAD] [PAD] [PAD] [PAD] [PAD] [PAD] [PAD] [PAD] [PAD] [PAD] [PAD] [PAD] [PAD] [PAD] [PAD] [PAD] [PAD] [PAD] [PAD] [PAD] [PAD] [PAD] [PAD] [PAD] [PAD]'\n",
      "\n",
      "'>>> [CLS] official, [MASK], [MASK] [MASK] [MASK], outlander [SEP] [PAD] [PAD] [PAD] [PAD] [PAD] [PAD] [PAD] [PAD] [PAD] [PAD] [PAD] [PAD] [PAD] [PAD] [PAD] [PAD] [PAD] [PAD] [PAD] [PAD] [PAD] [PAD] [PAD] [PAD] [PAD] [PAD] [PAD] [PAD] [PAD] [PAD] [PAD] [PAD] [PAD] [PAD] [PAD] [PAD] [PAD] [PAD] [PAD] [PAD] [PAD] [PAD] [PAD] [PAD] [PAD] [PAD] [PAD] [PAD] [PAD] [PAD] [PAD] [PAD] [PAD] [PAD] [PAD] [PAD] [PAD] [PAD] [PAD] [PAD] [PAD] [PAD] [PAD] [PAD] [PAD] [PAD] [PAD] [PAD]'\n"
     ]
    }
   ],
   "source": [
    "samples = [tokenized_datasets[i] for i in range(10)]\n",
    "batch = whole_word_masking_data_collator(samples)\n",
    "\n",
    "for chunk in batch[\"input_ids\"]:\n",
    "    print(f\"\\n'>>> {tokenizer.decode(chunk)}'\")"
   ]
  },
  {
   "cell_type": "markdown",
   "id": "3072b7c3",
   "metadata": {},
   "source": [
    "### fine tuning"
   ]
  },
  {
   "cell_type": "code",
   "execution_count": 25,
   "id": "fc80c4cf",
   "metadata": {},
   "outputs": [
    {
     "name": "stdout",
     "output_type": "stream",
     "text": [
      "DatasetDict({\n",
      "    train: Dataset({\n",
      "        features: ['input_ids', 'token_type_ids', 'attention_mask', 'word_ids', 'labels'],\n",
      "        num_rows: 250000\n",
      "    })\n",
      "    test: Dataset({\n",
      "        features: ['input_ids', 'token_type_ids', 'attention_mask', 'word_ids', 'labels'],\n",
      "        num_rows: 25000\n",
      "    })\n",
      "})\n",
      "logging steps: 976\n"
     ]
    }
   ],
   "source": [
    "from transformers import TrainingArguments\n",
    "\n",
    "\n",
    "downsampled_dataset = tokenized_datasets.train_test_split(\n",
    "    train_size=int(25e4), test_size=int(25e3), seed=42\n",
    ")\n",
    "\n",
    "print(downsampled_dataset)\n",
    "\n",
    "batch_size = 64\n",
    "logging_steps = int((len(downsampled_dataset['train']) // batch_size) / 4)\n",
    "\n",
    "print(f\"logging steps: {logging_steps}\")\n",
    "\n",
    "args = TrainingArguments(\n",
    "    # output_dir: directory where the model checkpoints will be saved.\n",
    "    output_dir='./models/bertlarge-ft-mlm-twitter',\n",
    "    overwrite_output_dir=True,\n",
    "    # evaluation_strategy (default \"no\"):\n",
    "    # Possible values are:\n",
    "    # \"no\": No evaluation is done during training.\n",
    "    # \"steps\": Evaluation is done (and logged) every eval_steps.\n",
    "    # \"epoch\": Evaluation is done at the end of each epoch.\n",
    "    evaluation_strategy=\"steps\",\n",
    "    # eval_steps: Number of update steps between two evaluations if\n",
    "    # evaluation_strategy=\"steps\". Will default to the same value as\n",
    "    # logging_steps if not set.\n",
    "    eval_steps=logging_steps,\n",
    "    # logging_strategy (default: \"steps\"): The logging strategy to adopt during\n",
    "    # training (used to log training loss for example). Possible values are:\n",
    "    # \"no\": No logging is done during training.\n",
    "    # \"epoch\": Logging is done at the end of each epoch.\n",
    "    # \"steps\": Logging is done every logging_steps.\n",
    "    logging_strategy=\"steps\",\n",
    "    # logging_steps (default 500): Number of update steps between two logs if\n",
    "    # logging_strategy=\"steps\".\n",
    "    logging_steps=logging_steps,\n",
    "    # save_strategy (default \"steps\"):\n",
    "    # The checkpoint save strategy to adopt during training. Possible values are:\n",
    "    # \"no\": No save is done during training.\n",
    "    # \"epoch\": Save is done at the end of each epoch.\n",
    "    # \"steps\": Save is done every save_steps (default 500).\n",
    "    save_strategy=\"steps\",\n",
    "    # save_steps (default: 500): Number of updates steps before two checkpoint\n",
    "    # saves if save_strategy=\"steps\".\n",
    "    save_steps=logging_steps,\n",
    "    # learning_rate (default 5e-5): The initial learning rate for AdamW optimizer.\n",
    "    # Adam algorithm with weight decay fix as introduced in the paper\n",
    "    # Decoupled Weight Decay Regularization.\n",
    "    learning_rate=2e-5,\n",
    "    # per_device_train_batch_size: The batch size per GPU/TPU core/CPU for training.\n",
    "    per_device_train_batch_size=batch_size,\n",
    "    # per_device_eval_batch_size: The batch size per GPU/TPU core/CPU for evaluation.\n",
    "    per_device_eval_batch_size=batch_size,\n",
    "    # num_train_epochs (default 3.0): Total number of training epochs to perform\n",
    "    # (if not an integer, will perform the decimal part percents of the last epoch\n",
    "    # before stopping training).\n",
    "    num_train_epochs=2,\n",
    "    # load_best_model_at_end (default False): Whether or not to load the best model\n",
    "    # found during training at the end of training.\n",
    "    load_best_model_at_end=True,\n",
    "    # metric_for_best_model:\n",
    "    # Use in conjunction with load_best_model_at_end to specify the metric to use\n",
    "    # to compare two different models. Must be the name of a metric returned by\n",
    "    # the evaluation with or without the prefix \"eval_\".\n",
    "    metric_for_best_model=\"loss\",\n",
    "    # report_to:\n",
    "    # The list of integrations to report the results and logs to. Supported\n",
    "    # platforms are \"azure_ml\", \"comet_ml\", \"mlflow\", \"tensorboard\" and \"wandb\".\n",
    "    # Use \"all\" to report to all integrations installed, \"none\" for no integrations.\n",
    "    report_to=\"tensorboard\",\n",
    "    weight_decay=0.01,\n",
    "    # to avoid removing word_ids\n",
    "    remove_unused_columns=False\n",
    "    \n",
    ")"
   ]
  },
  {
   "cell_type": "code",
   "execution_count": 26,
   "id": "7e84d02a",
   "metadata": {},
   "outputs": [],
   "source": [
    "from transformers import Trainer\n",
    "\n",
    "\n",
    "trainer = Trainer(\n",
    "    model=model,\n",
    "    args=args,\n",
    "    train_dataset=downsampled_dataset[\"train\"],\n",
    "    eval_dataset=downsampled_dataset[\"test\"],\n",
    "    data_collator=whole_word_masking_data_collator,\n",
    ")"
   ]
  },
  {
   "cell_type": "code",
   "execution_count": 27,
   "id": "72e23c2c",
   "metadata": {},
   "outputs": [
    {
     "name": "stderr",
     "output_type": "stream",
     "text": [
      "/projects/academic/kjoseph/navid/anaconda3/envs/py38/lib/python3.8/site-packages/transformers/optimization.py:306: FutureWarning: This implementation of AdamW is deprecated and will be removed in a future version. Use the PyTorch implementation torch.optim.AdamW instead, or set `no_deprecation_warning=True` to disable this warning\n",
      "  warnings.warn(\n",
      "***** Running training *****\n",
      "  Num examples = 250000\n",
      "  Num Epochs = 2\n",
      "  Instantaneous batch size per device = 64\n",
      "  Total train batch size (w. parallel, distributed & accumulation) = 128\n",
      "  Gradient Accumulation steps = 1\n",
      "  Total optimization steps = 3908\n",
      "/projects/academic/kjoseph/navid/anaconda3/envs/py38/lib/python3.8/site-packages/torch/nn/parallel/_functions.py:68: UserWarning: Was asked to gather along dimension 0, but all input tensors were scalars; will instead unsqueeze and return a vector.\n",
      "  warnings.warn('Was asked to gather along dimension 0, but all '\n"
     ]
    },
    {
     "data": {
      "text/html": [
       "\n",
       "    <div>\n",
       "      \n",
       "      <progress value='3908' max='3908' style='width:300px; height:20px; vertical-align: middle;'></progress>\n",
       "      [3908/3908 32:57, Epoch 2/2]\n",
       "    </div>\n",
       "    <table border=\"1\" class=\"dataframe\">\n",
       "  <thead>\n",
       " <tr style=\"text-align: left;\">\n",
       "      <th>Step</th>\n",
       "      <th>Training Loss</th>\n",
       "      <th>Validation Loss</th>\n",
       "    </tr>\n",
       "  </thead>\n",
       "  <tbody>\n",
       "    <tr>\n",
       "      <td>976</td>\n",
       "      <td>4.268100</td>\n",
       "      <td>3.926489</td>\n",
       "    </tr>\n",
       "    <tr>\n",
       "      <td>1952</td>\n",
       "      <td>3.840900</td>\n",
       "      <td>3.723820</td>\n",
       "    </tr>\n",
       "    <tr>\n",
       "      <td>2928</td>\n",
       "      <td>3.689700</td>\n",
       "      <td>3.644656</td>\n",
       "    </tr>\n",
       "    <tr>\n",
       "      <td>3904</td>\n",
       "      <td>3.638900</td>\n",
       "      <td>3.587528</td>\n",
       "    </tr>\n",
       "  </tbody>\n",
       "</table><p>"
      ],
      "text/plain": [
       "<IPython.core.display.HTML object>"
      ]
     },
     "metadata": {},
     "output_type": "display_data"
    },
    {
     "name": "stderr",
     "output_type": "stream",
     "text": [
      "***** Running Evaluation *****\n",
      "  Num examples = 25000\n",
      "  Batch size = 128\n",
      "Saving model checkpoint to ./models/bertlarge-ft-mlm-twitter/checkpoint-976\n",
      "Configuration saved in ./models/bertlarge-ft-mlm-twitter/checkpoint-976/config.json\n",
      "Model weights saved in ./models/bertlarge-ft-mlm-twitter/checkpoint-976/pytorch_model.bin\n",
      "/projects/academic/kjoseph/navid/anaconda3/envs/py38/lib/python3.8/site-packages/torch/nn/parallel/_functions.py:68: UserWarning: Was asked to gather along dimension 0, but all input tensors were scalars; will instead unsqueeze and return a vector.\n",
      "  warnings.warn('Was asked to gather along dimension 0, but all '\n",
      "***** Running Evaluation *****\n",
      "  Num examples = 25000\n",
      "  Batch size = 128\n",
      "Saving model checkpoint to ./models/bertlarge-ft-mlm-twitter/checkpoint-1952\n",
      "Configuration saved in ./models/bertlarge-ft-mlm-twitter/checkpoint-1952/config.json\n",
      "Model weights saved in ./models/bertlarge-ft-mlm-twitter/checkpoint-1952/pytorch_model.bin\n",
      "/projects/academic/kjoseph/navid/anaconda3/envs/py38/lib/python3.8/site-packages/torch/nn/parallel/_functions.py:68: UserWarning: Was asked to gather along dimension 0, but all input tensors were scalars; will instead unsqueeze and return a vector.\n",
      "  warnings.warn('Was asked to gather along dimension 0, but all '\n",
      "***** Running Evaluation *****\n",
      "  Num examples = 25000\n",
      "  Batch size = 128\n",
      "Saving model checkpoint to ./models/bertlarge-ft-mlm-twitter/checkpoint-2928\n",
      "Configuration saved in ./models/bertlarge-ft-mlm-twitter/checkpoint-2928/config.json\n",
      "Model weights saved in ./models/bertlarge-ft-mlm-twitter/checkpoint-2928/pytorch_model.bin\n",
      "/projects/academic/kjoseph/navid/anaconda3/envs/py38/lib/python3.8/site-packages/torch/nn/parallel/_functions.py:68: UserWarning: Was asked to gather along dimension 0, but all input tensors were scalars; will instead unsqueeze and return a vector.\n",
      "  warnings.warn('Was asked to gather along dimension 0, but all '\n",
      "***** Running Evaluation *****\n",
      "  Num examples = 25000\n",
      "  Batch size = 128\n",
      "Saving model checkpoint to ./models/bertlarge-ft-mlm-twitter/checkpoint-3904\n",
      "Configuration saved in ./models/bertlarge-ft-mlm-twitter/checkpoint-3904/config.json\n",
      "Model weights saved in ./models/bertlarge-ft-mlm-twitter/checkpoint-3904/pytorch_model.bin\n",
      "/projects/academic/kjoseph/navid/anaconda3/envs/py38/lib/python3.8/site-packages/torch/nn/parallel/_functions.py:68: UserWarning: Was asked to gather along dimension 0, but all input tensors were scalars; will instead unsqueeze and return a vector.\n",
      "  warnings.warn('Was asked to gather along dimension 0, but all '\n",
      "\n",
      "\n",
      "Training completed. Do not forget to share your model on huggingface.co/models =)\n",
      "\n",
      "\n",
      "Loading best model from ./models/bertlarge-ft-mlm-twitter/checkpoint-3904 (score: 3.5875275135040283).\n"
     ]
    },
    {
     "data": {
      "text/plain": [
       "TrainOutput(global_step=3908, training_loss=3.85937551100154, metrics={'train_runtime': 1983.5885, 'train_samples_per_second': 252.068, 'train_steps_per_second': 1.97, 'total_flos': 7.281446256e+16, 'train_loss': 3.85937551100154, 'epoch': 2.0})"
      ]
     },
     "execution_count": 27,
     "metadata": {},
     "output_type": "execute_result"
    }
   ],
   "source": [
    "trainer.train()"
   ]
  },
  {
   "cell_type": "markdown",
   "id": "b64ba747",
   "metadata": {},
   "source": [
    "### evaluate model"
   ]
  },
  {
   "cell_type": "code",
   "execution_count": null,
   "id": "c8946114",
   "metadata": {},
   "outputs": [],
   "source": [
    "import math\n",
    "\n",
    "eval_results = trainer.evaluate(tokenized_datasets['valid'])\n",
    "print(f\">>> Perplexity: {math.exp(eval_results['eval_loss']):.2f}\")"
   ]
  },
  {
   "cell_type": "markdown",
   "id": "b8579a27",
   "metadata": {},
   "source": [
    "# Contrastive learning"
   ]
  },
  {
   "cell_type": "markdown",
   "id": "c4049e62",
   "metadata": {},
   "source": [
    "## generating positive negative samples"
   ]
  },
  {
   "cell_type": "code",
   "execution_count": 1,
   "id": "230dee7d",
   "metadata": {},
   "outputs": [
    {
     "name": "stdout",
     "output_type": "stream",
     "text": [
      "env: CUDA_VISIBLE_DEVICES=1\n"
     ]
    }
   ],
   "source": [
    "%env CUDA_VISIBLE_DEVICES=1"
   ]
  },
  {
   "cell_type": "code",
   "execution_count": 85,
   "id": "0e276d72",
   "metadata": {},
   "outputs": [
    {
     "data": {
      "text/plain": [
       "(2753951, 4750)"
      ]
     },
     "execution_count": 85,
     "metadata": {},
     "output_type": "execute_result"
    }
   ],
   "source": [
    "import pickle\n",
    "import numpy as np\n",
    "\n",
    "dataset = 'twitter'\n",
    "freq = 500\n",
    "    \n",
    "with open(f'./data/{dataset}_cleaned_train_bios_{freq}.pkl', 'rb') as f:\n",
    "    bios = pickle.load(f)\n",
    "    \n",
    "pi_dict = {}\n",
    "for bio in bios:\n",
    "    for pi in bio:\n",
    "        if pi not in pi_dict:\n",
    "            pi_dict[pi] = len(pi_dict)\n",
    "\n",
    "pi_set = list(pi_dict.keys())\n",
    "    \n",
    "len(bios), len(pi_set)"
   ]
  },
  {
   "cell_type": "code",
   "execution_count": 86,
   "id": "652af647",
   "metadata": {},
   "outputs": [
    {
     "data": {
      "text/plain": [
       "3.0"
      ]
     },
     "execution_count": 86,
     "metadata": {},
     "output_type": "execute_result"
    }
   ],
   "source": [
    "np.median([len(x) for x in bios])"
   ]
  },
  {
   "cell_type": "markdown",
   "id": "59b26bdf",
   "metadata": {},
   "source": [
    "### neighbors of a PI"
   ]
  },
  {
   "cell_type": "code",
   "execution_count": 87,
   "id": "fd94ba1c",
   "metadata": {},
   "outputs": [
    {
     "name": "stderr",
     "output_type": "stream",
     "text": [
      "100%|██████████| 2753951/2753951 [00:18<00:00, 152481.50it/s]"
     ]
    },
    {
     "name": "stdout",
     "output_type": "stream",
     "text": [
      "4750\n"
     ]
    },
    {
     "name": "stderr",
     "output_type": "stream",
     "text": [
      "\n"
     ]
    }
   ],
   "source": [
    "from tqdm import tqdm\n",
    "neighbors = {}\n",
    "from collections import Counter\n",
    "\n",
    "\n",
    "for bio in tqdm(bios):\n",
    "    for pi in bio:\n",
    "        if pi not in neighbors:\n",
    "            neighbors[pi] = Counter()\n",
    "                \n",
    "        rest = [b for b in bio if b!=pi]\n",
    "        neighbors[pi].update(rest)\n",
    "\n",
    "print(len(neighbors))            \n"
   ]
  },
  {
   "cell_type": "markdown",
   "id": "da2f5038",
   "metadata": {},
   "source": [
    "### pos/neg samples"
   ]
  },
  {
   "cell_type": "markdown",
   "id": "b0a444d5",
   "metadata": {
    "heading_collapsed": true
   },
   "source": [
    "#### sampling PI pairs"
   ]
  },
  {
   "cell_type": "code",
   "execution_count": null,
   "id": "37c4ab31",
   "metadata": {
    "hidden": true
   },
   "outputs": [],
   "source": [
    "from random import randint\n",
    "import numpy as np\n",
    "\n",
    "def pair_in_list(current_pair, l):\n",
    "    for pair in l:\n",
    "        if current_pair[0] in pair and current_pair[1] in pair:\n",
    "            return True\n",
    "    return False\n",
    "\n",
    "\n",
    "def generate_triplets(bios, k=3):\n",
    "    samples = []\n",
    "    for idx, bio in tqdm(enumerate(bios), total=len(bios)):\n",
    "        if len(bio) != len(set(bio)):\n",
    "            continue\n",
    "        iters = min(len(bio)-1, k)\n",
    "        chosen_pis = []\n",
    "        for i in range(iters):\n",
    "            pos1, pos2 = np.random.choice(bio, size=2, replace=False)\n",
    "            while pair_in_list([pos1,pos2], chosen_pis):\n",
    "                pos1, pos2 = np.random.choice(bio, size=2, replace=False)\n",
    "            chosen_pis.append([pos1, pos2])\n",
    "            neg_idx = randint(0, len(pi_set)-1)\n",
    "            while pi_set[neg_idx] in neighbors[pos1] or pi_set[neg_idx] in neighbors[pos2]:\n",
    "                neg_idx = randint(0, len(pi_set)-1)\n",
    "            samples.append([pos1, pos2, pi_set[neg_idx]])\n",
    "    return samples\n",
    "\n",
    "triplets = generate_triplets(bios, k=3)"
   ]
  },
  {
   "cell_type": "markdown",
   "id": "f1e0a4c3",
   "metadata": {},
   "source": [
    "#### sampling bios vs PIs"
   ]
  },
  {
   "cell_type": "code",
   "execution_count": 88,
   "id": "96544675",
   "metadata": {},
   "outputs": [
    {
     "name": "stderr",
     "output_type": "stream",
     "text": [
      "100%|██████████| 2753951/2753951 [01:14<00:00, 36831.58it/s]\n"
     ]
    }
   ],
   "source": [
    "from random import randint\n",
    "import numpy as np\n",
    "\n",
    "\n",
    "def generate_triplets(bios):\n",
    "    samples = []\n",
    "    for idx, bio in tqdm(enumerate(bios), total=len(bios)):\n",
    "        if len(bio) != len(set(bio)):\n",
    "            continue\n",
    "        anchor = np.random.choice(bio, size=1, replace=False)[0]\n",
    "        pos = [pi for pi in bio if pi != anchor]\n",
    "        pos = \", \".join(pos)\n",
    "        \n",
    "        neg_idx = randint(0, len(pi_set)-1)\n",
    "        while pi_set[neg_idx] in neighbors[anchor]:\n",
    "            neg_idx = randint(0, len(pi_set)-1)\n",
    "        \n",
    "        samples.append([anchor, pos, pi_set[neg_idx]])\n",
    "    return samples\n",
    "\n",
    "triplets = generate_triplets(bios)"
   ]
  },
  {
   "cell_type": "code",
   "execution_count": 89,
   "id": "68ef2d81",
   "metadata": {},
   "outputs": [
    {
     "name": "stdout",
     "output_type": "stream",
     "text": [
      "2753951\n"
     ]
    }
   ],
   "source": [
    "print(len(triplets))"
   ]
  },
  {
   "cell_type": "code",
   "execution_count": 90,
   "id": "e110f55e",
   "metadata": {},
   "outputs": [
    {
     "data": {
      "text/plain": [
       "[['curious', 'lover of nature', 'carrd byf'],\n",
       " ['psychologist', 'wwg1wga', 'pussy'],\n",
       " ['him', '22, draw stuff, he, blm', 'god is good'],\n",
       " ['husband', 'dad', 'idv'],\n",
       " ['member of the', 'resistance', 'wethepeople'],\n",
       " ['writing', 'growing, learning', 'ada'],\n",
       " ['nineteen', 'she, her, for', 'experience'],\n",
       " ['bts_twt', 'fan acc, stream dynamite', 'comic artist'],\n",
       " ['official', 'outlander', 'ks'],\n",
       " ['adventures', 'good food, 26', 'ot23']]"
      ]
     },
     "execution_count": 90,
     "metadata": {},
     "output_type": "execute_result"
    }
   ],
   "source": [
    "triplets[:10]"
   ]
  },
  {
   "cell_type": "markdown",
   "id": "30d18ff5",
   "metadata": {},
   "source": [
    "## save dataset"
   ]
  },
  {
   "cell_type": "code",
   "execution_count": 91,
   "id": "b096589a",
   "metadata": {},
   "outputs": [],
   "source": [
    "import pickle \n",
    "\n",
    "with open(f'data/{dataset}-triplet500_v2_{freq}.pkl', 'wb') as f:\n",
    "    pickle.dump(triplets, f)"
   ]
  },
  {
   "cell_type": "code",
   "execution_count": 92,
   "id": "6b7a0d98",
   "metadata": {},
   "outputs": [],
   "source": [
    "import pickle \n",
    "\n",
    "dataset = 'twitter'\n",
    "freq = 500\n",
    "\n",
    "with open(f'data/{dataset}-triplet500_v2_{freq}.pkl', 'rb') as f:\n",
    "    triplets = pickle.load(f)"
   ]
  },
  {
   "cell_type": "markdown",
   "id": "7ba7ad2d",
   "metadata": {},
   "source": [
    "## finetuning"
   ]
  },
  {
   "cell_type": "markdown",
   "id": "cf22515a",
   "metadata": {},
   "source": [
    "### building the dataset\n"
   ]
  },
  {
   "cell_type": "code",
   "execution_count": 93,
   "id": "9209cd27",
   "metadata": {},
   "outputs": [],
   "source": [
    "import csv\n",
    "from sklearn.model_selection import train_test_split\n",
    "\n",
    "train_set, valid_set = train_test_split(triplets, test_size=0.1)\n",
    "\n",
    "# writing the data into the file\n",
    "with open(f'data/{dataset}-valid-{freq}.csv', 'w') as f:   \n",
    "    write = csv.writer(f, delimiter='\\t')\n",
    "    write.writerows(valid_set)\n",
    "    \n",
    "with open(f'data/{dataset}-train-{freq}.csv', 'w') as f:   \n",
    "    write = csv.writer(f, delimiter='\\t')\n",
    "    write.writerows(train_set)\n"
   ]
  },
  {
   "cell_type": "code",
   "execution_count": 94,
   "id": "161e5685",
   "metadata": {},
   "outputs": [
    {
     "name": "stdout",
     "output_type": "stream",
     "text": [
      "huggingface/tokenizers: The current process just got forked, after parallelism has already been used. Disabling parallelism to avoid deadlocks...\n",
      "To disable this warning, you can either:\n",
      "\t- Avoid using `tokenizers` before the fork if possible\n",
      "\t- Explicitly set the environment variable TOKENIZERS_PARALLELISM=(true | false)\n",
      "black lives matter\twear a mask\tgis\n",
      "friend\tchild of god, mother\thmu\n",
      "cooking\t16, he, him, drawing\tfather of 4\n",
      "polyamorous\the, him, 26\thorse racing\n",
      "pisces\tsu\tbjp\n",
      "lakeshow\tkingjames, fan\tlove to laugh\n",
      "entrepreneur\tman utd fan, analyst\tav\n",
      "author\tspeaker\top\n",
      "nojusticenopeace\tblm\tbr\n",
      "she\talt\tftm\n"
     ]
    }
   ],
   "source": [
    "!head data/twitter-train-500.csv"
   ]
  },
  {
   "cell_type": "code",
   "execution_count": 95,
   "id": "72d8c754",
   "metadata": {},
   "outputs": [
    {
     "name": "stderr",
     "output_type": "stream",
     "text": [
      "2478555it [00:26, 93356.73it/s] \n"
     ]
    }
   ],
   "source": [
    "import csv\n",
    "from sentence_transformers import SentenceTransformer, InputExample, losses, util\n",
    "from torch.utils.data import DataLoader\n",
    "\n",
    "dataset = 'twitter'\n",
    "freq=500\n",
    "\n",
    "with open(f'data/{dataset}-train-{freq}.csv', newline='') as f:\n",
    "    train_examples = []\n",
    "    reader = csv.reader(f, delimiter='\\t', quoting=csv.QUOTE_NONE)\n",
    "    for row in tqdm(reader):\n",
    "        train_examples.append(InputExample(texts=[row[0], row[1]], label=1.0))\n",
    "        train_examples.append(InputExample(texts=[row[0], row[2]], label=0.0))\n",
    "    "
   ]
  },
  {
   "cell_type": "markdown",
   "id": "23ca3a11",
   "metadata": {},
   "source": [
    "### loading evaluation dataset"
   ]
  },
  {
   "cell_type": "code",
   "execution_count": 96,
   "id": "3f1ae891",
   "metadata": {},
   "outputs": [
    {
     "name": "stderr",
     "output_type": "stream",
     "text": [
      "275396it [00:00, 655264.23it/s]\n"
     ]
    }
   ],
   "source": [
    "\n",
    "from sentence_transformers import evaluation\n",
    "\n",
    "with open(f'data/{dataset}-valid-{freq}.csv', newline='') as f:\n",
    "    sent1s = []\n",
    "    sent2s = []\n",
    "    scores = []\n",
    "    i = 0\n",
    "    reader = csv.reader(f, delimiter='\\t', quoting=csv.QUOTE_NONE)\n",
    "    for row in tqdm(reader):\n",
    "        sent1s.append(row[0])\n",
    "        sent1s.append(row[0])\n",
    "        sent2s.append(row[1])\n",
    "        sent2s.append(row[2])\n",
    "        scores.append(1.0)\n",
    "        scores.append(0.0)\n",
    "        i += 1\n",
    "evaluator = evaluation.EmbeddingSimilarityEvaluator(sent1s, sent2s, scores)\n"
   ]
  },
  {
   "cell_type": "markdown",
   "id": "d645e1e0",
   "metadata": {},
   "source": [
    "### creating data loaders"
   ]
  },
  {
   "cell_type": "code",
   "execution_count": 97,
   "id": "253e199f",
   "metadata": {},
   "outputs": [
    {
     "name": "stderr",
     "output_type": "stream",
     "text": [
      "/projects/academic/kjoseph/navid/anaconda3/envs/py38/lib/python3.8/site-packages/huggingface_hub/file_download.py:588: FutureWarning: `cached_download` is the legacy way to download files from the HF hub, please consider upgrading to `hf_hub_download`\n",
      "  warnings.warn(\n"
     ]
    },
    {
     "data": {
      "text/plain": [
       "SentenceTransformer(\n",
       "  (0): Transformer({'max_seq_length': 384, 'do_lower_case': False}) with Transformer model: MPNetModel \n",
       "  (1): Pooling({'word_embedding_dimension': 768, 'pooling_mode_cls_token': False, 'pooling_mode_mean_tokens': True, 'pooling_mode_max_tokens': False, 'pooling_mode_mean_sqrt_len_tokens': False})\n",
       "  (2): Normalize()\n",
       ")"
      ]
     },
     "execution_count": 97,
     "metadata": {},
     "output_type": "execute_result"
    }
   ],
   "source": [
    "from sentence_transformers import SentenceTransformer, models\n",
    "from torch import nn\n",
    "\n",
    "# model_name = 'all-distilroberta-v1'\n",
    "model_name = 'all-mpnet-base-v2'\n",
    "model = SentenceTransformer(model_name)\n",
    "# dense_model = models.Dense(in_features=model.get_sentence_embedding_dimension(), out_features=256, activation_function=nn.Tanh())\n",
    "# model.add_module('3', dense_model)\n",
    "\n",
    "train_dataloader = DataLoader(train_examples, shuffle=True, batch_size=256)\n",
    "train_loss = losses.CosineSimilarityLoss(model)\n",
    "\n",
    "model"
   ]
  },
  {
   "cell_type": "markdown",
   "id": "2b6804d7",
   "metadata": {},
   "source": [
    "### training"
   ]
  },
  {
   "cell_type": "code",
   "execution_count": null,
   "id": "c30365eb",
   "metadata": {},
   "outputs": [
    {
     "name": "stderr",
     "output_type": "stream",
     "text": [
      "/projects/academic/kjoseph/navid/anaconda3/envs/py38/lib/python3.8/site-packages/transformers/optimization.py:306: FutureWarning: This implementation of AdamW is deprecated and will be removed in a future version. Use the PyTorch implementation torch.optim.AdamW instead, or set `no_deprecation_warning=True` to disable this warning\n",
      "  warnings.warn(\n"
     ]
    },
    {
     "data": {
      "application/vnd.jupyter.widget-view+json": {
       "model_id": "f4744d52b2bd44c296a8b36361b315b6",
       "version_major": 2,
       "version_minor": 0
      },
      "text/plain": [
       "Epoch:   0%|          | 0/5 [00:00<?, ?it/s]"
      ]
     },
     "metadata": {},
     "output_type": "display_data"
    },
    {
     "data": {
      "application/vnd.jupyter.widget-view+json": {
       "model_id": "720a6762c0e24dd299eb4ec096fed4ca",
       "version_major": 2,
       "version_minor": 0
      },
      "text/plain": [
       "Iteration:   0%|          | 0/19364 [00:00<?, ?it/s]"
      ]
     },
     "metadata": {},
     "output_type": "display_data"
    },
    {
     "data": {
      "application/vnd.jupyter.widget-view+json": {
       "model_id": "03c68fe928974fb193dba4970e6fcc99",
       "version_major": 2,
       "version_minor": 0
      },
      "text/plain": [
       "Iteration:   0%|          | 0/19364 [00:00<?, ?it/s]"
      ]
     },
     "metadata": {},
     "output_type": "display_data"
    },
    {
     "name": "stderr",
     "output_type": "stream",
     "text": [
      "IOPub message rate exceeded.\n",
      "The notebook server will temporarily stop sending output\n",
      "to the client in order to avoid crashing it.\n",
      "To change this limit, set the config variable\n",
      "`--NotebookApp.iopub_msg_rate_limit`.\n",
      "\n",
      "Current values:\n",
      "NotebookApp.iopub_msg_rate_limit=1000.0 (msgs/sec)\n",
      "NotebookApp.rate_limit_window=3.0 (secs)\n",
      "\n",
      "IOPub message rate exceeded.\n",
      "The notebook server will temporarily stop sending output\n",
      "to the client in order to avoid crashing it.\n",
      "To change this limit, set the config variable\n",
      "`--NotebookApp.iopub_msg_rate_limit`.\n",
      "\n",
      "Current values:\n",
      "NotebookApp.iopub_msg_rate_limit=1000.0 (msgs/sec)\n",
      "NotebookApp.rate_limit_window=3.0 (secs)\n",
      "\n"
     ]
    }
   ],
   "source": [
    "output_model_path = f'models/mpnet-{dataset}-freq{freq}'\n",
    "\n",
    "model.fit(train_objectives=[(train_dataloader, train_loss)],\n",
    "          evaluator=evaluator,\n",
    "          epochs=5,\n",
    "          evaluation_steps=6000,\n",
    "          warmup_steps=6000,\n",
    "          checkpoint_save_steps=35000,\n",
    "          output_path=output_model_path)"
   ]
  },
  {
   "cell_type": "markdown",
   "id": "baf551e7",
   "metadata": {},
   "source": [
    "### valiation results - best model\n"
   ]
  },
  {
   "cell_type": "code",
   "execution_count": 18,
   "id": "9c382185",
   "metadata": {},
   "outputs": [
    {
     "data": {
      "image/png": "[encoded data removed]",
      "text/plain": [
       "<Figure size 432x288 with 1 Axes>"
      ]
     },
     "metadata": {
      "needs_background": "light"
     },
     "output_type": "display_data"
    }
   ],
   "source": [
    "import seaborn as sns\n",
    "import pandas as pd\n",
    "import matplotlib.pyplot as plt\n",
    "\n",
    "twitter_valid = pd.read_csv(f'models/mpnet-twitter-freq100/eval/similarity_evaluation_results.csv')\n",
    "# wiki_valid = pd.read_csv(f'models/distilroberta-{dataset}-freq{freq}/eval/similarity_evaluation_results.csv')\n",
    "\n",
    "sns.lineplot(x=range(len(twitter_valid)), y=twitter_valid['cosine_pearson'])\n",
    "plt.show()\n",
    "# sns.lineplot(x=range(len(wiki_valid)), y=wiki_valid['cosine_pearson'])\n",
    "# plt.show()"
   ]
  },
  {
   "cell_type": "code",
   "execution_count": 19,
   "id": "5b3fe160",
   "metadata": {},
   "outputs": [
    {
     "data": {
      "image/png": "[encoded data removed]",
      "text/plain": [
       "<Figure size 432x288 with 1 Axes>"
      ]
     },
     "metadata": {
      "needs_background": "light"
     },
     "output_type": "display_data"
    }
   ],
   "source": [
    "import seaborn as sns\n",
    "import pandas as pd\n",
    "import matplotlib.pyplot as plt\n",
    "\n",
    "twitter_valid = pd.read_csv(f'models/mpnet-wiki-freq3/eval/similarity_evaluation_results.csv')\n",
    "# wiki_valid = pd.read_csv(f'models/distilroberta-{dataset}-freq{freq}/eval/similarity_evaluation_results.csv')\n",
    "\n",
    "sns.lineplot(x=range(len(twitter_valid)), y=twitter_valid['cosine_pearson'])\n",
    "plt.show()\n",
    "# sns.lineplot(x=range(len(wiki_valid)), y=wiki_valid['cosine_pearson'])\n",
    "# plt.show()"
   ]
  },
  {
   "cell_type": "markdown",
   "id": "67356ab1",
   "metadata": {},
   "source": [
    "## evaluation"
   ]
  },
  {
   "cell_type": "markdown",
   "id": "6f996d9b",
   "metadata": {},
   "source": [
    "### loading saved model"
   ]
  },
  {
   "cell_type": "code",
   "execution_count": null,
   "id": "99293b13",
   "metadata": {},
   "outputs": [],
   "source": [
    "%env CUDA_VISIBLE_DEVICES=1"
   ]
  },
  {
   "cell_type": "code",
   "execution_count": null,
   "id": "82ba41ae",
   "metadata": {},
   "outputs": [],
   "source": [
    "from sentence_transformers import SentenceTransformer, models\n",
    "\n",
    "model = SentenceTransformer('./models/miniLM-L6-finetuned-wiki/')\n",
    "\n",
    "model"
   ]
  },
  {
   "cell_type": "markdown",
   "id": "2ee894bf",
   "metadata": {},
   "source": [
    "### calculating encodings for all phrases"
   ]
  },
  {
   "cell_type": "code",
   "execution_count": null,
   "id": "ad34c86c",
   "metadata": {},
   "outputs": [],
   "source": [
    "pis = set()\n",
    "\n",
    "for bio in cleaned_bios:\n",
    "    pis.update(bio)\n",
    "\n",
    "pis = list(pis)\n",
    "print(len(pis))\n",
    "\n",
    "embeddings = model.encode(pis, convert_to_tensor=True)\n",
    "        "
   ]
  },
  {
   "cell_type": "code",
   "execution_count": null,
   "id": "237ba151",
   "metadata": {
    "scrolled": true
   },
   "outputs": [],
   "source": [
    "def most_similar(pi, all_pis, all_pi_embs, model, k=11):\n",
    "    cur_emb = model.encode(pi, convert_to_tensor=True)\n",
    "    cosine_scores = util.cos_sim(cur_emb, all_pi_embs).detach().cpu().numpy()[0]\n",
    "    most_similars = np.argsort(cosine_scores)[-k:]\n",
    "    return [(all_pis[i], cosine_scores[i]) for i in most_similars if pi!=all_pis[i]]\n",
    "\n",
    "most_similar('mima', pis, embeddings, model, k=50)"
   ]
  },
  {
   "cell_type": "code",
   "execution_count": null,
   "id": "94edeb53",
   "metadata": {},
   "outputs": [],
   "source": [
    "def get_similarity(w1, w2, model=model):\n",
    "    emb1 = model.encode(w1, convert_to_tensor=True)\n",
    "    emb2 = model.encode(w2, convert_to_tensor=True)\n",
    "    return util.cos_sim(emb1, emb2)\n",
    "\n",
    "print(\n",
    "    get_similarity('isfj', 'man'),\n",
    "    get_similarity('isfj', 'woman'),\n",
    "    get_similarity('isfj', 'man', model=model),\n",
    "    get_similarity('isfj', 'woman', model=model),\n",
    ")\n",
    "\n",
    "print(\n",
    "    get_similarity('intj', 'man'),\n",
    "    get_similarity('intj', 'woman'),\n",
    "    get_similarity('intj', 'man', model=model),\n",
    "    get_similarity('intj', 'woman', model=model),\n",
    ")\n",
    "\n",
    "print(\n",
    "    get_similarity('entj', 'man'),\n",
    "    get_similarity('entj', 'woman'),\n",
    "    get_similarity('entj', 'man', model=model),\n",
    "    get_similarity('entj', 'woman', model=model),\n",
    ")\n"
   ]
  },
  {
   "cell_type": "code",
   "execution_count": null,
   "id": "8a1f8c21",
   "metadata": {},
   "outputs": [],
   "source": [
    "mom_emb = base_model.encode('intp', convert_to_tensor=True)\n",
    "dad_emb = base_model.encode('esfj', convert_to_tensor=True)\n",
    "util.cos_sim(mom_emb, dad_emb)"
   ]
  },
  {
   "cell_type": "markdown",
   "id": "2821f8ae",
   "metadata": {},
   "source": [
    "### loading not tuned model and doing the same thing"
   ]
  },
  {
   "cell_type": "code",
   "execution_count": null,
   "id": "7ffd31d8",
   "metadata": {},
   "outputs": [],
   "source": [
    "from sentence_transformers import SentenceTransformer, models\n",
    "\n",
    "base_model = SentenceTransformer('all-MiniLM-L6-v2')\n",
    "base_embs = base_model.encode(pis, convert_to_tensor=True)\n",
    "base_cosine_scores = util.cos_sim(base_embs, base_embs).detach().cpu().numpy()"
   ]
  },
  {
   "cell_type": "code",
   "execution_count": null,
   "id": "84054f5b",
   "metadata": {},
   "outputs": [],
   "source": [
    "import seaborn as sns\n",
    "import pandas as pd\n",
    "import matplotlib.pyplot as plt\n",
    "\n",
    "target_word = 'build the wall'\n",
    "df1 = pd.DataFrame(most_similar(target_word, pis, embeddings, model), columns=['identifier', 'similarity'])\n",
    "df1['model'] = 'fine-tuned-sentence-bert'\n",
    "df2 = pd.DataFrame(most_similar(target_word, pis, base_embs, base_model), columns=['identifier', 'similarity'])\n",
    "df2['model'] = 'original-sentence-bert'\n",
    "\n",
    "\n",
    "fig, (ax1, ax2) = plt.subplots(nrows=1, ncols=2, figsize=(15,6))\n",
    "\n",
    "ax1.scatter(x=df1['identifier'], y=df1['similarity'])\n",
    "ax1.tick_params(axis='x', rotation=-60)\n",
    "ax1.set_xlabel('phrase')\n",
    "ax1.set_ylabel('similarity')\n",
    "ax1.set_title('fine-tuned-sentence-bert')\n",
    "\n",
    "\n",
    "ax2.scatter(x=df2['identifier'], y=df2['similarity'])\n",
    "ax2.tick_params(axis='x', rotation=-60)\n",
    "ax2.set_xlabel('phrase')\n",
    "ax2.set_ylabel('similarity')\n",
    "ax2.set_title('original-sentence-bert')\n",
    "\n",
    "plt.show()"
   ]
  },
  {
   "cell_type": "markdown",
   "id": "2ad9278e",
   "metadata": {},
   "source": [
    "### analyzing personalities"
   ]
  },
  {
   "cell_type": "code",
   "execution_count": null,
   "id": "22507a62",
   "metadata": {},
   "outputs": [],
   "source": [
    "for personality in ['ESTJ', 'ENTJ', 'ESFJ', 'ENFJ', 'ISTJ', 'ISFJ', 'INTJ', 'INFJ', 'ESTP', 'ESFP', 'ENTP', 'ENFP', 'ISTP', 'ISFP', 'INTP', 'INFP']:\n",
    "    if personality in pis or personality.lower() in pis:\n",
    "        print(f\"{personality}: True\")\n",
    "    else:\n",
    "        print(f\"{personality}: False\")"
   ]
  },
  {
   "cell_type": "code",
   "execution_count": null,
   "id": "2c1b63b6",
   "metadata": {},
   "outputs": [],
   "source": [
    "personalities = ['ESTJ', 'ENTJ', 'ESFJ', 'ENFJ', 'ISTJ', 'ISFJ', 'INTJ', 'INFJ', 'ESTP', 'ESFP', 'ENTP', 'ENFP', 'ISTP', 'ISFP', 'INTP', 'INFP']\n",
    "personalities = [p.lower() for p in personalities]\n",
    "\n",
    "pers_emb = model.encode(personalities, convert_to_tensor=True)\n",
    "pers_emb_base = base_model.encode(personalities, convert_to_tensor=True)\n",
    "\n",
    "base_cosine_scores = util.cos_sim(pers_emb_base, pers_emb_base).detach().cpu().numpy()\n",
    "cosine_scores = util.cos_sim(pers_emb, pers_emb).detach().cpu().numpy()"
   ]
  },
  {
   "cell_type": "code",
   "execution_count": null,
   "id": "406d3001",
   "metadata": {},
   "outputs": [],
   "source": [
    "plt.figure(figsize=(10,10))\n",
    "ax = sns.heatmap(cosine_scores)\n",
    "ax.set_xticklabels(personalities, rotation=90)\n",
    "ax.set_yticklabels(personalities, rotation=0)\n",
    "\n",
    "# plt.xticks(ticks=personalities)\n",
    "# plt.yticks(ticks=personalities)"
   ]
  },
  {
   "cell_type": "code",
   "execution_count": null,
   "id": "db1ab792",
   "metadata": {},
   "outputs": [],
   "source": [
    "plt.figure(figsize=(10,10))\n",
    "\n",
    "ax = sns.heatmap(base_cosine_scores)\n",
    "ax.set_xticklabels(personalities, rotation=90)\n",
    "ax.set_yticklabels(personalities, rotation=0)"
   ]
  },
  {
   "cell_type": "markdown",
   "id": "7c00590e",
   "metadata": {},
   "source": [
    "### comparing in gensim vocab"
   ]
  },
  {
   "cell_type": "code",
   "execution_count": null,
   "id": "f40dfb8f",
   "metadata": {},
   "outputs": [],
   "source": [
    "import gensim.downloader as api\n",
    "\n",
    "w2v = api.load(\"glove-wiki-gigaword-50\")\n",
    "w2v.most_similar(\"glass\")"
   ]
  },
  {
   "cell_type": "code",
   "execution_count": null,
   "id": "636e7a2b",
   "metadata": {},
   "outputs": [],
   "source": [
    "vocab = list(w2v.key_to_index.keys())\n",
    "\n",
    "vocab_embs = model.encode(vocab, convert_to_tensor=True)\n"
   ]
  },
  {
   "cell_type": "code",
   "execution_count": null,
   "id": "036f73ec",
   "metadata": {},
   "outputs": [],
   "source": [
    "most_similar('vaccine', vocab, vocab_embs, model, k=10)"
   ]
  },
  {
   "cell_type": "code",
   "execution_count": null,
   "id": "8b650b74",
   "metadata": {},
   "outputs": [],
   "source": [
    "most_similar('blm', vocab, vocab_embs, model, k=50)"
   ]
  },
  {
   "cell_type": "markdown",
   "id": "e679f9e7",
   "metadata": {},
   "source": [
    "# Word2vec embedding"
   ]
  },
  {
   "cell_type": "code",
   "execution_count": null,
   "id": "d9bee5cd",
   "metadata": {},
   "outputs": [],
   "source": [
    "from gensim.models import Word2Vec\n",
    "from gensim.models.callbacks import CallbackAny2Vec\n",
    "\n",
    "import pickle\n",
    "\n",
    "dataset = 'twitter'\n",
    "freq = 100\n",
    "\n",
    "with open(f'./data/{dataset}_cleaned_train_bios_{freq}.pkl', 'rb') as f:\n",
    "    bios = pickle.load(f)\n",
    "    \n",
    "print(len(bios))"
   ]
  },
  {
   "cell_type": "code",
   "execution_count": null,
   "id": "570e5c4c",
   "metadata": {},
   "outputs": [],
   "source": [
    "from gensim.models import Word2Vec\n",
    "from gensim.models.callbacks import CallbackAny2Vec\n",
    "\n",
    "import pickle\n",
    "dataset = 'twitter'\n",
    "freq = 100\n",
    "\n",
    "with open(f'./data/{dataset}_train_bios.pkl', 'rb') as f:\n",
    "    bios = pickle.load(f)\n",
    "    \n",
    "print(len(bios))"
   ]
  },
  {
   "cell_type": "markdown",
   "id": "adf61bbd",
   "metadata": {},
   "source": [
    "## number of distinct pis in test and train"
   ]
  },
  {
   "cell_type": "code",
   "execution_count": null,
   "id": "0ba43941",
   "metadata": {},
   "outputs": [],
   "source": [
    "with open(f'./data/{dataset}_test_bios.pkl', 'rb') as f:\n",
    "    tbios = pickle.load(f)\n",
    "    \n",
    "print(len(tbios))\n",
    "\n",
    "tpis = {}\n",
    "\n",
    "for tb in tbios:\n",
    "    for tpi in tb:\n",
    "        if tpi not in tpis:\n",
    "            tpis[tpi] = len(tpis)\n",
    "\n",
    "print(len(tpis))\n",
    "\n",
    "pis = {}\n",
    "\n",
    "for b in bios:\n",
    "    for pi in b:\n",
    "        if pi not in pis:\n",
    "            pis[pi] = len(pis)\n",
    "print(len(pis))"
   ]
  },
  {
   "cell_type": "code",
   "execution_count": null,
   "id": "4e9cfb73",
   "metadata": {},
   "outputs": [],
   "source": [
    "cnt = 0\n",
    "for pi in tpis:\n",
    "    if pi not in pis:\n",
    "        cnt += 1\n",
    "        \n",
    "print(f\"{cnt}/{len(tpis)} pis in test are not seen ever\")"
   ]
  },
  {
   "cell_type": "code",
   "execution_count": null,
   "id": "e71a315d",
   "metadata": {},
   "outputs": [],
   "source": [
    "def count_bios_with_pi(pi):\n",
    "    cnt = 0\n",
    "    for b in bios:\n",
    "        if pi in b:\n",
    "            print(b)\n",
    "            cnt += 1 \n",
    "    return cnt\n",
    "\n",
    "count_bios_with_pi('ryan fournier')"
   ]
  },
  {
   "cell_type": "code",
   "execution_count": null,
   "id": "235e5a60",
   "metadata": {},
   "outputs": [],
   "source": [
    "bios[:3]"
   ]
  },
  {
   "cell_type": "code",
   "execution_count": null,
   "id": "1f51047e",
   "metadata": {
    "scrolled": true
   },
   "outputs": [],
   "source": [
    "\n",
    "print(len(bios))\n",
    "\n",
    "class Callback(CallbackAny2Vec):\n",
    "    '''Callback to print loss after each epoch.'''\n",
    "\n",
    "    def __init__(self):\n",
    "        self.epoch = 0\n",
    "        self.loss_to_be_subed = 0\n",
    "\n",
    "    def on_epoch_end(self, model):\n",
    "        loss = model.get_latest_training_loss()\n",
    "        loss_now = loss - self.loss_to_be_subed\n",
    "        self.loss_to_be_subed = loss\n",
    "        print('Loss after epoch {}: {}'.format(self.epoch, loss_now))\n",
    "        self.epoch += 1\n",
    "\n",
    "monitor = Callback()\n",
    "\n",
    "# w2v_negsampling_model = Word2Vec(bios, vector_size=768, window=8, min_count=1,\n",
    "#                  negative=8, workers=30, sg=1, epochs=300, callbacks=[monitor],\n",
    "#                  compute_loss=True)\n",
    "\n",
    "w2v_cbow_model = Word2Vec(bios, vector_size=256, window=8, min_count=1,\n",
    "                 negative=8, workers=30, sg=0,  cbow_mean=1, epochs=300, callbacks=[monitor],\n",
    "                 compute_loss=True)\n",
    "\n",
    "# model_path = f'./models/w2v_negsampling_{dataset}_{freq}.model'\n",
    "# w2v_negsampling_model.save(model_path)\n",
    "\n",
    "model_path = f'./models/w2v_cbow_{dataset}_{freq}.model'\n",
    "w2v_cbow_model.save(model_path)"
   ]
  },
  {
   "cell_type": "code",
   "execution_count": null,
   "id": "ccc4c356",
   "metadata": {},
   "outputs": [],
   "source": [
    "model_path = f'./models/w2v_negsampling_{dataset}_{freq}.model'\n",
    "w2v_model = Word2Vec.load(model_path)"
   ]
  },
  {
   "cell_type": "code",
   "execution_count": null,
   "id": "65904ea8",
   "metadata": {},
   "outputs": [],
   "source": [
    "w2v_model.wv.most_similar('democrat', topn=15)"
   ]
  },
  {
   "cell_type": "markdown",
   "id": "73a84e0e",
   "metadata": {},
   "source": [
    "# hold-one-out prediction of PIs"
   ]
  },
  {
   "cell_type": "markdown",
   "id": "733b75ad",
   "metadata": {},
   "source": [
    "## load w2v model for vocabulary\n"
   ]
  },
  {
   "cell_type": "code",
   "execution_count": 1,
   "id": "324b001f",
   "metadata": {},
   "outputs": [
    {
     "name": "stdout",
     "output_type": "stream",
     "text": [
      "CPU times: user 914 ms, sys: 2.26 s, total: 3.17 s\n",
      "Wall time: 3.09 s\n"
     ]
    }
   ],
   "source": [
    "%%time\n",
    "\n",
    "from gensim.models import Word2Vec\n",
    "\n",
    "model_path = f'./models/w2v_negsampling_twitter_100.model'\n",
    "w2v_twitter_negsamp_model = Word2Vec.load(model_path)\n",
    "\n",
    "# model_path = f'./models/w2v_cbow_twitter.model'\n",
    "# w2v_twitter_cbow_model = Word2Vec.load(model_path)\n",
    "\n",
    "# model_path = f'./models/w2v_negsampling_wiki.model'\n",
    "# w2v_wiki_negsamp_model = Word2Vec.load(model_path)\n",
    "\n",
    "model_path = f'./models/w2v_cbow_wiki_3.model'\n",
    "w2v_wiki_cbow_model = Word2Vec.load(model_path)"
   ]
  },
  {
   "cell_type": "markdown",
   "id": "43527519",
   "metadata": {},
   "source": [
    "## load and filter data"
   ]
  },
  {
   "cell_type": "code",
   "execution_count": 4,
   "id": "c3034ef2",
   "metadata": {},
   "outputs": [
    {
     "name": "stdout",
     "output_type": "stream",
     "text": [
      "CPU times: user 25 µs, sys: 0 ns, total: 25 µs\n",
      "Wall time: 29.6 µs\n"
     ]
    }
   ],
   "source": [
    "%%time\n",
    "\n",
    "from tqdm import tqdm_notebook as tqdm\n",
    "from collections import Counter\n",
    "import pickle\n",
    "from collections import OrderedDict\n",
    "import numpy as np\n",
    "\n",
    "\n",
    "def load_bios(dataset='twitter', mode='test'):\n",
    "    with open(f'data/{dataset}_{mode}_bios.pkl', 'rb') as f:\n",
    "        bios = pickle.load(f)\n",
    "    \n",
    "    #filter only bios with more than 1 PI\n",
    "    morethan2pi = [x for x in bios if len(x)>1]\n",
    "    return morethan2pi\n",
    "\n",
    "def build_vocab_list(bios):\n",
    "    all_pis = set()\n",
    "    for bio in bios:\n",
    "        all_pis.update(bio)\n",
    "\n",
    "    return list(all_pis)\n",
    "\n",
    "def filter_bios_with_vocab_restriction(bios, vocab):\n",
    "    if vocab is None:\n",
    "        return bios\n",
    "    \n",
    "    filtered_bios = []\n",
    "    for bio in bios:\n",
    "        cur_bio = []\n",
    "        for pi in bio:\n",
    "            if pi in vocab:\n",
    "                cur_bio.append(pi)\n",
    "        if len(cur_bio) > 1:\n",
    "            filtered_bios.append(cur_bio)\n",
    "    return filtered_bios\n",
    "\n",
    "def build_contextual_dataset(bios):\n",
    "    test_ds = []\n",
    "    test_ds_rand = []\n",
    "    \n",
    "    for bio in bios:\n",
    "        hold_out_idx = np.random.randint(0, len(bio))\n",
    "        remaining = [x for i, x in enumerate(bio) if i != hold_out_idx]\n",
    "        random_remaining = list(np.random.choice(remaining, 1))[0]\n",
    "        \n",
    "        remaining = ', '.join(remaining)\n",
    "        target = bio[hold_out_idx]\n",
    "\n",
    "        test_ds.append((remaining, target))\n",
    "        test_ds_rand.append((random_remaining, target))\n",
    "\n",
    "    return test_ds, test_ds_rand\n",
    "\n",
    "\n",
    "def build_w2v_dataset(bios):\n",
    "    w2v_test_ds = []\n",
    "    w2v_test_random_ds = []\n",
    "\n",
    "    for bio in bios:\n",
    "        hold_out_idx = np.random.randint(0, len(bio))\n",
    "        remaining = [x for i, x in enumerate(bio) if i != hold_out_idx]\n",
    "        random_remaining = list(np.random.choice(remaining, 1))\n",
    "        target = bio[hold_out_idx]\n",
    "\n",
    "        w2v_test_ds.append((remaining, target))\n",
    "        w2v_test_random_ds.append((random_remaining, target))\n",
    "    \n",
    "    return w2v_test_ds, w2v_test_random_ds\n",
    "\n",
    "\n",
    "def filter_with_freq(bios, freq=500):\n",
    "    cntr = Counter()\n",
    "    for bio in bios:\n",
    "        cntr.update(bio)\n",
    "        \n",
    "    filtered_bios = []\n",
    "    for bio in bios:\n",
    "        cur = []\n",
    "        for pi in bio:\n",
    "            if cntr[pi] >= freq:\n",
    "                cur.append(pi)\n",
    "        if len(cur) > 1:\n",
    "            filtered_bios.append(cur)\n",
    "    return filtered_bios\n",
    "            \n",
    "\n",
    "def create_test_dataset(dataset='twitter', restrict_vocab_to_training=None, w2v=False, filter_th=None):\n",
    "    print(f\"creating dataset for {dataset}:\")\n",
    "    \n",
    "    test_bios = load_bios(dataset)\n",
    "    print(f\"total test bios: {len(test_bios)}\")\n",
    "    \n",
    "    test_bios = filter_bios_with_vocab_restriction(test_bios, restrict_vocab_to_training)\n",
    "    print(f\"total test bios after restriction: {len(test_bios)}\")\n",
    "    \n",
    "    if filter_th is not None:\n",
    "        test_bios = filter_with_freq(test_bios, freq=filter_th)\n",
    "        print(f\"total test bios after freq filter: {len(test_bios)}\")\n",
    "    \n",
    "    test_pis = build_vocab_list(test_bios)\n",
    "    print(f\"total PIs: {len(test_pis)}\")\n",
    "    \n",
    "    pi_dict = OrderedDict()\n",
    "    for p in test_pis:\n",
    "        pi_dict[p] = len(pi_dict)\n",
    "    \n",
    "    if w2v:\n",
    "        test_ds, test_ds_rand = build_w2v_dataset(test_bios)\n",
    "        return test_ds, test_ds_rand, pi_dict\n",
    "    else:\n",
    "        test_ds, test_ds_rand = build_contextual_dataset(test_bios)\n",
    "        return test_ds, test_ds_rand, pi_dict\n",
    "        \n",
    "    \n",
    "def build_restricted_target_dataset(bios, vocab, generalization):\n",
    "    test_ds = []\n",
    "    \n",
    "    for bio in bios:\n",
    "        for idx, pi in enumerate(bio):\n",
    "            if pi in vocab:\n",
    "                remaining = [x for x in bio if x != pi]\n",
    "                \n",
    "                # we want the remainig not to be available in vocab to test generalization\n",
    "                if generalization:\n",
    "                    gen = True\n",
    "                    for rem in remaining:\n",
    "                        if rem in vocab:\n",
    "                            gen = False\n",
    "                    \n",
    "                    if not gen:\n",
    "                        continue\n",
    "                \n",
    "                remaining_ctxt = ', '.join(remaining)\n",
    "                if len(remaining) == 0:\n",
    "                    continue\n",
    "                test_ds.append((remaining, remaining_ctxt, pi))\n",
    "            \n",
    "    return test_ds\n",
    "\n",
    "\n",
    "def create_restricted_target_test_dataset(dataset, vocab, generalization=False):\n",
    "    print(f\"creating dataset for {dataset}:\")\n",
    "    \n",
    "    test_bios = load_bios(dataset)\n",
    "    print(f\"total test bios: {len(test_bios)}\")\n",
    "    \n",
    "    filtered_test_bios = []\n",
    "    for bio in test_bios:\n",
    "        for pi in bio:\n",
    "            if pi in vocab:\n",
    "                filtered_test_bios.append(bio)\n",
    "                break\n",
    "                \n",
    "    print(f\"total test bios after restriction: {len(filtered_test_bios)}\")\n",
    "    \n",
    "    test_ds = build_restricted_target_dataset(filtered_test_bios, vocab, generalization)\n",
    "    print(f\"total test dataset entires: \", len(test_ds))\n",
    "    print(f\"vocab size:\", len(vocab))\n",
    "    return test_ds, vocab\n",
    "    \n",
    "    \n",
    "    "
   ]
  },
  {
   "cell_type": "code",
   "execution_count": 23,
   "id": "72f86e69",
   "metadata": {},
   "outputs": [
    {
     "data": {
      "text/plain": [
       "{'she': 0,\n",
       " 'her': 1,\n",
       " 'he': 2,\n",
       " 'him': 3,\n",
       " 'they': 4,\n",
       " 'writer': 5,\n",
       " 'blm': 6,\n",
       " 'fan account': 7,\n",
       " 'husband': 8,\n",
       " 'blacklivesmatter': 9,\n",
       " 'maga': 10,\n",
       " 'artist': 11,\n",
       " 'music': 12,\n",
       " '18': 13,\n",
       " 'them': 14,\n",
       " 'father': 15,\n",
       " 'wife': 16,\n",
       " 'ig': 17,\n",
       " 'bts': 18,\n",
       " '20': 19,\n",
       " 'bts_twt': 20,\n",
       " '21': 21,\n",
       " 'gamer': 22,\n",
       " '19': 23,\n",
       " 'love': 24,\n",
       " '22': 25,\n",
       " 'mom': 26,\n",
       " '23': 27,\n",
       " 'mother': 28,\n",
       " 'family': 29,\n",
       " 'entrepreneur': 30,\n",
       " 'christian': 31,\n",
       " 'instagram': 32,\n",
       " 'politics': 33,\n",
       " 'art': 34,\n",
       " 'photographer': 35,\n",
       " 'army': 36,\n",
       " 'anime': 37,\n",
       " 'ela': 38,\n",
       " 'wwg1wga': 39,\n",
       " 'resist': 40,\n",
       " 'nsfw': 41,\n",
       " 'bi': 42,\n",
       " 'dad': 43,\n",
       " '24': 44,\n",
       " 'patriot': 45,\n",
       " 'fan': 46,\n",
       " 'kag': 47,\n",
       " 'trump2020': 48,\n",
       " 'god': 49,\n",
       " 'author': 50,\n",
       " 'nct': 51,\n",
       " 'acab': 52,\n",
       " '17': 53,\n",
       " 'teacher': 54,\n",
       " 'dela': 55,\n",
       " 'eng': 56,\n",
       " 'founder': 57,\n",
       " 'musician': 58,\n",
       " 'conservative': 59,\n",
       " 'black lives matter': 60,\n",
       " 'sports': 61,\n",
       " 'producer': 62,\n",
       " '25': 63,\n",
       " 'more': 64,\n",
       " 'singer': 65,\n",
       " 'hi': 66,\n",
       " 'exo': 67,\n",
       " '16': 68,\n",
       " 'travel': 69,\n",
       " 'actor': 70,\n",
       " 'student': 71,\n",
       " 'books': 72,\n",
       " 'food': 73,\n",
       " 'football': 74,\n",
       " 'insta': 75,\n",
       " 'movies': 76,\n",
       " 'etc': 77,\n",
       " 'feminist': 78,\n",
       " 'ot7': 79,\n",
       " 'blogger': 80,\n",
       " 'editor': 81,\n",
       " 'got7': 82,\n",
       " 'engineer': 83,\n",
       " 'blackpink': 84,\n",
       " 'youtuber': 85,\n",
       " '2a': 86,\n",
       " 'photography': 87,\n",
       " 'youtube': 88,\n",
       " 'poet': 89,\n",
       " 'ceo': 90,\n",
       " '15': 91,\n",
       " '26': 92,\n",
       " 'twitch': 93,\n",
       " 'foodie': 94,\n",
       " 'educator': 95,\n",
       " 'follow': 96,\n",
       " 'minor': 97,\n",
       " 'video games': 98,\n",
       " 'friend': 99,\n",
       " 'content creator': 100,\n",
       " 'his': 101,\n",
       " 'music lover': 102,\n",
       " 'animal lover': 103,\n",
       " 'gay': 104,\n",
       " 'songwriter': 105,\n",
       " 'science': 106,\n",
       " 'hers': 107,\n",
       " 'fan acc': 108,\n",
       " 'director': 109,\n",
       " 'lover': 110,\n",
       " 'history': 111,\n",
       " 'follow me': 112,\n",
       " 'live': 113,\n",
       " 'pfp by': 114,\n",
       " 'multifandom': 115,\n",
       " 'friends': 116,\n",
       " 'reader': 117,\n",
       " 'peace': 118,\n",
       " 'streamer': 119,\n",
       " 'nature': 120,\n",
       " 'arsenal': 121,\n",
       " 'treasure': 122,\n",
       " 'designer': 123,\n",
       " 'cats': 124,\n",
       " 'married': 125,\n",
       " 'tech': 126,\n",
       " 'life': 127,\n",
       " 'wayv': 128,\n",
       " 'trump': 129,\n",
       " 'alum': 130,\n",
       " 'news': 131,\n",
       " 'mufc': 132,\n",
       " 'business': 133,\n",
       " 'activist': 134,\n",
       " 'me': 135,\n",
       " 'graphic designer': 136,\n",
       " 'twitch affiliate': 137,\n",
       " 'single': 138,\n",
       " 'journalist': 139,\n",
       " 'dm': 140,\n",
       " 'owner': 141,\n",
       " '27': 142,\n",
       " 'proud': 143,\n",
       " 'icon by': 144,\n",
       " '18+ only': 145,\n",
       " 'hello': 146,\n",
       " 'english': 147,\n",
       " 'queer': 148,\n",
       " 'nerd': 149,\n",
       " 'games': 150,\n",
       " 'lfc': 151,\n",
       " 'model': 152,\n",
       " 'txt': 153,\n",
       " 'son': 154,\n",
       " 'black': 155,\n",
       " 'member': 156,\n",
       " 'bisexual': 157,\n",
       " 'coffee': 158,\n",
       " 'gaming': 159,\n",
       " 'rt': 160,\n",
       " 'dreamer': 161,\n",
       " 'sc': 162,\n",
       " 'country': 163,\n",
       " '14': 164,\n",
       " 'veteran': 165,\n",
       " 'male': 166,\n",
       " 'email': 167,\n",
       " 'daughter': 168,\n",
       " 'illustrator': 169,\n",
       " 'multi': 170,\n",
       " 'follow back': 171,\n",
       " 'dogs': 172,\n",
       " 'twice': 173,\n",
       " 'marketing': 174,\n",
       " 'creator': 175,\n",
       " 'animals': 176,\n",
       " 'it': 177,\n",
       " 'traveler': 178,\n",
       " 'dancer': 179,\n",
       " 'for': 180,\n",
       " 'pan': 181,\n",
       " 'ele': 182,\n",
       " 'leo': 183,\n",
       " 'vegan': 184,\n",
       " 'sister': 185,\n",
       " 'fbr': 186,\n",
       " 'you': 187,\n",
       " 'uk': 188,\n",
       " 'coach': 189,\n",
       " 'ateez': 190,\n",
       " 'dj': 191,\n",
       " 'geek': 192,\n",
       " 'lawyer': 193,\n",
       " 'atheist': 194,\n",
       " 'co-founder': 195,\n",
       " 'tv': 196,\n",
       " 'flamengo': 197,\n",
       " 'host': 198,\n",
       " 'fashion': 199,\n",
       " 'speaker': 200,\n",
       " 'blessed': 201,\n",
       " 'seventeen': 202,\n",
       " 'oh': 203,\n",
       " 'film': 204,\n",
       " 'views my own': 205,\n",
       " 'virgo': 206,\n",
       " 'technology': 207,\n",
       " 'reading': 208,\n",
       " '2020': 209,\n",
       " 'en': 210,\n",
       " 'pfp': 211,\n",
       " 'brother': 212,\n",
       " 'writing': 213,\n",
       " 'runner': 214,\n",
       " 'god first': 215,\n",
       " 'jimin': 216,\n",
       " 'usa': 217,\n",
       " '28': 218,\n",
       " 'snapchat': 219,\n",
       " 'weareoneexo': 220,\n",
       " 'memes': 221,\n",
       " 'researcher': 222,\n",
       " 'scorpio': 223,\n",
       " 'gemini': 224,\n",
       " 'fitness': 225,\n",
       " 'muslim': 226,\n",
       " 'day6': 227,\n",
       " 'dog lover': 228,\n",
       " 'jesus': 229,\n",
       " 'health': 230,\n",
       " 'manutd': 231,\n",
       " 'liberal': 232,\n",
       " 'resistance': 233,\n",
       " 'believer': 234,\n",
       " 'bitcoin': 235,\n",
       " 'ynwa': 236,\n",
       " 'investor': 237,\n",
       " 'esp': 238,\n",
       " 'ot5': 239,\n",
       " 'always': 240,\n",
       " 'yes': 241,\n",
       " 'indian': 242,\n",
       " 'nra': 243,\n",
       " 'freedom': 244,\n",
       " 'only': 245,\n",
       " 'human': 246,\n",
       " 'lakers': 247,\n",
       " 'retired': 248,\n",
       " 'qanon': 249,\n",
       " 'manga': 250,\n",
       " 'bidenharris2020': 251,\n",
       " 'kpop': 252,\n",
       " 'introvert': 253,\n",
       " 'lesbian': 254,\n",
       " 'forever': 255,\n",
       " 'marvel': 256,\n",
       " 'libra': 257,\n",
       " 'justice': 258,\n",
       " 'no dms': 259,\n",
       " 'grandmother': 260,\n",
       " 'banner by': 261,\n",
       " 'also': 262,\n",
       " 'design': 263,\n",
       " 'theresistance': 264,\n",
       " 'advocate': 265,\n",
       " 'education': 266,\n",
       " 'stay': 267,\n",
       " 'fun': 268,\n",
       " 'be kind': 269,\n",
       " 'support': 270,\n",
       " 'rp': 271,\n",
       " 'comics': 272,\n",
       " 'truth': 273,\n",
       " 'creative': 274,\n",
       " 'hey': 275,\n",
       " 'main': 276,\n",
       " 'one': 277,\n",
       " 'cricket': 278,\n",
       " 'traveller': 279,\n",
       " 'filmmaker': 280,\n",
       " 'ca': 281,\n",
       " 'jungkook': 282,\n",
       " 'draw': 283,\n",
       " 'culture': 284,\n",
       " 'aries': 285,\n",
       " 'cosplayer': 286,\n",
       " 'stan': 287,\n",
       " 'priv': 288,\n",
       " 'icon': 289,\n",
       " 'no': 290,\n",
       " 'twitter': 291,\n",
       " 'socialist': 292,\n",
       " 'lgbtq': 293,\n",
       " 'podcast': 294,\n",
       " 'fb': 295,\n",
       " 'infp': 296,\n",
       " 'my family': 297,\n",
       " 'exo-l': 298,\n",
       " 'header by': 299,\n",
       " 'laugh': 300,\n",
       " 'american': 301,\n",
       " 'catholic': 302,\n",
       " 'chelseafc': 303,\n",
       " 'pansexual': 304,\n",
       " 'nctzen': 305,\n",
       " 'wine': 306,\n",
       " 'pisces': 307,\n",
       " '13': 308,\n",
       " 'switch': 309,\n",
       " 'trans': 310,\n",
       " 'blink': 311,\n",
       " 'rapper': 312,\n",
       " 'trump 2020': 313,\n",
       " 'prolife': 314,\n",
       " 'contact': 315,\n",
       " 'twitch streamer': 316,\n",
       " 'snap': 317,\n",
       " 'enhypen': 318,\n",
       " 'backup': 319,\n",
       " 'txt_members': 320,\n",
       " 'software engineer': 321,\n",
       " 'born': 322,\n",
       " 'in': 323,\n",
       " 'any pronouns': 324,\n",
       " 'louis': 325,\n",
       " 'dele': 326,\n",
       " 'infj': 327,\n",
       " 'taken': 328,\n",
       " 'manchester united': 329,\n",
       " 'furry': 330,\n",
       " 'consultant': 331,\n",
       " 'beer': 332,\n",
       " 'nurse': 333,\n",
       " 'like': 334,\n",
       " 'trump supporter': 335,\n",
       " '29': 336,\n",
       " 'white': 337,\n",
       " 'dc': 338,\n",
       " 'actress': 339,\n",
       " 'straykids': 340,\n",
       " '30': 341,\n",
       " 'horror': 342,\n",
       " 'enthusiast': 343,\n",
       " 'aquarius': 344,\n",
       " 'ace': 345,\n",
       " 'btsarmy': 346,\n",
       " 'pr': 347,\n",
       " 'taurus': 348,\n",
       " 'tx': 349,\n",
       " 'democrat': 350,\n",
       " 'facebook': 351,\n",
       " 'media': 352,\n",
       " 'learning': 353,\n",
       " 'faith': 354,\n",
       " 'harry': 355,\n",
       " 'podcaster': 356,\n",
       " 'voteblue': 357,\n",
       " 'nationalist': 358,\n",
       " 'crypto': 359,\n",
       " 'mum': 360,\n",
       " 'moa': 361,\n",
       " 'stuff': 362,\n",
       " 'nyc': 363,\n",
       " 'formerly': 364,\n",
       " 'write': 365,\n",
       " 'equality': 366,\n",
       " 'tpwk': 367,\n",
       " 'dms open': 368,\n",
       " 'cooking': 369,\n",
       " 'comedian': 370,\n",
       " 'former': 371,\n",
       " 'events': 372,\n",
       " 'phd': 373,\n",
       " 'independent': 374,\n",
       " 'poetry': 375,\n",
       " 'young': 376,\n",
       " 'star wars': 377,\n",
       " 'basketball': 378,\n",
       " 'love yourself': 379,\n",
       " 'skz': 380,\n",
       " 'ny': 381,\n",
       " 'programmer': 382,\n",
       " 'progressive': 383,\n",
       " '1a': 384,\n",
       " 'ifb': 385,\n",
       " 'dog mom': 386,\n",
       " 'rn': 387,\n",
       " 'chelsea': 388,\n",
       " 'nature lover': 389,\n",
       " 'simple': 390,\n",
       " 'dream': 391,\n",
       " 'ex': 392,\n",
       " 'business owner': 393,\n",
       " 'supporter': 394,\n",
       " 'itzy': 395,\n",
       " 'law': 396,\n",
       " 'thinker': 397,\n",
       " 'finance': 398,\n",
       " 'my': 399,\n",
       " 'btc': 400,\n",
       " 'scientist': 401,\n",
       " 'yankees': 402,\n",
       " 'entertainment': 403,\n",
       " 'mentor': 404,\n",
       " 'golf': 405,\n",
       " 'capricorn': 406,\n",
       " 'chef': 407,\n",
       " 'humanist': 408,\n",
       " 'happy': 409,\n",
       " 'ok': 410,\n",
       " 'f1': 411,\n",
       " 'grandma': 412,\n",
       " 'once': 413,\n",
       " 'header': 414,\n",
       " 'carat': 415,\n",
       " 'autistic': 416,\n",
       " 'people': 417,\n",
       " 'ps4': 418,\n",
       " 'ikon': 419,\n",
       " 'developer': 420,\n",
       " 'animator': 421,\n",
       " 'free': 422,\n",
       " 'cancer': 423,\n",
       " 'new account': 424,\n",
       " 'baseball': 425,\n",
       " 'proud american': 426,\n",
       " 'arts': 427,\n",
       " 'biden2020': 428,\n",
       " 'love god': 429,\n",
       " 'grandfather': 430,\n",
       " 'avid reader': 431,\n",
       " 'work': 432,\n",
       " 'ai': 433,\n",
       " 'happily married': 434,\n",
       " 'respect': 435,\n",
       " 'president': 436,\n",
       " 'moon': 437,\n",
       " 'proud indian': 438,\n",
       " 'tweets': 439,\n",
       " 'resister': 440,\n",
       " 'md': 441,\n",
       " 'storyteller': 442,\n",
       " 'la': 443,\n",
       " 'sports fan': 444,\n",
       " 'wrestling': 445,\n",
       " 'team': 446,\n",
       " 'fl': 447,\n",
       " 'sagittarius': 448,\n",
       " 'on': 449,\n",
       " 'loving': 450,\n",
       " 'mba': 451,\n",
       " 'x1': 452,\n",
       " 'rock': 453,\n",
       " 'backtheblue': 454,\n",
       " 'partner': 455,\n",
       " 'fantasy': 456,\n",
       " 'raised': 457,\n",
       " 'volunteer': 458,\n",
       " 'no minors': 459,\n",
       " 'nba': 460,\n",
       " 'pledis_17': 461,\n",
       " 'composer': 462,\n",
       " 'beauty': 463,\n",
       " 'treasuremembers': 464,\n",
       " 'svt': 465,\n",
       " 'smile': 466,\n",
       " 'alt': 467,\n",
       " 'discord': 468,\n",
       " 'kag2020': 469,\n",
       " 'straight': 470,\n",
       " 'please': 471,\n",
       " 'lisa': 472,\n",
       " 'professor': 473,\n",
       " 'beautiful': 474,\n",
       " 'sfw': 475,\n",
       " 'dance': 476,\n",
       " 'learner': 477,\n",
       " 'sport': 478,\n",
       " 'est': 479,\n",
       " 'vote': 480,\n",
       " 'social worker': 481,\n",
       " 'sometimes': 482,\n",
       " 'mma': 483,\n",
       " 'co-host': 484,\n",
       " 'bookworm': 485,\n",
       " 'opinions my own': 486,\n",
       " 'cook': 487,\n",
       " 'gardener': 488,\n",
       " 'philosophy': 489,\n",
       " 'research': 490,\n",
       " 'digital artist': 491,\n",
       " 'historian': 492,\n",
       " 'humanitarian': 493,\n",
       " 'digital': 494,\n",
       " 'london': 495,\n",
       " 'minors dni': 496,\n",
       " 'guitarist': 497,\n",
       " 'environment': 498,\n",
       " 'funny': 499,\n",
       " 'ad': 500,\n",
       " 'endsars': 501,\n",
       " 'parler': 502,\n",
       " 'nct127': 503,\n",
       " 'mama': 504,\n",
       " 'leader': 505,\n",
       " 'cyclist': 506,\n",
       " 'nfl': 507,\n",
       " 'liberty': 508,\n",
       " 'drawing': 509,\n",
       " 'videos': 510,\n",
       " 'environmentalist': 511,\n",
       " 'banner': 512,\n",
       " 'economics': 513,\n",
       " 'tiktok': 514,\n",
       " 'of': 515,\n",
       " 'cool': 516,\n",
       " 'disney': 517,\n",
       " 'parody': 518,\n",
       " 'farmer': 519,\n",
       " 'libertarian': 520,\n",
       " 'america': 521,\n",
       " 'fr': 522,\n",
       " 'music producer': 523,\n",
       " 'rm': 524,\n",
       " 'learn': 525,\n",
       " 'female': 526,\n",
       " 'adhd': 527,\n",
       " 'optimist': 528,\n",
       " 'my country': 529,\n",
       " 'architect': 530,\n",
       " 'taehyung': 531,\n",
       " 'superm': 532,\n",
       " 'personal account': 533,\n",
       " 'jaehyun': 534,\n",
       " 'hockey': 535,\n",
       " 'atl': 536,\n",
       " 'pc': 537,\n",
       " 'freepalestine': 538,\n",
       " 'atiny': 539,\n",
       " 'winmetawin': 540,\n",
       " 'friendly': 541,\n",
       " 'soccer': 542,\n",
       " 'astro': 543,\n",
       " 'otaku': 544,\n",
       " 'weeb': 545,\n",
       " 'man': 546,\n",
       " 'commissions open': 547,\n",
       " 'fgo': 548,\n",
       " '100': 549,\n",
       " 'mark': 550,\n",
       " 'community': 551,\n",
       " 'manager': 552,\n",
       " 'suga': 553,\n",
       " 'child of god': 554,\n",
       " 'ally': 555,\n",
       " 'now': 556,\n",
       " 'traveling': 557,\n",
       " 'life goes on': 558,\n",
       " 'running': 559,\n",
       " 'humble': 560,\n",
       " 'lifestyle': 561,\n",
       " '2019': 562,\n",
       " 'grinding for': 563,\n",
       " 'truth seeker': 564,\n",
       " 'cars': 565,\n",
       " 'fcbarcelona': 566,\n",
       " 'stray_kids': 567,\n",
       " 'slytherin': 568,\n",
       " 'player': 569,\n",
       " 'boxing': 570,\n",
       " 'likes': 571,\n",
       " 'shinee': 572,\n",
       " 'bbrightvc': 573,\n",
       " 'social': 574,\n",
       " 'comedy': 575,\n",
       " 'read': 576,\n",
       " 'accountant': 577,\n",
       " 'ggmu': 578,\n",
       " 'dodgers': 579,\n",
       " 'yoongi': 580,\n",
       " 'americafirst': 581,\n",
       " 'dr': 582,\n",
       " 'married to': 583,\n",
       " 'patriots': 584,\n",
       " 'acnh': 585,\n",
       " 'am': 586,\n",
       " 'fa': 587,\n",
       " 'sub': 588,\n",
       " 'economist': 589,\n",
       " 'fncompetitive': 590,\n",
       " 'mommy': 591,\n",
       " 'fangirl': 592,\n",
       " 'personal': 593,\n",
       " 'at': 594,\n",
       " 'stray kids': 595,\n",
       " 'attorney': 596,\n",
       " 'survivor': 597,\n",
       " 'jin': 598,\n",
       " 'doctor': 599,\n",
       " 'family man': 600,\n",
       " 'realmadrid': 601,\n",
       " 'lgbt': 602,\n",
       " 'philanthropist': 603,\n",
       " 'nctsmtown': 604,\n",
       " 'ravenclaw': 605,\n",
       " 'cashapp': 606,\n",
       " 'bookings': 607,\n",
       " 'love my family': 608,\n",
       " 'ed': 609,\n",
       " 'mamamoo': 610,\n",
       " 'canadian': 611,\n",
       " 'metal': 612,\n",
       " 'u s': 613,\n",
       " 'trader': 614,\n",
       " 'wwe': 615,\n",
       " 'rts': 616,\n",
       " 'lover of god': 617,\n",
       " 'thank you': 618,\n",
       " 'winner': 619,\n",
       " 'india': 620,\n",
       " 'no dm': 621,\n",
       " 'monbebe': 622,\n",
       " 'queen': 623,\n",
       " 'cat lover': 624,\n",
       " 'political junkie': 625,\n",
       " 'st': 626,\n",
       " 'bl': 627,\n",
       " 'constitution': 628,\n",
       " 'light': 629,\n",
       " 'liverpool': 630,\n",
       " 'nctdream': 631,\n",
       " 'jaemin': 632,\n",
       " 'hufflepuff': 633,\n",
       " 'cfc': 634,\n",
       " 'web developer': 635,\n",
       " 'films': 636,\n",
       " 'drummer': 637,\n",
       " 'song writer': 638,\n",
       " 'innovation': 639,\n",
       " '^^': 640,\n",
       " 'realist': 641,\n",
       " 'opinions': 642,\n",
       " 'god fearing': 643,\n",
       " 'sex': 644,\n",
       " 'proud father': 645,\n",
       " 'eat': 646,\n",
       " 'draintheswamp': 647,\n",
       " 'vegetarian': 648,\n",
       " 'xbox': 649,\n",
       " '10': 650,\n",
       " 'athlete': 651,\n",
       " 'ot9': 652,\n",
       " 'lover of life': 653,\n",
       " 'tennis': 654,\n",
       " 'bibliophile': 655,\n",
       " 'reporter': 656,\n",
       " 'software developer': 657,\n",
       " 'buildthewall': 658,\n",
       " 'military': 659,\n",
       " 'chelsea fc': 660,\n",
       " 'with': 661,\n",
       " 'video editor': 662,\n",
       " 'painter': 663,\n",
       " 'sleep': 664,\n",
       " 'human rights': 665,\n",
       " 'analyst': 666,\n",
       " 'pro-life': 667,\n",
       " 'space': 668,\n",
       " 'chicago': 669,\n",
       " 'kind': 670,\n",
       " 'baker': 671,\n",
       " 'stream': 672,\n",
       " 'ambivert': 673,\n",
       " 'yeah': 674,\n",
       " 'jk': 675,\n",
       " 'psychology': 676,\n",
       " 'celtics': 677,\n",
       " 'lakeshow': 678,\n",
       " 'ffxiv': 679,\n",
       " 'red velvet': 680,\n",
       " 'social media': 681,\n",
       " 'lol': 682,\n",
       " 'ma': 683,\n",
       " 'philosopher': 684,\n",
       " 'positivity': 685,\n",
       " 'walkaway': 686,\n",
       " 'texas': 687,\n",
       " 'apex': 688,\n",
       " 'influencer': 689,\n",
       " 'adventurer': 690,\n",
       " 'cycling': 691,\n",
       " 'cat mom': 692,\n",
       " 'baby': 693,\n",
       " 'ella': 694,\n",
       " 'or': 695,\n",
       " '12': 696,\n",
       " 'videographer': 697,\n",
       " 'spanish': 698,\n",
       " 'steelers': 699,\n",
       " 'happiness': 700,\n",
       " 'infp-t': 701,\n",
       " 'tw': 702,\n",
       " 'republican': 703,\n",
       " 'pokemon': 704,\n",
       " 'hq': 705,\n",
       " 'women': 706,\n",
       " 'soul': 707,\n",
       " 'gardening': 708,\n",
       " 'affiliate': 709,\n",
       " 'retweets': 710,\n",
       " 'intj': 711,\n",
       " 'sarcasm': 712,\n",
       " 'cat': 713,\n",
       " 'trainer': 714,\n",
       " 'vtuber': 715,\n",
       " 'literature': 716,\n",
       " 'blockchain': 717,\n",
       " 'all': 718,\n",
       " 'bnha': 719,\n",
       " 'fashion designer': 720,\n",
       " 'savethechildren': 721,\n",
       " 'non-binary': 722,\n",
       " 'igot7': 723,\n",
       " 'yoga': 724,\n",
       " 'sun': 725,\n",
       " 'content': 726,\n",
       " 'art account': 727,\n",
       " 'too': 728,\n",
       " 'fan account for': 729,\n",
       " 'bluewave': 730,\n",
       " 'mcyttwt': 731,\n",
       " 'ela/-a': 732,\n",
       " 'fortnite': 733,\n",
       " 'nb': 734,\n",
       " 'be happy': 735,\n",
       " 'cubs': 736,\n",
       " 'jennie': 737,\n",
       " 'views': 738,\n",
       " '1d': 739,\n",
       " 'grad': 740,\n",
       " 'previously': 741,\n",
       " 'go': 742,\n",
       " 'messi': 743,\n",
       " 'actorvijay': 744,\n",
       " 'exol': 745,\n",
       " 'digital marketer': 746,\n",
       " 'mc': 747,\n",
       " 'social justice': 748,\n",
       " 'part': 749,\n",
       " 'civil engineer': 750,\n",
       " 'let live': 751,\n",
       " 'die hard fan': 752,\n",
       " 'enjoy': 753,\n",
       " 'parent': 754,\n",
       " 'world traveler': 755,\n",
       " 'cosplay': 756,\n",
       " 'fishing': 757,\n",
       " 'book lover': 758,\n",
       " 'work hard': 759,\n",
       " 'ms': 760,\n",
       " 'theatre': 761,\n",
       " 'nj': 762,\n",
       " 'tired': 763,\n",
       " 'sci-fi': 764,\n",
       " 'by': 765,\n",
       " 'biden': 766,\n",
       " 'entertainer': 767,\n",
       " 'leadership': 768,\n",
       " 'spotify': 769,\n",
       " 'taeyong': 770,\n",
       " 'bigbang': 771,\n",
       " 'haechan': 772,\n",
       " 'daddy': 773,\n",
       " 'kindness': 774,\n",
       " 'screenwriter': 775,\n",
       " 'monsta x': 776,\n",
       " 'world': 777,\n",
       " 'others': 778,\n",
       " 'writingcommunity': 779,\n",
       " 'woman': 780,\n",
       " 'enhypen_members': 781,\n",
       " 'welcome': 782,\n",
       " 'r i p': 783,\n",
       " 'haikyuu': 784,\n",
       " 'dog': 785,\n",
       " 'real madrid': 786,\n",
       " 'realtor': 787,\n",
       " 'honest': 788,\n",
       " 'mostly': 789,\n",
       " 'disabled': 790,\n",
       " 'alumni': 791,\n",
       " 'golfer': 792,\n",
       " 'hope': 793,\n",
       " 'rj': 794,\n",
       " 'videogames': 795,\n",
       " '11': 796,\n",
       " 'movie': 797,\n",
       " 'porn': 798,\n",
       " 'sarcastic': 799,\n",
       " 'onlyfans': 800,\n",
       " 'rugby': 801,\n",
       " 'us': 802,\n",
       " 'pa': 803,\n",
       " 'mr': 804,\n",
       " 'living': 805,\n",
       " 'creative director': 806,\n",
       " 'radio': 807,\n",
       " 'irish': 808,\n",
       " 'com': 809,\n",
       " 'followed by': 810,\n",
       " 'urstrulymahesh': 811,\n",
       " 'data': 812,\n",
       " 'christ follower': 813,\n",
       " 'social activist': 814,\n",
       " 'sorry': 815,\n",
       " 'love music': 816,\n",
       " 'nintendo': 817,\n",
       " 'vet': 818,\n",
       " 'real': 819,\n",
       " 'freelance writer': 820,\n",
       " 'money': 821,\n",
       " 'intp': 822,\n",
       " 'nc': 823,\n",
       " 'barcelona': 824,\n",
       " 'co': 825,\n",
       " 'marketer': 826,\n",
       " 'leftist': 827,\n",
       " 'kids': 828,\n",
       " 'ahgase': 829,\n",
       " 'architecture': 830,\n",
       " 'dm me': 831,\n",
       " 'french': 832,\n",
       " 'packers': 833,\n",
       " 'hiking': 834,\n",
       " 'mewgulf': 835,\n",
       " 'enfp': 836,\n",
       " 'explorer': 837,\n",
       " 'ros': 838,\n",
       " 'bears': 839,\n",
       " 'seo': 840,\n",
       " 'was': 841,\n",
       " 'pawankalyan': 842,\n",
       " 'engineering': 843,\n",
       " 'thegreatawakening': 844,\n",
       " 'findom': 845,\n",
       " 'motivational speaker': 846,\n",
       " 'retweet': 847,\n",
       " 'democracy': 848,\n",
       " 'freelancer': 849,\n",
       " 'tea': 850,\n",
       " 'blue': 851,\n",
       " 'free thinker': 852,\n",
       " 'girls': 853,\n",
       " 'followback': 854,\n",
       " 'humanity': 855,\n",
       " 'ambassador': 856,\n",
       " '5sos': 857,\n",
       " 'law student': 858,\n",
       " 'makeup': 859,\n",
       " 'latina': 860,\n",
       " 'outdoors': 861,\n",
       " 'va': 862,\n",
       " 'not spoiler free': 863,\n",
       " 'loona': 864,\n",
       " 'businessman': 865,\n",
       " 'business inquiries': 866,\n",
       " 'humor': 867,\n",
       " 'gulfkanawut': 868,\n",
       " 'mets': 869,\n",
       " 'voice actor': 870,\n",
       " 'giants': 871,\n",
       " 'godwins': 872,\n",
       " 'larrie': 873,\n",
       " 'braves': 874,\n",
       " 'blog': 875,\n",
       " 'cowboys': 876,\n",
       " 'mdzs': 877,\n",
       " 'ss': 878,\n",
       " 'travelling': 879,\n",
       " 'hindu': 880,\n",
       " 'contributor': 881,\n",
       " 'management': 882,\n",
       " '2018': 883,\n",
       " 'bangtan': 884,\n",
       " 'potus': 885,\n",
       " 'philippians 4:13': 886,\n",
       " 'political': 887,\n",
       " 'poly': 888,\n",
       " 'tech enthusiast': 889,\n",
       " 'well': 890,\n",
       " 'ba': 891,\n",
       " 'web': 892,\n",
       " 'player for': 893,\n",
       " 'realdonaldtrump': 894,\n",
       " 'development': 895,\n",
       " 'video': 896,\n",
       " 'mental health': 897,\n",
       " 'taylor swift': 898,\n",
       " 'sexy': 899,\n",
       " 'doyoung': 900,\n",
       " 'maga2020': 901,\n",
       " 'love my country': 902,\n",
       " 'professional': 903,\n",
       " 'animation': 904,\n",
       " 'myself': 905,\n",
       " 'potterhead': 906,\n",
       " '31': 907,\n",
       " 'brightwin': 908,\n",
       " 'directioner': 909,\n",
       " 'gym': 910,\n",
       " '49ers': 911,\n",
       " 'girl': 912,\n",
       " 'sales': 913,\n",
       " 'coys': 914,\n",
       " 'jeno': 915,\n",
       " 'yt': 916,\n",
       " 'european': 917,\n",
       " 'canada': 918,\n",
       " 'witch': 919,\n",
       " 'religion': 920,\n",
       " 'pro': 921,\n",
       " 'lecturer': 922,\n",
       " 'alumna': 923,\n",
       " 'performer': 924,\n",
       " 'love life': 925,\n",
       " 'security': 926,\n",
       " 'reveluv': 927,\n",
       " 'jisoo': 928,\n",
       " 'jhope': 929,\n",
       " 'small business owner': 930,\n",
       " 'admin': 931,\n",
       " 'smart': 932,\n",
       " 'fub free': 933,\n",
       " 'on ig': 934,\n",
       " 'elf': 935,\n",
       " 'beyond': 936,\n",
       " 'id': 937,\n",
       " 'tweet': 938,\n",
       " 'mechanical engineer': 939,\n",
       " 'pastor': 940,\n",
       " 'mental health advocate': 941,\n",
       " 's s': 942,\n",
       " 'duo': 943,\n",
       " 'repeat': 944,\n",
       " 'arsenal fan': 945,\n",
       " 'sports enthusiast': 946,\n",
       " 'guns': 947,\n",
       " 'ten': 948,\n",
       " 'home': 949,\n",
       " 'paypal': 950,\n",
       " 'follower of christ': 951,\n",
       " 'metoo': 952,\n",
       " 'graphics designer': 953,\n",
       " 'calm': 954,\n",
       " 'medical student': 955,\n",
       " 'ufc': 956,\n",
       " 'de': 957,\n",
       " 'nonbinary': 958,\n",
       " 'deplorable': 959,\n",
       " 'sweet': 960,\n",
       " 'sing': 961,\n",
       " 'ariana': 962,\n",
       " 'king': 963,\n",
       " 'eagles': 964,\n",
       " 'private': 965,\n",
       " 'coyg': 966,\n",
       " 'think': 967,\n",
       " 'words': 968,\n",
       " 'az': 969,\n",
       " 'constitutionalist': 970,\n",
       " 'snsd': 971,\n",
       " 'cinema': 972,\n",
       " 'booking': 973,\n",
       " 'fellow': 974,\n",
       " 'sb19official': 975,\n",
       " 'pharmacist': 976,\n",
       " 'policy': 977,\n",
       " 'naruto': 978,\n",
       " 'renjun': 979,\n",
       " 'librarian': 980,\n",
       " 'subscribe': 981,\n",
       " 'jazz': 982,\n",
       " 'series': 983,\n",
       " 'so': 984,\n",
       " 'tattoos': 985,\n",
       " 'passionate': 986,\n",
       " 'baekhyun': 987,\n",
       " 'prof': 988,\n",
       " 'profile pic by': 989,\n",
       " 'new': 990,\n",
       " 'strategist': 991,\n",
       " 'wear a mask': 992,\n",
       " 'phd student': 993,\n",
       " 'dom': 994,\n",
       " 'here': 995,\n",
       " 'pop culture': 996,\n",
       " '2021': 997,\n",
       " 'ga': 998,\n",
       " 'antifa': 999,\n",
       " ...}"
      ]
     },
     "execution_count": 23,
     "metadata": {},
     "output_type": "execute_result"
    }
   ],
   "source": [
    "w2v_twitter_negsamp_model.wv.key_to_index"
   ]
  },
  {
   "cell_type": "code",
   "execution_count": 23,
   "id": "d19e2563",
   "metadata": {},
   "outputs": [
    {
     "name": "stdout",
     "output_type": "stream",
     "text": [
      "creating dataset for twitter:\n",
      "total test bios: 1546001\n",
      "total test bios after restriction: 1279200\n",
      "total test dataset entires:  395583\n",
      "vocab size: 22516\n"
     ]
    }
   ],
   "source": [
    "test_ds_twitter_target_restricted, twitter_target_restricted_pis = create_restricted_target_test_dataset(\n",
    "    dataset='twitter',\n",
    "    vocab=w2v_twitter_negsamp_model.wv.key_to_index,\n",
    "    generalization=True\n",
    ")\n",
    "\n",
    "\n",
    "# sampling test sets for faster results\n",
    "sample_indices = np.random.randint(0, len(test_ds_twitter_target_restricted), 100000)\n",
    "test_ds_twitter_target_restricted = [test_ds_twitter_target_restricted[i] for i in sample_indices]\n",
    "\n",
    "\n",
    "\n",
    "# test_ds_wiki_target_restricted, wiki_target_restricted_pis = create_restricted_target_test_dataset(\n",
    "#     dataset='wiki',\n",
    "#     vocab=w2v_wiki_cbow_model.wv.key_to_index,\n",
    "# )"
   ]
  },
  {
   "cell_type": "code",
   "execution_count": 24,
   "id": "5a9cd700",
   "metadata": {},
   "outputs": [
    {
     "data": {
      "text/plain": [
       "[(['behavior analyst', 'craft fanatic', 'diy projects', 'guacamole'],\n",
       "  'behavior analyst, craft fanatic, diy projects, guacamole',\n",
       "  'crochet'),\n",
       " (['12 feet', 'mfs', 'trumpoutnow'], '12 feet, mfs, trumpoutnow', 'biden2020'),\n",
       " (['vai se foder'], 'vai se foder', 'ah'),\n",
       " (['jewish-american', 'applied math'],\n",
       "  'jewish-american, applied math',\n",
       "  'stats'),\n",
       " ([\"it's announced\"], \"it's announced\", 'deal with it')]"
      ]
     },
     "execution_count": 24,
     "metadata": {},
     "output_type": "execute_result"
    }
   ],
   "source": [
    "test_ds_twitter_target_restricted[:5]"
   ]
  },
  {
   "cell_type": "code",
   "execution_count": 31,
   "id": "01505ec8",
   "metadata": {},
   "outputs": [
    {
     "data": {
      "text/plain": [
       "False"
      ]
     },
     "execution_count": 31,
     "metadata": {},
     "output_type": "execute_result"
    }
   ],
   "source": [
    "'diy projects' in w2v_twitter_negsamp_model.wv.key_to_index"
   ]
  },
  {
   "cell_type": "markdown",
   "id": "2697ee64",
   "metadata": {},
   "source": [
    "## helper function for batching"
   ]
  },
  {
   "cell_type": "code",
   "execution_count": 32,
   "id": "9785fa1e",
   "metadata": {},
   "outputs": [],
   "source": [
    "from tqdm import tqdm\n",
    "import torch \n",
    "\n",
    "def get_results_batched(model, tokenizer, str_l, bs=256, average_k_layers=1):\n",
    "    i = 0\n",
    "    result = []\n",
    "    pbar = tqdm(total=len(str_l))\n",
    "    while i < len(str_l):\n",
    "        batch = list(str_l[i:i+bs])\n",
    "        with torch.no_grad():\n",
    "            tokens = tokenizer(batch, return_tensors='pt', padding=True, truncation=True).to(device)\n",
    "            res_full = model(**tokens, output_hidden_states=True).hidden_states\n",
    "            layers = []\n",
    "\n",
    "            for k in range(-average_k_layers,0):\n",
    "                pooled_val = res_full[k].detach().cpu()\n",
    "                # taking cls token embeddings\n",
    "                layers.append(pooled_val[:,0,:])\n",
    "\n",
    "            stacked_layers = torch.stack(layers, dim=1)\n",
    "            #print(stacked_layers.shape)\n",
    "\n",
    "            average_embs = torch.mean(stacked_layers, dim=1)\n",
    "            #print(average_embs.shape)\n",
    "\n",
    "            result.append(average_embs)\n",
    "            i = i + bs\n",
    "            pbar.update(bs)\n",
    "    return torch.concat(result, dim=0)\n",
    "\n",
    "\n",
    "def get_sbertbased_results_batched(model, str_l, bs=256):\n",
    "    i = 0\n",
    "    result = []\n",
    "    pbar = tqdm(total=len(str_l))\n",
    "    while i < len(str_l):\n",
    "        batch = list(str_l[i:i+bs])\n",
    "        with torch.no_grad():\n",
    "            embeddings = model.encode(batch, convert_to_tensor=True)\n",
    "            result.append(embeddings.detach().cpu())\n",
    "            \n",
    "            i = i + bs\n",
    "            pbar.update(bs)\n",
    "    return torch.concat(result, dim=0)\n"
   ]
  },
  {
   "cell_type": "markdown",
   "id": "0df6379b",
   "metadata": {},
   "source": [
    "## word2vec"
   ]
  },
  {
   "cell_type": "markdown",
   "id": "fd87ee3f",
   "metadata": {
    "heading_collapsed": true
   },
   "source": [
    "### full dataset"
   ]
  },
  {
   "cell_type": "code",
   "execution_count": null,
   "id": "133ac741",
   "metadata": {
    "hidden": true
   },
   "outputs": [],
   "source": [
    "w2v_test_ds_twitter, _, twitter_pi_dict = create_test_dataset(\n",
    "    dataset='twitter',\n",
    "    w2v=True\n",
    ")\n",
    "\n",
    "w2v_test_ds_wiki, _, wiki_pi_dict = create_test_dataset(\n",
    "    dataset='wiki',\n",
    "    w2v=True\n",
    ")\n",
    "\n",
    "print(len(w2v_test_ds_twitter), len(twitter_pi_dict))\n",
    "print(len(w2v_test_ds_wiki), len(wiki_pi_dict))"
   ]
  },
  {
   "cell_type": "markdown",
   "id": "1e493b95",
   "metadata": {},
   "source": [
    "### dataset with restriction"
   ]
  },
  {
   "cell_type": "code",
   "execution_count": 33,
   "id": "6c7e772c",
   "metadata": {},
   "outputs": [],
   "source": [
    "\n",
    "\n",
    "# dataset for fixed target\n",
    "fixed_target_twitter_w2v_ds = [(x[0], x[2]) for x in test_ds_twitter_target_restricted]\n",
    "fixed_target_wiki_w2v_ds = [(x[0], x[2]) for x in test_ds_wiki_target_restricted]"
   ]
  },
  {
   "cell_type": "markdown",
   "id": "3998362b",
   "metadata": {},
   "source": [
    "### measure metrics"
   ]
  },
  {
   "cell_type": "code",
   "execution_count": 34,
   "id": "6827008b",
   "metadata": {},
   "outputs": [
    {
     "name": "stdout",
     "output_type": "stream",
     "text": [
      "CPU times: user 22 µs, sys: 3 µs, total: 25 µs\n",
      "Wall time: 30.3 µs\n"
     ]
    }
   ],
   "source": [
    "%%time\n",
    "import torch\n",
    "from sentence_transformers import SentenceTransformer, models, util\n",
    "from tqdm import tqdm\n",
    "from torch.nn.functional import log_softmax\n",
    "\n",
    "def normalize(word_vectors):\n",
    "    norms = torch.norm(word_vectors, dim=1, keepdim=True)\n",
    "    res = word_vectors / (norms + 1e-6)\n",
    "    return res\n",
    "\n",
    "def calculate_w2v_based_metrics(w2v_model, dataset, pi_dict, device='cpu', cosine_bs=512, return_ranks=False):\n",
    "    pi_list = list(pi_dict.keys())\n",
    "    X, ys = zip(*dataset)\n",
    "    \n",
    "    emb_x = torch.tensor([w2v_model.wv.get_mean_vector(x) for x in X], device=device)\n",
    "    emb_all = torch.tensor([w2v_model.wv.get_vector(x) for x in pi_list], device=device)\n",
    "    \n",
    "    emb_x = normalize(emb_x)\n",
    "    emb_all = normalize(emb_all)\n",
    "    \n",
    "    print(\"calculating ranks...\")\n",
    "    \n",
    "    i = 0\n",
    "    pbar = tqdm(total=emb_x.shape[0])\n",
    "\n",
    "    target_ranks = []\n",
    "    softmax_scores = []\n",
    "    \n",
    "    while i < emb_x.shape[0]:\n",
    "        batch = emb_x[i:i+cosine_bs]\n",
    "        batch_y = ys[i:i+cosine_bs]\n",
    "        batch_cosine_scores = util.cos_sim(batch.to(device), emb_all.to(device))\n",
    "        batch_softmax = log_softmax(batch_cosine_scores, dim=1)\n",
    "#         print(torch.sum(batch_softmax, dim=1), torch.sum(batch_softmax, dim=1).shape)\n",
    "        ranks = torch.argsort(torch.argsort(batch_cosine_scores, dim=1, descending=True), dim=1)\n",
    "        target_idxs = torch.tensor([pi_dict[y] for y in batch_y], dtype=torch.int64, device=device)\n",
    "        \n",
    "        batch_target_ranks = torch.gather(ranks, 1, target_idxs.unsqueeze(1).reshape(-1,1)).type(torch.FloatTensor)\n",
    "        batch_target_scores = torch.gather(batch_softmax, 1, target_idxs.unsqueeze(1).reshape(-1,1)).type(torch.FloatTensor)\n",
    "        \n",
    "        target_ranks.append(batch_target_ranks)\n",
    "        softmax_scores.append(batch_target_scores)\n",
    "        \n",
    "        i += cosine_bs\n",
    "        pbar.update(cosine_bs)\n",
    "\n",
    "\n",
    "    target_ranks = torch.concat(target_ranks)\n",
    "    softmax_scores = torch.concat(softmax_scores)\n",
    "    \n",
    "#     print(softmax_scores)\n",
    "\n",
    "    avg_score = torch.mean(softmax_scores).item()\n",
    "    avg_rank = torch.mean(target_ranks).item()\n",
    "    top100_acc = len([r for r in target_ranks.reshape(1,-1).squeeze().tolist() if r < len(pi_list)//100])/emb_x.shape[0]\n",
    "    \n",
    "    print(avg_rank, top100_acc, avg_score)\n",
    "    \n",
    "    if return_ranks:\n",
    "        return avg_rank, top100_acc, avg_score, target_ranks.tolist()\n",
    "\n",
    "    return avg_rank, top100_acc, avg_score\n",
    "    \n",
    "    "
   ]
  },
  {
   "cell_type": "markdown",
   "id": "3e1955f5",
   "metadata": {
    "heading_collapsed": true
   },
   "source": [
    "### compare different w2v models"
   ]
  },
  {
   "cell_type": "code",
   "execution_count": null,
   "id": "4cc58ed9",
   "metadata": {
    "hidden": true
   },
   "outputs": [],
   "source": [
    "%%time\n",
    "\n",
    "\n",
    "# twitterrand_w2v_cbow_avgrank, twitterrand_w2v_cbow_top100acc = calculate_w2v_based_metrics(\n",
    "#     w2v_model=w2v_twitter_cbow_model,\n",
    "#     dataset=w2v_test_ds_twitter_rand,\n",
    "#     pi_dict=twitter_pi_dict,\n",
    "# )\n",
    "\n",
    "# twitterrand_w2v_negsample_avgrank, twitterrand_w2v_negsample_top100acc = calculate_w2v_based_metrics(\n",
    "#     w2v_model=w2v_twitter_negsamp_model,\n",
    "#     dataset=w2v_test_ds_twitter_rand,\n",
    "#     pi_dict=twitter_pi_dict,\n",
    "# )\n",
    "\n",
    "# wikirand_w2v_cbow_avgrank, wikirand_w2v_cbow_top100acc = calculate_w2v_based_metrics(\n",
    "#     w2v_model=w2v_wiki_cbow_model,\n",
    "#     dataset=w2v_test_ds_wiki_rand,\n",
    "#     pi_dict=wiki_pi_dict,\n",
    "# )\n",
    "\n",
    "# wikirand_w2v_negsample_avgrank, wikirand_w2v_negsample_top100acc = calculate_w2v_based_metrics(\n",
    "#     w2v_model=w2v_wiki_negsamp_model,\n",
    "#     dataset=w2v_test_ds_wiki_rand,\n",
    "#     pi_dict=wiki_pi_dict,\n",
    "# )\n",
    "\n",
    "# twitter_w2v_cbow_avgrank, twitter_w2v_cbow_top100acc = calculate_w2v_based_metrics(\n",
    "#     w2v_model=w2v_twitter_cbow_model,\n",
    "#     dataset=w2v_test_ds_twitter,\n",
    "#     pi_dict=twitter_pi_dict,\n",
    "# )\n",
    "\n",
    "twitter_w2v_negsample_avgrank, twitter_w2v_negsample_top100acc = calculate_w2v_based_metrics(\n",
    "    w2v_model=w2v_twitter_negsamp_model,\n",
    "    dataset=w2v_test_ds_twitter,\n",
    "    pi_dict=twitter_pi_dict,\n",
    ")\n",
    "\n",
    "wiki_w2v_cbow_avgrank, wiki_w2v_cbow_top100acc = calculate_w2v_based_metrics(\n",
    "    w2v_model=w2v_wiki_cbow_model,\n",
    "    dataset=w2v_test_ds_wiki,\n",
    "    pi_dict=wiki_pi_dict,\n",
    ")\n",
    "\n",
    "# wiki_w2v_negsample_avgrank, wiki_w2v_negsample_top100acc = calculate_w2v_based_metrics(\n",
    "#     w2v_model=w2v_wiki_negsamp_model,\n",
    "#     dataset=w2v_test_ds_wiki,\n",
    "#     pi_dict=wiki_pi_dict,\n",
    "# )\n",
    "\n"
   ]
  },
  {
   "cell_type": "markdown",
   "id": "bcd2e20c",
   "metadata": {},
   "source": [
    "### run fixed target experiment"
   ]
  },
  {
   "cell_type": "code",
   "execution_count": 12,
   "id": "e4ff4470",
   "metadata": {},
   "outputs": [
    {
     "name": "stderr",
     "output_type": "stream",
     "text": [
      "<timed exec>:15: UserWarning: Creating a tensor from a list of numpy.ndarrays is extremely slow. Please consider converting the list to a single numpy.ndarray with numpy.array() before converting to a tensor. (Triggered internally at  /opt/conda/conda-bld/pytorch_1634272068694/work/torch/csrc/utils/tensor_new.cpp:201.)\n"
     ]
    },
    {
     "name": "stdout",
     "output_type": "stream",
     "text": [
      "calculating ranks...\n"
     ]
    },
    {
     "name": "stderr",
     "output_type": "stream",
     "text": [
      "100%|██████████| 100000/100000 [06:06<00:00, 273.01it/s]"
     ]
    },
    {
     "name": "stdout",
     "output_type": "stream",
     "text": [
      "4148.18798828125 0.43201 -9.891064643859863\n"
     ]
    },
    {
     "name": "stderr",
     "output_type": "stream",
     "text": [
      "\n"
     ]
    },
    {
     "name": "stdout",
     "output_type": "stream",
     "text": [
      "calculating ranks...\n"
     ]
    },
    {
     "name": "stderr",
     "output_type": "stream",
     "text": [
      "166000it [04:48, 576.00it/s]                            "
     ]
    },
    {
     "name": "stdout",
     "output_type": "stream",
     "text": [
      "1107.8671875 0.5798176423764383 -8.986873626708984\n"
     ]
    },
    {
     "name": "stderr",
     "output_type": "stream",
     "text": [
      "\n"
     ]
    }
   ],
   "source": [
    "twitter_w2v_negsample_avgrank, twitter_w2v_negsample_top100acc, twitter_w2v_negsample_avgscore, twitter_w2v_negsample_ranks = calculate_w2v_based_metrics(\n",
    "    w2v_model=w2v_twitter_negsamp_model,\n",
    "    dataset=fixed_target_twitter_w2v_ds,\n",
    "    pi_dict=twitter_target_restricted_pis,\n",
    "    cosine_bs=2000,\n",
    "    return_ranks=True\n",
    ")\n",
    "\n",
    "wiki_w2v_cbow_avgrank, wiki_w2v_cbow_top100acc, wiki_w2v_cbow_avgscore, wiki_w2v_cbow_ranks = calculate_w2v_based_metrics(\n",
    "    w2v_model=w2v_wiki_cbow_model,\n",
    "    dataset=fixed_target_wiki_w2v_ds,\n",
    "    pi_dict=wiki_target_restricted_pis,\n",
    "    cosine_bs=2000,\n",
    "    return_ranks=True\n",
    ")"
   ]
  },
  {
   "cell_type": "markdown",
   "id": "898bf3e1",
   "metadata": {
    "heading_collapsed": true
   },
   "source": [
    "### visualize results"
   ]
  },
  {
   "cell_type": "code",
   "execution_count": null,
   "id": "b6358d64",
   "metadata": {
    "hidden": true
   },
   "outputs": [],
   "source": [
    "import seaborn as sns\n",
    "sns.set_theme()\n",
    "\n",
    "import matplotlib.pyplot as plt\n",
    "import pandas as pd\n",
    "\n",
    "df = pd.DataFrame({\n",
    "    'model': ['w2v_cbow', 'w2v_negsample', 'w2v_cbow', 'w2v_negsample',\n",
    "              'w2v_cbow', 'w2v_negsample', 'w2v_cbow', 'w2v_negsample'],\n",
    "    'dataset': ['twitter', 'wiki', 'wiki', 'twitter', 'twitter_rand', 'wiki_rand', 'wiki_rand', 'twitter_rand',],\n",
    "    'avg_rank': [twitter_w2v_cbow_avgrank, wiki_w2v_negsample_avgrank, wiki_w2v_cbow_avgrank,\n",
    "                 twitter_w2v_negsample_avgrank, twitterrand_w2v_cbow_avgrank, wikirand_w2v_negsample_avgrank, wikirand_w2v_cbow_avgrank,\n",
    "                 twitterrand_w2v_negsample_avgrank],\n",
    "    'top100_acc': [twitter_w2v_cbow_top100acc, wiki_w2v_negsample_top100acc, wiki_w2v_cbow_top100acc,\n",
    "                   twitter_w2v_negsample_top100acc, twitterrand_w2v_cbow_top100acc, wikirand_w2v_negsample_top100acc, wikirand_w2v_cbow_top100acc,\n",
    "                   twitterrand_w2v_negsample_top100acc],\n",
    "    \n",
    "})\n",
    "\n",
    "sns.barplot(data=df, x='model', y='top100_acc', hue='dataset')\n",
    "plt.show()\n",
    "\n",
    "sns.barplot(data=df, x='model', y='avg_rank', hue='dataset')\n",
    "plt.show()\n"
   ]
  },
  {
   "cell_type": "markdown",
   "id": "9f2c3e10",
   "metadata": {},
   "source": [
    "## Contextual LMs"
   ]
  },
  {
   "cell_type": "markdown",
   "id": "ea73d94c",
   "metadata": {},
   "source": [
    "### load datasets"
   ]
  },
  {
   "cell_type": "markdown",
   "id": "a1233075",
   "metadata": {
    "heading_collapsed": true
   },
   "source": [
    "#### restricted vocab datasets"
   ]
  },
  {
   "cell_type": "code",
   "execution_count": null,
   "id": "f0862bd0",
   "metadata": {
    "hidden": true
   },
   "outputs": [],
   "source": [
    "clm_test_ds_twitter, clm_test_ds_twitter_rand, twitter_pi_dict = create_test_dataset(\n",
    "    dataset='twitter',\n",
    "    restrict_vocab_to_training=w2v_twitter_negsamp_model.wv.key_to_index,\n",
    "    w2v=False\n",
    ")\n",
    "\n",
    "clm_test_ds_wiki, clm_test_ds_wiki_rand, wiki_pi_dict = create_test_dataset(\n",
    "    dataset='wiki',\n",
    "    restrict_vocab_to_training=w2v_wiki_negsamp_model.wv.key_to_index,\n",
    "    w2v=False\n",
    ")"
   ]
  },
  {
   "cell_type": "markdown",
   "id": "bf20f6db",
   "metadata": {
    "heading_collapsed": true
   },
   "source": [
    "#### full test dataset"
   ]
  },
  {
   "cell_type": "code",
   "execution_count": null,
   "id": "9b8ddeec",
   "metadata": {
    "hidden": true
   },
   "outputs": [],
   "source": [
    "clm_test_ds_full_twitter, _, twitter_pi_dict_full = create_test_dataset(\n",
    "    dataset='twitter',\n",
    "    restrict_vocab_to_training=None,\n",
    "    w2v=False,\n",
    "    filter_th=10\n",
    ")\n",
    "\n",
    "clm_test_ds_full_wiki, _, wiki_pi_dict_full = create_test_dataset(\n",
    "    dataset='wiki',\n",
    "    restrict_vocab_to_training=None,\n",
    "    w2v=False,\n",
    "    filter_th=None\n",
    ")"
   ]
  },
  {
   "cell_type": "markdown",
   "id": "3ec71e70",
   "metadata": {},
   "source": [
    "#### target restricted dataset"
   ]
  },
  {
   "cell_type": "code",
   "execution_count": 35,
   "id": "8018081d",
   "metadata": {},
   "outputs": [],
   "source": [
    "fixed_target_twitter_clm_ds = [(x[1], x[2]) for x in test_ds_twitter_target_restricted]\n",
    "fixed_target_wiki_clm_ds = [(x[1], x[2]) for x in test_ds_wiki_target_restricted]"
   ]
  },
  {
   "cell_type": "markdown",
   "id": "2250f05f",
   "metadata": {},
   "source": [
    "### load different models"
   ]
  },
  {
   "cell_type": "markdown",
   "id": "d67138a2",
   "metadata": {},
   "source": [
    "#### load BERT"
   ]
  },
  {
   "cell_type": "code",
   "execution_count": 14,
   "id": "b52fb567",
   "metadata": {},
   "outputs": [
    {
     "name": "stderr",
     "output_type": "stream",
     "text": [
      "Some weights of the model checkpoint at bert-base-uncased were not used when initializing BertModel: ['cls.seq_relationship.bias', 'cls.predictions.decoder.weight', 'cls.predictions.bias', 'cls.predictions.transform.LayerNorm.bias', 'cls.predictions.transform.LayerNorm.weight', 'cls.predictions.transform.dense.bias', 'cls.seq_relationship.weight', 'cls.predictions.transform.dense.weight']\n",
      "- This IS expected if you are initializing BertModel from the checkpoint of a model trained on another task or with another architecture (e.g. initializing a BertForSequenceClassification model from a BertForPreTraining model).\n",
      "- This IS NOT expected if you are initializing BertModel from the checkpoint of a model that you expect to be exactly identical (initializing a BertForSequenceClassification model from a BertForSequenceClassification model).\n"
     ]
    },
    {
     "data": {
      "text/plain": [
       "BertModel(\n",
       "  (embeddings): BertEmbeddings(\n",
       "    (word_embeddings): Embedding(30522, 768, padding_idx=0)\n",
       "    (position_embeddings): Embedding(512, 768)\n",
       "    (token_type_embeddings): Embedding(2, 768)\n",
       "    (LayerNorm): LayerNorm((768,), eps=1e-12, elementwise_affine=True)\n",
       "    (dropout): Dropout(p=0.1, inplace=False)\n",
       "  )\n",
       "  (encoder): BertEncoder(\n",
       "    (layer): ModuleList(\n",
       "      (0): BertLayer(\n",
       "        (attention): BertAttention(\n",
       "          (self): BertSelfAttention(\n",
       "            (query): Linear(in_features=768, out_features=768, bias=True)\n",
       "            (key): Linear(in_features=768, out_features=768, bias=True)\n",
       "            (value): Linear(in_features=768, out_features=768, bias=True)\n",
       "            (dropout): Dropout(p=0.1, inplace=False)\n",
       "          )\n",
       "          (output): BertSelfOutput(\n",
       "            (dense): Linear(in_features=768, out_features=768, bias=True)\n",
       "            (LayerNorm): LayerNorm((768,), eps=1e-12, elementwise_affine=True)\n",
       "            (dropout): Dropout(p=0.1, inplace=False)\n",
       "          )\n",
       "        )\n",
       "        (intermediate): BertIntermediate(\n",
       "          (dense): Linear(in_features=768, out_features=3072, bias=True)\n",
       "          (intermediate_act_fn): GELUActivation()\n",
       "        )\n",
       "        (output): BertOutput(\n",
       "          (dense): Linear(in_features=3072, out_features=768, bias=True)\n",
       "          (LayerNorm): LayerNorm((768,), eps=1e-12, elementwise_affine=True)\n",
       "          (dropout): Dropout(p=0.1, inplace=False)\n",
       "        )\n",
       "      )\n",
       "      (1): BertLayer(\n",
       "        (attention): BertAttention(\n",
       "          (self): BertSelfAttention(\n",
       "            (query): Linear(in_features=768, out_features=768, bias=True)\n",
       "            (key): Linear(in_features=768, out_features=768, bias=True)\n",
       "            (value): Linear(in_features=768, out_features=768, bias=True)\n",
       "            (dropout): Dropout(p=0.1, inplace=False)\n",
       "          )\n",
       "          (output): BertSelfOutput(\n",
       "            (dense): Linear(in_features=768, out_features=768, bias=True)\n",
       "            (LayerNorm): LayerNorm((768,), eps=1e-12, elementwise_affine=True)\n",
       "            (dropout): Dropout(p=0.1, inplace=False)\n",
       "          )\n",
       "        )\n",
       "        (intermediate): BertIntermediate(\n",
       "          (dense): Linear(in_features=768, out_features=3072, bias=True)\n",
       "          (intermediate_act_fn): GELUActivation()\n",
       "        )\n",
       "        (output): BertOutput(\n",
       "          (dense): Linear(in_features=3072, out_features=768, bias=True)\n",
       "          (LayerNorm): LayerNorm((768,), eps=1e-12, elementwise_affine=True)\n",
       "          (dropout): Dropout(p=0.1, inplace=False)\n",
       "        )\n",
       "      )\n",
       "      (2): BertLayer(\n",
       "        (attention): BertAttention(\n",
       "          (self): BertSelfAttention(\n",
       "            (query): Linear(in_features=768, out_features=768, bias=True)\n",
       "            (key): Linear(in_features=768, out_features=768, bias=True)\n",
       "            (value): Linear(in_features=768, out_features=768, bias=True)\n",
       "            (dropout): Dropout(p=0.1, inplace=False)\n",
       "          )\n",
       "          (output): BertSelfOutput(\n",
       "            (dense): Linear(in_features=768, out_features=768, bias=True)\n",
       "            (LayerNorm): LayerNorm((768,), eps=1e-12, elementwise_affine=True)\n",
       "            (dropout): Dropout(p=0.1, inplace=False)\n",
       "          )\n",
       "        )\n",
       "        (intermediate): BertIntermediate(\n",
       "          (dense): Linear(in_features=768, out_features=3072, bias=True)\n",
       "          (intermediate_act_fn): GELUActivation()\n",
       "        )\n",
       "        (output): BertOutput(\n",
       "          (dense): Linear(in_features=3072, out_features=768, bias=True)\n",
       "          (LayerNorm): LayerNorm((768,), eps=1e-12, elementwise_affine=True)\n",
       "          (dropout): Dropout(p=0.1, inplace=False)\n",
       "        )\n",
       "      )\n",
       "      (3): BertLayer(\n",
       "        (attention): BertAttention(\n",
       "          (self): BertSelfAttention(\n",
       "            (query): Linear(in_features=768, out_features=768, bias=True)\n",
       "            (key): Linear(in_features=768, out_features=768, bias=True)\n",
       "            (value): Linear(in_features=768, out_features=768, bias=True)\n",
       "            (dropout): Dropout(p=0.1, inplace=False)\n",
       "          )\n",
       "          (output): BertSelfOutput(\n",
       "            (dense): Linear(in_features=768, out_features=768, bias=True)\n",
       "            (LayerNorm): LayerNorm((768,), eps=1e-12, elementwise_affine=True)\n",
       "            (dropout): Dropout(p=0.1, inplace=False)\n",
       "          )\n",
       "        )\n",
       "        (intermediate): BertIntermediate(\n",
       "          (dense): Linear(in_features=768, out_features=3072, bias=True)\n",
       "          (intermediate_act_fn): GELUActivation()\n",
       "        )\n",
       "        (output): BertOutput(\n",
       "          (dense): Linear(in_features=3072, out_features=768, bias=True)\n",
       "          (LayerNorm): LayerNorm((768,), eps=1e-12, elementwise_affine=True)\n",
       "          (dropout): Dropout(p=0.1, inplace=False)\n",
       "        )\n",
       "      )\n",
       "      (4): BertLayer(\n",
       "        (attention): BertAttention(\n",
       "          (self): BertSelfAttention(\n",
       "            (query): Linear(in_features=768, out_features=768, bias=True)\n",
       "            (key): Linear(in_features=768, out_features=768, bias=True)\n",
       "            (value): Linear(in_features=768, out_features=768, bias=True)\n",
       "            (dropout): Dropout(p=0.1, inplace=False)\n",
       "          )\n",
       "          (output): BertSelfOutput(\n",
       "            (dense): Linear(in_features=768, out_features=768, bias=True)\n",
       "            (LayerNorm): LayerNorm((768,), eps=1e-12, elementwise_affine=True)\n",
       "            (dropout): Dropout(p=0.1, inplace=False)\n",
       "          )\n",
       "        )\n",
       "        (intermediate): BertIntermediate(\n",
       "          (dense): Linear(in_features=768, out_features=3072, bias=True)\n",
       "          (intermediate_act_fn): GELUActivation()\n",
       "        )\n",
       "        (output): BertOutput(\n",
       "          (dense): Linear(in_features=3072, out_features=768, bias=True)\n",
       "          (LayerNorm): LayerNorm((768,), eps=1e-12, elementwise_affine=True)\n",
       "          (dropout): Dropout(p=0.1, inplace=False)\n",
       "        )\n",
       "      )\n",
       "      (5): BertLayer(\n",
       "        (attention): BertAttention(\n",
       "          (self): BertSelfAttention(\n",
       "            (query): Linear(in_features=768, out_features=768, bias=True)\n",
       "            (key): Linear(in_features=768, out_features=768, bias=True)\n",
       "            (value): Linear(in_features=768, out_features=768, bias=True)\n",
       "            (dropout): Dropout(p=0.1, inplace=False)\n",
       "          )\n",
       "          (output): BertSelfOutput(\n",
       "            (dense): Linear(in_features=768, out_features=768, bias=True)\n",
       "            (LayerNorm): LayerNorm((768,), eps=1e-12, elementwise_affine=True)\n",
       "            (dropout): Dropout(p=0.1, inplace=False)\n",
       "          )\n",
       "        )\n",
       "        (intermediate): BertIntermediate(\n",
       "          (dense): Linear(in_features=768, out_features=3072, bias=True)\n",
       "          (intermediate_act_fn): GELUActivation()\n",
       "        )\n",
       "        (output): BertOutput(\n",
       "          (dense): Linear(in_features=3072, out_features=768, bias=True)\n",
       "          (LayerNorm): LayerNorm((768,), eps=1e-12, elementwise_affine=True)\n",
       "          (dropout): Dropout(p=0.1, inplace=False)\n",
       "        )\n",
       "      )\n",
       "      (6): BertLayer(\n",
       "        (attention): BertAttention(\n",
       "          (self): BertSelfAttention(\n",
       "            (query): Linear(in_features=768, out_features=768, bias=True)\n",
       "            (key): Linear(in_features=768, out_features=768, bias=True)\n",
       "            (value): Linear(in_features=768, out_features=768, bias=True)\n",
       "            (dropout): Dropout(p=0.1, inplace=False)\n",
       "          )\n",
       "          (output): BertSelfOutput(\n",
       "            (dense): Linear(in_features=768, out_features=768, bias=True)\n",
       "            (LayerNorm): LayerNorm((768,), eps=1e-12, elementwise_affine=True)\n",
       "            (dropout): Dropout(p=0.1, inplace=False)\n",
       "          )\n",
       "        )\n",
       "        (intermediate): BertIntermediate(\n",
       "          (dense): Linear(in_features=768, out_features=3072, bias=True)\n",
       "          (intermediate_act_fn): GELUActivation()\n",
       "        )\n",
       "        (output): BertOutput(\n",
       "          (dense): Linear(in_features=3072, out_features=768, bias=True)\n",
       "          (LayerNorm): LayerNorm((768,), eps=1e-12, elementwise_affine=True)\n",
       "          (dropout): Dropout(p=0.1, inplace=False)\n",
       "        )\n",
       "      )\n",
       "      (7): BertLayer(\n",
       "        (attention): BertAttention(\n",
       "          (self): BertSelfAttention(\n",
       "            (query): Linear(in_features=768, out_features=768, bias=True)\n",
       "            (key): Linear(in_features=768, out_features=768, bias=True)\n",
       "            (value): Linear(in_features=768, out_features=768, bias=True)\n",
       "            (dropout): Dropout(p=0.1, inplace=False)\n",
       "          )\n",
       "          (output): BertSelfOutput(\n",
       "            (dense): Linear(in_features=768, out_features=768, bias=True)\n",
       "            (LayerNorm): LayerNorm((768,), eps=1e-12, elementwise_affine=True)\n",
       "            (dropout): Dropout(p=0.1, inplace=False)\n",
       "          )\n",
       "        )\n",
       "        (intermediate): BertIntermediate(\n",
       "          (dense): Linear(in_features=768, out_features=3072, bias=True)\n",
       "          (intermediate_act_fn): GELUActivation()\n",
       "        )\n",
       "        (output): BertOutput(\n",
       "          (dense): Linear(in_features=3072, out_features=768, bias=True)\n",
       "          (LayerNorm): LayerNorm((768,), eps=1e-12, elementwise_affine=True)\n",
       "          (dropout): Dropout(p=0.1, inplace=False)\n",
       "        )\n",
       "      )\n",
       "      (8): BertLayer(\n",
       "        (attention): BertAttention(\n",
       "          (self): BertSelfAttention(\n",
       "            (query): Linear(in_features=768, out_features=768, bias=True)\n",
       "            (key): Linear(in_features=768, out_features=768, bias=True)\n",
       "            (value): Linear(in_features=768, out_features=768, bias=True)\n",
       "            (dropout): Dropout(p=0.1, inplace=False)\n",
       "          )\n",
       "          (output): BertSelfOutput(\n",
       "            (dense): Linear(in_features=768, out_features=768, bias=True)\n",
       "            (LayerNorm): LayerNorm((768,), eps=1e-12, elementwise_affine=True)\n",
       "            (dropout): Dropout(p=0.1, inplace=False)\n",
       "          )\n",
       "        )\n",
       "        (intermediate): BertIntermediate(\n",
       "          (dense): Linear(in_features=768, out_features=3072, bias=True)\n",
       "          (intermediate_act_fn): GELUActivation()\n",
       "        )\n",
       "        (output): BertOutput(\n",
       "          (dense): Linear(in_features=3072, out_features=768, bias=True)\n",
       "          (LayerNorm): LayerNorm((768,), eps=1e-12, elementwise_affine=True)\n",
       "          (dropout): Dropout(p=0.1, inplace=False)\n",
       "        )\n",
       "      )\n",
       "      (9): BertLayer(\n",
       "        (attention): BertAttention(\n",
       "          (self): BertSelfAttention(\n",
       "            (query): Linear(in_features=768, out_features=768, bias=True)\n",
       "            (key): Linear(in_features=768, out_features=768, bias=True)\n",
       "            (value): Linear(in_features=768, out_features=768, bias=True)\n",
       "            (dropout): Dropout(p=0.1, inplace=False)\n",
       "          )\n",
       "          (output): BertSelfOutput(\n",
       "            (dense): Linear(in_features=768, out_features=768, bias=True)\n",
       "            (LayerNorm): LayerNorm((768,), eps=1e-12, elementwise_affine=True)\n",
       "            (dropout): Dropout(p=0.1, inplace=False)\n",
       "          )\n",
       "        )\n",
       "        (intermediate): BertIntermediate(\n",
       "          (dense): Linear(in_features=768, out_features=3072, bias=True)\n",
       "          (intermediate_act_fn): GELUActivation()\n",
       "        )\n",
       "        (output): BertOutput(\n",
       "          (dense): Linear(in_features=3072, out_features=768, bias=True)\n",
       "          (LayerNorm): LayerNorm((768,), eps=1e-12, elementwise_affine=True)\n",
       "          (dropout): Dropout(p=0.1, inplace=False)\n",
       "        )\n",
       "      )\n",
       "      (10): BertLayer(\n",
       "        (attention): BertAttention(\n",
       "          (self): BertSelfAttention(\n",
       "            (query): Linear(in_features=768, out_features=768, bias=True)\n",
       "            (key): Linear(in_features=768, out_features=768, bias=True)\n",
       "            (value): Linear(in_features=768, out_features=768, bias=True)\n",
       "            (dropout): Dropout(p=0.1, inplace=False)\n",
       "          )\n",
       "          (output): BertSelfOutput(\n",
       "            (dense): Linear(in_features=768, out_features=768, bias=True)\n",
       "            (LayerNorm): LayerNorm((768,), eps=1e-12, elementwise_affine=True)\n",
       "            (dropout): Dropout(p=0.1, inplace=False)\n",
       "          )\n",
       "        )\n",
       "        (intermediate): BertIntermediate(\n",
       "          (dense): Linear(in_features=768, out_features=3072, bias=True)\n",
       "          (intermediate_act_fn): GELUActivation()\n",
       "        )\n",
       "        (output): BertOutput(\n",
       "          (dense): Linear(in_features=3072, out_features=768, bias=True)\n",
       "          (LayerNorm): LayerNorm((768,), eps=1e-12, elementwise_affine=True)\n",
       "          (dropout): Dropout(p=0.1, inplace=False)\n",
       "        )\n",
       "      )\n",
       "      (11): BertLayer(\n",
       "        (attention): BertAttention(\n",
       "          (self): BertSelfAttention(\n",
       "            (query): Linear(in_features=768, out_features=768, bias=True)\n",
       "            (key): Linear(in_features=768, out_features=768, bias=True)\n",
       "            (value): Linear(in_features=768, out_features=768, bias=True)\n",
       "            (dropout): Dropout(p=0.1, inplace=False)\n",
       "          )\n",
       "          (output): BertSelfOutput(\n",
       "            (dense): Linear(in_features=768, out_features=768, bias=True)\n",
       "            (LayerNorm): LayerNorm((768,), eps=1e-12, elementwise_affine=True)\n",
       "            (dropout): Dropout(p=0.1, inplace=False)\n",
       "          )\n",
       "        )\n",
       "        (intermediate): BertIntermediate(\n",
       "          (dense): Linear(in_features=768, out_features=3072, bias=True)\n",
       "          (intermediate_act_fn): GELUActivation()\n",
       "        )\n",
       "        (output): BertOutput(\n",
       "          (dense): Linear(in_features=3072, out_features=768, bias=True)\n",
       "          (LayerNorm): LayerNorm((768,), eps=1e-12, elementwise_affine=True)\n",
       "          (dropout): Dropout(p=0.1, inplace=False)\n",
       "        )\n",
       "      )\n",
       "    )\n",
       "  )\n",
       "  (pooler): BertPooler(\n",
       "    (dense): Linear(in_features=768, out_features=768, bias=True)\n",
       "    (activation): Tanh()\n",
       "  )\n",
       ")"
      ]
     },
     "execution_count": 14,
     "metadata": {},
     "output_type": "execute_result"
    }
   ],
   "source": [
    "from transformers import BertTokenizer, BertModel, BertConfig\n",
    "import torch\n",
    "\n",
    "device = 'cuda:0'\n",
    "\n",
    "config = BertConfig.from_pretrained(\"bert-base-uncased\", output_hidden_states=True)\n",
    "bert_tokenizer = BertTokenizer.from_pretrained(\"bert-base-uncased\")\n",
    "bert_model = BertModel.from_pretrained(\"bert-base-uncased\", config=config)\n",
    "bert_model = bert_model.to(device)\n",
    "bert_model.eval()\n",
    "\n",
    "# config = BertConfig.from_pretrained(\"bert-large-uncased\", output_hidden_states=True)\n",
    "# bertlarge_tokenizer = BertTokenizer.from_pretrained(\"bert-large-uncased\")\n",
    "# bertlarge_model = BertModel.from_pretrained(\"bert-large-uncased\", config=config)\n",
    "# bertlarge_model = bertlarge_model.to(device)\n",
    "# bertlarge_model.eval()"
   ]
  },
  {
   "cell_type": "markdown",
   "id": "2ff3ebae",
   "metadata": {},
   "source": [
    "#### load RoBERTa"
   ]
  },
  {
   "cell_type": "code",
   "execution_count": 15,
   "id": "8c1fe106",
   "metadata": {},
   "outputs": [
    {
     "name": "stderr",
     "output_type": "stream",
     "text": [
      "Some weights of the model checkpoint at roberta-base were not used when initializing RobertaModel: ['lm_head.dense.bias', 'lm_head.decoder.weight', 'lm_head.dense.weight', 'lm_head.bias', 'lm_head.layer_norm.bias', 'lm_head.layer_norm.weight']\n",
      "- This IS expected if you are initializing RobertaModel from the checkpoint of a model trained on another task or with another architecture (e.g. initializing a BertForSequenceClassification model from a BertForPreTraining model).\n",
      "- This IS NOT expected if you are initializing RobertaModel from the checkpoint of a model that you expect to be exactly identical (initializing a BertForSequenceClassification model from a BertForSequenceClassification model).\n"
     ]
    },
    {
     "name": "stdout",
     "output_type": "stream",
     "text": [
      "CPU times: user 1.52 s, sys: 449 ms, total: 1.96 s\n",
      "Wall time: 2.34 s\n"
     ]
    },
    {
     "data": {
      "text/plain": [
       "RobertaModel(\n",
       "  (embeddings): RobertaEmbeddings(\n",
       "    (word_embeddings): Embedding(50265, 768, padding_idx=1)\n",
       "    (position_embeddings): Embedding(514, 768, padding_idx=1)\n",
       "    (token_type_embeddings): Embedding(1, 768)\n",
       "    (LayerNorm): LayerNorm((768,), eps=1e-05, elementwise_affine=True)\n",
       "    (dropout): Dropout(p=0.1, inplace=False)\n",
       "  )\n",
       "  (encoder): RobertaEncoder(\n",
       "    (layer): ModuleList(\n",
       "      (0): RobertaLayer(\n",
       "        (attention): RobertaAttention(\n",
       "          (self): RobertaSelfAttention(\n",
       "            (query): Linear(in_features=768, out_features=768, bias=True)\n",
       "            (key): Linear(in_features=768, out_features=768, bias=True)\n",
       "            (value): Linear(in_features=768, out_features=768, bias=True)\n",
       "            (dropout): Dropout(p=0.1, inplace=False)\n",
       "          )\n",
       "          (output): RobertaSelfOutput(\n",
       "            (dense): Linear(in_features=768, out_features=768, bias=True)\n",
       "            (LayerNorm): LayerNorm((768,), eps=1e-05, elementwise_affine=True)\n",
       "            (dropout): Dropout(p=0.1, inplace=False)\n",
       "          )\n",
       "        )\n",
       "        (intermediate): RobertaIntermediate(\n",
       "          (dense): Linear(in_features=768, out_features=3072, bias=True)\n",
       "          (intermediate_act_fn): GELUActivation()\n",
       "        )\n",
       "        (output): RobertaOutput(\n",
       "          (dense): Linear(in_features=3072, out_features=768, bias=True)\n",
       "          (LayerNorm): LayerNorm((768,), eps=1e-05, elementwise_affine=True)\n",
       "          (dropout): Dropout(p=0.1, inplace=False)\n",
       "        )\n",
       "      )\n",
       "      (1): RobertaLayer(\n",
       "        (attention): RobertaAttention(\n",
       "          (self): RobertaSelfAttention(\n",
       "            (query): Linear(in_features=768, out_features=768, bias=True)\n",
       "            (key): Linear(in_features=768, out_features=768, bias=True)\n",
       "            (value): Linear(in_features=768, out_features=768, bias=True)\n",
       "            (dropout): Dropout(p=0.1, inplace=False)\n",
       "          )\n",
       "          (output): RobertaSelfOutput(\n",
       "            (dense): Linear(in_features=768, out_features=768, bias=True)\n",
       "            (LayerNorm): LayerNorm((768,), eps=1e-05, elementwise_affine=True)\n",
       "            (dropout): Dropout(p=0.1, inplace=False)\n",
       "          )\n",
       "        )\n",
       "        (intermediate): RobertaIntermediate(\n",
       "          (dense): Linear(in_features=768, out_features=3072, bias=True)\n",
       "          (intermediate_act_fn): GELUActivation()\n",
       "        )\n",
       "        (output): RobertaOutput(\n",
       "          (dense): Linear(in_features=3072, out_features=768, bias=True)\n",
       "          (LayerNorm): LayerNorm((768,), eps=1e-05, elementwise_affine=True)\n",
       "          (dropout): Dropout(p=0.1, inplace=False)\n",
       "        )\n",
       "      )\n",
       "      (2): RobertaLayer(\n",
       "        (attention): RobertaAttention(\n",
       "          (self): RobertaSelfAttention(\n",
       "            (query): Linear(in_features=768, out_features=768, bias=True)\n",
       "            (key): Linear(in_features=768, out_features=768, bias=True)\n",
       "            (value): Linear(in_features=768, out_features=768, bias=True)\n",
       "            (dropout): Dropout(p=0.1, inplace=False)\n",
       "          )\n",
       "          (output): RobertaSelfOutput(\n",
       "            (dense): Linear(in_features=768, out_features=768, bias=True)\n",
       "            (LayerNorm): LayerNorm((768,), eps=1e-05, elementwise_affine=True)\n",
       "            (dropout): Dropout(p=0.1, inplace=False)\n",
       "          )\n",
       "        )\n",
       "        (intermediate): RobertaIntermediate(\n",
       "          (dense): Linear(in_features=768, out_features=3072, bias=True)\n",
       "          (intermediate_act_fn): GELUActivation()\n",
       "        )\n",
       "        (output): RobertaOutput(\n",
       "          (dense): Linear(in_features=3072, out_features=768, bias=True)\n",
       "          (LayerNorm): LayerNorm((768,), eps=1e-05, elementwise_affine=True)\n",
       "          (dropout): Dropout(p=0.1, inplace=False)\n",
       "        )\n",
       "      )\n",
       "      (3): RobertaLayer(\n",
       "        (attention): RobertaAttention(\n",
       "          (self): RobertaSelfAttention(\n",
       "            (query): Linear(in_features=768, out_features=768, bias=True)\n",
       "            (key): Linear(in_features=768, out_features=768, bias=True)\n",
       "            (value): Linear(in_features=768, out_features=768, bias=True)\n",
       "            (dropout): Dropout(p=0.1, inplace=False)\n",
       "          )\n",
       "          (output): RobertaSelfOutput(\n",
       "            (dense): Linear(in_features=768, out_features=768, bias=True)\n",
       "            (LayerNorm): LayerNorm((768,), eps=1e-05, elementwise_affine=True)\n",
       "            (dropout): Dropout(p=0.1, inplace=False)\n",
       "          )\n",
       "        )\n",
       "        (intermediate): RobertaIntermediate(\n",
       "          (dense): Linear(in_features=768, out_features=3072, bias=True)\n",
       "          (intermediate_act_fn): GELUActivation()\n",
       "        )\n",
       "        (output): RobertaOutput(\n",
       "          (dense): Linear(in_features=3072, out_features=768, bias=True)\n",
       "          (LayerNorm): LayerNorm((768,), eps=1e-05, elementwise_affine=True)\n",
       "          (dropout): Dropout(p=0.1, inplace=False)\n",
       "        )\n",
       "      )\n",
       "      (4): RobertaLayer(\n",
       "        (attention): RobertaAttention(\n",
       "          (self): RobertaSelfAttention(\n",
       "            (query): Linear(in_features=768, out_features=768, bias=True)\n",
       "            (key): Linear(in_features=768, out_features=768, bias=True)\n",
       "            (value): Linear(in_features=768, out_features=768, bias=True)\n",
       "            (dropout): Dropout(p=0.1, inplace=False)\n",
       "          )\n",
       "          (output): RobertaSelfOutput(\n",
       "            (dense): Linear(in_features=768, out_features=768, bias=True)\n",
       "            (LayerNorm): LayerNorm((768,), eps=1e-05, elementwise_affine=True)\n",
       "            (dropout): Dropout(p=0.1, inplace=False)\n",
       "          )\n",
       "        )\n",
       "        (intermediate): RobertaIntermediate(\n",
       "          (dense): Linear(in_features=768, out_features=3072, bias=True)\n",
       "          (intermediate_act_fn): GELUActivation()\n",
       "        )\n",
       "        (output): RobertaOutput(\n",
       "          (dense): Linear(in_features=3072, out_features=768, bias=True)\n",
       "          (LayerNorm): LayerNorm((768,), eps=1e-05, elementwise_affine=True)\n",
       "          (dropout): Dropout(p=0.1, inplace=False)\n",
       "        )\n",
       "      )\n",
       "      (5): RobertaLayer(\n",
       "        (attention): RobertaAttention(\n",
       "          (self): RobertaSelfAttention(\n",
       "            (query): Linear(in_features=768, out_features=768, bias=True)\n",
       "            (key): Linear(in_features=768, out_features=768, bias=True)\n",
       "            (value): Linear(in_features=768, out_features=768, bias=True)\n",
       "            (dropout): Dropout(p=0.1, inplace=False)\n",
       "          )\n",
       "          (output): RobertaSelfOutput(\n",
       "            (dense): Linear(in_features=768, out_features=768, bias=True)\n",
       "            (LayerNorm): LayerNorm((768,), eps=1e-05, elementwise_affine=True)\n",
       "            (dropout): Dropout(p=0.1, inplace=False)\n",
       "          )\n",
       "        )\n",
       "        (intermediate): RobertaIntermediate(\n",
       "          (dense): Linear(in_features=768, out_features=3072, bias=True)\n",
       "          (intermediate_act_fn): GELUActivation()\n",
       "        )\n",
       "        (output): RobertaOutput(\n",
       "          (dense): Linear(in_features=3072, out_features=768, bias=True)\n",
       "          (LayerNorm): LayerNorm((768,), eps=1e-05, elementwise_affine=True)\n",
       "          (dropout): Dropout(p=0.1, inplace=False)\n",
       "        )\n",
       "      )\n",
       "      (6): RobertaLayer(\n",
       "        (attention): RobertaAttention(\n",
       "          (self): RobertaSelfAttention(\n",
       "            (query): Linear(in_features=768, out_features=768, bias=True)\n",
       "            (key): Linear(in_features=768, out_features=768, bias=True)\n",
       "            (value): Linear(in_features=768, out_features=768, bias=True)\n",
       "            (dropout): Dropout(p=0.1, inplace=False)\n",
       "          )\n",
       "          (output): RobertaSelfOutput(\n",
       "            (dense): Linear(in_features=768, out_features=768, bias=True)\n",
       "            (LayerNorm): LayerNorm((768,), eps=1e-05, elementwise_affine=True)\n",
       "            (dropout): Dropout(p=0.1, inplace=False)\n",
       "          )\n",
       "        )\n",
       "        (intermediate): RobertaIntermediate(\n",
       "          (dense): Linear(in_features=768, out_features=3072, bias=True)\n",
       "          (intermediate_act_fn): GELUActivation()\n",
       "        )\n",
       "        (output): RobertaOutput(\n",
       "          (dense): Linear(in_features=3072, out_features=768, bias=True)\n",
       "          (LayerNorm): LayerNorm((768,), eps=1e-05, elementwise_affine=True)\n",
       "          (dropout): Dropout(p=0.1, inplace=False)\n",
       "        )\n",
       "      )\n",
       "      (7): RobertaLayer(\n",
       "        (attention): RobertaAttention(\n",
       "          (self): RobertaSelfAttention(\n",
       "            (query): Linear(in_features=768, out_features=768, bias=True)\n",
       "            (key): Linear(in_features=768, out_features=768, bias=True)\n",
       "            (value): Linear(in_features=768, out_features=768, bias=True)\n",
       "            (dropout): Dropout(p=0.1, inplace=False)\n",
       "          )\n",
       "          (output): RobertaSelfOutput(\n",
       "            (dense): Linear(in_features=768, out_features=768, bias=True)\n",
       "            (LayerNorm): LayerNorm((768,), eps=1e-05, elementwise_affine=True)\n",
       "            (dropout): Dropout(p=0.1, inplace=False)\n",
       "          )\n",
       "        )\n",
       "        (intermediate): RobertaIntermediate(\n",
       "          (dense): Linear(in_features=768, out_features=3072, bias=True)\n",
       "          (intermediate_act_fn): GELUActivation()\n",
       "        )\n",
       "        (output): RobertaOutput(\n",
       "          (dense): Linear(in_features=3072, out_features=768, bias=True)\n",
       "          (LayerNorm): LayerNorm((768,), eps=1e-05, elementwise_affine=True)\n",
       "          (dropout): Dropout(p=0.1, inplace=False)\n",
       "        )\n",
       "      )\n",
       "      (8): RobertaLayer(\n",
       "        (attention): RobertaAttention(\n",
       "          (self): RobertaSelfAttention(\n",
       "            (query): Linear(in_features=768, out_features=768, bias=True)\n",
       "            (key): Linear(in_features=768, out_features=768, bias=True)\n",
       "            (value): Linear(in_features=768, out_features=768, bias=True)\n",
       "            (dropout): Dropout(p=0.1, inplace=False)\n",
       "          )\n",
       "          (output): RobertaSelfOutput(\n",
       "            (dense): Linear(in_features=768, out_features=768, bias=True)\n",
       "            (LayerNorm): LayerNorm((768,), eps=1e-05, elementwise_affine=True)\n",
       "            (dropout): Dropout(p=0.1, inplace=False)\n",
       "          )\n",
       "        )\n",
       "        (intermediate): RobertaIntermediate(\n",
       "          (dense): Linear(in_features=768, out_features=3072, bias=True)\n",
       "          (intermediate_act_fn): GELUActivation()\n",
       "        )\n",
       "        (output): RobertaOutput(\n",
       "          (dense): Linear(in_features=3072, out_features=768, bias=True)\n",
       "          (LayerNorm): LayerNorm((768,), eps=1e-05, elementwise_affine=True)\n",
       "          (dropout): Dropout(p=0.1, inplace=False)\n",
       "        )\n",
       "      )\n",
       "      (9): RobertaLayer(\n",
       "        (attention): RobertaAttention(\n",
       "          (self): RobertaSelfAttention(\n",
       "            (query): Linear(in_features=768, out_features=768, bias=True)\n",
       "            (key): Linear(in_features=768, out_features=768, bias=True)\n",
       "            (value): Linear(in_features=768, out_features=768, bias=True)\n",
       "            (dropout): Dropout(p=0.1, inplace=False)\n",
       "          )\n",
       "          (output): RobertaSelfOutput(\n",
       "            (dense): Linear(in_features=768, out_features=768, bias=True)\n",
       "            (LayerNorm): LayerNorm((768,), eps=1e-05, elementwise_affine=True)\n",
       "            (dropout): Dropout(p=0.1, inplace=False)\n",
       "          )\n",
       "        )\n",
       "        (intermediate): RobertaIntermediate(\n",
       "          (dense): Linear(in_features=768, out_features=3072, bias=True)\n",
       "          (intermediate_act_fn): GELUActivation()\n",
       "        )\n",
       "        (output): RobertaOutput(\n",
       "          (dense): Linear(in_features=3072, out_features=768, bias=True)\n",
       "          (LayerNorm): LayerNorm((768,), eps=1e-05, elementwise_affine=True)\n",
       "          (dropout): Dropout(p=0.1, inplace=False)\n",
       "        )\n",
       "      )\n",
       "      (10): RobertaLayer(\n",
       "        (attention): RobertaAttention(\n",
       "          (self): RobertaSelfAttention(\n",
       "            (query): Linear(in_features=768, out_features=768, bias=True)\n",
       "            (key): Linear(in_features=768, out_features=768, bias=True)\n",
       "            (value): Linear(in_features=768, out_features=768, bias=True)\n",
       "            (dropout): Dropout(p=0.1, inplace=False)\n",
       "          )\n",
       "          (output): RobertaSelfOutput(\n",
       "            (dense): Linear(in_features=768, out_features=768, bias=True)\n",
       "            (LayerNorm): LayerNorm((768,), eps=1e-05, elementwise_affine=True)\n",
       "            (dropout): Dropout(p=0.1, inplace=False)\n",
       "          )\n",
       "        )\n",
       "        (intermediate): RobertaIntermediate(\n",
       "          (dense): Linear(in_features=768, out_features=3072, bias=True)\n",
       "          (intermediate_act_fn): GELUActivation()\n",
       "        )\n",
       "        (output): RobertaOutput(\n",
       "          (dense): Linear(in_features=3072, out_features=768, bias=True)\n",
       "          (LayerNorm): LayerNorm((768,), eps=1e-05, elementwise_affine=True)\n",
       "          (dropout): Dropout(p=0.1, inplace=False)\n",
       "        )\n",
       "      )\n",
       "      (11): RobertaLayer(\n",
       "        (attention): RobertaAttention(\n",
       "          (self): RobertaSelfAttention(\n",
       "            (query): Linear(in_features=768, out_features=768, bias=True)\n",
       "            (key): Linear(in_features=768, out_features=768, bias=True)\n",
       "            (value): Linear(in_features=768, out_features=768, bias=True)\n",
       "            (dropout): Dropout(p=0.1, inplace=False)\n",
       "          )\n",
       "          (output): RobertaSelfOutput(\n",
       "            (dense): Linear(in_features=768, out_features=768, bias=True)\n",
       "            (LayerNorm): LayerNorm((768,), eps=1e-05, elementwise_affine=True)\n",
       "            (dropout): Dropout(p=0.1, inplace=False)\n",
       "          )\n",
       "        )\n",
       "        (intermediate): RobertaIntermediate(\n",
       "          (dense): Linear(in_features=768, out_features=3072, bias=True)\n",
       "          (intermediate_act_fn): GELUActivation()\n",
       "        )\n",
       "        (output): RobertaOutput(\n",
       "          (dense): Linear(in_features=3072, out_features=768, bias=True)\n",
       "          (LayerNorm): LayerNorm((768,), eps=1e-05, elementwise_affine=True)\n",
       "          (dropout): Dropout(p=0.1, inplace=False)\n",
       "        )\n",
       "      )\n",
       "    )\n",
       "  )\n",
       "  (pooler): RobertaPooler(\n",
       "    (dense): Linear(in_features=768, out_features=768, bias=True)\n",
       "    (activation): Tanh()\n",
       "  )\n",
       ")"
      ]
     },
     "execution_count": 15,
     "metadata": {},
     "output_type": "execute_result"
    }
   ],
   "source": [
    "%%time\n",
    "\n",
    "from sentence_transformers import SentenceTransformer, models, util\n",
    "from transformers import AutoTokenizer, AutoModel\n",
    "\n",
    "\n",
    "device = 'cuda:0'\n",
    "roberta_model = AutoModel.from_pretrained(\"roberta-base\")\n",
    "roberta_tokenizer = AutoTokenizer.from_pretrained(\"roberta-base\", use_fast=False)\n",
    "\n",
    "roberta_model = roberta_model.to(device)\n",
    "roberta_model.eval()"
   ]
  },
  {
   "cell_type": "markdown",
   "id": "ef9c016c",
   "metadata": {},
   "source": [
    "### load bert fine tuned"
   ]
  },
  {
   "cell_type": "code",
   "execution_count": 16,
   "id": "55c172bd",
   "metadata": {},
   "outputs": [
    {
     "name": "stderr",
     "output_type": "stream",
     "text": [
      "Some weights of the model checkpoint at ./models/bert-ft-mlm-twitter/checkpoint-40612/ were not used when initializing BertModel: ['cls.predictions.decoder.weight', 'cls.predictions.decoder.bias', 'cls.predictions.bias', 'cls.predictions.transform.LayerNorm.bias', 'cls.predictions.transform.LayerNorm.weight', 'cls.predictions.transform.dense.bias', 'cls.predictions.transform.dense.weight']\n",
      "- This IS expected if you are initializing BertModel from the checkpoint of a model trained on another task or with another architecture (e.g. initializing a BertForSequenceClassification model from a BertForPreTraining model).\n",
      "- This IS NOT expected if you are initializing BertModel from the checkpoint of a model that you expect to be exactly identical (initializing a BertForSequenceClassification model from a BertForSequenceClassification model).\n",
      "Some weights of BertModel were not initialized from the model checkpoint at ./models/bert-ft-mlm-twitter/checkpoint-40612/ and are newly initialized: ['bert.pooler.dense.weight', 'bert.pooler.dense.bias']\n",
      "You should probably TRAIN this model on a down-stream task to be able to use it for predictions and inference.\n",
      "Some weights of the model checkpoint at ./models/bert-ft-mlm-wiki/checkpoint-29328/ were not used when initializing BertModel: ['cls.predictions.decoder.weight', 'cls.predictions.decoder.bias', 'cls.predictions.bias', 'cls.predictions.transform.LayerNorm.bias', 'cls.predictions.transform.LayerNorm.weight', 'cls.predictions.transform.dense.bias', 'cls.predictions.transform.dense.weight']\n",
      "- This IS expected if you are initializing BertModel from the checkpoint of a model trained on another task or with another architecture (e.g. initializing a BertForSequenceClassification model from a BertForPreTraining model).\n",
      "- This IS NOT expected if you are initializing BertModel from the checkpoint of a model that you expect to be exactly identical (initializing a BertForSequenceClassification model from a BertForSequenceClassification model).\n",
      "Some weights of BertModel were not initialized from the model checkpoint at ./models/bert-ft-mlm-wiki/checkpoint-29328/ and are newly initialized: ['bert.pooler.dense.weight', 'bert.pooler.dense.bias']\n",
      "You should probably TRAIN this model on a down-stream task to be able to use it for predictions and inference.\n"
     ]
    },
    {
     "name": "stdout",
     "output_type": "stream",
     "text": [
      "CPU times: user 2.7 s, sys: 684 ms, total: 3.38 s\n",
      "Wall time: 2.11 s\n"
     ]
    },
    {
     "data": {
      "text/plain": [
       "BertModel(\n",
       "  (embeddings): BertEmbeddings(\n",
       "    (word_embeddings): Embedding(30522, 768, padding_idx=0)\n",
       "    (position_embeddings): Embedding(512, 768)\n",
       "    (token_type_embeddings): Embedding(2, 768)\n",
       "    (LayerNorm): LayerNorm((768,), eps=1e-12, elementwise_affine=True)\n",
       "    (dropout): Dropout(p=0.1, inplace=False)\n",
       "  )\n",
       "  (encoder): BertEncoder(\n",
       "    (layer): ModuleList(\n",
       "      (0): BertLayer(\n",
       "        (attention): BertAttention(\n",
       "          (self): BertSelfAttention(\n",
       "            (query): Linear(in_features=768, out_features=768, bias=True)\n",
       "            (key): Linear(in_features=768, out_features=768, bias=True)\n",
       "            (value): Linear(in_features=768, out_features=768, bias=True)\n",
       "            (dropout): Dropout(p=0.1, inplace=False)\n",
       "          )\n",
       "          (output): BertSelfOutput(\n",
       "            (dense): Linear(in_features=768, out_features=768, bias=True)\n",
       "            (LayerNorm): LayerNorm((768,), eps=1e-12, elementwise_affine=True)\n",
       "            (dropout): Dropout(p=0.1, inplace=False)\n",
       "          )\n",
       "        )\n",
       "        (intermediate): BertIntermediate(\n",
       "          (dense): Linear(in_features=768, out_features=3072, bias=True)\n",
       "          (intermediate_act_fn): GELUActivation()\n",
       "        )\n",
       "        (output): BertOutput(\n",
       "          (dense): Linear(in_features=3072, out_features=768, bias=True)\n",
       "          (LayerNorm): LayerNorm((768,), eps=1e-12, elementwise_affine=True)\n",
       "          (dropout): Dropout(p=0.1, inplace=False)\n",
       "        )\n",
       "      )\n",
       "      (1): BertLayer(\n",
       "        (attention): BertAttention(\n",
       "          (self): BertSelfAttention(\n",
       "            (query): Linear(in_features=768, out_features=768, bias=True)\n",
       "            (key): Linear(in_features=768, out_features=768, bias=True)\n",
       "            (value): Linear(in_features=768, out_features=768, bias=True)\n",
       "            (dropout): Dropout(p=0.1, inplace=False)\n",
       "          )\n",
       "          (output): BertSelfOutput(\n",
       "            (dense): Linear(in_features=768, out_features=768, bias=True)\n",
       "            (LayerNorm): LayerNorm((768,), eps=1e-12, elementwise_affine=True)\n",
       "            (dropout): Dropout(p=0.1, inplace=False)\n",
       "          )\n",
       "        )\n",
       "        (intermediate): BertIntermediate(\n",
       "          (dense): Linear(in_features=768, out_features=3072, bias=True)\n",
       "          (intermediate_act_fn): GELUActivation()\n",
       "        )\n",
       "        (output): BertOutput(\n",
       "          (dense): Linear(in_features=3072, out_features=768, bias=True)\n",
       "          (LayerNorm): LayerNorm((768,), eps=1e-12, elementwise_affine=True)\n",
       "          (dropout): Dropout(p=0.1, inplace=False)\n",
       "        )\n",
       "      )\n",
       "      (2): BertLayer(\n",
       "        (attention): BertAttention(\n",
       "          (self): BertSelfAttention(\n",
       "            (query): Linear(in_features=768, out_features=768, bias=True)\n",
       "            (key): Linear(in_features=768, out_features=768, bias=True)\n",
       "            (value): Linear(in_features=768, out_features=768, bias=True)\n",
       "            (dropout): Dropout(p=0.1, inplace=False)\n",
       "          )\n",
       "          (output): BertSelfOutput(\n",
       "            (dense): Linear(in_features=768, out_features=768, bias=True)\n",
       "            (LayerNorm): LayerNorm((768,), eps=1e-12, elementwise_affine=True)\n",
       "            (dropout): Dropout(p=0.1, inplace=False)\n",
       "          )\n",
       "        )\n",
       "        (intermediate): BertIntermediate(\n",
       "          (dense): Linear(in_features=768, out_features=3072, bias=True)\n",
       "          (intermediate_act_fn): GELUActivation()\n",
       "        )\n",
       "        (output): BertOutput(\n",
       "          (dense): Linear(in_features=3072, out_features=768, bias=True)\n",
       "          (LayerNorm): LayerNorm((768,), eps=1e-12, elementwise_affine=True)\n",
       "          (dropout): Dropout(p=0.1, inplace=False)\n",
       "        )\n",
       "      )\n",
       "      (3): BertLayer(\n",
       "        (attention): BertAttention(\n",
       "          (self): BertSelfAttention(\n",
       "            (query): Linear(in_features=768, out_features=768, bias=True)\n",
       "            (key): Linear(in_features=768, out_features=768, bias=True)\n",
       "            (value): Linear(in_features=768, out_features=768, bias=True)\n",
       "            (dropout): Dropout(p=0.1, inplace=False)\n",
       "          )\n",
       "          (output): BertSelfOutput(\n",
       "            (dense): Linear(in_features=768, out_features=768, bias=True)\n",
       "            (LayerNorm): LayerNorm((768,), eps=1e-12, elementwise_affine=True)\n",
       "            (dropout): Dropout(p=0.1, inplace=False)\n",
       "          )\n",
       "        )\n",
       "        (intermediate): BertIntermediate(\n",
       "          (dense): Linear(in_features=768, out_features=3072, bias=True)\n",
       "          (intermediate_act_fn): GELUActivation()\n",
       "        )\n",
       "        (output): BertOutput(\n",
       "          (dense): Linear(in_features=3072, out_features=768, bias=True)\n",
       "          (LayerNorm): LayerNorm((768,), eps=1e-12, elementwise_affine=True)\n",
       "          (dropout): Dropout(p=0.1, inplace=False)\n",
       "        )\n",
       "      )\n",
       "      (4): BertLayer(\n",
       "        (attention): BertAttention(\n",
       "          (self): BertSelfAttention(\n",
       "            (query): Linear(in_features=768, out_features=768, bias=True)\n",
       "            (key): Linear(in_features=768, out_features=768, bias=True)\n",
       "            (value): Linear(in_features=768, out_features=768, bias=True)\n",
       "            (dropout): Dropout(p=0.1, inplace=False)\n",
       "          )\n",
       "          (output): BertSelfOutput(\n",
       "            (dense): Linear(in_features=768, out_features=768, bias=True)\n",
       "            (LayerNorm): LayerNorm((768,), eps=1e-12, elementwise_affine=True)\n",
       "            (dropout): Dropout(p=0.1, inplace=False)\n",
       "          )\n",
       "        )\n",
       "        (intermediate): BertIntermediate(\n",
       "          (dense): Linear(in_features=768, out_features=3072, bias=True)\n",
       "          (intermediate_act_fn): GELUActivation()\n",
       "        )\n",
       "        (output): BertOutput(\n",
       "          (dense): Linear(in_features=3072, out_features=768, bias=True)\n",
       "          (LayerNorm): LayerNorm((768,), eps=1e-12, elementwise_affine=True)\n",
       "          (dropout): Dropout(p=0.1, inplace=False)\n",
       "        )\n",
       "      )\n",
       "      (5): BertLayer(\n",
       "        (attention): BertAttention(\n",
       "          (self): BertSelfAttention(\n",
       "            (query): Linear(in_features=768, out_features=768, bias=True)\n",
       "            (key): Linear(in_features=768, out_features=768, bias=True)\n",
       "            (value): Linear(in_features=768, out_features=768, bias=True)\n",
       "            (dropout): Dropout(p=0.1, inplace=False)\n",
       "          )\n",
       "          (output): BertSelfOutput(\n",
       "            (dense): Linear(in_features=768, out_features=768, bias=True)\n",
       "            (LayerNorm): LayerNorm((768,), eps=1e-12, elementwise_affine=True)\n",
       "            (dropout): Dropout(p=0.1, inplace=False)\n",
       "          )\n",
       "        )\n",
       "        (intermediate): BertIntermediate(\n",
       "          (dense): Linear(in_features=768, out_features=3072, bias=True)\n",
       "          (intermediate_act_fn): GELUActivation()\n",
       "        )\n",
       "        (output): BertOutput(\n",
       "          (dense): Linear(in_features=3072, out_features=768, bias=True)\n",
       "          (LayerNorm): LayerNorm((768,), eps=1e-12, elementwise_affine=True)\n",
       "          (dropout): Dropout(p=0.1, inplace=False)\n",
       "        )\n",
       "      )\n",
       "      (6): BertLayer(\n",
       "        (attention): BertAttention(\n",
       "          (self): BertSelfAttention(\n",
       "            (query): Linear(in_features=768, out_features=768, bias=True)\n",
       "            (key): Linear(in_features=768, out_features=768, bias=True)\n",
       "            (value): Linear(in_features=768, out_features=768, bias=True)\n",
       "            (dropout): Dropout(p=0.1, inplace=False)\n",
       "          )\n",
       "          (output): BertSelfOutput(\n",
       "            (dense): Linear(in_features=768, out_features=768, bias=True)\n",
       "            (LayerNorm): LayerNorm((768,), eps=1e-12, elementwise_affine=True)\n",
       "            (dropout): Dropout(p=0.1, inplace=False)\n",
       "          )\n",
       "        )\n",
       "        (intermediate): BertIntermediate(\n",
       "          (dense): Linear(in_features=768, out_features=3072, bias=True)\n",
       "          (intermediate_act_fn): GELUActivation()\n",
       "        )\n",
       "        (output): BertOutput(\n",
       "          (dense): Linear(in_features=3072, out_features=768, bias=True)\n",
       "          (LayerNorm): LayerNorm((768,), eps=1e-12, elementwise_affine=True)\n",
       "          (dropout): Dropout(p=0.1, inplace=False)\n",
       "        )\n",
       "      )\n",
       "      (7): BertLayer(\n",
       "        (attention): BertAttention(\n",
       "          (self): BertSelfAttention(\n",
       "            (query): Linear(in_features=768, out_features=768, bias=True)\n",
       "            (key): Linear(in_features=768, out_features=768, bias=True)\n",
       "            (value): Linear(in_features=768, out_features=768, bias=True)\n",
       "            (dropout): Dropout(p=0.1, inplace=False)\n",
       "          )\n",
       "          (output): BertSelfOutput(\n",
       "            (dense): Linear(in_features=768, out_features=768, bias=True)\n",
       "            (LayerNorm): LayerNorm((768,), eps=1e-12, elementwise_affine=True)\n",
       "            (dropout): Dropout(p=0.1, inplace=False)\n",
       "          )\n",
       "        )\n",
       "        (intermediate): BertIntermediate(\n",
       "          (dense): Linear(in_features=768, out_features=3072, bias=True)\n",
       "          (intermediate_act_fn): GELUActivation()\n",
       "        )\n",
       "        (output): BertOutput(\n",
       "          (dense): Linear(in_features=3072, out_features=768, bias=True)\n",
       "          (LayerNorm): LayerNorm((768,), eps=1e-12, elementwise_affine=True)\n",
       "          (dropout): Dropout(p=0.1, inplace=False)\n",
       "        )\n",
       "      )\n",
       "      (8): BertLayer(\n",
       "        (attention): BertAttention(\n",
       "          (self): BertSelfAttention(\n",
       "            (query): Linear(in_features=768, out_features=768, bias=True)\n",
       "            (key): Linear(in_features=768, out_features=768, bias=True)\n",
       "            (value): Linear(in_features=768, out_features=768, bias=True)\n",
       "            (dropout): Dropout(p=0.1, inplace=False)\n",
       "          )\n",
       "          (output): BertSelfOutput(\n",
       "            (dense): Linear(in_features=768, out_features=768, bias=True)\n",
       "            (LayerNorm): LayerNorm((768,), eps=1e-12, elementwise_affine=True)\n",
       "            (dropout): Dropout(p=0.1, inplace=False)\n",
       "          )\n",
       "        )\n",
       "        (intermediate): BertIntermediate(\n",
       "          (dense): Linear(in_features=768, out_features=3072, bias=True)\n",
       "          (intermediate_act_fn): GELUActivation()\n",
       "        )\n",
       "        (output): BertOutput(\n",
       "          (dense): Linear(in_features=3072, out_features=768, bias=True)\n",
       "          (LayerNorm): LayerNorm((768,), eps=1e-12, elementwise_affine=True)\n",
       "          (dropout): Dropout(p=0.1, inplace=False)\n",
       "        )\n",
       "      )\n",
       "      (9): BertLayer(\n",
       "        (attention): BertAttention(\n",
       "          (self): BertSelfAttention(\n",
       "            (query): Linear(in_features=768, out_features=768, bias=True)\n",
       "            (key): Linear(in_features=768, out_features=768, bias=True)\n",
       "            (value): Linear(in_features=768, out_features=768, bias=True)\n",
       "            (dropout): Dropout(p=0.1, inplace=False)\n",
       "          )\n",
       "          (output): BertSelfOutput(\n",
       "            (dense): Linear(in_features=768, out_features=768, bias=True)\n",
       "            (LayerNorm): LayerNorm((768,), eps=1e-12, elementwise_affine=True)\n",
       "            (dropout): Dropout(p=0.1, inplace=False)\n",
       "          )\n",
       "        )\n",
       "        (intermediate): BertIntermediate(\n",
       "          (dense): Linear(in_features=768, out_features=3072, bias=True)\n",
       "          (intermediate_act_fn): GELUActivation()\n",
       "        )\n",
       "        (output): BertOutput(\n",
       "          (dense): Linear(in_features=3072, out_features=768, bias=True)\n",
       "          (LayerNorm): LayerNorm((768,), eps=1e-12, elementwise_affine=True)\n",
       "          (dropout): Dropout(p=0.1, inplace=False)\n",
       "        )\n",
       "      )\n",
       "      (10): BertLayer(\n",
       "        (attention): BertAttention(\n",
       "          (self): BertSelfAttention(\n",
       "            (query): Linear(in_features=768, out_features=768, bias=True)\n",
       "            (key): Linear(in_features=768, out_features=768, bias=True)\n",
       "            (value): Linear(in_features=768, out_features=768, bias=True)\n",
       "            (dropout): Dropout(p=0.1, inplace=False)\n",
       "          )\n",
       "          (output): BertSelfOutput(\n",
       "            (dense): Linear(in_features=768, out_features=768, bias=True)\n",
       "            (LayerNorm): LayerNorm((768,), eps=1e-12, elementwise_affine=True)\n",
       "            (dropout): Dropout(p=0.1, inplace=False)\n",
       "          )\n",
       "        )\n",
       "        (intermediate): BertIntermediate(\n",
       "          (dense): Linear(in_features=768, out_features=3072, bias=True)\n",
       "          (intermediate_act_fn): GELUActivation()\n",
       "        )\n",
       "        (output): BertOutput(\n",
       "          (dense): Linear(in_features=3072, out_features=768, bias=True)\n",
       "          (LayerNorm): LayerNorm((768,), eps=1e-12, elementwise_affine=True)\n",
       "          (dropout): Dropout(p=0.1, inplace=False)\n",
       "        )\n",
       "      )\n",
       "      (11): BertLayer(\n",
       "        (attention): BertAttention(\n",
       "          (self): BertSelfAttention(\n",
       "            (query): Linear(in_features=768, out_features=768, bias=True)\n",
       "            (key): Linear(in_features=768, out_features=768, bias=True)\n",
       "            (value): Linear(in_features=768, out_features=768, bias=True)\n",
       "            (dropout): Dropout(p=0.1, inplace=False)\n",
       "          )\n",
       "          (output): BertSelfOutput(\n",
       "            (dense): Linear(in_features=768, out_features=768, bias=True)\n",
       "            (LayerNorm): LayerNorm((768,), eps=1e-12, elementwise_affine=True)\n",
       "            (dropout): Dropout(p=0.1, inplace=False)\n",
       "          )\n",
       "        )\n",
       "        (intermediate): BertIntermediate(\n",
       "          (dense): Linear(in_features=768, out_features=3072, bias=True)\n",
       "          (intermediate_act_fn): GELUActivation()\n",
       "        )\n",
       "        (output): BertOutput(\n",
       "          (dense): Linear(in_features=3072, out_features=768, bias=True)\n",
       "          (LayerNorm): LayerNorm((768,), eps=1e-12, elementwise_affine=True)\n",
       "          (dropout): Dropout(p=0.1, inplace=False)\n",
       "        )\n",
       "      )\n",
       "    )\n",
       "  )\n",
       "  (pooler): BertPooler(\n",
       "    (dense): Linear(in_features=768, out_features=768, bias=True)\n",
       "    (activation): Tanh()\n",
       "  )\n",
       ")"
      ]
     },
     "execution_count": 16,
     "metadata": {},
     "output_type": "execute_result"
    }
   ],
   "source": [
    "%%time\n",
    "\n",
    "from sentence_transformers import SentenceTransformer, models, util\n",
    "from transformers import AutoTokenizer, AutoModel\n",
    "\n",
    "\n",
    "device = 'cuda:0'\n",
    "bert_ft_tokenizer = AutoTokenizer.from_pretrained(\"bert-base-uncased\", use_fast=False)\n",
    "# bertlarge_ft_tokenizer = AutoTokenizer.from_pretrained(\"bert-large-uncased\", use_fast=False)\n",
    "\n",
    "bert_ft_twitter_model = AutoModel.from_pretrained(\"./models/bert-ft-mlm-twitter/checkpoint-40612/\")\n",
    "bert_ft_twitter_model = bert_ft_twitter_model.to(device)\n",
    "bert_ft_twitter_model.eval()\n",
    "\n",
    "# bertlarge_ft_twitter_model = AutoModel.from_pretrained(\"./models/bertlarge-ft-mlm-twitter/checkpoint-3904/\")\n",
    "# bertlarge_ft_twitter_model = bertlarge_ft_twitter_model.to(device)\n",
    "# bertlarge_ft_twitter_model.eval()\n",
    "\n",
    "\n",
    "\n",
    "\n",
    "# bert_ft50_twitter_model = AutoModel.from_pretrained(\"./models/bert-ft-mlm-twitter/checkpoint-24992/\")\n",
    "# bert_ft50_twitter_model = bert_ft50_twitter_model.to(device)\n",
    "# bert_ft50_twitter_model.eval()\n",
    "\n",
    "bert_ft_wiki_model = AutoModel.from_pretrained(\"./models/bert-ft-mlm-wiki/checkpoint-29328/\")\n",
    "bert_ft_wiki_model = bert_ft_wiki_model.to(device)\n",
    "bert_ft_wiki_model.eval()\n",
    "\n"
   ]
  },
  {
   "cell_type": "markdown",
   "id": "113917c4",
   "metadata": {},
   "source": [
    "#### load sentenceBERT"
   ]
  },
  {
   "cell_type": "code",
   "execution_count": 17,
   "id": "f532a1fe",
   "metadata": {},
   "outputs": [
    {
     "name": "stderr",
     "output_type": "stream",
     "text": [
      "/projects/academic/kjoseph/navid/anaconda3/envs/py38/lib/python3.8/site-packages/huggingface_hub/file_download.py:588: FutureWarning: `cached_download` is the legacy way to download files from the HF hub, please consider upgrading to `hf_hub_download`\n",
      "  warnings.warn(\n"
     ]
    },
    {
     "name": "stdout",
     "output_type": "stream",
     "text": [
      "CPU times: user 16.2 s, sys: 910 ms, total: 17.1 s\n",
      "Wall time: 3 s\n"
     ]
    },
    {
     "data": {
      "text/plain": [
       "SentenceTransformer(\n",
       "  (0): Transformer({'max_seq_length': 384, 'do_lower_case': False}) with Transformer model: MPNetModel \n",
       "  (1): Pooling({'word_embedding_dimension': 768, 'pooling_mode_cls_token': False, 'pooling_mode_mean_tokens': True, 'pooling_mode_max_tokens': False, 'pooling_mode_mean_sqrt_len_tokens': False})\n",
       "  (2): Normalize()\n",
       ")"
      ]
     },
     "execution_count": 17,
     "metadata": {},
     "output_type": "execute_result"
    }
   ],
   "source": [
    "%%time\n",
    "\n",
    "from sentence_transformers import SentenceTransformer, models, util\n",
    "from transformers import AutoTokenizer, AutoModel\n",
    "\n",
    "device = 'cuda:0'\n",
    "\n",
    "sbert_model = SentenceTransformer('all-mpnet-base-v2', device=device)\n",
    "# sbert_model = SentenceTransformer('all-distilroberta-v1', device=device)\n",
    "# sbert_model = SentenceTransformer('all-MiniLM-L6-v2', device=device)\n",
    "sbert_model.eval()\n"
   ]
  },
  {
   "cell_type": "markdown",
   "id": "371ed213",
   "metadata": {},
   "source": [
    "#### load sentenceBERT fine-tuned"
   ]
  },
  {
   "cell_type": "code",
   "execution_count": 18,
   "id": "15e18e05",
   "metadata": {},
   "outputs": [
    {
     "name": "stdout",
     "output_type": "stream",
     "text": [
      "CPU times: user 4.85 s, sys: 478 ms, total: 5.33 s\n",
      "Wall time: 2.09 s\n"
     ]
    },
    {
     "data": {
      "text/plain": [
       "SentenceTransformer(\n",
       "  (0): Transformer({'max_seq_length': 384, 'do_lower_case': False}) with Transformer model: MPNetModel \n",
       "  (1): Pooling({'word_embedding_dimension': 768, 'pooling_mode_cls_token': False, 'pooling_mode_mean_tokens': True, 'pooling_mode_max_tokens': False, 'pooling_mode_mean_sqrt_len_tokens': False})\n",
       "  (2): Normalize()\n",
       ")"
      ]
     },
     "execution_count": 18,
     "metadata": {},
     "output_type": "execute_result"
    }
   ],
   "source": [
    "%%time\n",
    "\n",
    "from sentence_transformers import SentenceTransformer, models, util\n",
    "from transformers import AutoTokenizer, AutoModel\n",
    "\n",
    "\n",
    "device = 'cuda:0'\n",
    "twitter_ft_sbert = SentenceTransformer('./models/mpnet-twitter-freq100/', device=device)\n",
    "twitter_ft_sbert.eval()\n",
    "\n",
    "# twitter_ft_sbert_10p = SentenceTransformer('./models/distilroberta-twitter-freq100-10p/', device=device)\n",
    "# twitter_ft_sbert_10p.eval()\n",
    "\n",
    "wiki_ft_sbert = SentenceTransformer('./models/mpnet-wiki-freq3/', device=device)\n",
    "wiki_ft_sbert.eval()\n",
    "\n",
    "# wiki_ft_sbert = SentenceTransformer('./models/miniLM-L6-wiki-out256/', device=device)\n",
    "# wiki_ft_sbert.eval()\n",
    "\n",
    "# twitter_ft_sbert = SentenceTransformer('./models/miniLM-L6-twitter-out256/', device=device)\n",
    "# twitter_ft_sbert.eval()\n",
    "\n",
    "# wiki_ft_sbert = SentenceTransformer('./models/miniLM-L6-wiki-out256/', device=device)\n",
    "# wiki_ft_sbert.eval()\n"
   ]
  },
  {
   "cell_type": "markdown",
   "id": "da0033ab",
   "metadata": {
    "heading_collapsed": true
   },
   "source": [
    "## projection model "
   ]
  },
  {
   "cell_type": "markdown",
   "id": "84ac109d",
   "metadata": {
    "hidden": true
   },
   "source": [
    "### define dimensions"
   ]
  },
  {
   "cell_type": "code",
   "execution_count": null,
   "id": "b6eb2ffc",
   "metadata": {
    "hidden": true
   },
   "outputs": [],
   "source": [
    "# measures = [{\n",
    "#     \"group\": \"age\",\n",
    "#     \"names\": ['young', 'old'],\n",
    "#     \"sets\": [['young'], ['old']],\n",
    "#     \"paper\": \"this_short\",\n",
    "#     \"is_paired\": True\n",
    "# }, {\n",
    "#     \"group\":\n",
    "#     \"age\",\n",
    "#     \"names\": ['young', 'old'],\n",
    "#     \"sets\": [['young', 'new', 'youthful', 'young'],\n",
    "#              ['old', 'old', 'elderly', 'aged']],\n",
    "#     \"paper\":\n",
    "#     \"this_long\",\n",
    "#     \"is_paired\":\n",
    "#     True\n",
    "# }, {\n",
    "#     \"group\": \"gender\",\n",
    "#     \"names\": ['woman', 'man'],\n",
    "#     \"sets\": [['female'], ['male']],\n",
    "#     \"paper\": \"this_short\",\n",
    "#     \"is_paired\": True\n",
    "# }, {\n",
    "#     \"group\": \"gender\",\n",
    "#     \"names\": ['woman', 'man'],\n",
    "#     \"sets\": [['she'], ['he']],\n",
    "#     \"paper\": \"gonen\",\n",
    "#     \"is_paired\": True\n",
    "# }, {\n",
    "#     \"group\":\n",
    "#     \"gender\",\n",
    "#     \"names\": ['woman', 'man'],\n",
    "#     \"sets\": [[\n",
    "#         'woman', 'girl', 'she', 'mother', 'daughter', 'gal', 'female', 'her',\n",
    "#         'herself', 'Mary'\n",
    "#     ],\n",
    "#              [\n",
    "#                  'man', 'boy', 'he', 'father', 'son', 'guy', 'male', 'his',\n",
    "#                  'himself', 'John'\n",
    "#              ]],\n",
    "#     \"paper\":\n",
    "#     \"bolukbasi_words\",\n",
    "#     \"is_paired\":\n",
    "#     True\n",
    "# }, {\n",
    "#     \"group\":\n",
    "#     \"gender\",\n",
    "#     \"names\": ['woman', 'man'],\n",
    "#     \"sets\":\n",
    "#     [['amy', 'joan', 'lisa', 'sarah', 'diana', 'kate', 'ann', 'donna'],\n",
    "#      ['john', 'paul', 'mike', 'kevin', 'steve', 'greg', 'jeff', 'bill']],\n",
    "#     \"paper\":\n",
    "#     \"bolukbasi_names\",\n",
    "#     \"is_paired\":\n",
    "#     True\n",
    "# }, {\n",
    "#     \"group\":\n",
    "#     \"gender\",\n",
    "#     \"names\": ['woman', 'man'],\n",
    "#     \"sets\": [[\n",
    "#         'woman', 'women', 'she', 'her', 'her', 'hers', 'girl', 'girls',\n",
    "#         'female', 'feminine'\n",
    "#     ],\n",
    "#              [\n",
    "#                  'man', 'men', 'he', 'him', 'his', 'his', 'boy', 'boys',\n",
    "#                  'male', 'masculine'\n",
    "#              ]],\n",
    "#     \"paper\":\n",
    "#     \"kozlowski\",\n",
    "#     \"is_paired\":\n",
    "#     True\n",
    "# }]\n",
    "\n",
    "\n",
    "# race_ethnicities = ['white', 'latino', 'asian', 'middle eastern', 'black']\n",
    "\n",
    "# measures += [{\n",
    "#     \"sets\": [['white', 'White'], ['hispanic', 'Hispanic', 'latino', 'Latino'],\n",
    "#              ['asian', 'Asian'], ['arab', 'Arab'], ['black', 'Black']],\n",
    "#     \"names\":\n",
    "#     race_ethnicities,\n",
    "#     \"group\":\n",
    "#     \"race_ethnicity\",\n",
    "#     \"paper\":\n",
    "#     \"this_short\",\n",
    "#     \"is_paired\":\n",
    "#     False\n",
    "# }, {\n",
    "#     \"sets\":\n",
    "#     [['white', 'whites', 'White', 'Whites', 'European', 'Caucasian', 'Anglo'],\n",
    "#      [\n",
    "#          'hispanic', 'hispanics', 'Hispanic', 'Hispanics', 'Mexican', 'Latino',\n",
    "#          'Hispanic'\n",
    "#      ],\n",
    "#      ['asian', 'asians', 'Asian', 'Asians', 'Chinese', 'Japanese', 'Korean'],\n",
    "#      ['arab', 'arabs', 'Arab', 'Arabs', 'Muslim', 'Muslim', 'Muslim'],\n",
    "#      ['black', 'blacks', 'Black', 'Blacks', 'African', 'African', 'Afro']],\n",
    "#     \"names\":\n",
    "#     race_ethnicities,\n",
    "#     \"group\":\n",
    "#     \"race_ethnicity\",\n",
    "#     \"paper\":\n",
    "#     \"koslowski\",\n",
    "#     \"is_paired\":\n",
    "#     False\n",
    "# }, {\n",
    "#     \"sets\": [['white', 'whites', 'european', 'caucasian', 'anglo'],\n",
    "#              ['hispanic', 'hispanics', 'mexican', 'latino', 'hispanic'],\n",
    "#              ['asian', 'asians', 'chinese', 'japanese', 'korean'],\n",
    "#              ['arab', 'arabs', 'muslims', 'muslim', 'arab'],\n",
    "#              ['black', 'blacks', 'african', 'african', 'afro']],\n",
    "#     \"names\":\n",
    "#     race_ethnicities,\n",
    "#     \"group\":\n",
    "#     \"race_ethnicity\",\n",
    "#     \"paper\":\n",
    "#     \"koslowski_lowercase\",\n",
    "#     \"is_paired\":\n",
    "#     False\n",
    "# }, {\n",
    "#     \"sets\":\n",
    "#     [['white', 'whites', 'White', 'Whites', 'European', 'Caucasian', 'Anglo'],\n",
    "#      [\n",
    "#          'hispanic', 'hispanics', 'Hispanic', 'Hispanics', 'Mexican', 'latino',\n",
    "#          'latinos', 'latina', 'latinas', 'Latino', 'Latinos', 'Latina',\n",
    "#          'Latinas'\n",
    "#      ],\n",
    "#      ['asian', 'asians', 'Asian', 'Asians', 'Chinese', 'Japanese', 'Korean'],\n",
    "#      [\n",
    "#          'arab', 'arabs', 'Arab', 'Arabs', 'Muslim', 'Muslims', 'Muslim',\n",
    "#          'Muslims'\n",
    "#      ], [\n",
    "#          'black',\n",
    "#          'blacks',\n",
    "#          'Black',\n",
    "#          'Blacks',\n",
    "#          'African',\n",
    "#          'African',\n",
    "#      ]],\n",
    "#     \"names\":\n",
    "#     race_ethnicities,\n",
    "#     \"group\":\n",
    "#     \"race_ethnicity\",\n",
    "#     \"paper\":\n",
    "#     \"this_long\",\n",
    "#     \"is_paired\":\n",
    "#     False\n",
    "# }]\n",
    "\n",
    "\n",
    "# measures.append({\n",
    "#     \"group\":\n",
    "#     \"politics\",\n",
    "#     \"names\": ['republican', 'democrat'],\n",
    "#     \"sets\": [['republican', 'conservative'], ['democrat', 'democratic']],\n",
    "#     \"paper\":\n",
    "#     \"unk\",\n",
    "#     \"is_paired\":\n",
    "#     True\n",
    "# })"
   ]
  },
  {
   "cell_type": "code",
   "execution_count": null,
   "id": "47e79503",
   "metadata": {
    "hidden": true
   },
   "outputs": [],
   "source": [
    "measures = [{\n",
    "    \"group\": \"age\",\n",
    "    \"names\": ['young', 'old'],\n",
    "    \"sets\": [['young'], ['old']],\n",
    "    \"paper\": \"this_short\",\n",
    "    \"is_paired\": True\n",
    "}, {\n",
    "    \"group\":\n",
    "    \"age\",\n",
    "    \"names\": ['young', 'old'],\n",
    "    \"sets\": [['young', 'new', 'youthful', 'young'],\n",
    "             ['old', 'old', 'elderly', 'aged']],\n",
    "    \"paper\":\n",
    "    \"this_long\",\n",
    "    \"is_paired\":\n",
    "    True\n",
    "}, {\n",
    "    \"group\": \"gender\",\n",
    "    \"names\": ['woman', 'man'],\n",
    "    \"sets\": [['female'], ['male']],\n",
    "    \"paper\": \"this_short\",\n",
    "    \"is_paired\": True\n",
    "}, {\n",
    "    \"group\": \"gender\",\n",
    "    \"names\": ['woman', 'man'],\n",
    "    \"sets\": [['she'], ['he']],\n",
    "    \"paper\": \"gonen\",\n",
    "    \"is_paired\": True\n",
    "}, {\n",
    "    \"group\":\n",
    "    \"gender\",\n",
    "    \"names\": ['woman', 'man'],\n",
    "    \"sets\": [[\n",
    "        'woman', 'girl', 'she', 'mother', 'daughter', 'gal', 'female', 'her',\n",
    "        'herself', 'Mary'\n",
    "    ],\n",
    "             [\n",
    "                 'man', 'boy', 'he', 'father', 'son', 'guy', 'male', 'his',\n",
    "                 'himself', 'John'\n",
    "             ]],\n",
    "    \"paper\":\n",
    "    \"bolukbasi_words\",\n",
    "    \"is_paired\":\n",
    "    True\n",
    "}, {\n",
    "    \"group\":\n",
    "    \"gender\",\n",
    "    \"names\": ['woman', 'man'],\n",
    "    \"sets\":\n",
    "    [['amy', 'joan', 'lisa', 'sarah', 'diana', 'kate', 'ann', 'donna'],\n",
    "     ['john', 'paul', 'mike', 'kevin', 'steve', 'greg', 'jeff', 'bill']],\n",
    "    \"paper\":\n",
    "    \"bolukbasi_names\",\n",
    "    \"is_paired\":\n",
    "    True\n",
    "}, {\n",
    "    \"group\":\n",
    "    \"gender\",\n",
    "    \"names\": ['woman', 'man'],\n",
    "    \"sets\": [[\n",
    "        'woman', 'women', 'she', 'her', 'her', 'hers', 'girl', 'girls',\n",
    "        'female', 'feminine'\n",
    "    ],\n",
    "             [\n",
    "                 'man', 'men', 'he', 'him', 'his', 'his', 'boy', 'boys',\n",
    "                 'male', 'masculine'\n",
    "             ]],\n",
    "    \"paper\":\n",
    "    \"kozlowski\",\n",
    "    \"is_paired\":\n",
    "    True\n",
    "}]\n",
    "\n",
    "\n",
    "race_ethnicities = ['white', 'latino', 'asian', 'middle eastern', 'black']\n",
    "\n",
    "measures += [{\n",
    "    \"sets\": [['white', 'White'], ['hispanic', 'Hispanic', 'latino', 'Latino'],\n",
    "             ['asian', 'Asian'], ['arab', 'Arab'], ['black', 'Black']],\n",
    "    \"names\":\n",
    "    race_ethnicities,\n",
    "    \"group\":\n",
    "    \"race_ethnicity\",\n",
    "    \"paper\":\n",
    "    \"this_short\",\n",
    "    \"is_paired\":\n",
    "    False\n",
    "}, {\n",
    "    \"sets\":\n",
    "    [['white', 'whites', 'White', 'Whites', 'European', 'Caucasian', 'Anglo'],\n",
    "     [\n",
    "         'hispanic', 'hispanics', 'Hispanic', 'Hispanics', 'Mexican', 'Latino',\n",
    "         'Hispanic'\n",
    "     ],\n",
    "     ['asian', 'asians', 'Asian', 'Asians', 'Chinese', 'Japanese', 'Korean'],\n",
    "     ['arab', 'arabs', 'Arab', 'Arabs', 'Muslim', 'Muslim', 'Muslim'],\n",
    "     ['black', 'blacks', 'Black', 'Blacks', 'African', 'African', 'Afro']],\n",
    "    \"names\":\n",
    "    race_ethnicities,\n",
    "    \"group\":\n",
    "    \"race_ethnicity\",\n",
    "    \"paper\":\n",
    "    \"koslowski\",\n",
    "    \"is_paired\":\n",
    "    False\n",
    "}, {\n",
    "    \"sets\": [['white', 'whites', 'european', 'caucasian', 'anglo'],\n",
    "             ['hispanic', 'hispanics', 'mexican', 'latino', 'hispanic'],\n",
    "             ['asian', 'asians', 'chinese', 'japanese', 'korean'],\n",
    "             ['arab', 'arabs', 'muslims', 'muslim', 'arab'],\n",
    "             ['black', 'blacks', 'african', 'african', 'afro']],\n",
    "    \"names\":\n",
    "    race_ethnicities,\n",
    "    \"group\":\n",
    "    \"race_ethnicity\",\n",
    "    \"paper\":\n",
    "    \"koslowski_lowercase\",\n",
    "    \"is_paired\":\n",
    "    False\n",
    "}, {\n",
    "    \"sets\":\n",
    "    [['white', 'whites', 'White', 'Whites', 'European', 'Caucasian', 'Anglo'],\n",
    "     [\n",
    "         'hispanic', 'hispanics', 'Hispanic', 'Hispanics', 'Mexican', 'latino',\n",
    "         'latinos', 'latina', 'latinas', 'Latino', 'Latinos', 'Latina',\n",
    "         'Latinas'\n",
    "     ],\n",
    "     ['asian', 'asians', 'Asian', 'Asians', 'Chinese', 'Japanese', 'Korean'],\n",
    "     [\n",
    "         'arab', 'arabs', 'Arab', 'Arabs', 'Muslim', 'Muslims', 'Muslim',\n",
    "         'Muslims'\n",
    "     ], [\n",
    "         'black',\n",
    "         'blacks',\n",
    "         'Black',\n",
    "         'Blacks',\n",
    "         'African',\n",
    "         'African',\n",
    "     ]],\n",
    "    \"names\":\n",
    "    race_ethnicities,\n",
    "    \"group\":\n",
    "    \"race_ethnicity\",\n",
    "    \"paper\":\n",
    "    \"this_long\",\n",
    "    \"is_paired\":\n",
    "    False\n",
    "}]\n",
    "\n",
    "\n",
    "measures.append({\n",
    "    \"group\":\n",
    "    \"politics\",\n",
    "    \"names\": ['republican', 'democrat'],\n",
    "    \"sets\": [['republican', 'conservative'], ['democrat', 'democratic']],\n",
    "    \"paper\":\n",
    "    \"unk\",\n",
    "    \"is_paired\":\n",
    "    True\n",
    "})"
   ]
  },
  {
   "cell_type": "markdown",
   "id": "e036bf16",
   "metadata": {
    "hidden": true
   },
   "source": [
    "### get poles"
   ]
  },
  {
   "cell_type": "code",
   "execution_count": null,
   "id": "035c5ac6",
   "metadata": {
    "hidden": true,
    "scrolled": true
   },
   "outputs": [],
   "source": [
    "dims = {}\n",
    "for m in measures:\n",
    "    if m['group'] in dims:\n",
    "        dims[m['group']][0].extend(m['sets'][0])\n",
    "        dims[m['group']][1].extend(m['sets'][1])\n",
    "    else:\n",
    "        dims[m['group']] = [m['sets'][0], m['sets'][1]]\n",
    "        \n",
    "for g, p in dims.items():\n",
    "    p[0] = list(set(p[0]))\n",
    "    p[1] = list(set(p[1]))\n",
    "    \n",
    "len(dims), dims"
   ]
  },
  {
   "cell_type": "code",
   "execution_count": null,
   "id": "effc8488",
   "metadata": {
    "hidden": true
   },
   "outputs": [],
   "source": [
    "dims.pop('race_ethnicity')\n",
    "\n",
    "dims['race_ethnicity_wh'] = [\n",
    "    ['white', 'whites', 'White', 'Whites', 'European', 'Caucasian', 'Anglo'],\n",
    "    [\n",
    "        'hispanic', 'hispanics', 'Hispanic', 'Hispanics', 'Mexican', 'latino',\n",
    "        'latinos', 'latina', 'latinas', 'Latino', 'Latinos', 'Latina',\n",
    "        'Latinas'\n",
    "    ]\n",
    "]\n",
    "\n",
    "dims['race_ethnicity_was'] = [\n",
    "    ['white', 'whites', 'White', 'Whites', 'European', 'Caucasian', 'Anglo'],\n",
    "    ['asian', 'asians', 'Asian', 'Asians', 'Chinese', 'Japanese', 'Korean'],\n",
    "]\n",
    "\n",
    "dims['race_ethnicity_wme'] = [[\n",
    "    'white', 'whites', 'White', 'Whites', 'European', 'Caucasian', 'Anglo'\n",
    "], [\n",
    "    'arab', 'arabs', 'Arab', 'Arabs', 'Muslim', 'Muslims', 'Muslim', 'Muslims', 'middle eastern', 'mideast', 'iranian'\n",
    "]]\n",
    "\n",
    "dims['race_ethnicity_wb'] = [[\n",
    "    'white', 'whites', 'White', 'Whites', 'European', 'Caucasian', 'Anglo'\n",
    "], [\n",
    "    'black','blacks','Black','Blacks','African','African',\n",
    "]]\n",
    "\n",
    "dims"
   ]
  },
  {
   "cell_type": "markdown",
   "id": "ad935f51",
   "metadata": {
    "hidden": true
   },
   "source": [
    "### generate embeddings"
   ]
  },
  {
   "cell_type": "code",
   "execution_count": null,
   "id": "afdb272d",
   "metadata": {
    "hidden": true
   },
   "outputs": [],
   "source": [
    "from numpy import linalg as LA\n",
    "import numpy as np\n",
    "\n",
    "\n",
    "def normalize(wv):\n",
    "    # normalize vectors\n",
    "    norms = np.apply_along_axis(LA.norm, 1, wv)\n",
    "    wv = wv / (norms[:, np.newaxis]+1e-6)\n",
    "    return wv\n",
    "\n",
    "\n",
    "def ripa(w, b):\n",
    "    return w.dot(b)/LA.norm(b)\n",
    "\n",
    "\n",
    "def normalize_dict(wv_dict):\n",
    "    norm_voc = {}\n",
    "    embs = []\n",
    "    words = []\n",
    "    for w, e in wv_dict.items():\n",
    "        embs.append(e)\n",
    "        words.append(w)\n",
    "    embs = normalize(np.array(embs))\n",
    "    \n",
    "    for w, e in zip(words, embs):\n",
    "        norm_voc[w] = e\n",
    "    \n",
    "    return norm_voc\n",
    "\n",
    "def get_contextual_emb(model, word_list, w2v, tokenizer):\n",
    "    if w2v:\n",
    "        return model.wv.get_mean_vector(word_list)\n",
    "    \n",
    "    ctxt = ','.join(word_list)\n",
    "    if tokenizer is None:        \n",
    "        res = get_sbertbased_results_batched(model, [ctxt,], bs=512).numpy()\n",
    "    else:\n",
    "        res = get_results_batched(model, tokenizer, [ctxt,], average_k_layers=3, bs=512).numpy()\n",
    "        \n",
    "    return res[0]\n",
    "        \n",
    "\n",
    "def get_proj_embeddings(model, vocab_set, w2v=True, tokenizer=None):\n",
    "    pole_voc = {}\n",
    "    \n",
    "    print(\"getting pole embeddings\")\n",
    "    for group, poles in dims.items():\n",
    "        pole_voc[group] = get_contextual_emb(model, poles[0], w2v, tokenizer) -\\\n",
    "                                get_contextual_emb(model, poles[1], w2v, tokenizer)\n",
    "    \n",
    "    print(\"getting contextual embeddings\")\n",
    "    pi_embs = {}\n",
    "    if w2v:\n",
    "        bios = []\n",
    "        # each vocab is the whole bio\n",
    "        for ctxt in vocab_set:\n",
    "            ctxt = ctxt.split(\",\")\n",
    "            ctxt = [c.strip() for c in ctxt]\n",
    "            bios.append(ctxt)\n",
    "        embs = []\n",
    "        for pis in tqdm(bios):\n",
    "            embs.append(model.wv.get_mean_vector(pis))\n",
    "    else:\n",
    "        if tokenizer is None:        \n",
    "            embs = get_sbertbased_results_batched(model, vocab_set, bs=512).numpy()\n",
    "        else:\n",
    "            embs = get_results_batched(model, tokenizer, vocab_set, average_k_layers=3, bs=512).numpy()\n",
    "\n",
    "    for pi, e in zip(vocab_set, embs):\n",
    "        pi_embs[pi] = e \n",
    "            \n",
    "    print(\"normalizing embeddings\")\n",
    "    pole_voc = normalize_dict(pole_voc)\n",
    "    pi_embs = normalize_dict(pi_embs)\n",
    "    \n",
    "    pi_prj_embs = {}\n",
    "    print(\"calculating projections\")\n",
    "    for pi, e in tqdm(pi_embs.items()):\n",
    "        prj = []\n",
    "        for group, diff in pole_voc.items():\n",
    "            prj.append(ripa(e, diff))\n",
    "        pi_prj_embs[pi] = np.array(prj)\n",
    "        \n",
    "    return pi_prj_embs\n",
    "    "
   ]
  },
  {
   "cell_type": "code",
   "execution_count": null,
   "id": "fec4c66d",
   "metadata": {
    "hidden": true
   },
   "outputs": [],
   "source": [
    "pis_ctxt, ys = zip(*fixed_target_twitter_clm_ds)\n",
    "pis_ctxt = list(pis_ctxt)\n",
    "pis_ctxt.extend(ys)\n",
    "all_pis_twitter = list(set(pis_ctxt))\n",
    "\n",
    "pis_ctxt, ys = zip(*fixed_target_wiki_clm_ds)\n",
    "pis_ctxt = list(pis_ctxt)\n",
    "pis_ctxt.extend(ys)\n",
    "all_pis_wiki = list(set(pis_ctxt))\n",
    "\n",
    "print(f\"all pis twitter: {len(all_pis_twitter)}\")\n",
    "print(f\"all pis wiki: {len(all_pis_wiki)}\")"
   ]
  },
  {
   "cell_type": "code",
   "execution_count": null,
   "id": "6b420c7b",
   "metadata": {
    "hidden": true
   },
   "outputs": [],
   "source": [
    "twitter_prj_embs_w2v_negsampling = get_proj_embeddings(\n",
    "    model=w2v_twitter_negsamp_model,\n",
    "    vocab_set=all_pis_twitter,\n",
    "    w2v=True,\n",
    "    tokenizer=None\n",
    ")\n",
    "\n",
    "wiki_prj_embs_w2v_cbow = get_proj_embeddings(\n",
    "    model=w2v_wiki_cbow_model,\n",
    "    vocab_set=all_pis_wiki,\n",
    "    w2v=True,\n",
    "    tokenizer=None\n",
    ")"
   ]
  },
  {
   "cell_type": "code",
   "execution_count": null,
   "id": "e5036ce1",
   "metadata": {
    "hidden": true
   },
   "outputs": [],
   "source": [
    "import pickle\n",
    "\n",
    "def save_prj_model(model_name, model):\n",
    "    with open(model_name, 'wb') as f:\n",
    "        pickle.dump(model, f)\n",
    "        \n",
    "save_prj_model('twitter_prj_embs_w2v_negsampling', twitter_prj_embs_w2v_negsampling)\n",
    "save_prj_model('wiki_prj_embs_w2v_cbow', wiki_prj_embs_w2v_cbow)\n"
   ]
  },
  {
   "cell_type": "code",
   "execution_count": null,
   "id": "322ac60c",
   "metadata": {
    "hidden": true
   },
   "outputs": [],
   "source": [
    "twitter_prj_embs_bert = get_proj_embeddings(\n",
    "    model=bert_model,\n",
    "    vocab_set=all_pis_twitter,\n",
    "    w2v=False,\n",
    "    tokenizer=bert_tokenizer\n",
    ")\n",
    "\n",
    "wiki_prj_embs_bert = get_proj_embeddings(\n",
    "    model=bert_model,\n",
    "    vocab_set=all_pis_wiki,\n",
    "    w2v=False,\n",
    "    tokenizer=bert_tokenizer\n",
    ")\n",
    "\n",
    "twitter_prj_embs_sbert = get_proj_embeddings(\n",
    "    model=sbert_model,\n",
    "    vocab_set=all_pis_twitter,\n",
    "    w2v=False,\n",
    "    tokenizer=None\n",
    ")\n",
    "\n",
    "wiki_prj_embs_sbert = get_proj_embeddings(\n",
    "    model=sbert_model,\n",
    "    vocab_set=all_pis_wiki,\n",
    "    w2v=False,\n",
    "    tokenizer=None\n",
    ")\n",
    "\n",
    "twitter_prj_embs_roberta = get_proj_embeddings(\n",
    "    model=roberta_model,\n",
    "    vocab_set=all_pis_twitter,\n",
    "    w2v=False,\n",
    "    tokenizer=roberta_tokenizer\n",
    ")\n",
    "\n",
    "wiki_prj_embs_roberta = get_proj_embeddings(\n",
    "    model=roberta_model,\n",
    "    vocab_set=all_pis_wiki,\n",
    "    w2v=False,\n",
    "    tokenizer=roberta_tokenizer\n",
    ")\n",
    "\n",
    "twitter_prj_embs_ftsbert = get_proj_embeddings(\n",
    "    model=twitter_ft_sbert,\n",
    "    vocab_set=all_pis_twitter,\n",
    "    w2v=False,\n",
    "    tokenizer=None\n",
    ")\n",
    "\n",
    "wiki_prj_embs_ftsbert = get_proj_embeddings(\n",
    "    model=wiki_ft_sbert,\n",
    "    vocab_set=all_pis_wiki,\n",
    "    w2v=False,\n",
    "    tokenizer=None\n",
    ")\n",
    "\n",
    "twitter_prj_embs_ftbert = get_proj_embeddings(\n",
    "    model=bert_ft_twitter_model,\n",
    "    vocab_set=all_pis_twitter,\n",
    "    w2v=False,\n",
    "    tokenizer=bert_tokenizer\n",
    ")\n",
    "\n",
    "wiki_prj_embs_ftbert = get_proj_embeddings(\n",
    "    model=bert_ft_wiki_model,\n",
    "    vocab_set=all_pis_wiki,\n",
    "    w2v=False,\n",
    "    tokenizer=bert_tokenizer\n",
    ")"
   ]
  },
  {
   "cell_type": "code",
   "execution_count": null,
   "id": "225a6da8",
   "metadata": {
    "hidden": true
   },
   "outputs": [],
   "source": [
    "save_prj_model('twitter_prj_embs_bert', twitter_prj_embs_bert)\n",
    "save_prj_model('wiki_prj_embs_bert', wiki_prj_embs_bert)\n",
    "\n",
    "save_prj_model('twitter_prj_embs_sbert', twitter_prj_embs_sbert)\n",
    "save_prj_model('wiki_prj_embs_sbert', wiki_prj_embs_sbert)\n",
    "\n",
    "save_prj_model('twitter_prj_embs_roberta', twitter_prj_embs_roberta)\n",
    "save_prj_model('wiki_prj_embs_roberta', wiki_prj_embs_roberta)\n",
    "\n",
    "save_prj_model('twitter_prj_embs_ftbert', twitter_prj_embs_ftbert)\n",
    "save_prj_model('wiki_prj_embs_ftbert', wiki_prj_embs_ftbert)\n",
    "\n",
    "save_prj_model('twitter_prj_embs_ftsbert', twitter_prj_embs_ftsbert)\n",
    "save_prj_model('wiki_prj_embs_ftsbert', wiki_prj_embs_ftsbert)"
   ]
  },
  {
   "cell_type": "code",
   "execution_count": null,
   "id": "734ceb80",
   "metadata": {
    "hidden": true
   },
   "outputs": [],
   "source": [
    "twitter_prj_embs_bert['athlete']"
   ]
  },
  {
   "cell_type": "markdown",
   "id": "dc5c234b",
   "metadata": {
    "hidden": true
   },
   "source": [
    "### calculate correlation with survey"
   ]
  },
  {
   "cell_type": "code",
   "execution_count": null,
   "id": "fb6beaa7",
   "metadata": {
    "hidden": true
   },
   "outputs": [],
   "source": [
    "list(dims.keys())"
   ]
  },
  {
   "cell_type": "code",
   "execution_count": null,
   "id": "1a50232a",
   "metadata": {
    "hidden": true
   },
   "outputs": [],
   "source": [
    "import pandas as pd\n",
    "\n",
    "df = pd.read_csv(\"data/dimension_data.csv\")\n",
    "\n",
    "dim_names = ['age', 'gender', 'partisanship', 'white', 'hispanic', 'asian', 'mideast', 'black']\n",
    "\n",
    "emb_models = {\n",
    "    \n",
    "#     'wiki_prj_embs_w2v_cbow': wiki_prj_embs_w2v_cbow,\n",
    "    'twitter_prj_embs_bert': twitter_prj_embs_bert,\n",
    "#     'wiki_prj_embs_bert': wiki_prj_embs_bert,\n",
    "    'twitter_prj_embs_sbert': twitter_prj_embs_sbert,\n",
    "#     'wiki_prj_embs_sbert': wiki_prj_embs_sbert,\n",
    "    'twitter_prj_embs_roberta': twitter_prj_embs_roberta,\n",
    "#     'wiki_prj_embs_roberta': wiki_prj_embs_roberta,\n",
    "    'twitter_prj_embs_ftbert': twitter_prj_embs_ftbert,\n",
    "    'twitter_prj_embs_w2v_negsampling': twitter_prj_embs_w2v_negsampling,\n",
    "#     'wiki_prj_embs_ftbert': wiki_prj_embs_ftbert,\n",
    "    'twitter_prj_embs_ftsbert': twitter_prj_embs_ftsbert,\n",
    "#     'wiki_prj_embs_ftsbert': wiki_prj_embs_ftsbert,\n",
    "}\n",
    "\n",
    "dim_idx = {\n",
    "    'age': 0,\n",
    "    'gender': 1,\n",
    "    'partisanship': 2,\n",
    "    'white': 6,\n",
    "    'hispanic': 3,\n",
    "    'asian': 4,\n",
    "    'mideast': 5,\n",
    "    'black': 6\n",
    "}\n",
    "\n",
    "\n",
    "model_vals = {m: [] for m in emb_model}\n",
    "missing = 0\n",
    "for model_name, e in tqdm(emb_models.items()):\n",
    "    for _,row in df.iterrows():\n",
    "        if row.identity not in e:\n",
    "            missing += 1\n",
    "            print(f\" {model_name} missing {row.identity}\")\n",
    "            continue\n",
    "        model_vals[model_name].append(e[row.identity][dim_idx[row.dimension]])\n",
    "        \n",
    "model_embs_df = pd.DataFrame(model_vals)\n",
    "model_embs_df"
   ]
  },
  {
   "cell_type": "code",
   "execution_count": null,
   "id": "36f2f936",
   "metadata": {
    "hidden": true
   },
   "outputs": [],
   "source": [
    "df_all = pd.concat([df, model_embs_df], axis=1)\n",
    "df_all"
   ]
  },
  {
   "cell_type": "code",
   "execution_count": null,
   "id": "a6bf8097",
   "metadata": {
    "hidden": true
   },
   "outputs": [],
   "source": [
    "final_df = pd.DataFrame({'dimension':[], 'corr':[] ,'model':[]})\n",
    "for model_name in emb_models:\n",
    "    corr_df = df_all[['dimension', 'mean_value', model_name]].groupby('dimension').corr().unstack()\n",
    "    corr_df.columns = ['vv', 'corr', 'cv', 'cc']\n",
    "    corr_df = corr_df.reset_index().drop(columns=['vv', 'cv', 'cc'])\n",
    "    corr_df['model'] = model_name\n",
    "    final_df = pd.concat([final_df, corr_df], axis=0)\n",
    "    \n",
    "final_df"
   ]
  },
  {
   "cell_type": "code",
   "execution_count": null,
   "id": "197ab002",
   "metadata": {
    "hidden": true
   },
   "outputs": [],
   "source": [
    "final_df.to_csv('dimension_corr.csv', header=True, index=False)"
   ]
  },
  {
   "cell_type": "code",
   "execution_count": null,
   "id": "b6b40b38",
   "metadata": {
    "hidden": true
   },
   "outputs": [],
   "source": [
    "!head dimension_corr.csv"
   ]
  },
  {
   "cell_type": "code",
   "execution_count": null,
   "id": "373da5f5",
   "metadata": {
    "hidden": true
   },
   "outputs": [],
   "source": [
    "import seaborn as sns\n",
    "import matplotlib.pyplot as plt\n",
    "sns.set_theme()\n",
    "\n",
    "plt.figure(figsize=(10,4))\n",
    "ax = sns.barplot(data=final_df, x='dimension', y='corr', hue='model')\n",
    "ax.legend(bbox_to_anchor=(1, 1))\n",
    "plt.show()\n"
   ]
  },
  {
   "cell_type": "markdown",
   "id": "aa59bd9e",
   "metadata": {
    "hidden": true
   },
   "source": [
    "### load models"
   ]
  },
  {
   "cell_type": "code",
   "execution_count": null,
   "id": "713c2d2f",
   "metadata": {
    "hidden": true
   },
   "outputs": [],
   "source": [
    "print(twitter_prj_embs_bert[\"maga\"], twitter_prj_embs_bert[\"biden\"])\n",
    "print(twitter_prj_embs_ftsbert[\"maga\"], twitter_prj_embs_ftsbert[\"biden\"])\n",
    "print(twitter_prj_embs_ftsbert[\"senior citizen\"], twitter_prj_embs_ftsbert[\"bitchy\"])\n",
    "print(twitter_prj_embs_bert[\"senior citizen\"], twitter_prj_embs_bert[\"bitchy\"])\n",
    "print(twitter_prj_embs_bert[\"obama\"], twitter_prj_embs_bert[\"trump\"])\n",
    "print(twitter_prj_embs_ftsbert[\"biden\"], twitter_prj_embs_ftsbert[\"trump\"])"
   ]
  },
  {
   "cell_type": "markdown",
   "id": "f8b41e22",
   "metadata": {
    "hidden": true
   },
   "source": [
    "### calculate metrics"
   ]
  },
  {
   "cell_type": "code",
   "execution_count": null,
   "id": "cf924e8c",
   "metadata": {
    "hidden": true
   },
   "outputs": [],
   "source": [
    "%%time\n",
    "import torch\n",
    "from tqdm import tqdm\n",
    "from torch.nn.functional import log_softmax\n",
    "\n",
    "\n",
    "def calculate_prj_metrics(prj_model, dataset, cosine_bs=512):\n",
    "    print(\"calculating embeddings...\")\n",
    "    X, ys = zip(*dataset)\n",
    "\n",
    "    pi_list = list(set(ys))\n",
    "    pi_dict = {}\n",
    "    for pi in pi_list:\n",
    "        pi_dict[pi] = len(pi_dict)\n",
    "        \n",
    "    \n",
    "    emb_x = torch.tensor([prj_model[x] for x in X])\n",
    "    emb_all = torch.tensor([prj_model[y] for y in pi_list])\n",
    "\n",
    "    print(\"calculating ranks...\")\n",
    "    \n",
    "    i = 0\n",
    "    pbar = tqdm(total=emb_x.shape[0])\n",
    "\n",
    "    target_ranks = []\n",
    "    softmax_scores = []\n",
    "    \n",
    "    while i < emb_x.shape[0]:\n",
    "        batch = emb_x[i:i+cosine_bs]\n",
    "        batch_y = ys[i:i+cosine_bs]\n",
    "        batch_cosine_scores = util.cos_sim(batch.to(device), emb_all.to(device))\n",
    "        batch_softmax = log_softmax(batch_cosine_scores, dim=1)\n",
    "        ranks = torch.argsort(torch.argsort(batch_cosine_scores, dim=1, descending=True), dim=1)\n",
    "        target_idxs = torch.tensor([pi_dict[y] for y in batch_y], dtype=torch.int64, device=device)\n",
    "        \n",
    "        batch_target_ranks = torch.gather(ranks, 1, target_idxs.unsqueeze(1).reshape(-1,1)).type(torch.FloatTensor)\n",
    "        batch_target_scores = torch.gather(batch_softmax, 1, target_idxs.unsqueeze(1).reshape(-1,1)).type(torch.FloatTensor)\n",
    "        \n",
    "        target_ranks.append(batch_target_ranks)\n",
    "        softmax_scores.append(batch_target_scores)\n",
    "        \n",
    "        i += cosine_bs\n",
    "        pbar.update(cosine_bs)\n",
    "\n",
    "\n",
    "    target_ranks = torch.concat(target_ranks)\n",
    "    softmax_scores = torch.concat(softmax_scores)\n",
    "    \n",
    "    avg_score = torch.mean(softmax_scores).item()\n",
    "    avg_rank = torch.mean(target_ranks).item()\n",
    "    top100_acc = len([r for r in target_ranks.reshape(1,-1).squeeze().tolist() if r < 100])/emb_x.shape[0]\n",
    "    \n",
    "    print(avg_rank, top100_acc, avg_score)\n",
    "    \n",
    "    return avg_rank, top100_acc, avg_score\n",
    "\n"
   ]
  },
  {
   "cell_type": "code",
   "execution_count": null,
   "id": "c695896c",
   "metadata": {
    "hidden": true
   },
   "outputs": [],
   "source": [
    "twitter_w2v_prj_avg_rank, twitter_w2v_prj_top100acc, twitter_w2v_prj_avg_score = calculate_prj_metrics(twitter_prj_embs_w2v_negsampling, fixed_target_twitter_clm_ds)\n",
    "twitter_bert_prj_avg_rank, twitter_bert_prj_top100acc, twitter_bert_prj_avg_score = calculate_prj_metrics(twitter_prj_embs_bert, fixed_target_twitter_clm_ds)\n",
    "twitter_roberta_prj_avg_rank, twitter_roberta_prj_top100acc, twitter_roberta_prj_avg_score = calculate_prj_metrics(twitter_prj_embs_roberta, fixed_target_twitter_clm_ds)\n",
    "twitter_sbert_prj_avg_rank, twitter_sbert_prj_top100acc, twitter_sbert_prj_avg_score = calculate_prj_metrics(twitter_prj_embs_sbert, fixed_target_twitter_clm_ds)\n",
    "twitter_bertft_prj_avg_rank, twitter_bertft_prj_top100acc, twitter_bertft_prj_avg_score = calculate_prj_metrics(twitter_prj_embs_ftbert, fixed_target_twitter_clm_ds)\n",
    "twitter_sbertft_prj_avg_rank, twitter_sbertft_prj_top100acc, twitter_sbertft_prj_avg_score = calculate_prj_metrics(twitter_prj_embs_ftsbert, fixed_target_twitter_clm_ds)"
   ]
  },
  {
   "cell_type": "code",
   "execution_count": null,
   "id": "46f39bfb",
   "metadata": {
    "hidden": true
   },
   "outputs": [],
   "source": [
    "wiki_w2v_prj_avg_rank, wiki_w2v_prj_top100acc, wiki_w2v_prj_avg_score = calculate_prj_metrics(wiki_prj_embs_w2v_cbow, fixed_target_wiki_clm_ds)\n",
    "wiki_bert_prj_avg_rank, wiki_bert_prj_top100acc, wiki_bert_prj_avg_score = calculate_prj_metrics(wiki_prj_embs_bert, fixed_target_wiki_clm_ds)\n",
    "wiki_roberta_prj_avg_rank, wiki_roberta_prj_top100acc, wiki_roberta_prj_avg_score = calculate_prj_metrics(wiki_prj_embs_roberta, fixed_target_wiki_clm_ds)\n",
    "wiki_sbert_prj_avg_rank, wiki_sbert_prj_top100acc, wiki_sbert_prj_avg_score = calculate_prj_metrics(wiki_prj_embs_sbert, fixed_target_wiki_clm_ds)\n",
    "wiki_bertft_prj_avg_rank, wiki_bertft_prj_top100acc, wiki_bertft_prj_avg_score = calculate_prj_metrics(wiki_prj_embs_ftbert, fixed_target_wiki_clm_ds)\n",
    "wiki_sbertft_prj_avg_rank, wiki_sbertft_prj_top100acc, wiki_sbertft_prj_avg_score = calculate_prj_metrics(wiki_prj_embs_ftsbert, fixed_target_wiki_clm_ds)\n"
   ]
  },
  {
   "cell_type": "markdown",
   "id": "bb8900f3",
   "metadata": {
    "heading_collapsed": true
   },
   "source": [
    "## frequency baseline"
   ]
  },
  {
   "cell_type": "code",
   "execution_count": null,
   "id": "2f34a26f",
   "metadata": {
    "hidden": true
   },
   "outputs": [],
   "source": [
    "from collections import Counter\n",
    "from tqdm import tqdm\n",
    "\n",
    "def load_bios(dataset='twitter', mode='test'):\n",
    "    with open(f'data/{dataset}_{mode}_bios.pkl', 'rb') as f:\n",
    "        bios = pickle.load(f)\n",
    "    \n",
    "    return bios\n",
    "\n",
    "\n",
    "def calculate_freq_ranks(dataset_name, dataset, return_ranks=False):\n",
    "\n",
    "    bios = load_bios(dataset=dataset_name, mode='train')\n",
    "    cntr = Counter()\n",
    "\n",
    "    _, ys = zip(*dataset)\n",
    "    y_set = set(ys)\n",
    "    \n",
    "    for bio in tqdm(bios):\n",
    "        for pi in bio:\n",
    "            if pi in y_set:\n",
    "                cntr.update([pi])\n",
    "\n",
    "    \n",
    "    ranks_d = {item[1][0]: item[0] for item in enumerate(cntr.most_common())}\n",
    "    ranks = [ranks_d[x] for x in ys]\n",
    "    avg_rank = np.mean(ranks)\n",
    "    top100_acc = np.sum(np.where(np.array(ranks)<=100, 1., 0.))/len(ranks)\n",
    "    \n",
    "    if return_ranks:\n",
    "        return avg_rank, top100_acc, ranks\n",
    "\n",
    "    return avg_rank, top100_acc\n",
    "    \n",
    "# twitter_freq_based_avg_rank, twitter_freq_based_top100acc, twitter_freq_based_ranks = calculate_freq_ranks('twitter', fixed_target_twitter_clm_ds, return_ranks=True)\n",
    "wiki_freq_based_avg_rank, wiki_freq_based_top100acc, wiki_freq_based_ranks = calculate_freq_ranks('wiki', fixed_target_wiki_clm_ds, return_ranks=True)\n",
    "# wiki_freq_based_avg_rank, wiki_freq_based_top100acc = calculate_freq_ranks('wiki', fixed_target_wiki_clm_ds)\n"
   ]
  },
  {
   "cell_type": "markdown",
   "id": "e2c92921",
   "metadata": {},
   "source": [
    "## calculate metrics"
   ]
  },
  {
   "cell_type": "code",
   "execution_count": 36,
   "id": "fe8db5c5",
   "metadata": {},
   "outputs": [
    {
     "name": "stdout",
     "output_type": "stream",
     "text": [
      "CPU times: user 31 µs, sys: 4 µs, total: 35 µs\n",
      "Wall time: 40.5 µs\n"
     ]
    }
   ],
   "source": [
    "%%time\n",
    "import torch\n",
    "from sentence_transformers import SentenceTransformer, models, util\n",
    "from tqdm import tqdm\n",
    "from torch.nn.functional import log_softmax\n",
    "\n",
    "\n",
    "\n",
    "def normalize(word_vectors):\n",
    "    norms = torch.norm(word_vectors, dim=1, keepdim=True)\n",
    "    res = word_vectors / (norms + 1e-6)\n",
    "    return res\n",
    "\n",
    "def calculate_clm_based_metrics(clm_model, tokenizer, dataset, pi_dict,\n",
    "                                default_encoder=False, device='cuda:0', average_k_layers=1,\n",
    "                                cosine_bs=512, emb_bs=512, return_ranks=False):\n",
    "    print(\"calculating embeddings...\")\n",
    "    pi_list = list(pi_dict.keys())\n",
    "    X, ys = zip(*dataset)\n",
    "    \n",
    "    if default_encoder:        \n",
    "        emb_x = get_sbertbased_results_batched(clm_model, X, bs=emb_bs)\n",
    "        emb_all = get_sbertbased_results_batched(clm_model, pi_list, bs=emb_bs)\n",
    "            \n",
    "    else:\n",
    "        emb_x = get_results_batched(clm_model, tokenizer, X, average_k_layers=average_k_layers, bs=emb_bs)\n",
    "        emb_all = get_results_batched(clm_model, tokenizer, pi_list, average_k_layers=average_k_layers, bs=emb_bs)\n",
    "\n",
    "    print(\"calculating ranks...\")\n",
    "    \n",
    "    emb_x = normalize(emb_x)\n",
    "    emb_all = normalize(emb_all)\n",
    "    \n",
    "    \n",
    "    i = 0\n",
    "    pbar = tqdm(total=emb_x.shape[0])\n",
    "\n",
    "    target_ranks = []\n",
    "    softmax_scores = []\n",
    "    \n",
    "    while i < emb_x.shape[0]:\n",
    "        batch = emb_x[i:i+cosine_bs]\n",
    "        batch_y = ys[i:i+cosine_bs]\n",
    "        batch_cosine_scores = util.cos_sim(batch.to(device), emb_all.to(device))\n",
    "        batch_softmax = log_softmax(batch_cosine_scores, dim=1)\n",
    "#         print(torch.sum(batch_softmax, dim=1), torch.sum(batch_softmax, dim=1).shape)\n",
    "        ranks = torch.argsort(torch.argsort(batch_cosine_scores, dim=1, descending=True), dim=1)\n",
    "        target_idxs = torch.tensor([pi_dict[y] for y in batch_y], dtype=torch.int64, device=device)\n",
    "        \n",
    "        batch_target_ranks = torch.gather(ranks, 1, target_idxs.unsqueeze(1).reshape(-1,1)).type(torch.FloatTensor)\n",
    "        batch_target_scores = torch.gather(batch_softmax, 1, target_idxs.unsqueeze(1).reshape(-1,1)).type(torch.FloatTensor)\n",
    "        \n",
    "        target_ranks.append(batch_target_ranks)\n",
    "        softmax_scores.append(batch_target_scores)\n",
    "        \n",
    "        i += cosine_bs\n",
    "        pbar.update(cosine_bs)\n",
    "\n",
    "\n",
    "    target_ranks = torch.concat(target_ranks)\n",
    "    softmax_scores = torch.concat(softmax_scores)\n",
    "    \n",
    "#     print(softmax_scores)\n",
    "\n",
    "    avg_score = torch.mean(softmax_scores).item()\n",
    "    avg_rank = torch.mean(target_ranks).item()\n",
    "    top100_acc = len([r for r in target_ranks.reshape(1,-1).squeeze().tolist() if r < len(pi_list)//100])/emb_x.shape[0]\n",
    "    \n",
    "    print(avg_rank, top100_acc, avg_score)\n",
    "    \n",
    "    if return_ranks:\n",
    "        return avg_rank, top100_acc, avg_score, target_ranks.tolist()\n",
    "    return avg_rank, top100_acc, avg_score"
   ]
  },
  {
   "cell_type": "markdown",
   "id": "afb2270a",
   "metadata": {},
   "source": [
    "### twitter restricted target experiments"
   ]
  },
  {
   "cell_type": "code",
   "execution_count": 37,
   "id": "df4ac2db",
   "metadata": {},
   "outputs": [
    {
     "name": "stdout",
     "output_type": "stream",
     "text": [
      "calculating embeddings...\n"
     ]
    },
    {
     "name": "stderr",
     "output_type": "stream",
     "text": [
      "100352it [00:29, 3373.37it/s]                           \n",
      "22528it [00:07, 3167.60it/s]                           \n"
     ]
    },
    {
     "name": "stdout",
     "output_type": "stream",
     "text": [
      "calculating ranks...\n"
     ]
    },
    {
     "name": "stderr",
     "output_type": "stream",
     "text": [
      "100352it [00:02, 33780.18it/s]                           \n"
     ]
    },
    {
     "name": "stdout",
     "output_type": "stream",
     "text": [
      "3620.18359375 0.1867 -9.755340576171875\n",
      "calculating embeddings...\n"
     ]
    },
    {
     "name": "stderr",
     "output_type": "stream",
     "text": [
      "100352it [00:29, 3365.90it/s]                           \n",
      "22528it [00:06, 3362.60it/s]                           \n"
     ]
    },
    {
     "name": "stdout",
     "output_type": "stream",
     "text": [
      "calculating ranks...\n"
     ]
    },
    {
     "name": "stderr",
     "output_type": "stream",
     "text": [
      "100352it [00:03, 31587.41it/s]                           \n"
     ]
    },
    {
     "name": "stdout",
     "output_type": "stream",
     "text": [
      "7150.91845703125 0.12143 -9.956069946289062\n",
      "calculating embeddings...\n"
     ]
    },
    {
     "name": "stderr",
     "output_type": "stream",
     "text": [
      "100352it [00:47, 2121.00it/s]                           \n",
      "22528it [00:04, 4773.45it/s]                           \n"
     ]
    },
    {
     "name": "stdout",
     "output_type": "stream",
     "text": [
      "calculating ranks...\n"
     ]
    },
    {
     "name": "stderr",
     "output_type": "stream",
     "text": [
      "100352it [00:02, 36686.10it/s]                           \n"
     ]
    },
    {
     "name": "stdout",
     "output_type": "stream",
     "text": [
      "9548.8642578125 0.04733 -10.010695457458496\n",
      "calculating embeddings...\n"
     ]
    },
    {
     "name": "stderr",
     "output_type": "stream",
     "text": [
      "100352it [00:42, 2368.27it/s]                           \n",
      "22528it [00:02, 8185.46it/s]                           \n"
     ]
    },
    {
     "name": "stdout",
     "output_type": "stream",
     "text": [
      "calculating ranks...\n"
     ]
    },
    {
     "name": "stderr",
     "output_type": "stream",
     "text": [
      "100352it [00:02, 34565.47it/s]                           \n"
     ]
    },
    {
     "name": "stdout",
     "output_type": "stream",
     "text": [
      "9816.1162109375 0.035 -10.02191162109375\n",
      "calculating embeddings...\n"
     ]
    },
    {
     "name": "stderr",
     "output_type": "stream",
     "text": [
      "100352it [00:45, 2223.65it/s]                           \n",
      "22528it [00:03, 6528.89it/s]                           \n"
     ]
    },
    {
     "name": "stdout",
     "output_type": "stream",
     "text": [
      "calculating ranks...\n"
     ]
    },
    {
     "name": "stderr",
     "output_type": "stream",
     "text": [
      "100352it [00:03, 28437.93it/s]                           "
     ]
    },
    {
     "name": "stdout",
     "output_type": "stream",
     "text": [
      "6743.9150390625 0.12749 -9.931539535522461\n",
      "CPU times: user 7min 53s, sys: 1min 1s, total: 8min 55s\n",
      "Wall time: 3min 55s\n"
     ]
    },
    {
     "name": "stderr",
     "output_type": "stream",
     "text": [
      "\n"
     ]
    }
   ],
   "source": [
    "%%time\n",
    "\n",
    "# sbert and its finetuned\n",
    "twitter_sbertft_avg_rank, twitter_sbertft_top100acc, twitter_sbertft_avg_score, twitter_sbertft_ranks = calculate_clm_based_metrics(\n",
    "    clm_model=twitter_ft_sbert,\n",
    "    tokenizer=None,\n",
    "    dataset=fixed_target_twitter_clm_ds,\n",
    "    pi_dict=twitter_target_restricted_pis,\n",
    "    default_encoder=True,\n",
    "    return_ranks=True,\n",
    ")\n",
    "\n",
    "# twitter_sbertft10_avg_rank, twitter_sbertft10_top100acc, twitter_sbertft10_avg_score, twitter_sbertft10_ranks = calculate_clm_based_metrics(\n",
    "#     clm_model=twitter_ft_sbert_10p,\n",
    "#     tokenizer=None,\n",
    "#     dataset=fixed_target_twitter_clm_ds,\n",
    "#     pi_dict=twitter_target_restricted_pis,\n",
    "#     default_encoder=True,\n",
    "#     return_ranks=True,\n",
    "# )\n",
    "\n",
    "twitter_sbert_avg_rank, twitter_sbert_top100acc, twitter_sbert_avg_score, twitter_sbert_ranks =  calculate_clm_based_metrics(\n",
    "    clm_model=sbert_model,\n",
    "    tokenizer=None,\n",
    "    dataset=fixed_target_twitter_clm_ds,\n",
    "    pi_dict=twitter_target_restricted_pis,\n",
    "    default_encoder=True,\n",
    "    return_ranks=True,\n",
    ")\n",
    "\n",
    "# bert and roberta\n",
    "\n",
    "twitter_bert_avg_rank, twitter_bert_top100acc, twitter_bert_avg_score, twitter_bert_ranks = calculate_clm_based_metrics(\n",
    "    clm_model=bert_model,\n",
    "    tokenizer=bert_tokenizer,\n",
    "    dataset=fixed_target_twitter_clm_ds,\n",
    "    pi_dict=twitter_target_restricted_pis,\n",
    "    default_encoder=False,\n",
    "    return_ranks=True,\n",
    "    average_k_layers=1\n",
    ")\n",
    "\n",
    "twitter_roberta_avg_rank, twitter_roberta_top100acc, twitter_roberta_avg_score, twitter_roberta_ranks =  calculate_clm_based_metrics(\n",
    "    clm_model=roberta_model,\n",
    "    tokenizer=roberta_tokenizer,\n",
    "    dataset=fixed_target_twitter_clm_ds,\n",
    "    pi_dict=twitter_target_restricted_pis,\n",
    "    default_encoder=False,\n",
    "    return_ranks=True,\n",
    "    average_k_layers=1\n",
    ")\n",
    "\n",
    "twitter_bertft_avg_rank, twitter_bertft_top100acc, twitter_bertft_avg_score, twitter_bertft_ranks =  calculate_clm_based_metrics(\n",
    "    clm_model=bert_ft_twitter_model,\n",
    "    tokenizer=bert_ft_tokenizer,\n",
    "    dataset=fixed_target_twitter_clm_ds,\n",
    "    pi_dict=twitter_target_restricted_pis,\n",
    "    default_encoder=False,\n",
    "    return_ranks=True,\n",
    "    average_k_layers=1\n",
    ")\n",
    "\n",
    "# twitter_bertft50_avg_rank, twitter_bertft50_top100acc, twitter_bertft50_avg_score, twitter_bertft50_ranks =  calculate_clm_based_metrics(\n",
    "#     clm_model=bert_ft50_twitter_model,\n",
    "#     tokenizer=bert_ft_tokenizer,\n",
    "#     dataset=fixed_target_twitter_clm_ds,\n",
    "#     pi_dict=twitter_target_restricted_pis,\n",
    "#     default_encoder=False,\n",
    "#     return_ranks=True,\n",
    "#     average_k_layers=1\n",
    "# )\n",
    "\n",
    "# twitter_bertftlarge_avg_rank, twitter_bertftlarge_top100acc, twitter_bertftlarge_avg_score, twitter_bertftlarge_ranks =  calculate_clm_based_metrics(\n",
    "#     clm_model=bertlarge_ft_twitter_model,\n",
    "#     tokenizer=bertlarge_ft_tokenizer,\n",
    "#     dataset=fixed_target_twitter_clm_ds,\n",
    "#     pi_dict=twitter_target_restricted_pis,\n",
    "#     default_encoder=False,\n",
    "#     return_ranks=True,\n",
    "#     average_k_layers=1\n",
    "# )\n"
   ]
  },
  {
   "cell_type": "markdown",
   "id": "e0e1e6e7",
   "metadata": {},
   "source": [
    "## wiki restricted target experiments"
   ]
  },
  {
   "cell_type": "code",
   "execution_count": 21,
   "id": "bb04096c",
   "metadata": {},
   "outputs": [
    {
     "name": "stdout",
     "output_type": "stream",
     "text": [
      "calculating embeddings...\n"
     ]
    },
    {
     "name": "stderr",
     "output_type": "stream",
     "text": [
      "165888it [00:49, 3327.41it/s]                            \n",
      "11264it [00:03, 3416.10it/s]                           \n"
     ]
    },
    {
     "name": "stdout",
     "output_type": "stream",
     "text": [
      "calculating ranks...\n"
     ]
    },
    {
     "name": "stderr",
     "output_type": "stream",
     "text": [
      "165888it [00:02, 75204.23it/s]                            \n"
     ]
    },
    {
     "name": "stdout",
     "output_type": "stream",
     "text": [
      "343.2054443359375 0.6584111247798924 -8.685908317565918\n",
      "calculating embeddings...\n"
     ]
    },
    {
     "name": "stderr",
     "output_type": "stream",
     "text": [
      "165888it [00:52, 3144.85it/s]                            \n",
      "11264it [00:03, 3222.96it/s]                           \n"
     ]
    },
    {
     "name": "stdout",
     "output_type": "stream",
     "text": [
      "calculating ranks...\n"
     ]
    },
    {
     "name": "stderr",
     "output_type": "stream",
     "text": [
      "165888it [00:02, 79174.71it/s]                            \n"
     ]
    },
    {
     "name": "stdout",
     "output_type": "stream",
     "text": [
      "1593.6790771484375 0.19588368671153242 -9.129660606384277\n",
      "calculating embeddings...\n"
     ]
    },
    {
     "name": "stderr",
     "output_type": "stream",
     "text": [
      "165888it [00:46, 3535.49it/s]                            \n",
      "11264it [00:01, 6434.64it/s]                           \n"
     ]
    },
    {
     "name": "stdout",
     "output_type": "stream",
     "text": [
      "calculating ranks...\n"
     ]
    },
    {
     "name": "stderr",
     "output_type": "stream",
     "text": [
      "165888it [00:02, 80028.31it/s]                            \n"
     ]
    },
    {
     "name": "stdout",
     "output_type": "stream",
     "text": [
      "3676.487060546875 0.09345225173070892 -9.28583812713623\n",
      "calculating embeddings...\n"
     ]
    },
    {
     "name": "stderr",
     "output_type": "stream",
     "text": [
      "165888it [00:37, 4384.66it/s]                            \n",
      "11264it [00:01, 7046.98it/s]                           \n"
     ]
    },
    {
     "name": "stdout",
     "output_type": "stream",
     "text": [
      "calculating ranks...\n"
     ]
    },
    {
     "name": "stderr",
     "output_type": "stream",
     "text": [
      "165888it [00:02, 78115.99it/s]                            \n"
     ]
    },
    {
     "name": "stdout",
     "output_type": "stream",
     "text": [
      "3723.29345703125 0.06017680970644282 -9.312188148498535\n",
      "calculating embeddings...\n"
     ]
    },
    {
     "name": "stderr",
     "output_type": "stream",
     "text": [
      "165888it [00:47, 3522.56it/s]                            \n",
      "11264it [00:01, 5683.75it/s]                           \n"
     ]
    },
    {
     "name": "stdout",
     "output_type": "stream",
     "text": [
      "calculating ranks...\n"
     ]
    },
    {
     "name": "stderr",
     "output_type": "stream",
     "text": [
      "165888it [00:02, 77533.25it/s]                            "
     ]
    },
    {
     "name": "stdout",
     "output_type": "stream",
     "text": [
      "1456.0577392578125 0.20978966157705575 -9.140355110168457\n",
      "CPU times: user 11min 4s, sys: 1min 4s, total: 12min 8s\n",
      "Wall time: 4min 18s\n"
     ]
    },
    {
     "name": "stderr",
     "output_type": "stream",
     "text": [
      "\n"
     ]
    }
   ],
   "source": [
    "%%time\n",
    "\n",
    "# sbert and its finetuned\n",
    "wiki_sbertft_avg_rank, wiki_sbertft_top100acc, wiki_sbertft_avg_score, wiki_sbertft_ranks = calculate_clm_based_metrics(\n",
    "    clm_model=wiki_ft_sbert,\n",
    "    tokenizer=None,\n",
    "    dataset=fixed_target_wiki_clm_ds,\n",
    "    pi_dict=wiki_target_restricted_pis,\n",
    "    default_encoder=True,\n",
    "    return_ranks=True,\n",
    ")\n",
    "\n",
    "wiki_sbert_avg_rank, wiki_sbert_top100acc, wiki_sbert_avg_score, wiki_sbert_ranks =  calculate_clm_based_metrics(\n",
    "    clm_model=sbert_model,\n",
    "    tokenizer=None,\n",
    "    dataset=fixed_target_wiki_clm_ds,\n",
    "    pi_dict=wiki_target_restricted_pis,\n",
    "    default_encoder=True,\n",
    "    return_ranks=True,\n",
    ")\n",
    "\n",
    "# bert and roberta\n",
    "\n",
    "wiki_bert_avg_rank, wiki_bert_top100acc, wiki_bert_avg_score, wiki_bert_ranks = calculate_clm_based_metrics(\n",
    "    clm_model=bert_model,\n",
    "    tokenizer=bert_tokenizer,\n",
    "    dataset=fixed_target_wiki_clm_ds,\n",
    "    pi_dict=wiki_target_restricted_pis,\n",
    "    default_encoder=False,\n",
    "    return_ranks=True,\n",
    "    average_k_layers=1\n",
    ")\n",
    "\n",
    "wiki_roberta_avg_rank, wiki_roberta_top100acc, wiki_roberta_avg_score, wiki_roberta_ranks =  calculate_clm_based_metrics(\n",
    "    clm_model=roberta_model,\n",
    "    tokenizer=roberta_tokenizer,\n",
    "    dataset=fixed_target_wiki_clm_ds,\n",
    "    pi_dict=wiki_target_restricted_pis,\n",
    "    default_encoder=False,\n",
    "    return_ranks=True,\n",
    "    average_k_layers=1\n",
    ")\n",
    "\n",
    "wiki_bertft_avg_rank, wiki_bertft_top100acc, wiki_bertft_avg_score, wiki_bertft_ranks =  calculate_clm_based_metrics(\n",
    "    clm_model=bert_ft_wiki_model,\n",
    "    tokenizer=bert_ft_tokenizer,\n",
    "    dataset=fixed_target_wiki_clm_ds,\n",
    "    pi_dict=wiki_target_restricted_pis,\n",
    "    default_encoder=False,\n",
    "    return_ranks=True,\n",
    "    average_k_layers=1\n",
    ")\n"
   ]
  },
  {
   "cell_type": "markdown",
   "id": "c002261e",
   "metadata": {
    "heading_collapsed": true
   },
   "source": [
    "### full bio metrics"
   ]
  },
  {
   "cell_type": "code",
   "execution_count": null,
   "id": "f827c08c",
   "metadata": {
    "hidden": true
   },
   "outputs": [],
   "source": [
    "%%time\n",
    "# sbert and its finetuned\n",
    "\n",
    "twitter_sbertft_avg_rank, twitter_sbertft_top100acc = calculate_clm_based_metrics(\n",
    "    clm_model=twitter_ft_sbert,\n",
    "    tokenizer=None,\n",
    "    dataset=clm_test_ds_twitter,\n",
    "    pi_dict=twitter_pi_dict,\n",
    "    default_encoder=True\n",
    ")\n",
    "\n",
    "twitter_sbert_avg_rank, twitter_sbert_top100acc =  calculate_clm_based_metrics(\n",
    "    clm_model=sbert_model,\n",
    "    tokenizer=None,\n",
    "    dataset=clm_test_ds_twitter,\n",
    "    pi_dict=twitter_pi_dict,\n",
    "    default_encoder=True\n",
    ")\n",
    "\n",
    "wiki_sbertft_avg_rank, wiki_sbertft_top100acc =  calculate_clm_based_metrics(\n",
    "    clm_model=wiki_ft_sbert,\n",
    "    tokenizer=None,\n",
    "    dataset=clm_test_ds_wiki,\n",
    "    pi_dict=wiki_pi_dict,\n",
    "    default_encoder=True\n",
    ")\n",
    "\n",
    "wiki_sbert_avg_rank, wiki_sbert_top100acc =  calculate_clm_based_metrics(\n",
    "    clm_model=sbert_model,\n",
    "    tokenizer=None,\n",
    "    dataset=clm_test_ds_wiki,\n",
    "    pi_dict=wiki_pi_dict,\n",
    "    default_encoder=True\n",
    ")\n",
    "\n",
    "# bert and bertweet\n",
    "\n",
    "twitter_bert_avg_rank, twitter_bert_top100acc = calculate_clm_based_metrics(\n",
    "    clm_model=bert_model,\n",
    "    tokenizer=bert_tokenizer,\n",
    "    dataset=clm_test_ds_twitter,\n",
    "    pi_dict=twitter_pi_dict,\n",
    "    default_encoder=False\n",
    ")\n",
    "\n",
    "twitter_bertweet_avg_rank, twitter_bertweet_top100acc =  calculate_clm_based_metrics(\n",
    "    clm_model=bertweet_model,\n",
    "    tokenizer=bertweet_tokenizer,\n",
    "    dataset=clm_test_ds_twitter,\n",
    "    pi_dict=twitter_pi_dict,\n",
    "    default_encoder=False\n",
    ")\n",
    "\n",
    "wiki_bert_avg_rank, wiki_bert_top100acc = calculate_clm_based_metrics(\n",
    "    clm_model=bert_model,\n",
    "    tokenizer=bert_tokenizer,\n",
    "    dataset=clm_test_ds_wiki,\n",
    "    pi_dict=wiki_pi_dict,\n",
    "    default_encoder=False\n",
    ")\n",
    "\n",
    "wiki_bertweet_avg_rank, wiki_bertweet_top100acc =  calculate_clm_based_metrics(\n",
    "    clm_model=bertweet_model,\n",
    "    tokenizer=bertweet_tokenizer,\n",
    "    dataset=clm_test_ds_wiki,\n",
    "    pi_dict=wiki_pi_dict,\n",
    "    default_encoder=False\n",
    ")"
   ]
  },
  {
   "cell_type": "markdown",
   "id": "38ab34f4",
   "metadata": {
    "heading_collapsed": true
   },
   "source": [
    "### random pi in bio metrics"
   ]
  },
  {
   "cell_type": "code",
   "execution_count": null,
   "id": "8c2a6bc5",
   "metadata": {
    "hidden": true
   },
   "outputs": [],
   "source": [
    "%%time\n",
    "# sbert and its finetuned\n",
    "\n",
    "twitterrand_sbertft_avg_rank, twitterrand_sbertft_top100acc = calculate_clm_based_metrics(\n",
    "    clm_model=twitter_ft_sbert,\n",
    "    tokenizer=None,\n",
    "    dataset=clm_test_ds_twitter_rand,\n",
    "    pi_dict=twitter_pi_dict,\n",
    "    default_encoder=True\n",
    ")\n",
    "\n",
    "twitterrand_sbert_avg_rank, twitterrand_sbert_top100acc =  calculate_clm_based_metrics(\n",
    "    clm_model=sbert_model,\n",
    "    tokenizer=None,\n",
    "    dataset=clm_test_ds_twitter_rand,\n",
    "    pi_dict=twitter_pi_dict,\n",
    "    default_encoder=True\n",
    ")\n",
    "\n",
    "wikirand_sbertft_avg_rank, wikirand_sbertft_top100acc =  calculate_clm_based_metrics(\n",
    "    clm_model=wiki_ft_sbert,\n",
    "    tokenizer=None,\n",
    "    dataset=clm_test_ds_wiki_rand,\n",
    "    pi_dict=wiki_pi_dict,\n",
    "    default_encoder=True\n",
    ")\n",
    "\n",
    "wikirand_sbert_avg_rank, wikirand_sbert_top100acc =  calculate_clm_based_metrics(\n",
    "    clm_model=sbert_model,\n",
    "    tokenizer=None,\n",
    "    dataset=clm_test_ds_wiki_rand,\n",
    "    pi_dict=wiki_pi_dict,\n",
    "    default_encoder=True\n",
    ")\n",
    "\n",
    "# bert and bertweet\n",
    "\n",
    "twitterrand_bert_avg_rank, twitterrand_bert_top100acc = calculate_clm_based_metrics(\n",
    "    clm_model=bert_model,\n",
    "    tokenizer=bert_tokenizer,\n",
    "    dataset=clm_test_ds_twitter_rand,\n",
    "    pi_dict=twitter_pi_dict,\n",
    "    default_encoder=False\n",
    ")\n",
    "\n",
    "twitterrand_bertweet_avg_rank, twitterrand_bertweet_top100acc =  calculate_clm_based_metrics(\n",
    "    clm_model=bertweet_model,\n",
    "    tokenizer=bertweet_tokenizer,\n",
    "    dataset=clm_test_ds_twitter_rand,\n",
    "    pi_dict=twitter_pi_dict,\n",
    "    default_encoder=False\n",
    ")\n",
    "\n",
    "wikirand_bert_avg_rank, wikirand_bert_top100acc = calculate_clm_based_metrics(\n",
    "    clm_model=bert_model,\n",
    "    tokenizer=bert_tokenizer,\n",
    "    dataset=clm_test_ds_wiki_rand,\n",
    "    pi_dict=wiki_pi_dict,\n",
    "    default_encoder=False\n",
    ")\n",
    "\n",
    "wikirand_bertweet_avg_rank, wikirand_bertweet_top100acc =  calculate_clm_based_metrics(\n",
    "    clm_model=bertweet_model,\n",
    "    tokenizer=bertweet_tokenizer,\n",
    "    dataset=clm_test_ds_wiki_rand,\n",
    "    pi_dict=wiki_pi_dict,\n",
    "    default_encoder=False\n",
    ")"
   ]
  },
  {
   "cell_type": "markdown",
   "id": "258c96e4",
   "metadata": {
    "heading_collapsed": true
   },
   "source": [
    "### non restricted test dataset"
   ]
  },
  {
   "cell_type": "code",
   "execution_count": null,
   "id": "ce735bee",
   "metadata": {
    "hidden": true
   },
   "outputs": [],
   "source": [
    "\n",
    "twitter_bert_avg_rank, twitter_bert_top100acc = calculate_clm_based_metrics(\n",
    "    clm_model=bert_model,\n",
    "    tokenizer=bert_tokenizer,\n",
    "    dataset=clm_test_ds_full_twitter,\n",
    "    pi_dict=twitter_pi_dict_full,\n",
    "    default_encoder=False,\n",
    "    emb_bs=512,\n",
    "    cosine_bs=512\n",
    ")\n",
    "\n",
    "wiki_bert_avg_rank, wiki_bert_top100acc = calculate_clm_based_metrics(\n",
    "    clm_model=bert_model,\n",
    "    tokenizer=bert_tokenizer,\n",
    "    dataset=clm_test_ds_full_wiki,\n",
    "    pi_dict=wiki_pi_dict_full,\n",
    "    default_encoder=False,\n",
    "    emb_bs=512,\n",
    "    cosine_bs=512\n",
    ")"
   ]
  },
  {
   "cell_type": "code",
   "execution_count": null,
   "id": "4601f7a7",
   "metadata": {
    "hidden": true
   },
   "outputs": [],
   "source": [
    "twitter_bertweet_avg_rank, twitter_bertweet_top100acc =  calculate_clm_based_metrics(\n",
    "    clm_model=bertweet_model,\n",
    "    tokenizer=bertweet_tokenizer,\n",
    "    dataset=clm_test_ds_full_twitter,\n",
    "    pi_dict=twitter_pi_dict_full,\n",
    "    default_encoder=False,\n",
    "    emb_bs=512,\n",
    "    cosine_bs=512\n",
    ")\n",
    "\n",
    "wiki_bertweet_avg_rank, wiki_bertweet_top100acc =  calculate_clm_based_metrics(\n",
    "    clm_model=bertweet_model,\n",
    "    tokenizer=bertweet_tokenizer,\n",
    "    dataset=clm_test_ds_full_wiki,\n",
    "    pi_dict=wiki_pi_dict_full,\n",
    "    default_encoder=False,\n",
    "    emb_bs=512,\n",
    "    cosine_bs=512\n",
    ")"
   ]
  },
  {
   "cell_type": "code",
   "execution_count": null,
   "id": "92beaea6",
   "metadata": {
    "hidden": true
   },
   "outputs": [],
   "source": [
    "\n",
    "twitter_sbertft_avg_rank, twitter_sbertft_top100acc = calculate_clm_based_metrics(\n",
    "    clm_model=twitter_ft_sbert,\n",
    "    tokenizer=None,\n",
    "    dataset=clm_test_ds_full_twitter,\n",
    "    pi_dict=twitter_pi_dict_full,\n",
    "    default_encoder=True,\n",
    "    emb_bs=512,\n",
    "    cosine_bs=512\n",
    ")\n",
    "\n",
    "twitter_sbert_avg_rank, twitter_sbert_top100acc =  calculate_clm_based_metrics(\n",
    "    clm_model=sbert_model,\n",
    "    tokenizer=None,\n",
    "    dataset=clm_test_ds_full_twitter,\n",
    "    pi_dict=twitter_pi_dict_full,\n",
    "    default_encoder=True,\n",
    "    emb_bs=512,\n",
    "    cosine_bs=512\n",
    ")\n",
    "\n",
    "wiki_sbertft_avg_rank, wiki_sbertft_top100acc =  calculate_clm_based_metrics(\n",
    "    clm_model=wiki_ft_sbert,\n",
    "    tokenizer=None,\n",
    "    dataset=clm_test_ds_full_wiki,\n",
    "    pi_dict=wiki_pi_dict_full,\n",
    "    default_encoder=True,\n",
    "    emb_bs=512,\n",
    "    cosine_bs=512\n",
    ")\n",
    "\n",
    "wiki_sbert_avg_rank, wiki_sbert_top100acc =  calculate_clm_based_metrics(\n",
    "    clm_model=sbert_model,\n",
    "    tokenizer=None,\n",
    "    dataset=clm_test_ds_full_wiki,\n",
    "    pi_dict=wiki_pi_dict_full,\n",
    "    default_encoder=True,\n",
    "    emb_bs=512,\n",
    "    cosine_bs=512\n",
    ")\n"
   ]
  },
  {
   "cell_type": "markdown",
   "id": "18c237ed",
   "metadata": {
    "heading_collapsed": true
   },
   "source": [
    "### cross platform models"
   ]
  },
  {
   "cell_type": "code",
   "execution_count": null,
   "id": "d644ef0b",
   "metadata": {
    "hidden": true
   },
   "outputs": [],
   "source": [
    "\n",
    "twitter_crossplt_sbertft_avg_rank, twitter_crossplt_sbertft_top100acc = calculate_clm_based_metrics(\n",
    "    clm_model=wiki_ft_sbert,\n",
    "    tokenizer=None,\n",
    "    dataset=clm_test_ds_full_twitter,\n",
    "    pi_dict=twitter_pi_dict_full,\n",
    "    default_encoder=True,\n",
    "    emb_bs=512,\n",
    "    cosine_bs=512\n",
    ")\n",
    "\n",
    "\n",
    "wiki_crossplt_sbertft_avg_rank, wiki_crossplt_sbertft_top100acc =  calculate_clm_based_metrics(\n",
    "    clm_model=twitter_ft_sbert,\n",
    "    tokenizer=None,\n",
    "    dataset=clm_test_ds_full_wiki,\n",
    "    pi_dict=wiki_pi_dict_full,\n",
    "    default_encoder=True,\n",
    "    emb_bs=512,\n",
    "    cosine_bs=512\n",
    ")\n"
   ]
  },
  {
   "cell_type": "markdown",
   "id": "83839422",
   "metadata": {},
   "source": [
    "## Full comparison"
   ]
  },
  {
   "cell_type": "markdown",
   "id": "1fad091d",
   "metadata": {
    "heading_collapsed": true
   },
   "source": [
    "### twitter only"
   ]
  },
  {
   "cell_type": "code",
   "execution_count": null,
   "id": "2a535637",
   "metadata": {
    "hidden": true
   },
   "outputs": [],
   "source": [
    "import seaborn as sns\n",
    "\n",
    "sns.set_theme()\n",
    "\n",
    "import matplotlib.pyplot as plt\n",
    "import pandas as pd\n",
    "\n",
    "df = pd.DataFrame({\n",
    "    'model': [\n",
    "        'w2v',\n",
    "        'BERT',\n",
    "        'S-BERT',\n",
    "        'Roberta',\n",
    "        'S-BERT-ft',\n",
    "        'freq-baseline'\n",
    "    ],\n",
    "    'dataset': [\n",
    "        'twitter',\n",
    "        'twitter',\n",
    "        'twitter',\n",
    "        'twitter',\n",
    "        'twitter',\n",
    "        'twitter',\n",
    "    ],\n",
    "    'avg_rank': [\n",
    "        twitter_w2v_negsample_avgrank, \n",
    "        twitter_bert_avg_rank,\n",
    "        twitter_sbert_avg_rank,\n",
    "        twitter_roberta_avg_rank,\n",
    "        twitter_sbertft_avg_rank,\n",
    "        twitter_freq_based_avg_rank,\n",
    "    ],\n",
    "    'avg_score': [\n",
    "        twitter_w2v_negsample_avgscore, \n",
    "        twitter_bert_avg_score,\n",
    "        twitter_sbert_avg_score,\n",
    "        twitter_roberta_avg_score,\n",
    "        twitter_sbertft_avg_score,\n",
    "        None,\n",
    "    ],\n",
    "    'top100_acc': [\n",
    "        twitter_w2v_negsample_top100acc,\n",
    "        twitter_bert_top100acc,\n",
    "        twitter_sbert_top100acc,\n",
    "        twitter_roberta_top100acc,\n",
    "        twitter_sbertft_top100acc,\n",
    "        twitter_freq_based_top100acc,\n",
    "    ],\n",
    "})\n",
    "\n",
    "df.to_csv('final_performance_results.csv', header=True, index=False)\n",
    "\n",
    "plt.figure(figsize=(7,3))\n",
    "sns.barplot(data=df, x='dataset', y='top100_acc', hue='model')\n",
    "plt.legend(bbox_to_anchor=(1.05, 1), loc='upper left', borderaxespad=0)\n",
    "plt.show()\n",
    "\n",
    "plt.figure(figsize=(7,3))\n",
    "sns.barplot(data=df, x='dataset', y='avg_rank', hue='model')\n",
    "plt.legend(bbox_to_anchor=(1.05, 1), loc='upper left', borderaxespad=0)\n",
    "plt.show()\n",
    "\n",
    "plt.figure(figsize=(7,3))\n",
    "sns.barplot(data=df, x='dataset', y='avg_score', hue='model')\n",
    "plt.legend(bbox_to_anchor=(1.05, 1), loc='upper left', borderaxespad=0)\n",
    "plt.show()"
   ]
  },
  {
   "cell_type": "markdown",
   "id": "53d6d462",
   "metadata": {
    "heading_collapsed": true
   },
   "source": [
    "### twitter vs wiki - projection"
   ]
  },
  {
   "cell_type": "code",
   "execution_count": null,
   "id": "d5e7d2a1",
   "metadata": {
    "hidden": true
   },
   "outputs": [],
   "source": [
    "twitter_w2v_prj_avg_rank, twitter_w2v_prj_top100acc, twitter_w2v_prj_avg_score\n",
    "\n",
    "import seaborn as sns\n",
    "\n",
    "sns.set_theme()\n",
    "\n",
    "import matplotlib.pyplot as plt\n",
    "import pandas as pd\n",
    "\n",
    "df = pd.DataFrame({\n",
    "    'model': [\n",
    "        'w2v',\n",
    "        'w2v',\n",
    "        'BERT',\n",
    "        'BERT',\n",
    "        'S-BERT',\n",
    "        'S-BERT',\n",
    "        'Roberta',\n",
    "        'Roberta',\n",
    "        'S-BERT-ft',\n",
    "        'S-BERT-ft',\n",
    "        'BERT-ft',\n",
    "        'BERT-ft'\n",
    "    ],\n",
    "    'dataset': [\n",
    "        'twitter',\n",
    "        'wiki',\n",
    "        'twitter',\n",
    "        'wiki',\n",
    "        'twitter',\n",
    "        'wiki',\n",
    "        'twitter',\n",
    "        'wiki',\n",
    "        'twitter',\n",
    "        'wiki',\n",
    "        'twitter',\n",
    "        'wiki',\n",
    "    ],\n",
    "    'avg_rank': [\n",
    "        twitter_w2v_prj_avg_rank, \n",
    "        wiki_w2v_prj_avg_rank,\n",
    "        twitter_bert_prj_avg_rank, \n",
    "        wiki_bert_prj_avg_rank,\n",
    "        twitter_sbert_prj_avg_rank, \n",
    "        wiki_sbert_prj_avg_rank,\n",
    "        twitter_roberta_prj_avg_rank, \n",
    "        wiki_roberta_prj_avg_rank,\n",
    "        twitter_sbertft_prj_avg_rank, \n",
    "        wiki_sbertft_prj_avg_rank,\n",
    "        twitter_bertft_prj_avg_rank, \n",
    "        wiki_bertft_prj_avg_rank,\n",
    "    ],\n",
    "    'avg_score': [\n",
    "        twitter_w2v_prj_avg_score, \n",
    "        wiki_w2v_prj_avg_score,\n",
    "        twitter_bert_prj_avg_score, \n",
    "        wiki_bert_prj_avg_score,\n",
    "        twitter_sbert_prj_avg_score, \n",
    "        wiki_sbert_prj_avg_score,\n",
    "        twitter_roberta_prj_avg_score,\n",
    "        wiki_roberta_prj_avg_score,\n",
    "        twitter_sbertft_prj_avg_score, \n",
    "        wiki_sbertft_prj_avg_score,\n",
    "        twitter_bertft_prj_avg_score, \n",
    "        wiki_bertft_prj_avg_score,\n",
    "    ],\n",
    "    'top100_acc': [\n",
    "        twitter_w2v_prj_top100acc, \n",
    "        wiki_w2v_prj_top100acc,\n",
    "        twitter_bert_prj_top100acc, \n",
    "        wiki_bert_prj_top100acc,\n",
    "        twitter_sbert_prj_top100acc, \n",
    "        wiki_sbert_prj_top100acc,\n",
    "        twitter_roberta_prj_top100acc,\n",
    "        wiki_roberta_prj_top100acc,\n",
    "        twitter_sbertft_prj_top100acc, \n",
    "        wiki_sbertft_prj_top100acc,\n",
    "        twitter_bertft_prj_top100acc, \n",
    "        wiki_bertft_prj_top100acc,\n",
    "    ],\n",
    "})\n",
    "\n",
    "df.to_csv('projection_final_results.csv', header=True, index=False)\n",
    "\n",
    "plt.figure(figsize=(7,3))\n",
    "sns.barplot(data=df, x='dataset', y='top100_acc', hue='model')\n",
    "plt.legend(bbox_to_anchor=(1.05, 1), loc='upper left', borderaxespad=0)\n",
    "plt.show()\n",
    "\n",
    "plt.figure(figsize=(7,3))\n",
    "sns.barplot(data=df, x='dataset', y='avg_rank', hue='model')\n",
    "plt.legend(bbox_to_anchor=(1.05, 1), loc='upper left', borderaxespad=0)\n",
    "plt.show()\n",
    "\n",
    "plt.figure(figsize=(7,3))\n",
    "sns.barplot(data=df, x='dataset', y='avg_score', hue='model')\n",
    "plt.legend(bbox_to_anchor=(1.05, 1), loc='upper left', borderaxespad=0)\n",
    "plt.show()"
   ]
  },
  {
   "cell_type": "markdown",
   "id": "4457f43d",
   "metadata": {},
   "source": [
    "### twitter vs wiki"
   ]
  },
  {
   "cell_type": "code",
   "execution_count": 22,
   "id": "e64b7670",
   "metadata": {},
   "outputs": [
    {
     "data": {
      "image/png": "[encoded data removed]",
      "text/plain": [
       "<Figure size 504x216 with 1 Axes>"
      ]
     },
     "metadata": {},
     "output_type": "display_data"
    },
    {
     "data": {
      "image/png": "[encoded data removed]",
      "text/plain": [
       "<Figure size 504x216 with 1 Axes>"
      ]
     },
     "metadata": {},
     "output_type": "display_data"
    },
    {
     "data": {
      "image/png": "[encoded data removed]",
      "text/plain": [
       "<Figure size 504x216 with 1 Axes>"
      ]
     },
     "metadata": {},
     "output_type": "display_data"
    }
   ],
   "source": [
    "import seaborn as sns\n",
    "\n",
    "sns.set_theme()\n",
    "\n",
    "import matplotlib.pyplot as plt\n",
    "import pandas as pd\n",
    "\n",
    "df = pd.DataFrame({\n",
    "    'model': [\n",
    "        'RoBERTa',\n",
    "        'RoBERTa',\n",
    "        'BERT',\n",
    "        'BERT',\n",
    "        'SBERT',\n",
    "        'SBERT',\n",
    "        'BERT-ft',\n",
    "        'BERT-ft',\n",
    "        'w2v',\n",
    "        'w2v',\n",
    "        'SBERT-ft',\n",
    "        'SBERT-ft',\n",
    "    ],\n",
    "    'dataset': [\n",
    "        'twitter',\n",
    "        'wiki',\n",
    "        'twitter',\n",
    "        'wiki',\n",
    "        'twitter',\n",
    "        'wiki',\n",
    "        'twitter',\n",
    "        'wiki',\n",
    "        'twitter',\n",
    "        'wiki',\n",
    "        'twitter',\n",
    "        'wiki',\n",
    "    ],\n",
    "    'avg_rank': [\n",
    "        twitter_roberta_avg_rank,\n",
    "        wiki_roberta_avg_rank,\n",
    "        \n",
    "        twitter_bert_avg_rank,\n",
    "        wiki_bert_avg_rank,\n",
    "        twitter_sbert_avg_rank,\n",
    "        wiki_sbert_avg_rank,\n",
    "        \n",
    "        twitter_bertft_avg_rank,\n",
    "        wiki_bertft_avg_rank,\n",
    "        \n",
    "        twitter_w2v_negsample_avgrank, \n",
    "        wiki_w2v_cbow_avgrank,\n",
    "        twitter_sbertft_avg_rank,\n",
    "        wiki_sbertft_avg_rank,\n",
    "    ],\n",
    "    'avg_score': [\n",
    "        twitter_roberta_avg_score,\n",
    "        wiki_roberta_avg_score,\n",
    "        \n",
    "        twitter_bert_avg_score,\n",
    "        wiki_bert_avg_score,\n",
    "        twitter_sbert_avg_score,\n",
    "        wiki_sbert_avg_score,\n",
    "        \n",
    "        twitter_bertft_avg_score,\n",
    "        wiki_bertft_avg_score,\n",
    "        \n",
    "        twitter_w2v_negsample_avgscore, \n",
    "        wiki_w2v_cbow_avgscore,\n",
    "        twitter_sbertft_avg_score,\n",
    "        wiki_sbertft_avg_score,\n",
    "    ],\n",
    "    'top1percent_acc': [\n",
    "        twitter_roberta_top100acc,\n",
    "        wiki_roberta_top100acc,\n",
    "        \n",
    "        twitter_bert_top100acc,\n",
    "        wiki_bert_top100acc,\n",
    "        twitter_sbert_top100acc,\n",
    "        wiki_sbert_top100acc,\n",
    "        \n",
    "        twitter_bertft_top100acc,\n",
    "        wiki_bertft_top100acc,\n",
    "        \n",
    "        twitter_w2v_negsample_top100acc,\n",
    "        wiki_w2v_cbow_top100acc,\n",
    "        twitter_sbertft_top100acc,\n",
    "        wiki_sbertft_top100acc,\n",
    "    ],\n",
    "})\n",
    "\n",
    "df.to_csv('final_performance_results.csv', header=True, index=False)\n",
    "\n",
    "plt.figure(figsize=(7,3))\n",
    "sns.barplot(data=df, x='dataset', y='top1percent_acc', hue='model')\n",
    "plt.legend(bbox_to_anchor=(1.05, 1), loc='upper left', borderaxespad=0)\n",
    "plt.show()\n",
    "\n",
    "plt.figure(figsize=(7,3))\n",
    "sns.barplot(data=df, x='dataset', y='avg_rank', hue='model')\n",
    "plt.legend(bbox_to_anchor=(1.05, 1), loc='upper left', borderaxespad=0)\n",
    "plt.show()\n",
    "\n",
    "plt.figure(figsize=(7,3))\n",
    "sns.barplot(data=df, x='dataset', y='avg_score', hue='model')\n",
    "plt.legend(bbox_to_anchor=(1.05, 1), loc='upper left', borderaxespad=0)\n",
    "plt.show()"
   ]
  },
  {
   "cell_type": "code",
   "execution_count": null,
   "id": "68cba604",
   "metadata": {},
   "outputs": [],
   "source": [
    "import seaborn as sns\n",
    "\n",
    "sns.set_theme()\n",
    "\n",
    "import matplotlib.pyplot as plt\n",
    "import pandas as pd\n",
    "\n",
    "df = pd.DataFrame({\n",
    "    'model': [\n",
    "        'w2v',\n",
    "        'w2v',\n",
    "        'BERT',\n",
    "        'BERT',\n",
    "        'S-BERT',\n",
    "        'S-BERT',\n",
    "        'BerTweet',\n",
    "        'BerTweet',\n",
    "        'S-BERT-ft',\n",
    "        'S-BERT-ft',\n",
    "    ],\n",
    "    'dataset': [\n",
    "        'twitter',\n",
    "        'wiki',\n",
    "        'twitter',\n",
    "        'wiki',\n",
    "        'twitter',\n",
    "        'wiki',\n",
    "        'twitter',\n",
    "        'wiki',\n",
    "        'twitter',\n",
    "        'wiki',\n",
    "    ],\n",
    "    'avg_rank': [\n",
    "        twitterrand_w2v_negsample_avgrank,\n",
    "        wiki_w2v_cbow_avgrank,\n",
    "        wikirand_w2v_cbow_avgrank,\n",
    "        twitterrand_bert_avg_rank,\n",
    "        wikirand_bert_avg_rank,\n",
    "        twitterrand_sbert_avg_rank,\n",
    "        wikirand_sbert_avg_rank,\n",
    "        twitterrand_bertweet_avg_rank,\n",
    "        wikirand_bertweet_avg_rank,\n",
    "        twitterrand_sbertft_avg_rank,\n",
    "        wikirand_sbertft_avg_rank,\n",
    "    ],\n",
    "    'top100_acc': [\n",
    "        twitterrand_w2v_negsample_top100acc,\n",
    "        wiki_w2v_cbow_top100acc\n",
    "        wikirand_w2v_cbow_top100acc,\n",
    "        twitterrand_bert_top100acc,\n",
    "        wikirand_bert_top100acc,\n",
    "        twitterrand_sbert_top100acc,\n",
    "        wikirand_sbert_top100acc,\n",
    "        twitterrand_bertweet_top100acc,\n",
    "        wikirand_bertweet_top100acc,\n",
    "        twitterrand_sbertft_top100acc,\n",
    "        wikirand_sbertft_top100acc,\n",
    "    ],\n",
    "})\n",
    "\n",
    "df.to_csv('result_restricted_randombio.csv', header=True, index=False)\n",
    "\n",
    "sns.barplot(data=df, x='dataset', y='top100_acc', hue='model')\n",
    "plt.show()\n",
    "\n",
    "sns.barplot(data=df, x='dataset', y='avg_rank', hue='model')\n",
    "plt.show()"
   ]
  },
  {
   "cell_type": "markdown",
   "id": "45234589",
   "metadata": {},
   "source": [
    "### twitter generalization"
   ]
  },
  {
   "cell_type": "code",
   "execution_count": 45,
   "id": "c2f5b365",
   "metadata": {
    "scrolled": false
   },
   "outputs": [
    {
     "data": {
      "image/png": "[encoded data removed]",
      "text/plain": [
       "<Figure size 288x288 with 1 Axes>"
      ]
     },
     "metadata": {},
     "output_type": "display_data"
    },
    {
     "data": {
      "image/png": "[encoded data removed]",
      "text/plain": [
       "<Figure size 288x288 with 1 Axes>"
      ]
     },
     "metadata": {},
     "output_type": "display_data"
    },
    {
     "data": {
      "image/png": "[encoded data removed]",
      "text/plain": [
       "<Figure size 288x288 with 1 Axes>"
      ]
     },
     "metadata": {},
     "output_type": "display_data"
    }
   ],
   "source": [
    "import seaborn as sns\n",
    "\n",
    "sns.set_theme()\n",
    "\n",
    "import matplotlib.pyplot as plt\n",
    "import pandas as pd\n",
    "\n",
    "df = pd.DataFrame({\n",
    "    'model': [\n",
    "        'RoBERTa',\n",
    "        'BERT',\n",
    "        'SBERT',\n",
    "        'BERT-ft',\n",
    "        'SBERT-ft',\n",
    "    ],\n",
    "    'dataset': [\n",
    "        'twitter',\n",
    "        'twitter',\n",
    "        'twitter',\n",
    "        'twitter',\n",
    "        'twitter',\n",
    "    ],\n",
    "    'avg_rank': [\n",
    "        twitter_roberta_avg_rank,\n",
    "        \n",
    "        twitter_bert_avg_rank,\n",
    "        twitter_sbert_avg_rank,\n",
    "        \n",
    "        twitter_bertft_avg_rank,\n",
    "        \n",
    "        twitter_sbertft_avg_rank,\n",
    "    ],\n",
    "    'avg_score': [\n",
    "        twitter_roberta_avg_score,\n",
    "\n",
    "        twitter_bert_avg_score,\n",
    "\n",
    "        twitter_sbert_avg_score,\n",
    "        twitter_bertft_avg_score,\n",
    "        \n",
    "        \n",
    "        twitter_sbertft_avg_score,\n",
    "    ],\n",
    "    'top1percent_acc': [\n",
    "        twitter_roberta_top100acc,\n",
    "        \n",
    "        twitter_bert_top100acc,\n",
    "        twitter_sbert_top100acc,\n",
    "        \n",
    "        twitter_bertft_top100acc,\n",
    "        \n",
    "        twitter_sbertft_top100acc,\n",
    "    ],\n",
    "})\n",
    "\n",
    "df.to_csv('final_generalization_performance_results.csv', header=True, index=False)\n",
    "\n",
    "plt.figure(figsize=(4,4))\n",
    "sns.barplot(data=df, x='dataset', y='top1percent_acc', hue='model')\n",
    "plt.legend(bbox_to_anchor=(1.05, 1), loc='upper left', borderaxespad=0)\n",
    "plt.show()\n",
    "\n",
    "plt.figure(figsize=(4,4))\n",
    "sns.barplot(data=df, x='dataset', y='avg_rank', hue='model')\n",
    "plt.legend(bbox_to_anchor=(1.05, 1), loc='upper left', borderaxespad=0)\n",
    "plt.show()\n",
    "\n",
    "\n",
    "# df['avg_score'] = (df['avg_score'] - min(df['avg_score'])) / (max(df['avg_score']) - min(df['avg_score']))\n",
    "plt.figure(figsize=(4,4))\n",
    "sns.barplot(data=df, x='dataset', y='avg_score', hue='model')\n",
    "plt.legend(bbox_to_anchor=(1.05, 1), loc='upper left', borderaxespad=0)\n",
    "plt.show()"
   ]
  },
  {
   "cell_type": "code",
   "execution_count": 46,
   "id": "1560eef6",
   "metadata": {},
   "outputs": [
    {
     "data": {
      "text/html": [
       "<div>\n",
       "<style scoped>\n",
       "    .dataframe tbody tr th:only-of-type {\n",
       "        vertical-align: middle;\n",
       "    }\n",
       "\n",
       "    .dataframe tbody tr th {\n",
       "        vertical-align: top;\n",
       "    }\n",
       "\n",
       "    .dataframe thead th {\n",
       "        text-align: right;\n",
       "    }\n",
       "</style>\n",
       "<table border=\"1\" class=\"dataframe\">\n",
       "  <thead>\n",
       "    <tr style=\"text-align: right;\">\n",
       "      <th></th>\n",
       "      <th>model</th>\n",
       "      <th>dataset</th>\n",
       "      <th>avg_rank</th>\n",
       "      <th>avg_score</th>\n",
       "      <th>top1percent_acc</th>\n",
       "    </tr>\n",
       "  </thead>\n",
       "  <tbody>\n",
       "    <tr>\n",
       "      <th>0</th>\n",
       "      <td>RoBERTa</td>\n",
       "      <td>twitter-generalization</td>\n",
       "      <td>9816.116211</td>\n",
       "      <td>-10.021912</td>\n",
       "      <td>0.03500</td>\n",
       "    </tr>\n",
       "    <tr>\n",
       "      <th>1</th>\n",
       "      <td>BERT</td>\n",
       "      <td>twitter-generalization</td>\n",
       "      <td>9548.864258</td>\n",
       "      <td>-10.010695</td>\n",
       "      <td>0.04733</td>\n",
       "    </tr>\n",
       "    <tr>\n",
       "      <th>2</th>\n",
       "      <td>SBERT</td>\n",
       "      <td>twitter-generalization</td>\n",
       "      <td>7150.918457</td>\n",
       "      <td>-9.956070</td>\n",
       "      <td>0.12143</td>\n",
       "    </tr>\n",
       "    <tr>\n",
       "      <th>3</th>\n",
       "      <td>BERT-ft</td>\n",
       "      <td>twitter-generalization</td>\n",
       "      <td>6743.915039</td>\n",
       "      <td>-9.931540</td>\n",
       "      <td>0.12749</td>\n",
       "    </tr>\n",
       "    <tr>\n",
       "      <th>4</th>\n",
       "      <td>SBERT-ft</td>\n",
       "      <td>twitter-generalization</td>\n",
       "      <td>3620.183594</td>\n",
       "      <td>-9.755341</td>\n",
       "      <td>0.18670</td>\n",
       "    </tr>\n",
       "  </tbody>\n",
       "</table>\n",
       "</div>"
      ],
      "text/plain": [
       "      model                 dataset     avg_rank  avg_score  top1percent_acc\n",
       "0   RoBERTa  twitter-generalization  9816.116211 -10.021912          0.03500\n",
       "1      BERT  twitter-generalization  9548.864258 -10.010695          0.04733\n",
       "2     SBERT  twitter-generalization  7150.918457  -9.956070          0.12143\n",
       "3   BERT-ft  twitter-generalization  6743.915039  -9.931540          0.12749\n",
       "4  SBERT-ft  twitter-generalization  3620.183594  -9.755341          0.18670"
      ]
     },
     "execution_count": 46,
     "metadata": {},
     "output_type": "execute_result"
    }
   ],
   "source": [
    "gen_df = df.copy()\n",
    "gen_df['dataset'] = 'twitter-generalization'\n",
    "gen_df"
   ]
  },
  {
   "cell_type": "code",
   "execution_count": 47,
   "id": "e917be2c",
   "metadata": {},
   "outputs": [
    {
     "data": {
      "text/html": [
       "<div>\n",
       "<style scoped>\n",
       "    .dataframe tbody tr th:only-of-type {\n",
       "        vertical-align: middle;\n",
       "    }\n",
       "\n",
       "    .dataframe tbody tr th {\n",
       "        vertical-align: top;\n",
       "    }\n",
       "\n",
       "    .dataframe thead th {\n",
       "        text-align: right;\n",
       "    }\n",
       "</style>\n",
       "<table border=\"1\" class=\"dataframe\">\n",
       "  <thead>\n",
       "    <tr style=\"text-align: right;\">\n",
       "      <th></th>\n",
       "      <th>model</th>\n",
       "      <th>dataset</th>\n",
       "      <th>avg_rank</th>\n",
       "      <th>avg_score</th>\n",
       "      <th>top1percent_acc</th>\n",
       "    </tr>\n",
       "  </thead>\n",
       "  <tbody>\n",
       "    <tr>\n",
       "      <th>0</th>\n",
       "      <td>RoBERTa</td>\n",
       "      <td>twitter</td>\n",
       "      <td>9271.075195</td>\n",
       "      <td>-10.021880</td>\n",
       "      <td>0.03525</td>\n",
       "    </tr>\n",
       "    <tr>\n",
       "      <th>2</th>\n",
       "      <td>BERT</td>\n",
       "      <td>twitter</td>\n",
       "      <td>9611.648438</td>\n",
       "      <td>-10.011054</td>\n",
       "      <td>0.05112</td>\n",
       "    </tr>\n",
       "    <tr>\n",
       "      <th>4</th>\n",
       "      <td>SBERT</td>\n",
       "      <td>twitter</td>\n",
       "      <td>5606.247559</td>\n",
       "      <td>-9.928705</td>\n",
       "      <td>0.15891</td>\n",
       "    </tr>\n",
       "    <tr>\n",
       "      <th>6</th>\n",
       "      <td>BERT-ft</td>\n",
       "      <td>twitter</td>\n",
       "      <td>4450.077148</td>\n",
       "      <td>-9.863602</td>\n",
       "      <td>0.25423</td>\n",
       "    </tr>\n",
       "    <tr>\n",
       "      <th>10</th>\n",
       "      <td>SBERT-ft</td>\n",
       "      <td>twitter</td>\n",
       "      <td>1543.439819</td>\n",
       "      <td>-9.598256</td>\n",
       "      <td>0.46429</td>\n",
       "    </tr>\n",
       "  </tbody>\n",
       "</table>\n",
       "</div>"
      ],
      "text/plain": [
       "       model  dataset     avg_rank  avg_score  top1percent_acc\n",
       "0    RoBERTa  twitter  9271.075195 -10.021880          0.03525\n",
       "2       BERT  twitter  9611.648438 -10.011054          0.05112\n",
       "4      SBERT  twitter  5606.247559  -9.928705          0.15891\n",
       "6    BERT-ft  twitter  4450.077148  -9.863602          0.25423\n",
       "10  SBERT-ft  twitter  1543.439819  -9.598256          0.46429"
      ]
     },
     "execution_count": 47,
     "metadata": {},
     "output_type": "execute_result"
    }
   ],
   "source": [
    "df = pd.read_csv('final_performance_results.csv')\n",
    "df = df[df.model!='w2v']\n",
    "df = df[df.dataset != 'wiki']\n",
    "df\n"
   ]
  },
  {
   "cell_type": "code",
   "execution_count": 48,
   "id": "8894f1a9",
   "metadata": {},
   "outputs": [
    {
     "data": {
      "text/html": [
       "<div>\n",
       "<style scoped>\n",
       "    .dataframe tbody tr th:only-of-type {\n",
       "        vertical-align: middle;\n",
       "    }\n",
       "\n",
       "    .dataframe tbody tr th {\n",
       "        vertical-align: top;\n",
       "    }\n",
       "\n",
       "    .dataframe thead th {\n",
       "        text-align: right;\n",
       "    }\n",
       "</style>\n",
       "<table border=\"1\" class=\"dataframe\">\n",
       "  <thead>\n",
       "    <tr style=\"text-align: right;\">\n",
       "      <th></th>\n",
       "      <th>model</th>\n",
       "      <th>dataset</th>\n",
       "      <th>avg_rank</th>\n",
       "      <th>avg_score</th>\n",
       "      <th>top1percent_acc</th>\n",
       "    </tr>\n",
       "  </thead>\n",
       "  <tbody>\n",
       "    <tr>\n",
       "      <th>0</th>\n",
       "      <td>RoBERTa</td>\n",
       "      <td>twitter-generalization</td>\n",
       "      <td>9816.116211</td>\n",
       "      <td>-10.021912</td>\n",
       "      <td>0.03500</td>\n",
       "    </tr>\n",
       "    <tr>\n",
       "      <th>1</th>\n",
       "      <td>BERT</td>\n",
       "      <td>twitter-generalization</td>\n",
       "      <td>9548.864258</td>\n",
       "      <td>-10.010695</td>\n",
       "      <td>0.04733</td>\n",
       "    </tr>\n",
       "    <tr>\n",
       "      <th>2</th>\n",
       "      <td>SBERT</td>\n",
       "      <td>twitter-generalization</td>\n",
       "      <td>7150.918457</td>\n",
       "      <td>-9.956070</td>\n",
       "      <td>0.12143</td>\n",
       "    </tr>\n",
       "    <tr>\n",
       "      <th>3</th>\n",
       "      <td>BERT-ft</td>\n",
       "      <td>twitter-generalization</td>\n",
       "      <td>6743.915039</td>\n",
       "      <td>-9.931540</td>\n",
       "      <td>0.12749</td>\n",
       "    </tr>\n",
       "    <tr>\n",
       "      <th>4</th>\n",
       "      <td>SBERT-ft</td>\n",
       "      <td>twitter-generalization</td>\n",
       "      <td>3620.183594</td>\n",
       "      <td>-9.755341</td>\n",
       "      <td>0.18670</td>\n",
       "    </tr>\n",
       "    <tr>\n",
       "      <th>0</th>\n",
       "      <td>RoBERTa</td>\n",
       "      <td>twitter</td>\n",
       "      <td>9271.075195</td>\n",
       "      <td>-10.021880</td>\n",
       "      <td>0.03525</td>\n",
       "    </tr>\n",
       "    <tr>\n",
       "      <th>2</th>\n",
       "      <td>BERT</td>\n",
       "      <td>twitter</td>\n",
       "      <td>9611.648438</td>\n",
       "      <td>-10.011054</td>\n",
       "      <td>0.05112</td>\n",
       "    </tr>\n",
       "    <tr>\n",
       "      <th>4</th>\n",
       "      <td>SBERT</td>\n",
       "      <td>twitter</td>\n",
       "      <td>5606.247559</td>\n",
       "      <td>-9.928705</td>\n",
       "      <td>0.15891</td>\n",
       "    </tr>\n",
       "    <tr>\n",
       "      <th>6</th>\n",
       "      <td>BERT-ft</td>\n",
       "      <td>twitter</td>\n",
       "      <td>4450.077148</td>\n",
       "      <td>-9.863602</td>\n",
       "      <td>0.25423</td>\n",
       "    </tr>\n",
       "    <tr>\n",
       "      <th>10</th>\n",
       "      <td>SBERT-ft</td>\n",
       "      <td>twitter</td>\n",
       "      <td>1543.439819</td>\n",
       "      <td>-9.598256</td>\n",
       "      <td>0.46429</td>\n",
       "    </tr>\n",
       "  </tbody>\n",
       "</table>\n",
       "</div>"
      ],
      "text/plain": [
       "       model                 dataset     avg_rank  avg_score  top1percent_acc\n",
       "0    RoBERTa  twitter-generalization  9816.116211 -10.021912          0.03500\n",
       "1       BERT  twitter-generalization  9548.864258 -10.010695          0.04733\n",
       "2      SBERT  twitter-generalization  7150.918457  -9.956070          0.12143\n",
       "3    BERT-ft  twitter-generalization  6743.915039  -9.931540          0.12749\n",
       "4   SBERT-ft  twitter-generalization  3620.183594  -9.755341          0.18670\n",
       "0    RoBERTa                 twitter  9271.075195 -10.021880          0.03525\n",
       "2       BERT                 twitter  9611.648438 -10.011054          0.05112\n",
       "4      SBERT                 twitter  5606.247559  -9.928705          0.15891\n",
       "6    BERT-ft                 twitter  4450.077148  -9.863602          0.25423\n",
       "10  SBERT-ft                 twitter  1543.439819  -9.598256          0.46429"
      ]
     },
     "execution_count": 48,
     "metadata": {},
     "output_type": "execute_result"
    }
   ],
   "source": [
    "res_df = pd.concat([gen_df, df], axis=0)\n",
    "res_df"
   ]
  },
  {
   "cell_type": "code",
   "execution_count": 61,
   "id": "bb32d709",
   "metadata": {},
   "outputs": [
    {
     "data": {
      "image/png": "[encoded data removed]",
      "text/plain": [
       "<Figure size 1080x360 with 3 Axes>"
      ]
     },
     "metadata": {},
     "output_type": "display_data"
    }
   ],
   "source": [
    "fig, ax = plt.subplots(1, 3, figsize=(15,5))\n",
    "\n",
    "g = sns.barplot(data=res_df, x='model', y='avg_rank', hue='dataset', ax=ax[0])\n",
    "g.legend_.remove()\n",
    "# res_df['avg_score'] = (res_df['avg_score'] - min(res_df['avg_score'])) / (max(res_df['avg_score']) - min(res_df['avg_score']))\n",
    "g = sns.barplot(data=res_df, x='model', y='avg_score', hue='dataset', ax=ax[1])\n",
    "g.legend_.remove()\n",
    "\n",
    "g = sns.barplot(data=res_df, x='model', y='top1percent_acc', hue='dataset', ax=ax[2])\n",
    "g.legend_.remove()\n",
    "\n",
    "handles, labels = ax[2].get_legend_handles_labels()\n",
    "fig.legend(handles, labels, loc='upper center')\n",
    "# plt.legend(bbox_to_anchor=(1.05, 1), loc='upper right', borderaxespad=0)\n",
    "plt.show()"
   ]
  },
  {
   "cell_type": "markdown",
   "id": "a7045204",
   "metadata": {},
   "source": [
    "### restricted target results for wiki"
   ]
  },
  {
   "cell_type": "code",
   "execution_count": null,
   "id": "b85fac2d",
   "metadata": {},
   "outputs": [],
   "source": [
    "import seaborn as sns\n",
    "\n",
    "sns.set_theme()\n",
    "\n",
    "import matplotlib.pyplot as plt\n",
    "import pandas as pd\n",
    "\n",
    "df = pd.DataFrame({\n",
    "    'model': [\n",
    "        'w2v',\n",
    "        'bert',\n",
    "        'roberta',\n",
    "        'bert-ft',\n",
    "        'sbert',\n",
    "        'sbert-ft'\n",
    "    ],\n",
    "    'dataset': [\n",
    "        'wiki',\n",
    "        'wiki',\n",
    "        'wiki',\n",
    "        'wiki',\n",
    "        'wiki',\n",
    "        'wiki',\n",
    "    ],\n",
    "    'avg_rank': [\n",
    "        wiki_w2v_cbow_avgrank, \n",
    "        wiki_bert_avg_rank,\n",
    "        wiki_roberta_avg_rank,\n",
    "        wiki_bertft_avg_rank,\n",
    "        wiki_sbert_avg_rank,\n",
    "        wiki_sbertft_avg_rank,\n",
    "    ],\n",
    "    'avg_score': [\n",
    "        wiki_w2v_cbow_avgscore, \n",
    "        wiki_bert_avg_score,\n",
    "        wiki_roberta_avg_score,\n",
    "        wiki_bertft_avg_score,\n",
    "        wiki_sbert_avg_score,\n",
    "        wiki_sbertft_avg_score,\n",
    "    ],\n",
    "    'top100_acc': [\n",
    "        wiki_w2v_cbow_top100acc, \n",
    "        wiki_bert_top100acc,\n",
    "        wiki_roberta_top100acc,\n",
    "        wiki_bertft_top100acc,\n",
    "        wiki_sbert_top100acc,\n",
    "        wiki_sbertft_top100acc,\n",
    "    ],\n",
    "})\n",
    "\n",
    "df.to_csv('wiki_final_results.csv', header=True, index=False)\n",
    "\n",
    "plt.figure(figsize=(4,4))\n",
    "sns.barplot(data=df, x='dataset', y='top100_acc', hue='model')\n",
    "plt.legend(bbox_to_anchor=(1.05, 1), loc='upper left', borderaxespad=0)\n",
    "plt.show()\n",
    "\n",
    "plt.figure(figsize=(4,4))\n",
    "sns.barplot(data=df, x='dataset', y='avg_rank', hue='model')\n",
    "plt.legend(bbox_to_anchor=(1.05, 1), loc='upper left', borderaxespad=0)\n",
    "plt.show()\n",
    "\n",
    "\n",
    "df['avg_score'] = (df['avg_score'] - min(df['avg_score'])) / (max(df['avg_score']) - min(df['avg_score']))\n",
    "plt.figure(figsize=(4,4))\n",
    "sns.barplot(data=df, x='dataset', y='avg_score', hue='model')\n",
    "plt.legend(bbox_to_anchor=(1.05, 1), loc='upper left', borderaxespad=0)\n",
    "plt.show()"
   ]
  },
  {
   "cell_type": "markdown",
   "id": "297b960c",
   "metadata": {},
   "source": [
    "## freq vs ranks"
   ]
  },
  {
   "cell_type": "code",
   "execution_count": 62,
   "id": "b5d600c6",
   "metadata": {},
   "outputs": [
    {
     "name": "stderr",
     "output_type": "stream",
     "text": [
      "100%|██████████| 3534903/3534903 [00:11<00:00, 305701.66it/s]\n",
      "100%|██████████| 239046/239046 [00:00<00:00, 395818.65it/s]\n"
     ]
    }
   ],
   "source": [
    "import pickle\n",
    "\n",
    "with open('data/twitter_cleaned_train_bios_100.pkl', 'rb') as f:\n",
    "    twitter_bios = pickle.load(f)\n",
    "\n",
    "twitter_cntr = Counter()\n",
    "\n",
    "_, twitter_ys = zip(*fixed_target_twitter_clm_ds)\n",
    "y_set = set(twitter_ys)\n",
    "\n",
    "for bio in tqdm(twitter_bios):\n",
    "    for pi in bio:\n",
    "        if pi in y_set:\n",
    "            twitter_cntr.update([pi])\n",
    "\n",
    "    \n",
    "with open('data/wiki_cleaned_train_bios_3.pkl', 'rb') as f:\n",
    "    wiki_bios = pickle.load(f)\n",
    "    \n",
    "wiki_cntr = Counter()\n",
    "\n",
    "_, wiki_ys = zip(*fixed_target_wiki_clm_ds)\n",
    "y_set = set(wiki_ys)\n",
    "\n",
    "for bio in tqdm(wiki_bios):\n",
    "    for pi in bio:\n",
    "        if pi in y_set:\n",
    "            wiki_cntr.update([pi])"
   ]
  },
  {
   "cell_type": "code",
   "execution_count": 67,
   "id": "bb93b4c3",
   "metadata": {},
   "outputs": [],
   "source": [
    "import seaborn as sns\n",
    "import numpy as np\n",
    "\n",
    "sns.set_theme()\n",
    "\n",
    "def plot_rank_freq(ranks, ys, counter, name, order=1):\n",
    "    if isinstance(ranks[0], list):\n",
    "        ranks = [r[0] for r in ranks]\n",
    "    \n",
    "    data = np.array(list(zip(ranks, ys)))\n",
    "    sample_ids = np.random.randint(0, len(ranks), size=10000)\n",
    "    \n",
    "    data = list(data[sample_ids])\n",
    "    ranks, ys = zip(*data)\n",
    "    \n",
    "    freqs = []\n",
    "    for y in ys:\n",
    "        freqs.append(counter[y]/100)\n",
    "\n",
    "    ranks = [float(r) for r in ranks]\n",
    "        \n",
    "#     print(ranks[:3], freqs[:3])\n",
    "#     print(\"plotting\")\n",
    "    \n",
    "    sns.regplot(x=freqs, y=ranks, scatter=False, order=order, label=name)\n",
    "    plt.xlabel('frequency')\n",
    "    plt.ylabel('rank')\n",
    "    plt.title('frequency vs rank for different models')\n",
    "    \n",
    "        \n"
   ]
  },
  {
   "cell_type": "code",
   "execution_count": 68,
   "id": "eae9e619",
   "metadata": {},
   "outputs": [
    {
     "data": {
      "image/png": "[encoded data removed]",
      "text/plain": [
       "<Figure size 720x576 with 1 Axes>"
      ]
     },
     "metadata": {},
     "output_type": "display_data"
    }
   ],
   "source": [
    "plt.figure(figsize=(10,8))\n",
    "plot_rank_freq(twitter_w2v_negsample_ranks, twitter_ys, twitter_cntr, 'w2v', order=1)\n",
    "plot_rank_freq(twitter_sbertft_ranks, twitter_ys, twitter_cntr, 'sbert-ft', order=1)\n",
    "plot_rank_freq(twitter_sbert_ranks, twitter_ys, twitter_cntr, 'sbert')\n",
    "plot_rank_freq(twitter_bert_ranks, twitter_ys, twitter_cntr, 'bert')\n",
    "plot_rank_freq(twitter_roberta_ranks, twitter_ys, twitter_cntr, 'roberta')\n",
    "plot_rank_freq(twitter_bertft_ranks, twitter_ys, twitter_cntr, 'bert-ft')\n",
    "plt.legend()\n",
    "plt.show()"
   ]
  },
  {
   "cell_type": "code",
   "execution_count": 72,
   "id": "69e00bda",
   "metadata": {},
   "outputs": [
    {
     "data": {
      "image/png": "[encoded data removed]",
      "text/plain": [
       "<Figure size 720x576 with 1 Axes>"
      ]
     },
     "metadata": {},
     "output_type": "display_data"
    }
   ],
   "source": [
    "plt.figure(figsize=(10,8))\n",
    "plot_rank_freq(twitter_w2v_negsample_ranks, twitter_ys, twitter_cntr, 'w2v', order=2)\n",
    "plot_rank_freq(twitter_sbertft_ranks, twitter_ys, twitter_cntr, 'sbert-ft', order=2)\n",
    "plt.legend()\n",
    "plt.show()"
   ]
  },
  {
   "cell_type": "code",
   "execution_count": 74,
   "id": "a068612b",
   "metadata": {},
   "outputs": [
    {
     "data": {
      "image/png": "[encoded data removed]",
      "text/plain": [
       "<Figure size 720x576 with 1 Axes>"
      ]
     },
     "metadata": {},
     "output_type": "display_data"
    }
   ],
   "source": [
    "plt.figure(figsize=(10,8))\n",
    "plot_rank_freq(wiki_w2v_cbow_ranks, wiki_ys, wiki_cntr, 'w2v', order=1)\n",
    "plot_rank_freq(wiki_sbertft_ranks, wiki_ys, wiki_cntr, 'sbert-ft', order=1)\n",
    "plot_rank_freq(wiki_sbert_ranks, wiki_ys, wiki_cntr, 'sbert')\n",
    "plot_rank_freq(wiki_bert_ranks, wiki_ys, wiki_cntr, 'bert')\n",
    "plot_rank_freq(wiki_roberta_ranks, wiki_ys, wiki_cntr, 'roberta')\n",
    "plot_rank_freq(wiki_bertft_ranks, wiki_ys, wiki_cntr, 'bert-ft')\n",
    "plt.legend(loc='upper right')\n",
    "plt.show()"
   ]
  },
  {
   "cell_type": "markdown",
   "id": "bab25d74",
   "metadata": {},
   "source": [
    "# per sample comparison - top samples"
   ]
  },
  {
   "cell_type": "markdown",
   "id": "0ea66329",
   "metadata": {},
   "source": [
    "## worst samples of each model"
   ]
  },
  {
   "cell_type": "code",
   "execution_count": null,
   "id": "cff4a7ac",
   "metadata": {},
   "outputs": [],
   "source": [
    "from sentence_transformers import SentenceTransformer, models, util\n",
    "\n",
    "def get_worst_ranks(xs, ys, ranks, other_ranks_dict, name='default', topk=1000):\n",
    "    if isinstance(ranks[0], list):\n",
    "        ranks = [r[0] for r in ranks]\n",
    "    ids = list(range(len(ranks)))\n",
    "    \n",
    "    ds_ranks = zip(ids, xs, ys, ranks)\n",
    "    sorted_ds = sorted(ds_ranks, key=lambda x: -x[3])[:topk]\n",
    "    \n",
    "    ids, xs, ys, ranks = zip(*sorted_ds)\n",
    "    \n",
    "    rank_names = []\n",
    "    other_ranks_list = []\n",
    "\n",
    "    for rank_name, other_rank in other_ranks_dict.items():\n",
    "        rank_names.append(rank_name)\n",
    "        r = []\n",
    "        for i in ids:\n",
    "            r.append(other_rank[i])\n",
    "        other_ranks_list.append(r)\n",
    "\n",
    "    other_ranks_dict = {}\n",
    "    for rank_name, rank in zip(rank_names, other_ranks_list):\n",
    "        other_ranks_dict[rank_name] = rank\n",
    "    \n",
    "    df = pd.DataFrame({\n",
    "        'bio': xs,\n",
    "        'target': ys,\n",
    "        f'{name}_rank': ranks,\n",
    "        **other_ranks_dict\n",
    "    })\n",
    "    \n",
    "    df.to_csv(f'{name}.csv', index=False, header=True)\n",
    "    \n",
    "    return ranks\n",
    "    \n",
    "    \n",
    "    \n",
    "all_ranks = {\n",
    "    'w2v': [r[0] for r in twitter_w2v_negsample_ranks],\n",
    "    'bert-ft': [r[0] for r in twitter_bertft_ranks],\n",
    "    'sbert-ft': [r[0] for r in twitter_sbert_ranks],\n",
    "    'bert': [r[0] for r in twitter_bert_ranks]\n",
    "}\n",
    "\n",
    "xs, ys = zip(*fixed_target_twitter_clm_ds)\n",
    "get_worst_ranks(xs, ys, twitter_w2v_negsample_ranks,\n",
    "                other_ranks_dict= {k:v for k,v in all_ranks.items() if k != 'w2v'},\n",
    "                name='w2v')\n",
    "get_worst_ranks(xs, ys, twitter_bertft_ranks,\n",
    "                other_ranks_dict= {k:v for k,v in all_ranks.items() if k != 'bert-ft'},\n",
    "                name='bert-ft')\n",
    "get_worst_ranks(xs, ys, twitter_bert_ranks,\n",
    "                other_ranks_dict= {k:v for k,v in all_ranks.items() if k != 'bert'},\n",
    "                name='bert')\n",
    "_ = get_worst_ranks(xs, ys, twitter_sbertft_ranks,\n",
    "                other_ranks_dict= {k:v for k,v in all_ranks.items() if k != 'sbert-ft'},\n",
    "                name='sbert-ft')\n",
    "\n"
   ]
  },
  {
   "cell_type": "markdown",
   "id": "c453ec6a",
   "metadata": {},
   "source": [
    "## nearest neighbors of samples analysis"
   ]
  },
  {
   "cell_type": "code",
   "execution_count": null,
   "id": "fb6c6c13",
   "metadata": {},
   "outputs": [],
   "source": [
    "%%time\n",
    "import torch\n",
    "from sentence_transformers import SentenceTransformer, models, util\n",
    "from tqdm import tqdm\n",
    "from torch.nn.functional import log_softmax\n",
    "\n",
    "\n",
    "\n",
    "def normalize(word_vectors):\n",
    "    norms = torch.norm(word_vectors, dim=1, keepdim=True)\n",
    "    res = word_vectors / (norms + 1e-6)\n",
    "    return res\n",
    "\n",
    "def calculate_nearest_neighbors(model, tokenizer, pi, pi_dict,\n",
    "                                default_encoder=False, device='cuda:0', w2v=False, average_k_layers=3,\n",
    "                                cosine_bs=512, emb_bs=512, topk=10):\n",
    "    pi_list = list(pi_dict.keys())\n",
    "    \n",
    "    if w2v:\n",
    "        emb_x = torch.tensor([model.wv.get_mean_vector([pi,])], device=device)\n",
    "        emb_all = torch.tensor([model.wv.get_vector(x) for x in pi_list], device=device)\n",
    "    elif default_encoder:        \n",
    "        emb_x = get_sbertbased_results_batched(model, [pi,], bs=emb_bs)\n",
    "        emb_all = get_sbertbased_results_batched(model, pi_list, bs=emb_bs)\n",
    "    else:\n",
    "        emb_x = get_results_batched(model, tokenizer, [pi,], average_k_layers=average_k_layers, bs=emb_bs)\n",
    "        emb_all = get_results_batched(model, tokenizer, pi_list, average_k_layers=average_k_layers, bs=emb_bs)\n",
    "\n",
    "    emb_x = normalize(emb_x)\n",
    "    emb_all = normalize(emb_all)\n",
    "    \n",
    "    \n",
    "    batch_cosine_scores = util.cos_sim(emb_x.to(device), emb_all.to(device))\n",
    "    ranks = torch.argsort(torch.argsort(batch_cosine_scores, dim=1, descending=True), dim=1).tolist()[0]\n",
    "    batch_cosine_scores = batch_cosine_scores.tolist()[0]\n",
    "    res = sorted(list(zip(pi_list, ranks, batch_cosine_scores)), key=lambda x: x[1])[1:]\n",
    "    \n",
    "    return res[:topk]\n",
    "\n"
   ]
  },
  {
   "cell_type": "code",
   "execution_count": 346,
   "id": "64f22126",
   "metadata": {
    "scrolled": false
   },
   "outputs": [
    {
     "name": "stderr",
     "output_type": "stream",
     "text": [
      "\n",
      "\n",
      "512it [00:00, 74671.71it/s]          \u001b[A\u001b[A\n",
      "\n",
      "\n",
      "  0%|          | 0/22514 [00:00<?, ?it/s]\u001b[A\u001b[A\n",
      "\n",
      "  5%|▍         | 1024/22514 [00:00<00:03, 5600.22it/s]\u001b[A\u001b[A\n",
      "\n",
      "  9%|▉         | 2048/22514 [00:00<00:03, 5548.94it/s]\u001b[A\u001b[A\n",
      "\n",
      " 14%|█▎        | 3072/22514 [00:00<00:03, 5619.78it/s]\u001b[A\u001b[A\n",
      "\n",
      " 18%|█▊        | 4096/22514 [00:00<00:03, 5608.27it/s]\u001b[A\u001b[A\n",
      "\n",
      " 23%|██▎       | 5120/22514 [00:00<00:03, 5565.22it/s]\u001b[A\u001b[A\n",
      "\n",
      " 27%|██▋       | 6144/22514 [00:01<00:02, 5519.48it/s]\u001b[A\u001b[A\n",
      "\n",
      " 32%|███▏      | 7168/22514 [00:01<00:02, 5537.60it/s]\u001b[A\u001b[A\n",
      "\n",
      " 36%|███▋      | 8192/22514 [00:01<00:02, 5507.97it/s]\u001b[A\u001b[A\n",
      "\n",
      " 41%|████      | 9216/22514 [00:01<00:02, 5467.78it/s]\u001b[A\u001b[A\n",
      "\n",
      " 45%|████▌     | 10240/22514 [00:01<00:02, 5462.94it/s]\u001b[A\u001b[A\n",
      "\n",
      " 50%|█████     | 11264/22514 [00:02<00:02, 5458.03it/s]\u001b[A\u001b[A\n",
      "\n",
      " 55%|█████▍    | 12288/22514 [00:02<00:01, 5469.50it/s]\u001b[A\u001b[A\n",
      "\n",
      " 59%|█████▉    | 13312/22514 [00:02<00:01, 5453.20it/s]\u001b[A\u001b[A\n",
      "\n",
      " 64%|██████▎   | 14336/22514 [00:02<00:01, 5427.93it/s]\u001b[A\u001b[A\n",
      "\n",
      " 68%|██████▊   | 15360/22514 [00:02<00:01, 5406.05it/s]\u001b[A\u001b[A\n",
      "\n",
      " 73%|███████▎  | 16384/22514 [00:02<00:01, 5401.09it/s]\u001b[A\u001b[A\n",
      "\n",
      " 77%|███████▋  | 17408/22514 [00:03<00:00, 5426.21it/s]\u001b[A\u001b[A\n",
      "\n",
      " 82%|████████▏ | 18432/22514 [00:03<00:00, 5411.43it/s]\u001b[A\u001b[A\n",
      "\n",
      " 86%|████████▋ | 19456/22514 [00:03<00:00, 5413.74it/s]\u001b[A\u001b[A\n",
      "\n",
      " 91%|█████████ | 20480/22514 [00:03<00:00, 5430.10it/s]\u001b[A\u001b[A\n",
      "\n",
      " 96%|█████████▌| 21504/22514 [00:03<00:00, 5433.71it/s]\u001b[A\u001b[A\n",
      "\n",
      "22528it [00:04, 5451.67it/s]                           \u001b[A\u001b[A\n",
      "\n",
      "\n",
      "512it [00:00, 70300.97it/s]          \u001b[A\u001b[A\n",
      "\n",
      "\n",
      "  0%|          | 0/22514 [00:00<?, ?it/s]\u001b[A\u001b[A\n",
      "\n",
      "  5%|▍         | 1024/22514 [00:00<00:04, 5356.54it/s]\u001b[A\u001b[A\n",
      "\n",
      "  9%|▉         | 2048/22514 [00:00<00:03, 5501.34it/s]\u001b[A\u001b[A\n",
      "\n",
      " 14%|█▎        | 3072/22514 [00:00<00:03, 5611.15it/s]\u001b[A\u001b[A\n",
      "\n",
      " 18%|█▊        | 4096/22514 [00:00<00:03, 5666.70it/s]\u001b[A\u001b[A\n",
      "\n",
      " 23%|██▎       | 5120/22514 [00:00<00:03, 5601.40it/s]\u001b[A\u001b[A\n",
      "\n",
      " 27%|██▋       | 6144/22514 [00:01<00:02, 5514.43it/s]\u001b[A\u001b[A\n",
      "\n",
      " 32%|███▏      | 7168/22514 [00:01<00:02, 5469.45it/s]\u001b[A\u001b[A\n",
      "\n",
      " 36%|███▋      | 8192/22514 [00:01<00:02, 5485.44it/s]\u001b[A\u001b[A\n",
      "\n",
      " 41%|████      | 9216/22514 [00:01<00:02, 5457.59it/s]\u001b[A\u001b[A\n",
      "\n",
      " 45%|████▌     | 10240/22514 [00:01<00:02, 5471.24it/s]\u001b[A\u001b[A\n",
      "\n",
      " 50%|█████     | 11264/22514 [00:02<00:02, 5476.55it/s]\u001b[A\u001b[A\n",
      "\n",
      " 55%|█████▍    | 12288/22514 [00:02<00:01, 5457.14it/s]\u001b[A\u001b[A\n",
      "\n",
      " 59%|█████▉    | 13312/22514 [00:02<00:01, 5432.15it/s]\u001b[A\u001b[A\n",
      "\n",
      " 64%|██████▎   | 14336/22514 [00:02<00:01, 5401.90it/s]\u001b[A\u001b[A\n",
      "\n",
      " 68%|██████▊   | 15360/22514 [00:02<00:01, 5366.54it/s]\u001b[A\u001b[A\n",
      "\n",
      " 73%|███████▎  | 16384/22514 [00:03<00:01, 5313.24it/s]\u001b[A\u001b[A\n",
      "  5%|▍         | 1024/22514 [00:12<00:03, 5530.99it/s]\u001b[A\n",
      "\n",
      " 77%|███████▋  | 17408/22514 [00:03<00:00, 5377.65it/s]\u001b[A\u001b[A\n",
      "\n",
      " 82%|████████▏ | 18432/22514 [00:03<00:00, 5432.73it/s]\u001b[A\u001b[A\n",
      "\n",
      " 86%|████████▋ | 19456/22514 [00:03<00:00, 5447.54it/s]\u001b[A\u001b[A\n",
      "\n",
      " 91%|█████████ | 20480/22514 [00:03<00:00, 5427.00it/s]\u001b[A\u001b[A\n",
      "\n",
      " 96%|█████████▌| 21504/22514 [00:03<00:00, 5457.85it/s]\u001b[A\u001b[A\n",
      "\n",
      "22528it [00:04, 5447.45it/s]                           \u001b[A\u001b[A\n",
      "\n",
      "\n",
      "512it [00:00, 69930.11it/s]          \u001b[A\u001b[A\n",
      "\n",
      "\n",
      "  0%|          | 0/22514 [00:00<?, ?it/s]\u001b[A\u001b[A\n",
      "\n",
      "  5%|▍         | 1024/22514 [00:00<00:03, 5378.83it/s]\u001b[A\u001b[A\n",
      "\n",
      "  9%|▉         | 2048/22514 [00:00<00:03, 5427.18it/s]\u001b[A\u001b[A\n",
      "\n",
      " 14%|█▎        | 3072/22514 [00:00<00:03, 5480.00it/s]\u001b[A\u001b[A\n",
      "\n",
      " 18%|█▊        | 4096/22514 [00:00<00:03, 5538.99it/s]\u001b[A\u001b[A\n",
      "\n",
      " 23%|██▎       | 5120/22514 [00:00<00:03, 5611.76it/s]\u001b[A\u001b[A\n",
      "\n",
      " 27%|██▋       | 6144/22514 [00:01<00:02, 5555.79it/s]\u001b[A\u001b[A\n",
      "\n",
      " 32%|███▏      | 7168/22514 [00:01<00:02, 5515.98it/s]\u001b[A\u001b[A\n",
      "\n",
      " 36%|███▋      | 8192/22514 [00:01<00:02, 5434.36it/s]\u001b[A\u001b[A\n",
      "\n",
      " 41%|████      | 9216/22514 [00:01<00:02, 5453.73it/s]\u001b[A\u001b[A\n",
      "\n",
      " 45%|████▌     | 10240/22514 [00:01<00:02, 5443.06it/s]\u001b[A\u001b[A\n",
      "\n",
      " 50%|█████     | 11264/22514 [00:02<00:02, 5518.90it/s]\u001b[A\u001b[A\n",
      "\n",
      " 55%|█████▍    | 12288/22514 [00:02<00:01, 5515.77it/s]\u001b[A\u001b[A\n",
      "\n",
      " 59%|█████▉    | 13312/22514 [00:02<00:01, 5498.74it/s]\u001b[A\u001b[A\n",
      "\n",
      " 64%|██████▎   | 14336/22514 [00:02<00:01, 5502.72it/s]\u001b[A\u001b[A\n",
      "\n",
      " 68%|██████▊   | 15360/22514 [00:02<00:01, 5524.72it/s]\u001b[A\u001b[A\n",
      "\n",
      " 73%|███████▎  | 16384/22514 [00:02<00:01, 5568.29it/s]\u001b[A\u001b[A\n",
      "\n",
      " 77%|███████▋  | 17408/22514 [00:03<00:00, 5606.20it/s]\u001b[A\u001b[A\n",
      "\n",
      " 82%|████████▏ | 18432/22514 [00:03<00:00, 5640.10it/s]\u001b[A\u001b[A\n",
      "\n",
      " 86%|████████▋ | 19456/22514 [00:03<00:00, 5633.87it/s]\u001b[A\u001b[A\n",
      "\n",
      " 91%|█████████ | 20480/22514 [00:03<00:00, 5666.47it/s]\u001b[A\u001b[A\n",
      "\n",
      " 96%|█████████▌| 21504/22514 [00:03<00:00, 5684.65it/s]\u001b[A\u001b[A\n",
      "\n",
      "22528it [00:04, 5539.64it/s]                           \u001b[A\u001b[A\n"
     ]
    },
    {
     "data": {
      "image/png": "[encoded data removed]",
      "text/plain": [
       "<Figure size 1080x576 with 4 Axes>"
      ]
     },
     "metadata": {},
     "output_type": "display_data"
    }
   ],
   "source": [
    "import matplotlib.pyplot as plt\n",
    "import seaborn as sns\n",
    "\n",
    "\n",
    "\n",
    "def visualize_nns(pi, topk=30):\n",
    "#     assert pi in w2v_twitter_negsamp_model.wv.key_to_index\n",
    "    \n",
    "    models = {\n",
    "        'sbert_nns': calculate_nearest_neighbors(\n",
    "            model=sbert_model,\n",
    "            tokenizer=None,\n",
    "            pi=pi,\n",
    "            pi_dict=twitter_target_restricted_pis,\n",
    "            default_encoder=True,\n",
    "            topk=topk\n",
    "        ),\n",
    "\n",
    "        'sbertft10_nns': calculate_nearest_neighbors(\n",
    "            model=twitter_ft_sbert_10p,\n",
    "            tokenizer=None,\n",
    "            pi=pi,\n",
    "            pi_dict=twitter_target_restricted_pis,\n",
    "            default_encoder=True,\n",
    "            topk=topk\n",
    "        ),\n",
    "        'sbertft100_nns': calculate_nearest_neighbors(\n",
    "            model=twitter_ft_sbert,\n",
    "            tokenizer=None,\n",
    "            pi=pi,\n",
    "            pi_dict=twitter_target_restricted_pis,\n",
    "            default_encoder=True,\n",
    "            topk=topk\n",
    "        ),\n",
    "\n",
    "\n",
    "        'w2v_nns': calculate_nearest_neighbors(\n",
    "            model=w2v_twitter_negsamp_model,\n",
    "            tokenizer=None,\n",
    "            pi=pi,\n",
    "            pi_dict=twitter_target_restricted_pis,\n",
    "            w2v=True,\n",
    "            topk=topk\n",
    "        )\n",
    "    }\n",
    "    \n",
    "    \n",
    "    fig, axes = plt.subplots(1, 4, figsize=(15, 8))\n",
    "    fig.suptitle(f'Nearest neighbors to the PI \"{pi}\" for different models')\n",
    "\n",
    "    cplt = sns.dark_palette(\"#69d\", topk, reverse=True)\n",
    "\n",
    "    for i , (model_name, nns) in enumerate(models.items()):\n",
    "    \n",
    "        nns = sorted(nns, key=lambda x: x[1])\n",
    "        sns.barplot(\n",
    "            ax=axes[i],\n",
    "            x=[x[2] for x in nns],\n",
    "            y=[x[0] for x in nns],\n",
    "            palette=np.array(cplt)[[x[1]-1 for x in nns]],\n",
    "        ).set(title=model_name)\n",
    "\n",
    "\n",
    "    fig.tight_layout()\n",
    "    plt.show()\n",
    "    \n",
    "visualize_nns(\"get vaccinated\", topk=50)\n"
   ]
  },
  {
   "cell_type": "code",
   "execution_count": null,
   "id": "5c094783",
   "metadata": {},
   "outputs": [],
   "source": []
  },
  {
   "cell_type": "markdown",
   "id": "7062c0b7",
   "metadata": {},
   "source": [
    "## load best rankings for w2v and fine-tuned model on twitter"
   ]
  },
  {
   "cell_type": "code",
   "execution_count": null,
   "id": "4415b92d",
   "metadata": {},
   "outputs": [],
   "source": []
  },
  {
   "cell_type": "code",
   "execution_count": null,
   "id": "82797ff7",
   "metadata": {},
   "outputs": [],
   "source": [
    "from sentence_transformers import SentenceTransformer, models, util\n",
    "\n",
    "def get_topk_ranks(w2v_model, x, y ,pi_dict, device='cpu', k=50):\n",
    "    pi_list = list(pi_dict.keys())\n",
    "    inv_dict = {v:k for k,v in pi_dict.items()}\n",
    "    \n",
    "    emb_x = torch.tensor([w2v_model.wv.get_mean_vector(x),], device=device)\n",
    "    emb_all = torch.tensor([w2v_model.wv.get_vector(x) for x in pi_list], device=device)\n",
    "    \n",
    "    i = 0\n",
    "\n",
    "    cosine_scores = util.cos_sim(emb_x, emb_all)\n",
    "    ranks = torch.argsort(cosine_scores, dim=1, descending=True)\n",
    "    rankranks = torch.argsort(ranks, dim=1)\n",
    "    \n",
    "    top_idxs = ranks[0,:k].tolist()\n",
    "    top_pis = [inv_dict[i] for i in top_idxs]\n",
    "    target_idx = torch.tensor([pi_dict[y]], dtype=torch.int64)\n",
    "    target_rank = torch.gather(rankranks, 1, target_idx.unsqueeze(1).reshape(-1,1)).type(torch.FloatTensor).tolist()[0][0]\n",
    "\n",
    "    return target_rank, top_pis\n",
    "\n",
    "\n",
    "\n",
    "get_topk_ranks(\n",
    "    w2v_twitter_negsamp_model,\n",
    "    x=['dsd', 'xxxxxx', 'sd;flskdf;'],\n",
    "    y='maga',\n",
    "    pi_dict=twitter_pi_dict,\n",
    ")\n"
   ]
  },
  {
   "cell_type": "code",
   "execution_count": null,
   "id": "a0ff7497",
   "metadata": {},
   "outputs": [],
   "source": [
    "random_ids = np.random.randint(0, len(fixed_target_twitter_clm_ds), 100)\n",
    "\n",
    "sample = [fixed_target_twitter_clm_ds[i] for i in random_ids]\n",
    "\n",
    "for i, s in zip(random_ids, sample):\n",
    "    r_w2v, _ = get_topk_ranks(\n",
    "        w2v_twitter_negsamp_model,\n",
    "        x=s[0],\n",
    "        y=s[1],\n",
    "        pi_dict=twitter_target_restricted_pis,\n",
    "        wv=True\n",
    "    )\n",
    "    \n",
    "    r_sbertft, _ = get_topk_ranks(\n",
    "        twitter_ft_sbert,\n",
    "        x=s[0],\n",
    "        y=s[1],\n",
    "        pi_dict=twitter_target_restricted_pis,\n",
    "        wv=False\n",
    "    )\n",
    "    \n",
    "    if r_sbertft > r_w2v + 1000:\n",
    "        print(f\"index:{i} w2vscore:{r_w2v}  sbert_ft score:{r_sbertft}\")\n",
    "        print(\"*\"*100)\n",
    "        print(s[0], \"--->\", s[1])\n",
    "        print(\"*\"*100)\n",
    "    \n",
    "    "
   ]
  },
  {
   "cell_type": "code",
   "execution_count": null,
   "id": "e36aa39e",
   "metadata": {},
   "outputs": [],
   "source": [
    "from numpy.linalg import norm as np_norm\n",
    "import matplotlib.pyplot as plt\n",
    "    \n",
    "    \n",
    "bertft100_dists = []\n",
    "sbertft100_dists = []\n",
    "sbert_dists = []\n",
    "w2v_dists = []\n",
    "bert_dists = []\n",
    "\n",
    "\n",
    "def diff_norm(x1, x2):\n",
    "    x1n = x1 / np_norm(x1)\n",
    "    x2n = x2 / np_norm(x2)\n",
    "    return np_norm(x1n-x2n)\n",
    "\n",
    "for i in range(1, 4):\n",
    "    sbert_dists.append(diff_norm(sbert_model.encode(f'mother of {i}'), sbert_model.encode('christian')))\n",
    "    \n",
    "    bert_emb = get_results_batched(bert_model, bert_tokenizer, [f'mother of {i}', 'christian']).numpy()\n",
    "    bert_dists.append(diff_norm(bert_emb[0], bert_emb[1]))\n",
    "    \n",
    "    sbertft100_dists.append(diff_norm(twitter_ft_sbert.encode(f'mother of {i}'), twitter_ft_sbert.encode('christian')))\n",
    "    \n",
    "    bert_emb = get_results_batched(bert_ft_twitter_model, bert_tokenizer, [f'mother of {i}', 'christian']).numpy()\n",
    "    bertft100_dists.append(diff_norm(bert_emb[0], bert_emb[1]))\n",
    "\n",
    "    w2v_dists.append(diff_norm(w2v_twitter_negsamp_model.wv.get_mean_vector([f'mother of {i}']), w2v_twitter_negsamp_model.wv.get_vector('christian')))\n",
    "\n",
    "\n",
    "\n",
    "\n",
    "xs = [f'mother of {i}' for i in range(1,4)]\n",
    "sns.lineplot(x=xs, y=w2v_dists, label='w2v')\n",
    "sns.lineplot(x=xs, y=bert_dists, label='bert')\n",
    "sns.lineplot(x=xs, y=sbert_dists, label='sbert')\n",
    "sns.lineplot(x=xs, y=bertft100_dists, label='fine-tuned bert')\n",
    "sns.lineplot(x=xs, y=sbertft100_dists, label='fine-tuned sbert')\n",
    "plt.ylabel(\"L2 distance to <christian>\")\n",
    "plt.xticks(rotation=80)"
   ]
  },
  {
   "cell_type": "code",
   "execution_count": null,
   "id": "5abdc30c",
   "metadata": {},
   "outputs": [],
   "source": [
    "from numpy.linalg import norm as np_norm\n",
    "import matplotlib.pyplot as plt\n",
    "    \n",
    "    \n",
    "bertft100_dists = []\n",
    "sbertft100_dists = []\n",
    "sbert_dists = []\n",
    "w2v_dists = []\n",
    "bert_dists = []\n",
    "\n",
    "\n",
    "def diff_norm(x1, x2):\n",
    "    x1n = x1 / np_norm(x1)\n",
    "    x2n = x2 / np_norm(x2)\n",
    "    return np_norm(x1n-x2n)\n",
    "\n",
    "for i in range(1, 4):\n",
    "    sbert_dists.append(diff_norm(sbert_model.encode(f'mother of {i}'), sbert_model.encode('christian')))\n",
    "    \n",
    "    bert_emb = get_results_batched(bert_model, bert_tokenizer, [f'mother of {i}', 'christian']).numpy()\n",
    "    bert_dists.append(diff_norm(bert_emb[0], bert_emb[1]))\n",
    "    \n",
    "    sbertft100_dists.append(diff_norm(wiki_ft_sbert.encode(f'mother of {i}'), wiki_ft_sbert.encode('christian')))\n",
    "    \n",
    "    bert_emb = get_results_batched(bert_ft_wiki_model, bert_tokenizer, [f'mother of {i}', 'christian']).numpy()\n",
    "    bertft100_dists.append(diff_norm(bert_emb[0], bert_emb[1]))\n",
    "\n",
    "    w2v_dists.append(diff_norm(w2v_wiki_cbow_model.wv.get_mean_vector([f'mother of {i}']), w2v_wiki_cbow_model.wv.get_vector('christian')))\n",
    "\n",
    "xs = [f'mother of {i}' for i in range(1,4)]\n",
    "sns.lineplot(x=xs, y=w2v_dists, label='w2v')\n",
    "sns.lineplot(x=xs, y=bert_dists, label='bert')\n",
    "sns.lineplot(x=xs, y=sbert_dists, label='sbert')\n",
    "sns.lineplot(x=xs, y=bertft100_dists, label='fine-tuned bert')\n",
    "sns.lineplot(x=xs, y=sbertft100_dists, label='fine-tuned sbert')\n",
    "plt.ylabel(\"L2 distance to <christian>\")\n",
    "plt.xticks(rotation=80)"
   ]
  },
  {
   "cell_type": "markdown",
   "id": "fe137609",
   "metadata": {},
   "source": [
    "# build survey questions"
   ]
  },
  {
   "cell_type": "markdown",
   "id": "4f8af9de",
   "metadata": {},
   "source": [
    "## neighborhood score + negative sampling choices"
   ]
  },
  {
   "cell_type": "code",
   "execution_count": null,
   "id": "5d522613",
   "metadata": {},
   "outputs": [],
   "source": [
    "import pandas as pd\n",
    "from ast import literal_eval\n",
    "\n",
    "df = pd.read_csv('twitter_pi_with_neighbors_tfidf.csv')\n",
    "print(df.head())\n",
    "df.positives = df.positives.apply(literal_eval)\n",
    "df.negatives = df.negatives.apply(literal_eval)"
   ]
  },
  {
   "cell_type": "code",
   "execution_count": null,
   "id": "bd980929",
   "metadata": {},
   "outputs": [],
   "source": [
    "from tqdm import tqdm\n",
    "from random import randint\n",
    "\n",
    "pis = df['pis']\n",
    "positives = df['positives']\n",
    "negatives = df['negatives']\n",
    "\n",
    "sample_cnt = 500\n",
    "questions = []\n",
    "targets = []\n",
    "other_choices = []\n",
    "\n",
    "sample_idices = np.random.randint(0, len(df), size=sample_cnt)\n",
    "\n",
    "for qid in sample_idices:\n",
    "    q = pis[qid]\n",
    "    cur_pos = positives[qid]\n",
    "    cur_neg = negatives[qid]\n",
    "    target = cur_pos[randint(0,len(cur_pos)-1)]\n",
    "    targets.append(target)\n",
    "    questions.append(q)\n",
    "    other_choices.append(np.random.choice(cur_neg, size=3, replace=False))\n",
    "    \n",
    "res = pd.DataFrame({'question_pi': questions, 'ans_pi': targets, 'other_choices': other_choices})\n",
    "res.to_csv('surrvey_tfidf_twitter.csv', index=False, header=True)"
   ]
  },
  {
   "cell_type": "code",
   "execution_count": null,
   "id": "b86922b5",
   "metadata": {},
   "outputs": [],
   "source": [
    "!head surrvey_tfidf_twitter.csv -n 100"
   ]
  },
  {
   "cell_type": "markdown",
   "id": "e799829b",
   "metadata": {},
   "source": [
    "## model based question generation"
   ]
  },
  {
   "cell_type": "code",
   "execution_count": null,
   "id": "3166fb04",
   "metadata": {},
   "outputs": [],
   "source": [
    "from sentence_transformers import SentenceTransformer, models, util\n",
    "\n",
    "fint_model = SentenceTransformer('./models/miniLM-L6-finetuned/')"
   ]
  },
  {
   "cell_type": "code",
   "execution_count": null,
   "id": "61ac0a72",
   "metadata": {},
   "outputs": [],
   "source": [
    "from tqdm import tqdm\n",
    "from random import randint\n",
    "\n",
    "\n",
    "all_pis = df['pis']\n",
    "sims = df['similars']\n",
    "sample_cnt = 500\n",
    "\n",
    "questions = []\n",
    "targets = []\n",
    "other_choices = []\n",
    "\n",
    "i = 0\n",
    "while i < sample_cnt:\n",
    "    idx = randint(0, len(all_pis)-1)\n",
    "    questions.append(all_pis[idx])\n",
    "    i += 1\n",
    "\n"
   ]
  },
  {
   "cell_type": "code",
   "execution_count": null,
   "id": "88ea973d",
   "metadata": {},
   "outputs": [],
   "source": [
    "fint_emb_x = fint_model.encode(questions, convert_to_tensor=True)\n",
    "fint_emb_all = fint_model.encode(all_pis, convert_to_tensor=True)\n"
   ]
  },
  {
   "cell_type": "code",
   "execution_count": null,
   "id": "43b25cf4",
   "metadata": {},
   "outputs": [],
   "source": [
    "import numpy as np\n",
    "\n",
    "targets = []\n",
    "other_choices = []\n",
    "\n",
    "for x in tqdm(fint_emb_x):\n",
    "    cosine_scores = util.cos_sim(x, fint_emb_all).detach().cpu().numpy()[0]\n",
    "    argsort = np.argsort(cosine_scores)\n",
    "    best_k = argsort[-6:-1]\n",
    "    worst_k = argsort[:len(argsort)//2]\n",
    "    \n",
    "    target_idx = np.random.choice(best_k)\n",
    "    targets.append(all_pis[target_idx])\n",
    "    \n",
    "    other_idxs = np.random.choice(worst_k, size=3, replace=False)\n",
    "    other_choices.append([all_pis[x] for x in other_idxs])\n",
    "    \n",
    "    \n",
    "res = pd.DataFrame({'question_pi': questions, 'ans_pi': targets, 'other_choices': other_choices})\n",
    "res.to_csv('modelbased-selection.csv', index=False, header=True)\n",
    "    "
   ]
  },
  {
   "cell_type": "code",
   "execution_count": null,
   "id": "7bf38c3a",
   "metadata": {},
   "outputs": [],
   "source": [
    "!head modelbased-selection.csv"
   ]
  },
  {
   "cell_type": "code",
   "execution_count": null,
   "id": "0ae77b6d",
   "metadata": {},
   "outputs": [],
   "source": []
  }
 ],
 "metadata": {
  "kernelspec": {
   "display_name": "Python 3 (ipykernel)",
   "language": "python",
   "name": "python3"
  },
  "language_info": {
   "codemirror_mode": {
    "name": "ipython",
    "version": 3
   },
   "file_extension": ".py",
   "mimetype": "text/x-python",
   "name": "python",
   "nbconvert_exporter": "python",
   "pygments_lexer": "ipython3",
   "version": "3.8.12"
  },
  "toc": {
   "base_numbering": 1,
   "nav_menu": {},
   "number_sections": true,
   "sideBar": true,
   "skip_h1_title": false,
   "title_cell": "Table of Contents",
   "title_sidebar": "Contents",
   "toc_cell": false,
   "toc_position": {
    "height": "calc(100% - 180px)",
    "left": "10px",
    "top": "150px",
    "width": "349.047px"
   },
   "toc_section_display": true,
   "toc_window_display": true
  }
 },
 "nbformat": 4,
 "nbformat_minor": 5
}
