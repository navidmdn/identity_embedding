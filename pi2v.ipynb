{
 "cells": [
  {
   "cell_type": "markdown",
   "id": "f52cbb85",
   "metadata": {},
   "source": [
    "# Loading wikipedia bios"
   ]
  },
  {
   "cell_type": "markdown",
   "id": "4c4c5e25",
   "metadata": {},
   "source": [
    "## loading raw identities"
   ]
  },
  {
   "cell_type": "code",
   "execution_count": 27,
   "id": "f7a2eb59",
   "metadata": {},
   "outputs": [
    {
     "data": {
      "text/plain": [
       "[['rapper'],\n",
       " ['minister', 'Bible scholar', 'author'],\n",
       " ['astrophysicist'],\n",
       " ['snooker', 'billiards player'],\n",
       " ['Welsh sports journalist']]"
      ]
     },
     "execution_count": 27,
     "metadata": {},
     "output_type": "execute_result"
    }
   ],
   "source": [
    "import pandas as pd\n",
    "from ast import literal_eval\n",
    "\n",
    "\n",
    "df = pd.read_csv('FinalDataFrame5.csv')\n",
    "df.identities = df.identities.apply(literal_eval)\n",
    "bios = list(df['identities'])\n",
    "\n",
    "bios[:5]"
   ]
  },
  {
   "cell_type": "code",
   "execution_count": 10,
   "id": "0cc61467",
   "metadata": {},
   "outputs": [
    {
     "data": {
      "text/html": [
       "<div>\n",
       "<style scoped>\n",
       "    .dataframe tbody tr th:only-of-type {\n",
       "        vertical-align: middle;\n",
       "    }\n",
       "\n",
       "    .dataframe tbody tr th {\n",
       "        vertical-align: top;\n",
       "    }\n",
       "\n",
       "    .dataframe thead th {\n",
       "        text-align: right;\n",
       "    }\n",
       "</style>\n",
       "<table border=\"1\" class=\"dataframe\">\n",
       "  <thead>\n",
       "    <tr style=\"text-align: right;\">\n",
       "      <th></th>\n",
       "      <th>name_searched</th>\n",
       "      <th>context</th>\n",
       "      <th>identities</th>\n",
       "    </tr>\n",
       "  </thead>\n",
       "  <tbody>\n",
       "    <tr>\n",
       "      <th>1</th>\n",
       "      <td>Renita J. Weems</td>\n",
       "      <td>Renita J. Weems is an ordained minister, a Hebrew Bible scholar, and an author.</td>\n",
       "      <td>[minister, Bible scholar, author]</td>\n",
       "    </tr>\n",
       "  </tbody>\n",
       "</table>\n",
       "</div>"
      ],
      "text/plain": [
       "     name_searched  \\\n",
       "1  Renita J. Weems   \n",
       "\n",
       "                                                                           context  \\\n",
       "1  Renita J. Weems is an ordained minister, a Hebrew Bible scholar, and an author.   \n",
       "\n",
       "                          identities  \n",
       "1  [minister, Bible scholar, author]  "
      ]
     },
     "execution_count": 10,
     "metadata": {},
     "output_type": "execute_result"
    }
   ],
   "source": [
    "pd.set_option(\"max_colwidth\", None)\n",
    "df.iloc[1:2]"
   ]
  },
  {
   "cell_type": "code",
   "execution_count": null,
   "id": "ddeb456f",
   "metadata": {},
   "outputs": [],
   "source": [
    "# The rest is similar to twitter bios approach"
   ]
  },
  {
   "cell_type": "code",
   "execution_count": null,
   "id": "756174d9",
   "metadata": {},
   "outputs": [],
   "source": []
  },
  {
   "cell_type": "markdown",
   "id": "04a048cc",
   "metadata": {},
   "source": [
    "# Loading twitter bios"
   ]
  },
  {
   "cell_type": "markdown",
   "id": "e85b010d",
   "metadata": {},
   "source": [
    "## load all raw data"
   ]
  },
  {
   "cell_type": "code",
   "execution_count": 31,
   "id": "1a19f38e",
   "metadata": {},
   "outputs": [],
   "source": [
    "import pickle\n",
    "with open('/user/smadani/navid/data/pis2020.pkl', 'rb') as f:\n",
    "    bios = pickle.load(f)\n",
    "    "
   ]
  },
  {
   "cell_type": "markdown",
   "id": "bbc70cc9",
   "metadata": {},
   "source": [
    "# PI frequency and top PIs"
   ]
  },
  {
   "cell_type": "code",
   "execution_count": 32,
   "id": "43e3926f",
   "metadata": {},
   "outputs": [
    {
     "name": "stdout",
     "output_type": "stream",
     "text": [
      "15459872\n"
     ]
    }
   ],
   "source": [
    "from collections import Counter\n",
    "cntr = Counter()\n",
    "\n",
    "for bio in bios:\n",
    "    cntr.update(bio)\n",
    "\n",
    "print(len(bios))"
   ]
  },
  {
   "cell_type": "code",
   "execution_count": 12,
   "id": "2b0aa7df",
   "metadata": {},
   "outputs": [
    {
     "name": "stdout",
     "output_type": "stream",
     "text": [
      "percentile freq: 9.0 mean freq: 28.606337144830846\n"
     ]
    }
   ],
   "source": [
    "import numpy as np\n",
    "\n",
    "freqs = list(cntr.values())\n",
    "print(f\"percentile freq: {np.percentile(freqs, 90)} mean freq: {np.mean(freqs)}\")"
   ]
  },
  {
   "cell_type": "code",
   "execution_count": 14,
   "id": "b48510dd",
   "metadata": {},
   "outputs": [
    {
     "data": {
      "text/plain": [
       "5106"
      ]
     },
     "execution_count": 14,
     "metadata": {},
     "output_type": "execute_result"
    }
   ],
   "source": [
    "most_frequent_pis = {k:v for k,v in cntr.items() if v > 10}\n",
    "len(most_frequent_pis)"
   ]
  },
  {
   "cell_type": "code",
   "execution_count": 115,
   "id": "12b0dafe",
   "metadata": {},
   "outputs": [],
   "source": [
    "import pandas as pd\n",
    "\n",
    "df = pd.DataFrame({'pi': list(most_frequent_pis.keys()), 'cnt': list(most_frequent_pis.values())})\n",
    "df = df.sort_values(by=['cnt'], ascending=False)"
   ]
  },
  {
   "cell_type": "code",
   "execution_count": 116,
   "id": "ac5a2723",
   "metadata": {},
   "outputs": [],
   "source": [
    "df.to_csv('wiki_most_frequent_pis.csv', index=False, header=True)"
   ]
  },
  {
   "cell_type": "code",
   "execution_count": 118,
   "id": "e6cfc071",
   "metadata": {},
   "outputs": [
    {
     "name": "stdout",
     "output_type": "stream",
     "text": [
      "huggingface/tokenizers: The current process just got forked, after parallelism has already been used. Disabling parallelism to avoid deadlocks...\n",
      "To disable this warning, you can either:\n",
      "\t- Avoid using `tokenizers` before the fork if possible\n",
      "\t- Explicitly set the environment variable TOKENIZERS_PARALLELISM=(true | false)\n",
      "pi,cnt\r\n",
      "she,452418\r\n",
      "her,397756\r\n",
      "he,185793\r\n",
      "him,154092\r\n",
      "they,127571\r\n",
      "fan account,124627\r\n",
      "blacklivesmatter,101217\r\n",
      "blm,101082\r\n",
      "ig,93961\r\n"
     ]
    }
   ],
   "source": [
    "!head twitter_most_frequent_pis.csv"
   ]
  },
  {
   "cell_type": "markdown",
   "id": "fa7c6460",
   "metadata": {
    "heading_collapsed": true
   },
   "source": [
    "### most frequent neighbors"
   ]
  },
  {
   "cell_type": "code",
   "execution_count": null,
   "id": "04aeea28",
   "metadata": {
    "hidden": true
   },
   "outputs": [],
   "source": [
    "from tqdm import tqdm\n",
    "neighbor_cnt = {}\n",
    "\n",
    "for bio in tqdm(bios):\n",
    "    for pi in bio:\n",
    "        if pi in most_frequent_pis:\n",
    "            if pi not in neighbor_cnt:\n",
    "                neighbor_cnt[pi] = Counter()\n",
    "                \n",
    "            rest = [b for b in bio if b!=pi and b in most_frequent_pis]\n",
    "            neighbor_cnt[pi].update(rest)\n",
    "\n",
    "print(len(neighbor_cnt))            \n",
    "\n",
    "#post processing and pruning empty adjacencies\n",
    "\n",
    "for pi, adj in neighbor_cnt.copy().items():\n",
    "    if len(adj) < 2:\n",
    "        neighbor_cnt.pop(pi)\n",
    "    \n",
    "print(f\"size after pruning: {len(neighbor_cnt)}\")        "
   ]
  },
  {
   "cell_type": "markdown",
   "id": "1a59e0cb",
   "metadata": {
    "heading_collapsed": true
   },
   "source": [
    "### calculating tf-idf"
   ]
  },
  {
   "cell_type": "code",
   "execution_count": null,
   "id": "8ac1acb3",
   "metadata": {
    "hidden": true
   },
   "outputs": [],
   "source": [
    "for pi, neighs in tqdm(neighbor_cnt.items()):\n",
    "    for phrase in neighs.keys():\n",
    "        neighs[phrase] /= most_frequent_pis[phrase]\n",
    "        "
   ]
  },
  {
   "cell_type": "markdown",
   "id": "86d69a95",
   "metadata": {
    "heading_collapsed": true
   },
   "source": [
    "### calculating using bi-partite method"
   ]
  },
  {
   "cell_type": "code",
   "execution_count": null,
   "id": "37077142",
   "metadata": {
    "hidden": true
   },
   "outputs": [],
   "source": [
    "from scipy import sparse, io\n",
    "\n",
    "pi_idx = {}\n",
    "for pi in most_frequent_pis:\n",
    "    pi_idx[pi] = len(pi_idx)\n",
    "\n",
    "#creating bipartite matrix\n",
    "usr_pi = []\n",
    "\n",
    "for bio in bios:\n",
    "    cur_usr_pis = []\n",
    "    for pi in bio:\n",
    "        if pi in most_frequent_pis:\n",
    "            cur_usr_pis.append(pi_idx[pi])\n",
    "    if len(cur_usr_pis) < 2:\n",
    "        continue\n",
    "    usr_pi.append(cur_usr_pis)\n",
    "    \n",
    "\n",
    "print(f\"original users: {len(bios)}\")\n",
    "print(f\"no of users after pruning: {len(usr_pi)}\")\n"
   ]
  },
  {
   "cell_type": "code",
   "execution_count": null,
   "id": "6ae185fc",
   "metadata": {
    "hidden": true
   },
   "outputs": [],
   "source": [
    "usrs = []\n",
    "pis = []\n",
    "scores = []\n",
    "\n",
    "for uid, pis in enumerate(usr_pi):\n",
    "    for pi in pis:\n",
    "        usrs.append(uid)\n",
    "        pis.append(pi)\n",
    "        scores.append(1)"
   ]
  },
  {
   "cell_type": "code",
   "execution_count": null,
   "id": "6cf9be0f",
   "metadata": {
    "hidden": true
   },
   "outputs": [],
   "source": [
    "%% time\n",
    "\n",
    "BP_MATRIX_FILENAME = \"./bipartite_pi.mtx\"\n",
    "output_matrix = sparse.coo_matrix((scores, (usrs, pis)))\n",
    "io.mmwrite(BP_MATRIX_FILENAME, output_matrix)"
   ]
  },
  {
   "cell_type": "code",
   "execution_count": null,
   "id": "e72cad62",
   "metadata": {
    "hidden": true
   },
   "outputs": [],
   "source": [
    "!du -hs ./bipartite_pi.mtx"
   ]
  },
  {
   "cell_type": "code",
   "execution_count": null,
   "id": "12192548",
   "metadata": {
    "hidden": true
   },
   "outputs": [],
   "source": [
    "from scipy import io\n",
    "\n",
    "io.mmread(BP_MATRIX_FILENAME, output_matrix)"
   ]
  },
  {
   "cell_type": "code",
   "execution_count": null,
   "id": "44744b56",
   "metadata": {
    "hidden": true
   },
   "outputs": [],
   "source": [
    "scores"
   ]
  },
  {
   "cell_type": "code",
   "execution_count": null,
   "id": "3123d499",
   "metadata": {
    "hidden": true
   },
   "outputs": [],
   "source": [
    "!rm ./bipartite_pi.mtx.gz\n",
    "!gzip ./bipartite_pi.mtx\n",
    "!ls"
   ]
  },
  {
   "cell_type": "code",
   "execution_count": null,
   "id": "6010f65c",
   "metadata": {
    "hidden": true
   },
   "outputs": [],
   "source": [
    "import sys\n",
    "\n",
    "sys.path.append(\"../bipartite-pairs/python-scoring/\")\n",
    "import score_data\n",
    "\n",
    "BP_SCORING_OUTPUT = './bipartite_output.csv.gz'\n",
    "score_data.score_only(\n",
    "    BP_MATRIX_FILENAME+\".gz\",\n",
    "    ['weighted_corr_exp'],\n",
    "    BP_SCORING_OUTPUT,\n",
    ")"
   ]
  },
  {
   "cell_type": "code",
   "execution_count": null,
   "id": "2698bdfc",
   "metadata": {
    "hidden": true
   },
   "outputs": [],
   "source": [
    "!zcat ./bipartite_output.csv.gz"
   ]
  },
  {
   "cell_type": "code",
   "execution_count": null,
   "id": "94224328",
   "metadata": {
    "hidden": true
   },
   "outputs": [],
   "source": [
    "import pandas as pd\n",
    "\n",
    "BP_SCORING_OUTPUT = './bipartite_output.csv.gz'\n",
    "df = pd.read_csv(BP_SCORING_OUTPUT)\n",
    "df.head()"
   ]
  },
  {
   "cell_type": "code",
   "execution_count": null,
   "id": "8e0fdd88",
   "metadata": {
    "hidden": true
   },
   "outputs": [],
   "source": [
    "# recreate the neighboring dictionary\n",
    "\n"
   ]
  },
  {
   "cell_type": "markdown",
   "id": "fe12e66c",
   "metadata": {
    "heading_collapsed": true
   },
   "source": [
    "### save "
   ]
  },
  {
   "cell_type": "code",
   "execution_count": null,
   "id": "b66c7124",
   "metadata": {
    "hidden": true
   },
   "outputs": [],
   "source": [
    "import pandas as pd\n",
    "\n",
    "pis = []\n",
    "positives = []\n",
    "negatives = []\n",
    "\n",
    "for pi, cntr in tqdm(neighbor_cnt.items()):\n",
    "    cur_neg = [x for x in most_frequent_pis if x not in neighbor_cnt[pi]]\n",
    "    if len(cur_neg) > 20:\n",
    "        cur_neg = list(np.random.choice(cur_neg, size=20, replace=False))\n",
    "    cur_pos = [x[0] for x in neighbor_cnt[pi].most_common(5)]\n",
    "    if len(cur_neg) < 4 or len(neighbor_cnt[pi])<2:\n",
    "        print(f\"PASSING PI: {pi}\")\n",
    "        continue\n",
    "    positives.append(cur_pos)\n",
    "    pis.append(pi)\n",
    "    negatives.append(cur_neg)\n",
    "                 \n",
    "print(f\"saving {len(pis)} pis\")\n",
    "df = pd.DataFrame({'pis': pis, 'positives': positives, 'negatives': negatives})\n",
    "df.to_csv('twitter_pi_with_neighbors_tfidf.csv', index=False, header=True)"
   ]
  },
  {
   "cell_type": "code",
   "execution_count": null,
   "id": "eea41545",
   "metadata": {
    "hidden": true
   },
   "outputs": [],
   "source": [
    "!wc -l wiki_pi_with_neighbors_standard.csv"
   ]
  },
  {
   "cell_type": "code",
   "execution_count": null,
   "id": "cdb1fc2a",
   "metadata": {
    "hidden": true
   },
   "outputs": [],
   "source": [
    "!head wiki_pi_with_neighbors_standard.csv"
   ]
  },
  {
   "cell_type": "markdown",
   "id": "b1e553a1",
   "metadata": {},
   "source": [
    "## create train and test dataset"
   ]
  },
  {
   "cell_type": "code",
   "execution_count": 33,
   "id": "0e18435a",
   "metadata": {},
   "outputs": [
    {
     "name": "stdout",
     "output_type": "stream",
     "text": [
      "12367897 3091975\n"
     ]
    }
   ],
   "source": [
    "from sklearn.model_selection import train_test_split\n",
    "\n",
    "lower_bios = []\n",
    "for bio in bios:\n",
    "    lower_bio = []\n",
    "    for pi in bio:\n",
    "        lower_bio.append(pi.lower())\n",
    "    lower_bios.append(lower_bio)\n",
    "    \n",
    "train, test = train_test_split(lower_bios, test_size=0.2, shuffle=True)\n",
    "print(len(train), len(test))\n",
    "\n"
   ]
  },
  {
   "cell_type": "code",
   "execution_count": 34,
   "id": "407be37b",
   "metadata": {},
   "outputs": [],
   "source": [
    "import pickle\n",
    "\n",
    "dataset = 'twitter'\n",
    "\n",
    "with open(f'./data/{dataset}_test_bios.pkl', 'wb') as f:\n",
    "    pickle.dump(test, f)\n",
    "    \n",
    "with open(f'./data/{dataset}_train_bios.pkl', 'wb') as f:\n",
    "    pickle.dump(train, f)"
   ]
  },
  {
   "cell_type": "markdown",
   "id": "6bbf8c10",
   "metadata": {},
   "source": [
    "# Cleaning data"
   ]
  },
  {
   "cell_type": "markdown",
   "id": "24388589",
   "metadata": {},
   "source": [
    "## phrase cleaning"
   ]
  },
  {
   "cell_type": "code",
   "execution_count": 67,
   "id": "5008d8a0",
   "metadata": {},
   "outputs": [
    {
     "name": "stdout",
     "output_type": "stream",
     "text": [
      "500\n"
     ]
    }
   ],
   "source": [
    "import pickle\n",
    "\n",
    "dataset = 'twitter'\n",
    "min_freq = 10 if dataset == 'wiki' else 500\n",
    "\n",
    "print(min_freq)\n",
    "with open(f'./data/{dataset}_train_bios.pkl', 'rb') as f:\n",
    "    bios = pickle.load(f)"
   ]
  },
  {
   "cell_type": "code",
   "execution_count": 68,
   "id": "f2ea45e2",
   "metadata": {},
   "outputs": [
    {
     "name": "stderr",
     "output_type": "stream",
     "text": [
      "/scratch/12250815/ipykernel_12332/2665102249.py:6: TqdmDeprecationWarning: This function will be removed in tqdm==5.0.0\n",
      "Please use `tqdm.notebook.tqdm` instead of `tqdm.tqdm_notebook`\n",
      "  for bio in tqdm(bios):\n"
     ]
    },
    {
     "data": {
      "application/vnd.jupyter.widget-view+json": {
       "model_id": "5f5ca233b73744e19d76cbc049ecd37a",
       "version_major": 2,
       "version_minor": 0
      },
      "text/plain": [
       "  0%|          | 0/12367897 [00:00<?, ?it/s]"
      ]
     },
     "metadata": {},
     "output_type": "display_data"
    },
    {
     "data": {
      "text/plain": [
       "7860996"
      ]
     },
     "execution_count": 68,
     "metadata": {},
     "output_type": "execute_result"
    }
   ],
   "source": [
    "# build a vocabulary of phrases\n",
    "from tqdm import tqdm_notebook as tqdm\n",
    "from collections import Counter\n",
    "\n",
    "pi_cnt = Counter()\n",
    "for bio in tqdm(bios):\n",
    "    pi_cnt.update(bio)\n",
    "\n",
    "len(pi_cnt)"
   ]
  },
  {
   "cell_type": "code",
   "execution_count": 46,
   "id": "d79ad7e6",
   "metadata": {},
   "outputs": [
    {
     "data": {
      "text/plain": [
       "[('footballer', 87629),\n",
       " ('politician', 59687),\n",
       " ('actor', 24498),\n",
       " ('actress', 22208),\n",
       " ('writer', 20656),\n",
       " ('professor', 19977),\n",
       " ('author', 19583),\n",
       " ('member', 19326),\n",
       " ('football player', 17436),\n",
       " ('singer', 16542)]"
      ]
     },
     "execution_count": 46,
     "metadata": {},
     "output_type": "execute_result"
    }
   ],
   "source": [
    "pi_cnt.most_common(10)"
   ]
  },
  {
   "cell_type": "code",
   "execution_count": 47,
   "id": "aad1f8b1",
   "metadata": {},
   "outputs": [
    {
     "data": {
      "text/plain": [
       "[('lokoja', 1),\n",
       " ('usa pageant', 1),\n",
       " ('state coroner', 1),\n",
       " ('trinidad soccer', 1),\n",
       " ('film technician', 1)]"
      ]
     },
     "execution_count": 47,
     "metadata": {},
     "output_type": "execute_result"
    }
   ],
   "source": [
    "pi_cnt.most_common(len(pi_cnt))[-5:]"
   ]
  },
  {
   "cell_type": "markdown",
   "id": "89587ee3",
   "metadata": {},
   "source": [
    "## cleaning each bio"
   ]
  },
  {
   "cell_type": "code",
   "execution_count": 70,
   "id": "b5283dbf",
   "metadata": {},
   "outputs": [
    {
     "name": "stderr",
     "output_type": "stream",
     "text": [
      "100%|██████████| 12367897/12367897 [00:27<00:00, 452224.60it/s]\n"
     ]
    },
    {
     "name": "stdout",
     "output_type": "stream",
     "text": [
      "2753951 12367897\n"
     ]
    }
   ],
   "source": [
    "from tqdm import tqdm\n",
    "\n",
    "# phrases of lenght at least m\n",
    "# profiles with at least k phrases\n",
    "# pis that's been repeated at least m times in dataset\n",
    "\n",
    "def clean_pis(all_pis):\n",
    "    result = []\n",
    "    for pis in tqdm(all_pis):\n",
    "        current_pi = set()\n",
    "        for pi in pis:\n",
    "            if len(pi) >= 2 and pi_cnt[pi] >= min_freq:\n",
    "                current_pi.add(pi)\n",
    "        if len(current_pi) > 1:\n",
    "            result.append(list(current_pi))\n",
    "            \n",
    "    return result\n",
    "            \n",
    "cleaned_bios = clean_pis(bios)\n",
    "print(len(cleaned_bios), len(bios))"
   ]
  },
  {
   "cell_type": "markdown",
   "id": "9b67b153",
   "metadata": {},
   "source": [
    "## saving cleaned dataset"
   ]
  },
  {
   "cell_type": "code",
   "execution_count": 71,
   "id": "94269da5",
   "metadata": {},
   "outputs": [],
   "source": [
    "with open(f'./data/{dataset}_cleaned_train_bios.pkl', 'wb') as f:\n",
    "    pickle.dump(cleaned_bios, f)"
   ]
  },
  {
   "cell_type": "markdown",
   "id": "66548333",
   "metadata": {
    "heading_collapsed": true
   },
   "source": [
    "# Masked Language Modeling"
   ]
  },
  {
   "cell_type": "markdown",
   "id": "28657f20",
   "metadata": {
    "hidden": true
   },
   "source": [
    "## loading dataset"
   ]
  },
  {
   "cell_type": "code",
   "execution_count": 1,
   "id": "4cf396a7",
   "metadata": {
    "hidden": true
   },
   "outputs": [
    {
     "data": {
      "text/plain": [
       "['UX, communication + design; tiptoeing through fields of hubris',\n",
       " 'Taca y programar.',\n",
       " \"The best of SBS entertainment, sport, drama, news, documentaries & more. Celebrating the world's diverse stories.\",\n",
       " 'Researching urban communication, emergent publics, and methods for integrating culture and design.',\n",
       " 'Owner and founder of Heart Spade PR; Co-host @MemoriesMixtape; Instagram lead @persistbrooklyn; Dog walker @nyanimalrescue. (he/him)',\n",
       " \"I'm a Writer. I fly spaceships. Sometimes I fight rubber monsters. I talk about TV/Movies/Music/VideoGames I enjoy as well. Lets talk. I Reply a lot. :)\",\n",
       " 'random internet stranger',\n",
       " 'Actor, Comedian, Asian Girl Lover, Boob Expert, Video Gamer, Jedi Atheist Falcons Fan',\n",
       " 'Bringing you all the latest entertainment news! \\nKeep up at http://eonline.com and watch us weekdays from NYC at 7am!',\n",
       " 'LISTEN UP YO, THIS IS HOT GYAL BIZNESS! Check out my latest on http://mixcloud.com/msmanya',\n",
       " 'Lackwit gadabout, Software Engineer (@gitlab), 🏍 blogger, conference speaker, 👨\\u200d🍳, druid, poker player (@pokerzor), glassworker, trollop, and ⚠️⚡️🏳️\\u200d🌈',\n",
       " 'Social good marketer with @oneandallagency. Advertising nerd. Iced Coffee enthusiast. Proud 🌈',\n",
       " 'yes',\n",
       " '#Tech #Europe #Privacy #Politics #EU 🎩\\n\\nDirector of @FlyingFish_ie web design. Co-founded @UKtoStay. Worked at Amazon, Google, eBay/PayPal & Salesforce.',\n",
       " '(he/him) I make cartoons // Our Cartoon President, The Get Down, Archer, Frisky Dingo, Sealab 2021 // I like dinos, bbq, wrestling, UGA, RBNY // #swampwise',\n",
       " 'digital library developer at GWDG, editor of Code4Lib Journal. Java, metadata quality, library metadata, data science, big data, History, Drupal, and so on.',\n",
       " 'Creative Director  \\nad+digital run+bike+tennis doglover. I wanted to be a pilot.\\nfrom Patagonia CRD.  http://behance.net/ignitionideas #learning #keepwalking',\n",
       " 'comedian • passionless socialist • he/him • stand up on discord Sundays at 9 •  SW-0579-6885-0777\\npsn: yedoye',\n",
       " 'Interests: Writing, acting, singing, reading SFF, and tweeting about my period as often as possible. | #ADHD | She/Her',\n",
       " 'Experience designer aligning technology with health-centered design values • Principal UX Designer @ athenahealth • Writer • Speaker • Creatrix @ Spa x Home',\n",
       " 'Orange juice snob. \\nDuring the day I build design systems.\\nMade of Belgium.',\n",
       " \"@DFERmass\\n\\nCo-founder @WelcomePartyNow and @NoBosOlympics \\n\\n@TuckSchool '12  @AmeriCorps '06  @ProvidenceCol '05 \\n\\nopinions are my own\",\n",
       " 'Web担当者Forum初代編集長のやすだの個人としてのTwitterです。  https://webtan.impress.co.jp/  リリースや海外情報からWeb担的なネタを流していることが多いです。  基本的に@tweetに反応できない系のダメ人間です。',\n",
       " 'Web/Android (Kotlin,CFML,Java,Flutter). ✍️@ix, Co-Org @GDGWellington, 💑 @blauerpunto, pilot ✈️, Nintendo 🎮 385233198305, !suits,!shirts,!ties.\\n🌈❤️💜💙 he/him',\n",
       " '一般男性または音楽研究家 general male or music researcher / #電気グルーヴ署名 発起人 http://change.org/denkigroove / 何かあれば、 kagariharuki@gmail.com へ / #ozkn 暦 https://goo.gl/6oJctt',\n",
       " '敝網小站《影．腦．者》，不談影評談器材，少抹視窗多吃蘋果，偶爾來來人稱Lifestyle的技術型文章，懇請大家多多捧場，移移玉鼠點擊一下。',\n",
       " 'http://youtube.com/watch?v=Wm3usx… smarthero_SH on PSN | FLMMJ Patient | he/him',\n",
       " 'Making @allhandshq and @onemetricio',\n",
       " 'Lego Lass\\nTo thine own self, be true ya BAMPOT',\n",
       " 'web developer @tourlane #ruby #javascript\\nhe/him',\n",
       " 'Comms/engagement manager. On/Off relationship with twitter. Tweets about comms, marketing, health and anything else that takes my fancy',\n",
       " 'I wipe my feet really good on the rhythm rug. Designer, geek, decently sized sneaker collection. she/her',\n",
       " 'Little Reaper. Disney Princess. Slytherin. FrontEnd Dev.\\nCould be seen at @cobhc front rows because ALL MY BASE ARE BELONG TO BODOM.',\n",
       " 'https://vimeo.com/77882662\\n\\n\\nEccentric Asshole\\nworks at a homeless shelter\\ngo figure',\n",
       " 'Cookery addict, book enjoyer. In favour of Ice Cream Sundaes. Fair-weather runner. Tech Lead on Growth at @HubSpot',\n",
       " 'Media maker. Coffee drinker. Star of @TheWorstPodcast. School Board Director candidate.',\n",
       " 'Software Developer.  Technology Advocate.  Chief Software Engineer @teleiossystems  Engineering Excellence is architecture, coaching & cheer-leading...',\n",
       " 'Tech Entrepreneur, Wife, Mother of three boys, Advisor @ Bonfire (digital marketing agency) - self confessed tech, glam, geek, girl',\n",
       " 'Bitcoin Volunteer Vote\\nhttp://strike.me/iamthecharacter',\n",
       " 'A software developer in Alabama. Opinions are my own and not of any organization I associated with. (he/him)',\n",
       " 'Sabres junkie, viola player, all-around whack job.',\n",
       " 'Music, nice places, programming, walking',\n",
       " 'Breast cancer survivor, proud mother, music lover. No DMs, if you disagree with my views, don’t read them. #TheResistance #BlackLivesMatter',\n",
       " 'After 10 years of promoting public participation in democratic processes in Mongolia, I have to turn my attention to the USA and work to protect democracy here.',\n",
       " 'Asst. Chief Counsel @CaCorrections| Musician|Writer|Book Reviewer|Mom|Auntie|Grandauntie. FB, BookBub, Litsy, Goodreads: jhsiess Insta: jhscolloquium #BookShark',\n",
       " 'Cancer killer, Politics addict,  Apple Aficionado, Middle School tech coach. MIE certified Google certified. Collector of interesting people.',\n",
       " 'Entertainment lawyer navigating the entertainment business and deal making culture. All views are my own. RTs/likes are not necessarily endorsements.',\n",
       " 'ゲームとか漫画とかアニメDVDに埋もれる日々',\n",
       " 'Art Director, Inside Northside',\n",
       " 'Asst. Prof. of Learning Sciences & Human Dev. Researcher of new media, drag culture, and public pedagogy. Parent of @rupawl_official. Opinions are mine.']"
      ]
     },
     "execution_count": 1,
     "metadata": {},
     "output_type": "execute_result"
    }
   ],
   "source": [
    "import pickle\n",
    "\n",
    "with open('/user/smadani/navid/data/bios2020.pkl', 'rb') as f:\n",
    "    bios = pickle.load(f)\n",
    "    \n",
    "bios[100:150]"
   ]
  },
  {
   "cell_type": "markdown",
   "id": "b270187d",
   "metadata": {
    "hidden": true
   },
   "source": [
    "## cleaning dataset"
   ]
  },
  {
   "cell_type": "code",
   "execution_count": null,
   "id": "82938af5",
   "metadata": {
    "hidden": true
   },
   "outputs": [
    {
     "name": "stderr",
     "output_type": "stream",
     "text": [
      " 16%|█▌        | 2518661/16240577 [00:43<03:51, 59201.14it/s]"
     ]
    }
   ],
   "source": [
    "from tqdm import tqdm\n",
    "import re\n",
    "\n",
    "## remove url and email addresses + social media links\n",
    "cleaned_bios = []\n",
    "\n",
    "for description in tqdm(bios):\n",
    "    d = re.sub(r'\\w+@\\w+\\.\\w+', '', description.lower()).strip()\n",
    "    d = re.sub(r'(on )?(snapchat|snap|ig|insta|instagram|email|phone): +[A-Za-z0-9_@.-]+', \" \", d).strip()\n",
    "    d = re.sub(r'http\\S+', '', d).strip()\n",
    "    d = d.replace(\"&emsp;\", \"\").replace(\"&nbsp;\", \"\")\n",
    "    d = re.sub(r\"\\s+\", \" \", d).strip()\n",
    "    if len(d) > 5:\n",
    "        cleaned_bios.append(d)\n",
    "\n",
    "len(cleaned_bios), cleaned_bios[:10]"
   ]
  },
  {
   "cell_type": "markdown",
   "id": "21c30e01",
   "metadata": {
    "hidden": true
   },
   "source": [
    "## domain adaptation"
   ]
  },
  {
   "cell_type": "code",
   "execution_count": null,
   "id": "df4b5af3",
   "metadata": {
    "hidden": true
   },
   "outputs": [],
   "source": [
    "from transformers import AutoModelForMaskedLM\n",
    "from transformers import AutoTokenizer\n",
    "\n",
    "\n",
    "model_checkpoint = \"bert-base-uncased\"\n",
    "model = AutoModelForMaskedLM.from_pretrained(model_checkpoint)\n",
    "tokenizer = AutoTokenizer.from_pretrained(model_checkpoint)\n"
   ]
  },
  {
   "cell_type": "code",
   "execution_count": null,
   "id": "ed99210c",
   "metadata": {
    "hidden": true
   },
   "outputs": [],
   "source": []
  },
  {
   "cell_type": "markdown",
   "id": "b8579a27",
   "metadata": {},
   "source": [
    "# Contrastive learning"
   ]
  },
  {
   "cell_type": "markdown",
   "id": "c4049e62",
   "metadata": {},
   "source": [
    "## generating positive negative samples"
   ]
  },
  {
   "cell_type": "code",
   "execution_count": 115,
   "id": "0e276d72",
   "metadata": {},
   "outputs": [
    {
     "data": {
      "text/plain": [
       "(2753951, 4750)"
      ]
     },
     "execution_count": 115,
     "metadata": {},
     "output_type": "execute_result"
    }
   ],
   "source": [
    "import pickle\n",
    "\n",
    "dataset = 'twitter'\n",
    "    \n",
    "with open(f'./data/{dataset}_cleaned_train_bios.pkl', 'rb') as f:\n",
    "    bios = pickle.load(f)\n",
    "    \n",
    "pi_set = set()\n",
    "for bio in bios:\n",
    "    pi_set.update(bio)\n",
    "pi_set = list(pi_set)\n",
    "    \n",
    "len(bios), len(pi_set)"
   ]
  },
  {
   "cell_type": "code",
   "execution_count": 112,
   "id": "652af647",
   "metadata": {},
   "outputs": [
    {
     "data": {
      "text/plain": [
       "3.0"
      ]
     },
     "execution_count": 112,
     "metadata": {},
     "output_type": "execute_result"
    }
   ],
   "source": [
    "np.median([len(x) for x in bios])"
   ]
  },
  {
   "cell_type": "markdown",
   "id": "59b26bdf",
   "metadata": {},
   "source": [
    "### neighbors of a PI"
   ]
  },
  {
   "cell_type": "code",
   "execution_count": 116,
   "id": "fd94ba1c",
   "metadata": {},
   "outputs": [
    {
     "name": "stderr",
     "output_type": "stream",
     "text": [
      "100%|██████████| 2753951/2753951 [00:19<00:00, 140517.89it/s]"
     ]
    },
    {
     "name": "stdout",
     "output_type": "stream",
     "text": [
      "4750\n"
     ]
    },
    {
     "name": "stderr",
     "output_type": "stream",
     "text": [
      "\n"
     ]
    }
   ],
   "source": [
    "from tqdm import tqdm\n",
    "neighbors = {}\n",
    "\n",
    "for bio in tqdm(bios):\n",
    "    for pi in bio:\n",
    "        if pi in pi_cnt:\n",
    "            if pi not in neighbors:\n",
    "                neighbors[pi] = Counter()\n",
    "                \n",
    "            rest = [b for b in bio if b!=pi and b in pi_cnt]\n",
    "            neighbors[pi].update(rest)\n",
    "\n",
    "print(len(neighbors))            \n"
   ]
  },
  {
   "cell_type": "markdown",
   "id": "da2f5038",
   "metadata": {},
   "source": [
    "### pos/neg samples"
   ]
  },
  {
   "cell_type": "code",
   "execution_count": 117,
   "id": "37c4ab31",
   "metadata": {},
   "outputs": [
    {
     "name": "stderr",
     "output_type": "stream",
     "text": [
      "100%|██████████| 2753951/2753951 [03:06<00:00, 14739.46it/s]\n"
     ]
    }
   ],
   "source": [
    "from random import randint\n",
    "import numpy as np\n",
    "\n",
    "def pair_in_list(current_pair, l):\n",
    "    for pair in l:\n",
    "        if current_pair[0] in pair and current_pair[1] in pair:\n",
    "            return True\n",
    "    return False\n",
    "\n",
    "\n",
    "def generate_triplets(bios, k=3):\n",
    "    samples = []\n",
    "    for idx, bio in tqdm(enumerate(bios), total=len(bios)):\n",
    "        if len(bio) != len(set(bio)):\n",
    "            continue\n",
    "        iters = min(len(bio)-1, k)\n",
    "        chosen_pis = []\n",
    "        for i in range(iters):\n",
    "            pos1, pos2 = np.random.choice(bio, size=2, replace=False)\n",
    "            while pair_in_list([pos1,pos2], chosen_pis):\n",
    "                pos1, pos2 = np.random.choice(bio, size=2, replace=False)\n",
    "            chosen_pis.append([pos1, pos2])\n",
    "            neg_idx = randint(0, len(pi_set)-1)\n",
    "            while pi_set[neg_idx] in neighbors[pos1] or pi_set[neg_idx] in neighbors[pos2]:\n",
    "                neg_idx = randint(0, len(pi_set)-1)\n",
    "            samples.append([pos1, pos2, pi_set[neg_idx]])\n",
    "    return samples\n",
    "\n",
    "triplets = generate_triplets(bios, k=3)"
   ]
  },
  {
   "cell_type": "code",
   "execution_count": 118,
   "id": "68ef2d81",
   "metadata": {},
   "outputs": [
    {
     "name": "stdout",
     "output_type": "stream",
     "text": [
      "5056795\n"
     ]
    }
   ],
   "source": [
    "print(len(triplets))"
   ]
  },
  {
   "cell_type": "markdown",
   "id": "30d18ff5",
   "metadata": {},
   "source": [
    "## save dataset"
   ]
  },
  {
   "cell_type": "code",
   "execution_count": 119,
   "id": "b096589a",
   "metadata": {},
   "outputs": [],
   "source": [
    "import pickle \n",
    "\n",
    "with open(f'data/{dataset}-triplets.pkl', 'wb') as f:\n",
    "    pickle.dump(triplets, f)"
   ]
  },
  {
   "cell_type": "code",
   "execution_count": 120,
   "id": "6b7a0d98",
   "metadata": {},
   "outputs": [],
   "source": [
    "import pickle \n",
    "\n",
    "dataset = 'twitter'\n",
    "\n",
    "with open(f'data/{dataset}-triplets.pkl', 'rb') as f:\n",
    "    triplets = pickle.load(f)"
   ]
  },
  {
   "cell_type": "code",
   "execution_count": 121,
   "id": "3e7dbd2f",
   "metadata": {},
   "outputs": [
    {
     "name": "stdout",
     "output_type": "stream",
     "text": [
      "train size: 4955659, validation size: 101136\n"
     ]
    }
   ],
   "source": [
    "from sklearn.model_selection import train_test_split\n",
    "\n",
    "train_set, valid_set = train_test_split(triplets, test_size=0.02, shuffle=True)\n",
    "\n",
    "print(f\"train size: {len(train_set)}, validation size: {len(valid_set)}\")"
   ]
  },
  {
   "cell_type": "code",
   "execution_count": 122,
   "id": "9209cd27",
   "metadata": {},
   "outputs": [],
   "source": [
    "import csv\n",
    "\n",
    "# writing the data into the file\n",
    "with open(f'data/{dataset}-valid.csv', 'w') as f:   \n",
    "    write = csv.writer(f, delimiter='\\t')\n",
    "    write.writerows(valid_set)\n",
    "    \n",
    "with open(f'data/{dataset}-train.csv', 'w') as f:   \n",
    "    write = csv.writer(f, delimiter='\\t')\n",
    "    write.writerows(train_set)\n"
   ]
  },
  {
   "cell_type": "markdown",
   "id": "7ba7ad2d",
   "metadata": {},
   "source": [
    "## finetuning"
   ]
  },
  {
   "cell_type": "markdown",
   "id": "cf22515a",
   "metadata": {},
   "source": [
    "### building the dataset\n"
   ]
  },
  {
   "cell_type": "code",
   "execution_count": 123,
   "id": "72d8c754",
   "metadata": {},
   "outputs": [
    {
     "name": "stderr",
     "output_type": "stream",
     "text": [
      "/projects/academic/kjoseph/navid/anaconda3/envs/py38/lib/python3.8/site-packages/huggingface_hub/snapshot_download.py:6: FutureWarning: snapshot_download.py has been made private and will no longer be available from version 0.11. Please use `from huggingface_hub import snapshot_download` to import the only public function in this module. Other members of the file may be changed without a deprecation notice.\n",
      "  warnings.warn(\n",
      "4955659it [00:50, 97187.43it/s] \n"
     ]
    }
   ],
   "source": [
    "import csv\n",
    "from sentence_transformers import SentenceTransformer, InputExample, losses, util\n",
    "from torch.utils.data import DataLoader\n",
    "\n",
    "with open(f'data/{dataset}-train.csv', newline='') as f:\n",
    "    train_examples = []\n",
    "    reader = csv.reader(f, delimiter='\\t', quoting=csv.QUOTE_NONE)\n",
    "    for row in tqdm(reader):\n",
    "        train_examples.append(InputExample(texts=[row[0], row[1]], label=1.0))\n",
    "        train_examples.append(InputExample(texts=[row[0], row[2]], label=0.0))\n",
    "    "
   ]
  },
  {
   "cell_type": "markdown",
   "id": "23ca3a11",
   "metadata": {},
   "source": [
    "### loading evaluation dataset"
   ]
  },
  {
   "cell_type": "code",
   "execution_count": 124,
   "id": "3f1ae891",
   "metadata": {},
   "outputs": [
    {
     "name": "stderr",
     "output_type": "stream",
     "text": [
      "101136it [00:00, 760854.01it/s]\n"
     ]
    }
   ],
   "source": [
    "\n",
    "from sentence_transformers import evaluation\n",
    "\n",
    "with open(f'data/{dataset}-valid.csv', newline='') as f:\n",
    "    sent1s = []\n",
    "    sent2s = []\n",
    "    scores = []\n",
    "    i = 0\n",
    "    reader = csv.reader(f, delimiter='\\t', quoting=csv.QUOTE_NONE)\n",
    "    for row in tqdm(reader):\n",
    "        sent1s.append(row[0])\n",
    "        sent1s.append(row[0])\n",
    "        sent2s.append(row[1])\n",
    "        sent2s.append(row[2])\n",
    "        scores.append(1.0)\n",
    "        scores.append(0.0)\n",
    "        i += 1\n",
    "evaluator = evaluation.EmbeddingSimilarityEvaluator(sent1s, sent2s, scores)\n"
   ]
  },
  {
   "cell_type": "markdown",
   "id": "d645e1e0",
   "metadata": {},
   "source": [
    "### creating data loaders"
   ]
  },
  {
   "cell_type": "code",
   "execution_count": 125,
   "id": "253e199f",
   "metadata": {},
   "outputs": [
    {
     "name": "stderr",
     "output_type": "stream",
     "text": [
      "/projects/academic/kjoseph/navid/anaconda3/envs/py38/lib/python3.8/site-packages/huggingface_hub/file_download.py:560: FutureWarning: `cached_download` is the legacy way to download files from the HF hub, please consider upgrading to `hf_hub_download`\n",
      "  warnings.warn(\n"
     ]
    },
    {
     "data": {
      "text/plain": [
       "SentenceTransformer(\n",
       "  (0): Transformer({'max_seq_length': 256, 'do_lower_case': False}) with Transformer model: BertModel \n",
       "  (1): Pooling({'word_embedding_dimension': 384, 'pooling_mode_cls_token': False, 'pooling_mode_mean_tokens': True, 'pooling_mode_max_tokens': False, 'pooling_mode_mean_sqrt_len_tokens': False})\n",
       "  (2): Normalize()\n",
       "  (3): Dense({'in_features': 384, 'out_features': 256, 'bias': True, 'activation_function': 'torch.nn.modules.activation.Tanh'})\n",
       ")"
      ]
     },
     "execution_count": 125,
     "metadata": {},
     "output_type": "execute_result"
    }
   ],
   "source": [
    "from sentence_transformers import SentenceTransformer, models\n",
    "from torch import nn\n",
    "\n",
    "model_name = 'all-MiniLM-L6-v2'\n",
    "model = SentenceTransformer(model_name)\n",
    "dense_model = models.Dense(in_features=model.get_sentence_embedding_dimension(), out_features=256, activation_function=nn.Tanh())\n",
    "model.add_module('3', dense_model)\n",
    "\n",
    "train_dataloader = DataLoader(train_examples, shuffle=True, batch_size=256)\n",
    "train_loss = losses.CosineSimilarityLoss(model)\n",
    "\n",
    "model"
   ]
  },
  {
   "cell_type": "markdown",
   "id": "2b6804d7",
   "metadata": {},
   "source": [
    "### training"
   ]
  },
  {
   "cell_type": "code",
   "execution_count": null,
   "id": "c30365eb",
   "metadata": {},
   "outputs": [
    {
     "name": "stderr",
     "output_type": "stream",
     "text": [
      "/projects/academic/kjoseph/navid/workspace/transformers/src/transformers/optimization.py:306: FutureWarning: This implementation of AdamW is deprecated and will be removed in a future version. Use the PyTorch implementation torch.optim.AdamW instead, or set `no_deprecation_warning=True` to disable this warning\n",
      "  warnings.warn(\n"
     ]
    },
    {
     "data": {
      "application/vnd.jupyter.widget-view+json": {
       "model_id": "2367e4224e9b45b28af445ccae9f56c5",
       "version_major": 2,
       "version_minor": 0
      },
      "text/plain": [
       "Epoch:   0%|          | 0/10 [00:00<?, ?it/s]"
      ]
     },
     "metadata": {},
     "output_type": "display_data"
    },
    {
     "data": {
      "application/vnd.jupyter.widget-view+json": {
       "model_id": "8165ae8a35054f2a88ecec094a9c2722",
       "version_major": 2,
       "version_minor": 0
      },
      "text/plain": [
       "Iteration:   0%|          | 0/38717 [00:00<?, ?it/s]"
      ]
     },
     "metadata": {},
     "output_type": "display_data"
    },
    {
     "name": "stderr",
     "output_type": "stream",
     "text": [
      "IOPub message rate exceeded.\n",
      "The notebook server will temporarily stop sending output\n",
      "to the client in order to avoid crashing it.\n",
      "To change this limit, set the config variable\n",
      "`--NotebookApp.iopub_msg_rate_limit`.\n",
      "\n",
      "Current values:\n",
      "NotebookApp.iopub_msg_rate_limit=1000.0 (msgs/sec)\n",
      "NotebookApp.rate_limit_window=3.0 (secs)\n",
      "\n"
     ]
    },
    {
     "data": {
      "application/vnd.jupyter.widget-view+json": {
       "model_id": "c8db0c81adeb43b293688457c2d41ab9",
       "version_major": 2,
       "version_minor": 0
      },
      "text/plain": [
       "Iteration:   0%|          | 0/38717 [00:00<?, ?it/s]"
      ]
     },
     "metadata": {},
     "output_type": "display_data"
    },
    {
     "data": {
      "application/vnd.jupyter.widget-view+json": {
       "model_id": "3a62a3ad34984a84a27dc39f2d3b0f9d",
       "version_major": 2,
       "version_minor": 0
      },
      "text/plain": [
       "Iteration:   0%|          | 0/38717 [00:00<?, ?it/s]"
      ]
     },
     "metadata": {},
     "output_type": "display_data"
    },
    {
     "name": "stderr",
     "output_type": "stream",
     "text": [
      "IOPub message rate exceeded.\n",
      "The notebook server will temporarily stop sending output\n",
      "to the client in order to avoid crashing it.\n",
      "To change this limit, set the config variable\n",
      "`--NotebookApp.iopub_msg_rate_limit`.\n",
      "\n",
      "Current values:\n",
      "NotebookApp.iopub_msg_rate_limit=1000.0 (msgs/sec)\n",
      "NotebookApp.rate_limit_window=3.0 (secs)\n",
      "\n",
      "IOPub message rate exceeded.\n",
      "The notebook server will temporarily stop sending output\n",
      "to the client in order to avoid crashing it.\n",
      "To change this limit, set the config variable\n",
      "`--NotebookApp.iopub_msg_rate_limit`.\n",
      "\n",
      "Current values:\n",
      "NotebookApp.iopub_msg_rate_limit=1000.0 (msgs/sec)\n",
      "NotebookApp.rate_limit_window=3.0 (secs)\n",
      "\n",
      "IOPub message rate exceeded.\n",
      "The notebook server will temporarily stop sending output\n",
      "to the client in order to avoid crashing it.\n",
      "To change this limit, set the config variable\n",
      "`--NotebookApp.iopub_msg_rate_limit`.\n",
      "\n",
      "Current values:\n",
      "NotebookApp.iopub_msg_rate_limit=1000.0 (msgs/sec)\n",
      "NotebookApp.rate_limit_window=3.0 (secs)\n",
      "\n"
     ]
    },
    {
     "data": {
      "application/vnd.jupyter.widget-view+json": {
       "model_id": "f4f0b9d2b7994382b8536afdee579568",
       "version_major": 2,
       "version_minor": 0
      },
      "text/plain": [
       "Iteration:   0%|          | 0/38717 [00:00<?, ?it/s]"
      ]
     },
     "metadata": {},
     "output_type": "display_data"
    },
    {
     "name": "stderr",
     "output_type": "stream",
     "text": [
      "IOPub message rate exceeded.\n",
      "The notebook server will temporarily stop sending output\n",
      "to the client in order to avoid crashing it.\n",
      "To change this limit, set the config variable\n",
      "`--NotebookApp.iopub_msg_rate_limit`.\n",
      "\n",
      "Current values:\n",
      "NotebookApp.iopub_msg_rate_limit=1000.0 (msgs/sec)\n",
      "NotebookApp.rate_limit_window=3.0 (secs)\n",
      "\n"
     ]
    }
   ],
   "source": [
    "output_model_path = f'models/miniLM-L6-{dataset}-out256'\n",
    "\n",
    "model.fit(train_objectives=[(train_dataloader, train_loss)],\n",
    "          evaluator=evaluator,\n",
    "          epochs=10,\n",
    "          evaluation_steps=2500,\n",
    "          warmup_steps=5000,\n",
    "          output_path=output_model_path)"
   ]
  },
  {
   "cell_type": "markdown",
   "id": "7bf9a444",
   "metadata": {},
   "source": [
    "### valiation results - best model\n"
   ]
  },
  {
   "cell_type": "code",
   "execution_count": 138,
   "id": "220e8a03",
   "metadata": {},
   "outputs": [
    {
     "data": {
      "image/png": "[encoded data removed]",
      "text/plain": [
       "<Figure size 432x288 with 1 Axes>"
      ]
     },
     "metadata": {
      "needs_background": "light"
     },
     "output_type": "display_data"
    },
    {
     "data": {
      "image/png": "[encoded data removed]",
      "text/plain": [
       "<Figure size 432x288 with 1 Axes>"
      ]
     },
     "metadata": {
      "needs_background": "light"
     },
     "output_type": "display_data"
    }
   ],
   "source": [
    "import seaborn as sns\n",
    "import pandas as pd\n",
    "import matplotlib.pyplot as plt\n",
    "\n",
    "twitter_valid = pd.read_csv('models/miniLM-L6-twitter-out256/eval/similarity_evaluation_results.csv')\n",
    "wiki_valid = pd.read_csv('models/miniLM-L6-wiki-out256/eval/similarity_evaluation_results.csv')\n",
    "\n",
    "sns.lineplot(x=range(len(twitter_valid)), y=twitter_valid['cosine_pearson'])\n",
    "plt.show()\n",
    "sns.lineplot(x=range(len(wiki_valid)), y=wiki_valid['cosine_pearson'])\n",
    "plt.show()"
   ]
  },
  {
   "cell_type": "markdown",
   "id": "67356ab1",
   "metadata": {
    "heading_collapsed": true
   },
   "source": [
    "## evaluation"
   ]
  },
  {
   "cell_type": "markdown",
   "id": "6f996d9b",
   "metadata": {
    "hidden": true
   },
   "source": [
    "### loading saved model"
   ]
  },
  {
   "cell_type": "code",
   "execution_count": null,
   "id": "99293b13",
   "metadata": {
    "hidden": true
   },
   "outputs": [],
   "source": [
    "%env CUDA_VISIBLE_DEVICES=1"
   ]
  },
  {
   "cell_type": "code",
   "execution_count": null,
   "id": "82ba41ae",
   "metadata": {
    "hidden": true
   },
   "outputs": [],
   "source": [
    "from sentence_transformers import SentenceTransformer, models\n",
    "\n",
    "model = SentenceTransformer('./models/miniLM-L6-finetuned-wiki/')\n",
    "\n",
    "model"
   ]
  },
  {
   "cell_type": "markdown",
   "id": "2ee894bf",
   "metadata": {
    "hidden": true
   },
   "source": [
    "### calculating encodings for all phrases"
   ]
  },
  {
   "cell_type": "code",
   "execution_count": null,
   "id": "ad34c86c",
   "metadata": {
    "hidden": true
   },
   "outputs": [],
   "source": [
    "pis = set()\n",
    "\n",
    "for bio in cleaned_bios:\n",
    "    pis.update(bio)\n",
    "\n",
    "pis = list(pis)\n",
    "print(len(pis))\n",
    "\n",
    "embeddings = model.encode(pis, convert_to_tensor=True)\n",
    "        "
   ]
  },
  {
   "cell_type": "code",
   "execution_count": null,
   "id": "237ba151",
   "metadata": {
    "hidden": true,
    "scrolled": true
   },
   "outputs": [],
   "source": [
    "def most_similar(pi, all_pis, all_pi_embs, model, k=11):\n",
    "    cur_emb = model.encode(pi, convert_to_tensor=True)\n",
    "    cosine_scores = util.cos_sim(cur_emb, all_pi_embs).detach().cpu().numpy()[0]\n",
    "    most_similars = np.argsort(cosine_scores)[-k:]\n",
    "    return [(all_pis[i], cosine_scores[i]) for i in most_similars if pi!=all_pis[i]]\n",
    "\n",
    "most_similar('mima', pis, embeddings, model, k=50)"
   ]
  },
  {
   "cell_type": "code",
   "execution_count": null,
   "id": "94edeb53",
   "metadata": {
    "hidden": true
   },
   "outputs": [],
   "source": [
    "def get_similarity(w1, w2, model=model):\n",
    "    emb1 = model.encode(w1, convert_to_tensor=True)\n",
    "    emb2 = model.encode(w2, convert_to_tensor=True)\n",
    "    return util.cos_sim(emb1, emb2)\n",
    "\n",
    "print(\n",
    "    get_similarity('isfj', 'man'),\n",
    "    get_similarity('isfj', 'woman'),\n",
    "    get_similarity('isfj', 'man', model=model),\n",
    "    get_similarity('isfj', 'woman', model=model),\n",
    ")\n",
    "\n",
    "print(\n",
    "    get_similarity('intj', 'man'),\n",
    "    get_similarity('intj', 'woman'),\n",
    "    get_similarity('intj', 'man', model=model),\n",
    "    get_similarity('intj', 'woman', model=model),\n",
    ")\n",
    "\n",
    "print(\n",
    "    get_similarity('entj', 'man'),\n",
    "    get_similarity('entj', 'woman'),\n",
    "    get_similarity('entj', 'man', model=model),\n",
    "    get_similarity('entj', 'woman', model=model),\n",
    ")\n"
   ]
  },
  {
   "cell_type": "code",
   "execution_count": null,
   "id": "8a1f8c21",
   "metadata": {
    "hidden": true
   },
   "outputs": [],
   "source": [
    "mom_emb = base_model.encode('intp', convert_to_tensor=True)\n",
    "dad_emb = base_model.encode('esfj', convert_to_tensor=True)\n",
    "util.cos_sim(mom_emb, dad_emb)"
   ]
  },
  {
   "cell_type": "markdown",
   "id": "2821f8ae",
   "metadata": {
    "hidden": true
   },
   "source": [
    "### loading not tuned model and doing the same thing"
   ]
  },
  {
   "cell_type": "code",
   "execution_count": null,
   "id": "7ffd31d8",
   "metadata": {
    "hidden": true
   },
   "outputs": [],
   "source": [
    "from sentence_transformers import SentenceTransformer, models\n",
    "\n",
    "base_model = SentenceTransformer('all-MiniLM-L6-v2')\n",
    "base_embs = base_model.encode(pis, convert_to_tensor=True)\n",
    "base_cosine_scores = util.cos_sim(base_embs, base_embs).detach().cpu().numpy()"
   ]
  },
  {
   "cell_type": "code",
   "execution_count": null,
   "id": "84054f5b",
   "metadata": {
    "hidden": true
   },
   "outputs": [],
   "source": [
    "import seaborn as sns\n",
    "import pandas as pd\n",
    "import matplotlib.pyplot as plt\n",
    "\n",
    "target_word = 'build the wall'\n",
    "df1 = pd.DataFrame(most_similar(target_word, pis, embeddings, model), columns=['identifier', 'similarity'])\n",
    "df1['model'] = 'fine-tuned-sentence-bert'\n",
    "df2 = pd.DataFrame(most_similar(target_word, pis, base_embs, base_model), columns=['identifier', 'similarity'])\n",
    "df2['model'] = 'original-sentence-bert'\n",
    "\n",
    "\n",
    "fig, (ax1, ax2) = plt.subplots(nrows=1, ncols=2, figsize=(15,6))\n",
    "\n",
    "ax1.scatter(x=df1['identifier'], y=df1['similarity'])\n",
    "ax1.tick_params(axis='x', rotation=-60)\n",
    "ax1.set_xlabel('phrase')\n",
    "ax1.set_ylabel('similarity')\n",
    "ax1.set_title('fine-tuned-sentence-bert')\n",
    "\n",
    "\n",
    "ax2.scatter(x=df2['identifier'], y=df2['similarity'])\n",
    "ax2.tick_params(axis='x', rotation=-60)\n",
    "ax2.set_xlabel('phrase')\n",
    "ax2.set_ylabel('similarity')\n",
    "ax2.set_title('original-sentence-bert')\n",
    "\n",
    "plt.show()"
   ]
  },
  {
   "cell_type": "markdown",
   "id": "2ad9278e",
   "metadata": {
    "hidden": true
   },
   "source": [
    "### analyzing personalities"
   ]
  },
  {
   "cell_type": "code",
   "execution_count": null,
   "id": "22507a62",
   "metadata": {
    "hidden": true
   },
   "outputs": [],
   "source": [
    "for personality in ['ESTJ', 'ENTJ', 'ESFJ', 'ENFJ', 'ISTJ', 'ISFJ', 'INTJ', 'INFJ', 'ESTP', 'ESFP', 'ENTP', 'ENFP', 'ISTP', 'ISFP', 'INTP', 'INFP']:\n",
    "    if personality in pis or personality.lower() in pis:\n",
    "        print(f\"{personality}: True\")\n",
    "    else:\n",
    "        print(f\"{personality}: False\")"
   ]
  },
  {
   "cell_type": "code",
   "execution_count": null,
   "id": "2c1b63b6",
   "metadata": {
    "hidden": true
   },
   "outputs": [],
   "source": [
    "personalities = ['ESTJ', 'ENTJ', 'ESFJ', 'ENFJ', 'ISTJ', 'ISFJ', 'INTJ', 'INFJ', 'ESTP', 'ESFP', 'ENTP', 'ENFP', 'ISTP', 'ISFP', 'INTP', 'INFP']\n",
    "personalities = [p.lower() for p in personalities]\n",
    "\n",
    "pers_emb = model.encode(personalities, convert_to_tensor=True)\n",
    "pers_emb_base = base_model.encode(personalities, convert_to_tensor=True)\n",
    "\n",
    "base_cosine_scores = util.cos_sim(pers_emb_base, pers_emb_base).detach().cpu().numpy()\n",
    "cosine_scores = util.cos_sim(pers_emb, pers_emb).detach().cpu().numpy()"
   ]
  },
  {
   "cell_type": "code",
   "execution_count": null,
   "id": "406d3001",
   "metadata": {
    "hidden": true
   },
   "outputs": [],
   "source": [
    "plt.figure(figsize=(10,10))\n",
    "ax = sns.heatmap(cosine_scores)\n",
    "ax.set_xticklabels(personalities, rotation=90)\n",
    "ax.set_yticklabels(personalities, rotation=0)\n",
    "\n",
    "# plt.xticks(ticks=personalities)\n",
    "# plt.yticks(ticks=personalities)"
   ]
  },
  {
   "cell_type": "code",
   "execution_count": null,
   "id": "db1ab792",
   "metadata": {
    "hidden": true
   },
   "outputs": [],
   "source": [
    "plt.figure(figsize=(10,10))\n",
    "\n",
    "ax = sns.heatmap(base_cosine_scores)\n",
    "ax.set_xticklabels(personalities, rotation=90)\n",
    "ax.set_yticklabels(personalities, rotation=0)"
   ]
  },
  {
   "cell_type": "markdown",
   "id": "7c00590e",
   "metadata": {
    "hidden": true
   },
   "source": [
    "### comparing in gensim vocab"
   ]
  },
  {
   "cell_type": "code",
   "execution_count": null,
   "id": "f40dfb8f",
   "metadata": {
    "hidden": true
   },
   "outputs": [],
   "source": [
    "import gensim.downloader as api\n",
    "\n",
    "w2v = api.load(\"glove-wiki-gigaword-50\")\n",
    "w2v.most_similar(\"glass\")"
   ]
  },
  {
   "cell_type": "code",
   "execution_count": null,
   "id": "636e7a2b",
   "metadata": {
    "hidden": true
   },
   "outputs": [],
   "source": [
    "vocab = list(w2v.key_to_index.keys())\n",
    "\n",
    "vocab_embs = model.encode(vocab, convert_to_tensor=True)\n"
   ]
  },
  {
   "cell_type": "code",
   "execution_count": null,
   "id": "036f73ec",
   "metadata": {
    "hidden": true
   },
   "outputs": [],
   "source": [
    "most_similar('vaccine', vocab, vocab_embs, model, k=10)"
   ]
  },
  {
   "cell_type": "code",
   "execution_count": null,
   "id": "8b650b74",
   "metadata": {
    "hidden": true
   },
   "outputs": [],
   "source": [
    "most_similar('blm', vocab, vocab_embs, model, k=50)"
   ]
  },
  {
   "cell_type": "markdown",
   "id": "e679f9e7",
   "metadata": {},
   "source": [
    "# Word2vec embedding"
   ]
  },
  {
   "cell_type": "code",
   "execution_count": 108,
   "id": "d9bee5cd",
   "metadata": {},
   "outputs": [
    {
     "name": "stdout",
     "output_type": "stream",
     "text": [
      "2753951\n"
     ]
    }
   ],
   "source": [
    "from gensim.models import Word2Vec\n",
    "from gensim.models.callbacks import CallbackAny2Vec\n",
    "\n",
    "import pickle\n",
    "\n",
    "dataset = 'twitter'\n",
    "with open(f'./data/{dataset}_cleaned_train_bios.pkl', 'rb') as f:\n",
    "    bios = pickle.load(f)\n",
    "    \n",
    "print(len(bios))"
   ]
  },
  {
   "cell_type": "code",
   "execution_count": 98,
   "id": "e71a315d",
   "metadata": {},
   "outputs": [
    {
     "data": {
      "text/plain": [
       "3.169001917608556"
      ]
     },
     "execution_count": 98,
     "metadata": {},
     "output_type": "execute_result"
    }
   ],
   "source": [
    "np.mean([len(x) for x in bios])"
   ]
  },
  {
   "cell_type": "code",
   "execution_count": 99,
   "id": "235e5a60",
   "metadata": {},
   "outputs": [
    {
     "data": {
      "text/plain": [
       "[['lover of nature', 'curious'],\n",
       " ['wwg1wga', 'psychologist'],\n",
       " ['22', 'draw stuff', 'blm', 'him', 'he']]"
      ]
     },
     "execution_count": 99,
     "metadata": {},
     "output_type": "execute_result"
    }
   ],
   "source": [
    "bios[:3]"
   ]
  },
  {
   "cell_type": "code",
   "execution_count": null,
   "id": "1f51047e",
   "metadata": {
    "scrolled": true
   },
   "outputs": [
    {
     "name": "stdout",
     "output_type": "stream",
     "text": [
      "2753951\n",
      "Loss after epoch 0: 624385.6875\n",
      "Loss after epoch 1: 567030.0625\n",
      "Loss after epoch 2: 577575.625\n",
      "Loss after epoch 3: 551320.875\n",
      "Loss after epoch 4: 577968.25\n",
      "Loss after epoch 5: 560531.75\n",
      "Loss after epoch 6: 526172.75\n",
      "Loss after epoch 7: 515894.5\n",
      "Loss after epoch 8: 500314.5\n",
      "Loss after epoch 9: 484174.0\n",
      "Loss after epoch 10: 485462.5\n",
      "Loss after epoch 11: 534802.0\n",
      "Loss after epoch 12: 485668.5\n",
      "Loss after epoch 13: 536364.5\n",
      "Loss after epoch 14: 503617.0\n",
      "Loss after epoch 15: 554313.5\n",
      "Loss after epoch 16: 489828.0\n",
      "Loss after epoch 17: 522239.0\n",
      "Loss after epoch 18: 507256.0\n",
      "Loss after epoch 19: 539719.0\n",
      "Loss after epoch 20: 489194.0\n",
      "Loss after epoch 21: 506312.0\n",
      "Loss after epoch 22: 506682.0\n",
      "Loss after epoch 23: 506604.0\n",
      "Loss after epoch 24: 521860.0\n",
      "Loss after epoch 25: 522995.0\n",
      "Loss after epoch 26: 472697.0\n",
      "Loss after epoch 27: 539279.0\n",
      "Loss after epoch 28: 526926.0\n",
      "Loss after epoch 29: 505694.0\n",
      "Loss after epoch 30: 506135.0\n",
      "Loss after epoch 31: 508620.0\n",
      "Loss after epoch 32: 389732.0\n",
      "Loss after epoch 33: 382862.0\n",
      "Loss after epoch 34: 398252.0\n",
      "Loss after epoch 35: 395604.0\n",
      "Loss after epoch 36: 396214.0\n",
      "Loss after epoch 37: 396680.0\n",
      "Loss after epoch 38: 359218.0\n",
      "Loss after epoch 39: 371774.0\n",
      "Loss after epoch 40: 397582.0\n",
      "Loss after epoch 41: 396390.0\n",
      "Loss after epoch 42: 396566.0\n",
      "Loss after epoch 43: 384786.0\n",
      "Loss after epoch 44: 382702.0\n",
      "Loss after epoch 45: 371226.0\n",
      "Loss after epoch 46: 396418.0\n",
      "Loss after epoch 47: 380272.0\n",
      "Loss after epoch 48: 381382.0\n",
      "Loss after epoch 49: 385264.0\n",
      "Loss after epoch 50: 383020.0\n",
      "Loss after epoch 51: 381744.0\n",
      "Loss after epoch 52: 357450.0\n",
      "Loss after epoch 53: 382024.0\n",
      "Loss after epoch 54: 382102.0\n",
      "Loss after epoch 55: 393412.0\n",
      "Loss after epoch 56: 382504.0\n",
      "Loss after epoch 57: 380186.0\n",
      "Loss after epoch 58: 382908.0\n",
      "Loss after epoch 59: 368584.0\n",
      "Loss after epoch 60: 394736.0\n",
      "Loss after epoch 61: 381028.0\n",
      "Loss after epoch 62: 396026.0\n",
      "Loss after epoch 63: 368036.0\n",
      "Loss after epoch 64: 357104.0\n",
      "Loss after epoch 65: 393132.0\n",
      "Loss after epoch 66: 382226.0\n",
      "Loss after epoch 67: 381388.0\n",
      "Loss after epoch 68: 367842.0\n",
      "Loss after epoch 69: 379350.0\n",
      "Loss after epoch 70: 368472.0\n",
      "Loss after epoch 71: 395732.0\n",
      "Loss after epoch 72: 418166.0\n",
      "Loss after epoch 73: 395258.0\n",
      "Loss after epoch 74: 380134.0\n",
      "Loss after epoch 75: 357752.0\n",
      "Loss after epoch 76: 298588.0\n",
      "Loss after epoch 77: 297640.0\n",
      "Loss after epoch 78: 297604.0\n",
      "Loss after epoch 79: 298204.0\n",
      "Loss after epoch 80: 306588.0\n",
      "Loss after epoch 81: 305200.0\n",
      "Loss after epoch 82: 285712.0\n",
      "Loss after epoch 83: 285032.0\n",
      "Loss after epoch 84: 297460.0\n",
      "Loss after epoch 85: 295180.0\n",
      "Loss after epoch 86: 294644.0\n",
      "Loss after epoch 87: 295384.0\n",
      "Loss after epoch 88: 292912.0\n",
      "Loss after epoch 89: 294524.0\n",
      "Loss after epoch 90: 294964.0\n",
      "Loss after epoch 91: 295780.0\n",
      "Loss after epoch 92: 302844.0\n",
      "Loss after epoch 93: 295480.0\n",
      "Loss after epoch 94: 305172.0\n",
      "Loss after epoch 95: 283820.0\n",
      "Loss after epoch 96: 282648.0\n",
      "Loss after epoch 97: 284924.0\n",
      "Loss after epoch 98: 303052.0\n",
      "Loss after epoch 99: 293228.0\n",
      "Loss after epoch 100: 283816.0\n",
      "Loss after epoch 101: 312680.0\n",
      "Loss after epoch 102: 283872.0\n",
      "Loss after epoch 103: 284168.0\n",
      "Loss after epoch 104: 294680.0\n",
      "Loss after epoch 105: 282328.0\n",
      "Loss after epoch 106: 302792.0\n",
      "Loss after epoch 107: 313424.0\n",
      "Loss after epoch 108: 303664.0\n",
      "Loss after epoch 109: 302352.0\n",
      "Loss after epoch 110: 293216.0\n",
      "Loss after epoch 111: 281116.0\n",
      "Loss after epoch 112: 299348.0\n",
      "Loss after epoch 113: 300844.0\n",
      "Loss after epoch 114: 302168.0\n",
      "Loss after epoch 115: 282980.0\n",
      "Loss after epoch 116: 290880.0\n",
      "Loss after epoch 117: 281732.0\n",
      "Loss after epoch 118: 300488.0\n",
      "Loss after epoch 119: 288560.0\n",
      "Loss after epoch 120: 292872.0\n",
      "Loss after epoch 121: 288828.0\n",
      "Loss after epoch 122: 290044.0\n",
      "Loss after epoch 123: 290480.0\n"
     ]
    }
   ],
   "source": [
    "\n",
    "print(len(cleaned_bios))\n",
    "\n",
    "class Callback(CallbackAny2Vec):\n",
    "    '''Callback to print loss after each epoch.'''\n",
    "\n",
    "    def __init__(self):\n",
    "        self.epoch = 0\n",
    "        self.loss_to_be_subed = 0\n",
    "\n",
    "    def on_epoch_end(self, model):\n",
    "        loss = model.get_latest_training_loss()\n",
    "        loss_now = loss - self.loss_to_be_subed\n",
    "        self.loss_to_be_subed = loss\n",
    "        print('Loss after epoch {}: {}'.format(self.epoch, loss_now))\n",
    "        self.epoch += 1\n",
    "\n",
    "monitor = Callback()\n",
    "# w2v_model = Word2Vec(bios, vector_size=256, window=8, min_count=1,\n",
    "#                  negative=8, workers=30, sg=1, epochs=300, callbacks=[monitor],\n",
    "#                  compute_loss=True)\n",
    "\n",
    "w2v_model = Word2Vec(bios, vector_size=256, window=8, min_count=1,\n",
    "                 negative=8, workers=30, sg=0,  cbow_mean=1, epochs=300, callbacks=[monitor],\n",
    "                 compute_loss=True)\n",
    "\n",
    "model_path = f'./models/w2v_cbow_{dataset}.model'\n",
    "w2v_model.save(model_path)"
   ]
  },
  {
   "cell_type": "code",
   "execution_count": 106,
   "id": "ccc4c356",
   "metadata": {},
   "outputs": [],
   "source": [
    "model_path = f'./models/w2v_negsampling_{dataset}.model'\n",
    "w2v_model = Word2Vec.load(model_path)"
   ]
  },
  {
   "cell_type": "code",
   "execution_count": 107,
   "id": "65904ea8",
   "metadata": {},
   "outputs": [
    {
     "data": {
      "text/plain": [
       "[('liberal', 0.6526982188224792),\n",
       " ('resistance', 0.6434893608093262),\n",
       " ('progressive', 0.6369225382804871),\n",
       " ('resister', 0.6196234822273254),\n",
       " ('voteblue', 0.6002514958381653),\n",
       " ('bidenharris2020', 0.5841273665428162),\n",
       " ('proud democrat', 0.5827977061271667),\n",
       " ('resist', 0.5810790657997131),\n",
       " ('biden2020', 0.5805890560150146),\n",
       " ('fbr', 0.5787544846534729),\n",
       " ('bluewave', 0.5392828583717346),\n",
       " ('bluewave2020', 0.535259485244751),\n",
       " ('political junkie', 0.5239893794059753),\n",
       " ('proud liberal', 0.5239233374595642),\n",
       " ('votebluenomatterwho', 0.5152519345283508)]"
      ]
     },
     "execution_count": 107,
     "metadata": {},
     "output_type": "execute_result"
    }
   ],
   "source": [
    "w2v_model.wv.most_similar('democrat', topn=15)"
   ]
  },
  {
   "cell_type": "markdown",
   "id": "befc7b98",
   "metadata": {},
   "source": [
    "# Downstream tasks"
   ]
  },
  {
   "cell_type": "markdown",
   "id": "73a84e0e",
   "metadata": {},
   "source": [
    "## hold-one-out prediction of PIs"
   ]
  },
  {
   "cell_type": "markdown",
   "id": "c92a72ff",
   "metadata": {},
   "source": [
    "### load w2v model for vocabulary\n"
   ]
  },
  {
   "cell_type": "code",
   "execution_count": 1,
   "id": "c64cd0e0",
   "metadata": {},
   "outputs": [
    {
     "name": "stdout",
     "output_type": "stream",
     "text": [
      "CPU times: user 1.28 s, sys: 4.37 s, total: 5.65 s\n",
      "Wall time: 2.22 s\n"
     ]
    }
   ],
   "source": [
    "%%time\n",
    "\n",
    "from gensim.models import Word2Vec\n",
    "\n",
    "model_path = f'./models/w2v_negsampling_twitter.model'\n",
    "w2v_twitter_negsamp_model = Word2Vec.load(model_path)\n",
    "\n",
    "model_path = f'./models/w2v_cbow_twitter.model'\n",
    "w2v_twitter_cbow_model = Word2Vec.load(model_path)\n",
    "\n",
    "model_path = f'./models/w2v_negsampling_wiki.model'\n",
    "w2v_wiki_negsamp_model = Word2Vec.load(model_path)\n",
    "\n",
    "model_path = f'./models/w2v_cbow_wiki.model'\n",
    "w2v_wiki_cbow_model = Word2Vec.load(model_path)"
   ]
  },
  {
   "cell_type": "markdown",
   "id": "43527519",
   "metadata": {},
   "source": [
    "### load and filter data"
   ]
  },
  {
   "cell_type": "code",
   "execution_count": 5,
   "id": "407eaa00",
   "metadata": {},
   "outputs": [
    {
     "name": "stdout",
     "output_type": "stream",
     "text": [
      "creating dataset for twitter:\n",
      "total test bios: 1546001\n",
      "total test bios after restriction: 692671\n",
      "total PIs: 4750\n",
      "creating dataset for wiki:\n",
      "total test bios: 66484\n",
      "total test bios after restriction: 61475\n",
      "total PIs: 3922\n",
      "CPU times: user 27.9 s, sys: 1.25 s, total: 29.2 s\n",
      "Wall time: 28.2 s\n"
     ]
    }
   ],
   "source": [
    "%%time\n",
    "\n",
    "from tqdm import tqdm_notebook as tqdm\n",
    "from collections import Counter\n",
    "import pickle\n",
    "from collections import OrderedDict\n",
    "import numpy as np\n",
    "\n",
    "\n",
    "def load_bios(dataset='twitter', mode='test'):\n",
    "    with open(f'data/{dataset}_{mode}_bios.pkl', 'rb') as f:\n",
    "        bios = pickle.load(f)\n",
    "    \n",
    "    #filter only bios with more than 1 PI\n",
    "    morethan2pi = [x for x in bios if len(x)>1]\n",
    "    return morethan2pi\n",
    "\n",
    "def build_vocab_list(bios):\n",
    "    all_pis = set()\n",
    "    for bio in bios:\n",
    "        all_pis.update(bio)\n",
    "\n",
    "    return list(all_pis)\n",
    "\n",
    "def filter_bios_with_vocab_restriction(bios, vocab):\n",
    "    filtered_bios = []\n",
    "    for bio in bios:\n",
    "        cur_bio = []\n",
    "        for pi in bio:\n",
    "            if pi in vocab:\n",
    "                cur_bio.append(pi)\n",
    "        if len(cur_bio) > 1:\n",
    "            filtered_bios.append(cur_bio)\n",
    "    return filtered_bios\n",
    "\n",
    "def build_contextual_dataset(bios):\n",
    "    test_ds = []\n",
    "    for bio in bios:\n",
    "        hold_out_idx = np.random.randint(0, len(bio))\n",
    "        remaining = [x for i, x in enumerate(bio) if i != hold_out_idx]\n",
    "        remaining = ', '.join(remaining)\n",
    "        target = bio[hold_out_idx]\n",
    "\n",
    "        test_ds.append((remaining, target))\n",
    "\n",
    "    return test_ds\n",
    "\n",
    "\n",
    "def build_w2v_dataset(bios):\n",
    "    w2v_test_ds = []\n",
    "    w2v_test_random_ds = []\n",
    "\n",
    "    for bio in bios:\n",
    "        hold_out_idx = np.random.randint(0, len(bio))\n",
    "        remaining = [x for i, x in enumerate(bio) if i != hold_out_idx]\n",
    "        random_remaining = np.random.choice(remaining, 1)\n",
    "        target = bio[hold_out_idx]\n",
    "\n",
    "        w2v_test_ds.append((remaining, target))\n",
    "        w2v_test_random_ds.append((random_remaining, target))\n",
    "    \n",
    "    return w2v_test_ds, w2v_test_random_ds\n",
    "\n",
    "\n",
    "\n",
    "def create_test_dataset(dataset='twitter', restrict_vocab_to_training=None, w2v=False):\n",
    "    print(f\"creating dataset for {dataset}:\")\n",
    "    \n",
    "    test_bios = load_bios(dataset)\n",
    "    print(f\"total test bios: {len(test_bios)}\")\n",
    "    \n",
    "    test_bios = filter_bios_with_vocab_restriction(test_bios, restrict_vocab_to_training)\n",
    "    print(f\"total test bios after restriction: {len(test_bios)}\")\n",
    "    \n",
    "    test_pis = build_vocab_list(test_bios)\n",
    "    print(f\"total PIs: {len(test_pis)}\")\n",
    "    \n",
    "    pi_dict = OrderedDict()\n",
    "    for p in test_pis:\n",
    "        pi_dict[p] = len(pi_dict)\n",
    "    \n",
    "    if w2v:\n",
    "        test_ds, test_ds_rand = build_w2v_dataset(test_bios)\n",
    "        return test_ds, test_ds_rand, pi_dict\n",
    "    else:\n",
    "        test_ds = build_contextual_dataset(test_bios)\n",
    "        return test_ds, pi_dict\n",
    "        \n",
    "    \n",
    "w2v_test_ds_twitter, w2v_test_ds_twitter_rand, twitter_pi_dict = create_test_dataset(\n",
    "    dataset='twitter',\n",
    "    restrict_vocab_to_training=w2v_twitter_negsamp_model.wv.key_to_index,\n",
    "    w2v=True\n",
    ")\n",
    "\n",
    "w2v_test_ds_wiki, w2v_test_ds_wiki_rand, wiki_pi_dict = create_test_dataset(\n",
    "    dataset='wiki',\n",
    "    restrict_vocab_to_training=w2v_wiki_negsamp_model.wv.key_to_index,\n",
    "    w2v=True\n",
    ")"
   ]
  },
  {
   "cell_type": "markdown",
   "id": "1390cb3c",
   "metadata": {
    "heading_collapsed": true
   },
   "source": [
    "### to remove!"
   ]
  },
  {
   "cell_type": "code",
   "execution_count": 1,
   "id": "127e7647",
   "metadata": {
    "hidden": true
   },
   "outputs": [
    {
     "name": "stdout",
     "output_type": "stream",
     "text": [
      "15459872\n"
     ]
    }
   ],
   "source": [
    "import pickle\n",
    "\n",
    "dataset = 'twitter'\n",
    "\n",
    "filter_freq = 500 if dataset == 'twitter' else 10\n",
    "\n",
    "with open(f'data/{dataset}_test_bios.pkl', 'rb') as f:\n",
    "    test_bios = pickle.load(f)\n",
    "\n",
    "with open(f'data/{dataset}_train_bios.pkl', 'rb') as f:\n",
    "    train_bios = pickle.load(f)\n",
    "    \n",
    "all_bios = train_bios + test_bios\n",
    "print(len(all_bios))"
   ]
  },
  {
   "cell_type": "code",
   "execution_count": 4,
   "id": "d80941f1",
   "metadata": {
    "hidden": true
   },
   "outputs": [
    {
     "data": {
      "text/plain": [
       "1546001"
      ]
     },
     "execution_count": 4,
     "metadata": {},
     "output_type": "execute_result"
    }
   ],
   "source": [
    "len([x for x in test_bios if len(x) > 1])"
   ]
  },
  {
   "cell_type": "code",
   "execution_count": 2,
   "id": "3231d408",
   "metadata": {
    "hidden": true
   },
   "outputs": [
    {
     "name": "stderr",
     "output_type": "stream",
     "text": [
      "/scratch/12250815/ipykernel_14920/608534976.py:6: TqdmDeprecationWarning: This function will be removed in tqdm==5.0.0\n",
      "Please use `tqdm.notebook.tqdm` instead of `tqdm.tqdm_notebook`\n",
      "  for bio in tqdm(all_bios):\n"
     ]
    },
    {
     "data": {
      "application/vnd.jupyter.widget-view+json": {
       "model_id": "6166ea30c3384fad841eb8d7f027595b",
       "version_major": 2,
       "version_minor": 0
      },
      "text/plain": [
       "  0%|          | 0/15459872 [00:00<?, ?it/s]"
      ]
     },
     "metadata": {},
     "output_type": "display_data"
    },
    {
     "ename": "KeyboardInterrupt",
     "evalue": "",
     "output_type": "error",
     "traceback": [
      "\u001b[0;31m---------------------------------------------------------------------------\u001b[0m",
      "\u001b[0;31mKeyboardInterrupt\u001b[0m                         Traceback (most recent call last)",
      "\u001b[0;32m/scratch/12250815/ipykernel_14920/608534976.py\u001b[0m in \u001b[0;36m<module>\u001b[0;34m\u001b[0m\n\u001b[1;32m      5\u001b[0m \u001b[0mpi_cnt\u001b[0m \u001b[0;34m=\u001b[0m \u001b[0mCounter\u001b[0m\u001b[0;34m(\u001b[0m\u001b[0;34m)\u001b[0m\u001b[0;34m\u001b[0m\u001b[0;34m\u001b[0m\u001b[0m\n\u001b[1;32m      6\u001b[0m \u001b[0;32mfor\u001b[0m \u001b[0mbio\u001b[0m \u001b[0;32min\u001b[0m \u001b[0mtqdm\u001b[0m\u001b[0;34m(\u001b[0m\u001b[0mall_bios\u001b[0m\u001b[0;34m)\u001b[0m\u001b[0;34m:\u001b[0m\u001b[0;34m\u001b[0m\u001b[0;34m\u001b[0m\u001b[0m\n\u001b[0;32m----> 7\u001b[0;31m     \u001b[0mpi_cnt\u001b[0m\u001b[0;34m.\u001b[0m\u001b[0mupdate\u001b[0m\u001b[0;34m(\u001b[0m\u001b[0mbio\u001b[0m\u001b[0;34m)\u001b[0m\u001b[0;34m\u001b[0m\u001b[0;34m\u001b[0m\u001b[0m\n\u001b[0m\u001b[1;32m      8\u001b[0m \u001b[0;34m\u001b[0m\u001b[0m\n\u001b[1;32m      9\u001b[0m \u001b[0mlen\u001b[0m\u001b[0;34m(\u001b[0m\u001b[0mpi_cnt\u001b[0m\u001b[0;34m)\u001b[0m\u001b[0;34m\u001b[0m\u001b[0;34m\u001b[0m\u001b[0m\n",
      "\u001b[0;32m/projects/academic/kjoseph/navid/anaconda3/envs/py38/lib/python3.8/collections/__init__.py\u001b[0m in \u001b[0;36mupdate\u001b[0;34m(self, iterable, **kwds)\u001b[0m\n\u001b[1;32m    635\u001b[0m                     \u001b[0msuper\u001b[0m\u001b[0;34m(\u001b[0m\u001b[0mCounter\u001b[0m\u001b[0;34m,\u001b[0m \u001b[0mself\u001b[0m\u001b[0;34m)\u001b[0m\u001b[0;34m.\u001b[0m\u001b[0mupdate\u001b[0m\u001b[0;34m(\u001b[0m\u001b[0miterable\u001b[0m\u001b[0;34m)\u001b[0m \u001b[0;31m# fast path when counter is empty\u001b[0m\u001b[0;34m\u001b[0m\u001b[0;34m\u001b[0m\u001b[0m\n\u001b[1;32m    636\u001b[0m             \u001b[0;32melse\u001b[0m\u001b[0;34m:\u001b[0m\u001b[0;34m\u001b[0m\u001b[0;34m\u001b[0m\u001b[0m\n\u001b[0;32m--> 637\u001b[0;31m                 \u001b[0m_count_elements\u001b[0m\u001b[0;34m(\u001b[0m\u001b[0mself\u001b[0m\u001b[0;34m,\u001b[0m \u001b[0miterable\u001b[0m\u001b[0;34m)\u001b[0m\u001b[0;34m\u001b[0m\u001b[0;34m\u001b[0m\u001b[0m\n\u001b[0m\u001b[1;32m    638\u001b[0m         \u001b[0;32mif\u001b[0m \u001b[0mkwds\u001b[0m\u001b[0;34m:\u001b[0m\u001b[0;34m\u001b[0m\u001b[0;34m\u001b[0m\u001b[0m\n\u001b[1;32m    639\u001b[0m             \u001b[0mself\u001b[0m\u001b[0;34m.\u001b[0m\u001b[0mupdate\u001b[0m\u001b[0;34m(\u001b[0m\u001b[0mkwds\u001b[0m\u001b[0;34m)\u001b[0m\u001b[0;34m\u001b[0m\u001b[0;34m\u001b[0m\u001b[0m\n",
      "\u001b[0;31mKeyboardInterrupt\u001b[0m: "
     ]
    }
   ],
   "source": [
    "# build a vocabulary of phrases\n",
    "from tqdm import tqdm_notebook as tqdm\n",
    "from collections import Counter\n",
    "\n",
    "pi_cnt = Counter()\n",
    "for bio in tqdm(all_bios):\n",
    "    pi_cnt.update(bio)\n",
    "\n",
    "len(pi_cnt)"
   ]
  },
  {
   "cell_type": "markdown",
   "id": "64e8dd6a",
   "metadata": {
    "heading_collapsed": true
   },
   "source": [
    "### clean PIs for LLM"
   ]
  },
  {
   "cell_type": "code",
   "execution_count": 5,
   "id": "ca3cb98b",
   "metadata": {
    "hidden": true,
    "scrolled": true
   },
   "outputs": [
    {
     "name": "stderr",
     "output_type": "stream",
     "text": [
      "/scratch/12146454/ipykernel_23657/902843276.py:7: TqdmDeprecationWarning: This function will be removed in tqdm==5.0.0\n",
      "Please use `tqdm.notebook.tqdm` instead of `tqdm.tqdm_notebook`\n",
      "  for pis in tqdm(all_pis):\n"
     ]
    },
    {
     "data": {
      "application/vnd.jupyter.widget-view+json": {
       "model_id": "3d4eabebf03c4452b25cfefac71551eb",
       "version_major": 2,
       "version_minor": 0
      },
      "text/plain": [
       "  0%|          | 0/15459872 [00:00<?, ?it/s]"
      ]
     },
     "metadata": {},
     "output_type": "display_data"
    },
    {
     "data": {
      "application/vnd.jupyter.widget-view+json": {
       "model_id": "01bd82d0b6a94257a42f2960673ed719",
       "version_major": 2,
       "version_minor": 0
      },
      "text/plain": [
       "  0%|          | 0/3091975 [00:00<?, ?it/s]"
      ]
     },
     "metadata": {},
     "output_type": "display_data"
    }
   ],
   "source": [
    "\n",
    "# phrases of lenght at least 2\n",
    "# profiles with at least 2 phrases\n",
    "# pis that's been repeated at least 10 times in dataset\n",
    "\n",
    "def clean_pis(all_pis):\n",
    "    result = []\n",
    "    for pis in tqdm(all_pis):\n",
    "        current_pi = set()\n",
    "        for pi in pis:\n",
    "            if len(pi) >= 2 and pi_cnt[pi] >= filter_freq:\n",
    "                current_pi.add(pi)\n",
    "        if len(current_pi) > 1:\n",
    "            result.append(list(current_pi))\n",
    "            \n",
    "    return result\n",
    "            \n",
    "cleaned_all_bios = clean_pis(all_bios)\n",
    "cleaned_test_bios = clean_pis(test_bios)\n"
   ]
  },
  {
   "cell_type": "code",
   "execution_count": 6,
   "id": "6eed8fd0",
   "metadata": {
    "hidden": true
   },
   "outputs": [
    {
     "data": {
      "text/plain": [
       "[['she', 'her'],\n",
       " ['girldad', 'captain'],\n",
       " ['her', '24', 'she', 'hello', 'work in progress']]"
      ]
     },
     "execution_count": 6,
     "metadata": {},
     "output_type": "execute_result"
    }
   ],
   "source": [
    "cleaned_all_bios[:3]"
   ]
  },
  {
   "cell_type": "markdown",
   "id": "12b732a6",
   "metadata": {
    "heading_collapsed": true
   },
   "source": [
    "### clean PIs for w2v"
   ]
  },
  {
   "cell_type": "code",
   "execution_count": null,
   "id": "4cf1e6d4",
   "metadata": {
    "hidden": true
   },
   "outputs": [],
   "source": [
    "w2v_vocab = w2v_model.wv.key_to_index\n",
    "print(f\"vocab size: {len(w2v_vocab)}\")\n",
    "\n",
    "def clean_pis(all_pis):\n",
    "    result = []\n",
    "    for pis in tqdm(all_pis):\n",
    "        current_pi = set()\n",
    "        for pi in pis:\n",
    "            if len(pi) >= 2 and pi_cnt[pi] >= filter_freq and pi in w2v_vocab:\n",
    "                current_pi.add(pi)\n",
    "        if len(current_pi) > 1:\n",
    "            result.append(list(current_pi))\n",
    "            \n",
    "    return result\n",
    "            \n",
    "cleaned_all_bios = clean_pis(all_bios)\n",
    "cleaned_test_bios = clean_pis(test_bios)"
   ]
  },
  {
   "cell_type": "code",
   "execution_count": null,
   "id": "6fa5ae2d",
   "metadata": {
    "hidden": true
   },
   "outputs": [],
   "source": [
    "print(f\"all before: {len(all_bios)} all after: {len(cleaned_all_bios)}\")\n",
    "print(f\"test before: {len(test_bios)} test after: {len(cleaned_test_bios)}\")"
   ]
  },
  {
   "cell_type": "markdown",
   "id": "7246be1d",
   "metadata": {
    "heading_collapsed": true
   },
   "source": [
    "### create dataset for w2v"
   ]
  },
  {
   "cell_type": "code",
   "execution_count": null,
   "id": "e92e440d",
   "metadata": {
    "hidden": true
   },
   "outputs": [],
   "source": [
    "import numpy as np\n",
    "\n",
    "w2v_test_ds = []\n",
    "w2v_test_random_ds = []\n",
    "\n",
    "for bio in cleaned_test_bios:\n",
    "    hold_out_idx = np.random.randint(0, len(bio))\n",
    "    remaining = [x for i, x in enumerate(bio) if i != hold_out_idx]\n",
    "    random_remaining = np.random.choice(remaining, 1)\n",
    "    target = bio[hold_out_idx]\n",
    "    \n",
    "    w2v_test_ds.append((remaining, target))\n",
    "    w2v_test_random_ds.append((random_remaining, target))\n",
    "\n",
    "print(len(w2v_test_ds))"
   ]
  },
  {
   "cell_type": "markdown",
   "id": "d786fbb9",
   "metadata": {
    "heading_collapsed": true
   },
   "source": [
    "### create dataset for LLM"
   ]
  },
  {
   "cell_type": "code",
   "execution_count": null,
   "id": "aa5f11d4",
   "metadata": {
    "hidden": true
   },
   "outputs": [],
   "source": [
    "import numpy as np\n",
    "\n",
    "test_ds = []\n",
    "\n",
    "\n",
    "for bio in cleaned_test_bios:\n",
    "    hold_out_idx = np.random.randint(0, len(bio))\n",
    "    remaining = [x for i, x in enumerate(bio) if i != hold_out_idx]\n",
    "    remaining = ', '.join(remaining)\n",
    "    target = bio[hold_out_idx]\n",
    "    \n",
    "    test_ds.append((remaining, target))\n",
    "\n",
    "print(len(test_ds))"
   ]
  },
  {
   "cell_type": "code",
   "execution_count": null,
   "id": "5abb2cf9",
   "metadata": {
    "hidden": true
   },
   "outputs": [],
   "source": [
    "all_pis = set()\n",
    "for bio in cleaned_all_bios:\n",
    "    for pi in bio:\n",
    "        all_pis.add(pi)\n",
    "\n",
    "all_pis = list(all_pis)"
   ]
  },
  {
   "cell_type": "code",
   "execution_count": null,
   "id": "0fb6b0b5",
   "metadata": {
    "hidden": true
   },
   "outputs": [],
   "source": [
    "print(len(all_pis))"
   ]
  },
  {
   "cell_type": "code",
   "execution_count": null,
   "id": "62e3452f",
   "metadata": {
    "hidden": true
   },
   "outputs": [],
   "source": [
    "from collections import OrderedDict\n",
    "\n",
    "pi_dict = OrderedDict()\n",
    "for p in all_pis:\n",
    "    pi_dict[p] = len(pi_dict)"
   ]
  },
  {
   "cell_type": "code",
   "execution_count": null,
   "id": "2ed23ae5",
   "metadata": {
    "hidden": true
   },
   "outputs": [],
   "source": [
    "print(len(pi_dict))"
   ]
  },
  {
   "cell_type": "code",
   "execution_count": null,
   "id": "49ece2c1",
   "metadata": {
    "hidden": true
   },
   "outputs": [],
   "source": [
    "bio_x, bio_y = zip(*test_ds)\n",
    "\n",
    "# comment if not using this\n",
    "w2v_bio_x, w2v_bio_y = zip(*w2v_test_ds)\n",
    "w2v_rand_bio_x, _ = zip(*w2v_test_random_ds)\n",
    "\n",
    "print(len(bio_y), len(bio_x))"
   ]
  },
  {
   "cell_type": "markdown",
   "id": "c2a9d6d5",
   "metadata": {},
   "source": [
    "### helper function for batching"
   ]
  },
  {
   "cell_type": "code",
   "execution_count": 6,
   "id": "9785fa1e",
   "metadata": {},
   "outputs": [],
   "source": [
    "from tqdm import tqdm\n",
    "import torch \n",
    "\n",
    "def get_results_batched(model, tokenizer, str_l, bs=256, average_k_layers=1):\n",
    "    i = 0\n",
    "    result = []\n",
    "    pbar = tqdm(total=len(str_l))\n",
    "    while i < len(str_l):\n",
    "        batch = list(str_l[i:i+bs])\n",
    "        with torch.no_grad():\n",
    "            tokens = tokenizer(batch, return_tensors='pt', padding=True, truncation=True).to(device)\n",
    "            res_full = model(**tokens).hidden_states\n",
    "            layers = []\n",
    "\n",
    "            for k in range(-average_k_layers,0):\n",
    "                pooled_val = res_full[k]\n",
    "                # taking cls token embeddings\n",
    "                layers.append(pooled_val[:,0,:])\n",
    "\n",
    "            stacked_layers = torch.stack(layers, dim=1)\n",
    "            #print(stacked_layers.shape)\n",
    "\n",
    "            average_embs = torch.mean(stacked_layers, dim=1)\n",
    "            #print(average_embs.shape)\n",
    "\n",
    "            result.append(average_embs.detach().cpu())\n",
    "            i = i + bs\n",
    "            pbar.update(bs)\n",
    "    return torch.concat(result, dim=0)\n"
   ]
  },
  {
   "cell_type": "markdown",
   "id": "0df6379b",
   "metadata": {},
   "source": [
    "## word2vec with aggregation"
   ]
  },
  {
   "cell_type": "code",
   "execution_count": 7,
   "id": "fc03a167",
   "metadata": {},
   "outputs": [
    {
     "name": "stdout",
     "output_type": "stream",
     "text": [
      "CPU times: user 12 µs, sys: 0 ns, total: 12 µs\n",
      "Wall time: 15.7 µs\n"
     ]
    }
   ],
   "source": [
    "%%time\n",
    "import torch\n",
    "from sentence_transformers import SentenceTransformer, models, util\n",
    "from tqdm import tqdm\n",
    "\n",
    "\n",
    "def calculate_w2v_based_metrics(w2v_model, dataset, pi_dict, device='cpu', bs=50000):\n",
    "    pi_list = list(pi_dict.keys())\n",
    "    X, ys = zip(*dataset)\n",
    "    \n",
    "    emb_x = torch.tensor([w2v_model.wv.get_mean_vector(x) for x in X], device=device)\n",
    "    emb_all = torch.tensor([w2v_model.wv.get_mean_vector(x) for x in pi_list], device=device)\n",
    "    \n",
    "    i = 0\n",
    "    pbar = tqdm(total=emb_x.shape[0])\n",
    "\n",
    "    cosine_scores = []\n",
    "    while i < emb_x.shape[0]:\n",
    "        batch = emb_x[i:i+bs]\n",
    "        batch_cosine_scores = util.cos_sim(batch, emb_all)\n",
    "        cosine_scores.append(batch_cosine_scores)\n",
    "        i += bs\n",
    "        pbar.update(bs)\n",
    "\n",
    "\n",
    "    cosine_scores = torch.concat(cosine_scores)\n",
    "    print('cosine scores: ', cosine_scores.shape)\n",
    "\n",
    "    ranks = torch.argsort(torch.argsort(cosine_scores, dim=1, descending=True), dim=1)\n",
    "    target_idxs = torch.tensor([pi_dict[y] for y in ys], dtype=torch.int64)\n",
    "    print('target shape: ', target_idxs.shape)\n",
    "    target_ranks = torch.gather(ranks, 1, target_idxs.unsqueeze(1).reshape(-1,1)).type(torch.FloatTensor)\n",
    "    \n",
    "    avg_rank = torch.mean(target_ranks).cpu().numpy()\n",
    "    top100_acc = len([r for r in target_ranks.reshape(1,-1).squeeze().tolist() if r < 100])\n",
    "    \n",
    "    return avg_rank, top100_acc\n",
    "\n",
    "    "
   ]
  },
  {
   "cell_type": "code",
   "execution_count": null,
   "id": "34afd5a1",
   "metadata": {},
   "outputs": [],
   "source": [
    "w2v_twitter_negsamp_model = Word2Vec.load(model_path)\n",
    "\n",
    "model_path = f'./models/w2v_cbow_twitter.model'\n",
    "w2v_twitter_cbow_model = Word2Vec.load(model_path)\n",
    "\n",
    "model_path = f'./models/w2v_negsampling_wiki.model'\n",
    "w2v_wiki_negsamp_model = Word2Vec.load(model_path)\n",
    "\n",
    "model_path = f'./models/w2v_cbow_wiki.model'\n",
    "w2v_wiki_cbow_model = Word2Vec.load(model_path)\n",
    "\n",
    "\n",
    "twitter_w2v_cbow_avgrank, twitter_w2v_cbow_top100acc = calculate_w2v_based_metrics(\n",
    "    w2v_model=w2v_twitter_cbow_model,\n",
    "    dataset=w2v_test_ds_twitter,\n",
    "    pi_dict=twitter_pi_dict,\n",
    ")\n",
    "\n",
    "twitter_w2v_negsample_avgrank, twitter_w2v_negsample_top100acc = calculate_w2v_based_metrics(\n",
    "    w2v_model=w2v_twitter_negsamp_model,\n",
    "    dataset=w2v_test_ds_twitter,\n",
    "    pi_dict=twitter_pi_dict,\n",
    ")\n",
    "\n",
    "wiki_w2v_cbow_avgrank, wiki_w2v_cbow_top100acc = calculate_w2v_based_metrics(\n",
    "    w2v_model=w2v_wiki_cbow_model,\n",
    "    dataset=w2v_test_ds_wiki,\n",
    "    pi_dict=wiki_pi_dict,\n",
    ")\n",
    "\n",
    "wiki_w2v_negsample_avgrank, wiki_w2v_negsample_top100acc = calculate_w2v_based_metrics(\n",
    "    w2v_model=w2v_wiki_negsamp_model,\n",
    "    dataset=w2v_test_ds_wiki,\n",
    "    pi_dict=wiki_pi_dict,\n",
    ")\n"
   ]
  },
  {
   "cell_type": "markdown",
   "id": "b17900ba",
   "metadata": {
    "heading_collapsed": true
   },
   "source": [
    "### load w2v and embeddings"
   ]
  },
  {
   "cell_type": "code",
   "execution_count": null,
   "id": "76fee9ef",
   "metadata": {
    "hidden": true
   },
   "outputs": [],
   "source": [
    "%%time\n",
    "\n",
    "device = 'cpu'\n",
    "#w2v_model = Word2Vec.load(\"./models/w2v.model\")\n",
    "\n",
    "w2v_emb_x = torch.tensor([w2v_model.wv.get_mean_vector(x) for x in w2v_bio_x], device=device)\n",
    "w2v_emb_all = torch.tensor([w2v_model.wv.get_mean_vector(x) for x in all_pis], device=device)\n",
    "\n",
    "print(w2v_emb_x.shape, w2v_emb_all.shape)"
   ]
  },
  {
   "cell_type": "markdown",
   "id": "e646314a",
   "metadata": {},
   "source": [
    "### calculate rank score"
   ]
  },
  {
   "cell_type": "code",
   "execution_count": null,
   "id": "79087465",
   "metadata": {
    "scrolled": true
   },
   "outputs": [],
   "source": [
    "%%time\n",
    "import torch\n",
    "from sentence_transformers import SentenceTransformer, models, util\n",
    "from tqdm import tqdm\n",
    "\n",
    "device = 'cpu'\n",
    "bs = 50000\n",
    "i = 0\n",
    "pbar = tqdm(total=w2v_emb_x.shape[0])\n",
    "\n",
    "cosine_scores = []\n",
    "while i < w2v_emb_x.shape[0]:\n",
    "    batch = w2v_emb_x[i:i+bs]\n",
    "    batch_cosine_scores = util.cos_sim(batch, w2v_emb_all)\n",
    "    cosine_scores.append(batch_cosine_scores)\n",
    "    i += bs\n",
    "    pbar.update(bs)\n",
    "    \n",
    "    \n",
    "cosine_scores = torch.concat(cosine_scores)\n",
    "print(cosine_scores.shape)\n",
    "\n",
    "# cosine_scores = util.cos_sim(w2v_emb_x.to(device), w2v_emb_x.to(device))\n",
    "ranks = torch.argsort(torch.argsort(cosine_scores, dim=1, descending=True), dim=1)\n",
    "target_idxs = torch.tensor([pi_dict[y] for y in w2v_bio_y], dtype=torch.int64)\n",
    "print(target_idxs.shape)\n",
    "w2v_target_ranks = torch.gather(ranks, 1, target_idxs.unsqueeze(1).reshape(-1,1)).type(torch.FloatTensor)\n"
   ]
  },
  {
   "cell_type": "code",
   "execution_count": null,
   "id": "5e8480dc",
   "metadata": {},
   "outputs": [],
   "source": [
    "w2v_avg_rank = torch.mean(w2v_target_ranks)\n",
    "w2v_top100 = len([r for r in w2v_target_ranks.reshape(1,-1).squeeze().tolist() if r < 100])\n",
    "\n",
    "print(f\"top100: {w2v_top100} avg: {w2v_avg_rank}\")"
   ]
  },
  {
   "cell_type": "markdown",
   "id": "5d8291ec",
   "metadata": {},
   "source": [
    "### load w2v random and embeddings"
   ]
  },
  {
   "cell_type": "code",
   "execution_count": null,
   "id": "14fb296c",
   "metadata": {},
   "outputs": [],
   "source": [
    "%%time\n",
    "\n",
    "device = 'cpu'\n",
    "#w2v_model = Word2Vec.load(\"./models/w2v.model\")\n",
    "\n",
    "w2v_emb_x = torch.tensor([w2v_model.wv.get_mean_vector(x) for x in w2v_rand_bio_x], device=device)\n",
    "w2v_emb_all = torch.tensor([w2v_model.wv.get_mean_vector(x) for x in all_pis], device=device)\n",
    "\n",
    "print(w2v_emb_x.shape, w2v_emb_all.shape)"
   ]
  },
  {
   "cell_type": "markdown",
   "id": "5044412e",
   "metadata": {},
   "source": [
    "### calculate rank score"
   ]
  },
  {
   "cell_type": "code",
   "execution_count": null,
   "id": "1f7d441c",
   "metadata": {
    "scrolled": true
   },
   "outputs": [],
   "source": [
    "%%time\n",
    "import torch\n",
    "from sentence_transformers import SentenceTransformer, models, util\n",
    "from tqdm import tqdm\n",
    "\n",
    "device = 'cpu'\n",
    "bs = 50000\n",
    "i = 0\n",
    "pbar = tqdm(total=w2v_emb_x.shape[0])\n",
    "\n",
    "cosine_scores = []\n",
    "while i < w2v_emb_x.shape[0]:\n",
    "    batch = w2v_emb_x[i:i+bs]\n",
    "    batch_cosine_scores = util.cos_sim(batch, w2v_emb_all)\n",
    "    cosine_scores.append(batch_cosine_scores)\n",
    "    i += bs\n",
    "    pbar.update(bs)\n",
    "    \n",
    "    \n",
    "cosine_scores = torch.concat(cosine_scores)\n",
    "print(cosine_scores.shape)\n",
    "\n",
    "# cosine_scores = util.cos_sim(w2v_emb_x.to(device), w2v_emb_x.to(device))\n",
    "ranks = torch.argsort(torch.argsort(cosine_scores, dim=1, descending=True), dim=1)\n",
    "target_idxs = torch.tensor([pi_dict[y] for y in w2v_bio_y], dtype=torch.int64)\n",
    "print(target_idxs.shape)\n",
    "w2v_target_ranks = torch.gather(ranks, 1, target_idxs.unsqueeze(1).reshape(-1,1)).type(torch.FloatTensor)\n"
   ]
  },
  {
   "cell_type": "code",
   "execution_count": null,
   "id": "85336245",
   "metadata": {},
   "outputs": [],
   "source": [
    "w2v_avg_rank = torch.mean(w2v_target_ranks)\n",
    "w2v_top100 = len([r for r in w2v_target_ranks.reshape(1,-1).squeeze().tolist() if r < 100])\n",
    "\n",
    "print(f\"top100: {w2v_top100} avg: {w2v_avg_rank}\")"
   ]
  },
  {
   "cell_type": "markdown",
   "id": "ea73d94c",
   "metadata": {},
   "source": [
    "### load original bert and embeddings"
   ]
  },
  {
   "cell_type": "code",
   "execution_count": 22,
   "id": "19d54816",
   "metadata": {},
   "outputs": [
    {
     "name": "stderr",
     "output_type": "stream",
     "text": [
      "Some weights of the model checkpoint at bert-base-uncased were not used when initializing BertModel: ['cls.predictions.transform.dense.weight', 'cls.predictions.decoder.weight', 'cls.predictions.transform.LayerNorm.bias', 'cls.seq_relationship.bias', 'cls.predictions.transform.dense.bias', 'cls.predictions.transform.LayerNorm.weight', 'cls.seq_relationship.weight', 'cls.predictions.bias']\n",
      "- This IS expected if you are initializing BertModel from the checkpoint of a model trained on another task or with another architecture (e.g. initializing a BertForSequenceClassification model from a BertForPreTraining model).\n",
      "- This IS NOT expected if you are initializing BertModel from the checkpoint of a model that you expect to be exactly identical (initializing a BertForSequenceClassification model from a BertForSequenceClassification model).\n",
      "717312it [03:04, 3878.35it/s]                            \n",
      "6144it [00:00, 7156.69it/s]                          "
     ]
    },
    {
     "name": "stdout",
     "output_type": "stream",
     "text": [
      "torch.Size([717119, 768]) torch.Size([5947, 768])\n",
      "CPU times: user 3min, sys: 32.5 s, total: 3min 32s\n",
      "Wall time: 3min 18s\n"
     ]
    },
    {
     "name": "stderr",
     "output_type": "stream",
     "text": [
      "\n"
     ]
    }
   ],
   "source": [
    "%%time\n",
    "\n",
    "from transformers import BertTokenizer, BertModel, BertConfig\n",
    "import torch\n",
    "\n",
    "device = 'cuda:1'\n",
    "\n",
    "config = BertConfig.from_pretrained(\"bert-base-uncased\", output_hidden_states=True)\n",
    "bert_tokenizer = BertTokenizer.from_pretrained(\"bert-base-uncased\")\n",
    "bert_model = BertModel.from_pretrained(\"bert-base-uncased\", config=config)\n",
    "bert_model = bert_model.to(device)\n",
    "bert_model.eval()\n",
    "\n",
    "\n",
    "bert_emb_x = get_results_batched(bert_model, bert_tokenizer, bio_x, average_k_layers=3)\n",
    "bert_emb_all = get_results_batched(bert_model, bert_tokenizer, all_pis, average_k_layers=3)\n",
    "\n",
    "print(bert_emb_x.shape, bert_emb_all.shape)"
   ]
  },
  {
   "cell_type": "markdown",
   "id": "e2b73357",
   "metadata": {},
   "source": [
    "#### calculate rank score"
   ]
  },
  {
   "cell_type": "code",
   "execution_count": 23,
   "id": "8a9d9d70",
   "metadata": {
    "scrolled": true
   },
   "outputs": [
    {
     "name": "stdout",
     "output_type": "stream",
     "text": [
      "CPU times: user 11min 15s, sys: 35.1 s, total: 11min 50s\n",
      "Wall time: 37.4 s\n"
     ]
    }
   ],
   "source": [
    "%%time\n",
    "import torch\n",
    "from sentence_transformers import SentenceTransformer, models, util\n",
    "\n",
    "device = 'cpu'\n",
    "cosine_scores = util.cos_sim(bert_emb_x.to(device), bert_emb_all.to(device))\n",
    "ranks = torch.argsort(torch.argsort(cosine_scores, dim=1, descending=True), dim=1)\n",
    "target_idxs = torch.tensor([pi_dict[y] for y in bio_y], dtype=torch.int64)\n",
    "bert_target_ranks = torch.gather(ranks, 1, target_idxs.unsqueeze(1).reshape(-1,1)).type(torch.FloatTensor)\n"
   ]
  },
  {
   "cell_type": "code",
   "execution_count": 24,
   "id": "b15955ac",
   "metadata": {},
   "outputs": [
    {
     "name": "stdout",
     "output_type": "stream",
     "text": [
      "top100: 82131 avg: 2298.931640625\n"
     ]
    }
   ],
   "source": [
    "bert_avg_rank = torch.mean(bert_target_ranks).item()\n",
    "bert_top100 = len([r for r in bert_target_ranks.reshape(1,-1).squeeze().tolist() if r < 100])\n",
    "\n",
    "print(f\"top100: {bert_top100} avg: {bert_avg_rank}\")"
   ]
  },
  {
   "cell_type": "markdown",
   "id": "98b10b27",
   "metadata": {},
   "source": [
    "### load original sentence bert and embeddings"
   ]
  },
  {
   "cell_type": "code",
   "execution_count": 25,
   "id": "b7333db7",
   "metadata": {},
   "outputs": [
    {
     "name": "stderr",
     "output_type": "stream",
     "text": [
      "/projects/academic/kjoseph/navid/anaconda3/envs/py38/lib/python3.8/site-packages/huggingface_hub/file_download.py:560: FutureWarning: `cached_download` is the legacy way to download files from the HF hub, please consider upgrading to `hf_hub_download`\n",
      "  warnings.warn(\n"
     ]
    },
    {
     "name": "stdout",
     "output_type": "stream",
     "text": [
      "CPU times: user 3min 39s, sys: 59.8 s, total: 4min 39s\n",
      "Wall time: 2min 15s\n"
     ]
    }
   ],
   "source": [
    "%%time\n",
    "\n",
    "from sentence_transformers import SentenceTransformer, models, util\n",
    "from transformers import AutoTokenizer, AutoModel\n",
    "\n",
    "device = 'cuda:1'\n",
    "orig_model = SentenceTransformer('all-MiniLM-L6-v2', device=device)\n",
    "\n",
    "sbert_emb_x = orig_model.encode(bio_x, convert_to_tensor=True)\n",
    "sbert_emb_all = orig_model.encode(all_pis, convert_to_tensor=True)\n",
    "\n",
    "# sbert_tokenizer = AutoTokenizer.from_pretrained('sentence-transformers/all-MiniLM-L6-v2')\n",
    "# sbert_model = AutoModel.from_pretrained('sentence-transformers/all-MiniLM-L6-v2', output_hidden_states=True)\n",
    "# sbert_model = sbert_model.to(device)\n",
    "# sbert_model.eval()\n",
    "\n",
    "# sbert_emb_x = get_results_batched(sbert_model, sbert_tokenizer, bio_x, bs=256, average_k_layers=3)\n",
    "# sbert_emb_all = get_results_batched(sbert_model, sbert_tokenizer, all_pis, bs=256, average_k_layers=3)\n"
   ]
  },
  {
   "cell_type": "markdown",
   "id": "905bd51b",
   "metadata": {},
   "source": [
    "#### calculate rank score"
   ]
  },
  {
   "cell_type": "code",
   "execution_count": 26,
   "id": "6f3e7a51",
   "metadata": {},
   "outputs": [
    {
     "name": "stdout",
     "output_type": "stream",
     "text": [
      "CPU times: user 10min 32s, sys: 27.2 s, total: 11min\n",
      "Wall time: 53.9 s\n"
     ]
    }
   ],
   "source": [
    "%%time\n",
    "import torch\n",
    "\n",
    "device='cpu'\n",
    "cosine_scores = util.cos_sim(sbert_emb_x, sbert_emb_all)\n",
    "ranks = torch.argsort(torch.argsort(cosine_scores.to(device), dim=1, descending=True), dim=1)\n",
    "target_idxs = torch.tensor([pi_dict[y] for y in bio_y], dtype=torch.int64)\n",
    "sbert_target_ranks = torch.gather(ranks, 1, target_idxs.unsqueeze(1).reshape(-1,1)).type(torch.FloatTensor)\n"
   ]
  },
  {
   "cell_type": "code",
   "execution_count": 27,
   "id": "f77c5a47",
   "metadata": {},
   "outputs": [
    {
     "name": "stdout",
     "output_type": "stream",
     "text": [
      "top100: 174413 avg: 1590.9246826171875\n"
     ]
    }
   ],
   "source": [
    "sbert_avg_rank = torch.mean(sbert_target_ranks).item()\n",
    "sbert_top100 = len([r for r in sbert_target_ranks.reshape(1,-1).squeeze().tolist() if r < 100])\n",
    "\n",
    "print(f\"top100: {sbert_top100} avg: {sbert_avg_rank}\")"
   ]
  },
  {
   "cell_type": "markdown",
   "id": "12e4dc40",
   "metadata": {},
   "source": [
    "### load finetuned sentence bert and embeddings"
   ]
  },
  {
   "cell_type": "code",
   "execution_count": 28,
   "id": "d967a030",
   "metadata": {},
   "outputs": [
    {
     "name": "stdout",
     "output_type": "stream",
     "text": [
      "CPU times: user 3min 40s, sys: 58.5 s, total: 4min 39s\n",
      "Wall time: 2min 14s\n"
     ]
    }
   ],
   "source": [
    "%%time\n",
    "\n",
    "from sentence_transformers import SentenceTransformer, models, util\n",
    "from transformers import AutoTokenizer, AutoModel\n",
    "\n",
    "\n",
    "device = 'cuda:1'\n",
    "orig_model = SentenceTransformer('./models/miniLM-L6-finetuned/', device=device)\n",
    "\n",
    "fint_emb_x = orig_model.encode(bio_x, convert_to_tensor=True)\n",
    "fint_emb_all = orig_model.encode(all_pis, convert_to_tensor=True)\n",
    "\n",
    "\n",
    "# fint_tokenizer = AutoTokenizer.from_pretrained('./models/miniLM-L6-finetuned-wiki/')\n",
    "# fint_model = AutoModel.from_pretrained('./models/miniLM-L6-finetuned-wiki/', output_hidden_states=True)\n",
    "# fint_model = fint_model.to(device)\n",
    "# fint_model.eval()\n",
    "\n",
    "# fint_emb_x = get_results_batched(fint_model, fint_tokenizer, bio_x, bs=256, average_k_layers=3)\n",
    "# fint_emb_all = get_results_batched(fint_model, fint_tokenizer, all_pis, bs=256, average_k_layers=3)"
   ]
  },
  {
   "cell_type": "markdown",
   "id": "09e57a29",
   "metadata": {},
   "source": [
    "#### calculate rank score"
   ]
  },
  {
   "cell_type": "code",
   "execution_count": 29,
   "id": "9caa214c",
   "metadata": {},
   "outputs": [
    {
     "name": "stdout",
     "output_type": "stream",
     "text": [
      "CPU times: user 10min 47s, sys: 29.1 s, total: 11min 16s\n",
      "Wall time: 34.9 s\n"
     ]
    }
   ],
   "source": [
    "%%time\n",
    "import torch\n",
    "\n",
    "device='cpu'\n",
    "cosine_scores_fint = util.cos_sim(fint_emb_x.to(device), fint_emb_all.to(device))\n",
    "ranks_fint = torch.argsort(torch.argsort(cosine_scores_fint.to(device), dim=1, descending=True), dim=1)\n",
    "target_idxs = torch.tensor([pi_dict[y] for y in bio_y], dtype=torch.int64)\n",
    "target_ranks_fint = torch.gather(ranks_fint, 1, target_idxs.unsqueeze(1).reshape(-1,1)).type(torch.FloatTensor)\n"
   ]
  },
  {
   "cell_type": "code",
   "execution_count": 30,
   "id": "81e13632",
   "metadata": {},
   "outputs": [
    {
     "name": "stdout",
     "output_type": "stream",
     "text": [
      "top100: 279094 avg: 700.0682373046875\n"
     ]
    }
   ],
   "source": [
    "fint_avg_rank = torch.mean(target_ranks_fint).item()\n",
    "fint_top100 = len([r for r in target_ranks_fint.reshape(1,-1).squeeze().tolist() if r < 100])\n",
    "\n",
    "print(f\"top100: {fint_top100} avg: {fint_avg_rank}\")\n"
   ]
  },
  {
   "cell_type": "code",
   "execution_count": 34,
   "id": "f9f9caea",
   "metadata": {},
   "outputs": [
    {
     "data": {
      "text/plain": [
       "(torch.Tensor, float, float, float)"
      ]
     },
     "execution_count": 34,
     "metadata": {},
     "output_type": "execute_result"
    }
   ],
   "source": [
    "type(w2v_avg_rank), type(bert_avg_rank), type(sbert_avg_rank), type(fint_avg_rank)"
   ]
  },
  {
   "cell_type": "code",
   "execution_count": 35,
   "id": "093f3f0e",
   "metadata": {},
   "outputs": [
    {
     "data": {
      "image/png": "[encoded data removed]",
      "text/plain": [
       "<Figure size 432x288 with 1 Axes>"
      ]
     },
     "metadata": {},
     "output_type": "display_data"
    },
    {
     "data": {
      "image/png": "[encoded data removed]",
      "text/plain": [
       "<Figure size 432x288 with 1 Axes>"
      ]
     },
     "metadata": {},
     "output_type": "display_data"
    }
   ],
   "source": [
    "import pandas as pd\n",
    "\n",
    "total = len(bio_y)\n",
    "df_avg_rank = pd.DataFrame({\n",
    "    'value': [w2v_avg_rank.item(), bert_avg_rank, sbert_avg_rank, fint_avg_rank],#, bert_avg_rank, sbert_avg_rank, fint_avg_rank],\n",
    "    'social': ['twitter', 'twitter', 'twitter', 'twitter'],#, 'wiki', 'wiki', 'wiki'],\n",
    "   'model': ['w2v', 'bert', 's-bert', 'Our Model']#, 'bert', 's-bert', 'Our Model',]\n",
    "})\n",
    "\n",
    "df_top_100 = pd.DataFrame({\n",
    "    'value': [\n",
    "        w2v_top100/total, bert_top100/total, sbert_top100/total, fint_top100/total,\n",
    "        #bert_top100/wiki_tot, sbert_top100/wiki_tot, fint_top100/wiki_tot\n",
    "    ],\n",
    "    'social': ['twitter','twitter', 'twitter', 'twitter'],#, 'wiki', 'wiki', 'wiki'],\n",
    "    'model': ['w2v', 'bert', 's-bert', 'Our Model']#, 'bert', 's-bert', 'Our Model',]\n",
    "})\n",
    "\n",
    "\n",
    "import seaborn as sns\n",
    "import matplotlib.pyplot as plt\n",
    "sns.set_theme()\n",
    "\n",
    "sns.barplot(data=df_avg_rank, x='model', y='value', hue='social')\n",
    "plt.title('Average rank of target PI')\n",
    "plt.show()\n",
    "\n",
    "sns.barplot(data=df_top_100, x='model', y='value', hue='social')\n",
    "plt.title('top-100 accuracy')\n",
    "plt.show()"
   ]
  },
  {
   "cell_type": "code",
   "execution_count": 36,
   "id": "770149e0",
   "metadata": {},
   "outputs": [],
   "source": [
    "df_avg_rank.to_parquet('twitter_avg_rank.parquet')\n",
    "df_top_100.to_parquet('twitter_top100.parquet')\n"
   ]
  },
  {
   "cell_type": "code",
   "execution_count": null,
   "id": "7958e0ec",
   "metadata": {},
   "outputs": [],
   "source": [
    "import seaborn as sns\n",
    "import matplotlib.pyplot as plt\n",
    "sns.set_theme()\n",
    "total_samples = len(bio_x)"
   ]
  },
  {
   "cell_type": "code",
   "execution_count": 40,
   "id": "d530644b",
   "metadata": {},
   "outputs": [
    {
     "data": {
      "image/png": "[encoded data removed]",
      "text/plain": [
       "<Figure size 432x288 with 1 Axes>"
      ]
     },
     "metadata": {},
     "output_type": "display_data"
    },
    {
     "data": {
      "image/png": "[encoded data removed]",
      "text/plain": [
       "<Figure size 432x288 with 1 Axes>"
      ]
     },
     "metadata": {},
     "output_type": "display_data"
    }
   ],
   "source": [
    "import seaborn as sns\n",
    "import matplotlib.pyplot as plt\n",
    "sns.set_theme()\n",
    "total_samples = len(bio_x)\n",
    "\n",
    "sns.barplot(x=['Bert', 'S-Bert', 'Our Model'], y=[bert_avg_rank, sbert_avg_rank, fint_avg_rank])\n",
    "plt.title('Average rank of target PI')\n",
    "plt.show()\n",
    "\n",
    "sns.barplot(x=['Bert', 'S-Bert', 'Our Model'], y=[bert_top100/total_samples, sbert_top100/total_samples, fint_top100/total_samples])\n",
    "plt.title('top-100 accuracy')\n",
    "plt.show()"
   ]
  },
  {
   "cell_type": "markdown",
   "id": "fe137609",
   "metadata": {},
   "source": [
    "# build survey questions"
   ]
  },
  {
   "cell_type": "markdown",
   "id": "4f8af9de",
   "metadata": {},
   "source": [
    "## neighborhood score + negative sampling choices"
   ]
  },
  {
   "cell_type": "code",
   "execution_count": null,
   "id": "5d522613",
   "metadata": {},
   "outputs": [],
   "source": [
    "import pandas as pd\n",
    "from ast import literal_eval\n",
    "\n",
    "df = pd.read_csv('twitter_pi_with_neighbors_tfidf.csv')\n",
    "print(df.head())\n",
    "df.positives = df.positives.apply(literal_eval)\n",
    "df.negatives = df.negatives.apply(literal_eval)"
   ]
  },
  {
   "cell_type": "code",
   "execution_count": null,
   "id": "bd980929",
   "metadata": {},
   "outputs": [],
   "source": [
    "from tqdm import tqdm\n",
    "from random import randint\n",
    "\n",
    "pis = df['pis']\n",
    "positives = df['positives']\n",
    "negatives = df['negatives']\n",
    "\n",
    "sample_cnt = 500\n",
    "questions = []\n",
    "targets = []\n",
    "other_choices = []\n",
    "\n",
    "sample_idices = np.random.randint(0, len(df), size=sample_cnt)\n",
    "\n",
    "for qid in sample_idices:\n",
    "    q = pis[qid]\n",
    "    cur_pos = positives[qid]\n",
    "    cur_neg = negatives[qid]\n",
    "    target = cur_pos[randint(0,len(cur_pos)-1)]\n",
    "    targets.append(target)\n",
    "    questions.append(q)\n",
    "    other_choices.append(np.random.choice(cur_neg, size=3, replace=False))\n",
    "    \n",
    "res = pd.DataFrame({'question_pi': questions, 'ans_pi': targets, 'other_choices': other_choices})\n",
    "res.to_csv('surrvey_tfidf_twitter.csv', index=False, header=True)"
   ]
  },
  {
   "cell_type": "code",
   "execution_count": null,
   "id": "b86922b5",
   "metadata": {},
   "outputs": [],
   "source": [
    "!head surrvey_tfidf_twitter.csv -n 100"
   ]
  },
  {
   "cell_type": "markdown",
   "id": "e799829b",
   "metadata": {},
   "source": [
    "## model based question generation"
   ]
  },
  {
   "cell_type": "code",
   "execution_count": null,
   "id": "3166fb04",
   "metadata": {},
   "outputs": [],
   "source": [
    "from sentence_transformers import SentenceTransformer, models, util\n",
    "\n",
    "fint_model = SentenceTransformer('./models/miniLM-L6-finetuned/')"
   ]
  },
  {
   "cell_type": "code",
   "execution_count": null,
   "id": "61ac0a72",
   "metadata": {},
   "outputs": [],
   "source": [
    "from tqdm import tqdm\n",
    "from random import randint\n",
    "\n",
    "\n",
    "all_pis = df['pis']\n",
    "sims = df['similars']\n",
    "sample_cnt = 500\n",
    "\n",
    "questions = []\n",
    "targets = []\n",
    "other_choices = []\n",
    "\n",
    "i = 0\n",
    "while i < sample_cnt:\n",
    "    idx = randint(0, len(all_pis)-1)\n",
    "    questions.append(all_pis[idx])\n",
    "    i += 1\n",
    "\n"
   ]
  },
  {
   "cell_type": "code",
   "execution_count": null,
   "id": "88ea973d",
   "metadata": {},
   "outputs": [],
   "source": [
    "fint_emb_x = fint_model.encode(questions, convert_to_tensor=True)\n",
    "fint_emb_all = fint_model.encode(all_pis, convert_to_tensor=True)\n"
   ]
  },
  {
   "cell_type": "code",
   "execution_count": null,
   "id": "43b25cf4",
   "metadata": {},
   "outputs": [],
   "source": [
    "import numpy as np\n",
    "\n",
    "targets = []\n",
    "other_choices = []\n",
    "\n",
    "for x in tqdm(fint_emb_x):\n",
    "    cosine_scores = util.cos_sim(x, fint_emb_all).detach().cpu().numpy()[0]\n",
    "    argsort = np.argsort(cosine_scores)\n",
    "    best_k = argsort[-6:-1]\n",
    "    worst_k = argsort[:len(argsort)//2]\n",
    "    \n",
    "    target_idx = np.random.choice(best_k)\n",
    "    targets.append(all_pis[target_idx])\n",
    "    \n",
    "    other_idxs = np.random.choice(worst_k, size=3, replace=False)\n",
    "    other_choices.append([all_pis[x] for x in other_idxs])\n",
    "    \n",
    "    \n",
    "res = pd.DataFrame({'question_pi': questions, 'ans_pi': targets, 'other_choices': other_choices})\n",
    "res.to_csv('modelbased-selection.csv', index=False, header=True)\n",
    "    "
   ]
  },
  {
   "cell_type": "code",
   "execution_count": null,
   "id": "7bf38c3a",
   "metadata": {},
   "outputs": [],
   "source": [
    "!head modelbased-selection.csv"
   ]
  },
  {
   "cell_type": "code",
   "execution_count": null,
   "id": "0ae77b6d",
   "metadata": {},
   "outputs": [],
   "source": []
  }
 ],
 "metadata": {
  "kernelspec": {
   "display_name": "Python 3 (ipykernel)",
   "language": "python",
   "name": "python3"
  },
  "language_info": {
   "codemirror_mode": {
    "name": "ipython",
    "version": 3
   },
   "file_extension": ".py",
   "mimetype": "text/x-python",
   "name": "python",
   "nbconvert_exporter": "python",
   "pygments_lexer": "ipython3",
   "version": "3.8.12"
  },
  "toc": {
   "base_numbering": 1,
   "nav_menu": {},
   "number_sections": true,
   "sideBar": true,
   "skip_h1_title": false,
   "title_cell": "Table of Contents",
   "title_sidebar": "Contents",
   "toc_cell": false,
   "toc_position": {
    "height": "calc(100% - 180px)",
    "left": "10px",
    "top": "150px",
    "width": "349.047px"
   },
   "toc_section_display": true,
   "toc_window_display": true
  }
 },
 "nbformat": 4,
 "nbformat_minor": 5
}
