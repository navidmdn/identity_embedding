{
 "cells": [
  {
   "cell_type": "markdown",
   "id": "f52cbb85",
   "metadata": {},
   "source": [
    "# Loading wikipedia bios"
   ]
  },
  {
   "cell_type": "markdown",
   "id": "4c4c5e25",
   "metadata": {},
   "source": [
    "## loading raw identities"
   ]
  },
  {
   "cell_type": "code",
   "execution_count": 27,
   "id": "f7a2eb59",
   "metadata": {},
   "outputs": [
    {
     "data": {
      "text/plain": [
       "[['rapper'],\n",
       " ['minister', 'Bible scholar', 'author'],\n",
       " ['astrophysicist'],\n",
       " ['snooker', 'billiards player'],\n",
       " ['Welsh sports journalist']]"
      ]
     },
     "execution_count": 27,
     "metadata": {},
     "output_type": "execute_result"
    }
   ],
   "source": [
    "import pandas as pd\n",
    "from ast import literal_eval\n",
    "\n",
    "\n",
    "df = pd.read_csv('FinalDataFrame5.csv')\n",
    "df.identities = df.identities.apply(literal_eval)\n",
    "bios = list(df['identities'])\n",
    "\n",
    "bios[:5]"
   ]
  },
  {
   "cell_type": "code",
   "execution_count": 10,
   "id": "0cc61467",
   "metadata": {},
   "outputs": [
    {
     "data": {
      "text/html": [
       "<div>\n",
       "<style scoped>\n",
       "    .dataframe tbody tr th:only-of-type {\n",
       "        vertical-align: middle;\n",
       "    }\n",
       "\n",
       "    .dataframe tbody tr th {\n",
       "        vertical-align: top;\n",
       "    }\n",
       "\n",
       "    .dataframe thead th {\n",
       "        text-align: right;\n",
       "    }\n",
       "</style>\n",
       "<table border=\"1\" class=\"dataframe\">\n",
       "  <thead>\n",
       "    <tr style=\"text-align: right;\">\n",
       "      <th></th>\n",
       "      <th>name_searched</th>\n",
       "      <th>context</th>\n",
       "      <th>identities</th>\n",
       "    </tr>\n",
       "  </thead>\n",
       "  <tbody>\n",
       "    <tr>\n",
       "      <th>1</th>\n",
       "      <td>Renita J. Weems</td>\n",
       "      <td>Renita J. Weems is an ordained minister, a Hebrew Bible scholar, and an author.</td>\n",
       "      <td>[minister, Bible scholar, author]</td>\n",
       "    </tr>\n",
       "  </tbody>\n",
       "</table>\n",
       "</div>"
      ],
      "text/plain": [
       "     name_searched  \\\n",
       "1  Renita J. Weems   \n",
       "\n",
       "                                                                           context  \\\n",
       "1  Renita J. Weems is an ordained minister, a Hebrew Bible scholar, and an author.   \n",
       "\n",
       "                          identities  \n",
       "1  [minister, Bible scholar, author]  "
      ]
     },
     "execution_count": 10,
     "metadata": {},
     "output_type": "execute_result"
    }
   ],
   "source": [
    "pd.set_option(\"max_colwidth\", None)\n",
    "df.iloc[1:2]"
   ]
  },
  {
   "cell_type": "code",
   "execution_count": null,
   "id": "ddeb456f",
   "metadata": {},
   "outputs": [],
   "source": [
    "# The rest is similar to twitter bios approach"
   ]
  },
  {
   "cell_type": "code",
   "execution_count": null,
   "id": "756174d9",
   "metadata": {},
   "outputs": [],
   "source": []
  },
  {
   "cell_type": "markdown",
   "id": "04a048cc",
   "metadata": {},
   "source": [
    "# Loading twitter bios"
   ]
  },
  {
   "cell_type": "markdown",
   "id": "e85b010d",
   "metadata": {},
   "source": [
    "## load all raw data"
   ]
  },
  {
   "cell_type": "code",
   "execution_count": 31,
   "id": "1a19f38e",
   "metadata": {},
   "outputs": [],
   "source": [
    "import pickle\n",
    "with open('/user/smadani/navid/data/pis2020.pkl', 'rb') as f:\n",
    "    bios = pickle.load(f)\n",
    "    "
   ]
  },
  {
   "cell_type": "markdown",
   "id": "bbc70cc9",
   "metadata": {},
   "source": [
    "# PI frequency and top PIs"
   ]
  },
  {
   "cell_type": "code",
   "execution_count": 32,
   "id": "43e3926f",
   "metadata": {},
   "outputs": [
    {
     "name": "stdout",
     "output_type": "stream",
     "text": [
      "15459872\n"
     ]
    }
   ],
   "source": [
    "from collections import Counter\n",
    "cntr = Counter()\n",
    "\n",
    "for bio in bios:\n",
    "    cntr.update(bio)\n",
    "\n",
    "print(len(bios))"
   ]
  },
  {
   "cell_type": "code",
   "execution_count": 12,
   "id": "2b0aa7df",
   "metadata": {},
   "outputs": [
    {
     "name": "stdout",
     "output_type": "stream",
     "text": [
      "percentile freq: 9.0 mean freq: 28.606337144830846\n"
     ]
    }
   ],
   "source": [
    "import numpy as np\n",
    "\n",
    "freqs = list(cntr.values())\n",
    "print(f\"percentile freq: {np.percentile(freqs, 90)} mean freq: {np.mean(freqs)}\")"
   ]
  },
  {
   "cell_type": "code",
   "execution_count": 14,
   "id": "b48510dd",
   "metadata": {},
   "outputs": [
    {
     "data": {
      "text/plain": [
       "5106"
      ]
     },
     "execution_count": 14,
     "metadata": {},
     "output_type": "execute_result"
    }
   ],
   "source": [
    "most_frequent_pis = {k:v for k,v in cntr.items() if v > 10}\n",
    "len(most_frequent_pis)"
   ]
  },
  {
   "cell_type": "code",
   "execution_count": 115,
   "id": "12b0dafe",
   "metadata": {},
   "outputs": [],
   "source": [
    "import pandas as pd\n",
    "\n",
    "df = pd.DataFrame({'pi': list(most_frequent_pis.keys()), 'cnt': list(most_frequent_pis.values())})\n",
    "df = df.sort_values(by=['cnt'], ascending=False)"
   ]
  },
  {
   "cell_type": "code",
   "execution_count": 116,
   "id": "ac5a2723",
   "metadata": {},
   "outputs": [],
   "source": [
    "df.to_csv('wiki_most_frequent_pis.csv', index=False, header=True)"
   ]
  },
  {
   "cell_type": "code",
   "execution_count": 118,
   "id": "e6cfc071",
   "metadata": {},
   "outputs": [
    {
     "name": "stdout",
     "output_type": "stream",
     "text": [
      "huggingface/tokenizers: The current process just got forked, after parallelism has already been used. Disabling parallelism to avoid deadlocks...\n",
      "To disable this warning, you can either:\n",
      "\t- Avoid using `tokenizers` before the fork if possible\n",
      "\t- Explicitly set the environment variable TOKENIZERS_PARALLELISM=(true | false)\n",
      "pi,cnt\r\n",
      "she,452418\r\n",
      "her,397756\r\n",
      "he,185793\r\n",
      "him,154092\r\n",
      "they,127571\r\n",
      "fan account,124627\r\n",
      "blacklivesmatter,101217\r\n",
      "blm,101082\r\n",
      "ig,93961\r\n"
     ]
    }
   ],
   "source": [
    "!head twitter_most_frequent_pis.csv"
   ]
  },
  {
   "cell_type": "markdown",
   "id": "fa7c6460",
   "metadata": {
    "heading_collapsed": true
   },
   "source": [
    "### most frequent neighbors"
   ]
  },
  {
   "cell_type": "code",
   "execution_count": null,
   "id": "04aeea28",
   "metadata": {
    "hidden": true
   },
   "outputs": [],
   "source": [
    "from tqdm import tqdm\n",
    "neighbor_cnt = {}\n",
    "\n",
    "for bio in tqdm(bios):\n",
    "    for pi in bio:\n",
    "        if pi in most_frequent_pis:\n",
    "            if pi not in neighbor_cnt:\n",
    "                neighbor_cnt[pi] = Counter()\n",
    "                \n",
    "            rest = [b for b in bio if b!=pi and b in most_frequent_pis]\n",
    "            neighbor_cnt[pi].update(rest)\n",
    "\n",
    "print(len(neighbor_cnt))            \n",
    "\n",
    "#post processing and pruning empty adjacencies\n",
    "\n",
    "for pi, adj in neighbor_cnt.copy().items():\n",
    "    if len(adj) < 2:\n",
    "        neighbor_cnt.pop(pi)\n",
    "    \n",
    "print(f\"size after pruning: {len(neighbor_cnt)}\")        "
   ]
  },
  {
   "cell_type": "markdown",
   "id": "1a59e0cb",
   "metadata": {
    "heading_collapsed": true
   },
   "source": [
    "### calculating tf-idf"
   ]
  },
  {
   "cell_type": "code",
   "execution_count": null,
   "id": "8ac1acb3",
   "metadata": {
    "hidden": true
   },
   "outputs": [],
   "source": [
    "for pi, neighs in tqdm(neighbor_cnt.items()):\n",
    "    for phrase in neighs.keys():\n",
    "        neighs[phrase] /= most_frequent_pis[phrase]\n",
    "        "
   ]
  },
  {
   "cell_type": "markdown",
   "id": "86d69a95",
   "metadata": {
    "heading_collapsed": true
   },
   "source": [
    "### calculating using bi-partite method"
   ]
  },
  {
   "cell_type": "code",
   "execution_count": null,
   "id": "37077142",
   "metadata": {
    "hidden": true
   },
   "outputs": [],
   "source": [
    "from scipy import sparse, io\n",
    "\n",
    "pi_idx = {}\n",
    "for pi in most_frequent_pis:\n",
    "    pi_idx[pi] = len(pi_idx)\n",
    "\n",
    "#creating bipartite matrix\n",
    "usr_pi = []\n",
    "\n",
    "for bio in bios:\n",
    "    cur_usr_pis = []\n",
    "    for pi in bio:\n",
    "        if pi in most_frequent_pis:\n",
    "            cur_usr_pis.append(pi_idx[pi])\n",
    "    if len(cur_usr_pis) < 2:\n",
    "        continue\n",
    "    usr_pi.append(cur_usr_pis)\n",
    "    \n",
    "\n",
    "print(f\"original users: {len(bios)}\")\n",
    "print(f\"no of users after pruning: {len(usr_pi)}\")\n"
   ]
  },
  {
   "cell_type": "code",
   "execution_count": null,
   "id": "6ae185fc",
   "metadata": {
    "hidden": true
   },
   "outputs": [],
   "source": [
    "usrs = []\n",
    "pis = []\n",
    "scores = []\n",
    "\n",
    "for uid, pis in enumerate(usr_pi):\n",
    "    for pi in pis:\n",
    "        usrs.append(uid)\n",
    "        pis.append(pi)\n",
    "        scores.append(1)"
   ]
  },
  {
   "cell_type": "code",
   "execution_count": null,
   "id": "6cf9be0f",
   "metadata": {
    "hidden": true
   },
   "outputs": [],
   "source": [
    "%% time\n",
    "\n",
    "BP_MATRIX_FILENAME = \"./bipartite_pi.mtx\"\n",
    "output_matrix = sparse.coo_matrix((scores, (usrs, pis)))\n",
    "io.mmwrite(BP_MATRIX_FILENAME, output_matrix)"
   ]
  },
  {
   "cell_type": "code",
   "execution_count": null,
   "id": "e72cad62",
   "metadata": {
    "hidden": true
   },
   "outputs": [],
   "source": [
    "!du -hs ./bipartite_pi.mtx"
   ]
  },
  {
   "cell_type": "code",
   "execution_count": null,
   "id": "12192548",
   "metadata": {
    "hidden": true
   },
   "outputs": [],
   "source": [
    "from scipy import io\n",
    "\n",
    "io.mmread(BP_MATRIX_FILENAME, output_matrix)"
   ]
  },
  {
   "cell_type": "code",
   "execution_count": null,
   "id": "44744b56",
   "metadata": {
    "hidden": true
   },
   "outputs": [],
   "source": [
    "scores"
   ]
  },
  {
   "cell_type": "code",
   "execution_count": null,
   "id": "3123d499",
   "metadata": {
    "hidden": true
   },
   "outputs": [],
   "source": [
    "!rm ./bipartite_pi.mtx.gz\n",
    "!gzip ./bipartite_pi.mtx\n",
    "!ls"
   ]
  },
  {
   "cell_type": "code",
   "execution_count": null,
   "id": "6010f65c",
   "metadata": {
    "hidden": true
   },
   "outputs": [],
   "source": [
    "import sys\n",
    "\n",
    "sys.path.append(\"../bipartite-pairs/python-scoring/\")\n",
    "import score_data\n",
    "\n",
    "BP_SCORING_OUTPUT = './bipartite_output.csv.gz'\n",
    "score_data.score_only(\n",
    "    BP_MATRIX_FILENAME+\".gz\",\n",
    "    ['weighted_corr_exp'],\n",
    "    BP_SCORING_OUTPUT,\n",
    ")"
   ]
  },
  {
   "cell_type": "code",
   "execution_count": null,
   "id": "2698bdfc",
   "metadata": {
    "hidden": true
   },
   "outputs": [],
   "source": [
    "!zcat ./bipartite_output.csv.gz"
   ]
  },
  {
   "cell_type": "code",
   "execution_count": null,
   "id": "94224328",
   "metadata": {
    "hidden": true
   },
   "outputs": [],
   "source": [
    "import pandas as pd\n",
    "\n",
    "BP_SCORING_OUTPUT = './bipartite_output.csv.gz'\n",
    "df = pd.read_csv(BP_SCORING_OUTPUT)\n",
    "df.head()"
   ]
  },
  {
   "cell_type": "code",
   "execution_count": null,
   "id": "8e0fdd88",
   "metadata": {
    "hidden": true
   },
   "outputs": [],
   "source": [
    "# recreate the neighboring dictionary\n",
    "\n"
   ]
  },
  {
   "cell_type": "markdown",
   "id": "fe12e66c",
   "metadata": {
    "heading_collapsed": true
   },
   "source": [
    "### save "
   ]
  },
  {
   "cell_type": "code",
   "execution_count": null,
   "id": "b66c7124",
   "metadata": {
    "hidden": true
   },
   "outputs": [],
   "source": [
    "import pandas as pd\n",
    "\n",
    "pis = []\n",
    "positives = []\n",
    "negatives = []\n",
    "\n",
    "for pi, cntr in tqdm(neighbor_cnt.items()):\n",
    "    cur_neg = [x for x in most_frequent_pis if x not in neighbor_cnt[pi]]\n",
    "    if len(cur_neg) > 20:\n",
    "        cur_neg = list(np.random.choice(cur_neg, size=20, replace=False))\n",
    "    cur_pos = [x[0] for x in neighbor_cnt[pi].most_common(5)]\n",
    "    if len(cur_neg) < 4 or len(neighbor_cnt[pi])<2:\n",
    "        print(f\"PASSING PI: {pi}\")\n",
    "        continue\n",
    "    positives.append(cur_pos)\n",
    "    pis.append(pi)\n",
    "    negatives.append(cur_neg)\n",
    "                 \n",
    "print(f\"saving {len(pis)} pis\")\n",
    "df = pd.DataFrame({'pis': pis, 'positives': positives, 'negatives': negatives})\n",
    "df.to_csv('twitter_pi_with_neighbors_tfidf.csv', index=False, header=True)"
   ]
  },
  {
   "cell_type": "code",
   "execution_count": null,
   "id": "eea41545",
   "metadata": {
    "hidden": true
   },
   "outputs": [],
   "source": [
    "!wc -l wiki_pi_with_neighbors_standard.csv"
   ]
  },
  {
   "cell_type": "code",
   "execution_count": null,
   "id": "cdb1fc2a",
   "metadata": {
    "hidden": true
   },
   "outputs": [],
   "source": [
    "!head wiki_pi_with_neighbors_standard.csv"
   ]
  },
  {
   "cell_type": "markdown",
   "id": "b1e553a1",
   "metadata": {},
   "source": [
    "## create train and test dataset"
   ]
  },
  {
   "cell_type": "code",
   "execution_count": 33,
   "id": "0e18435a",
   "metadata": {},
   "outputs": [
    {
     "name": "stdout",
     "output_type": "stream",
     "text": [
      "12367897 3091975\n"
     ]
    }
   ],
   "source": [
    "from sklearn.model_selection import train_test_split\n",
    "\n",
    "lower_bios = []\n",
    "for bio in bios:\n",
    "    lower_bio = []\n",
    "    for pi in bio:\n",
    "        lower_bio.append(pi.lower())\n",
    "    lower_bios.append(lower_bio)\n",
    "    \n",
    "train, test = train_test_split(lower_bios, test_size=0.2, shuffle=True)\n",
    "print(len(train), len(test))\n",
    "\n"
   ]
  },
  {
   "cell_type": "code",
   "execution_count": 34,
   "id": "407be37b",
   "metadata": {},
   "outputs": [],
   "source": [
    "import pickle\n",
    "\n",
    "dataset = 'twitter'\n",
    "\n",
    "with open(f'./data/{dataset}_test_bios.pkl', 'wb') as f:\n",
    "    pickle.dump(test, f)\n",
    "    \n",
    "with open(f'./data/{dataset}_train_bios.pkl', 'wb') as f:\n",
    "    pickle.dump(train, f)"
   ]
  },
  {
   "cell_type": "markdown",
   "id": "6bbf8c10",
   "metadata": {},
   "source": [
    "# Cleaning data"
   ]
  },
  {
   "cell_type": "markdown",
   "id": "24388589",
   "metadata": {},
   "source": [
    "## phrase cleaning"
   ]
  },
  {
   "cell_type": "code",
   "execution_count": 2,
   "id": "5008d8a0",
   "metadata": {},
   "outputs": [
    {
     "name": "stdout",
     "output_type": "stream",
     "text": [
      "100\n"
     ]
    }
   ],
   "source": [
    "import pickle\n",
    "\n",
    "dataset = 'twitter'\n",
    "min_freq = 10 if dataset == 'wiki' else 100\n",
    "\n",
    "print(min_freq)\n",
    "with open(f'./data/{dataset}_train_bios.pkl', 'rb') as f:\n",
    "    bios = pickle.load(f)"
   ]
  },
  {
   "cell_type": "code",
   "execution_count": 3,
   "id": "f2ea45e2",
   "metadata": {},
   "outputs": [
    {
     "name": "stderr",
     "output_type": "stream",
     "text": [
      "/scratch/12453279/ipykernel_28533/2665102249.py:6: TqdmDeprecationWarning: This function will be removed in tqdm==5.0.0\n",
      "Please use `tqdm.notebook.tqdm` instead of `tqdm.tqdm_notebook`\n",
      "  for bio in tqdm(bios):\n"
     ]
    },
    {
     "data": {
      "application/vnd.jupyter.widget-view+json": {
       "model_id": "57f82e9add0145dc92500ed3202d463a",
       "version_major": 2,
       "version_minor": 0
      },
      "text/plain": [
       "  0%|          | 0/12367897 [00:00<?, ?it/s]"
      ]
     },
     "metadata": {},
     "output_type": "display_data"
    },
    {
     "data": {
      "text/plain": [
       "7860996"
      ]
     },
     "execution_count": 3,
     "metadata": {},
     "output_type": "execute_result"
    }
   ],
   "source": [
    "# build a vocabulary of phrases\n",
    "from tqdm import tqdm_notebook as tqdm\n",
    "from collections import Counter\n",
    "\n",
    "pi_cnt = Counter()\n",
    "for bio in tqdm(bios):\n",
    "    pi_cnt.update(bio)\n",
    "\n",
    "len(pi_cnt)"
   ]
  },
  {
   "cell_type": "code",
   "execution_count": 7,
   "id": "d79ad7e6",
   "metadata": {},
   "outputs": [
    {
     "data": {
      "text/plain": [
       "[('she', 361863),\n",
       " ('her', 318200),\n",
       " ('he', 148579),\n",
       " ('him', 123188),\n",
       " ('they', 102108),\n",
       " ('fan account', 99765),\n",
       " ('blm', 81032),\n",
       " ('blacklivesmatter', 80977),\n",
       " ('ig', 75124),\n",
       " ('writer', 72601)]"
      ]
     },
     "execution_count": 7,
     "metadata": {},
     "output_type": "execute_result"
    }
   ],
   "source": [
    "pi_cnt.most_common(10)"
   ]
  },
  {
   "cell_type": "code",
   "execution_count": 8,
   "id": "aad1f8b1",
   "metadata": {},
   "outputs": [
    {
     "data": {
      "text/plain": [
       "[('social innovation labs', 1),\n",
       " ('solutions_lab', 1),\n",
       " ('yourlawsociety', 1),\n",
       " ('im niall', 1),\n",
       " ('deepakngk', 1)]"
      ]
     },
     "execution_count": 8,
     "metadata": {},
     "output_type": "execute_result"
    }
   ],
   "source": [
    "pi_cnt.most_common(len(pi_cnt))[-5:]"
   ]
  },
  {
   "cell_type": "markdown",
   "id": "89587ee3",
   "metadata": {},
   "source": [
    "## cleaning each bio"
   ]
  },
  {
   "cell_type": "code",
   "execution_count": 9,
   "id": "b5283dbf",
   "metadata": {},
   "outputs": [
    {
     "name": "stderr",
     "output_type": "stream",
     "text": [
      "100%|██████████| 12367897/12367897 [00:24<00:00, 514824.69it/s]"
     ]
    },
    {
     "name": "stdout",
     "output_type": "stream",
     "text": [
      "3534903 12367897\n"
     ]
    },
    {
     "name": "stderr",
     "output_type": "stream",
     "text": [
      "\n"
     ]
    }
   ],
   "source": [
    "from tqdm import tqdm\n",
    "\n",
    "# phrases of lenght at least m\n",
    "# profiles with at least k phrases\n",
    "# pis that's been repeated at least m times in dataset\n",
    "\n",
    "def clean_pis(all_pis):\n",
    "    result = []\n",
    "    for pis in tqdm(all_pis):\n",
    "        current_pi = set()\n",
    "        for pi in pis:\n",
    "            if len(pi) >= 2 and pi_cnt[pi] >= min_freq:\n",
    "                current_pi.add(pi)\n",
    "        if len(current_pi) > 1:\n",
    "            result.append(list(current_pi))\n",
    "            \n",
    "    return result\n",
    "            \n",
    "cleaned_bios = clean_pis(bios)\n",
    "print(len(cleaned_bios), len(bios))"
   ]
  },
  {
   "cell_type": "markdown",
   "id": "9b67b153",
   "metadata": {},
   "source": [
    "## saving cleaned dataset"
   ]
  },
  {
   "cell_type": "code",
   "execution_count": 10,
   "id": "94269da5",
   "metadata": {},
   "outputs": [],
   "source": [
    "with open(f'./data/{dataset}_cleaned_train_bios_{min_freq}.pkl', 'wb') as f:\n",
    "    pickle.dump(cleaned_bios, f)"
   ]
  },
  {
   "cell_type": "markdown",
   "id": "66548333",
   "metadata": {
    "heading_collapsed": true
   },
   "source": [
    "# Masked Language Modeling"
   ]
  },
  {
   "cell_type": "markdown",
   "id": "28657f20",
   "metadata": {
    "hidden": true
   },
   "source": [
    "## loading dataset"
   ]
  },
  {
   "cell_type": "code",
   "execution_count": 1,
   "id": "4cf396a7",
   "metadata": {
    "hidden": true
   },
   "outputs": [
    {
     "data": {
      "text/plain": [
       "['UX, communication + design; tiptoeing through fields of hubris',\n",
       " 'Taca y programar.',\n",
       " \"The best of SBS entertainment, sport, drama, news, documentaries & more. Celebrating the world's diverse stories.\",\n",
       " 'Researching urban communication, emergent publics, and methods for integrating culture and design.',\n",
       " 'Owner and founder of Heart Spade PR; Co-host @MemoriesMixtape; Instagram lead @persistbrooklyn; Dog walker @nyanimalrescue. (he/him)',\n",
       " \"I'm a Writer. I fly spaceships. Sometimes I fight rubber monsters. I talk about TV/Movies/Music/VideoGames I enjoy as well. Lets talk. I Reply a lot. :)\",\n",
       " 'random internet stranger',\n",
       " 'Actor, Comedian, Asian Girl Lover, Boob Expert, Video Gamer, Jedi Atheist Falcons Fan',\n",
       " 'Bringing you all the latest entertainment news! \\nKeep up at http://eonline.com and watch us weekdays from NYC at 7am!',\n",
       " 'LISTEN UP YO, THIS IS HOT GYAL BIZNESS! Check out my latest on http://mixcloud.com/msmanya',\n",
       " 'Lackwit gadabout, Software Engineer (@gitlab), 🏍 blogger, conference speaker, 👨\\u200d🍳, druid, poker player (@pokerzor), glassworker, trollop, and ⚠️⚡️🏳️\\u200d🌈',\n",
       " 'Social good marketer with @oneandallagency. Advertising nerd. Iced Coffee enthusiast. Proud 🌈',\n",
       " 'yes',\n",
       " '#Tech #Europe #Privacy #Politics #EU 🎩\\n\\nDirector of @FlyingFish_ie web design. Co-founded @UKtoStay. Worked at Amazon, Google, eBay/PayPal & Salesforce.',\n",
       " '(he/him) I make cartoons // Our Cartoon President, The Get Down, Archer, Frisky Dingo, Sealab 2021 // I like dinos, bbq, wrestling, UGA, RBNY // #swampwise',\n",
       " 'digital library developer at GWDG, editor of Code4Lib Journal. Java, metadata quality, library metadata, data science, big data, History, Drupal, and so on.',\n",
       " 'Creative Director  \\nad+digital run+bike+tennis doglover. I wanted to be a pilot.\\nfrom Patagonia CRD.  http://behance.net/ignitionideas #learning #keepwalking',\n",
       " 'comedian • passionless socialist • he/him • stand up on discord Sundays at 9 •  SW-0579-6885-0777\\npsn: yedoye',\n",
       " 'Interests: Writing, acting, singing, reading SFF, and tweeting about my period as often as possible. | #ADHD | She/Her',\n",
       " 'Experience designer aligning technology with health-centered design values • Principal UX Designer @ athenahealth • Writer • Speaker • Creatrix @ Spa x Home',\n",
       " 'Orange juice snob. \\nDuring the day I build design systems.\\nMade of Belgium.',\n",
       " \"@DFERmass\\n\\nCo-founder @WelcomePartyNow and @NoBosOlympics \\n\\n@TuckSchool '12  @AmeriCorps '06  @ProvidenceCol '05 \\n\\nopinions are my own\",\n",
       " 'Web担当者Forum初代編集長のやすだの個人としてのTwitterです。  https://webtan.impress.co.jp/  リリースや海外情報からWeb担的なネタを流していることが多いです。  基本的に@tweetに反応できない系のダメ人間です。',\n",
       " 'Web/Android (Kotlin,CFML,Java,Flutter). ✍️@ix, Co-Org @GDGWellington, 💑 @blauerpunto, pilot ✈️, Nintendo 🎮 385233198305, !suits,!shirts,!ties.\\n🌈❤️💜💙 he/him',\n",
       " '一般男性または音楽研究家 general male or music researcher / #電気グルーヴ署名 発起人 http://change.org/denkigroove / 何かあれば、 kagariharuki@gmail.com へ / #ozkn 暦 https://goo.gl/6oJctt',\n",
       " '敝網小站《影．腦．者》，不談影評談器材，少抹視窗多吃蘋果，偶爾來來人稱Lifestyle的技術型文章，懇請大家多多捧場，移移玉鼠點擊一下。',\n",
       " 'http://youtube.com/watch?v=Wm3usx… smarthero_SH on PSN | FLMMJ Patient | he/him',\n",
       " 'Making @allhandshq and @onemetricio',\n",
       " 'Lego Lass\\nTo thine own self, be true ya BAMPOT',\n",
       " 'web developer @tourlane #ruby #javascript\\nhe/him',\n",
       " 'Comms/engagement manager. On/Off relationship with twitter. Tweets about comms, marketing, health and anything else that takes my fancy',\n",
       " 'I wipe my feet really good on the rhythm rug. Designer, geek, decently sized sneaker collection. she/her',\n",
       " 'Little Reaper. Disney Princess. Slytherin. FrontEnd Dev.\\nCould be seen at @cobhc front rows because ALL MY BASE ARE BELONG TO BODOM.',\n",
       " 'https://vimeo.com/77882662\\n\\n\\nEccentric Asshole\\nworks at a homeless shelter\\ngo figure',\n",
       " 'Cookery addict, book enjoyer. In favour of Ice Cream Sundaes. Fair-weather runner. Tech Lead on Growth at @HubSpot',\n",
       " 'Media maker. Coffee drinker. Star of @TheWorstPodcast. School Board Director candidate.',\n",
       " 'Software Developer.  Technology Advocate.  Chief Software Engineer @teleiossystems  Engineering Excellence is architecture, coaching & cheer-leading...',\n",
       " 'Tech Entrepreneur, Wife, Mother of three boys, Advisor @ Bonfire (digital marketing agency) - self confessed tech, glam, geek, girl',\n",
       " 'Bitcoin Volunteer Vote\\nhttp://strike.me/iamthecharacter',\n",
       " 'A software developer in Alabama. Opinions are my own and not of any organization I associated with. (he/him)',\n",
       " 'Sabres junkie, viola player, all-around whack job.',\n",
       " 'Music, nice places, programming, walking',\n",
       " 'Breast cancer survivor, proud mother, music lover. No DMs, if you disagree with my views, don’t read them. #TheResistance #BlackLivesMatter',\n",
       " 'After 10 years of promoting public participation in democratic processes in Mongolia, I have to turn my attention to the USA and work to protect democracy here.',\n",
       " 'Asst. Chief Counsel @CaCorrections| Musician|Writer|Book Reviewer|Mom|Auntie|Grandauntie. FB, BookBub, Litsy, Goodreads: jhsiess Insta: jhscolloquium #BookShark',\n",
       " 'Cancer killer, Politics addict,  Apple Aficionado, Middle School tech coach. MIE certified Google certified. Collector of interesting people.',\n",
       " 'Entertainment lawyer navigating the entertainment business and deal making culture. All views are my own. RTs/likes are not necessarily endorsements.',\n",
       " 'ゲームとか漫画とかアニメDVDに埋もれる日々',\n",
       " 'Art Director, Inside Northside',\n",
       " 'Asst. Prof. of Learning Sciences & Human Dev. Researcher of new media, drag culture, and public pedagogy. Parent of @rupawl_official. Opinions are mine.']"
      ]
     },
     "execution_count": 1,
     "metadata": {},
     "output_type": "execute_result"
    }
   ],
   "source": [
    "import pickle\n",
    "\n",
    "with open('/user/smadani/navid/data/bios2020.pkl', 'rb') as f:\n",
    "    bios = pickle.load(f)\n",
    "    \n",
    "bios[100:150]"
   ]
  },
  {
   "cell_type": "markdown",
   "id": "b270187d",
   "metadata": {
    "hidden": true
   },
   "source": [
    "## cleaning dataset"
   ]
  },
  {
   "cell_type": "code",
   "execution_count": null,
   "id": "82938af5",
   "metadata": {
    "hidden": true
   },
   "outputs": [
    {
     "name": "stderr",
     "output_type": "stream",
     "text": [
      " 16%|█▌        | 2518661/16240577 [00:43<03:51, 59201.14it/s]"
     ]
    }
   ],
   "source": [
    "from tqdm import tqdm\n",
    "import re\n",
    "\n",
    "## remove url and email addresses + social media links\n",
    "cleaned_bios = []\n",
    "\n",
    "for description in tqdm(bios):\n",
    "    d = re.sub(r'\\w+@\\w+\\.\\w+', '', description.lower()).strip()\n",
    "    d = re.sub(r'(on )?(snapchat|snap|ig|insta|instagram|email|phone): +[A-Za-z0-9_@.-]+', \" \", d).strip()\n",
    "    d = re.sub(r'http\\S+', '', d).strip()\n",
    "    d = d.replace(\"&emsp;\", \"\").replace(\"&nbsp;\", \"\")\n",
    "    d = re.sub(r\"\\s+\", \" \", d).strip()\n",
    "    if len(d) > 5:\n",
    "        cleaned_bios.append(d)\n",
    "\n",
    "len(cleaned_bios), cleaned_bios[:10]"
   ]
  },
  {
   "cell_type": "markdown",
   "id": "21c30e01",
   "metadata": {
    "hidden": true
   },
   "source": [
    "## domain adaptation"
   ]
  },
  {
   "cell_type": "code",
   "execution_count": null,
   "id": "df4b5af3",
   "metadata": {
    "hidden": true
   },
   "outputs": [],
   "source": [
    "from transformers import AutoModelForMaskedLM\n",
    "from transformers import AutoTokenizer\n",
    "\n",
    "\n",
    "model_checkpoint = \"bert-base-uncased\"\n",
    "model = AutoModelForMaskedLM.from_pretrained(model_checkpoint)\n",
    "tokenizer = AutoTokenizer.from_pretrained(model_checkpoint)\n"
   ]
  },
  {
   "cell_type": "code",
   "execution_count": null,
   "id": "ed99210c",
   "metadata": {
    "hidden": true
   },
   "outputs": [],
   "source": []
  },
  {
   "cell_type": "markdown",
   "id": "b8579a27",
   "metadata": {},
   "source": [
    "# Contrastive learning"
   ]
  },
  {
   "cell_type": "markdown",
   "id": "c4049e62",
   "metadata": {},
   "source": [
    "## generating positive negative samples"
   ]
  },
  {
   "cell_type": "code",
   "execution_count": 13,
   "id": "0e276d72",
   "metadata": {},
   "outputs": [
    {
     "data": {
      "text/plain": [
       "(3534903, 22516)"
      ]
     },
     "execution_count": 13,
     "metadata": {},
     "output_type": "execute_result"
    }
   ],
   "source": [
    "import pickle\n",
    "import numpy as np\n",
    "\n",
    "dataset = 'twitter'\n",
    "freq = 100\n",
    "    \n",
    "with open(f'./data/{dataset}_cleaned_train_bios_{freq}.pkl', 'rb') as f:\n",
    "    bios = pickle.load(f)\n",
    "    \n",
    "pi_set = set()\n",
    "for bio in bios:\n",
    "    pi_set.update(bio)\n",
    "pi_set = list(pi_set)\n",
    "    \n",
    "len(bios), len(pi_set)"
   ]
  },
  {
   "cell_type": "code",
   "execution_count": 14,
   "id": "652af647",
   "metadata": {},
   "outputs": [
    {
     "data": {
      "text/plain": [
       "3.0"
      ]
     },
     "execution_count": 14,
     "metadata": {},
     "output_type": "execute_result"
    }
   ],
   "source": [
    "np.median([len(x) for x in bios])"
   ]
  },
  {
   "cell_type": "markdown",
   "id": "59b26bdf",
   "metadata": {},
   "source": [
    "### neighbors of a PI"
   ]
  },
  {
   "cell_type": "code",
   "execution_count": 15,
   "id": "fd94ba1c",
   "metadata": {},
   "outputs": [
    {
     "name": "stderr",
     "output_type": "stream",
     "text": [
      "100%|██████████| 3534903/3534903 [00:45<00:00, 77837.76it/s]"
     ]
    },
    {
     "name": "stdout",
     "output_type": "stream",
     "text": [
      "22516\n"
     ]
    },
    {
     "name": "stderr",
     "output_type": "stream",
     "text": [
      "\n"
     ]
    }
   ],
   "source": [
    "from tqdm import tqdm\n",
    "neighbors = {}\n",
    "\n",
    "for bio in tqdm(bios):\n",
    "    for pi in bio:\n",
    "        if pi in pi_cnt:\n",
    "            if pi not in neighbors:\n",
    "                neighbors[pi] = Counter()\n",
    "                \n",
    "            rest = [b for b in bio if b!=pi and b in pi_cnt]\n",
    "            neighbors[pi].update(rest)\n",
    "\n",
    "print(len(neighbors))            \n"
   ]
  },
  {
   "cell_type": "markdown",
   "id": "da2f5038",
   "metadata": {},
   "source": [
    "### pos/neg samples"
   ]
  },
  {
   "cell_type": "code",
   "execution_count": 16,
   "id": "37c4ab31",
   "metadata": {},
   "outputs": [
    {
     "name": "stderr",
     "output_type": "stream",
     "text": [
      "100%|██████████| 3534903/3534903 [03:54<00:00, 15068.34it/s]\n"
     ]
    }
   ],
   "source": [
    "from random import randint\n",
    "import numpy as np\n",
    "\n",
    "def pair_in_list(current_pair, l):\n",
    "    for pair in l:\n",
    "        if current_pair[0] in pair and current_pair[1] in pair:\n",
    "            return True\n",
    "    return False\n",
    "\n",
    "\n",
    "def generate_triplets(bios, k=3):\n",
    "    samples = []\n",
    "    for idx, bio in tqdm(enumerate(bios), total=len(bios)):\n",
    "        if len(bio) != len(set(bio)):\n",
    "            continue\n",
    "        iters = min(len(bio)-1, k)\n",
    "        chosen_pis = []\n",
    "        for i in range(iters):\n",
    "            pos1, pos2 = np.random.choice(bio, size=2, replace=False)\n",
    "            while pair_in_list([pos1,pos2], chosen_pis):\n",
    "                pos1, pos2 = np.random.choice(bio, size=2, replace=False)\n",
    "            chosen_pis.append([pos1, pos2])\n",
    "            neg_idx = randint(0, len(pi_set)-1)\n",
    "            while pi_set[neg_idx] in neighbors[pos1] or pi_set[neg_idx] in neighbors[pos2]:\n",
    "                neg_idx = randint(0, len(pi_set)-1)\n",
    "            samples.append([pos1, pos2, pi_set[neg_idx]])\n",
    "    return samples\n",
    "\n",
    "triplets = generate_triplets(bios, k=3)"
   ]
  },
  {
   "cell_type": "code",
   "execution_count": 19,
   "id": "68ef2d81",
   "metadata": {},
   "outputs": [
    {
     "name": "stdout",
     "output_type": "stream",
     "text": [
      "6857060\n"
     ]
    }
   ],
   "source": [
    "print(len(triplets))"
   ]
  },
  {
   "cell_type": "markdown",
   "id": "30d18ff5",
   "metadata": {},
   "source": [
    "## save dataset"
   ]
  },
  {
   "cell_type": "code",
   "execution_count": 20,
   "id": "b096589a",
   "metadata": {},
   "outputs": [],
   "source": [
    "import pickle \n",
    "\n",
    "with open(f'data/{dataset}-triplets_{freq}.pkl', 'wb') as f:\n",
    "    pickle.dump(triplets, f)"
   ]
  },
  {
   "cell_type": "code",
   "execution_count": 21,
   "id": "6b7a0d98",
   "metadata": {},
   "outputs": [],
   "source": [
    "import pickle \n",
    "\n",
    "dataset = 'twitter'\n",
    "\n",
    "with open(f'data/{dataset}-triplets_{freq}.pkl', 'rb') as f:\n",
    "    triplets = pickle.load(f)"
   ]
  },
  {
   "cell_type": "code",
   "execution_count": 24,
   "id": "3e7dbd2f",
   "metadata": {},
   "outputs": [
    {
     "name": "stdout",
     "output_type": "stream",
     "text": [
      "train size: 6788489, validation size: 68571\n"
     ]
    }
   ],
   "source": [
    "from sklearn.model_selection import train_test_split\n",
    "\n",
    "train_set, valid_set = train_test_split(triplets, test_size=0.01, shuffle=True)\n",
    "\n",
    "print(f\"train size: {len(train_set)}, validation size: {len(valid_set)}\")"
   ]
  },
  {
   "cell_type": "code",
   "execution_count": 25,
   "id": "9209cd27",
   "metadata": {},
   "outputs": [],
   "source": [
    "import csv\n",
    "\n",
    "# writing the data into the file\n",
    "with open(f'data/{dataset}-valid-{freq}.csv', 'w') as f:   \n",
    "    write = csv.writer(f, delimiter='\\t')\n",
    "    write.writerows(valid_set)\n",
    "    \n",
    "with open(f'data/{dataset}-train-{freq}.csv', 'w') as f:   \n",
    "    write = csv.writer(f, delimiter='\\t')\n",
    "    write.writerows(train_set)\n"
   ]
  },
  {
   "cell_type": "markdown",
   "id": "7ba7ad2d",
   "metadata": {},
   "source": [
    "## finetuning"
   ]
  },
  {
   "cell_type": "markdown",
   "id": "cf22515a",
   "metadata": {},
   "source": [
    "### building the dataset\n"
   ]
  },
  {
   "cell_type": "code",
   "execution_count": 26,
   "id": "72d8c754",
   "metadata": {},
   "outputs": [
    {
     "name": "stderr",
     "output_type": "stream",
     "text": [
      "/projects/academic/kjoseph/navid/anaconda3/envs/py38/lib/python3.8/site-packages/huggingface_hub/snapshot_download.py:6: FutureWarning: snapshot_download.py has been made private and will no longer be available from version 0.11. Please use `from huggingface_hub import snapshot_download` to import the only public function in this module. Other members of the file may be changed without a deprecation notice.\n",
      "  warnings.warn(\n",
      "6788489it [01:30, 74656.08it/s] \n"
     ]
    }
   ],
   "source": [
    "import csv\n",
    "from sentence_transformers import SentenceTransformer, InputExample, losses, util\n",
    "from torch.utils.data import DataLoader\n",
    "\n",
    "dataset = 'twitter'\n",
    "freq=100\n",
    "\n",
    "with open(f'data/{dataset}-train-{freq}.csv', newline='') as f:\n",
    "    train_examples = []\n",
    "    reader = csv.reader(f, delimiter='\\t', quoting=csv.QUOTE_NONE)\n",
    "    for row in tqdm(reader):\n",
    "        train_examples.append(InputExample(texts=[row[0], row[1]], label=1.0))\n",
    "        train_examples.append(InputExample(texts=[row[0], row[2]], label=0.0))\n",
    "    "
   ]
  },
  {
   "cell_type": "markdown",
   "id": "23ca3a11",
   "metadata": {},
   "source": [
    "### loading evaluation dataset"
   ]
  },
  {
   "cell_type": "code",
   "execution_count": 27,
   "id": "3f1ae891",
   "metadata": {},
   "outputs": [
    {
     "name": "stderr",
     "output_type": "stream",
     "text": [
      "101136it [00:00, 753099.12it/s]\n"
     ]
    }
   ],
   "source": [
    "\n",
    "from sentence_transformers import evaluation\n",
    "\n",
    "with open(f'data/{dataset}-valid.csv', newline='') as f:\n",
    "    sent1s = []\n",
    "    sent2s = []\n",
    "    scores = []\n",
    "    i = 0\n",
    "    reader = csv.reader(f, delimiter='\\t', quoting=csv.QUOTE_NONE)\n",
    "    for row in tqdm(reader):\n",
    "        sent1s.append(row[0])\n",
    "        sent1s.append(row[0])\n",
    "        sent2s.append(row[1])\n",
    "        sent2s.append(row[2])\n",
    "        scores.append(1.0)\n",
    "        scores.append(0.0)\n",
    "        i += 1\n",
    "evaluator = evaluation.EmbeddingSimilarityEvaluator(sent1s, sent2s, scores)\n"
   ]
  },
  {
   "cell_type": "markdown",
   "id": "d645e1e0",
   "metadata": {},
   "source": [
    "### creating data loaders"
   ]
  },
  {
   "cell_type": "code",
   "execution_count": 28,
   "id": "253e199f",
   "metadata": {},
   "outputs": [
    {
     "name": "stderr",
     "output_type": "stream",
     "text": [
      "/projects/academic/kjoseph/navid/anaconda3/envs/py38/lib/python3.8/site-packages/huggingface_hub/file_download.py:588: FutureWarning: `cached_download` is the legacy way to download files from the HF hub, please consider upgrading to `hf_hub_download`\n",
      "  warnings.warn(\n"
     ]
    },
    {
     "data": {
      "application/vnd.jupyter.widget-view+json": {
       "model_id": "3c20b0a7d4814bdeabae2d439bad9606",
       "version_major": 2,
       "version_minor": 0
      },
      "text/plain": [
       "Downloading:   0%|          | 0.00/737 [00:00<?, ?B/s]"
      ]
     },
     "metadata": {},
     "output_type": "display_data"
    },
    {
     "data": {
      "application/vnd.jupyter.widget-view+json": {
       "model_id": "58e7640022b645df923a44ff88c25071",
       "version_major": 2,
       "version_minor": 0
      },
      "text/plain": [
       "Downloading:   0%|          | 0.00/190 [00:00<?, ?B/s]"
      ]
     },
     "metadata": {},
     "output_type": "display_data"
    },
    {
     "data": {
      "application/vnd.jupyter.widget-view+json": {
       "model_id": "1fd73a4cc5c44bbfa3ea83c71315b59e",
       "version_major": 2,
       "version_minor": 0
      },
      "text/plain": [
       "Downloading:   0%|          | 0.00/10.3k [00:00<?, ?B/s]"
      ]
     },
     "metadata": {},
     "output_type": "display_data"
    },
    {
     "data": {
      "application/vnd.jupyter.widget-view+json": {
       "model_id": "8715d786024e41e89c117593252359b5",
       "version_major": 2,
       "version_minor": 0
      },
      "text/plain": [
       "Downloading:   0%|          | 0.00/653 [00:00<?, ?B/s]"
      ]
     },
     "metadata": {},
     "output_type": "display_data"
    },
    {
     "data": {
      "application/vnd.jupyter.widget-view+json": {
       "model_id": "e188f783f6ba487f9a3c74e2b4b10598",
       "version_major": 2,
       "version_minor": 0
      },
      "text/plain": [
       "Downloading:   0%|          | 0.00/116 [00:00<?, ?B/s]"
      ]
     },
     "metadata": {},
     "output_type": "display_data"
    },
    {
     "data": {
      "application/vnd.jupyter.widget-view+json": {
       "model_id": "72dd4fabd1544c0c9db8508ed5aa1341",
       "version_major": 2,
       "version_minor": 0
      },
      "text/plain": [
       "Downloading:   0%|          | 0.00/15.7k [00:00<?, ?B/s]"
      ]
     },
     "metadata": {},
     "output_type": "display_data"
    },
    {
     "data": {
      "application/vnd.jupyter.widget-view+json": {
       "model_id": "5857c6da46f5497b9dd4d3448944cf2c",
       "version_major": 2,
       "version_minor": 0
      },
      "text/plain": [
       "Downloading:   0%|          | 0.00/456k [00:00<?, ?B/s]"
      ]
     },
     "metadata": {},
     "output_type": "display_data"
    },
    {
     "data": {
      "application/vnd.jupyter.widget-view+json": {
       "model_id": "e41b3a5be61f4b41bfc0ecc53c6f193b",
       "version_major": 2,
       "version_minor": 0
      },
      "text/plain": [
       "Downloading:   0%|          | 0.00/349 [00:00<?, ?B/s]"
      ]
     },
     "metadata": {},
     "output_type": "display_data"
    },
    {
     "data": {
      "application/vnd.jupyter.widget-view+json": {
       "model_id": "c8221edadf344feead28e89d6c86293d",
       "version_major": 2,
       "version_minor": 0
      },
      "text/plain": [
       "Downloading:   0%|          | 0.00/329M [00:00<?, ?B/s]"
      ]
     },
     "metadata": {},
     "output_type": "display_data"
    },
    {
     "data": {
      "application/vnd.jupyter.widget-view+json": {
       "model_id": "86fe1c99c4394e8ea45650cd0bb94b81",
       "version_major": 2,
       "version_minor": 0
      },
      "text/plain": [
       "Downloading:   0%|          | 0.00/53.0 [00:00<?, ?B/s]"
      ]
     },
     "metadata": {},
     "output_type": "display_data"
    },
    {
     "data": {
      "application/vnd.jupyter.widget-view+json": {
       "model_id": "02a6cdcdedfe43859c5099253c6d88b5",
       "version_major": 2,
       "version_minor": 0
      },
      "text/plain": [
       "Downloading:   0%|          | 0.00/239 [00:00<?, ?B/s]"
      ]
     },
     "metadata": {},
     "output_type": "display_data"
    },
    {
     "data": {
      "application/vnd.jupyter.widget-view+json": {
       "model_id": "00a98141ca2c49d19b88b26a60f72fd0",
       "version_major": 2,
       "version_minor": 0
      },
      "text/plain": [
       "Downloading:   0%|          | 0.00/1.36M [00:00<?, ?B/s]"
      ]
     },
     "metadata": {},
     "output_type": "display_data"
    },
    {
     "data": {
      "application/vnd.jupyter.widget-view+json": {
       "model_id": "2a78213ce6bd4a3cb2945462f129aae1",
       "version_major": 2,
       "version_minor": 0
      },
      "text/plain": [
       "Downloading:   0%|          | 0.00/333 [00:00<?, ?B/s]"
      ]
     },
     "metadata": {},
     "output_type": "display_data"
    },
    {
     "data": {
      "application/vnd.jupyter.widget-view+json": {
       "model_id": "c24348c4dc324be88822e7d0320ef63c",
       "version_major": 2,
       "version_minor": 0
      },
      "text/plain": [
       "Downloading:   0%|          | 0.00/13.1k [00:00<?, ?B/s]"
      ]
     },
     "metadata": {},
     "output_type": "display_data"
    },
    {
     "data": {
      "application/vnd.jupyter.widget-view+json": {
       "model_id": "d18ac2891fdf4aecb2ba65e25e2abbec",
       "version_major": 2,
       "version_minor": 0
      },
      "text/plain": [
       "Downloading:   0%|          | 0.00/798k [00:00<?, ?B/s]"
      ]
     },
     "metadata": {},
     "output_type": "display_data"
    },
    {
     "data": {
      "text/plain": [
       "SentenceTransformer(\n",
       "  (0): Transformer({'max_seq_length': 512, 'do_lower_case': False}) with Transformer model: RobertaModel \n",
       "  (1): Pooling({'word_embedding_dimension': 768, 'pooling_mode_cls_token': False, 'pooling_mode_mean_tokens': True, 'pooling_mode_max_tokens': False, 'pooling_mode_mean_sqrt_len_tokens': False})\n",
       "  (2): Normalize()\n",
       ")"
      ]
     },
     "execution_count": 28,
     "metadata": {},
     "output_type": "execute_result"
    }
   ],
   "source": [
    "from sentence_transformers import SentenceTransformer, models\n",
    "from torch import nn\n",
    "\n",
    "model_name = 'all-distilroberta-v1'\n",
    "model = SentenceTransformer(model_name)\n",
    "# dense_model = models.Dense(in_features=model.get_sentence_embedding_dimension(), out_features=256, activation_function=nn.Tanh())\n",
    "# model.add_module('3', dense_model)\n",
    "\n",
    "train_dataloader = DataLoader(train_examples, shuffle=True, batch_size=256)\n",
    "train_loss = losses.CosineSimilarityLoss(model)\n",
    "\n",
    "model"
   ]
  },
  {
   "cell_type": "markdown",
   "id": "2b6804d7",
   "metadata": {},
   "source": [
    "### training"
   ]
  },
  {
   "cell_type": "code",
   "execution_count": null,
   "id": "c30365eb",
   "metadata": {},
   "outputs": [
    {
     "name": "stderr",
     "output_type": "stream",
     "text": [
      "/projects/academic/kjoseph/navid/anaconda3/envs/py38/lib/python3.8/site-packages/transformers/optimization.py:306: FutureWarning: This implementation of AdamW is deprecated and will be removed in a future version. Use the PyTorch implementation torch.optim.AdamW instead, or set `no_deprecation_warning=True` to disable this warning\n",
      "  warnings.warn(\n"
     ]
    },
    {
     "data": {
      "application/vnd.jupyter.widget-view+json": {
       "model_id": "526cfb3d2b784b7fa8d8e3a89035a562",
       "version_major": 2,
       "version_minor": 0
      },
      "text/plain": [
       "Epoch:   0%|          | 0/10 [00:00<?, ?it/s]"
      ]
     },
     "metadata": {},
     "output_type": "display_data"
    },
    {
     "data": {
      "application/vnd.jupyter.widget-view+json": {
       "model_id": "ea095b768bbb42959222e107e8d1ff72",
       "version_major": 2,
       "version_minor": 0
      },
      "text/plain": [
       "Iteration:   0%|          | 0/53036 [00:00<?, ?it/s]"
      ]
     },
     "metadata": {},
     "output_type": "display_data"
    }
   ],
   "source": [
    "output_model_path = f'models/distilroberta-{dataset}-freq{freq}'\n",
    "\n",
    "model.fit(train_objectives=[(train_dataloader, train_loss)],\n",
    "          evaluator=evaluator,\n",
    "          epochs=10,\n",
    "          evaluation_steps=5000,\n",
    "          warmup_steps=5000,\n",
    "          output_path=output_model_path)"
   ]
  },
  {
   "cell_type": "markdown",
   "id": "baf551e7",
   "metadata": {},
   "source": [
    "### valiation results - best model\n"
   ]
  },
  {
   "cell_type": "code",
   "execution_count": 30,
   "id": "9c382185",
   "metadata": {},
   "outputs": [
    {
     "data": {
      "image/png": "[encoded data removed]",
      "text/plain": [
       "<Figure size 432x288 with 1 Axes>"
      ]
     },
     "metadata": {
      "needs_background": "light"
     },
     "output_type": "display_data"
    },
    {
     "data": {
      "image/png": "[encoded data removed]",
      "text/plain": [
       "<Figure size 432x288 with 1 Axes>"
      ]
     },
     "metadata": {
      "needs_background": "light"
     },
     "output_type": "display_data"
    }
   ],
   "source": [
    "import seaborn as sns\n",
    "import pandas as pd\n",
    "import matplotlib.pyplot as plt\n",
    "\n",
    "twitter_valid = pd.read_csv(f'models/distilroberta-{dataset}-freq{freq}/eval/similarity_evaluation_results.csv')\n",
    "wiki_valid = pd.read_csv(f'models/distilroberta-{dataset}-freq{freq}/eval/similarity_evaluation_results.csv')\n",
    "\n",
    "sns.lineplot(x=range(len(twitter_valid)), y=twitter_valid['cosine_pearson'])\n",
    "plt.show()\n",
    "sns.lineplot(x=range(len(wiki_valid)), y=wiki_valid['cosine_pearson'])\n",
    "plt.show()"
   ]
  },
  {
   "cell_type": "markdown",
   "id": "67356ab1",
   "metadata": {
    "heading_collapsed": true
   },
   "source": [
    "## evaluation"
   ]
  },
  {
   "cell_type": "markdown",
   "id": "6f996d9b",
   "metadata": {
    "hidden": true
   },
   "source": [
    "### loading saved model"
   ]
  },
  {
   "cell_type": "code",
   "execution_count": null,
   "id": "99293b13",
   "metadata": {
    "hidden": true
   },
   "outputs": [],
   "source": [
    "%env CUDA_VISIBLE_DEVICES=1"
   ]
  },
  {
   "cell_type": "code",
   "execution_count": null,
   "id": "82ba41ae",
   "metadata": {
    "hidden": true
   },
   "outputs": [],
   "source": [
    "from sentence_transformers import SentenceTransformer, models\n",
    "\n",
    "model = SentenceTransformer('./models/miniLM-L6-finetuned-wiki/')\n",
    "\n",
    "model"
   ]
  },
  {
   "cell_type": "markdown",
   "id": "2ee894bf",
   "metadata": {
    "hidden": true
   },
   "source": [
    "### calculating encodings for all phrases"
   ]
  },
  {
   "cell_type": "code",
   "execution_count": null,
   "id": "ad34c86c",
   "metadata": {
    "hidden": true
   },
   "outputs": [],
   "source": [
    "pis = set()\n",
    "\n",
    "for bio in cleaned_bios:\n",
    "    pis.update(bio)\n",
    "\n",
    "pis = list(pis)\n",
    "print(len(pis))\n",
    "\n",
    "embeddings = model.encode(pis, convert_to_tensor=True)\n",
    "        "
   ]
  },
  {
   "cell_type": "code",
   "execution_count": null,
   "id": "237ba151",
   "metadata": {
    "hidden": true,
    "scrolled": true
   },
   "outputs": [],
   "source": [
    "def most_similar(pi, all_pis, all_pi_embs, model, k=11):\n",
    "    cur_emb = model.encode(pi, convert_to_tensor=True)\n",
    "    cosine_scores = util.cos_sim(cur_emb, all_pi_embs).detach().cpu().numpy()[0]\n",
    "    most_similars = np.argsort(cosine_scores)[-k:]\n",
    "    return [(all_pis[i], cosine_scores[i]) for i in most_similars if pi!=all_pis[i]]\n",
    "\n",
    "most_similar('mima', pis, embeddings, model, k=50)"
   ]
  },
  {
   "cell_type": "code",
   "execution_count": null,
   "id": "94edeb53",
   "metadata": {
    "hidden": true
   },
   "outputs": [],
   "source": [
    "def get_similarity(w1, w2, model=model):\n",
    "    emb1 = model.encode(w1, convert_to_tensor=True)\n",
    "    emb2 = model.encode(w2, convert_to_tensor=True)\n",
    "    return util.cos_sim(emb1, emb2)\n",
    "\n",
    "print(\n",
    "    get_similarity('isfj', 'man'),\n",
    "    get_similarity('isfj', 'woman'),\n",
    "    get_similarity('isfj', 'man', model=model),\n",
    "    get_similarity('isfj', 'woman', model=model),\n",
    ")\n",
    "\n",
    "print(\n",
    "    get_similarity('intj', 'man'),\n",
    "    get_similarity('intj', 'woman'),\n",
    "    get_similarity('intj', 'man', model=model),\n",
    "    get_similarity('intj', 'woman', model=model),\n",
    ")\n",
    "\n",
    "print(\n",
    "    get_similarity('entj', 'man'),\n",
    "    get_similarity('entj', 'woman'),\n",
    "    get_similarity('entj', 'man', model=model),\n",
    "    get_similarity('entj', 'woman', model=model),\n",
    ")\n"
   ]
  },
  {
   "cell_type": "code",
   "execution_count": null,
   "id": "8a1f8c21",
   "metadata": {
    "hidden": true
   },
   "outputs": [],
   "source": [
    "mom_emb = base_model.encode('intp', convert_to_tensor=True)\n",
    "dad_emb = base_model.encode('esfj', convert_to_tensor=True)\n",
    "util.cos_sim(mom_emb, dad_emb)"
   ]
  },
  {
   "cell_type": "markdown",
   "id": "2821f8ae",
   "metadata": {
    "hidden": true
   },
   "source": [
    "### loading not tuned model and doing the same thing"
   ]
  },
  {
   "cell_type": "code",
   "execution_count": null,
   "id": "7ffd31d8",
   "metadata": {
    "hidden": true
   },
   "outputs": [],
   "source": [
    "from sentence_transformers import SentenceTransformer, models\n",
    "\n",
    "base_model = SentenceTransformer('all-MiniLM-L6-v2')\n",
    "base_embs = base_model.encode(pis, convert_to_tensor=True)\n",
    "base_cosine_scores = util.cos_sim(base_embs, base_embs).detach().cpu().numpy()"
   ]
  },
  {
   "cell_type": "code",
   "execution_count": null,
   "id": "84054f5b",
   "metadata": {
    "hidden": true
   },
   "outputs": [],
   "source": [
    "import seaborn as sns\n",
    "import pandas as pd\n",
    "import matplotlib.pyplot as plt\n",
    "\n",
    "target_word = 'build the wall'\n",
    "df1 = pd.DataFrame(most_similar(target_word, pis, embeddings, model), columns=['identifier', 'similarity'])\n",
    "df1['model'] = 'fine-tuned-sentence-bert'\n",
    "df2 = pd.DataFrame(most_similar(target_word, pis, base_embs, base_model), columns=['identifier', 'similarity'])\n",
    "df2['model'] = 'original-sentence-bert'\n",
    "\n",
    "\n",
    "fig, (ax1, ax2) = plt.subplots(nrows=1, ncols=2, figsize=(15,6))\n",
    "\n",
    "ax1.scatter(x=df1['identifier'], y=df1['similarity'])\n",
    "ax1.tick_params(axis='x', rotation=-60)\n",
    "ax1.set_xlabel('phrase')\n",
    "ax1.set_ylabel('similarity')\n",
    "ax1.set_title('fine-tuned-sentence-bert')\n",
    "\n",
    "\n",
    "ax2.scatter(x=df2['identifier'], y=df2['similarity'])\n",
    "ax2.tick_params(axis='x', rotation=-60)\n",
    "ax2.set_xlabel('phrase')\n",
    "ax2.set_ylabel('similarity')\n",
    "ax2.set_title('original-sentence-bert')\n",
    "\n",
    "plt.show()"
   ]
  },
  {
   "cell_type": "markdown",
   "id": "2ad9278e",
   "metadata": {
    "hidden": true
   },
   "source": [
    "### analyzing personalities"
   ]
  },
  {
   "cell_type": "code",
   "execution_count": null,
   "id": "22507a62",
   "metadata": {
    "hidden": true
   },
   "outputs": [],
   "source": [
    "for personality in ['ESTJ', 'ENTJ', 'ESFJ', 'ENFJ', 'ISTJ', 'ISFJ', 'INTJ', 'INFJ', 'ESTP', 'ESFP', 'ENTP', 'ENFP', 'ISTP', 'ISFP', 'INTP', 'INFP']:\n",
    "    if personality in pis or personality.lower() in pis:\n",
    "        print(f\"{personality}: True\")\n",
    "    else:\n",
    "        print(f\"{personality}: False\")"
   ]
  },
  {
   "cell_type": "code",
   "execution_count": null,
   "id": "2c1b63b6",
   "metadata": {
    "hidden": true
   },
   "outputs": [],
   "source": [
    "personalities = ['ESTJ', 'ENTJ', 'ESFJ', 'ENFJ', 'ISTJ', 'ISFJ', 'INTJ', 'INFJ', 'ESTP', 'ESFP', 'ENTP', 'ENFP', 'ISTP', 'ISFP', 'INTP', 'INFP']\n",
    "personalities = [p.lower() for p in personalities]\n",
    "\n",
    "pers_emb = model.encode(personalities, convert_to_tensor=True)\n",
    "pers_emb_base = base_model.encode(personalities, convert_to_tensor=True)\n",
    "\n",
    "base_cosine_scores = util.cos_sim(pers_emb_base, pers_emb_base).detach().cpu().numpy()\n",
    "cosine_scores = util.cos_sim(pers_emb, pers_emb).detach().cpu().numpy()"
   ]
  },
  {
   "cell_type": "code",
   "execution_count": null,
   "id": "406d3001",
   "metadata": {
    "hidden": true
   },
   "outputs": [],
   "source": [
    "plt.figure(figsize=(10,10))\n",
    "ax = sns.heatmap(cosine_scores)\n",
    "ax.set_xticklabels(personalities, rotation=90)\n",
    "ax.set_yticklabels(personalities, rotation=0)\n",
    "\n",
    "# plt.xticks(ticks=personalities)\n",
    "# plt.yticks(ticks=personalities)"
   ]
  },
  {
   "cell_type": "code",
   "execution_count": null,
   "id": "db1ab792",
   "metadata": {
    "hidden": true
   },
   "outputs": [],
   "source": [
    "plt.figure(figsize=(10,10))\n",
    "\n",
    "ax = sns.heatmap(base_cosine_scores)\n",
    "ax.set_xticklabels(personalities, rotation=90)\n",
    "ax.set_yticklabels(personalities, rotation=0)"
   ]
  },
  {
   "cell_type": "markdown",
   "id": "7c00590e",
   "metadata": {
    "hidden": true
   },
   "source": [
    "### comparing in gensim vocab"
   ]
  },
  {
   "cell_type": "code",
   "execution_count": null,
   "id": "f40dfb8f",
   "metadata": {
    "hidden": true
   },
   "outputs": [],
   "source": [
    "import gensim.downloader as api\n",
    "\n",
    "w2v = api.load(\"glove-wiki-gigaword-50\")\n",
    "w2v.most_similar(\"glass\")"
   ]
  },
  {
   "cell_type": "code",
   "execution_count": null,
   "id": "636e7a2b",
   "metadata": {
    "hidden": true
   },
   "outputs": [],
   "source": [
    "vocab = list(w2v.key_to_index.keys())\n",
    "\n",
    "vocab_embs = model.encode(vocab, convert_to_tensor=True)\n"
   ]
  },
  {
   "cell_type": "code",
   "execution_count": null,
   "id": "036f73ec",
   "metadata": {
    "hidden": true
   },
   "outputs": [],
   "source": [
    "most_similar('vaccine', vocab, vocab_embs, model, k=10)"
   ]
  },
  {
   "cell_type": "code",
   "execution_count": null,
   "id": "8b650b74",
   "metadata": {
    "hidden": true
   },
   "outputs": [],
   "source": [
    "most_similar('blm', vocab, vocab_embs, model, k=50)"
   ]
  },
  {
   "cell_type": "markdown",
   "id": "e679f9e7",
   "metadata": {},
   "source": [
    "# Word2vec embedding"
   ]
  },
  {
   "cell_type": "code",
   "execution_count": 31,
   "id": "d9bee5cd",
   "metadata": {},
   "outputs": [
    {
     "name": "stdout",
     "output_type": "stream",
     "text": [
      "3534903\n"
     ]
    }
   ],
   "source": [
    "from gensim.models import Word2Vec\n",
    "from gensim.models.callbacks import CallbackAny2Vec\n",
    "\n",
    "import pickle\n",
    "\n",
    "dataset = 'twitter'\n",
    "freq = 100\n",
    "\n",
    "with open(f'./data/{dataset}_cleaned_train_bios_{freq}.pkl', 'rb') as f:\n",
    "    bios = pickle.load(f)\n",
    "    \n",
    "print(len(bios))"
   ]
  },
  {
   "cell_type": "code",
   "execution_count": 98,
   "id": "e71a315d",
   "metadata": {},
   "outputs": [
    {
     "data": {
      "text/plain": [
       "3.169001917608556"
      ]
     },
     "execution_count": 98,
     "metadata": {},
     "output_type": "execute_result"
    }
   ],
   "source": [
    "np.mean([len(x) for x in bios])"
   ]
  },
  {
   "cell_type": "code",
   "execution_count": 99,
   "id": "235e5a60",
   "metadata": {},
   "outputs": [
    {
     "data": {
      "text/plain": [
       "[['lover of nature', 'curious'],\n",
       " ['wwg1wga', 'psychologist'],\n",
       " ['22', 'draw stuff', 'blm', 'him', 'he']]"
      ]
     },
     "execution_count": 99,
     "metadata": {},
     "output_type": "execute_result"
    }
   ],
   "source": [
    "bios[:3]"
   ]
  },
  {
   "cell_type": "code",
   "execution_count": 32,
   "id": "1f51047e",
   "metadata": {
    "scrolled": true
   },
   "outputs": [
    {
     "name": "stdout",
     "output_type": "stream",
     "text": [
      "3534903\n",
      "Loss after epoch 0: 2188589.75\n",
      "Loss after epoch 1: 1676008.75\n",
      "Loss after epoch 2: 1731430.0\n",
      "Loss after epoch 3: 1732457.0\n",
      "Loss after epoch 4: 1258790.5\n",
      "Loss after epoch 5: 1510714.0\n",
      "Loss after epoch 6: 1602516.0\n",
      "Loss after epoch 7: 1664586.0\n",
      "Loss after epoch 8: 1706248.0\n",
      "Loss after epoch 9: 1594858.0\n",
      "Loss after epoch 10: 1276672.0\n",
      "Loss after epoch 11: 1363580.0\n",
      "Loss after epoch 12: 1290226.0\n",
      "Loss after epoch 13: 1357662.0\n",
      "Loss after epoch 14: 1061918.0\n",
      "Loss after epoch 15: 1572482.0\n",
      "Loss after epoch 16: 1366128.0\n",
      "Loss after epoch 17: 1257418.0\n",
      "Loss after epoch 18: 1557190.0\n",
      "Loss after epoch 19: 1125026.0\n",
      "Loss after epoch 20: 1532096.0\n",
      "Loss after epoch 21: 1023042.0\n",
      "Loss after epoch 22: 1239478.0\n",
      "Loss after epoch 23: 1164408.0\n",
      "Loss after epoch 24: 1087292.0\n",
      "Loss after epoch 25: 900832.0\n",
      "Loss after epoch 26: 833352.0\n",
      "Loss after epoch 27: 730864.0\n",
      "Loss after epoch 28: 680976.0\n",
      "Loss after epoch 29: 987828.0\n",
      "Loss after epoch 30: 903604.0\n",
      "Loss after epoch 31: 705160.0\n",
      "Loss after epoch 32: 1109220.0\n",
      "Loss after epoch 33: 1034192.0\n",
      "Loss after epoch 34: 851240.0\n",
      "Loss after epoch 35: 1128740.0\n",
      "Loss after epoch 36: 872348.0\n",
      "Loss after epoch 37: 1130548.0\n",
      "Loss after epoch 38: 835216.0\n",
      "Loss after epoch 39: 828772.0\n",
      "Loss after epoch 40: 1181900.0\n",
      "Loss after epoch 41: 1022768.0\n",
      "Loss after epoch 42: 1022876.0\n",
      "Loss after epoch 43: 870832.0\n",
      "Loss after epoch 44: 870656.0\n",
      "Loss after epoch 45: 994396.0\n",
      "Loss after epoch 46: 1142748.0\n",
      "Loss after epoch 47: 977568.0\n",
      "Loss after epoch 48: 975880.0\n",
      "Loss after epoch 49: 720788.0\n",
      "Loss after epoch 50: 946200.0\n",
      "Loss after epoch 51: 665912.0\n",
      "Loss after epoch 52: 1040832.0\n",
      "Loss after epoch 53: 911700.0\n",
      "Loss after epoch 54: 1112000.0\n",
      "Loss after epoch 55: 783336.0\n",
      "Loss after epoch 56: 1108560.0\n",
      "Loss after epoch 57: 782348.0\n",
      "Loss after epoch 58: 604104.0\n",
      "Loss after epoch 59: 208008.0\n",
      "Loss after epoch 60: 150792.0\n",
      "Loss after epoch 61: 192112.0\n",
      "Loss after epoch 62: 202624.0\n",
      "Loss after epoch 63: 108176.0\n",
      "Loss after epoch 64: 137496.0\n",
      "Loss after epoch 65: 148200.0\n",
      "Loss after epoch 66: 203584.0\n",
      "Loss after epoch 67: 180120.0\n",
      "Loss after epoch 68: 181048.0\n",
      "Loss after epoch 69: 149000.0\n",
      "Loss after epoch 70: 167344.0\n",
      "Loss after epoch 71: 141032.0\n",
      "Loss after epoch 72: 176888.0\n",
      "Loss after epoch 73: 180696.0\n",
      "Loss after epoch 74: 117752.0\n",
      "Loss after epoch 75: 141552.0\n",
      "Loss after epoch 76: 144432.0\n",
      "Loss after epoch 77: 203008.0\n",
      "Loss after epoch 78: 164384.0\n",
      "Loss after epoch 79: 182616.0\n",
      "Loss after epoch 80: 146456.0\n",
      "Loss after epoch 81: 135968.0\n",
      "Loss after epoch 82: 154904.0\n",
      "Loss after epoch 83: 125336.0\n",
      "Loss after epoch 84: 181960.0\n",
      "Loss after epoch 85: 151848.0\n",
      "Loss after epoch 86: 172120.0\n",
      "Loss after epoch 87: 153952.0\n",
      "Loss after epoch 88: 174968.0\n",
      "Loss after epoch 89: 152424.0\n",
      "Loss after epoch 90: 181776.0\n",
      "Loss after epoch 91: 136016.0\n",
      "Loss after epoch 92: 115160.0\n",
      "Loss after epoch 93: 176992.0\n",
      "Loss after epoch 94: 136736.0\n",
      "Loss after epoch 95: 132792.0\n",
      "Loss after epoch 96: 160736.0\n",
      "Loss after epoch 97: 188536.0\n",
      "Loss after epoch 98: 149624.0\n",
      "Loss after epoch 99: 129584.0\n",
      "Loss after epoch 100: 148648.0\n",
      "Loss after epoch 101: 148096.0\n",
      "Loss after epoch 102: 137960.0\n",
      "Loss after epoch 103: 156712.0\n",
      "Loss after epoch 104: 177920.0\n",
      "Loss after epoch 105: 161544.0\n",
      "Loss after epoch 106: 175664.0\n",
      "Loss after epoch 107: 161584.0\n",
      "Loss after epoch 108: 155912.0\n",
      "Loss after epoch 109: 164152.0\n",
      "Loss after epoch 110: 91744.0\n",
      "Loss after epoch 111: 179952.0\n",
      "Loss after epoch 112: 189864.0\n",
      "Loss after epoch 113: 158800.0\n",
      "Loss after epoch 114: 187216.0\n",
      "Loss after epoch 115: 97720.0\n",
      "Loss after epoch 116: 156176.0\n",
      "Loss after epoch 117: 99312.0\n",
      "Loss after epoch 118: 159960.0\n",
      "Loss after epoch 119: 135016.0\n",
      "Loss after epoch 120: 160320.0\n",
      "Loss after epoch 121: 81136.0\n",
      "Loss after epoch 122: 147952.0\n",
      "Loss after epoch 123: 182592.0\n",
      "Loss after epoch 124: 155888.0\n",
      "Loss after epoch 125: 102912.0\n",
      "Loss after epoch 126: 158880.0\n",
      "Loss after epoch 127: 157440.0\n",
      "Loss after epoch 128: 142016.0\n",
      "Loss after epoch 129: 184816.0\n",
      "Loss after epoch 130: 170664.0\n",
      "Loss after epoch 131: 123456.0\n",
      "Loss after epoch 132: 135920.0\n",
      "Loss after epoch 133: 133008.0\n",
      "Loss after epoch 134: 114088.0\n",
      "Loss after epoch 135: 149112.0\n",
      "Loss after epoch 136: 159864.0\n",
      "Loss after epoch 137: 150072.0\n",
      "Loss after epoch 138: 95960.0\n",
      "Loss after epoch 139: 162984.0\n",
      "Loss after epoch 140: 149392.0\n",
      "Loss after epoch 141: 93880.0\n",
      "Loss after epoch 142: 116632.0\n",
      "Loss after epoch 143: 139816.0\n",
      "Loss after epoch 144: 94096.0\n",
      "Loss after epoch 145: 139544.0\n",
      "Loss after epoch 146: 125704.0\n",
      "Loss after epoch 147: 155192.0\n",
      "Loss after epoch 148: 131400.0\n",
      "Loss after epoch 149: 153024.0\n",
      "Loss after epoch 150: 153368.0\n",
      "Loss after epoch 151: 104384.0\n",
      "Loss after epoch 152: 136720.0\n",
      "Loss after epoch 153: 124872.0\n",
      "Loss after epoch 154: 111784.0\n",
      "Loss after epoch 155: 111128.0\n",
      "Loss after epoch 156: 105288.0\n",
      "Loss after epoch 157: 83544.0\n",
      "Loss after epoch 158: 132704.0\n",
      "Loss after epoch 159: 120768.0\n",
      "Loss after epoch 160: 102336.0\n",
      "Loss after epoch 161: 112336.0\n",
      "Loss after epoch 162: 127976.0\n",
      "Loss after epoch 163: 121296.0\n",
      "Loss after epoch 164: 107168.0\n",
      "Loss after epoch 165: 89440.0\n",
      "Loss after epoch 166: 107224.0\n",
      "Loss after epoch 167: 83136.0\n",
      "Loss after epoch 168: 104536.0\n",
      "Loss after epoch 169: 121080.0\n",
      "Loss after epoch 170: 137328.0\n",
      "Loss after epoch 171: 78680.0\n",
      "Loss after epoch 172: 84448.0\n",
      "Loss after epoch 173: 95128.0\n",
      "Loss after epoch 174: 144832.0\n",
      "Loss after epoch 175: 99168.0\n",
      "Loss after epoch 176: 120328.0\n",
      "Loss after epoch 177: 143624.0\n",
      "Loss after epoch 178: 127664.0\n",
      "Loss after epoch 179: 125656.0\n",
      "Loss after epoch 180: 105928.0\n",
      "Loss after epoch 181: 127264.0\n",
      "Loss after epoch 182: 135008.0\n",
      "Loss after epoch 183: 112928.0\n",
      "Loss after epoch 184: 127360.0\n",
      "Loss after epoch 185: 92456.0\n",
      "Loss after epoch 186: 126056.0\n",
      "Loss after epoch 187: 109744.0\n",
      "Loss after epoch 188: 107120.0\n",
      "Loss after epoch 189: 73728.0\n",
      "Loss after epoch 190: 120696.0\n",
      "Loss after epoch 191: 76272.0\n",
      "Loss after epoch 192: 86544.0\n",
      "Loss after epoch 193: 126800.0\n",
      "Loss after epoch 194: 89552.0\n",
      "Loss after epoch 195: 123240.0\n",
      "Loss after epoch 196: 68504.0\n",
      "Loss after epoch 197: 130368.0\n",
      "Loss after epoch 198: 115344.0\n",
      "Loss after epoch 199: 111840.0\n",
      "Loss after epoch 200: 101304.0\n",
      "Loss after epoch 201: 115528.0\n",
      "Loss after epoch 202: 107392.0\n",
      "Loss after epoch 203: 118528.0\n",
      "Loss after epoch 204: 94368.0\n",
      "Loss after epoch 205: 102840.0\n",
      "Loss after epoch 206: 90216.0\n",
      "Loss after epoch 207: 102104.0\n",
      "Loss after epoch 208: 97888.0\n",
      "Loss after epoch 209: 72616.0\n",
      "Loss after epoch 210: 112288.0\n",
      "Loss after epoch 211: 85040.0\n",
      "Loss after epoch 212: 105400.0\n",
      "Loss after epoch 213: 122048.0\n",
      "Loss after epoch 214: 96576.0\n",
      "Loss after epoch 215: 106664.0\n",
      "Loss after epoch 216: 104040.0\n",
      "Loss after epoch 217: 104128.0\n",
      "Loss after epoch 218: 81264.0\n",
      "Loss after epoch 219: 70848.0\n",
      "Loss after epoch 220: 96024.0\n",
      "Loss after epoch 221: 115200.0\n",
      "Loss after epoch 222: 90280.0\n",
      "Loss after epoch 223: 101248.0\n",
      "Loss after epoch 224: 104304.0\n",
      "Loss after epoch 225: 85440.0\n",
      "Loss after epoch 226: 93200.0\n",
      "Loss after epoch 227: 77120.0\n",
      "Loss after epoch 228: 87784.0\n",
      "Loss after epoch 229: 91256.0\n",
      "Loss after epoch 230: 89728.0\n",
      "Loss after epoch 231: 84736.0\n",
      "Loss after epoch 232: 91744.0\n",
      "Loss after epoch 233: 87928.0\n",
      "Loss after epoch 234: 101632.0\n",
      "Loss after epoch 235: 99648.0\n",
      "Loss after epoch 236: 88176.0\n",
      "Loss after epoch 237: 102912.0\n",
      "Loss after epoch 238: 88456.0\n",
      "Loss after epoch 239: 95664.0\n",
      "Loss after epoch 240: 94056.0\n",
      "Loss after epoch 241: 90872.0\n",
      "Loss after epoch 242: 87240.0\n",
      "Loss after epoch 243: 68440.0\n",
      "Loss after epoch 244: 70704.0\n",
      "Loss after epoch 245: 76648.0\n",
      "Loss after epoch 246: 69624.0\n",
      "Loss after epoch 247: 71184.0\n",
      "Loss after epoch 248: 70120.0\n",
      "Loss after epoch 249: 86360.0\n",
      "Loss after epoch 250: 86304.0\n",
      "Loss after epoch 251: 71880.0\n",
      "Loss after epoch 252: 78808.0\n",
      "Loss after epoch 253: 96608.0\n",
      "Loss after epoch 254: 93504.0\n",
      "Loss after epoch 255: 95728.0\n",
      "Loss after epoch 256: 97208.0\n",
      "Loss after epoch 257: 80960.0\n",
      "Loss after epoch 258: 64520.0\n",
      "Loss after epoch 259: 77000.0\n",
      "Loss after epoch 260: 83464.0\n",
      "Loss after epoch 261: 89224.0\n",
      "Loss after epoch 262: 76944.0\n",
      "Loss after epoch 263: 77880.0\n",
      "Loss after epoch 264: 88168.0\n",
      "Loss after epoch 265: 79424.0\n",
      "Loss after epoch 266: 77920.0\n",
      "Loss after epoch 267: 61080.0\n",
      "Loss after epoch 268: 85968.0\n"
     ]
    },
    {
     "name": "stdout",
     "output_type": "stream",
     "text": [
      "Loss after epoch 269: 75896.0\n",
      "Loss after epoch 270: 88752.0\n",
      "Loss after epoch 271: 92512.0\n",
      "Loss after epoch 272: 82928.0\n",
      "Loss after epoch 273: 81080.0\n",
      "Loss after epoch 274: 56544.0\n",
      "Loss after epoch 275: 76696.0\n",
      "Loss after epoch 276: 65160.0\n",
      "Loss after epoch 277: 72928.0\n",
      "Loss after epoch 278: 70432.0\n",
      "Loss after epoch 279: 73904.0\n",
      "Loss after epoch 280: 86912.0\n",
      "Loss after epoch 281: 72200.0\n",
      "Loss after epoch 282: 86680.0\n",
      "Loss after epoch 283: 80800.0\n",
      "Loss after epoch 284: 62472.0\n",
      "Loss after epoch 285: 69088.0\n",
      "Loss after epoch 286: 66296.0\n",
      "Loss after epoch 287: 79616.0\n",
      "Loss after epoch 288: 73480.0\n",
      "Loss after epoch 289: 62368.0\n",
      "Loss after epoch 290: 67224.0\n",
      "Loss after epoch 291: 71600.0\n",
      "Loss after epoch 292: 63984.0\n",
      "Loss after epoch 293: 68456.0\n",
      "Loss after epoch 294: 49344.0\n",
      "Loss after epoch 295: 58408.0\n",
      "Loss after epoch 296: 71120.0\n",
      "Loss after epoch 297: 72536.0\n",
      "Loss after epoch 298: 70520.0\n",
      "Loss after epoch 299: 65608.0\n"
     ]
    }
   ],
   "source": [
    "\n",
    "print(len(cleaned_bios))\n",
    "\n",
    "class Callback(CallbackAny2Vec):\n",
    "    '''Callback to print loss after each epoch.'''\n",
    "\n",
    "    def __init__(self):\n",
    "        self.epoch = 0\n",
    "        self.loss_to_be_subed = 0\n",
    "\n",
    "    def on_epoch_end(self, model):\n",
    "        loss = model.get_latest_training_loss()\n",
    "        loss_now = loss - self.loss_to_be_subed\n",
    "        self.loss_to_be_subed = loss\n",
    "        print('Loss after epoch {}: {}'.format(self.epoch, loss_now))\n",
    "        self.epoch += 1\n",
    "\n",
    "monitor = Callback()\n",
    "\n",
    "w2v_negsampling_model = Word2Vec(bios, vector_size=768, window=8, min_count=1,\n",
    "                 negative=8, workers=30, sg=1, epochs=300, callbacks=[monitor],\n",
    "                 compute_loss=True)\n",
    "\n",
    "# w2v_model = Word2Vec(bios, vector_size=256, window=8, min_count=1,\n",
    "#                  negative=8, workers=30, sg=0,  cbow_mean=1, epochs=300, callbacks=[monitor],\n",
    "#                  compute_loss=True)\n",
    "\n",
    "model_path = f'./models/w2v_negsampling_{dataset}_{freq}.model'\n",
    "w2v_negsampling_model.save(model_path)"
   ]
  },
  {
   "cell_type": "code",
   "execution_count": 106,
   "id": "ccc4c356",
   "metadata": {},
   "outputs": [],
   "source": [
    "model_path = f'./models/w2v_negsampling_{dataset}.model'\n",
    "w2v_model = Word2Vec.load(model_path)"
   ]
  },
  {
   "cell_type": "code",
   "execution_count": 107,
   "id": "65904ea8",
   "metadata": {},
   "outputs": [
    {
     "data": {
      "text/plain": [
       "[('liberal', 0.6526982188224792),\n",
       " ('resistance', 0.6434893608093262),\n",
       " ('progressive', 0.6369225382804871),\n",
       " ('resister', 0.6196234822273254),\n",
       " ('voteblue', 0.6002514958381653),\n",
       " ('bidenharris2020', 0.5841273665428162),\n",
       " ('proud democrat', 0.5827977061271667),\n",
       " ('resist', 0.5810790657997131),\n",
       " ('biden2020', 0.5805890560150146),\n",
       " ('fbr', 0.5787544846534729),\n",
       " ('bluewave', 0.5392828583717346),\n",
       " ('bluewave2020', 0.535259485244751),\n",
       " ('political junkie', 0.5239893794059753),\n",
       " ('proud liberal', 0.5239233374595642),\n",
       " ('votebluenomatterwho', 0.5152519345283508)]"
      ]
     },
     "execution_count": 107,
     "metadata": {},
     "output_type": "execute_result"
    }
   ],
   "source": [
    "w2v_model.wv.most_similar('democrat', topn=15)"
   ]
  },
  {
   "cell_type": "markdown",
   "id": "73a84e0e",
   "metadata": {},
   "source": [
    "# hold-one-out prediction of PIs"
   ]
  },
  {
   "cell_type": "markdown",
   "id": "733b75ad",
   "metadata": {},
   "source": [
    "## load w2v model for vocabulary\n"
   ]
  },
  {
   "cell_type": "code",
   "execution_count": 1,
   "id": "324b001f",
   "metadata": {},
   "outputs": [
    {
     "name": "stdout",
     "output_type": "stream",
     "text": [
      "CPU times: user 917 ms, sys: 3 s, total: 3.92 s\n",
      "Wall time: 2.47 s\n"
     ]
    }
   ],
   "source": [
    "%%time\n",
    "\n",
    "from gensim.models import Word2Vec\n",
    "\n",
    "model_path = f'./models/w2v_negsampling_twitter.model'\n",
    "w2v_twitter_negsamp_model = Word2Vec.load(model_path)\n",
    "\n",
    "model_path = f'./models/w2v_cbow_twitter.model'\n",
    "w2v_twitter_cbow_model = Word2Vec.load(model_path)\n",
    "\n",
    "model_path = f'./models/w2v_negsampling_wiki.model'\n",
    "w2v_wiki_negsamp_model = Word2Vec.load(model_path)\n",
    "\n",
    "model_path = f'./models/w2v_cbow_wiki.model'\n",
    "w2v_wiki_cbow_model = Word2Vec.load(model_path)"
   ]
  },
  {
   "cell_type": "markdown",
   "id": "43527519",
   "metadata": {},
   "source": [
    "## load and filter data"
   ]
  },
  {
   "cell_type": "code",
   "execution_count": 2,
   "id": "c3034ef2",
   "metadata": {},
   "outputs": [
    {
     "name": "stdout",
     "output_type": "stream",
     "text": [
      "CPU times: user 3.24 ms, sys: 832 µs, total: 4.08 ms\n",
      "Wall time: 32.8 ms\n"
     ]
    }
   ],
   "source": [
    "%%time\n",
    "\n",
    "from tqdm import tqdm_notebook as tqdm\n",
    "from collections import Counter\n",
    "import pickle\n",
    "from collections import OrderedDict\n",
    "import numpy as np\n",
    "\n",
    "\n",
    "def load_bios(dataset='twitter', mode='test'):\n",
    "    with open(f'data/{dataset}_{mode}_bios.pkl', 'rb') as f:\n",
    "        bios = pickle.load(f)\n",
    "    \n",
    "    #filter only bios with more than 1 PI\n",
    "    morethan2pi = [x for x in bios if len(x)>1]\n",
    "    return morethan2pi\n",
    "\n",
    "def build_vocab_list(bios):\n",
    "    all_pis = set()\n",
    "    for bio in bios:\n",
    "        all_pis.update(bio)\n",
    "\n",
    "    return list(all_pis)\n",
    "\n",
    "def filter_bios_with_vocab_restriction(bios, vocab):\n",
    "    if vocab is None:\n",
    "        return bios\n",
    "    \n",
    "    filtered_bios = []\n",
    "    for bio in bios:\n",
    "        cur_bio = []\n",
    "        for pi in bio:\n",
    "            if pi in vocab:\n",
    "                cur_bio.append(pi)\n",
    "        if len(cur_bio) > 1:\n",
    "            filtered_bios.append(cur_bio)\n",
    "    return filtered_bios\n",
    "\n",
    "def build_contextual_dataset(bios):\n",
    "    test_ds = []\n",
    "    test_ds_rand = []\n",
    "    \n",
    "    for bio in bios:\n",
    "        hold_out_idx = np.random.randint(0, len(bio))\n",
    "        remaining = [x for i, x in enumerate(bio) if i != hold_out_idx]\n",
    "        random_remaining = list(np.random.choice(remaining, 1))[0]\n",
    "        \n",
    "        remaining = ', '.join(remaining)\n",
    "        target = bio[hold_out_idx]\n",
    "\n",
    "        test_ds.append((remaining, target))\n",
    "        test_ds_rand.append((random_remaining, target))\n",
    "\n",
    "    return test_ds, test_ds_rand\n",
    "\n",
    "\n",
    "def build_w2v_dataset(bios):\n",
    "    w2v_test_ds = []\n",
    "    w2v_test_random_ds = []\n",
    "\n",
    "    for bio in bios:\n",
    "        hold_out_idx = np.random.randint(0, len(bio))\n",
    "        remaining = [x for i, x in enumerate(bio) if i != hold_out_idx]\n",
    "        random_remaining = list(np.random.choice(remaining, 1))\n",
    "        target = bio[hold_out_idx]\n",
    "\n",
    "        w2v_test_ds.append((remaining, target))\n",
    "        w2v_test_random_ds.append((random_remaining, target))\n",
    "    \n",
    "    return w2v_test_ds, w2v_test_random_ds\n",
    "\n",
    "\n",
    "def filter_with_freq(bios, freq=500):\n",
    "    cntr = Counter()\n",
    "    for bio in bios:\n",
    "        cntr.update(bio)\n",
    "        \n",
    "    filtered_bios = []\n",
    "    for bio in bios:\n",
    "        cur = []\n",
    "        for pi in bio:\n",
    "            if cntr[pi] >= freq:\n",
    "                cur.append(pi)\n",
    "        if len(cur) > 1:\n",
    "            filtered_bios.append(cur)\n",
    "    return filtered_bios\n",
    "            \n",
    "\n",
    "def create_test_dataset(dataset='twitter', restrict_vocab_to_training=None, w2v=False, filter_th=None):\n",
    "    print(f\"creating dataset for {dataset}:\")\n",
    "    \n",
    "    test_bios = load_bios(dataset)\n",
    "    print(f\"total test bios: {len(test_bios)}\")\n",
    "    \n",
    "    test_bios = filter_bios_with_vocab_restriction(test_bios, restrict_vocab_to_training)\n",
    "    print(f\"total test bios after restriction: {len(test_bios)}\")\n",
    "    \n",
    "    if filter_th is not None:\n",
    "        test_bios = filter_with_freq(test_bios, freq=filter_th)\n",
    "        print(f\"total test bios after freq filter: {len(test_bios)}\")\n",
    "    \n",
    "    test_pis = build_vocab_list(test_bios)\n",
    "    print(f\"total PIs: {len(test_pis)}\")\n",
    "    \n",
    "    pi_dict = OrderedDict()\n",
    "    for p in test_pis:\n",
    "        pi_dict[p] = len(pi_dict)\n",
    "    \n",
    "    if w2v:\n",
    "        test_ds, test_ds_rand = build_w2v_dataset(test_bios)\n",
    "        return test_ds, test_ds_rand, pi_dict\n",
    "    else:\n",
    "        test_ds, test_ds_rand = build_contextual_dataset(test_bios)\n",
    "        return test_ds, test_ds_rand, pi_dict\n",
    "        \n",
    "    \n",
    "def build_restricted_target_dataset(bios, vocab):\n",
    "    test_ds = []\n",
    "    \n",
    "    for bio in bios:\n",
    "        for idx, pi in enumerate(bio):\n",
    "            if pi in vocab:\n",
    "                remaining = [x for x in bio if x != pi]\n",
    "                remaining_ctxt = ', '.join(remaining)\n",
    "                if len(remaining) == 0:\n",
    "                    continue\n",
    "                test_ds.append((remaining, remaining_ctxt, pi))\n",
    "            \n",
    "    return test_ds\n",
    "\n",
    "\n",
    "def create_restricted_target_test_dataset(dataset, vocab):\n",
    "    print(f\"creating dataset for {dataset}:\")\n",
    "    \n",
    "    test_bios = load_bios(dataset)\n",
    "    print(f\"total test bios: {len(test_bios)}\")\n",
    "    \n",
    "    filtered_test_bios = []\n",
    "    for bio in test_bios:\n",
    "        for pi in bio:\n",
    "            if pi in vocab:\n",
    "                filtered_test_bios.append(bio)\n",
    "                break\n",
    "                \n",
    "    print(f\"total test bios after restriction: {len(filtered_test_bios)}\")\n",
    "    \n",
    "    test_ds = build_restricted_target_dataset(filtered_test_bios, vocab)\n",
    "    print(f\"total test dataset entires: \", len(test_ds))\n",
    "    \n",
    "    target_pis = set()\n",
    "    for _, _, y in test_ds:\n",
    "        target_pis.add(y)\n",
    "    \n",
    "    pi_dict = OrderedDict()\n",
    "    for p in target_pis:\n",
    "        pi_dict[p] = len(pi_dict)\n",
    "    \n",
    "    print(f\"vocab size: {len(pi_dict)}\")\n",
    "    return test_ds, pi_dict\n",
    "    \n",
    "    \n",
    "    "
   ]
  },
  {
   "cell_type": "code",
   "execution_count": 3,
   "id": "d19e2563",
   "metadata": {},
   "outputs": [
    {
     "name": "stdout",
     "output_type": "stream",
     "text": [
      "creating dataset for twitter:\n",
      "total test bios: 1546001\n",
      "total test bios after restriction: 1121165\n",
      "total test dataset entires:  2628347\n",
      "vocab size: 4750\n",
      "creating dataset for wiki:\n",
      "total test bios: 66484\n",
      "total test bios after restriction: 65966\n",
      "total test dataset entires:  160772\n",
      "vocab size: 3912\n"
     ]
    }
   ],
   "source": [
    "test_ds_twitter_target_restricted, twitter_target_restricted_pis = create_restricted_target_test_dataset(\n",
    "    dataset='twitter',\n",
    "    vocab=w2v_twitter_negsamp_model.wv.key_to_index,\n",
    ")\n",
    "\n",
    "test_ds_wiki_target_restricted, wiki_target_restricted_pis = create_restricted_target_test_dataset(\n",
    "    dataset='wiki',\n",
    "    vocab=w2v_wiki_negsamp_model.wv.key_to_index,\n",
    ")"
   ]
  },
  {
   "cell_type": "markdown",
   "id": "2697ee64",
   "metadata": {},
   "source": [
    "## helper function for batching"
   ]
  },
  {
   "cell_type": "code",
   "execution_count": 4,
   "id": "9785fa1e",
   "metadata": {},
   "outputs": [],
   "source": [
    "from tqdm import tqdm\n",
    "import torch \n",
    "\n",
    "def get_results_batched(model, tokenizer, str_l, bs=256, average_k_layers=1):\n",
    "    i = 0\n",
    "    result = []\n",
    "    pbar = tqdm(total=len(str_l))\n",
    "    while i < len(str_l):\n",
    "        batch = list(str_l[i:i+bs])\n",
    "        with torch.no_grad():\n",
    "            tokens = tokenizer(batch, return_tensors='pt', padding=True, truncation=True).to(device)\n",
    "            res_full = model(**tokens, output_hidden_states=True).hidden_states\n",
    "            layers = []\n",
    "\n",
    "            for k in range(-average_k_layers,0):\n",
    "                pooled_val = res_full[k].detach().cpu()\n",
    "                # taking cls token embeddings\n",
    "                layers.append(pooled_val[:,0,:])\n",
    "\n",
    "            stacked_layers = torch.stack(layers, dim=1)\n",
    "            #print(stacked_layers.shape)\n",
    "\n",
    "            average_embs = torch.mean(stacked_layers, dim=1)\n",
    "            #print(average_embs.shape)\n",
    "\n",
    "            result.append(average_embs)\n",
    "            i = i + bs\n",
    "            pbar.update(bs)\n",
    "    return torch.concat(result, dim=0)\n",
    "\n",
    "\n",
    "def get_sbertbased_results_batched(model, str_l, bs=256):\n",
    "    i = 0\n",
    "    result = []\n",
    "    pbar = tqdm(total=len(str_l))\n",
    "    while i < len(str_l):\n",
    "        batch = list(str_l[i:i+bs])\n",
    "        with torch.no_grad():\n",
    "            embeddings = model.encode(batch, convert_to_tensor=True)\n",
    "            result.append(embeddings.detach().cpu())\n",
    "            \n",
    "            i = i + bs\n",
    "            pbar.update(bs)\n",
    "    return torch.concat(result, dim=0)\n"
   ]
  },
  {
   "cell_type": "markdown",
   "id": "0df6379b",
   "metadata": {},
   "source": [
    "## word2vec"
   ]
  },
  {
   "cell_type": "markdown",
   "id": "1e493b95",
   "metadata": {},
   "source": [
    "### dataset with restriction"
   ]
  },
  {
   "cell_type": "code",
   "execution_count": 5,
   "id": "6c7e772c",
   "metadata": {},
   "outputs": [],
   "source": [
    "# w2v_test_ds_twitter, w2v_test_ds_twitter_rand, twitter_pi_dict = create_test_dataset(\n",
    "#     dataset='twitter',\n",
    "#     restrict_vocab_to_training=w2v_twitter_negsamp_model.wv.key_to_index,\n",
    "#     w2v=True\n",
    "# )\n",
    "\n",
    "# w2v_test_ds_wiki, w2v_test_ds_wiki_rand, wiki_pi_dict = create_test_dataset(\n",
    "#     dataset='wiki',\n",
    "#     restrict_vocab_to_training=w2v_wiki_negsamp_model.wv.key_to_index,\n",
    "#     w2v=True\n",
    "# )\n",
    "\n",
    "# dataset for fixed target\n",
    "fixed_target_twitter_w2v_ds = [(x[0], x[2]) for x in test_ds_twitter_target_restricted]\n",
    "fixed_target_wiki_w2v_ds = [(x[0], x[2]) for x in test_ds_wiki_target_restricted]"
   ]
  },
  {
   "cell_type": "markdown",
   "id": "3998362b",
   "metadata": {
    "heading_collapsed": true
   },
   "source": [
    "### measure metrics"
   ]
  },
  {
   "cell_type": "code",
   "execution_count": 6,
   "id": "6827008b",
   "metadata": {
    "hidden": true
   },
   "outputs": [
    {
     "name": "stderr",
     "output_type": "stream",
     "text": [
      "/projects/academic/kjoseph/navid/anaconda3/envs/py38/lib/python3.8/site-packages/huggingface_hub/snapshot_download.py:6: FutureWarning: snapshot_download.py has been made private and will no longer be available from version 0.11. Please use `from huggingface_hub import snapshot_download` to import the only public function in this module. Other members of the file may be changed without a deprecation notice.\n",
      "  warnings.warn(\n"
     ]
    },
    {
     "name": "stdout",
     "output_type": "stream",
     "text": [
      "CPU times: user 378 ms, sys: 126 ms, total: 503 ms\n",
      "Wall time: 9.83 s\n"
     ]
    }
   ],
   "source": [
    "%%time\n",
    "import torch\n",
    "from sentence_transformers import SentenceTransformer, models, util\n",
    "from tqdm import tqdm\n",
    "from torch.nn.functional import log_softmax\n",
    "\n",
    "\n",
    "\n",
    "def calculate_w2v_based_metrics(w2v_model, dataset, pi_dict, device='cpu', cosine_bs=512):\n",
    "    pi_list = list(pi_dict.keys())\n",
    "    X, ys = zip(*dataset)\n",
    "    \n",
    "    emb_x = torch.tensor([w2v_model.wv.get_mean_vector(x) for x in X], device=device)\n",
    "    emb_all = torch.tensor([w2v_model.wv.get_vector(x) for x in pi_list], device=device)\n",
    "    \n",
    "    print(\"calculating ranks...\")\n",
    "    \n",
    "    i = 0\n",
    "    pbar = tqdm(total=emb_x.shape[0])\n",
    "\n",
    "    target_ranks = []\n",
    "    softmax_scores = []\n",
    "    \n",
    "    while i < emb_x.shape[0]:\n",
    "        batch = emb_x[i:i+cosine_bs]\n",
    "        batch_y = ys[i:i+cosine_bs]\n",
    "        batch_cosine_scores = util.cos_sim(batch.to(device), emb_all.to(device))\n",
    "        batch_softmax = log_softmax(batch_cosine_scores, dim=1)\n",
    "#         print(torch.sum(batch_softmax, dim=1), torch.sum(batch_softmax, dim=1).shape)\n",
    "        ranks = torch.argsort(torch.argsort(batch_cosine_scores, dim=1, descending=True), dim=1)\n",
    "        target_idxs = torch.tensor([pi_dict[y] for y in batch_y], dtype=torch.int64, device=device)\n",
    "        \n",
    "        batch_target_ranks = torch.gather(ranks, 1, target_idxs.unsqueeze(1).reshape(-1,1)).type(torch.FloatTensor)\n",
    "        batch_target_scores = torch.gather(batch_softmax, 1, target_idxs.unsqueeze(1).reshape(-1,1)).type(torch.FloatTensor)\n",
    "        \n",
    "        target_ranks.append(batch_target_ranks)\n",
    "        softmax_scores.append(batch_target_scores)\n",
    "        \n",
    "        i += cosine_bs\n",
    "        pbar.update(cosine_bs)\n",
    "\n",
    "\n",
    "    target_ranks = torch.concat(target_ranks)\n",
    "    softmax_scores = torch.concat(softmax_scores)\n",
    "    \n",
    "#     print(softmax_scores)\n",
    "\n",
    "    avg_score = torch.mean(softmax_scores).item()\n",
    "    avg_rank = torch.mean(target_ranks).item()\n",
    "    top100_acc = len([r for r in target_ranks.reshape(1,-1).squeeze().tolist() if r < 100])/emb_x.shape[0]\n",
    "    del target_ranks\n",
    "    \n",
    "    print(avg_rank, top100_acc, avg_score)\n",
    "    return avg_rank, top100_acc, avg_score\n",
    "\n",
    "    "
   ]
  },
  {
   "cell_type": "markdown",
   "id": "3e1955f5",
   "metadata": {
    "heading_collapsed": true
   },
   "source": [
    "### compare different w2v models"
   ]
  },
  {
   "cell_type": "code",
   "execution_count": null,
   "id": "4cc58ed9",
   "metadata": {
    "hidden": true
   },
   "outputs": [],
   "source": [
    "%%time\n",
    "\n",
    "\n",
    "# twitterrand_w2v_cbow_avgrank, twitterrand_w2v_cbow_top100acc = calculate_w2v_based_metrics(\n",
    "#     w2v_model=w2v_twitter_cbow_model,\n",
    "#     dataset=w2v_test_ds_twitter_rand,\n",
    "#     pi_dict=twitter_pi_dict,\n",
    "# )\n",
    "\n",
    "# twitterrand_w2v_negsample_avgrank, twitterrand_w2v_negsample_top100acc = calculate_w2v_based_metrics(\n",
    "#     w2v_model=w2v_twitter_negsamp_model,\n",
    "#     dataset=w2v_test_ds_twitter_rand,\n",
    "#     pi_dict=twitter_pi_dict,\n",
    "# )\n",
    "\n",
    "# wikirand_w2v_cbow_avgrank, wikirand_w2v_cbow_top100acc = calculate_w2v_based_metrics(\n",
    "#     w2v_model=w2v_wiki_cbow_model,\n",
    "#     dataset=w2v_test_ds_wiki_rand,\n",
    "#     pi_dict=wiki_pi_dict,\n",
    "# )\n",
    "\n",
    "# wikirand_w2v_negsample_avgrank, wikirand_w2v_negsample_top100acc = calculate_w2v_based_metrics(\n",
    "#     w2v_model=w2v_wiki_negsamp_model,\n",
    "#     dataset=w2v_test_ds_wiki_rand,\n",
    "#     pi_dict=wiki_pi_dict,\n",
    "# )\n",
    "\n",
    "# twitter_w2v_cbow_avgrank, twitter_w2v_cbow_top100acc = calculate_w2v_based_metrics(\n",
    "#     w2v_model=w2v_twitter_cbow_model,\n",
    "#     dataset=w2v_test_ds_twitter,\n",
    "#     pi_dict=twitter_pi_dict,\n",
    "# )\n",
    "\n",
    "twitter_w2v_negsample_avgrank, twitter_w2v_negsample_top100acc = calculate_w2v_based_metrics(\n",
    "    w2v_model=w2v_twitter_negsamp_model,\n",
    "    dataset=w2v_test_ds_twitter,\n",
    "    pi_dict=twitter_pi_dict,\n",
    ")\n",
    "\n",
    "wiki_w2v_cbow_avgrank, wiki_w2v_cbow_top100acc = calculate_w2v_based_metrics(\n",
    "    w2v_model=w2v_wiki_cbow_model,\n",
    "    dataset=w2v_test_ds_wiki,\n",
    "    pi_dict=wiki_pi_dict,\n",
    ")\n",
    "\n",
    "# wiki_w2v_negsample_avgrank, wiki_w2v_negsample_top100acc = calculate_w2v_based_metrics(\n",
    "#     w2v_model=w2v_wiki_negsamp_model,\n",
    "#     dataset=w2v_test_ds_wiki,\n",
    "#     pi_dict=wiki_pi_dict,\n",
    "# )\n",
    "\n"
   ]
  },
  {
   "cell_type": "markdown",
   "id": "bcd2e20c",
   "metadata": {
    "heading_collapsed": true
   },
   "source": [
    "### run fixed target experiment"
   ]
  },
  {
   "cell_type": "code",
   "execution_count": 7,
   "id": "e4ff4470",
   "metadata": {
    "hidden": true
   },
   "outputs": [
    {
     "name": "stderr",
     "output_type": "stream",
     "text": [
      "<timed exec>:12: UserWarning: Creating a tensor from a list of numpy.ndarrays is extremely slow. Please consider converting the list to a single numpy.ndarray with numpy.array() before converting to a tensor. (Triggered internally at  /opt/conda/conda-bld/pytorch_1634272068694/work/torch/csrc/utils/tensor_new.cpp:201.)\n"
     ]
    },
    {
     "name": "stdout",
     "output_type": "stream",
     "text": [
      "calculating ranks...\n"
     ]
    },
    {
     "name": "stderr",
     "output_type": "stream",
     "text": [
      "2629000it [26:13, 2019.65it/s]                             "
     ]
    },
    {
     "name": "stdout",
     "output_type": "stream",
     "text": [
      "786.6355590820312 0.45882792492772073 -8.279070854187012\n"
     ]
    },
    {
     "name": "stderr",
     "output_type": "stream",
     "text": [
      "2629000it [26:14, 1669.96it/s]\n"
     ]
    },
    {
     "name": "stdout",
     "output_type": "stream",
     "text": [
      "calculating ranks...\n"
     ]
    },
    {
     "name": "stderr",
     "output_type": "stream",
     "text": [
      "161000it [01:25, 1872.37it/s]                            "
     ]
    },
    {
     "name": "stdout",
     "output_type": "stream",
     "text": [
      "433.3783874511719 0.5567884955091683 -7.998246192932129\n"
     ]
    },
    {
     "name": "stderr",
     "output_type": "stream",
     "text": [
      "\n"
     ]
    }
   ],
   "source": [
    "twitter_w2v_negsample_avgrank, twitter_w2v_negsample_top100acc, twitter_w2v_negsample_avgscore = calculate_w2v_based_metrics(\n",
    "    w2v_model=w2v_twitter_negsamp_model,\n",
    "    dataset=fixed_target_twitter_w2v_ds,\n",
    "    pi_dict=twitter_target_restricted_pis,\n",
    "    cosine_bs=1000\n",
    ")\n",
    "\n",
    "wiki_w2v_cbow_avgrank, wiki_w2v_cbow_top100acc, wiki_w2v_cbow_avgscore = calculate_w2v_based_metrics(\n",
    "    w2v_model=w2v_wiki_cbow_model,\n",
    "    dataset=fixed_target_wiki_w2v_ds,\n",
    "    pi_dict=wiki_target_restricted_pis,\n",
    "    cosine_bs=1000\n",
    ")"
   ]
  },
  {
   "cell_type": "markdown",
   "id": "898bf3e1",
   "metadata": {
    "heading_collapsed": true
   },
   "source": [
    "### visualize results"
   ]
  },
  {
   "cell_type": "code",
   "execution_count": 66,
   "id": "b6358d64",
   "metadata": {
    "hidden": true
   },
   "outputs": [
    {
     "data": {
      "image/png": "[encoded data removed]",
      "text/plain": [
       "<Figure size 432x288 with 1 Axes>"
      ]
     },
     "metadata": {},
     "output_type": "display_data"
    },
    {
     "data": {
      "image/png": "[encoded data removed]",
      "text/plain": [
       "<Figure size 432x288 with 1 Axes>"
      ]
     },
     "metadata": {},
     "output_type": "display_data"
    }
   ],
   "source": [
    "import seaborn as sns\n",
    "sns.set_theme()\n",
    "\n",
    "import matplotlib.pyplot as plt\n",
    "import pandas as pd\n",
    "\n",
    "df = pd.DataFrame({\n",
    "    'model': ['w2v_cbow', 'w2v_negsample', 'w2v_cbow', 'w2v_negsample',\n",
    "              'w2v_cbow', 'w2v_negsample', 'w2v_cbow', 'w2v_negsample'],\n",
    "    'dataset': ['twitter', 'wiki', 'wiki', 'twitter', 'twitter_rand', 'wiki_rand', 'wiki_rand', 'twitter_rand',],\n",
    "    'avg_rank': [twitter_w2v_cbow_avgrank, wiki_w2v_negsample_avgrank, wiki_w2v_cbow_avgrank,\n",
    "                 twitter_w2v_negsample_avgrank, twitterrand_w2v_cbow_avgrank, wikirand_w2v_negsample_avgrank, wikirand_w2v_cbow_avgrank,\n",
    "                 twitterrand_w2v_negsample_avgrank],\n",
    "    'top100_acc': [twitter_w2v_cbow_top100acc, wiki_w2v_negsample_top100acc, wiki_w2v_cbow_top100acc,\n",
    "                   twitter_w2v_negsample_top100acc, twitterrand_w2v_cbow_top100acc, wikirand_w2v_negsample_top100acc, wikirand_w2v_cbow_top100acc,\n",
    "                   twitterrand_w2v_negsample_top100acc],\n",
    "    \n",
    "})\n",
    "\n",
    "sns.barplot(data=df, x='model', y='top100_acc', hue='dataset')\n",
    "plt.show()\n",
    "\n",
    "sns.barplot(data=df, x='model', y='avg_rank', hue='dataset')\n",
    "plt.show()\n"
   ]
  },
  {
   "cell_type": "markdown",
   "id": "9f2c3e10",
   "metadata": {},
   "source": [
    "## Contextual LMs"
   ]
  },
  {
   "cell_type": "markdown",
   "id": "ea73d94c",
   "metadata": {},
   "source": [
    "### load datasets"
   ]
  },
  {
   "cell_type": "markdown",
   "id": "a1233075",
   "metadata": {
    "heading_collapsed": true
   },
   "source": [
    "#### restricted vocab datasets"
   ]
  },
  {
   "cell_type": "code",
   "execution_count": 17,
   "id": "f0862bd0",
   "metadata": {
    "hidden": true
   },
   "outputs": [
    {
     "name": "stdout",
     "output_type": "stream",
     "text": [
      "creating dataset for twitter:\n",
      "total test bios: 1546001\n",
      "total test bios after restriction: 692671\n",
      "total PIs: 4750\n",
      "creating dataset for wiki:\n",
      "total test bios: 66484\n",
      "total test bios after restriction: 61475\n",
      "total PIs: 3922\n"
     ]
    }
   ],
   "source": [
    "clm_test_ds_twitter, clm_test_ds_twitter_rand, twitter_pi_dict = create_test_dataset(\n",
    "    dataset='twitter',\n",
    "    restrict_vocab_to_training=w2v_twitter_negsamp_model.wv.key_to_index,\n",
    "    w2v=False\n",
    ")\n",
    "\n",
    "clm_test_ds_wiki, clm_test_ds_wiki_rand, wiki_pi_dict = create_test_dataset(\n",
    "    dataset='wiki',\n",
    "    restrict_vocab_to_training=w2v_wiki_negsamp_model.wv.key_to_index,\n",
    "    w2v=False\n",
    ")"
   ]
  },
  {
   "cell_type": "markdown",
   "id": "bf20f6db",
   "metadata": {
    "heading_collapsed": true
   },
   "source": [
    "#### full test dataset"
   ]
  },
  {
   "cell_type": "code",
   "execution_count": 3,
   "id": "9b8ddeec",
   "metadata": {
    "hidden": true
   },
   "outputs": [
    {
     "name": "stdout",
     "output_type": "stream",
     "text": [
      "creating dataset for twitter:\n",
      "total test bios: 1546001\n",
      "total test bios after restriction: 1546001\n",
      "total test bios after freq filter: 1001456\n",
      "total PIs: 49688\n",
      "creating dataset for wiki:\n",
      "total test bios: 66484\n",
      "total test bios after restriction: 66484\n",
      "total PIs: 15290\n"
     ]
    }
   ],
   "source": [
    "clm_test_ds_full_twitter, _, twitter_pi_dict_full = create_test_dataset(\n",
    "    dataset='twitter',\n",
    "    restrict_vocab_to_training=None,\n",
    "    w2v=False,\n",
    "    filter_th=10\n",
    ")\n",
    "\n",
    "clm_test_ds_full_wiki, _, wiki_pi_dict_full = create_test_dataset(\n",
    "    dataset='wiki',\n",
    "    restrict_vocab_to_training=None,\n",
    "    w2v=False,\n",
    "    filter_th=None\n",
    ")"
   ]
  },
  {
   "cell_type": "markdown",
   "id": "3ec71e70",
   "metadata": {},
   "source": [
    "#### target restricted dataset"
   ]
  },
  {
   "cell_type": "code",
   "execution_count": 37,
   "id": "8018081d",
   "metadata": {},
   "outputs": [],
   "source": [
    "fixed_target_twitter_clm_ds = [(x[1], x[2]) for x in test_ds_twitter_target_restricted]\n",
    "fixed_target_wiki_clm_ds = [(x[1], x[2]) for x in test_ds_wiki_target_restricted]"
   ]
  },
  {
   "cell_type": "markdown",
   "id": "2250f05f",
   "metadata": {},
   "source": [
    "### load different models"
   ]
  },
  {
   "cell_type": "markdown",
   "id": "d67138a2",
   "metadata": {},
   "source": [
    "#### load BERT"
   ]
  },
  {
   "cell_type": "code",
   "execution_count": 6,
   "id": "b52fb567",
   "metadata": {},
   "outputs": [
    {
     "name": "stderr",
     "output_type": "stream",
     "text": [
      "Some weights of the model checkpoint at bert-base-uncased were not used when initializing BertModel: ['cls.predictions.transform.dense.bias', 'cls.predictions.transform.LayerNorm.bias', 'cls.predictions.bias', 'cls.seq_relationship.weight', 'cls.seq_relationship.bias', 'cls.predictions.transform.LayerNorm.weight', 'cls.predictions.transform.dense.weight', 'cls.predictions.decoder.weight']\n",
      "- This IS expected if you are initializing BertModel from the checkpoint of a model trained on another task or with another architecture (e.g. initializing a BertForSequenceClassification model from a BertForPreTraining model).\n",
      "- This IS NOT expected if you are initializing BertModel from the checkpoint of a model that you expect to be exactly identical (initializing a BertForSequenceClassification model from a BertForSequenceClassification model).\n"
     ]
    },
    {
     "data": {
      "text/plain": [
       "BertModel(\n",
       "  (embeddings): BertEmbeddings(\n",
       "    (word_embeddings): Embedding(30522, 768, padding_idx=0)\n",
       "    (position_embeddings): Embedding(512, 768)\n",
       "    (token_type_embeddings): Embedding(2, 768)\n",
       "    (LayerNorm): LayerNorm((768,), eps=1e-12, elementwise_affine=True)\n",
       "    (dropout): Dropout(p=0.1, inplace=False)\n",
       "  )\n",
       "  (encoder): BertEncoder(\n",
       "    (layer): ModuleList(\n",
       "      (0): BertLayer(\n",
       "        (attention): BertAttention(\n",
       "          (self): BertSelfAttention(\n",
       "            (query): Linear(in_features=768, out_features=768, bias=True)\n",
       "            (key): Linear(in_features=768, out_features=768, bias=True)\n",
       "            (value): Linear(in_features=768, out_features=768, bias=True)\n",
       "            (dropout): Dropout(p=0.1, inplace=False)\n",
       "          )\n",
       "          (output): BertSelfOutput(\n",
       "            (dense): Linear(in_features=768, out_features=768, bias=True)\n",
       "            (LayerNorm): LayerNorm((768,), eps=1e-12, elementwise_affine=True)\n",
       "            (dropout): Dropout(p=0.1, inplace=False)\n",
       "          )\n",
       "        )\n",
       "        (intermediate): BertIntermediate(\n",
       "          (dense): Linear(in_features=768, out_features=3072, bias=True)\n",
       "          (intermediate_act_fn): GELUActivation()\n",
       "        )\n",
       "        (output): BertOutput(\n",
       "          (dense): Linear(in_features=3072, out_features=768, bias=True)\n",
       "          (LayerNorm): LayerNorm((768,), eps=1e-12, elementwise_affine=True)\n",
       "          (dropout): Dropout(p=0.1, inplace=False)\n",
       "        )\n",
       "      )\n",
       "      (1): BertLayer(\n",
       "        (attention): BertAttention(\n",
       "          (self): BertSelfAttention(\n",
       "            (query): Linear(in_features=768, out_features=768, bias=True)\n",
       "            (key): Linear(in_features=768, out_features=768, bias=True)\n",
       "            (value): Linear(in_features=768, out_features=768, bias=True)\n",
       "            (dropout): Dropout(p=0.1, inplace=False)\n",
       "          )\n",
       "          (output): BertSelfOutput(\n",
       "            (dense): Linear(in_features=768, out_features=768, bias=True)\n",
       "            (LayerNorm): LayerNorm((768,), eps=1e-12, elementwise_affine=True)\n",
       "            (dropout): Dropout(p=0.1, inplace=False)\n",
       "          )\n",
       "        )\n",
       "        (intermediate): BertIntermediate(\n",
       "          (dense): Linear(in_features=768, out_features=3072, bias=True)\n",
       "          (intermediate_act_fn): GELUActivation()\n",
       "        )\n",
       "        (output): BertOutput(\n",
       "          (dense): Linear(in_features=3072, out_features=768, bias=True)\n",
       "          (LayerNorm): LayerNorm((768,), eps=1e-12, elementwise_affine=True)\n",
       "          (dropout): Dropout(p=0.1, inplace=False)\n",
       "        )\n",
       "      )\n",
       "      (2): BertLayer(\n",
       "        (attention): BertAttention(\n",
       "          (self): BertSelfAttention(\n",
       "            (query): Linear(in_features=768, out_features=768, bias=True)\n",
       "            (key): Linear(in_features=768, out_features=768, bias=True)\n",
       "            (value): Linear(in_features=768, out_features=768, bias=True)\n",
       "            (dropout): Dropout(p=0.1, inplace=False)\n",
       "          )\n",
       "          (output): BertSelfOutput(\n",
       "            (dense): Linear(in_features=768, out_features=768, bias=True)\n",
       "            (LayerNorm): LayerNorm((768,), eps=1e-12, elementwise_affine=True)\n",
       "            (dropout): Dropout(p=0.1, inplace=False)\n",
       "          )\n",
       "        )\n",
       "        (intermediate): BertIntermediate(\n",
       "          (dense): Linear(in_features=768, out_features=3072, bias=True)\n",
       "          (intermediate_act_fn): GELUActivation()\n",
       "        )\n",
       "        (output): BertOutput(\n",
       "          (dense): Linear(in_features=3072, out_features=768, bias=True)\n",
       "          (LayerNorm): LayerNorm((768,), eps=1e-12, elementwise_affine=True)\n",
       "          (dropout): Dropout(p=0.1, inplace=False)\n",
       "        )\n",
       "      )\n",
       "      (3): BertLayer(\n",
       "        (attention): BertAttention(\n",
       "          (self): BertSelfAttention(\n",
       "            (query): Linear(in_features=768, out_features=768, bias=True)\n",
       "            (key): Linear(in_features=768, out_features=768, bias=True)\n",
       "            (value): Linear(in_features=768, out_features=768, bias=True)\n",
       "            (dropout): Dropout(p=0.1, inplace=False)\n",
       "          )\n",
       "          (output): BertSelfOutput(\n",
       "            (dense): Linear(in_features=768, out_features=768, bias=True)\n",
       "            (LayerNorm): LayerNorm((768,), eps=1e-12, elementwise_affine=True)\n",
       "            (dropout): Dropout(p=0.1, inplace=False)\n",
       "          )\n",
       "        )\n",
       "        (intermediate): BertIntermediate(\n",
       "          (dense): Linear(in_features=768, out_features=3072, bias=True)\n",
       "          (intermediate_act_fn): GELUActivation()\n",
       "        )\n",
       "        (output): BertOutput(\n",
       "          (dense): Linear(in_features=3072, out_features=768, bias=True)\n",
       "          (LayerNorm): LayerNorm((768,), eps=1e-12, elementwise_affine=True)\n",
       "          (dropout): Dropout(p=0.1, inplace=False)\n",
       "        )\n",
       "      )\n",
       "      (4): BertLayer(\n",
       "        (attention): BertAttention(\n",
       "          (self): BertSelfAttention(\n",
       "            (query): Linear(in_features=768, out_features=768, bias=True)\n",
       "            (key): Linear(in_features=768, out_features=768, bias=True)\n",
       "            (value): Linear(in_features=768, out_features=768, bias=True)\n",
       "            (dropout): Dropout(p=0.1, inplace=False)\n",
       "          )\n",
       "          (output): BertSelfOutput(\n",
       "            (dense): Linear(in_features=768, out_features=768, bias=True)\n",
       "            (LayerNorm): LayerNorm((768,), eps=1e-12, elementwise_affine=True)\n",
       "            (dropout): Dropout(p=0.1, inplace=False)\n",
       "          )\n",
       "        )\n",
       "        (intermediate): BertIntermediate(\n",
       "          (dense): Linear(in_features=768, out_features=3072, bias=True)\n",
       "          (intermediate_act_fn): GELUActivation()\n",
       "        )\n",
       "        (output): BertOutput(\n",
       "          (dense): Linear(in_features=3072, out_features=768, bias=True)\n",
       "          (LayerNorm): LayerNorm((768,), eps=1e-12, elementwise_affine=True)\n",
       "          (dropout): Dropout(p=0.1, inplace=False)\n",
       "        )\n",
       "      )\n",
       "      (5): BertLayer(\n",
       "        (attention): BertAttention(\n",
       "          (self): BertSelfAttention(\n",
       "            (query): Linear(in_features=768, out_features=768, bias=True)\n",
       "            (key): Linear(in_features=768, out_features=768, bias=True)\n",
       "            (value): Linear(in_features=768, out_features=768, bias=True)\n",
       "            (dropout): Dropout(p=0.1, inplace=False)\n",
       "          )\n",
       "          (output): BertSelfOutput(\n",
       "            (dense): Linear(in_features=768, out_features=768, bias=True)\n",
       "            (LayerNorm): LayerNorm((768,), eps=1e-12, elementwise_affine=True)\n",
       "            (dropout): Dropout(p=0.1, inplace=False)\n",
       "          )\n",
       "        )\n",
       "        (intermediate): BertIntermediate(\n",
       "          (dense): Linear(in_features=768, out_features=3072, bias=True)\n",
       "          (intermediate_act_fn): GELUActivation()\n",
       "        )\n",
       "        (output): BertOutput(\n",
       "          (dense): Linear(in_features=3072, out_features=768, bias=True)\n",
       "          (LayerNorm): LayerNorm((768,), eps=1e-12, elementwise_affine=True)\n",
       "          (dropout): Dropout(p=0.1, inplace=False)\n",
       "        )\n",
       "      )\n",
       "      (6): BertLayer(\n",
       "        (attention): BertAttention(\n",
       "          (self): BertSelfAttention(\n",
       "            (query): Linear(in_features=768, out_features=768, bias=True)\n",
       "            (key): Linear(in_features=768, out_features=768, bias=True)\n",
       "            (value): Linear(in_features=768, out_features=768, bias=True)\n",
       "            (dropout): Dropout(p=0.1, inplace=False)\n",
       "          )\n",
       "          (output): BertSelfOutput(\n",
       "            (dense): Linear(in_features=768, out_features=768, bias=True)\n",
       "            (LayerNorm): LayerNorm((768,), eps=1e-12, elementwise_affine=True)\n",
       "            (dropout): Dropout(p=0.1, inplace=False)\n",
       "          )\n",
       "        )\n",
       "        (intermediate): BertIntermediate(\n",
       "          (dense): Linear(in_features=768, out_features=3072, bias=True)\n",
       "          (intermediate_act_fn): GELUActivation()\n",
       "        )\n",
       "        (output): BertOutput(\n",
       "          (dense): Linear(in_features=3072, out_features=768, bias=True)\n",
       "          (LayerNorm): LayerNorm((768,), eps=1e-12, elementwise_affine=True)\n",
       "          (dropout): Dropout(p=0.1, inplace=False)\n",
       "        )\n",
       "      )\n",
       "      (7): BertLayer(\n",
       "        (attention): BertAttention(\n",
       "          (self): BertSelfAttention(\n",
       "            (query): Linear(in_features=768, out_features=768, bias=True)\n",
       "            (key): Linear(in_features=768, out_features=768, bias=True)\n",
       "            (value): Linear(in_features=768, out_features=768, bias=True)\n",
       "            (dropout): Dropout(p=0.1, inplace=False)\n",
       "          )\n",
       "          (output): BertSelfOutput(\n",
       "            (dense): Linear(in_features=768, out_features=768, bias=True)\n",
       "            (LayerNorm): LayerNorm((768,), eps=1e-12, elementwise_affine=True)\n",
       "            (dropout): Dropout(p=0.1, inplace=False)\n",
       "          )\n",
       "        )\n",
       "        (intermediate): BertIntermediate(\n",
       "          (dense): Linear(in_features=768, out_features=3072, bias=True)\n",
       "          (intermediate_act_fn): GELUActivation()\n",
       "        )\n",
       "        (output): BertOutput(\n",
       "          (dense): Linear(in_features=3072, out_features=768, bias=True)\n",
       "          (LayerNorm): LayerNorm((768,), eps=1e-12, elementwise_affine=True)\n",
       "          (dropout): Dropout(p=0.1, inplace=False)\n",
       "        )\n",
       "      )\n",
       "      (8): BertLayer(\n",
       "        (attention): BertAttention(\n",
       "          (self): BertSelfAttention(\n",
       "            (query): Linear(in_features=768, out_features=768, bias=True)\n",
       "            (key): Linear(in_features=768, out_features=768, bias=True)\n",
       "            (value): Linear(in_features=768, out_features=768, bias=True)\n",
       "            (dropout): Dropout(p=0.1, inplace=False)\n",
       "          )\n",
       "          (output): BertSelfOutput(\n",
       "            (dense): Linear(in_features=768, out_features=768, bias=True)\n",
       "            (LayerNorm): LayerNorm((768,), eps=1e-12, elementwise_affine=True)\n",
       "            (dropout): Dropout(p=0.1, inplace=False)\n",
       "          )\n",
       "        )\n",
       "        (intermediate): BertIntermediate(\n",
       "          (dense): Linear(in_features=768, out_features=3072, bias=True)\n",
       "          (intermediate_act_fn): GELUActivation()\n",
       "        )\n",
       "        (output): BertOutput(\n",
       "          (dense): Linear(in_features=3072, out_features=768, bias=True)\n",
       "          (LayerNorm): LayerNorm((768,), eps=1e-12, elementwise_affine=True)\n",
       "          (dropout): Dropout(p=0.1, inplace=False)\n",
       "        )\n",
       "      )\n",
       "      (9): BertLayer(\n",
       "        (attention): BertAttention(\n",
       "          (self): BertSelfAttention(\n",
       "            (query): Linear(in_features=768, out_features=768, bias=True)\n",
       "            (key): Linear(in_features=768, out_features=768, bias=True)\n",
       "            (value): Linear(in_features=768, out_features=768, bias=True)\n",
       "            (dropout): Dropout(p=0.1, inplace=False)\n",
       "          )\n",
       "          (output): BertSelfOutput(\n",
       "            (dense): Linear(in_features=768, out_features=768, bias=True)\n",
       "            (LayerNorm): LayerNorm((768,), eps=1e-12, elementwise_affine=True)\n",
       "            (dropout): Dropout(p=0.1, inplace=False)\n",
       "          )\n",
       "        )\n",
       "        (intermediate): BertIntermediate(\n",
       "          (dense): Linear(in_features=768, out_features=3072, bias=True)\n",
       "          (intermediate_act_fn): GELUActivation()\n",
       "        )\n",
       "        (output): BertOutput(\n",
       "          (dense): Linear(in_features=3072, out_features=768, bias=True)\n",
       "          (LayerNorm): LayerNorm((768,), eps=1e-12, elementwise_affine=True)\n",
       "          (dropout): Dropout(p=0.1, inplace=False)\n",
       "        )\n",
       "      )\n",
       "      (10): BertLayer(\n",
       "        (attention): BertAttention(\n",
       "          (self): BertSelfAttention(\n",
       "            (query): Linear(in_features=768, out_features=768, bias=True)\n",
       "            (key): Linear(in_features=768, out_features=768, bias=True)\n",
       "            (value): Linear(in_features=768, out_features=768, bias=True)\n",
       "            (dropout): Dropout(p=0.1, inplace=False)\n",
       "          )\n",
       "          (output): BertSelfOutput(\n",
       "            (dense): Linear(in_features=768, out_features=768, bias=True)\n",
       "            (LayerNorm): LayerNorm((768,), eps=1e-12, elementwise_affine=True)\n",
       "            (dropout): Dropout(p=0.1, inplace=False)\n",
       "          )\n",
       "        )\n",
       "        (intermediate): BertIntermediate(\n",
       "          (dense): Linear(in_features=768, out_features=3072, bias=True)\n",
       "          (intermediate_act_fn): GELUActivation()\n",
       "        )\n",
       "        (output): BertOutput(\n",
       "          (dense): Linear(in_features=3072, out_features=768, bias=True)\n",
       "          (LayerNorm): LayerNorm((768,), eps=1e-12, elementwise_affine=True)\n",
       "          (dropout): Dropout(p=0.1, inplace=False)\n",
       "        )\n",
       "      )\n",
       "      (11): BertLayer(\n",
       "        (attention): BertAttention(\n",
       "          (self): BertSelfAttention(\n",
       "            (query): Linear(in_features=768, out_features=768, bias=True)\n",
       "            (key): Linear(in_features=768, out_features=768, bias=True)\n",
       "            (value): Linear(in_features=768, out_features=768, bias=True)\n",
       "            (dropout): Dropout(p=0.1, inplace=False)\n",
       "          )\n",
       "          (output): BertSelfOutput(\n",
       "            (dense): Linear(in_features=768, out_features=768, bias=True)\n",
       "            (LayerNorm): LayerNorm((768,), eps=1e-12, elementwise_affine=True)\n",
       "            (dropout): Dropout(p=0.1, inplace=False)\n",
       "          )\n",
       "        )\n",
       "        (intermediate): BertIntermediate(\n",
       "          (dense): Linear(in_features=768, out_features=3072, bias=True)\n",
       "          (intermediate_act_fn): GELUActivation()\n",
       "        )\n",
       "        (output): BertOutput(\n",
       "          (dense): Linear(in_features=3072, out_features=768, bias=True)\n",
       "          (LayerNorm): LayerNorm((768,), eps=1e-12, elementwise_affine=True)\n",
       "          (dropout): Dropout(p=0.1, inplace=False)\n",
       "        )\n",
       "      )\n",
       "    )\n",
       "  )\n",
       "  (pooler): BertPooler(\n",
       "    (dense): Linear(in_features=768, out_features=768, bias=True)\n",
       "    (activation): Tanh()\n",
       "  )\n",
       ")"
      ]
     },
     "execution_count": 6,
     "metadata": {},
     "output_type": "execute_result"
    }
   ],
   "source": [
    "from transformers import BertTokenizer, BertModel, BertConfig\n",
    "import torch\n",
    "\n",
    "device = 'cuda:1'\n",
    "\n",
    "config = BertConfig.from_pretrained(\"bert-base-uncased\", output_hidden_states=True)\n",
    "bert_tokenizer = BertTokenizer.from_pretrained(\"bert-base-uncased\")\n",
    "bert_model = BertModel.from_pretrained(\"bert-base-uncased\", config=config)\n",
    "bert_model = bert_model.to(device)\n",
    "bert_model.eval()"
   ]
  },
  {
   "cell_type": "markdown",
   "id": "2ff3ebae",
   "metadata": {},
   "source": [
    "#### load BerTweet"
   ]
  },
  {
   "cell_type": "code",
   "execution_count": 7,
   "id": "8c1fe106",
   "metadata": {},
   "outputs": [
    {
     "name": "stderr",
     "output_type": "stream",
     "text": [
      "/projects/academic/kjoseph/navid/anaconda3/envs/py38/lib/python3.8/site-packages/huggingface_hub/snapshot_download.py:6: FutureWarning: snapshot_download.py has been made private and will no longer be available from version 0.11. Please use `from huggingface_hub import snapshot_download` to import the only public function in this module. Other members of the file may be changed without a deprecation notice.\n",
      "  warnings.warn(\n",
      "Some weights of the model checkpoint at vinai/bertweet-base were not used when initializing RobertaModel: ['lm_head.dense.bias', 'lm_head.layer_norm.bias', 'lm_head.decoder.weight', 'lm_head.dense.weight', 'lm_head.bias', 'lm_head.decoder.bias', 'lm_head.layer_norm.weight']\n",
      "- This IS expected if you are initializing RobertaModel from the checkpoint of a model trained on another task or with another architecture (e.g. initializing a BertForSequenceClassification model from a BertForPreTraining model).\n",
      "- This IS NOT expected if you are initializing RobertaModel from the checkpoint of a model that you expect to be exactly identical (initializing a BertForSequenceClassification model from a BertForSequenceClassification model).\n",
      "Special tokens have been added in the vocabulary, make sure the associated word embeddings are fine-tuned or trained.\n"
     ]
    },
    {
     "name": "stdout",
     "output_type": "stream",
     "text": [
      "CPU times: user 2.19 s, sys: 299 ms, total: 2.49 s\n",
      "Wall time: 3.86 s\n"
     ]
    },
    {
     "data": {
      "text/plain": [
       "RobertaModel(\n",
       "  (embeddings): RobertaEmbeddings(\n",
       "    (word_embeddings): Embedding(64001, 768, padding_idx=1)\n",
       "    (position_embeddings): Embedding(130, 768, padding_idx=1)\n",
       "    (token_type_embeddings): Embedding(1, 768)\n",
       "    (LayerNorm): LayerNorm((768,), eps=1e-05, elementwise_affine=True)\n",
       "    (dropout): Dropout(p=0.1, inplace=False)\n",
       "  )\n",
       "  (encoder): RobertaEncoder(\n",
       "    (layer): ModuleList(\n",
       "      (0): RobertaLayer(\n",
       "        (attention): RobertaAttention(\n",
       "          (self): RobertaSelfAttention(\n",
       "            (query): Linear(in_features=768, out_features=768, bias=True)\n",
       "            (key): Linear(in_features=768, out_features=768, bias=True)\n",
       "            (value): Linear(in_features=768, out_features=768, bias=True)\n",
       "            (dropout): Dropout(p=0.1, inplace=False)\n",
       "          )\n",
       "          (output): RobertaSelfOutput(\n",
       "            (dense): Linear(in_features=768, out_features=768, bias=True)\n",
       "            (LayerNorm): LayerNorm((768,), eps=1e-05, elementwise_affine=True)\n",
       "            (dropout): Dropout(p=0.1, inplace=False)\n",
       "          )\n",
       "        )\n",
       "        (intermediate): RobertaIntermediate(\n",
       "          (dense): Linear(in_features=768, out_features=3072, bias=True)\n",
       "          (intermediate_act_fn): GELUActivation()\n",
       "        )\n",
       "        (output): RobertaOutput(\n",
       "          (dense): Linear(in_features=3072, out_features=768, bias=True)\n",
       "          (LayerNorm): LayerNorm((768,), eps=1e-05, elementwise_affine=True)\n",
       "          (dropout): Dropout(p=0.1, inplace=False)\n",
       "        )\n",
       "      )\n",
       "      (1): RobertaLayer(\n",
       "        (attention): RobertaAttention(\n",
       "          (self): RobertaSelfAttention(\n",
       "            (query): Linear(in_features=768, out_features=768, bias=True)\n",
       "            (key): Linear(in_features=768, out_features=768, bias=True)\n",
       "            (value): Linear(in_features=768, out_features=768, bias=True)\n",
       "            (dropout): Dropout(p=0.1, inplace=False)\n",
       "          )\n",
       "          (output): RobertaSelfOutput(\n",
       "            (dense): Linear(in_features=768, out_features=768, bias=True)\n",
       "            (LayerNorm): LayerNorm((768,), eps=1e-05, elementwise_affine=True)\n",
       "            (dropout): Dropout(p=0.1, inplace=False)\n",
       "          )\n",
       "        )\n",
       "        (intermediate): RobertaIntermediate(\n",
       "          (dense): Linear(in_features=768, out_features=3072, bias=True)\n",
       "          (intermediate_act_fn): GELUActivation()\n",
       "        )\n",
       "        (output): RobertaOutput(\n",
       "          (dense): Linear(in_features=3072, out_features=768, bias=True)\n",
       "          (LayerNorm): LayerNorm((768,), eps=1e-05, elementwise_affine=True)\n",
       "          (dropout): Dropout(p=0.1, inplace=False)\n",
       "        )\n",
       "      )\n",
       "      (2): RobertaLayer(\n",
       "        (attention): RobertaAttention(\n",
       "          (self): RobertaSelfAttention(\n",
       "            (query): Linear(in_features=768, out_features=768, bias=True)\n",
       "            (key): Linear(in_features=768, out_features=768, bias=True)\n",
       "            (value): Linear(in_features=768, out_features=768, bias=True)\n",
       "            (dropout): Dropout(p=0.1, inplace=False)\n",
       "          )\n",
       "          (output): RobertaSelfOutput(\n",
       "            (dense): Linear(in_features=768, out_features=768, bias=True)\n",
       "            (LayerNorm): LayerNorm((768,), eps=1e-05, elementwise_affine=True)\n",
       "            (dropout): Dropout(p=0.1, inplace=False)\n",
       "          )\n",
       "        )\n",
       "        (intermediate): RobertaIntermediate(\n",
       "          (dense): Linear(in_features=768, out_features=3072, bias=True)\n",
       "          (intermediate_act_fn): GELUActivation()\n",
       "        )\n",
       "        (output): RobertaOutput(\n",
       "          (dense): Linear(in_features=3072, out_features=768, bias=True)\n",
       "          (LayerNorm): LayerNorm((768,), eps=1e-05, elementwise_affine=True)\n",
       "          (dropout): Dropout(p=0.1, inplace=False)\n",
       "        )\n",
       "      )\n",
       "      (3): RobertaLayer(\n",
       "        (attention): RobertaAttention(\n",
       "          (self): RobertaSelfAttention(\n",
       "            (query): Linear(in_features=768, out_features=768, bias=True)\n",
       "            (key): Linear(in_features=768, out_features=768, bias=True)\n",
       "            (value): Linear(in_features=768, out_features=768, bias=True)\n",
       "            (dropout): Dropout(p=0.1, inplace=False)\n",
       "          )\n",
       "          (output): RobertaSelfOutput(\n",
       "            (dense): Linear(in_features=768, out_features=768, bias=True)\n",
       "            (LayerNorm): LayerNorm((768,), eps=1e-05, elementwise_affine=True)\n",
       "            (dropout): Dropout(p=0.1, inplace=False)\n",
       "          )\n",
       "        )\n",
       "        (intermediate): RobertaIntermediate(\n",
       "          (dense): Linear(in_features=768, out_features=3072, bias=True)\n",
       "          (intermediate_act_fn): GELUActivation()\n",
       "        )\n",
       "        (output): RobertaOutput(\n",
       "          (dense): Linear(in_features=3072, out_features=768, bias=True)\n",
       "          (LayerNorm): LayerNorm((768,), eps=1e-05, elementwise_affine=True)\n",
       "          (dropout): Dropout(p=0.1, inplace=False)\n",
       "        )\n",
       "      )\n",
       "      (4): RobertaLayer(\n",
       "        (attention): RobertaAttention(\n",
       "          (self): RobertaSelfAttention(\n",
       "            (query): Linear(in_features=768, out_features=768, bias=True)\n",
       "            (key): Linear(in_features=768, out_features=768, bias=True)\n",
       "            (value): Linear(in_features=768, out_features=768, bias=True)\n",
       "            (dropout): Dropout(p=0.1, inplace=False)\n",
       "          )\n",
       "          (output): RobertaSelfOutput(\n",
       "            (dense): Linear(in_features=768, out_features=768, bias=True)\n",
       "            (LayerNorm): LayerNorm((768,), eps=1e-05, elementwise_affine=True)\n",
       "            (dropout): Dropout(p=0.1, inplace=False)\n",
       "          )\n",
       "        )\n",
       "        (intermediate): RobertaIntermediate(\n",
       "          (dense): Linear(in_features=768, out_features=3072, bias=True)\n",
       "          (intermediate_act_fn): GELUActivation()\n",
       "        )\n",
       "        (output): RobertaOutput(\n",
       "          (dense): Linear(in_features=3072, out_features=768, bias=True)\n",
       "          (LayerNorm): LayerNorm((768,), eps=1e-05, elementwise_affine=True)\n",
       "          (dropout): Dropout(p=0.1, inplace=False)\n",
       "        )\n",
       "      )\n",
       "      (5): RobertaLayer(\n",
       "        (attention): RobertaAttention(\n",
       "          (self): RobertaSelfAttention(\n",
       "            (query): Linear(in_features=768, out_features=768, bias=True)\n",
       "            (key): Linear(in_features=768, out_features=768, bias=True)\n",
       "            (value): Linear(in_features=768, out_features=768, bias=True)\n",
       "            (dropout): Dropout(p=0.1, inplace=False)\n",
       "          )\n",
       "          (output): RobertaSelfOutput(\n",
       "            (dense): Linear(in_features=768, out_features=768, bias=True)\n",
       "            (LayerNorm): LayerNorm((768,), eps=1e-05, elementwise_affine=True)\n",
       "            (dropout): Dropout(p=0.1, inplace=False)\n",
       "          )\n",
       "        )\n",
       "        (intermediate): RobertaIntermediate(\n",
       "          (dense): Linear(in_features=768, out_features=3072, bias=True)\n",
       "          (intermediate_act_fn): GELUActivation()\n",
       "        )\n",
       "        (output): RobertaOutput(\n",
       "          (dense): Linear(in_features=3072, out_features=768, bias=True)\n",
       "          (LayerNorm): LayerNorm((768,), eps=1e-05, elementwise_affine=True)\n",
       "          (dropout): Dropout(p=0.1, inplace=False)\n",
       "        )\n",
       "      )\n",
       "      (6): RobertaLayer(\n",
       "        (attention): RobertaAttention(\n",
       "          (self): RobertaSelfAttention(\n",
       "            (query): Linear(in_features=768, out_features=768, bias=True)\n",
       "            (key): Linear(in_features=768, out_features=768, bias=True)\n",
       "            (value): Linear(in_features=768, out_features=768, bias=True)\n",
       "            (dropout): Dropout(p=0.1, inplace=False)\n",
       "          )\n",
       "          (output): RobertaSelfOutput(\n",
       "            (dense): Linear(in_features=768, out_features=768, bias=True)\n",
       "            (LayerNorm): LayerNorm((768,), eps=1e-05, elementwise_affine=True)\n",
       "            (dropout): Dropout(p=0.1, inplace=False)\n",
       "          )\n",
       "        )\n",
       "        (intermediate): RobertaIntermediate(\n",
       "          (dense): Linear(in_features=768, out_features=3072, bias=True)\n",
       "          (intermediate_act_fn): GELUActivation()\n",
       "        )\n",
       "        (output): RobertaOutput(\n",
       "          (dense): Linear(in_features=3072, out_features=768, bias=True)\n",
       "          (LayerNorm): LayerNorm((768,), eps=1e-05, elementwise_affine=True)\n",
       "          (dropout): Dropout(p=0.1, inplace=False)\n",
       "        )\n",
       "      )\n",
       "      (7): RobertaLayer(\n",
       "        (attention): RobertaAttention(\n",
       "          (self): RobertaSelfAttention(\n",
       "            (query): Linear(in_features=768, out_features=768, bias=True)\n",
       "            (key): Linear(in_features=768, out_features=768, bias=True)\n",
       "            (value): Linear(in_features=768, out_features=768, bias=True)\n",
       "            (dropout): Dropout(p=0.1, inplace=False)\n",
       "          )\n",
       "          (output): RobertaSelfOutput(\n",
       "            (dense): Linear(in_features=768, out_features=768, bias=True)\n",
       "            (LayerNorm): LayerNorm((768,), eps=1e-05, elementwise_affine=True)\n",
       "            (dropout): Dropout(p=0.1, inplace=False)\n",
       "          )\n",
       "        )\n",
       "        (intermediate): RobertaIntermediate(\n",
       "          (dense): Linear(in_features=768, out_features=3072, bias=True)\n",
       "          (intermediate_act_fn): GELUActivation()\n",
       "        )\n",
       "        (output): RobertaOutput(\n",
       "          (dense): Linear(in_features=3072, out_features=768, bias=True)\n",
       "          (LayerNorm): LayerNorm((768,), eps=1e-05, elementwise_affine=True)\n",
       "          (dropout): Dropout(p=0.1, inplace=False)\n",
       "        )\n",
       "      )\n",
       "      (8): RobertaLayer(\n",
       "        (attention): RobertaAttention(\n",
       "          (self): RobertaSelfAttention(\n",
       "            (query): Linear(in_features=768, out_features=768, bias=True)\n",
       "            (key): Linear(in_features=768, out_features=768, bias=True)\n",
       "            (value): Linear(in_features=768, out_features=768, bias=True)\n",
       "            (dropout): Dropout(p=0.1, inplace=False)\n",
       "          )\n",
       "          (output): RobertaSelfOutput(\n",
       "            (dense): Linear(in_features=768, out_features=768, bias=True)\n",
       "            (LayerNorm): LayerNorm((768,), eps=1e-05, elementwise_affine=True)\n",
       "            (dropout): Dropout(p=0.1, inplace=False)\n",
       "          )\n",
       "        )\n",
       "        (intermediate): RobertaIntermediate(\n",
       "          (dense): Linear(in_features=768, out_features=3072, bias=True)\n",
       "          (intermediate_act_fn): GELUActivation()\n",
       "        )\n",
       "        (output): RobertaOutput(\n",
       "          (dense): Linear(in_features=3072, out_features=768, bias=True)\n",
       "          (LayerNorm): LayerNorm((768,), eps=1e-05, elementwise_affine=True)\n",
       "          (dropout): Dropout(p=0.1, inplace=False)\n",
       "        )\n",
       "      )\n",
       "      (9): RobertaLayer(\n",
       "        (attention): RobertaAttention(\n",
       "          (self): RobertaSelfAttention(\n",
       "            (query): Linear(in_features=768, out_features=768, bias=True)\n",
       "            (key): Linear(in_features=768, out_features=768, bias=True)\n",
       "            (value): Linear(in_features=768, out_features=768, bias=True)\n",
       "            (dropout): Dropout(p=0.1, inplace=False)\n",
       "          )\n",
       "          (output): RobertaSelfOutput(\n",
       "            (dense): Linear(in_features=768, out_features=768, bias=True)\n",
       "            (LayerNorm): LayerNorm((768,), eps=1e-05, elementwise_affine=True)\n",
       "            (dropout): Dropout(p=0.1, inplace=False)\n",
       "          )\n",
       "        )\n",
       "        (intermediate): RobertaIntermediate(\n",
       "          (dense): Linear(in_features=768, out_features=3072, bias=True)\n",
       "          (intermediate_act_fn): GELUActivation()\n",
       "        )\n",
       "        (output): RobertaOutput(\n",
       "          (dense): Linear(in_features=3072, out_features=768, bias=True)\n",
       "          (LayerNorm): LayerNorm((768,), eps=1e-05, elementwise_affine=True)\n",
       "          (dropout): Dropout(p=0.1, inplace=False)\n",
       "        )\n",
       "      )\n",
       "      (10): RobertaLayer(\n",
       "        (attention): RobertaAttention(\n",
       "          (self): RobertaSelfAttention(\n",
       "            (query): Linear(in_features=768, out_features=768, bias=True)\n",
       "            (key): Linear(in_features=768, out_features=768, bias=True)\n",
       "            (value): Linear(in_features=768, out_features=768, bias=True)\n",
       "            (dropout): Dropout(p=0.1, inplace=False)\n",
       "          )\n",
       "          (output): RobertaSelfOutput(\n",
       "            (dense): Linear(in_features=768, out_features=768, bias=True)\n",
       "            (LayerNorm): LayerNorm((768,), eps=1e-05, elementwise_affine=True)\n",
       "            (dropout): Dropout(p=0.1, inplace=False)\n",
       "          )\n",
       "        )\n",
       "        (intermediate): RobertaIntermediate(\n",
       "          (dense): Linear(in_features=768, out_features=3072, bias=True)\n",
       "          (intermediate_act_fn): GELUActivation()\n",
       "        )\n",
       "        (output): RobertaOutput(\n",
       "          (dense): Linear(in_features=3072, out_features=768, bias=True)\n",
       "          (LayerNorm): LayerNorm((768,), eps=1e-05, elementwise_affine=True)\n",
       "          (dropout): Dropout(p=0.1, inplace=False)\n",
       "        )\n",
       "      )\n",
       "      (11): RobertaLayer(\n",
       "        (attention): RobertaAttention(\n",
       "          (self): RobertaSelfAttention(\n",
       "            (query): Linear(in_features=768, out_features=768, bias=True)\n",
       "            (key): Linear(in_features=768, out_features=768, bias=True)\n",
       "            (value): Linear(in_features=768, out_features=768, bias=True)\n",
       "            (dropout): Dropout(p=0.1, inplace=False)\n",
       "          )\n",
       "          (output): RobertaSelfOutput(\n",
       "            (dense): Linear(in_features=768, out_features=768, bias=True)\n",
       "            (LayerNorm): LayerNorm((768,), eps=1e-05, elementwise_affine=True)\n",
       "            (dropout): Dropout(p=0.1, inplace=False)\n",
       "          )\n",
       "        )\n",
       "        (intermediate): RobertaIntermediate(\n",
       "          (dense): Linear(in_features=768, out_features=3072, bias=True)\n",
       "          (intermediate_act_fn): GELUActivation()\n",
       "        )\n",
       "        (output): RobertaOutput(\n",
       "          (dense): Linear(in_features=3072, out_features=768, bias=True)\n",
       "          (LayerNorm): LayerNorm((768,), eps=1e-05, elementwise_affine=True)\n",
       "          (dropout): Dropout(p=0.1, inplace=False)\n",
       "        )\n",
       "      )\n",
       "    )\n",
       "  )\n",
       "  (pooler): RobertaPooler(\n",
       "    (dense): Linear(in_features=768, out_features=768, bias=True)\n",
       "    (activation): Tanh()\n",
       "  )\n",
       ")"
      ]
     },
     "execution_count": 7,
     "metadata": {},
     "output_type": "execute_result"
    }
   ],
   "source": [
    "%%time\n",
    "\n",
    "from sentence_transformers import SentenceTransformer, models, util\n",
    "from transformers import AutoTokenizer, AutoModel\n",
    "\n",
    "\n",
    "device = 'cuda:1'\n",
    "bertweet_model = AutoModel.from_pretrained(\"vinai/bertweet-base\")\n",
    "bertweet_tokenizer = AutoTokenizer.from_pretrained(\"vinai/bertweet-base\", use_fast=False)\n",
    "\n",
    "bertweet_model = bertweet_model.to(device)\n",
    "bertweet_model.eval()"
   ]
  },
  {
   "cell_type": "markdown",
   "id": "113917c4",
   "metadata": {},
   "source": [
    "#### load sentenceBERT"
   ]
  },
  {
   "cell_type": "code",
   "execution_count": 8,
   "id": "f532a1fe",
   "metadata": {},
   "outputs": [
    {
     "name": "stderr",
     "output_type": "stream",
     "text": [
      "/projects/academic/kjoseph/navid/anaconda3/envs/py38/lib/python3.8/site-packages/huggingface_hub/file_download.py:588: FutureWarning: `cached_download` is the legacy way to download files from the HF hub, please consider upgrading to `hf_hub_download`\n",
      "  warnings.warn(\n"
     ]
    },
    {
     "name": "stdout",
     "output_type": "stream",
     "text": [
      "CPU times: user 1.27 s, sys: 20.7 ms, total: 1.29 s\n",
      "Wall time: 1.46 s\n"
     ]
    },
    {
     "data": {
      "text/plain": [
       "SentenceTransformer(\n",
       "  (0): Transformer({'max_seq_length': 256, 'do_lower_case': False}) with Transformer model: BertModel \n",
       "  (1): Pooling({'word_embedding_dimension': 384, 'pooling_mode_cls_token': False, 'pooling_mode_mean_tokens': True, 'pooling_mode_max_tokens': False, 'pooling_mode_mean_sqrt_len_tokens': False})\n",
       "  (2): Normalize()\n",
       ")"
      ]
     },
     "execution_count": 8,
     "metadata": {},
     "output_type": "execute_result"
    }
   ],
   "source": [
    "%%time\n",
    "\n",
    "from sentence_transformers import SentenceTransformer, models, util\n",
    "from transformers import AutoTokenizer, AutoModel\n",
    "\n",
    "device = 'cuda:1'\n",
    "\n",
    "sbert_model = SentenceTransformer('all-MiniLM-L6-v2', device=device)\n",
    "sbert_model.eval()\n"
   ]
  },
  {
   "cell_type": "markdown",
   "id": "371ed213",
   "metadata": {},
   "source": [
    "#### load sentenceBERT fine-tuned"
   ]
  },
  {
   "cell_type": "code",
   "execution_count": 9,
   "id": "15e18e05",
   "metadata": {},
   "outputs": [
    {
     "name": "stdout",
     "output_type": "stream",
     "text": [
      "CPU times: user 922 ms, sys: 52.2 ms, total: 974 ms\n",
      "Wall time: 2.73 s\n"
     ]
    },
    {
     "data": {
      "text/plain": [
       "SentenceTransformer(\n",
       "  (0): Transformer({'max_seq_length': 256, 'do_lower_case': False}) with Transformer model: BertModel \n",
       "  (1): Pooling({'word_embedding_dimension': 384, 'pooling_mode_cls_token': False, 'pooling_mode_mean_tokens': True, 'pooling_mode_max_tokens': False, 'pooling_mode_mean_sqrt_len_tokens': False})\n",
       "  (2): Normalize()\n",
       "  (3): Dense({'in_features': 384, 'out_features': 256, 'bias': True, 'activation_function': 'torch.nn.modules.activation.Tanh'})\n",
       ")"
      ]
     },
     "execution_count": 9,
     "metadata": {},
     "output_type": "execute_result"
    }
   ],
   "source": [
    "%%time\n",
    "\n",
    "from sentence_transformers import SentenceTransformer, models, util\n",
    "from transformers import AutoTokenizer, AutoModel\n",
    "\n",
    "\n",
    "device = 'cuda:1'\n",
    "twitter_ft_sbert = SentenceTransformer('./models/miniLM-L6-twitter-out256/', device=device)\n",
    "twitter_ft_sbert.eval()\n",
    "\n",
    "wiki_ft_sbert = SentenceTransformer('./models/miniLM-L6-wiki-out256/', device=device)\n",
    "wiki_ft_sbert.eval()\n"
   ]
  },
  {
   "cell_type": "markdown",
   "id": "da0033ab",
   "metadata": {},
   "source": [
    "## projection model "
   ]
  },
  {
   "cell_type": "markdown",
   "id": "84ac109d",
   "metadata": {
    "heading_collapsed": true
   },
   "source": [
    "### define dimensions"
   ]
  },
  {
   "cell_type": "code",
   "execution_count": 10,
   "id": "b6eb2ffc",
   "metadata": {
    "hidden": true
   },
   "outputs": [],
   "source": [
    "measures = [{\n",
    "    \"names\": ['bad', 'good'],\n",
    "    \"group\": \"evaluation\",\n",
    "    \"sets\": [['bad', 'awful'], ['good', 'nice']],\n",
    "    \"paper\": \"this_short\",\n",
    "    \"is_paired\": True\n",
    "}, {\n",
    "    \"group\":\n",
    "    \"evaluation\",\n",
    "    \"names\": ['bad', 'good'],\n",
    "    \"sets\": [['bad', 'awful', 'negative', 'terrible', 'worse', 'horrible'],\n",
    "             ['good', 'nice', 'positive', 'great', 'better', 'awesome']],\n",
    "    \"paper\":\n",
    "    \"this_long\",\n",
    "    \"is_paired\":\n",
    "    True\n",
    "}, {\n",
    "    \"group\": \"potency\",\n",
    "    \"names\": ['weak', 'strong'],\n",
    "    \"sets\": [['powerless', 'little'], ['powerful', 'big']],\n",
    "    \"paper\": \"this_short\",\n",
    "    \"is_paired\": True\n",
    "}, {\n",
    "    \"group\":\n",
    "    \"potency\",\n",
    "    \"names\": ['weak', 'strong'],\n",
    "    \"sets\": [['powerless', 'little', 'weak', 'impotent', 'dominant'],\n",
    "             ['powerful', 'big', 'strong', 'potent', 'feeble']],\n",
    "    \"paper\":\n",
    "    \"this_long\",\n",
    "    \"is_paired\":\n",
    "    True\n",
    "}, {\n",
    "    \"group\":\n",
    "    \"activity\",\n",
    "    \"names\": ['inactive', 'active'],\n",
    "    \"sets\": [['slow', 'quiet', 'inactive'], ['fast', 'noisy', 'active']],\n",
    "    \"paper\":\n",
    "    \"this_short\",\n",
    "    \"is_paired\":\n",
    "    True\n",
    "}, {\n",
    "    \"group\":\n",
    "    \"activity\",\n",
    "    \"names\": ['inactive', 'active'],\n",
    "    \"sets\": [['slow', 'quiet', 'inactive', 'dead', 'die', 'stopped'],\n",
    "             ['fast', 'noisy', 'active', 'alive', 'live', 'moving']],\n",
    "    \"paper\":\n",
    "    \"this_long\",\n",
    "    \"is_paired\":\n",
    "    True\n",
    "}, {\n",
    "    \"group\": \"age\",\n",
    "    \"names\": ['young', 'old'],\n",
    "    \"sets\": [['young'], ['old']],\n",
    "    \"paper\": \"this_short\",\n",
    "    \"is_paired\": True\n",
    "}, {\n",
    "    \"group\":\n",
    "    \"age\",\n",
    "    \"names\": ['young', 'old'],\n",
    "    \"sets\": [['young', 'new', 'youthful', 'young'],\n",
    "             ['old', 'old', 'elderly', 'aged']],\n",
    "    \"paper\":\n",
    "    \"this_long\",\n",
    "    \"is_paired\":\n",
    "    True\n",
    "}, {\n",
    "    \"group\": \"gender\",\n",
    "    \"names\": ['woman', 'man'],\n",
    "    \"sets\": [['female'], ['male']],\n",
    "    \"paper\": \"this_short\",\n",
    "    \"is_paired\": True\n",
    "}, {\n",
    "    \"group\": \"gender\",\n",
    "    \"names\": ['woman', 'man'],\n",
    "    \"sets\": [['she'], ['he']],\n",
    "    \"paper\": \"gonen\",\n",
    "    \"is_paired\": True\n",
    "}, {\n",
    "    \"group\":\n",
    "    \"gender\",\n",
    "    \"names\": ['woman', 'man'],\n",
    "    \"sets\": [[\n",
    "        'woman', 'girl', 'she', 'mother', 'daughter', 'gal', 'female', 'her',\n",
    "        'herself', 'Mary'\n",
    "    ],\n",
    "             [\n",
    "                 'man', 'boy', 'he', 'father', 'son', 'guy', 'male', 'his',\n",
    "                 'himself', 'John'\n",
    "             ]],\n",
    "    \"paper\":\n",
    "    \"bolukbasi_words\",\n",
    "    \"is_paired\":\n",
    "    True\n",
    "}, {\n",
    "    \"group\":\n",
    "    \"gender\",\n",
    "    \"names\": ['woman', 'man'],\n",
    "    \"sets\":\n",
    "    [['amy', 'joan', 'lisa', 'sarah', 'diana', 'kate', 'ann', 'donna'],\n",
    "     ['john', 'paul', 'mike', 'kevin', 'steve', 'greg', 'jeff', 'bill']],\n",
    "    \"paper\":\n",
    "    \"bolukbasi_names\",\n",
    "    \"is_paired\":\n",
    "    True\n",
    "}, {\n",
    "    \"group\":\n",
    "    \"gender\",\n",
    "    \"names\": ['woman', 'man'],\n",
    "    \"sets\": [[\n",
    "        'woman', 'women', 'she', 'her', 'her', 'hers', 'girl', 'girls',\n",
    "        'female', 'feminine'\n",
    "    ],\n",
    "             [\n",
    "                 'man', 'men', 'he', 'him', 'his', 'his', 'boy', 'boys',\n",
    "                 'male', 'masculine'\n",
    "             ]],\n",
    "    \"paper\":\n",
    "    \"kozlowski\",\n",
    "    \"is_paired\":\n",
    "    True\n",
    "}]\n",
    "\n",
    "institutions = [\n",
    "    'family', 'politics', 'justice', 'medicine', 'business', 'education',\n",
    "    'religion'\n",
    "]\n",
    "race_ethnicities = ['white', 'latino', 'asian', 'middle eastern', 'black']\n",
    "\n",
    "measures += [{\n",
    "    \"sets\": [[x] for x in institutions],\n",
    "    \"names\": institutions,\n",
    "    \"group\": \"instituiton\",\n",
    "    \"paper\": \"this_short\",\n",
    "    \"is_paired\": False\n",
    "}, {\n",
    "    \"sets\": [[\n",
    "        'family', 'kinsperson', 'household', 'kinfolk', 'home', 'kinsfolk',\n",
    "        'kin'\n",
    "    ], ['politics', 'government', 'political'],\n",
    "             ['justice', 'law', 'legal', 'illegal'],\n",
    "             ['medicine', 'medical', 'prescription', 'medication'],\n",
    "             [\n",
    "                 'business', 'job', 'profession', 'career', 'employment',\n",
    "                 'occupation', 'clientele'\n",
    "             ],\n",
    "             ['education', 'school', 'university', 'instruction', 'teaching'],\n",
    "             ['religion', 'faith', 'worship']],\n",
    "    \"names\":\n",
    "    institutions,\n",
    "    \"group\":\n",
    "    \"instituiton\",\n",
    "    \"paper\":\n",
    "    \"this_long\",\n",
    "    \"is_paired\":\n",
    "    False\n",
    "}, {\n",
    "    \"sets\": [['white', 'White'], ['hispanic', 'Hispanic', 'latino', 'Latino'],\n",
    "             ['asian', 'Asian'], ['arab', 'Arab'], ['black', 'Black']],\n",
    "    \"names\":\n",
    "    race_ethnicities,\n",
    "    \"group\":\n",
    "    \"race_ethnicity\",\n",
    "    \"paper\":\n",
    "    \"this_short\",\n",
    "    \"is_paired\":\n",
    "    False\n",
    "}, {\n",
    "    \"sets\":\n",
    "    [['white', 'whites', 'White', 'Whites', 'European', 'Caucasian', 'Anglo'],\n",
    "     [\n",
    "         'hispanic', 'hispanics', 'Hispanic', 'Hispanics', 'Mexican', 'Latino',\n",
    "         'Hispanic'\n",
    "     ],\n",
    "     ['asian', 'asians', 'Asian', 'Asians', 'Chinese', 'Japanese', 'Korean'],\n",
    "     ['arab', 'arabs', 'Arab', 'Arabs', 'Muslim', 'Muslim', 'Muslim'],\n",
    "     ['black', 'blacks', 'Black', 'Blacks', 'African', 'African', 'Afro']],\n",
    "    \"names\":\n",
    "    race_ethnicities,\n",
    "    \"group\":\n",
    "    \"race_ethnicity\",\n",
    "    \"paper\":\n",
    "    \"koslowski\",\n",
    "    \"is_paired\":\n",
    "    False\n",
    "}, {\n",
    "    \"sets\": [['white', 'whites', 'european', 'caucasian', 'anglo'],\n",
    "             ['hispanic', 'hispanics', 'mexican', 'latino', 'hispanic'],\n",
    "             ['asian', 'asians', 'chinese', 'japanese', 'korean'],\n",
    "             ['arab', 'arabs', 'muslims', 'muslim', 'arab'],\n",
    "             ['black', 'blacks', 'african', 'african', 'afro']],\n",
    "    \"names\":\n",
    "    race_ethnicities,\n",
    "    \"group\":\n",
    "    \"race_ethnicity\",\n",
    "    \"paper\":\n",
    "    \"koslowski_lowercase\",\n",
    "    \"is_paired\":\n",
    "    False\n",
    "}, {\n",
    "    \"sets\":\n",
    "    [['white', 'whites', 'White', 'Whites', 'European', 'Caucasian', 'Anglo'],\n",
    "     [\n",
    "         'hispanic', 'hispanics', 'Hispanic', 'Hispanics', 'Mexican', 'latino',\n",
    "         'latinos', 'latina', 'latinas', 'Latino', 'Latinos', 'Latina',\n",
    "         'Latinas'\n",
    "     ],\n",
    "     ['asian', 'asians', 'Asian', 'Asians', 'Chinese', 'Japanese', 'Korean'],\n",
    "     [\n",
    "         'arab', 'arabs', 'Arab', 'Arabs', 'Muslim', 'Muslims', 'Muslim',\n",
    "         'Muslims'\n",
    "     ], [\n",
    "         'black',\n",
    "         'blacks',\n",
    "         'Black',\n",
    "         'Blacks',\n",
    "         'African',\n",
    "         'African',\n",
    "     ]],\n",
    "    \"names\":\n",
    "    race_ethnicities,\n",
    "    \"group\":\n",
    "    \"race_ethnicity\",\n",
    "    \"paper\":\n",
    "    \"this_long\",\n",
    "    \"is_paired\":\n",
    "    False\n",
    "}]\n",
    "\n",
    "measures += [{\n",
    "    \"group\":\n",
    "    \"openness\",\n",
    "    \"names\": ['open', 'closed'],\n",
    "    \"sets\": [[\n",
    "        \"intelligent\", \"perceptive\", \"analytical\", \"reflective\", \"curious\",\n",
    "        \"imaginative\", \"creative\", \"cultured\", \"refined\", \"sophisticated\"\n",
    "    ],\n",
    "             [\n",
    "                 \"unintelligent\", \"imperceptive\", \"unanalytical\",\n",
    "                 \"unreflective\", \"uninquisitive\", \"unimaginative\",\n",
    "                 \"uncreative\", \"uncultured\", \"unrefined\", \"unsophisticated\"\n",
    "             ]],\n",
    "    \"paper\":\n",
    "    \"agarwal\",\n",
    "    \"is_paired\":\n",
    "    True\n",
    "}, {\n",
    "    \"group\":\n",
    "    \"conscientiousness\",\n",
    "    \"names\": ['conscientious', 'unconscientious'],\n",
    "    \"sets\": [\n",
    "        [\n",
    "            \"organized\", \"responsible\", \"reliable\", \"conscientious\",\n",
    "            \"practical\", \"thorough\", \"hardworking\", \"thrifty\", \"cautious\",\n",
    "            \"serious\"\n",
    "        ],\n",
    "        [\n",
    "            \"disorganized\", \"irresponsible\", \"undependable\", \"negligent\",\n",
    "            \"impractical\", \"careless\", \"lazy\", \"extravagant\", \"rash\",\n",
    "            \"frivolous\"\n",
    "        ],\n",
    "    ],\n",
    "    \"paper\":\n",
    "    \"agarwal\",\n",
    "    \"is_paired\":\n",
    "    True\n",
    "}, {\n",
    "    \"group\":\n",
    "    \"extroversion\",\n",
    "    \"names\": ['extroverted', 'introverted'],\n",
    "    \"sets\": [\n",
    "        [\n",
    "            \"extroverted\", \"energetic\", \"talkative\", \"enthusiastic\", \"bold\",\n",
    "            \"active\", \"spontaneous\", \"assertive\", \"adventurous\", \"sociable\"\n",
    "        ],\n",
    "        [\n",
    "            \"introverted\", \"unenergetic\", \"silent\", \"unenthusiastic\", \"timid\",\n",
    "            \"inactive\", \"inhibited\", \"unassertive\", \"unadventurous\",\n",
    "            \"unsociable\"\n",
    "        ],\n",
    "    ],\n",
    "    \"paper\":\n",
    "    \"agarwal\",\n",
    "    \"is_paired\":\n",
    "    True\n",
    "}, {\n",
    "    \"group\":\n",
    "    \"agreeableness\",\n",
    "    \"names\": ['agreeable', 'unagreeable'],\n",
    "    \"sets\": [\n",
    "        [\n",
    "            \"warm\", \"kind\", \"cooperative\", \"unselfish\", \"polite\", \"agreeable\",\n",
    "            \"trustful\", \"generous\", \"flexible\", \"fair\"\n",
    "        ],\n",
    "        [\n",
    "            \"cold\", \"unkind\", \"uncooperative\", \"selfish\", \"rude\",\n",
    "            \"disagreeable\", \"distrustful\", \"stingy\", \"inflexible\", \"unfair\"\n",
    "        ],\n",
    "    ],\n",
    "    \"paper\":\n",
    "    \"agarwal\",\n",
    "    \"is_paired\":\n",
    "    True\n",
    "}, {\n",
    "    \"group\":\n",
    "    \"neuroticism\",\n",
    "    \"names\": ['neurotic', 'calm'],\n",
    "    \"sets\": [\n",
    "        [\n",
    "            \"angry\", \"tense\", \"nervous\", \"envious\", \"unstable\", \"discontented\",\n",
    "            \"insecure\", \"emotional\", \"guilt-ridden\", \"moody\"\n",
    "        ],\n",
    "        [\n",
    "            \"calm\", \"relaxed\", \"at ease\", \"not envious\", \"stable\", \"contended\",\n",
    "            \"secure\", \"unemotional\", \"guilt-free\", \"steady\"\n",
    "        ],\n",
    "    ],\n",
    "    \"paper\":\n",
    "    \"agarwal\",\n",
    "    \"is_paired\":\n",
    "    True\n",
    "}]\n",
    "\n",
    "measures += [{\n",
    "    \"group\":\n",
    "    \"cultivation\",\n",
    "    \"names\": ['uncultivated', 'cultivated'],\n",
    "    \"sets\": [[\n",
    "        'uncultivated', 'uncultured', 'uncivilized', 'discourteous',\n",
    "        'improper', 'rude', 'uncordial', 'informal', 'uncourtly', 'boorish',\n",
    "        'unpolished', 'unrefined', 'incivility', 'uncivil', 'boorishness',\n",
    "        'rudeness', 'loutish', 'unmannerly', 'gruff', 'ungracious',\n",
    "        'unobliging', 'uncultured', 'ungenteel', 'unmannered', 'blunt'\n",
    "    ],\n",
    "             [\n",
    "                 'cultivated', 'cultured', 'civilized', 'courteous', 'proper',\n",
    "                 'polite', 'cordial', 'formal', 'courtly', 'urbane',\n",
    "                 'polished', 'refined', 'civility', 'civil', 'urbanity',\n",
    "                 'politesse', 'edified', 'mannerly', 'polished', 'gracious',\n",
    "                 'obliging', 'cultured', 'genteel', 'mannered', 'polite'\n",
    "             ]],\n",
    "    \"paper\":\n",
    "    \"kozlowski\",\n",
    "    \"is_paired\":\n",
    "    True\n",
    "}, {\n",
    "    \"group\":\n",
    "    \"employment\",\n",
    "    \"names\": ['employee', 'employer'],\n",
    "    \"sets\": [[\n",
    "        'employee', 'employees', 'worker', 'worker', 'laborer', 'laborers',\n",
    "        'employee', 'employees', 'proletarian', 'proletariat', 'staff',\n",
    "        'staff', 'employee', 'employees', 'worker', 'workers', 'laborer',\n",
    "        'laborers', 'staff', 'staff'\n",
    "    ],\n",
    "             [\n",
    "                 'employer', 'employers', 'owner', 'owners', 'industrialist',\n",
    "                 'industrialists', 'proprietor', 'proprietors', 'capitalist',\n",
    "                 'capitalists', 'manager', 'managers', 'director', 'directors',\n",
    "                 'boss', 'bosses', 'foreman', 'foremen', 'supervisor',\n",
    "                 'superintendent'\n",
    "             ]],\n",
    "    \"paper\":\n",
    "    \"kozlowski\",\n",
    "    \"is_paired\":\n",
    "    True\n",
    "}, {\n",
    "    \"group\":\n",
    "    \"education\",\n",
    "    \"names\": ['uneducated', 'educated'],\n",
    "    \"sets\": [[\n",
    "        'uneducated', 'unlearned', 'ignorant', 'untrained', 'untaught',\n",
    "        'illiterate', 'unschooled', 'untutored', 'unlettered'\n",
    "    ],\n",
    "             [\n",
    "                 'educated', 'learned', 'knowledgeable', 'trained', 'taught',\n",
    "                 'literate', 'schooled', 'tutored', 'lettered'\n",
    "             ]],\n",
    "    \"paper\":\n",
    "    \"kozlowski\",\n",
    "    \"is_paired\":\n",
    "    True\n",
    "}, {\n",
    "    \"group\":\n",
    "    \"status\",\n",
    "    \"names\": ['low_status', 'high_status'],\n",
    "    \"sets\": [[\n",
    "        'unprestigious', 'dishonorable', 'lowly', 'uninfluential',\n",
    "        'disreputable', 'commonplace', 'mundane', 'humble', 'prosaic',\n",
    "        'modest', 'commoner', 'unpretentious', 'ordinary', 'lowly', 'common'\n",
    "    ],\n",
    "             [\n",
    "                 'prestigious', 'honorable', 'esteemed', 'influential',\n",
    "                 'reputable', 'distinguished', 'eminent', 'illustrious',\n",
    "                 'renowned', 'acclaimed', 'dignitary', 'venerable', 'exalted',\n",
    "                 'estimable', 'prominent'\n",
    "             ]],\n",
    "    \"paper\":\n",
    "    \"kozlowski\",\n",
    "    \"is_paired\":\n",
    "    True\n",
    "}, {\n",
    "    \"group\":\n",
    "    \"morality\",\n",
    "    \"names\": ['immoral', 'moral'],\n",
    "    \"sets\": [[\n",
    "        'evil', 'immoral', 'bad', 'dishonest', 'sinful', 'vice', 'wicked',\n",
    "        'transgressive', 'unprincipled', 'questionable', 'nefarious',\n",
    "        'corrupt', 'unscrupulous', 'selfish', 'knavish', 'crooked',\n",
    "        'reprehensible', 'impure', 'undignified', 'unholy', 'fiendish',\n",
    "        'villainous', 'guilty', 'indecent', 'unsavory', 'odious', 'unethical'\n",
    "    ],\n",
    "             [\n",
    "                 'good', 'moral', 'good', 'honest', 'virtuous', 'virtue',\n",
    "                 'righteous', 'chaste', 'principled', 'unquestionable',\n",
    "                 'noble', 'uncorrupt', 'scrupulous', 'altruistic',\n",
    "                 'chivalrous', 'honest', 'commendable', 'pure', 'dignified',\n",
    "                 'holy', 'valiant', 'upstanding', 'guiltless', 'decent',\n",
    "                 'chaste', 'righteous', 'ethical'\n",
    "             ]],\n",
    "    \"paper\":\n",
    "    \"kozlowski\",\n",
    "    \"is_paired\":\n",
    "    True\n",
    "}, {\n",
    "    \"group\":\n",
    "    \"affluence\",\n",
    "    \"names\": ['poor', 'rich'],\n",
    "    \"sets\": [[\n",
    "        'poor', 'poorer', 'poorest', 'poverty', 'destitute', 'needy',\n",
    "        'impoverished', 'economical', 'impecunious', 'inexpensive', 'ruined',\n",
    "        'necessitous', 'skint', 'cheap', 'economical', 'penurious',\n",
    "        'threadbare', 'cheap', 'unmonied', 'indigent', 'threadbare',\n",
    "        'penurious', 'cheap', 'worthless', 'underprivileged', 'bankrupt',\n",
    "        'unprosperous', 'underdeveloped', 'insolvency', 'unsuccessful',\n",
    "        'plain', 'basic', 'disadvantaged', 'squalid', 'valueless', 'beggarly',\n",
    "        'ramshackle', 'indigence', 'insolvent', 'moneyless', 'penniless',\n",
    "        'penury', 'plain', 'indigence'\n",
    "    ],\n",
    "             [\n",
    "                 'rich', 'richer', 'richest', 'affluence', 'affluent',\n",
    "                 'advantaged', 'wealthy', 'costly', 'exorbitant', 'expensive',\n",
    "                 'exquisite', 'extravagant', 'flush', 'invaluable', 'lavish',\n",
    "                 'luxuriant', 'luxurious', 'luxury', 'moneyed', 'opulent',\n",
    "                 'plush', 'luxuriant', 'precious', 'priceless', 'privileged',\n",
    "                 'propertied', 'prosperous', 'developed', 'solvency',\n",
    "                 'successful', 'sumptuous', 'swanky', 'thriving', 'upscale',\n",
    "                 'valuable', 'classy', 'ritzy', 'opulence', 'solvent',\n",
    "                 'moneyed', 'rich', 'affluence', 'posh', 'opulence'\n",
    "             ]],\n",
    "    \"paper\":\n",
    "    \"kozlowski\",\n",
    "    \"is_paired\":\n",
    "    True\n",
    "}]\n",
    "\n",
    "measures.append({\n",
    "    \"group\":\n",
    "    \"gender\",\n",
    "    \"names\": ['woman', 'man'],\n",
    "    \"sets\": [[\n",
    "        \"she\", \"daughter\", \"hers\", \"her\", \"mother\", \"woman\", \"girl\", \"herself\",\n",
    "        \"female\", \"sister\", \"daughters\", \"mothers\", \"women\", \"girls\", \"femen\",\n",
    "        \"sisters\", \"aunt\", \"aunts\", \"niece\", \"nieces\"\n",
    "    ],\n",
    "             [\n",
    "                 \"he\", \"son\", \"his\", \"him\", \"father\", \"man\", \"boy\", \"himself\",\n",
    "                 \"male\", \"brother\", \"sons\", \"fathers\", \"men\", \"boys\", \"males\",\n",
    "                 \"brothers\", \"uncle\", \"uncles\", \"nephew\", \"nephews\"\n",
    "             ]],\n",
    "    \"paper\":\n",
    "    \"garg\",\n",
    "    \"is_paired\":\n",
    "    True\n",
    "})"
   ]
  },
  {
   "cell_type": "markdown",
   "id": "e036bf16",
   "metadata": {},
   "source": [
    "### get poles"
   ]
  },
  {
   "cell_type": "code",
   "execution_count": 11,
   "id": "035c5ac6",
   "metadata": {},
   "outputs": [
    {
     "data": {
      "text/plain": [
       "(18,\n",
       " [['terrible', 'horrible', 'bad', 'negative', 'worse', 'awful'],\n",
       "  ['awesome', 'good', 'better', 'positive', 'nice', 'great']])"
      ]
     },
     "execution_count": 11,
     "metadata": {},
     "output_type": "execute_result"
    }
   ],
   "source": [
    "dims = {}\n",
    "for m in measures:\n",
    "    if m['group'] in dims:\n",
    "        dims[m['group']][0].extend(m['sets'][0])\n",
    "        dims[m['group']][1].extend(m['sets'][1])\n",
    "    else:\n",
    "        dims[m['group']] = [m['sets'][0], m['sets'][1]]\n",
    "        \n",
    "for g, p in dims.items():\n",
    "    p[0] = list(set(p[0]))\n",
    "    p[1] = list(set(p[1]))\n",
    "    \n",
    "len(dims), dims['evaluation']"
   ]
  },
  {
   "cell_type": "markdown",
   "id": "ad935f51",
   "metadata": {},
   "source": [
    "### generate embeddings"
   ]
  },
  {
   "cell_type": "code",
   "execution_count": 47,
   "id": "afdb272d",
   "metadata": {},
   "outputs": [],
   "source": [
    "from numpy import linalg as LA\n",
    "import numpy as np\n",
    "\n",
    "\n",
    "def normalize(wv):\n",
    "    # normalize vectors\n",
    "    norms = np.apply_along_axis(LA.norm, 1, wv)\n",
    "    wv = wv / (norms[:, np.newaxis]+1e-6)\n",
    "    return wv\n",
    "\n",
    "\n",
    "def ripa(w, b):\n",
    "    return w.dot(b)/LA.norm(b)\n",
    "\n",
    "\n",
    "def normalize_dict(wv_dict):\n",
    "    norm_voc = {}\n",
    "    embs = []\n",
    "    words = []\n",
    "    for w, e in wv_dict.items():\n",
    "        embs.append(e)\n",
    "        words.append(w)\n",
    "    embs = normalize(np.array(embs))\n",
    "    \n",
    "    for w, e in zip(words, embs):\n",
    "        norm_voc[w] = e\n",
    "    \n",
    "    return norm_voc\n",
    "\n",
    "def get_contextual_emb(model, word_list, w2v, tokenizer):\n",
    "    if w2v:\n",
    "        return model.wv.get_mean_vector(word_list)\n",
    "    \n",
    "    ctxt = ','.join(word_list)\n",
    "    if tokenizer is None:        \n",
    "        res = get_sbertbased_results_batched(model, [ctxt,], bs=512).numpy()\n",
    "    else:\n",
    "        res = get_results_batched(model, tokenizer, [ctxt,], average_k_layers=3, bs=512).numpy()\n",
    "        \n",
    "    return res[0]\n",
    "        \n",
    "\n",
    "def get_proj_embeddings(model, vocab_set, w2v=True, tokenizer=None):\n",
    "    pole_voc = {}\n",
    "    \n",
    "    print(\"getting pole embeddings\")\n",
    "    for group, poles in dims.items():\n",
    "        pole_voc[group] = get_contextual_emb(model, poles[0], w2v, tokenizer) -\\\n",
    "                                get_contextual_emb(model, poles[1], w2v, tokenizer)\n",
    "    \n",
    "    print(\"getting contextual embeddings\")\n",
    "    pi_embs = {}\n",
    "    if w2v:\n",
    "        bios = []\n",
    "        # each vocab is the whole bio\n",
    "        for ctxt in vocab_set:\n",
    "            ctxt = ctxt.split(\",\")\n",
    "            ctxt = [c.strip() for c in ctxt]\n",
    "            bios.append(ctxt)\n",
    "        embs = []\n",
    "        for pis in tqdm(bios):\n",
    "            embs.append(model.wv.get_mean_vector(pis))\n",
    "    else:\n",
    "        if tokenizer is None:        \n",
    "            embs = get_sbertbased_results_batched(model, vocab_set, bs=512).numpy()\n",
    "        else:\n",
    "            embs = get_results_batched(model, tokenizer, vocab_set, average_k_layers=3, bs=512).numpy()\n",
    "\n",
    "    for pi, e in zip(vocab_set, embs):\n",
    "        pi_embs[pi] = e \n",
    "            \n",
    "    print(\"normalizing embeddings\")\n",
    "    pole_voc = normalize_dict(pole_voc)\n",
    "    pi_embs = normalize_dict(pi_embs)\n",
    "    \n",
    "    pi_prj_embs = {}\n",
    "    print(\"calculating projections\")\n",
    "    for pi, e in tqdm(pi_embs.items()):\n",
    "        prj = []\n",
    "        for group, diff in pole_voc.items():\n",
    "            prj.append(ripa(e, diff))\n",
    "        pi_prj_embs[pi] = np.array(prj)\n",
    "        \n",
    "    return pi_prj_embs\n",
    "    "
   ]
  },
  {
   "cell_type": "code",
   "execution_count": 48,
   "id": "fec4c66d",
   "metadata": {},
   "outputs": [
    {
     "name": "stdout",
     "output_type": "stream",
     "text": [
      "all pis twitter: 2362829\n",
      "all pis wiki: 69085\n"
     ]
    }
   ],
   "source": [
    "pis_ctxt, ys = zip(*fixed_target_twitter_clm_ds)\n",
    "pis_ctxt = list(pis_ctxt)\n",
    "pis_ctxt.extend(ys)\n",
    "all_pis_twitter = list(set(pis_ctxt))\n",
    "\n",
    "pis_ctxt, ys = zip(*fixed_target_wiki_clm_ds)\n",
    "pis_ctxt = list(pis_ctxt)\n",
    "pis_ctxt.extend(ys)\n",
    "all_pis_wiki = list(set(pis_ctxt))\n",
    "\n",
    "print(f\"all pis twitter: {len(all_pis_twitter)}\")\n",
    "print(f\"all pis wiki: {len(all_pis_wiki)}\")"
   ]
  },
  {
   "cell_type": "code",
   "execution_count": 49,
   "id": "6b420c7b",
   "metadata": {},
   "outputs": [
    {
     "name": "stdout",
     "output_type": "stream",
     "text": [
      "getting pole embeddings\n",
      "getting contextual embeddings\n"
     ]
    },
    {
     "name": "stderr",
     "output_type": "stream",
     "text": [
      "100%|██████████| 2362829/2362829 [01:08<00:00, 34659.30it/s]\n"
     ]
    },
    {
     "name": "stdout",
     "output_type": "stream",
     "text": [
      "normalizing embeddings\n",
      "calculating projections\n"
     ]
    },
    {
     "name": "stderr",
     "output_type": "stream",
     "text": [
      "100%|██████████| 2362829/2362829 [03:43<00:00, 10575.50it/s]\n"
     ]
    },
    {
     "name": "stdout",
     "output_type": "stream",
     "text": [
      "getting pole embeddings\n",
      "getting contextual embeddings\n"
     ]
    },
    {
     "name": "stderr",
     "output_type": "stream",
     "text": [
      "100%|██████████| 69085/69085 [00:01<00:00, 35237.65it/s]\n"
     ]
    },
    {
     "name": "stdout",
     "output_type": "stream",
     "text": [
      "normalizing embeddings\n",
      "calculating projections\n"
     ]
    },
    {
     "name": "stderr",
     "output_type": "stream",
     "text": [
      "  0%|          | 0/69085 [00:00<?, ?it/s]/scratch/12453279/ipykernel_21255/2984262842.py:13: RuntimeWarning: invalid value encountered in float_scalars\n",
      "  return w.dot(b)/LA.norm(b)\n",
      "100%|██████████| 69085/69085 [00:07<00:00, 9312.56it/s]\n"
     ]
    }
   ],
   "source": [
    "twitter_prj_embs_w2v_negsampling = get_proj_embeddings(\n",
    "    model=w2v_twitter_negsamp_model,\n",
    "    vocab_set=all_pis_twitter,\n",
    "    w2v=True,\n",
    "    tokenizer=None\n",
    ")\n",
    "\n",
    "wiki_prj_embs_w2v_cbow = get_proj_embeddings(\n",
    "    model=w2v_wiki_cbow_model,\n",
    "    vocab_set=all_pis_wiki,\n",
    "    w2v=True,\n",
    "    tokenizer=None\n",
    ")"
   ]
  },
  {
   "cell_type": "code",
   "execution_count": 54,
   "id": "e5036ce1",
   "metadata": {},
   "outputs": [],
   "source": [
    "import pickle\n",
    "\n",
    "def save_prj_model(model_name, model):\n",
    "    with open(model_name, 'wb') as f:\n",
    "        pickle.dump(model, f)\n",
    "        \n",
    "save_prj_model('twitter_prj_embs_w2v_negsampling', twitter_prj_embs_w2v_negsampling)\n",
    "save_prj_model('wiki_prj_embs_w2v_cbow', wiki_prj_embs_w2v_cbow)\n"
   ]
  },
  {
   "cell_type": "code",
   "execution_count": 50,
   "id": "322ac60c",
   "metadata": {},
   "outputs": [
    {
     "name": "stdout",
     "output_type": "stream",
     "text": [
      "getting pole embeddings\n"
     ]
    },
    {
     "name": "stderr",
     "output_type": "stream",
     "text": [
      "512it [00:00, 655.85it/s]            \n",
      "512it [00:00, 56102.29it/s]          \n",
      "512it [00:00, 56536.53it/s]          \n",
      "512it [00:00, 57094.19it/s]          \n",
      "512it [00:00, 57075.98it/s]          \n",
      "512it [00:00, 57494.68it/s]          \n",
      "512it [00:00, 57476.21it/s]          \n",
      "512it [00:00, 58334.93it/s]          \n",
      "512it [00:00, 45234.94it/s]          \n",
      "512it [00:00, 48675.91it/s]          \n",
      "512it [00:00, 53341.70it/s]          \n",
      "512it [00:00, 57290.67it/s]          \n",
      "512it [00:00, 53750.25it/s]          \n",
      "512it [00:00, 53805.46it/s]          \n",
      "512it [00:00, 53059.66it/s]          \n",
      "512it [00:00, 51757.82it/s]          \n",
      "512it [00:00, 53137.12it/s]          \n",
      "512it [00:00, 51236.70it/s]          \n",
      "512it [00:00, 52719.68it/s]          \n",
      "512it [00:00, 50404.50it/s]          \n",
      "512it [00:00, 53498.51it/s]          \n",
      "512it [00:00, 53110.84it/s]          \n",
      "512it [00:00, 53036.07it/s]          \n",
      "512it [00:00, 53233.28it/s]          \n",
      "512it [00:00, 49664.28it/s]          \n",
      "512it [00:00, 51289.32it/s]          \n",
      "512it [00:00, 53535.85it/s]          \n",
      "512it [00:00, 51972.01it/s]          \n",
      "512it [00:00, 52829.93it/s]          \n",
      "512it [00:00, 53272.89it/s]          \n",
      "512it [00:00, 51995.92it/s]          \n",
      "512it [00:00, 52871.55it/s]          \n",
      "512it [00:00, 47864.39it/s]          \n",
      "512it [00:00, 51011.54it/s]          \n",
      "512it [00:00, 40756.95it/s]          \n",
      "512it [00:00, 48024.95it/s]          \n"
     ]
    },
    {
     "name": "stdout",
     "output_type": "stream",
     "text": [
      "getting contextual embeddings\n"
     ]
    },
    {
     "name": "stderr",
     "output_type": "stream",
     "text": [
      " 73%|███████▎  | 1731072/2362829 [19:58<07:18, 1440.69it/s]IOPub message rate exceeded.\n",
      "The notebook server will temporarily stop sending output\n",
      "to the client in order to avoid crashing it.\n",
      "To change this limit, set the config variable\n",
      "`--NotebookApp.iopub_msg_rate_limit`.\n",
      "\n",
      "Current values:\n",
      "NotebookApp.iopub_msg_rate_limit=1000.0 (msgs/sec)\n",
      "NotebookApp.rate_limit_window=3.0 (secs)\n",
      "\n",
      "100%|██████████| 2362829/2362829 [03:49<00:00, 10289.65it/s]\n"
     ]
    },
    {
     "name": "stdout",
     "output_type": "stream",
     "text": [
      "getting pole embeddings\n"
     ]
    },
    {
     "name": "stderr",
     "output_type": "stream",
     "text": [
      "512it [00:00, 38609.22it/s]          \n",
      "512it [00:00, 87502.39it/s]          \n",
      "512it [00:00, 88373.81it/s]          \n",
      "512it [00:00, 87813.68it/s]          \n",
      "512it [00:00, 88885.91it/s]          \n",
      "512it [00:00, 88874.88it/s]          \n",
      "512it [00:00, 91969.32it/s]          \n",
      "512it [00:00, 89807.78it/s]          \n",
      "512it [00:00, 78512.86it/s]          \n",
      "512it [00:00, 78691.23it/s]          \n",
      "512it [00:00, 83232.57it/s]          \n",
      "512it [00:00, 93666.14it/s]          \n",
      "512it [00:00, 81507.71it/s]          \n",
      "512it [00:00, 81808.90it/s]          \n",
      "512it [00:00, 81092.20it/s]          \n",
      "512it [00:00, 79448.16it/s]          \n",
      "512it [00:00, 82228.66it/s]          \n",
      "512it [00:00, 78172.75it/s]          \n",
      "512it [00:00, 80121.02it/s]          \n",
      "512it [00:00, 76838.54it/s]          \n",
      "512it [00:00, 80318.80it/s]          \n",
      "512it [00:00, 80771.94it/s]          \n",
      "512it [00:00, 80972.95it/s]          \n",
      "512it [00:00, 79787.61it/s]          \n",
      "512it [00:00, 78461.22it/s]          \n",
      "512it [00:00, 81445.88it/s]          \n",
      "512it [00:00, 81132.03it/s]          \n",
      "512it [00:00, 82405.36it/s]          \n",
      "512it [00:00, 84823.78it/s]          \n",
      "512it [00:00, 80297.77it/s]          \n",
      "512it [00:00, 82640.02it/s]          \n",
      "512it [00:00, 81659.58it/s]          \n",
      "512it [00:00, 80593.10it/s]          \n",
      "512it [00:00, 80744.61it/s]          \n",
      "512it [00:00, 78650.88it/s]          \n",
      "512it [00:00, 82002.58it/s]          \n"
     ]
    },
    {
     "name": "stdout",
     "output_type": "stream",
     "text": [
      "getting contextual embeddings\n"
     ]
    },
    {
     "name": "stderr",
     "output_type": "stream",
     "text": [
      "69120it [00:14, 4873.40it/s]                           \n"
     ]
    },
    {
     "name": "stdout",
     "output_type": "stream",
     "text": [
      "normalizing embeddings\n",
      "calculating projections\n"
     ]
    },
    {
     "name": "stderr",
     "output_type": "stream",
     "text": [
      "100%|██████████| 69085/69085 [00:06<00:00, 10340.00it/s]\n"
     ]
    },
    {
     "name": "stdout",
     "output_type": "stream",
     "text": [
      "getting pole embeddings\n"
     ]
    },
    {
     "name": "stderr",
     "output_type": "stream",
     "text": [
      "512it [00:00, 37655.99it/s]          \n",
      "512it [00:00, 39249.97it/s]          \n",
      "512it [00:00, 53537.19it/s]          \n",
      "512it [00:00, 54494.98it/s]          \n",
      "512it [00:00, 54056.02it/s]          \n",
      "512it [00:00, 52477.49it/s]          \n",
      "512it [00:00, 56224.21it/s]          \n",
      "512it [00:00, 56627.47it/s]          \n",
      "512it [00:00, 38553.77it/s]          \n",
      "512it [00:00, 38527.49it/s]          \n",
      "512it [00:00, 50548.06it/s]          \n",
      "512it [00:00, 55467.60it/s]          \n",
      "512it [00:00, 49739.05it/s]          \n",
      "512it [00:00, 50564.72it/s]          \n",
      "512it [00:00, 45210.18it/s]          \n",
      "512it [00:00, 42425.30it/s]          \n",
      "512it [00:00, 43457.25it/s]          \n",
      "512it [00:00, 41819.70it/s]          \n",
      "512it [00:00, 44635.09it/s]          \n",
      "512it [00:00, 40181.19it/s]          \n",
      "512it [00:00, 46121.94it/s]          \n",
      "512it [00:00, 46670.22it/s]          \n",
      "512it [00:00, 45170.24it/s]          \n",
      "512it [00:00, 50138.54it/s]          \n",
      "512it [00:00, 33748.49it/s]          \n",
      "512it [00:00, 37969.58it/s]          \n",
      "512it [00:00, 48717.87it/s]          \n",
      "512it [00:00, 41988.97it/s]          \n",
      "512it [00:00, 46411.01it/s]          \n",
      "512it [00:00, 47106.34it/s]          \n",
      "512it [00:00, 42325.79it/s]          \n",
      "512it [00:00, 39907.89it/s]          \n",
      "512it [00:00, 29904.66it/s]          \n",
      "512it [00:00, 33001.15it/s]          \n",
      "512it [00:00, 20918.41it/s]          \n",
      "512it [00:00, 22901.61it/s]          \n"
     ]
    },
    {
     "name": "stdout",
     "output_type": "stream",
     "text": [
      "getting contextual embeddings\n"
     ]
    },
    {
     "name": "stderr",
     "output_type": "stream",
     "text": [
      " 47%|████▋     | 1112576/2362829 [09:30<11:53, 1753.44it/s]IOPub message rate exceeded.\n",
      "The notebook server will temporarily stop sending output\n",
      "to the client in order to avoid crashing it.\n",
      "To change this limit, set the config variable\n",
      "`--NotebookApp.iopub_msg_rate_limit`.\n",
      "\n",
      "Current values:\n",
      "NotebookApp.iopub_msg_rate_limit=1000.0 (msgs/sec)\n",
      "NotebookApp.rate_limit_window=3.0 (secs)\n",
      "\n",
      "100%|██████████| 2362829/2362829 [03:40<00:00, 10696.87it/s]\n"
     ]
    },
    {
     "name": "stdout",
     "output_type": "stream",
     "text": [
      "getting pole embeddings\n"
     ]
    },
    {
     "name": "stderr",
     "output_type": "stream",
     "text": [
      "512it [00:00, 13595.02it/s]          \n",
      "512it [00:00, 85916.53it/s]          \n",
      "512it [00:00, 86770.52it/s]          \n",
      "512it [00:00, 88432.04it/s]          \n",
      "512it [00:00, 86002.55it/s]          \n",
      "512it [00:00, 86865.29it/s]          \n",
      "512it [00:00, 86188.94it/s]          \n",
      "512it [00:00, 87416.90it/s]          \n",
      "512it [00:00, 78335.29it/s]          \n",
      "512it [00:00, 78044.91it/s]          \n",
      "512it [00:00, 79131.98it/s]          \n",
      "512it [00:00, 87264.16it/s]          \n",
      "512it [00:00, 80969.90it/s]          \n",
      "512it [00:00, 80198.81it/s]          \n",
      "512it [00:00, 79610.14it/s]          \n",
      "512it [00:00, 79407.03it/s]          \n",
      "512it [00:00, 79237.09it/s]          \n",
      "512it [00:00, 77900.52it/s]          \n",
      "512it [00:00, 79586.54it/s]          \n",
      "512it [00:00, 78084.64it/s]          \n",
      "512it [00:00, 79749.10it/s]          \n",
      "512it [00:00, 82427.50it/s]          \n",
      "512it [00:00, 82408.52it/s]          \n",
      "512it [00:00, 80478.33it/s]          \n",
      "512it [00:00, 56208.02it/s]          \n",
      "512it [00:00, 81952.51it/s]          \n",
      "512it [00:00, 82021.38it/s]          \n",
      "512it [00:00, 79524.65it/s]          \n",
      "512it [00:00, 80641.52it/s]          \n",
      "512it [00:00, 79992.69it/s]          \n",
      "512it [00:00, 80611.25it/s]          \n",
      "512it [00:00, 83729.09it/s]          \n",
      "512it [00:00, 77012.14it/s]          \n",
      "512it [00:00, 80019.51it/s]          \n",
      "512it [00:00, 78261.07it/s]          \n",
      "512it [00:00, 79076.62it/s]          \n"
     ]
    },
    {
     "name": "stdout",
     "output_type": "stream",
     "text": [
      "getting contextual embeddings\n"
     ]
    },
    {
     "name": "stderr",
     "output_type": "stream",
     "text": [
      "69120it [00:12, 5494.87it/s]                           \n"
     ]
    },
    {
     "name": "stdout",
     "output_type": "stream",
     "text": [
      "normalizing embeddings\n",
      "calculating projections\n"
     ]
    },
    {
     "name": "stderr",
     "output_type": "stream",
     "text": [
      "100%|██████████| 69085/69085 [00:06<00:00, 10728.61it/s]\n"
     ]
    }
   ],
   "source": [
    "twitter_prj_embs_bert = get_proj_embeddings(\n",
    "    model=bert_model,\n",
    "    vocab_set=all_pis_twitter,\n",
    "    w2v=False,\n",
    "    tokenizer=bert_tokenizer\n",
    ")\n",
    "\n",
    "wiki_prj_embs_bert = get_proj_embeddings(\n",
    "    model=bert_model,\n",
    "    vocab_set=all_pis_wiki,\n",
    "    w2v=False,\n",
    "    tokenizer=bert_tokenizer\n",
    ")\n",
    "\n",
    "twitter_prj_embs_sbert = get_proj_embeddings(\n",
    "    model=sbert_model,\n",
    "    vocab_set=all_pis_twitter,\n",
    "    w2v=False,\n",
    "    tokenizer=None\n",
    ")\n",
    "\n",
    "wiki_prj_embs_sbert = get_proj_embeddings(\n",
    "    model=sbert_model,\n",
    "    vocab_set=all_pis_wiki,\n",
    "    w2v=False,\n",
    "    tokenizer=None\n",
    ")\n",
    "\n",
    "twitter_prj_embs_bertweet = get_proj_embeddings(\n",
    "    model=bertweet_model,\n",
    "    vocab_set=all_pis_twitter,\n",
    "    w2v=False,\n",
    "    tokenizer=bertweet_tokenizer\n",
    ")\n",
    "\n",
    "wiki_prj_embs_bertweet = get_proj_embeddings(\n",
    "    model=bertweet_model,\n",
    "    vocab_set=all_pis_wiki,\n",
    "    w2v=False,\n",
    "    tokenizer=bertweet_tokenizer\n",
    ")\n",
    "\n",
    "twitter_prj_embs_ftbert = get_proj_embeddings(\n",
    "    model=twitter_ft_sbert,\n",
    "    vocab_set=all_pis_twitter,\n",
    "    w2v=False,\n",
    "    tokenizer=None\n",
    ")\n",
    "\n",
    "wiki_prj_embs_ftbert = get_proj_embeddings(\n",
    "    model=wiki_ft_sbert,\n",
    "    vocab_set=all_pis_wiki,\n",
    "    w2v=False,\n",
    "    tokenizer=None\n",
    ")"
   ]
  },
  {
   "cell_type": "code",
   "execution_count": 55,
   "id": "225a6da8",
   "metadata": {},
   "outputs": [],
   "source": [
    "save_prj_model('twitter_prj_embs_bert', twitter_prj_embs_bert)\n",
    "save_prj_model('wiki_prj_embs_bert', wiki_prj_embs_bert)\n",
    "\n",
    "save_prj_model('twitter_prj_embs_sbert', twitter_prj_embs_sbert)\n",
    "save_prj_model('wiki_prj_embs_sbert', wiki_prj_embs_sbert)\n",
    "\n",
    "save_prj_model('twitter_prj_embs_bertweet', twitter_prj_embs_bertweet)\n",
    "save_prj_model('wiki_prj_embs_bertweet', wiki_prj_embs_bertweet)\n",
    "\n",
    "save_prj_model('twitter_prj_embs_ftbert', twitter_prj_embs_ftbert)\n",
    "save_prj_model('wiki_prj_embs_ftbert', wiki_prj_embs_ftbert)\n"
   ]
  },
  {
   "cell_type": "markdown",
   "id": "aa59bd9e",
   "metadata": {},
   "source": [
    "### load models"
   ]
  },
  {
   "cell_type": "code",
   "execution_count": null,
   "id": "72fc345a",
   "metadata": {},
   "outputs": [],
   "source": []
  },
  {
   "cell_type": "markdown",
   "id": "f8b41e22",
   "metadata": {},
   "source": [
    "### calculate metrics"
   ]
  },
  {
   "cell_type": "code",
   "execution_count": null,
   "id": "cf924e8c",
   "metadata": {},
   "outputs": [],
   "source": [
    "%%time\n",
    "import torch\n",
    "from tqdm import tqdm\n",
    "from torch.nn.functional import log_softmax\n",
    "\n",
    "\n",
    "def calculate_prj_metrics(prj_model, dataset, cosine_bs=512):\n",
    "    print(\"calculating embeddings...\")\n",
    "    X, ys = zip(*dataset)\n",
    "\n",
    "    pi_list = list(set(ys))\n",
    "    pi_dict = {}\n",
    "    for pi in pi_list:\n",
    "        pi_dict[pi] = len(pi_dict)\n",
    "        \n",
    "    \n",
    "    emb_x = torch.tensor([prj_model[x] for x in X])\n",
    "    emb_all = torch.tensor([prj_model[y] for y in pi_list])\n",
    "\n",
    "    print(\"calculating ranks...\")\n",
    "    \n",
    "    i = 0\n",
    "    pbar = tqdm(total=emb_x.shape[0])\n",
    "\n",
    "    target_ranks = []\n",
    "    softmax_scores = []\n",
    "    \n",
    "    while i < emb_x.shape[0]:\n",
    "        batch = emb_x[i:i+cosine_bs]\n",
    "        batch_y = ys[i:i+cosine_bs]\n",
    "        batch_cosine_scores = util.cos_sim(batch.to(device), emb_all.to(device))\n",
    "        batch_softmax = log_softmax(batch_cosine_scores, dim=1)\n",
    "        ranks = torch.argsort(torch.argsort(batch_cosine_scores, dim=1, descending=True), dim=1)\n",
    "        target_idxs = torch.tensor([pi_dict[y] for y in batch_y], dtype=torch.int64, device=device)\n",
    "        \n",
    "        batch_target_ranks = torch.gather(ranks, 1, target_idxs.unsqueeze(1).reshape(-1,1)).type(torch.FloatTensor)\n",
    "        batch_target_scores = torch.gather(batch_softmax, 1, target_idxs.unsqueeze(1).reshape(-1,1)).type(torch.FloatTensor)\n",
    "        \n",
    "        target_ranks.append(batch_target_ranks)\n",
    "        softmax_scores.append(batch_target_scores)\n",
    "        \n",
    "        i += cosine_bs\n",
    "        pbar.update(cosine_bs)\n",
    "\n",
    "\n",
    "    target_ranks = torch.concat(target_ranks)\n",
    "    softmax_scores = torch.concat(softmax_scores)\n",
    "    \n",
    "    avg_score = torch.mean(softmax_scores).item()\n",
    "    avg_rank = torch.mean(target_ranks).item()\n",
    "    top100_acc = len([r for r in target_ranks.reshape(1,-1).squeeze().tolist() if r < 100])/emb_x.shape[0]\n",
    "    \n",
    "    print(avg_rank, top100_acc, avg_score)\n",
    "    \n",
    "    return avg_rank, top100_acc, avg_score\n",
    "\n"
   ]
  },
  {
   "cell_type": "code",
   "execution_count": 65,
   "id": "c695896c",
   "metadata": {},
   "outputs": [
    {
     "name": "stdout",
     "output_type": "stream",
     "text": [
      "calculating embeddings...\n",
      "calculating ranks...\n"
     ]
    },
    {
     "name": "stderr",
     "output_type": "stream",
     "text": [
      "2628608it [00:09, 264074.81it/s]                             "
     ]
    },
    {
     "name": "stdout",
     "output_type": "stream",
     "text": [
      "1262.377197265625 0.21608866713565597 -8.324248313903809\n",
      "calculating embeddings...\n"
     ]
    },
    {
     "name": "stderr",
     "output_type": "stream",
     "text": [
      "\n"
     ]
    },
    {
     "name": "stdout",
     "output_type": "stream",
     "text": [
      "calculating ranks...\n"
     ]
    },
    {
     "name": "stderr",
     "output_type": "stream",
     "text": [
      "2628608it [00:10, 257576.02it/s]                             "
     ]
    },
    {
     "name": "stdout",
     "output_type": "stream",
     "text": [
      "2040.970458984375 0.04382145888651689 -8.44046401977539\n",
      "calculating embeddings...\n"
     ]
    },
    {
     "name": "stderr",
     "output_type": "stream",
     "text": [
      "\n"
     ]
    },
    {
     "name": "stdout",
     "output_type": "stream",
     "text": [
      "calculating ranks...\n"
     ]
    },
    {
     "name": "stderr",
     "output_type": "stream",
     "text": [
      "2628608it [00:09, 267475.27it/s]                             "
     ]
    },
    {
     "name": "stdout",
     "output_type": "stream",
     "text": [
      "2404.349609375 0.022210918116976182 -8.465845108032227\n",
      "calculating embeddings...\n"
     ]
    },
    {
     "name": "stderr",
     "output_type": "stream",
     "text": [
      "\n"
     ]
    },
    {
     "name": "stdout",
     "output_type": "stream",
     "text": [
      "calculating ranks...\n"
     ]
    },
    {
     "name": "stderr",
     "output_type": "stream",
     "text": [
      "2628608it [00:09, 266452.48it/s]                             "
     ]
    },
    {
     "name": "stdout",
     "output_type": "stream",
     "text": [
      "1673.84228515625 0.10619145797720012 -8.357454299926758\n",
      "calculating embeddings...\n"
     ]
    },
    {
     "name": "stderr",
     "output_type": "stream",
     "text": [
      "\n"
     ]
    },
    {
     "name": "stdout",
     "output_type": "stream",
     "text": [
      "calculating ranks...\n"
     ]
    },
    {
     "name": "stderr",
     "output_type": "stream",
     "text": [
      "2628608it [00:09, 263060.27it/s]                             "
     ]
    },
    {
     "name": "stdout",
     "output_type": "stream",
     "text": [
      "1166.7440185546875 0.17258565935167616 -8.15659236907959\n"
     ]
    },
    {
     "name": "stderr",
     "output_type": "stream",
     "text": [
      "\n"
     ]
    }
   ],
   "source": [
    "twitter_w2v_prj_avg_rank, twitter_w2v_prj_top100acc, twitter_w2v_prj_avg_score = calculate_prj_metrics(twitter_prj_embs_w2v_negsampling, fixed_target_twitter_clm_ds)\n",
    "twitter_bert_prj_avg_rank, twitter_bert_prj_top100acc, twitter_bert_prj_avg_score = calculate_prj_metrics(twitter_prj_embs_bert, fixed_target_twitter_clm_ds)\n",
    "twitter_bertweet_prj_avg_rank, twitter_bertweet_prj_top100acc, twitter_bertweet_prj_avg_score = calculate_prj_metrics(twitter_prj_embs_bertweet, fixed_target_twitter_clm_ds)\n",
    "twitter_sbert_prj_avg_rank, twitter_sbert_prj_top100acc, twitter_sbert_prj_avg_score = calculate_prj_metrics(twitter_prj_embs_sbert, fixed_target_twitter_clm_ds)\n",
    "twitter_ftbert_prj_avg_rank, twitter_ftbert_prj_top100acc, twitter_ftbert_prj_avg_score = calculate_prj_metrics(twitter_prj_embs_ftbert, fixed_target_twitter_clm_ds)\n"
   ]
  },
  {
   "cell_type": "code",
   "execution_count": 67,
   "id": "46f39bfb",
   "metadata": {},
   "outputs": [
    {
     "name": "stdout",
     "output_type": "stream",
     "text": [
      "calculating embeddings...\n",
      "calculating ranks...\n"
     ]
    },
    {
     "name": "stderr",
     "output_type": "stream",
     "text": [
      "161280it [00:00, 268324.61it/s]                            \n"
     ]
    },
    {
     "name": "stdout",
     "output_type": "stream",
     "text": [
      "1934.0399169921875 0.013945214340805612 nan\n",
      "calculating embeddings...\n",
      "calculating ranks...\n"
     ]
    },
    {
     "name": "stderr",
     "output_type": "stream",
     "text": [
      "161280it [00:00, 294775.13it/s]                            \n"
     ]
    },
    {
     "name": "stdout",
     "output_type": "stream",
     "text": [
      "1524.441650390625 0.055258378324583884 -8.2371826171875\n",
      "calculating embeddings...\n",
      "calculating ranks...\n"
     ]
    },
    {
     "name": "stderr",
     "output_type": "stream",
     "text": [
      "161280it [00:00, 304297.52it/s]                            \n"
     ]
    },
    {
     "name": "stdout",
     "output_type": "stream",
     "text": [
      "1935.83837890625 0.03134874231831413 -8.27086067199707\n",
      "calculating embeddings...\n",
      "calculating ranks...\n"
     ]
    },
    {
     "name": "stderr",
     "output_type": "stream",
     "text": [
      "161280it [00:00, 304900.87it/s]                            \n"
     ]
    },
    {
     "name": "stdout",
     "output_type": "stream",
     "text": [
      "1194.17236328125 0.12878486303585202 -8.141091346740723\n",
      "calculating embeddings...\n",
      "calculating ranks...\n"
     ]
    },
    {
     "name": "stderr",
     "output_type": "stream",
     "text": [
      "161280it [00:00, 304000.64it/s]                            "
     ]
    },
    {
     "name": "stdout",
     "output_type": "stream",
     "text": [
      "264.6509704589844 0.5775383773293857 -7.665503978729248\n"
     ]
    },
    {
     "name": "stderr",
     "output_type": "stream",
     "text": [
      "\n"
     ]
    }
   ],
   "source": [
    "wiki_w2v_prj_avg_rank, wiki_w2v_prj_top100acc, wiki_w2v_prj_avg_score = calculate_prj_metrics(wiki_prj_embs_w2v_cbow, fixed_target_wiki_clm_ds)\n",
    "wiki_bert_prj_avg_rank, wiki_bert_prj_top100acc, wiki_bert_prj_avg_score = calculate_prj_metrics(wiki_prj_embs_bert, fixed_target_wiki_clm_ds)\n",
    "wiki_bertweet_prj_avg_rank, wiki_bertweet_prj_top100acc, wiki_bertweet_prj_avg_score = calculate_prj_metrics(wiki_prj_embs_bertweet, fixed_target_wiki_clm_ds)\n",
    "wiki_sbert_prj_avg_rank, wiki_sbert_prj_top100acc, wiki_sbert_prj_avg_score = calculate_prj_metrics(wiki_prj_embs_sbert, fixed_target_wiki_clm_ds)\n",
    "wiki_ftbert_prj_avg_rank, wiki_ftbert_prj_top100acc, wiki_ftbert_prj_avg_score = calculate_prj_metrics(wiki_prj_embs_ftbert, fixed_target_wiki_clm_ds)\n"
   ]
  },
  {
   "cell_type": "markdown",
   "id": "bb8900f3",
   "metadata": {},
   "source": [
    "## frequency baseline"
   ]
  },
  {
   "cell_type": "code",
   "execution_count": 41,
   "id": "2f34a26f",
   "metadata": {},
   "outputs": [
    {
     "name": "stderr",
     "output_type": "stream",
     "text": [
      "100%|██████████| 12367897/12367897 [00:14<00:00, 856134.45it/s]\n",
      "100%|██████████| 788343/788343 [00:01<00:00, 667956.61it/s]\n"
     ]
    }
   ],
   "source": [
    "from collections import Counter\n",
    "from tqdm import tqdm\n",
    "\n",
    "def load_bios(dataset='twitter', mode='test'):\n",
    "    with open(f'data/{dataset}_{mode}_bios.pkl', 'rb') as f:\n",
    "        bios = pickle.load(f)\n",
    "    \n",
    "    return bios\n",
    "\n",
    "\n",
    "def calculate_freq_ranks(dataset_name, dataset):\n",
    "\n",
    "    bios = load_bios(dataset=dataset_name, mode='train')\n",
    "    cntr = Counter()\n",
    "\n",
    "    _, ys = zip(*dataset)\n",
    "    y_set = set(ys)\n",
    "    \n",
    "    for bio in tqdm(bios):\n",
    "        for pi in bio:\n",
    "            if pi in y_set:\n",
    "                cntr.update([pi])\n",
    "\n",
    "    ranks_d = {item[1][0]: item[0] for item in enumerate(cntr.most_common())}\n",
    "    ranks = [ranks_d[x] for x in ys]\n",
    "    \n",
    "    avg_rank = np.mean(ranks)\n",
    "    top100_acc = np.sum(np.where(np.array(ranks)<=100, 1., 0.))/len(ranks)\n",
    "    \n",
    "    return avg_rank, top100_acc\n",
    "    \n",
    "    \n",
    "twitter_freq_based_avg_rank, twitter_freq_based_top100acc = calculate_freq_ranks('twitter', fixed_target_twitter_clm_ds)\n",
    "wiki_freq_based_avg_rank, wiki_freq_based_top100acc = calculate_freq_ranks('wiki', fixed_target_wiki_clm_ds)\n"
   ]
  },
  {
   "cell_type": "markdown",
   "id": "e2c92921",
   "metadata": {},
   "source": [
    "## calculate metrics"
   ]
  },
  {
   "cell_type": "code",
   "execution_count": 15,
   "id": "fe8db5c5",
   "metadata": {},
   "outputs": [
    {
     "name": "stdout",
     "output_type": "stream",
     "text": [
      "CPU times: user 429 µs, sys: 0 ns, total: 429 µs\n",
      "Wall time: 350 µs\n"
     ]
    }
   ],
   "source": [
    "%%time\n",
    "import torch\n",
    "from sentence_transformers import SentenceTransformer, models, util\n",
    "from tqdm import tqdm\n",
    "from torch.nn.functional import log_softmax\n",
    "\n",
    "\n",
    "def calculate_clm_based_metrics(clm_model, tokenizer, dataset, pi_dict,\n",
    "                                default_encoder=False, device='cuda:1', cosine_bs=512, emb_bs=512):\n",
    "    print(\"calculating embeddings...\")\n",
    "    pi_list = list(pi_dict.keys())\n",
    "    X, ys = zip(*dataset)\n",
    "    \n",
    "    if default_encoder:        \n",
    "        emb_x = get_sbertbased_results_batched(clm_model, X, bs=emb_bs)\n",
    "        emb_all = get_sbertbased_results_batched(clm_model, pi_list, bs=emb_bs)\n",
    "            \n",
    "    else:\n",
    "        emb_x = get_results_batched(clm_model, tokenizer, X, average_k_layers=3, bs=emb_bs)\n",
    "        emb_all = get_results_batched(clm_model, tokenizer, pi_list, average_k_layers=3, bs=emb_bs)\n",
    "\n",
    "    print(\"calculating ranks...\")\n",
    "#     device = 'cuda'\n",
    "    \n",
    "    i = 0\n",
    "    pbar = tqdm(total=emb_x.shape[0])\n",
    "\n",
    "    target_ranks = []\n",
    "    softmax_scores = []\n",
    "    \n",
    "    while i < emb_x.shape[0]:\n",
    "        batch = emb_x[i:i+cosine_bs]\n",
    "        batch_y = ys[i:i+cosine_bs]\n",
    "        batch_cosine_scores = util.cos_sim(batch.to(device), emb_all.to(device))\n",
    "        batch_softmax = log_softmax(batch_cosine_scores, dim=1)\n",
    "#         print(torch.sum(batch_softmax, dim=1), torch.sum(batch_softmax, dim=1).shape)\n",
    "        ranks = torch.argsort(torch.argsort(batch_cosine_scores, dim=1, descending=True), dim=1)\n",
    "        target_idxs = torch.tensor([pi_dict[y] for y in batch_y], dtype=torch.int64, device=device)\n",
    "        \n",
    "        batch_target_ranks = torch.gather(ranks, 1, target_idxs.unsqueeze(1).reshape(-1,1)).type(torch.FloatTensor)\n",
    "        batch_target_scores = torch.gather(batch_softmax, 1, target_idxs.unsqueeze(1).reshape(-1,1)).type(torch.FloatTensor)\n",
    "        \n",
    "        target_ranks.append(batch_target_ranks)\n",
    "        softmax_scores.append(batch_target_scores)\n",
    "        \n",
    "        i += cosine_bs\n",
    "        pbar.update(cosine_bs)\n",
    "\n",
    "\n",
    "    target_ranks = torch.concat(target_ranks)\n",
    "    softmax_scores = torch.concat(softmax_scores)\n",
    "    \n",
    "#     print(softmax_scores)\n",
    "\n",
    "    avg_score = torch.mean(softmax_scores).item()\n",
    "    avg_rank = torch.mean(target_ranks).item()\n",
    "    top100_acc = len([r for r in target_ranks.reshape(1,-1).squeeze().tolist() if r < 100])/emb_x.shape[0]\n",
    "    del target_ranks\n",
    "    \n",
    "    print(avg_rank, top100_acc, avg_score)\n",
    "    \n",
    "    return avg_rank, top100_acc, avg_score"
   ]
  },
  {
   "cell_type": "markdown",
   "id": "afb2270a",
   "metadata": {},
   "source": [
    "### restricted target experiments"
   ]
  },
  {
   "cell_type": "code",
   "execution_count": 16,
   "id": "df4ac2db",
   "metadata": {},
   "outputs": [
    {
     "name": "stdout",
     "output_type": "stream",
     "text": [
      "calculating embeddings...\n"
     ]
    },
    {
     "name": "stderr",
     "output_type": "stream",
     "text": [
      " 71%|███████   | 1857024/2628347 [07:34<03:18, 3888.82it/s]IOPub message rate exceeded.\n",
      "The notebook server will temporarily stop sending output\n",
      "to the client in order to avoid crashing it.\n",
      "To change this limit, set the config variable\n",
      "`--NotebookApp.iopub_msg_rate_limit`.\n",
      "\n",
      "Current values:\n",
      "NotebookApp.iopub_msg_rate_limit=1000.0 (msgs/sec)\n",
      "NotebookApp.rate_limit_window=3.0 (secs)\n",
      "\n",
      "2628608it [19:16, 2273.47it/s]                             \n",
      "5120it [00:00, 9200.02it/s]                           \n"
     ]
    },
    {
     "name": "stdout",
     "output_type": "stream",
     "text": [
      "calculating ranks...\n"
     ]
    },
    {
     "name": "stderr",
     "output_type": "stream",
     "text": [
      "2628608it [00:18, 141473.30it/s]                             \n"
     ]
    },
    {
     "name": "stdout",
     "output_type": "stream",
     "text": [
      "2237.533447265625 0.040438343947735975 -8.46589183807373\n",
      "calculating embeddings...\n"
     ]
    },
    {
     "name": "stderr",
     "output_type": "stream",
     "text": [
      " 50%|████▉     | 79872/160772 [00:21<00:23, 3406.13it/s]IOPub message rate exceeded.\n",
      "The notebook server will temporarily stop sending output\n",
      "to the client in order to avoid crashing it.\n",
      "To change this limit, set the config variable\n",
      "`--NotebookApp.iopub_msg_rate_limit`.\n",
      "\n",
      "Current values:\n",
      "NotebookApp.iopub_msg_rate_limit=1000.0 (msgs/sec)\n",
      "NotebookApp.rate_limit_window=3.0 (secs)\n",
      "\n"
     ]
    }
   ],
   "source": [
    "%%time\n",
    "\n",
    "# sbert and its finetuned\n",
    "twitter_sbertft_avg_rank, twitter_sbertft_top100acc, twitter_sbertft_avg_score = calculate_clm_based_metrics(\n",
    "    clm_model=twitter_ft_sbert,\n",
    "    tokenizer=None,\n",
    "    dataset=fixed_target_twitter_clm_ds,\n",
    "    pi_dict=twitter_target_restricted_pis,\n",
    "    default_encoder=True\n",
    ")\n",
    "\n",
    "twitter_sbert_avg_rank, twitter_sbert_top100acc, twitter_sbert_avg_score =  calculate_clm_based_metrics(\n",
    "    clm_model=sbert_model,\n",
    "    tokenizer=None,\n",
    "    dataset=fixed_target_twitter_clm_ds,\n",
    "    pi_dict=twitter_target_restricted_pis,\n",
    "    default_encoder=True\n",
    ")\n",
    "\n",
    "wiki_sbertft_avg_rank, wiki_sbertft_top100acc, wiki_sbertft_avg_score =  calculate_clm_based_metrics(\n",
    "    clm_model=wiki_ft_sbert,\n",
    "    tokenizer=None,\n",
    "    dataset=fixed_target_wiki_clm_ds,\n",
    "    pi_dict=wiki_target_restricted_pis,\n",
    "    default_encoder=True\n",
    ")\n",
    "\n",
    "wiki_sbert_avg_rank, wiki_sbert_top100acc, wiki_sbert_avg_score =  calculate_clm_based_metrics(\n",
    "    clm_model=sbert_model,\n",
    "    tokenizer=None,\n",
    "    dataset=fixed_target_wiki_clm_ds,\n",
    "    pi_dict=wiki_target_restricted_pis,\n",
    "    default_encoder=True\n",
    ")\n",
    "\n",
    "# bert and bertweet\n",
    "\n",
    "twitter_bert_avg_rank, twitter_bert_top100acc, twitter_bert_avg_score = calculate_clm_based_metrics(\n",
    "    clm_model=bert_model,\n",
    "    tokenizer=bert_tokenizer,\n",
    "    dataset=fixed_target_twitter_clm_ds,\n",
    "    pi_dict=twitter_target_restricted_pis,\n",
    "    default_encoder=False\n",
    ")\n",
    "\n",
    "twitter_bertweet_avg_rank, twitter_bertweet_top100acc, twitter_bertweet_avg_score =  calculate_clm_based_metrics(\n",
    "    clm_model=bertweet_model,\n",
    "    tokenizer=bertweet_tokenizer,\n",
    "    dataset=fixed_target_twitter_clm_ds,\n",
    "    pi_dict=twitter_target_restricted_pis,\n",
    "    default_encoder=False\n",
    ")\n",
    "\n",
    "wiki_bert_avg_rank, wiki_bert_top100acc, wiki_bert_avg_score = calculate_clm_based_metrics(\n",
    "    clm_model=bert_model,\n",
    "    tokenizer=bert_tokenizer,\n",
    "    dataset=fixed_target_wiki_clm_ds,\n",
    "    pi_dict=wiki_target_restricted_pis,\n",
    "    default_encoder=False\n",
    ")\n",
    "\n",
    "wiki_bertweet_avg_rank, wiki_bertweet_top100acc, wiki_bertweet_avg_score =  calculate_clm_based_metrics(\n",
    "    clm_model=bertweet_model,\n",
    "    tokenizer=bertweet_tokenizer,\n",
    "    dataset=fixed_target_wiki_clm_ds,\n",
    "    pi_dict=wiki_target_restricted_pis,\n",
    "    default_encoder=False\n",
    ")"
   ]
  },
  {
   "cell_type": "markdown",
   "id": "c002261e",
   "metadata": {
    "heading_collapsed": true
   },
   "source": [
    "### full bio metrics"
   ]
  },
  {
   "cell_type": "code",
   "execution_count": null,
   "id": "f827c08c",
   "metadata": {
    "hidden": true
   },
   "outputs": [],
   "source": [
    "%%time\n",
    "# sbert and its finetuned\n",
    "\n",
    "twitter_sbertft_avg_rank, twitter_sbertft_top100acc = calculate_clm_based_metrics(\n",
    "    clm_model=twitter_ft_sbert,\n",
    "    tokenizer=None,\n",
    "    dataset=clm_test_ds_twitter,\n",
    "    pi_dict=twitter_pi_dict,\n",
    "    default_encoder=True\n",
    ")\n",
    "\n",
    "twitter_sbert_avg_rank, twitter_sbert_top100acc =  calculate_clm_based_metrics(\n",
    "    clm_model=sbert_model,\n",
    "    tokenizer=None,\n",
    "    dataset=clm_test_ds_twitter,\n",
    "    pi_dict=twitter_pi_dict,\n",
    "    default_encoder=True\n",
    ")\n",
    "\n",
    "wiki_sbertft_avg_rank, wiki_sbertft_top100acc =  calculate_clm_based_metrics(\n",
    "    clm_model=wiki_ft_sbert,\n",
    "    tokenizer=None,\n",
    "    dataset=clm_test_ds_wiki,\n",
    "    pi_dict=wiki_pi_dict,\n",
    "    default_encoder=True\n",
    ")\n",
    "\n",
    "wiki_sbert_avg_rank, wiki_sbert_top100acc =  calculate_clm_based_metrics(\n",
    "    clm_model=sbert_model,\n",
    "    tokenizer=None,\n",
    "    dataset=clm_test_ds_wiki,\n",
    "    pi_dict=wiki_pi_dict,\n",
    "    default_encoder=True\n",
    ")\n",
    "\n",
    "# bert and bertweet\n",
    "\n",
    "twitter_bert_avg_rank, twitter_bert_top100acc = calculate_clm_based_metrics(\n",
    "    clm_model=bert_model,\n",
    "    tokenizer=bert_tokenizer,\n",
    "    dataset=clm_test_ds_twitter,\n",
    "    pi_dict=twitter_pi_dict,\n",
    "    default_encoder=False\n",
    ")\n",
    "\n",
    "twitter_bertweet_avg_rank, twitter_bertweet_top100acc =  calculate_clm_based_metrics(\n",
    "    clm_model=bertweet_model,\n",
    "    tokenizer=bertweet_tokenizer,\n",
    "    dataset=clm_test_ds_twitter,\n",
    "    pi_dict=twitter_pi_dict,\n",
    "    default_encoder=False\n",
    ")\n",
    "\n",
    "wiki_bert_avg_rank, wiki_bert_top100acc = calculate_clm_based_metrics(\n",
    "    clm_model=bert_model,\n",
    "    tokenizer=bert_tokenizer,\n",
    "    dataset=clm_test_ds_wiki,\n",
    "    pi_dict=wiki_pi_dict,\n",
    "    default_encoder=False\n",
    ")\n",
    "\n",
    "wiki_bertweet_avg_rank, wiki_bertweet_top100acc =  calculate_clm_based_metrics(\n",
    "    clm_model=bertweet_model,\n",
    "    tokenizer=bertweet_tokenizer,\n",
    "    dataset=clm_test_ds_wiki,\n",
    "    pi_dict=wiki_pi_dict,\n",
    "    default_encoder=False\n",
    ")"
   ]
  },
  {
   "cell_type": "markdown",
   "id": "38ab34f4",
   "metadata": {
    "heading_collapsed": true
   },
   "source": [
    "### random pi in bio metrics"
   ]
  },
  {
   "cell_type": "code",
   "execution_count": 22,
   "id": "8c2a6bc5",
   "metadata": {
    "hidden": true
   },
   "outputs": [
    {
     "name": "stdout",
     "output_type": "stream",
     "text": [
      "calculating embeddings...\n",
      "calculating ranks...\n",
      "532.9867553710938 0.42402381505794234\n",
      "calculating embeddings...\n",
      "calculating ranks...\n",
      "1390.777587890625 0.23102165385875834\n",
      "calculating embeddings...\n",
      "calculating ranks...\n",
      "179.9920196533203 0.6743391622610817\n",
      "calculating embeddings...\n",
      "calculating ranks...\n",
      "576.1998901367188 0.33472143147620986\n",
      "calculating embeddings...\n"
     ]
    },
    {
     "name": "stderr",
     "output_type": "stream",
     "text": [
      "693000it [01:38, 7046.36it/s]                            \n",
      "5000it [00:00, 6581.48it/s]                          \n"
     ]
    },
    {
     "name": "stdout",
     "output_type": "stream",
     "text": [
      "calculating ranks...\n",
      "1717.3118896484375 0.1860710207298992\n",
      "calculating embeddings...\n"
     ]
    },
    {
     "name": "stderr",
     "output_type": "stream",
     "text": [
      "693000it [00:56, 12223.32it/s]                            \n",
      "5000it [00:00, 11208.42it/s]                          \n"
     ]
    },
    {
     "name": "stdout",
     "output_type": "stream",
     "text": [
      "calculating ranks...\n",
      "2085.701416015625 0.08666452038557988\n",
      "calculating embeddings...\n"
     ]
    },
    {
     "name": "stderr",
     "output_type": "stream",
     "text": [
      "62000it [00:09, 6691.33it/s]                           \n",
      "4000it [00:00, 6742.17it/s]                          \n"
     ]
    },
    {
     "name": "stdout",
     "output_type": "stream",
     "text": [
      "calculating ranks...\n",
      "1138.1964111328125 0.22705164701098007\n",
      "calculating embeddings...\n"
     ]
    },
    {
     "name": "stderr",
     "output_type": "stream",
     "text": [
      "62000it [00:04, 12869.61it/s]                           \n",
      "4000it [00:00, 13366.60it/s]                          \n"
     ]
    },
    {
     "name": "stdout",
     "output_type": "stream",
     "text": [
      "calculating ranks...\n",
      "1147.90283203125 0.14090280601870678\n",
      "CPU times: user 45min 30s, sys: 4min 4s, total: 49min 34s\n",
      "Wall time: 10min 13s\n"
     ]
    }
   ],
   "source": [
    "%%time\n",
    "# sbert and its finetuned\n",
    "\n",
    "twitterrand_sbertft_avg_rank, twitterrand_sbertft_top100acc = calculate_clm_based_metrics(\n",
    "    clm_model=twitter_ft_sbert,\n",
    "    tokenizer=None,\n",
    "    dataset=clm_test_ds_twitter_rand,\n",
    "    pi_dict=twitter_pi_dict,\n",
    "    default_encoder=True\n",
    ")\n",
    "\n",
    "twitterrand_sbert_avg_rank, twitterrand_sbert_top100acc =  calculate_clm_based_metrics(\n",
    "    clm_model=sbert_model,\n",
    "    tokenizer=None,\n",
    "    dataset=clm_test_ds_twitter_rand,\n",
    "    pi_dict=twitter_pi_dict,\n",
    "    default_encoder=True\n",
    ")\n",
    "\n",
    "wikirand_sbertft_avg_rank, wikirand_sbertft_top100acc =  calculate_clm_based_metrics(\n",
    "    clm_model=wiki_ft_sbert,\n",
    "    tokenizer=None,\n",
    "    dataset=clm_test_ds_wiki_rand,\n",
    "    pi_dict=wiki_pi_dict,\n",
    "    default_encoder=True\n",
    ")\n",
    "\n",
    "wikirand_sbert_avg_rank, wikirand_sbert_top100acc =  calculate_clm_based_metrics(\n",
    "    clm_model=sbert_model,\n",
    "    tokenizer=None,\n",
    "    dataset=clm_test_ds_wiki_rand,\n",
    "    pi_dict=wiki_pi_dict,\n",
    "    default_encoder=True\n",
    ")\n",
    "\n",
    "# bert and bertweet\n",
    "\n",
    "twitterrand_bert_avg_rank, twitterrand_bert_top100acc = calculate_clm_based_metrics(\n",
    "    clm_model=bert_model,\n",
    "    tokenizer=bert_tokenizer,\n",
    "    dataset=clm_test_ds_twitter_rand,\n",
    "    pi_dict=twitter_pi_dict,\n",
    "    default_encoder=False\n",
    ")\n",
    "\n",
    "twitterrand_bertweet_avg_rank, twitterrand_bertweet_top100acc =  calculate_clm_based_metrics(\n",
    "    clm_model=bertweet_model,\n",
    "    tokenizer=bertweet_tokenizer,\n",
    "    dataset=clm_test_ds_twitter_rand,\n",
    "    pi_dict=twitter_pi_dict,\n",
    "    default_encoder=False\n",
    ")\n",
    "\n",
    "wikirand_bert_avg_rank, wikirand_bert_top100acc = calculate_clm_based_metrics(\n",
    "    clm_model=bert_model,\n",
    "    tokenizer=bert_tokenizer,\n",
    "    dataset=clm_test_ds_wiki_rand,\n",
    "    pi_dict=wiki_pi_dict,\n",
    "    default_encoder=False\n",
    ")\n",
    "\n",
    "wikirand_bertweet_avg_rank, wikirand_bertweet_top100acc =  calculate_clm_based_metrics(\n",
    "    clm_model=bertweet_model,\n",
    "    tokenizer=bertweet_tokenizer,\n",
    "    dataset=clm_test_ds_wiki_rand,\n",
    "    pi_dict=wiki_pi_dict,\n",
    "    default_encoder=False\n",
    ")"
   ]
  },
  {
   "cell_type": "markdown",
   "id": "258c96e4",
   "metadata": {
    "heading_collapsed": true
   },
   "source": [
    "### non restricted test dataset"
   ]
  },
  {
   "cell_type": "code",
   "execution_count": 6,
   "id": "ce735bee",
   "metadata": {
    "hidden": true
   },
   "outputs": [
    {
     "name": "stdout",
     "output_type": "stream",
     "text": [
      "calculating embeddings...\n"
     ]
    },
    {
     "name": "stderr",
     "output_type": "stream",
     "text": [
      "1001472it [07:54, 2109.77it/s]                             \n",
      "50176it [00:09, 5041.84it/s]                           \n"
     ]
    },
    {
     "name": "stdout",
     "output_type": "stream",
     "text": [
      "calculating ranks...\n"
     ]
    },
    {
     "name": "stderr",
     "output_type": "stream",
     "text": [
      "1001472it [00:58, 17086.57it/s]                             \n"
     ]
    },
    {
     "name": "stdout",
     "output_type": "stream",
     "text": [
      "20652.9765625 0.04434243741112939\n",
      "calculating embeddings...\n"
     ]
    },
    {
     "name": "stderr",
     "output_type": "stream",
     "text": [
      "66560it [00:26, 2541.59it/s]                           \n",
      "15360it [00:03, 4228.71it/s]                           \n"
     ]
    },
    {
     "name": "stdout",
     "output_type": "stream",
     "text": [
      "calculating ranks...\n"
     ]
    },
    {
     "name": "stderr",
     "output_type": "stream",
     "text": [
      "66560it [00:01, 53508.87it/s]                           "
     ]
    },
    {
     "name": "stdout",
     "output_type": "stream",
     "text": [
      "4626.1787109375 0.11999879670296612\n"
     ]
    },
    {
     "name": "stderr",
     "output_type": "stream",
     "text": [
      "\n"
     ]
    }
   ],
   "source": [
    "\n",
    "twitter_bert_avg_rank, twitter_bert_top100acc = calculate_clm_based_metrics(\n",
    "    clm_model=bert_model,\n",
    "    tokenizer=bert_tokenizer,\n",
    "    dataset=clm_test_ds_full_twitter,\n",
    "    pi_dict=twitter_pi_dict_full,\n",
    "    default_encoder=False,\n",
    "    emb_bs=512,\n",
    "    cosine_bs=512\n",
    ")\n",
    "\n",
    "wiki_bert_avg_rank, wiki_bert_top100acc = calculate_clm_based_metrics(\n",
    "    clm_model=bert_model,\n",
    "    tokenizer=bert_tokenizer,\n",
    "    dataset=clm_test_ds_full_wiki,\n",
    "    pi_dict=wiki_pi_dict_full,\n",
    "    default_encoder=False,\n",
    "    emb_bs=512,\n",
    "    cosine_bs=512\n",
    ")"
   ]
  },
  {
   "cell_type": "code",
   "execution_count": 9,
   "id": "4601f7a7",
   "metadata": {
    "hidden": true
   },
   "outputs": [
    {
     "name": "stdout",
     "output_type": "stream",
     "text": [
      "calculating embeddings...\n"
     ]
    },
    {
     "name": "stderr",
     "output_type": "stream",
     "text": [
      "1001472it [06:20, 2635.04it/s]                             \n",
      "50176it [00:05, 9535.37it/s]                            \n"
     ]
    },
    {
     "name": "stdout",
     "output_type": "stream",
     "text": [
      "calculating ranks...\n"
     ]
    },
    {
     "name": "stderr",
     "output_type": "stream",
     "text": [
      "1001472it [00:59, 16744.10it/s]                            \n"
     ]
    },
    {
     "name": "stdout",
     "output_type": "stream",
     "text": [
      "20539.037109375 0.025803430205620616\n",
      "calculating embeddings...\n"
     ]
    },
    {
     "name": "stderr",
     "output_type": "stream",
     "text": [
      "66560it [00:24, 2672.00it/s]                           \n",
      "15360it [00:01, 7821.63it/s]                            \n"
     ]
    },
    {
     "name": "stdout",
     "output_type": "stream",
     "text": [
      "calculating ranks...\n"
     ]
    },
    {
     "name": "stderr",
     "output_type": "stream",
     "text": [
      "66560it [00:01, 57001.96it/s]                           "
     ]
    },
    {
     "name": "stdout",
     "output_type": "stream",
     "text": [
      "5476.2080078125 0.04426628963359605\n"
     ]
    },
    {
     "name": "stderr",
     "output_type": "stream",
     "text": [
      "\n"
     ]
    }
   ],
   "source": [
    "twitter_bertweet_avg_rank, twitter_bertweet_top100acc =  calculate_clm_based_metrics(\n",
    "    clm_model=bertweet_model,\n",
    "    tokenizer=bertweet_tokenizer,\n",
    "    dataset=clm_test_ds_full_twitter,\n",
    "    pi_dict=twitter_pi_dict_full,\n",
    "    default_encoder=False,\n",
    "    emb_bs=512,\n",
    "    cosine_bs=512\n",
    ")\n",
    "\n",
    "wiki_bertweet_avg_rank, wiki_bertweet_top100acc =  calculate_clm_based_metrics(\n",
    "    clm_model=bertweet_model,\n",
    "    tokenizer=bertweet_tokenizer,\n",
    "    dataset=clm_test_ds_full_wiki,\n",
    "    pi_dict=wiki_pi_dict_full,\n",
    "    default_encoder=False,\n",
    "    emb_bs=512,\n",
    "    cosine_bs=512\n",
    ")"
   ]
  },
  {
   "cell_type": "code",
   "execution_count": 13,
   "id": "92beaea6",
   "metadata": {
    "hidden": true
   },
   "outputs": [
    {
     "name": "stdout",
     "output_type": "stream",
     "text": [
      "calculating embeddings...\n"
     ]
    },
    {
     "name": "stderr",
     "output_type": "stream",
     "text": [
      "1001472it [03:01, 5532.70it/s]                             \n",
      "50176it [00:08, 5667.16it/s]                           \n"
     ]
    },
    {
     "name": "stdout",
     "output_type": "stream",
     "text": [
      "calculating ranks...\n"
     ]
    },
    {
     "name": "stderr",
     "output_type": "stream",
     "text": [
      "1001472it [00:37, 27033.83it/s]                             "
     ]
    },
    {
     "name": "stdout",
     "output_type": "stream",
     "text": [
      "7994.1298828125 0.11363754373631992\n",
      "calculating embeddings...\n"
     ]
    },
    {
     "name": "stderr",
     "output_type": "stream",
     "text": [
      "\n",
      "1001472it [03:03, 5466.32it/s]                             \n",
      "50176it [00:08, 5757.22it/s]                           \n"
     ]
    },
    {
     "name": "stdout",
     "output_type": "stream",
     "text": [
      "calculating ranks...\n"
     ]
    },
    {
     "name": "stderr",
     "output_type": "stream",
     "text": [
      "1001472it [00:42, 23390.70it/s]                             \n"
     ]
    },
    {
     "name": "stdout",
     "output_type": "stream",
     "text": [
      "12793.62109375 0.10973422696553818\n",
      "calculating embeddings...\n"
     ]
    },
    {
     "name": "stderr",
     "output_type": "stream",
     "text": [
      "66560it [00:12, 5184.58it/s]                           \n",
      "15360it [00:02, 5654.10it/s]                           \n"
     ]
    },
    {
     "name": "stdout",
     "output_type": "stream",
     "text": [
      "calculating ranks...\n"
     ]
    },
    {
     "name": "stderr",
     "output_type": "stream",
     "text": [
      "66560it [00:00, 84545.14it/s]                           \n"
     ]
    },
    {
     "name": "stdout",
     "output_type": "stream",
     "text": [
      "1759.176513671875 0.34175139883280187\n",
      "calculating embeddings...\n"
     ]
    },
    {
     "name": "stderr",
     "output_type": "stream",
     "text": [
      "66560it [00:11, 5603.73it/s]                           \n",
      "15360it [00:02, 5663.36it/s]                           \n"
     ]
    },
    {
     "name": "stdout",
     "output_type": "stream",
     "text": [
      "calculating ranks...\n"
     ]
    },
    {
     "name": "stderr",
     "output_type": "stream",
     "text": [
      "66560it [00:00, 74342.99it/s]                           "
     ]
    },
    {
     "name": "stdout",
     "output_type": "stream",
     "text": [
      "1810.1021728515625 0.22927320859154082\n"
     ]
    },
    {
     "name": "stderr",
     "output_type": "stream",
     "text": [
      "\n"
     ]
    }
   ],
   "source": [
    "\n",
    "twitter_sbertft_avg_rank, twitter_sbertft_top100acc = calculate_clm_based_metrics(\n",
    "    clm_model=twitter_ft_sbert,\n",
    "    tokenizer=None,\n",
    "    dataset=clm_test_ds_full_twitter,\n",
    "    pi_dict=twitter_pi_dict_full,\n",
    "    default_encoder=True,\n",
    "    emb_bs=512,\n",
    "    cosine_bs=512\n",
    ")\n",
    "\n",
    "twitter_sbert_avg_rank, twitter_sbert_top100acc =  calculate_clm_based_metrics(\n",
    "    clm_model=sbert_model,\n",
    "    tokenizer=None,\n",
    "    dataset=clm_test_ds_full_twitter,\n",
    "    pi_dict=twitter_pi_dict_full,\n",
    "    default_encoder=True,\n",
    "    emb_bs=512,\n",
    "    cosine_bs=512\n",
    ")\n",
    "\n",
    "wiki_sbertft_avg_rank, wiki_sbertft_top100acc =  calculate_clm_based_metrics(\n",
    "    clm_model=wiki_ft_sbert,\n",
    "    tokenizer=None,\n",
    "    dataset=clm_test_ds_full_wiki,\n",
    "    pi_dict=wiki_pi_dict_full,\n",
    "    default_encoder=True,\n",
    "    emb_bs=512,\n",
    "    cosine_bs=512\n",
    ")\n",
    "\n",
    "wiki_sbert_avg_rank, wiki_sbert_top100acc =  calculate_clm_based_metrics(\n",
    "    clm_model=sbert_model,\n",
    "    tokenizer=None,\n",
    "    dataset=clm_test_ds_full_wiki,\n",
    "    pi_dict=wiki_pi_dict_full,\n",
    "    default_encoder=True,\n",
    "    emb_bs=512,\n",
    "    cosine_bs=512\n",
    ")\n"
   ]
  },
  {
   "cell_type": "markdown",
   "id": "18c237ed",
   "metadata": {
    "heading_collapsed": true
   },
   "source": [
    "### cross platform models"
   ]
  },
  {
   "cell_type": "code",
   "execution_count": 15,
   "id": "d644ef0b",
   "metadata": {
    "hidden": true
   },
   "outputs": [
    {
     "name": "stdout",
     "output_type": "stream",
     "text": [
      "calculating embeddings...\n"
     ]
    },
    {
     "name": "stderr",
     "output_type": "stream",
     "text": [
      "1001472it [02:59, 5588.46it/s]                             \n",
      "50176it [00:08, 5779.46it/s]                           \n"
     ]
    },
    {
     "name": "stdout",
     "output_type": "stream",
     "text": [
      "calculating ranks...\n"
     ]
    },
    {
     "name": "stderr",
     "output_type": "stream",
     "text": [
      "1001472it [00:35, 28313.08it/s]                             \n"
     ]
    },
    {
     "name": "stdout",
     "output_type": "stream",
     "text": [
      "22911.25 0.03132339313958876\n",
      "calculating embeddings...\n"
     ]
    },
    {
     "name": "stderr",
     "output_type": "stream",
     "text": [
      "66560it [00:11, 5665.67it/s]                           \n",
      "15360it [00:02, 5707.25it/s]                           \n"
     ]
    },
    {
     "name": "stdout",
     "output_type": "stream",
     "text": [
      "calculating ranks...\n"
     ]
    },
    {
     "name": "stderr",
     "output_type": "stream",
     "text": [
      "66560it [00:00, 79849.32it/s]                           "
     ]
    },
    {
     "name": "stdout",
     "output_type": "stream",
     "text": [
      "2829.21923828125 0.19821310390469887\n"
     ]
    },
    {
     "name": "stderr",
     "output_type": "stream",
     "text": [
      "\n"
     ]
    }
   ],
   "source": [
    "\n",
    "twitter_crossplt_sbertft_avg_rank, twitter_crossplt_sbertft_top100acc = calculate_clm_based_metrics(\n",
    "    clm_model=wiki_ft_sbert,\n",
    "    tokenizer=None,\n",
    "    dataset=clm_test_ds_full_twitter,\n",
    "    pi_dict=twitter_pi_dict_full,\n",
    "    default_encoder=True,\n",
    "    emb_bs=512,\n",
    "    cosine_bs=512\n",
    ")\n",
    "\n",
    "\n",
    "wiki_crossplt_sbertft_avg_rank, wiki_crossplt_sbertft_top100acc =  calculate_clm_based_metrics(\n",
    "    clm_model=twitter_ft_sbert,\n",
    "    tokenizer=None,\n",
    "    dataset=clm_test_ds_full_wiki,\n",
    "    pi_dict=wiki_pi_dict_full,\n",
    "    default_encoder=True,\n",
    "    emb_bs=512,\n",
    "    cosine_bs=512\n",
    ")\n"
   ]
  },
  {
   "cell_type": "markdown",
   "id": "83839422",
   "metadata": {},
   "source": [
    "## Full comparison"
   ]
  },
  {
   "cell_type": "code",
   "execution_count": 42,
   "id": "e64b7670",
   "metadata": {},
   "outputs": [
    {
     "data": {
      "image/png": "[encoded data removed]",
      "text/plain": [
       "<Figure size 504x216 with 1 Axes>"
      ]
     },
     "metadata": {},
     "output_type": "display_data"
    },
    {
     "data": {
      "image/png": "[encoded data removed]",
      "text/plain": [
       "<Figure size 504x216 with 1 Axes>"
      ]
     },
     "metadata": {},
     "output_type": "display_data"
    },
    {
     "data": {
      "image/png": "[encoded data removed]",
      "text/plain": [
       "<Figure size 504x216 with 1 Axes>"
      ]
     },
     "metadata": {},
     "output_type": "display_data"
    }
   ],
   "source": [
    "import seaborn as sns\n",
    "\n",
    "sns.set_theme()\n",
    "\n",
    "import matplotlib.pyplot as plt\n",
    "import pandas as pd\n",
    "\n",
    "df = pd.DataFrame({\n",
    "    'model': [\n",
    "        'w2v',\n",
    "        'w2v',\n",
    "        'BERT',\n",
    "        'BERT',\n",
    "        'S-BERT',\n",
    "        'S-BERT',\n",
    "        'BerTweet',\n",
    "        'BerTweet',\n",
    "        'S-BERT-ft',\n",
    "        'S-BERT-ft',\n",
    "        'freq-baseline',\n",
    "        'freq-baseline'\n",
    "    ],\n",
    "    'dataset': [\n",
    "        'twitter',\n",
    "        'wiki',\n",
    "        'twitter',\n",
    "        'wiki',\n",
    "        'twitter',\n",
    "        'wiki',\n",
    "        'twitter',\n",
    "        'wiki',\n",
    "        'twitter',\n",
    "        'wiki',\n",
    "        'twitter',\n",
    "        'wiki',\n",
    "    ],\n",
    "    'avg_rank': [\n",
    "        twitter_w2v_negsample_avgrank, \n",
    "        wiki_w2v_cbow_avgrank,\n",
    "        twitter_bert_avg_rank,\n",
    "        wiki_bert_avg_rank,\n",
    "        twitter_sbert_avg_rank,\n",
    "        wiki_sbert_avg_rank,\n",
    "        twitter_bertweet_avg_rank,\n",
    "        wiki_bertweet_avg_rank,\n",
    "        twitter_sbertft_avg_rank,\n",
    "        wiki_sbertft_avg_rank,\n",
    "        twitter_freq_based_avg_rank,\n",
    "        wiki_freq_based_avg_rank,\n",
    "    ],\n",
    "    'avg_score': [\n",
    "        twitter_w2v_negsample_avgscore, \n",
    "        wiki_w2v_cbow_avgscore,\n",
    "        twitter_bert_avg_score,\n",
    "        wiki_bert_avg_score,\n",
    "        twitter_sbert_avg_score,\n",
    "        wiki_sbert_avg_score,\n",
    "        twitter_bertweet_avg_score,\n",
    "        wiki_bertweet_avg_score,\n",
    "        twitter_sbertft_avg_score,\n",
    "        wiki_sbertft_avg_score,\n",
    "        None,\n",
    "        None,\n",
    "    ],\n",
    "    'top100_acc': [\n",
    "        twitter_w2v_negsample_top100acc,\n",
    "        wiki_w2v_cbow_top100acc,\n",
    "        twitter_bert_top100acc,\n",
    "        wiki_bert_top100acc,\n",
    "        twitter_sbert_top100acc,\n",
    "        wiki_sbert_top100acc,\n",
    "        twitter_bertweet_top100acc,\n",
    "        wiki_bertweet_top100acc,\n",
    "        twitter_sbertft_top100acc,\n",
    "        wiki_sbertft_top100acc,\n",
    "        twitter_freq_based_top100acc,\n",
    "        wiki_freq_based_top100acc\n",
    "    ],\n",
    "})\n",
    "\n",
    "df.to_csv('fixed_target_results.csv', header=True, index=False)\n",
    "\n",
    "plt.figure(figsize=(7,3))\n",
    "sns.barplot(data=df, x='dataset', y='top100_acc', hue='model')\n",
    "plt.legend(bbox_to_anchor=(1.05, 1), loc='upper left', borderaxespad=0)\n",
    "plt.show()\n",
    "\n",
    "plt.figure(figsize=(7,3))\n",
    "sns.barplot(data=df, x='dataset', y='avg_rank', hue='model')\n",
    "plt.legend(bbox_to_anchor=(1.05, 1), loc='upper left', borderaxespad=0)\n",
    "plt.show()\n",
    "\n",
    "plt.figure(figsize=(7,3))\n",
    "sns.barplot(data=df, x='dataset', y='avg_score', hue='model')\n",
    "plt.legend(bbox_to_anchor=(1.05, 1), loc='upper left', borderaxespad=0)\n",
    "plt.show()"
   ]
  },
  {
   "cell_type": "code",
   "execution_count": 45,
   "id": "628f63f4",
   "metadata": {},
   "outputs": [
    {
     "data": {
      "text/plain": [
       "((-8.279070854187012,\n",
       "  -8.453959465026855,\n",
       "  -8.379989624023438,\n",
       "  -8.46589183807373,\n",
       "  -8.152100563049316),\n",
       " (-7.998246192932129,\n",
       "  -8.239590644836426,\n",
       "  -8.115586280822754,\n",
       "  -8.26986026763916,\n",
       "  -7.675154209136963))"
      ]
     },
     "execution_count": 45,
     "metadata": {},
     "output_type": "execute_result"
    }
   ],
   "source": [
    "(        twitter_w2v_negsample_avgscore, \n",
    "        twitter_bert_avg_score,\n",
    "        twitter_sbert_avg_score,\n",
    "        twitter_bertweet_avg_score,\n",
    "        twitter_sbertft_avg_score,\n",
    "), (\n",
    "\n",
    "        wiki_w2v_cbow_avgscore,\n",
    "        wiki_bert_avg_score,\n",
    "        wiki_sbert_avg_score,\n",
    "        wiki_bertweet_avg_score,\n",
    "        wiki_sbertft_avg_score,\n",
    ")"
   ]
  },
  {
   "cell_type": "code",
   "execution_count": 36,
   "id": "68cba604",
   "metadata": {},
   "outputs": [
    {
     "data": {
      "image/png": "[encoded data removed]",
      "text/plain": [
       "<Figure size 432x288 with 1 Axes>"
      ]
     },
     "metadata": {},
     "output_type": "display_data"
    },
    {
     "data": {
      "image/png": "[encoded data removed]",
      "text/plain": [
       "<Figure size 432x288 with 1 Axes>"
      ]
     },
     "metadata": {},
     "output_type": "display_data"
    }
   ],
   "source": [
    "import seaborn as sns\n",
    "\n",
    "sns.set_theme()\n",
    "\n",
    "import matplotlib.pyplot as plt\n",
    "import pandas as pd\n",
    "\n",
    "df = pd.DataFrame({\n",
    "    'model': [\n",
    "        'w2v',\n",
    "        'w2v',\n",
    "        'BERT',\n",
    "        'BERT',\n",
    "        'S-BERT',\n",
    "        'S-BERT',\n",
    "        'BerTweet',\n",
    "        'BerTweet',\n",
    "        'S-BERT-ft',\n",
    "        'S-BERT-ft',\n",
    "    ],\n",
    "    'dataset': [\n",
    "        'twitter',\n",
    "        'wiki',\n",
    "        'twitter',\n",
    "        'wiki',\n",
    "        'twitter',\n",
    "        'wiki',\n",
    "        'twitter',\n",
    "        'wiki',\n",
    "        'twitter',\n",
    "        'wiki',\n",
    "    ],\n",
    "    'avg_rank': [\n",
    "        twitterrand_w2v_negsample_avgrank,\n",
    "        wiki_w2v_cbow_avgrank,\n",
    "        wikirand_w2v_cbow_avgrank,\n",
    "        twitterrand_bert_avg_rank,\n",
    "        wikirand_bert_avg_rank,\n",
    "        twitterrand_sbert_avg_rank,\n",
    "        wikirand_sbert_avg_rank,\n",
    "        twitterrand_bertweet_avg_rank,\n",
    "        wikirand_bertweet_avg_rank,\n",
    "        twitterrand_sbertft_avg_rank,\n",
    "        wikirand_sbertft_avg_rank,\n",
    "    ],\n",
    "    'top100_acc': [\n",
    "        twitterrand_w2v_negsample_top100acc,\n",
    "        wiki_w2v_cbow_top100acc\n",
    "        wikirand_w2v_cbow_top100acc,\n",
    "        twitterrand_bert_top100acc,\n",
    "        wikirand_bert_top100acc,\n",
    "        twitterrand_sbert_top100acc,\n",
    "        wikirand_sbert_top100acc,\n",
    "        twitterrand_bertweet_top100acc,\n",
    "        wikirand_bertweet_top100acc,\n",
    "        twitterrand_sbertft_top100acc,\n",
    "        wikirand_sbertft_top100acc,\n",
    "    ],\n",
    "})\n",
    "\n",
    "df.to_csv('result_restricted_randombio.csv', header=True, index=False)\n",
    "\n",
    "sns.barplot(data=df, x='dataset', y='top100_acc', hue='model')\n",
    "plt.show()\n",
    "\n",
    "sns.barplot(data=df, x='dataset', y='avg_rank', hue='model')\n",
    "plt.show()"
   ]
  },
  {
   "cell_type": "code",
   "execution_count": 68,
   "id": "c2f5b365",
   "metadata": {},
   "outputs": [
    {
     "data": {
      "image/png": "[encoded data removed]",
      "text/plain": [
       "<Figure size 504x216 with 1 Axes>"
      ]
     },
     "metadata": {},
     "output_type": "display_data"
    },
    {
     "data": {
      "image/png": "[encoded data removed]",
      "text/plain": [
       "<Figure size 504x216 with 1 Axes>"
      ]
     },
     "metadata": {},
     "output_type": "display_data"
    },
    {
     "data": {
      "image/png": "[encoded data removed]",
      "text/plain": [
       "<Figure size 504x216 with 1 Axes>"
      ]
     },
     "metadata": {},
     "output_type": "display_data"
    }
   ],
   "source": [
    "import seaborn as sns\n",
    "\n",
    "sns.set_theme()\n",
    "\n",
    "import matplotlib.pyplot as plt\n",
    "import pandas as pd\n",
    "\n",
    "df = pd.DataFrame({\n",
    "    'model': [\n",
    "        'w2v',\n",
    "        'w2v',\n",
    "        'BERT',\n",
    "        'BERT',\n",
    "        'S-BERT',\n",
    "        'S-BERT',\n",
    "        'BerTweet',\n",
    "        'BerTweet',\n",
    "        'S-BERT-ft',\n",
    "        'S-BERT-ft',\n",
    "    ],\n",
    "    'dataset': [\n",
    "        'twitter',\n",
    "        'wiki',\n",
    "        'twitter',\n",
    "        'wiki',\n",
    "        'twitter',\n",
    "        'wiki',\n",
    "        'twitter',\n",
    "        'wiki',\n",
    "        'twitter',\n",
    "        'wiki',\n",
    "    ],\n",
    "    'avg_rank': [\n",
    "        twitter_w2v_prj_avg_rank, \n",
    "        wiki_w2v_prj_avg_rank,\n",
    "        twitter_bert_prj_avg_rank, \n",
    "        wiki_bert_prj_avg_rank,\n",
    "        twitter_bertweet_prj_avg_rank, \n",
    "        wiki_bertweet_prj_avg_rank,\n",
    "        twitter_sbert_prj_avg_rank, \n",
    "        wiki_sbert_prj_avg_rank,\n",
    "        twitter_ftbert_prj_avg_rank, \n",
    "        wiki_ftbert_prj_avg_rank,\n",
    "    ],\n",
    "    'avg_score': [\n",
    "        twitter_w2v_prj_avg_score, \n",
    "        wiki_w2v_prj_avg_score,\n",
    "        twitter_bert_prj_avg_score, \n",
    "        wiki_bert_prj_avg_score,\n",
    "        twitter_bertweet_prj_avg_score, \n",
    "        wiki_bertweet_prj_avg_score,\n",
    "        twitter_sbert_prj_avg_score, \n",
    "        wiki_sbert_prj_avg_score,\n",
    "        twitter_ftbert_prj_avg_score, \n",
    "        wiki_ftbert_prj_avg_score,\n",
    "    ],\n",
    "    'top100_acc': [\n",
    "        twitter_w2v_prj_top100acc, \n",
    "        wiki_w2v_prj_top100acc,\n",
    "        twitter_bert_prj_top100acc, \n",
    "        wiki_bert_prj_top100acc,\n",
    "        twitter_bertweet_prj_top100acc, \n",
    "        wiki_bertweet_prj_top100acc,\n",
    "        twitter_sbert_prj_top100acc, \n",
    "        wiki_sbert_prj_top100acc,\n",
    "        twitter_ftbert_prj_top100acc, \n",
    "        wiki_ftbert_prj_top100acc,\n",
    "    ],\n",
    "})\n",
    "\n",
    "df.to_csv('fixed_target_projection_results.csv', header=True, index=False)\n",
    "\n",
    "plt.figure(figsize=(7,3))\n",
    "sns.barplot(data=df, x='dataset', y='top100_acc', hue='model')\n",
    "plt.legend(bbox_to_anchor=(1.05, 1), loc='upper left', borderaxespad=0)\n",
    "plt.show()\n",
    "\n",
    "plt.figure(figsize=(7,3))\n",
    "sns.barplot(data=df, x='dataset', y='avg_rank', hue='model')\n",
    "plt.legend(bbox_to_anchor=(1.05, 1), loc='upper left', borderaxespad=0)\n",
    "plt.show()\n",
    "\n",
    "plt.figure(figsize=(7,3))\n",
    "sns.barplot(data=df, x='dataset', y='avg_score', hue='model')\n",
    "plt.legend(bbox_to_anchor=(1.05, 1), loc='upper left', borderaxespad=0)\n",
    "plt.show()"
   ]
  },
  {
   "cell_type": "markdown",
   "id": "bab25d74",
   "metadata": {},
   "source": [
    "# per sample comparison - top samples"
   ]
  },
  {
   "cell_type": "markdown",
   "id": "7062c0b7",
   "metadata": {},
   "source": [
    "## load best rankings for w2v and fine-tuned model on twitter"
   ]
  },
  {
   "cell_type": "code",
   "execution_count": 42,
   "id": "82797ff7",
   "metadata": {},
   "outputs": [
    {
     "data": {
      "text/plain": [
       "(3147.0,\n",
       " ['larry',\n",
       "  'arsenal fc',\n",
       "  'savemyanmar',\n",
       "  's s',\n",
       "  'rise',\n",
       "  'god bless america',\n",
       "  'heritage',\n",
       "  'digital marketing',\n",
       "  'prof',\n",
       "  'columnist',\n",
       "  'communist',\n",
       "  'fuck it',\n",
       "  'so much more',\n",
       "  'freedom of speech',\n",
       "  '33',\n",
       "  'red velvet',\n",
       "  '100% follow back',\n",
       "  'blink',\n",
       "  'husband to',\n",
       "  'kc',\n",
       "  'pilot',\n",
       "  'chenle',\n",
       "  'supporting',\n",
       "  'michigan',\n",
       "  'chiefskingdom',\n",
       "  'chair',\n",
       "  'ua',\n",
       "  'star',\n",
       "  'gym rat',\n",
       "  'packers',\n",
       "  'online',\n",
       "  'pussy',\n",
       "  'pfp made by',\n",
       "  'sr',\n",
       "  'all views',\n",
       "  'army forever',\n",
       "  'netflix',\n",
       "  'bds',\n",
       "  'got7',\n",
       "  'cd',\n",
       "  '1a',\n",
       "  'bts_twt',\n",
       "  'intelligent',\n",
       "  'christian',\n",
       "  'bh',\n",
       "  'kpop stan',\n",
       "  'resistor',\n",
       "  'many more',\n",
       "  'president trump',\n",
       "  'editor-in-chief'])"
      ]
     },
     "execution_count": 42,
     "metadata": {},
     "output_type": "execute_result"
    }
   ],
   "source": [
    "from sentence_transformers import SentenceTransformer, models, util\n",
    "\n",
    "def get_topk_ranks(w2v_model, x, y ,pi_dict, device='cpu', k=50):\n",
    "    pi_list = list(pi_dict.keys())\n",
    "    inv_dict = {v:k for k,v in pi_dict.items()}\n",
    "    \n",
    "    emb_x = torch.tensor([w2v_model.wv.get_mean_vector(x),], device=device)\n",
    "    emb_all = torch.tensor([w2v_model.wv.get_vector(x) for x in pi_list], device=device)\n",
    "    \n",
    "    i = 0\n",
    "\n",
    "    cosine_scores = util.cos_sim(emb_x, emb_all)\n",
    "    ranks = torch.argsort(cosine_scores, dim=1, descending=True)\n",
    "    rankranks = torch.argsort(ranks, dim=1)\n",
    "    \n",
    "    top_idxs = ranks[0,:k].tolist()\n",
    "    top_pis = [inv_dict[i] for i in top_idxs]\n",
    "    target_idx = torch.tensor([pi_dict[y]], dtype=torch.int64)\n",
    "    target_rank = torch.gather(rankranks, 1, target_idx.unsqueeze(1).reshape(-1,1)).type(torch.FloatTensor).tolist()[0][0]\n",
    "\n",
    "    return target_rank, top_pis\n",
    "\n",
    "\n",
    "\n",
    "get_topk_ranks(\n",
    "    w2v_twitter_negsamp_model,\n",
    "    x=['dsd', 'xxxxxx', 'sd;flskdf;'],\n",
    "    y='maga',\n",
    "    pi_dict=twitter_pi_dict,\n",
    ")\n"
   ]
  },
  {
   "cell_type": "code",
   "execution_count": 20,
   "id": "e36aa39e",
   "metadata": {},
   "outputs": [
    {
     "data": {
      "text/plain": [
       "[(['writer', 'reader', 'gamer', 'son', 'brother'], 'marine'),\n",
       " (['she', 'bts', 'txt'], 'her'),\n",
       " (['qualquer pronome'], 'official'),\n",
       " (['manutd'], 'imvkohli'),\n",
       " (['liverpool fan'], 'ynwa'),\n",
       " (['xxx'], 'meow'),\n",
       " (['sometimes i draw', '15', 'femboy'], 'mxico'),\n",
       " (['browns'], 'dodgers'),\n",
       " (['music', 'be nice'], 'support'),\n",
       " (['fanaccount'], 'army'),\n",
       " (['visual'], 'stan talent'),\n",
       " (['he'], 'him'),\n",
       " (['entrepreneur',\n",
       "   'podcaster',\n",
       "   'youtuber',\n",
       "   'technologist',\n",
       "   'strategist',\n",
       "   'father'],\n",
       "  'husband'),\n",
       " (['resist'], 'bidenharris'),\n",
       " (['her'], 'she'),\n",
       " (['tweets are mine'], 'of course'),\n",
       " (['dms', 'trolls', 'wwg1wga'], 'maga'),\n",
       " (['sci-fi', 'gadgets', 'fashion'], 'wine'),\n",
       " (['indian', 'actorvijay'], 'thalapathy'),\n",
       " (['stylist', 'content creator'], 'fashion designer'),\n",
       " (['entrepreneur', 'quality', 'shoes'], 'nurse'),\n",
       " (['she', 'her'], 'hers'),\n",
       " (['fantasy'], 'writing'),\n",
       " (['2pm', 'got7'], 'bambam'),\n",
       " (['one direction', 'her'], 'she'),\n",
       " (['19', 'them', 'pan', 'taken'], 'he'),\n",
       " (['others'], 'photographer'),\n",
       " (['streamer for'], 'grinding for'),\n",
       " (['her pronouns', 'not a bot'], 'she'),\n",
       " (['jimin'], 'fan account'),\n",
       " (['recording artist', 'florida'], 'actor'),\n",
       " (['singer', 'songwriter'], 'link'),\n",
       " (['sometimes', 'bilingual'], 'blacklivesmatter'),\n",
       " (['twitch affiliate', 'content creator for'], 'father'),\n",
       " (['18+ only', 'minors dni'], '22'),\n",
       " (['nctdream', 'renjun'], 'for'),\n",
       " (['hi'], 'ga'),\n",
       " (['23', 'pisces', 'intp', 'coffee addict'], 'brat'),\n",
       " (['blogger'], 'youtuber'),\n",
       " (['content creator', '23'], 'graphic designer'),\n",
       " (['nerd', 'apple'], 'techie'),\n",
       " (['author', 'psychologist', 'fan', 'straykids', 'stay'], 'bidenharris2020'),\n",
       " (['youtube'], 'tv'),\n",
       " (['wife', 'lover of animals', 'biden', 'resister'], 'harris'),\n",
       " (['health', 'fitness'], 'horror movies'),\n",
       " (['gaming', 'anime'], 'games'),\n",
       " (['blackpink', 'fan account'], 'jennie'),\n",
       " (['teacher'], 'gamer'),\n",
       " (['porn'], 'memes'),\n",
       " (['her'], 'she'),\n",
       " (['paris'], 'poet'),\n",
       " (['doctor'], 'author'),\n",
       " (['cinema', 'etc'], 'art'),\n",
       " (['blink'], 'ikonic'),\n",
       " (['she', 'her'], 'hers'),\n",
       " (['libertarian'], 'ynwa'),\n",
       " (['barcelona', 'lakers'], 'liverpool'),\n",
       " (['tae', 'ot7', 'see', 'blm', 'she', 'her', '20'], 'fan account'),\n",
       " (['nasty', 'raw'], 'fun'),\n",
       " (['water'], 'information'),\n",
       " (['artist', 'producer', 'ncat'], 'engineer'),\n",
       " (['environmentalist', 'mechanical engineer', 'equality'], 'muslim'),\n",
       " (['footballer'], 'medical student'),\n",
       " (['army'], 'animals'),\n",
       " (['dogs', 'au'], 'sport'),\n",
       " (['20', 'ot7', 'enthusiast'], 'hit me up'),\n",
       " (['gamer', 'weeb'], 'multistan'),\n",
       " (['nc', 'mi'], 'nupe'),\n",
       " (['anti-fascist', 'queer', 'disabled', 'parent', 'advocate'], 'knitter'),\n",
       " (['nature', 'anime', '25', 'ger', 'eng'], 'cats'),\n",
       " (['mom', 'patriot', 'pro-life', 'constitutionalist'], 'wife'),\n",
       " (['black lives matter', 'she', 'header'], 'her'),\n",
       " (['her'], 'she'),\n",
       " (['19', 'him', 'horny'], 'he'),\n",
       " (['16'], 'vascodagama'),\n",
       " (['backup'], '1312'),\n",
       " (['life'], 'pilot'),\n",
       " (['houston'], 'atlanta'),\n",
       " (['he', 'him'], 'black lives matter'),\n",
       " (['sad', 'animal lover', 'she', 'her'], 'vegan'),\n",
       " (['rp'], '1997'),\n",
       " (['father', 'husband'], 'geek'),\n",
       " (['country'], 'family'),\n",
       " (['family', 'freedom'], 'god'),\n",
       " (['wife', 'mom', 'tech enthusiast', 'innovator'], 'educator'),\n",
       " (['car'], 'realtor'),\n",
       " ([\"i'll follow back\"], 'follow me'),\n",
       " (['wenee', 'fan acct'], 'monbebe'),\n",
       " (['her'], 'she'),\n",
       " (['usa', 'uk', 'uk', 'mma', 'rugby'], 'africa'),\n",
       " (['she', 'her'], 'photographer'),\n",
       " (['politics'], 'tesla'),\n",
       " (['19', 'bi', 'switch'], 'venmo'),\n",
       " (['maga', 'conservative', 'wwg1wga', 'happily married'], 'jesus'),\n",
       " (['he', 'draw', 'write sometimes'], 'him'),\n",
       " (['commentary', 'more'], 'events'),\n",
       " (['experience'], 'commentary'),\n",
       " (['jeremiah 29:11'], 'marketer'),\n",
       " (['poet', 'chemist', 'basketball', 'mufc', 'email', 'thanks'],\n",
       "  'business page'),\n",
       " (['playwright', 'formerly'], 'actress')]"
      ]
     },
     "execution_count": 20,
     "metadata": {},
     "output_type": "execute_result"
    }
   ],
   "source": [
    "xs, ys = zip(*w2v_test_ds_twitter)\n",
    "w2v_test_ds_twitter[:100]"
   ]
  },
  {
   "cell_type": "markdown",
   "id": "fe137609",
   "metadata": {},
   "source": [
    "# build survey questions"
   ]
  },
  {
   "cell_type": "markdown",
   "id": "4f8af9de",
   "metadata": {},
   "source": [
    "## neighborhood score + negative sampling choices"
   ]
  },
  {
   "cell_type": "code",
   "execution_count": null,
   "id": "5d522613",
   "metadata": {},
   "outputs": [],
   "source": [
    "import pandas as pd\n",
    "from ast import literal_eval\n",
    "\n",
    "df = pd.read_csv('twitter_pi_with_neighbors_tfidf.csv')\n",
    "print(df.head())\n",
    "df.positives = df.positives.apply(literal_eval)\n",
    "df.negatives = df.negatives.apply(literal_eval)"
   ]
  },
  {
   "cell_type": "code",
   "execution_count": null,
   "id": "bd980929",
   "metadata": {},
   "outputs": [],
   "source": [
    "from tqdm import tqdm\n",
    "from random import randint\n",
    "\n",
    "pis = df['pis']\n",
    "positives = df['positives']\n",
    "negatives = df['negatives']\n",
    "\n",
    "sample_cnt = 500\n",
    "questions = []\n",
    "targets = []\n",
    "other_choices = []\n",
    "\n",
    "sample_idices = np.random.randint(0, len(df), size=sample_cnt)\n",
    "\n",
    "for qid in sample_idices:\n",
    "    q = pis[qid]\n",
    "    cur_pos = positives[qid]\n",
    "    cur_neg = negatives[qid]\n",
    "    target = cur_pos[randint(0,len(cur_pos)-1)]\n",
    "    targets.append(target)\n",
    "    questions.append(q)\n",
    "    other_choices.append(np.random.choice(cur_neg, size=3, replace=False))\n",
    "    \n",
    "res = pd.DataFrame({'question_pi': questions, 'ans_pi': targets, 'other_choices': other_choices})\n",
    "res.to_csv('surrvey_tfidf_twitter.csv', index=False, header=True)"
   ]
  },
  {
   "cell_type": "code",
   "execution_count": null,
   "id": "b86922b5",
   "metadata": {},
   "outputs": [],
   "source": [
    "!head surrvey_tfidf_twitter.csv -n 100"
   ]
  },
  {
   "cell_type": "markdown",
   "id": "e799829b",
   "metadata": {},
   "source": [
    "## model based question generation"
   ]
  },
  {
   "cell_type": "code",
   "execution_count": null,
   "id": "3166fb04",
   "metadata": {},
   "outputs": [],
   "source": [
    "from sentence_transformers import SentenceTransformer, models, util\n",
    "\n",
    "fint_model = SentenceTransformer('./models/miniLM-L6-finetuned/')"
   ]
  },
  {
   "cell_type": "code",
   "execution_count": null,
   "id": "61ac0a72",
   "metadata": {},
   "outputs": [],
   "source": [
    "from tqdm import tqdm\n",
    "from random import randint\n",
    "\n",
    "\n",
    "all_pis = df['pis']\n",
    "sims = df['similars']\n",
    "sample_cnt = 500\n",
    "\n",
    "questions = []\n",
    "targets = []\n",
    "other_choices = []\n",
    "\n",
    "i = 0\n",
    "while i < sample_cnt:\n",
    "    idx = randint(0, len(all_pis)-1)\n",
    "    questions.append(all_pis[idx])\n",
    "    i += 1\n",
    "\n"
   ]
  },
  {
   "cell_type": "code",
   "execution_count": null,
   "id": "88ea973d",
   "metadata": {},
   "outputs": [],
   "source": [
    "fint_emb_x = fint_model.encode(questions, convert_to_tensor=True)\n",
    "fint_emb_all = fint_model.encode(all_pis, convert_to_tensor=True)\n"
   ]
  },
  {
   "cell_type": "code",
   "execution_count": null,
   "id": "43b25cf4",
   "metadata": {},
   "outputs": [],
   "source": [
    "import numpy as np\n",
    "\n",
    "targets = []\n",
    "other_choices = []\n",
    "\n",
    "for x in tqdm(fint_emb_x):\n",
    "    cosine_scores = util.cos_sim(x, fint_emb_all).detach().cpu().numpy()[0]\n",
    "    argsort = np.argsort(cosine_scores)\n",
    "    best_k = argsort[-6:-1]\n",
    "    worst_k = argsort[:len(argsort)//2]\n",
    "    \n",
    "    target_idx = np.random.choice(best_k)\n",
    "    targets.append(all_pis[target_idx])\n",
    "    \n",
    "    other_idxs = np.random.choice(worst_k, size=3, replace=False)\n",
    "    other_choices.append([all_pis[x] for x in other_idxs])\n",
    "    \n",
    "    \n",
    "res = pd.DataFrame({'question_pi': questions, 'ans_pi': targets, 'other_choices': other_choices})\n",
    "res.to_csv('modelbased-selection.csv', index=False, header=True)\n",
    "    "
   ]
  },
  {
   "cell_type": "code",
   "execution_count": null,
   "id": "7bf38c3a",
   "metadata": {},
   "outputs": [],
   "source": [
    "!head modelbased-selection.csv"
   ]
  },
  {
   "cell_type": "code",
   "execution_count": null,
   "id": "0ae77b6d",
   "metadata": {},
   "outputs": [],
   "source": []
  }
 ],
 "metadata": {
  "kernelspec": {
   "display_name": "Python 3 (ipykernel)",
   "language": "python",
   "name": "python3"
  },
  "language_info": {
   "codemirror_mode": {
    "name": "ipython",
    "version": 3
   },
   "file_extension": ".py",
   "mimetype": "text/x-python",
   "name": "python",
   "nbconvert_exporter": "python",
   "pygments_lexer": "ipython3",
   "version": "3.8.12"
  },
  "toc": {
   "base_numbering": 1,
   "nav_menu": {},
   "number_sections": true,
   "sideBar": true,
   "skip_h1_title": false,
   "title_cell": "Table of Contents",
   "title_sidebar": "Contents",
   "toc_cell": false,
   "toc_position": {
    "height": "calc(100% - 180px)",
    "left": "10px",
    "top": "150px",
    "width": "349.047px"
   },
   "toc_section_display": true,
   "toc_window_display": true
  }
 },
 "nbformat": 4,
 "nbformat_minor": 5
}
