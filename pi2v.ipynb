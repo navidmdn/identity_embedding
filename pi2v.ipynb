{
 "cells": [
  {
   "cell_type": "markdown",
   "id": "04a048cc",
   "metadata": {},
   "source": [
    "# Loading twitter bios"
   ]
  },
  {
   "cell_type": "code",
   "execution_count": 3,
   "id": "1a19f38e",
   "metadata": {},
   "outputs": [
    {
     "data": {
      "text/plain": [
       "[['\"', 'economia', 'team manager'],\n",
       " ['socilogo', 'hincha de', 'sanlorenzo'],\n",
       " ['twitch affiliate',\n",
       "  'k-pop',\n",
       "  'taylor swift',\n",
       "  'disney',\n",
       "  'she',\n",
       "  'her',\n",
       "  'stan account'],\n",
       " ['business owner', 'atheist', 'music', 'vinyl junkie', 'caffeine addict'],\n",
       " ['god', 'freedom', 'justice', 'si vis pacem', 'para bellum'],\n",
       " ['investigator', 'wife', 'broncos', 'cyclones'],\n",
       " ['actor',\n",
       "  'traveller',\n",
       "  'writer',\n",
       "  'producer',\n",
       "  'director',\n",
       "  'grampa',\n",
       "  'photographer',\n",
       "  'actuallyautistic'],\n",
       " ['documentary filmmaker', 'audio producer', 'editor', 'columbiajourn'],\n",
       " ['proud', 'vegan', 'novaccinepassports', 'ffs'],\n",
       " ['levi', 'devote', 'eng']]"
      ]
     },
     "execution_count": 3,
     "metadata": {},
     "output_type": "execute_result"
    }
   ],
   "source": [
    "import pickle\n",
    "with open('data/twitter_bios.pkl', 'rb') as f:\n",
    "    bios = pickle.load(f)\n",
    "    \n",
    "bios[100:110]"
   ]
  },
  {
   "cell_type": "code",
   "execution_count": 4,
   "id": "b48510dd",
   "metadata": {},
   "outputs": [
    {
     "name": "stdout",
     "output_type": "stream",
     "text": [
      "3997690\n"
     ]
    }
   ],
   "source": [
    "print(len(bios))"
   ]
  },
  {
   "cell_type": "markdown",
   "id": "6bbf8c10",
   "metadata": {},
   "source": [
    "# Cleaning data"
   ]
  },
  {
   "cell_type": "markdown",
   "id": "24388589",
   "metadata": {},
   "source": [
    "## phrase cleaning"
   ]
  },
  {
   "cell_type": "code",
   "execution_count": 5,
   "id": "f2ea45e2",
   "metadata": {},
   "outputs": [
    {
     "data": {
      "text/plain": [
       "37945"
      ]
     },
     "execution_count": 5,
     "metadata": {},
     "output_type": "execute_result"
    }
   ],
   "source": [
    "# build a vocabulary of phrases\n",
    "\n",
    "from collections import Counter\n",
    "\n",
    "pi_cnt = Counter()\n",
    "for bio in bios:\n",
    "    pi_cnt.update(bio)\n",
    "\n",
    "len(pi_cnt)"
   ]
  },
  {
   "cell_type": "code",
   "execution_count": 6,
   "id": "d79ad7e6",
   "metadata": {},
   "outputs": [
    {
     "data": {
      "text/plain": [
       "[('she', 511401),\n",
       " ('her', 434333),\n",
       " ('he', 261794),\n",
       " ('him', 215057),\n",
       " ('they', 163877)]"
      ]
     },
     "execution_count": 6,
     "metadata": {},
     "output_type": "execute_result"
    }
   ],
   "source": [
    "pi_cnt.most_common(5)"
   ]
  },
  {
   "cell_type": "code",
   "execution_count": 7,
   "id": "aad1f8b1",
   "metadata": {},
   "outputs": [
    {
     "data": {
      "text/plain": [
       "[('mo paz', 2),\n",
       " ('fala tu', 2),\n",
       " ('no bio yet', 2),\n",
       " ('lovely content', 1),\n",
       " ('skip for now', 1)]"
      ]
     },
     "execution_count": 7,
     "metadata": {},
     "output_type": "execute_result"
    }
   ],
   "source": [
    "pi_cnt.most_common(len(pi_cnt))[-5:]"
   ]
  },
  {
   "cell_type": "markdown",
   "id": "89587ee3",
   "metadata": {},
   "source": [
    "## cleaning each bio"
   ]
  },
  {
   "cell_type": "code",
   "execution_count": 8,
   "id": "b5283dbf",
   "metadata": {},
   "outputs": [
    {
     "name": "stderr",
     "output_type": "stream",
     "text": [
      "100%|██████████| 3997690/3997690 [00:12<00:00, 310072.43it/s]"
     ]
    },
    {
     "name": "stdout",
     "output_type": "stream",
     "text": [
      "3971632\n"
     ]
    },
    {
     "name": "stderr",
     "output_type": "stream",
     "text": [
      "\n"
     ]
    }
   ],
   "source": [
    "from tqdm import tqdm\n",
    "\n",
    "# phrases of lenght at least 2\n",
    "# profiles with at least 2 phrases\n",
    "\n",
    "def clean_pis(all_pis):\n",
    "    result = []\n",
    "    for pis in tqdm(all_pis):\n",
    "        current_pi = set()\n",
    "        for pi in pis:\n",
    "            if len(pi) >= 2 and pi_cnt[pi] >= 10:\n",
    "                current_pi.add(pi)\n",
    "        if len(current_pi) > 1:\n",
    "            result.append(list(current_pi))\n",
    "            \n",
    "    return result\n",
    "            \n",
    "cleaned_bios = clean_pis(bios)\n",
    "print(len(cleaned_bios))"
   ]
  },
  {
   "cell_type": "markdown",
   "id": "b8579a27",
   "metadata": {},
   "source": [
    "# Contrastive learning"
   ]
  },
  {
   "cell_type": "markdown",
   "id": "c4049e62",
   "metadata": {},
   "source": [
    "## generating positive negative samples"
   ]
  },
  {
   "cell_type": "code",
   "execution_count": 68,
   "id": "6eb9783c",
   "metadata": {},
   "outputs": [
    {
     "name": "stderr",
     "output_type": "stream",
     "text": [
      "100%|███████████████████████████████████████████████████████████████████████████████████████████████████████████████████████████████████████████████████████████| 3971632/3971632 [07:26<00:00, 8904.14it/s]\n"
     ]
    }
   ],
   "source": [
    "# from each person's bio I create at most K triplets\n",
    "from random import randint\n",
    "import numpy as np\n",
    "\n",
    "def pair_in_list(current_pair, l):\n",
    "    for pair in l:\n",
    "        if current_pair[0] in pair and current_pair[1] in pair:\n",
    "            return True\n",
    "    return False\n",
    "\n",
    "def generate_triplets(bios, k=3):\n",
    "    samples = []\n",
    "    for idx, bio in tqdm(enumerate(bios), total=len(bios)):\n",
    "        iters = min(len(bio)-1, k)\n",
    "        chosen_pis = []\n",
    "        for i in range(iters):\n",
    "            pos1, pos2 = np.random.choice(bio, size=2, replace=False)\n",
    "            while pair_in_list([pos1,pos2], chosen_pis):\n",
    "                pos1, pos2 = np.random.choice(bio, size=2, replace=False)\n",
    "                #print(pos1, pos2, chosen_pis, len(bio), bio)\n",
    "            chosen_pis.append([pos1, pos2])\n",
    "            neg_idx = randint(0, len(bios)-1)\n",
    "            neg_sample = np.random.choice(bios[neg_idx], size=1)[0]\n",
    "            samples.append([pos1, pos2, neg_sample])\n",
    "    return samples\n",
    "            \n",
    "triplets = generate_triplets(cleaned_bios, k=3)"
   ]
  },
  {
   "cell_type": "markdown",
   "id": "30d18ff5",
   "metadata": {},
   "source": [
    "## save dataset"
   ]
  },
  {
   "cell_type": "code",
   "execution_count": 69,
   "id": "b096589a",
   "metadata": {},
   "outputs": [],
   "source": [
    "import pickle \n",
    "\n",
    "with open('triplets.pkl', 'wb') as f:\n",
    "    pickle.dump(triplets, f)"
   ]
  },
  {
   "cell_type": "code",
   "execution_count": 73,
   "id": "3e7dbd2f",
   "metadata": {},
   "outputs": [
    {
     "name": "stdout",
     "output_type": "stream",
     "text": [
      "train size: 7171899, test size: 3073672\n"
     ]
    }
   ],
   "source": [
    "from sklearn.model_selection import train_test_split\n",
    "\n",
    "train_set, valid_set = train_test_split(triplets, test_size=0.3, shuffle=True)\n",
    "\n",
    "print(f\"train size: {len(train_set)}, test size: {len(valid_set)}\")"
   ]
  },
  {
   "cell_type": "code",
   "execution_count": 79,
   "id": "14753b8d",
   "metadata": {},
   "outputs": [],
   "source": [
    "!mkdir data"
   ]
  },
  {
   "cell_type": "code",
   "execution_count": 84,
   "id": "3a04481f",
   "metadata": {},
   "outputs": [],
   "source": [
    "!mkdir models"
   ]
  },
  {
   "cell_type": "code",
   "execution_count": 82,
   "id": "9209cd27",
   "metadata": {},
   "outputs": [],
   "source": [
    "import csv\n",
    "\n",
    "# writing the data into the file\n",
    "with open('data/valid.csv', 'w') as f:   \n",
    "    write = csv.writer(f, delimiter='\\t')\n",
    "    write.writerows(valid_set)\n",
    "    \n",
    "with open('data/train.csv', 'w') as f:   \n",
    "    write = csv.writer(f, delimiter='\\t')\n",
    "    write.writerows(train_set)\n"
   ]
  },
  {
   "cell_type": "markdown",
   "id": "166c4db8",
   "metadata": {},
   "source": [
    "## load dataset"
   ]
  },
  {
   "cell_type": "code",
   "execution_count": 7,
   "id": "6b7a0d98",
   "metadata": {},
   "outputs": [],
   "source": [
    "import pickle \n",
    "\n",
    "with open('data/triplets.pkl', 'rb') as f:\n",
    "    triplets = pickle.load(f)"
   ]
  },
  {
   "cell_type": "markdown",
   "id": "7ba7ad2d",
   "metadata": {},
   "source": [
    "## finetuning"
   ]
  },
  {
   "cell_type": "markdown",
   "id": "cf22515a",
   "metadata": {},
   "source": [
    "### building the dataset\n"
   ]
  },
  {
   "cell_type": "code",
   "execution_count": 2,
   "id": "72d8c754",
   "metadata": {},
   "outputs": [],
   "source": [
    "import csv\n",
    "from sentence_transformers import SentenceTransformer, InputExample, losses\n",
    "from torch.utils.data import DataLoader\n",
    "\n",
    "with open('data/train.csv', newline='') as f:\n",
    "    train_examples = []\n",
    "    reader = csv.reader(f, delimiter='\\t', quoting=csv.QUOTE_NONE)\n",
    "    for row in reader:\n",
    "        train_examples.append(InputExample(texts=[row[0], row[1]], label=1.0))\n",
    "        train_examples.append(InputExample(texts=[row[0], row[2]], label=0.0))\n",
    "    "
   ]
  },
  {
   "cell_type": "markdown",
   "id": "23ca3a11",
   "metadata": {},
   "source": [
    "### loading evaluation dataset"
   ]
  },
  {
   "cell_type": "code",
   "execution_count": 3,
   "id": "3f1ae891",
   "metadata": {},
   "outputs": [],
   "source": [
    "\n",
    "from sentence_transformers import evaluation\n",
    "\n",
    "with open('data/valid.csv', newline='') as f:\n",
    "    sent1s = []\n",
    "    sent2s = []\n",
    "    scores = []\n",
    "    i = 0\n",
    "    reader = csv.reader(f, delimiter='\\t', quoting=csv.QUOTE_NONE)\n",
    "    for row in reader:\n",
    "        sent1s.append(row[0])\n",
    "        sent1s.append(row[0])\n",
    "        sent2s.append(row[1])\n",
    "        sent2s.append(row[2])\n",
    "        scores.append(1.0)\n",
    "        scores.append(0.0)\n",
    "        if i > 30000:\n",
    "            break\n",
    "        i += 1\n",
    "evaluator = evaluation.EmbeddingSimilarityEvaluator(sent1s, sent2s, scores)\n"
   ]
  },
  {
   "cell_type": "markdown",
   "id": "d645e1e0",
   "metadata": {},
   "source": [
    "### creating data loaders"
   ]
  },
  {
   "cell_type": "code",
   "execution_count": 4,
   "id": "253e199f",
   "metadata": {},
   "outputs": [
    {
     "data": {
      "text/plain": [
       "SentenceTransformer(\n",
       "  (0): Transformer({'max_seq_length': 256, 'do_lower_case': False}) with Transformer model: BertModel \n",
       "  (1): Pooling({'word_embedding_dimension': 384, 'pooling_mode_cls_token': False, 'pooling_mode_mean_tokens': True, 'pooling_mode_max_tokens': False, 'pooling_mode_mean_sqrt_len_tokens': False})\n",
       "  (2): Normalize()\n",
       "  (3): Dense({'in_features': 384, 'out_features': 256, 'bias': True, 'activation_function': 'torch.nn.modules.activation.Tanh'})\n",
       ")"
      ]
     },
     "execution_count": 4,
     "metadata": {},
     "output_type": "execute_result"
    }
   ],
   "source": [
    "from sentence_transformers import SentenceTransformer, models\n",
    "from torch import nn\n",
    "\n",
    "model_name = 'all-MiniLM-L6-v2'\n",
    "model = SentenceTransformer(model_name)\n",
    "dense_model = models.Dense(in_features=model.get_sentence_embedding_dimension(), out_features=256, activation_function=nn.Tanh())\n",
    "model.add_module('3', dense_model)\n",
    "\n",
    "train_dataloader = DataLoader(train_examples, shuffle=True, batch_size=128)\n",
    "train_loss = losses.CosineSimilarityLoss(model)\n",
    "\n",
    "model"
   ]
  },
  {
   "cell_type": "markdown",
   "id": "2b6804d7",
   "metadata": {},
   "source": [
    "### training"
   ]
  },
  {
   "cell_type": "code",
   "execution_count": null,
   "id": "c30365eb",
   "metadata": {},
   "outputs": [
    {
     "data": {
      "application/vnd.jupyter.widget-view+json": {
       "model_id": "c2f01a8d559c49f4aa869ab37791d2ae",
       "version_major": 2,
       "version_minor": 0
      },
      "text/plain": [
       "Epoch:   0%|          | 0/1 [00:00<?, ?it/s]"
      ]
     },
     "metadata": {},
     "output_type": "display_data"
    },
    {
     "data": {
      "application/vnd.jupyter.widget-view+json": {
       "model_id": "7e505bcb877a47f1982e8e432e24c692",
       "version_major": 2,
       "version_minor": 0
      },
      "text/plain": [
       "Iteration:   0%|          | 0/112061 [00:00<?, ?it/s]"
      ]
     },
     "metadata": {},
     "output_type": "display_data"
    }
   ],
   "source": [
    "output_model_path = 'pi_model'\n",
    "\n",
    "model.fit(train_objectives=[(train_dataloader, train_loss)],\n",
    "          evaluator=evaluator,\n",
    "          epochs=1,\n",
    "          evaluation_steps=1000,\n",
    "          warmup_steps=10000,\n",
    "          output_path=output_model_path)"
   ]
  },
  {
   "cell_type": "markdown",
   "id": "67356ab1",
   "metadata": {},
   "source": [
    "## evaluation"
   ]
  },
  {
   "cell_type": "markdown",
   "id": "6f996d9b",
   "metadata": {},
   "source": [
    "### loading saved model"
   ]
  },
  {
   "cell_type": "code",
   "execution_count": 203,
   "id": "99293b13",
   "metadata": {},
   "outputs": [
    {
     "name": "stdout",
     "output_type": "stream",
     "text": [
      "env: CUDA_VISIBLE_DEVICES=1\n"
     ]
    }
   ],
   "source": [
    "%env CUDA_VISIBLE_DEVICES=1"
   ]
  },
  {
   "cell_type": "code",
   "execution_count": 204,
   "id": "82ba41ae",
   "metadata": {},
   "outputs": [
    {
     "data": {
      "text/plain": [
       "SentenceTransformer(\n",
       "  (0): Transformer({'max_seq_length': 128, 'do_lower_case': False}) with Transformer model: BertModel \n",
       "  (1): Pooling({'word_embedding_dimension': 768, 'pooling_mode_cls_token': False, 'pooling_mode_mean_tokens': True, 'pooling_mode_max_tokens': False, 'pooling_mode_mean_sqrt_len_tokens': False})\n",
       ")"
      ]
     },
     "execution_count": 204,
     "metadata": {},
     "output_type": "execute_result"
    }
   ],
   "source": [
    "from sentence_transformers import SentenceTransformer, models\n",
    "\n",
    "model = SentenceTransformer('./models/')\n",
    "\n",
    "model"
   ]
  },
  {
   "cell_type": "markdown",
   "id": "2ee894bf",
   "metadata": {},
   "source": [
    "### calculating encodings for all phrases"
   ]
  },
  {
   "cell_type": "code",
   "execution_count": 205,
   "id": "ad34c86c",
   "metadata": {},
   "outputs": [
    {
     "name": "stdout",
     "output_type": "stream",
     "text": [
      "37831\n"
     ]
    }
   ],
   "source": [
    "pis = set()\n",
    "\n",
    "for bio in cleaned_bios:\n",
    "    pis.update(bio)\n",
    "\n",
    "pis = list(pis)\n",
    "print(len(pis))\n",
    "\n",
    "embeddings = model.encode(pis, convert_to_tensor=True)\n",
    "        "
   ]
  },
  {
   "cell_type": "code",
   "execution_count": 206,
   "id": "0e114b0b",
   "metadata": {},
   "outputs": [
    {
     "data": {
      "text/plain": [
       "array([ 0, 13,  7,  5,  6,  1])"
      ]
     },
     "execution_count": 206,
     "metadata": {},
     "output_type": "execute_result"
    }
   ],
   "source": [
    "import numpy as np\n",
    "\n",
    "np.argsort(cosine_scores[10])[:-10]"
   ]
  },
  {
   "cell_type": "code",
   "execution_count": 207,
   "id": "237ba151",
   "metadata": {},
   "outputs": [
    {
     "data": {
      "text/plain": [
       "[('infj-t', 0.9704561),\n",
       " ('infp-t', 0.97080636),\n",
       " ('isfj', 0.9721866),\n",
       " ('esfp', 0.9725394),\n",
       " ('infp', 0.97396433),\n",
       " ('isfj-t', 0.9744297),\n",
       " ('enfp-t', 0.9799815),\n",
       " ('esfp-t', 0.98076516),\n",
       " ('isfp-t', 0.9852693)]"
      ]
     },
     "execution_count": 207,
     "metadata": {},
     "output_type": "execute_result"
    }
   ],
   "source": [
    "def most_similar(pi, all_pis, all_pi_embs, model, k=11):\n",
    "    cur_emb = model.encode(pi, convert_to_tensor=True)\n",
    "    cosine_scores = util.cos_sim(cur_emb, all_pi_embs).detach().cpu().numpy()[0]\n",
    "    most_similars = np.argsort(cosine_scores)[-k:]\n",
    "    return [(all_pis[i], cosine_scores[i]) for i in most_similars if pi!=all_pis[i]]\n",
    "\n",
    "most_similar('isfp', pis, embeddings, model, k=10)"
   ]
  },
  {
   "cell_type": "code",
   "execution_count": 208,
   "id": "94edeb53",
   "metadata": {},
   "outputs": [
    {
     "name": "stdout",
     "output_type": "stream",
     "text": [
      "tensor([[0.3405]], device='cuda:0') tensor([[0.4059]], device='cuda:0') tensor([[0.1651]], device='cuda:0') tensor([[0.1771]], device='cuda:0')\n",
      "tensor([[0.4248]], device='cuda:0') tensor([[0.4971]], device='cuda:0') tensor([[0.2246]], device='cuda:0') tensor([[0.2016]], device='cuda:0')\n",
      "tensor([[0.3892]], device='cuda:0') tensor([[0.4885]], device='cuda:0') tensor([[0.1872]], device='cuda:0') tensor([[0.1846]], device='cuda:0')\n"
     ]
    }
   ],
   "source": [
    "def get_similarity(w1, w2, model=model):\n",
    "    emb1 = model.encode(w1, convert_to_tensor=True)\n",
    "    emb2 = model.encode(w2, convert_to_tensor=True)\n",
    "    return util.cos_sim(emb1, emb2)\n",
    "\n",
    "print(\n",
    "    get_similarity('isfj', 'man'),\n",
    "    get_similarity('isfj', 'woman'),\n",
    "    get_similarity('isfj', 'man', model=base_model),\n",
    "    get_similarity('isfj', 'woman', model=base_model),\n",
    ")\n",
    "\n",
    "print(\n",
    "    get_similarity('intj', 'man'),\n",
    "    get_similarity('intj', 'woman'),\n",
    "    get_similarity('intj', 'man', model=base_model),\n",
    "    get_similarity('intj', 'woman', model=base_model),\n",
    ")\n",
    "\n",
    "print(\n",
    "    get_similarity('entj', 'man'),\n",
    "    get_similarity('entj', 'woman'),\n",
    "    get_similarity('entj', 'man', model=base_model),\n",
    "    get_similarity('entj', 'woman', model=base_model),\n",
    ")\n"
   ]
  },
  {
   "cell_type": "code",
   "execution_count": 183,
   "id": "8a1f8c21",
   "metadata": {},
   "outputs": [
    {
     "data": {
      "text/plain": [
       "tensor([[0.1856]], device='cuda:0')"
      ]
     },
     "execution_count": 183,
     "metadata": {},
     "output_type": "execute_result"
    }
   ],
   "source": [
    "mom_emb = base_model.encode('intp', convert_to_tensor=True)\n",
    "dad_emb = base_model.encode('esfj', convert_to_tensor=True)\n",
    "util.cos_sim(mom_emb, dad_emb)"
   ]
  },
  {
   "cell_type": "markdown",
   "id": "2821f8ae",
   "metadata": {},
   "source": [
    "### loading not tuned model and doing the same thing"
   ]
  },
  {
   "cell_type": "code",
   "execution_count": 133,
   "id": "7ffd31d8",
   "metadata": {},
   "outputs": [],
   "source": [
    "from sentence_transformers import SentenceTransformer, models\n",
    "\n",
    "base_model = SentenceTransformer('all-MiniLM-L6-v2')\n",
    "base_embs = base_model.encode(pis, convert_to_tensor=True)\n",
    "base_cosine_scores = util.cos_sim(base_embs, base_embs).detach().cpu().numpy()"
   ]
  },
  {
   "cell_type": "code",
   "execution_count": 202,
   "id": "84054f5b",
   "metadata": {},
   "outputs": [
    {
     "ename": "AttributeError",
     "evalue": "'KeyedVectors' object has no attribute 'encode'",
     "output_type": "error",
     "traceback": [
      "\u001b[0;31m---------------------------------------------------------------------------\u001b[0m",
      "\u001b[0;31mAttributeError\u001b[0m                            Traceback (most recent call last)",
      "\u001b[0;32m/scratch/10837546/ipykernel_10441/929130219.py\u001b[0m in \u001b[0;36m<module>\u001b[0;34m\u001b[0m\n\u001b[1;32m      4\u001b[0m \u001b[0;34m\u001b[0m\u001b[0m\n\u001b[1;32m      5\u001b[0m \u001b[0mtarget_word\u001b[0m \u001b[0;34m=\u001b[0m \u001b[0;34m'build the wall'\u001b[0m\u001b[0;34m\u001b[0m\u001b[0;34m\u001b[0m\u001b[0m\n\u001b[0;32m----> 6\u001b[0;31m \u001b[0mdf1\u001b[0m \u001b[0;34m=\u001b[0m \u001b[0mpd\u001b[0m\u001b[0;34m.\u001b[0m\u001b[0mDataFrame\u001b[0m\u001b[0;34m(\u001b[0m\u001b[0mmost_similar\u001b[0m\u001b[0;34m(\u001b[0m\u001b[0mtarget_word\u001b[0m\u001b[0;34m,\u001b[0m \u001b[0mpis\u001b[0m\u001b[0;34m,\u001b[0m \u001b[0membeddings\u001b[0m\u001b[0;34m,\u001b[0m \u001b[0mmodel\u001b[0m\u001b[0;34m)\u001b[0m\u001b[0;34m,\u001b[0m \u001b[0mcolumns\u001b[0m\u001b[0;34m=\u001b[0m\u001b[0;34m[\u001b[0m\u001b[0;34m'identifier'\u001b[0m\u001b[0;34m,\u001b[0m \u001b[0;34m'similarity'\u001b[0m\u001b[0;34m]\u001b[0m\u001b[0;34m)\u001b[0m\u001b[0;34m\u001b[0m\u001b[0;34m\u001b[0m\u001b[0m\n\u001b[0m\u001b[1;32m      7\u001b[0m \u001b[0mdf1\u001b[0m\u001b[0;34m[\u001b[0m\u001b[0;34m'model'\u001b[0m\u001b[0;34m]\u001b[0m \u001b[0;34m=\u001b[0m \u001b[0;34m'fine-tuned-sentence-bert'\u001b[0m\u001b[0;34m\u001b[0m\u001b[0;34m\u001b[0m\u001b[0m\n\u001b[1;32m      8\u001b[0m \u001b[0mdf2\u001b[0m \u001b[0;34m=\u001b[0m \u001b[0mpd\u001b[0m\u001b[0;34m.\u001b[0m\u001b[0mDataFrame\u001b[0m\u001b[0;34m(\u001b[0m\u001b[0mmost_similar\u001b[0m\u001b[0;34m(\u001b[0m\u001b[0mtarget_word\u001b[0m\u001b[0;34m,\u001b[0m \u001b[0mpis\u001b[0m\u001b[0;34m,\u001b[0m \u001b[0mbase_embs\u001b[0m\u001b[0;34m,\u001b[0m \u001b[0mbase_model\u001b[0m\u001b[0;34m)\u001b[0m\u001b[0;34m,\u001b[0m \u001b[0mcolumns\u001b[0m\u001b[0;34m=\u001b[0m\u001b[0;34m[\u001b[0m\u001b[0;34m'identifier'\u001b[0m\u001b[0;34m,\u001b[0m \u001b[0;34m'similarity'\u001b[0m\u001b[0;34m]\u001b[0m\u001b[0;34m)\u001b[0m\u001b[0;34m\u001b[0m\u001b[0;34m\u001b[0m\u001b[0m\n",
      "\u001b[0;32m/scratch/10837546/ipykernel_10441/3776029235.py\u001b[0m in \u001b[0;36mmost_similar\u001b[0;34m(pi, all_pis, all_pi_embs, model, k)\u001b[0m\n\u001b[1;32m      1\u001b[0m \u001b[0;32mdef\u001b[0m \u001b[0mmost_similar\u001b[0m\u001b[0;34m(\u001b[0m\u001b[0mpi\u001b[0m\u001b[0;34m,\u001b[0m \u001b[0mall_pis\u001b[0m\u001b[0;34m,\u001b[0m \u001b[0mall_pi_embs\u001b[0m\u001b[0;34m,\u001b[0m \u001b[0mmodel\u001b[0m\u001b[0;34m,\u001b[0m \u001b[0mk\u001b[0m\u001b[0;34m=\u001b[0m\u001b[0;36m11\u001b[0m\u001b[0;34m)\u001b[0m\u001b[0;34m:\u001b[0m\u001b[0;34m\u001b[0m\u001b[0;34m\u001b[0m\u001b[0m\n\u001b[0;32m----> 2\u001b[0;31m     \u001b[0mcur_emb\u001b[0m \u001b[0;34m=\u001b[0m \u001b[0mmodel\u001b[0m\u001b[0;34m.\u001b[0m\u001b[0mencode\u001b[0m\u001b[0;34m(\u001b[0m\u001b[0mpi\u001b[0m\u001b[0;34m,\u001b[0m \u001b[0mconvert_to_tensor\u001b[0m\u001b[0;34m=\u001b[0m\u001b[0;32mTrue\u001b[0m\u001b[0;34m)\u001b[0m\u001b[0;34m\u001b[0m\u001b[0;34m\u001b[0m\u001b[0m\n\u001b[0m\u001b[1;32m      3\u001b[0m     \u001b[0mcosine_scores\u001b[0m \u001b[0;34m=\u001b[0m \u001b[0mutil\u001b[0m\u001b[0;34m.\u001b[0m\u001b[0mcos_sim\u001b[0m\u001b[0;34m(\u001b[0m\u001b[0mcur_emb\u001b[0m\u001b[0;34m,\u001b[0m \u001b[0mall_pi_embs\u001b[0m\u001b[0;34m)\u001b[0m\u001b[0;34m.\u001b[0m\u001b[0mdetach\u001b[0m\u001b[0;34m(\u001b[0m\u001b[0;34m)\u001b[0m\u001b[0;34m.\u001b[0m\u001b[0mcpu\u001b[0m\u001b[0;34m(\u001b[0m\u001b[0;34m)\u001b[0m\u001b[0;34m.\u001b[0m\u001b[0mnumpy\u001b[0m\u001b[0;34m(\u001b[0m\u001b[0;34m)\u001b[0m\u001b[0;34m[\u001b[0m\u001b[0;36m0\u001b[0m\u001b[0;34m]\u001b[0m\u001b[0;34m\u001b[0m\u001b[0;34m\u001b[0m\u001b[0m\n\u001b[1;32m      4\u001b[0m     \u001b[0mmost_similars\u001b[0m \u001b[0;34m=\u001b[0m \u001b[0mnp\u001b[0m\u001b[0;34m.\u001b[0m\u001b[0margsort\u001b[0m\u001b[0;34m(\u001b[0m\u001b[0mcosine_scores\u001b[0m\u001b[0;34m)\u001b[0m\u001b[0;34m[\u001b[0m\u001b[0;34m-\u001b[0m\u001b[0mk\u001b[0m\u001b[0;34m:\u001b[0m\u001b[0;34m]\u001b[0m\u001b[0;34m\u001b[0m\u001b[0;34m\u001b[0m\u001b[0m\n\u001b[1;32m      5\u001b[0m     \u001b[0;32mreturn\u001b[0m \u001b[0;34m[\u001b[0m\u001b[0;34m(\u001b[0m\u001b[0mall_pis\u001b[0m\u001b[0;34m[\u001b[0m\u001b[0mi\u001b[0m\u001b[0;34m]\u001b[0m\u001b[0;34m,\u001b[0m \u001b[0mcosine_scores\u001b[0m\u001b[0;34m[\u001b[0m\u001b[0mi\u001b[0m\u001b[0;34m]\u001b[0m\u001b[0;34m)\u001b[0m \u001b[0;32mfor\u001b[0m \u001b[0mi\u001b[0m \u001b[0;32min\u001b[0m \u001b[0mmost_similars\u001b[0m \u001b[0;32mif\u001b[0m \u001b[0mpi\u001b[0m\u001b[0;34m!=\u001b[0m\u001b[0mall_pis\u001b[0m\u001b[0;34m[\u001b[0m\u001b[0mi\u001b[0m\u001b[0;34m]\u001b[0m\u001b[0;34m]\u001b[0m\u001b[0;34m\u001b[0m\u001b[0;34m\u001b[0m\u001b[0m\n",
      "\u001b[0;31mAttributeError\u001b[0m: 'KeyedVectors' object has no attribute 'encode'"
     ]
    }
   ],
   "source": [
    "import seaborn as sns\n",
    "import pandas as pd\n",
    "import matplotlib.pyplot as plt\n",
    "\n",
    "target_word = 'build the wall'\n",
    "df1 = pd.DataFrame(most_similar(target_word, pis, embeddings, model), columns=['identifier', 'similarity'])\n",
    "df1['model'] = 'fine-tuned-sentence-bert'\n",
    "df2 = pd.DataFrame(most_similar(target_word, pis, base_embs, base_model), columns=['identifier', 'similarity'])\n",
    "df2['model'] = 'original-sentence-bert'\n",
    "\n",
    "\n",
    "fig, (ax1, ax2) = plt.subplots(nrows=1, ncols=2, figsize=(15,6))\n",
    "\n",
    "ax1.scatter(x=df1['identifier'], y=df1['similarity'])\n",
    "ax1.tick_params(axis='x', rotation=-60)\n",
    "ax1.set_xlabel('phrase')\n",
    "ax1.set_ylabel('similarity')\n",
    "ax1.set_title('fine-tuned-sentence-bert')\n",
    "\n",
    "\n",
    "ax2.scatter(x=df2['identifier'], y=df2['similarity'])\n",
    "ax2.tick_params(axis='x', rotation=-60)\n",
    "ax2.set_xlabel('phrase')\n",
    "ax2.set_ylabel('similarity')\n",
    "ax2.set_title('original-sentence-bert')\n",
    "\n",
    "plt.show()"
   ]
  },
  {
   "cell_type": "markdown",
   "id": "2ad9278e",
   "metadata": {},
   "source": [
    "### analyzing personalities"
   ]
  },
  {
   "cell_type": "code",
   "execution_count": 139,
   "id": "22507a62",
   "metadata": {},
   "outputs": [
    {
     "name": "stdout",
     "output_type": "stream",
     "text": [
      "ESTJ: True\n",
      "ENTJ: True\n",
      "ESFJ: True\n",
      "ENFJ: True\n",
      "ISTJ: True\n",
      "ISFJ: True\n",
      "INTJ: True\n",
      "INFJ: True\n",
      "ESTP: True\n",
      "ESFP: True\n",
      "ENTP: True\n",
      "ENFP: True\n",
      "ISTP: True\n",
      "ISFP: True\n",
      "INTP: True\n",
      "INFP: True\n"
     ]
    }
   ],
   "source": [
    "for personality in ['ESTJ', 'ENTJ', 'ESFJ', 'ENFJ', 'ISTJ', 'ISFJ', 'INTJ', 'INFJ', 'ESTP', 'ESFP', 'ENTP', 'ENFP', 'ISTP', 'ISFP', 'INTP', 'INFP']:\n",
    "    if personality in pis or personality.lower() in pis:\n",
    "        print(f\"{personality}: True\")\n",
    "    else:\n",
    "        print(f\"{personality}: False\")"
   ]
  },
  {
   "cell_type": "code",
   "execution_count": 179,
   "id": "2c1b63b6",
   "metadata": {},
   "outputs": [],
   "source": [
    "personalities = ['ESTJ', 'ENTJ', 'ESFJ', 'ENFJ', 'ISTJ', 'ISFJ', 'INTJ', 'INFJ', 'ESTP', 'ESFP', 'ENTP', 'ENFP', 'ISTP', 'ISFP', 'INTP', 'INFP']\n",
    "personalities = [p.lower() for p in personalities]\n",
    "\n",
    "pers_emb = model.encode(personalities, convert_to_tensor=True)\n",
    "pers_emb_base = base_model.encode(personalities, convert_to_tensor=True)\n",
    "\n",
    "base_cosine_scores = util.cos_sim(pers_emb_base, pers_emb_base).detach().cpu().numpy()\n",
    "cosine_scores = util.cos_sim(pers_emb, pers_emb).detach().cpu().numpy()"
   ]
  },
  {
   "cell_type": "code",
   "execution_count": 180,
   "id": "406d3001",
   "metadata": {},
   "outputs": [
    {
     "data": {
      "text/plain": [
       "[Text(0, 0.5, 'estj'),\n",
       " Text(0, 1.5, 'entj'),\n",
       " Text(0, 2.5, 'esfj'),\n",
       " Text(0, 3.5, 'enfj'),\n",
       " Text(0, 4.5, 'istj'),\n",
       " Text(0, 5.5, 'isfj'),\n",
       " Text(0, 6.5, 'intj'),\n",
       " Text(0, 7.5, 'infj'),\n",
       " Text(0, 8.5, 'estp'),\n",
       " Text(0, 9.5, 'esfp'),\n",
       " Text(0, 10.5, 'entp'),\n",
       " Text(0, 11.5, 'enfp'),\n",
       " Text(0, 12.5, 'istp'),\n",
       " Text(0, 13.5, 'isfp'),\n",
       " Text(0, 14.5, 'intp'),\n",
       " Text(0, 15.5, 'infp')]"
      ]
     },
     "execution_count": 180,
     "metadata": {},
     "output_type": "execute_result"
    },
    {
     "data": {
      "image/png": "[encoded data removed]",
      "text/plain": [
       "<Figure size 720x720 with 2 Axes>"
      ]
     },
     "metadata": {
      "needs_background": "light"
     },
     "output_type": "display_data"
    }
   ],
   "source": [
    "plt.figure(figsize=(10,10))\n",
    "ax = sns.heatmap(cosine_scores)\n",
    "ax.set_xticklabels(personalities, rotation=90)\n",
    "ax.set_yticklabels(personalities, rotation=0)\n",
    "\n",
    "# plt.xticks(ticks=personalities)\n",
    "# plt.yticks(ticks=personalities)"
   ]
  },
  {
   "cell_type": "code",
   "execution_count": 181,
   "id": "db1ab792",
   "metadata": {},
   "outputs": [
    {
     "data": {
      "text/plain": [
       "[Text(0, 0.5, 'estj'),\n",
       " Text(0, 1.5, 'entj'),\n",
       " Text(0, 2.5, 'esfj'),\n",
       " Text(0, 3.5, 'enfj'),\n",
       " Text(0, 4.5, 'istj'),\n",
       " Text(0, 5.5, 'isfj'),\n",
       " Text(0, 6.5, 'intj'),\n",
       " Text(0, 7.5, 'infj'),\n",
       " Text(0, 8.5, 'estp'),\n",
       " Text(0, 9.5, 'esfp'),\n",
       " Text(0, 10.5, 'entp'),\n",
       " Text(0, 11.5, 'enfp'),\n",
       " Text(0, 12.5, 'istp'),\n",
       " Text(0, 13.5, 'isfp'),\n",
       " Text(0, 14.5, 'intp'),\n",
       " Text(0, 15.5, 'infp')]"
      ]
     },
     "execution_count": 181,
     "metadata": {},
     "output_type": "execute_result"
    },
    {
     "data": {
      "image/png": "[encoded data removed]",
      "text/plain": [
       "<Figure size 720x720 with 2 Axes>"
      ]
     },
     "metadata": {
      "needs_background": "light"
     },
     "output_type": "display_data"
    }
   ],
   "source": [
    "plt.figure(figsize=(10,10))\n",
    "\n",
    "ax = sns.heatmap(base_cosine_scores)\n",
    "ax.set_xticklabels(personalities, rotation=90)\n",
    "ax.set_yticklabels(personalities, rotation=0)"
   ]
  },
  {
   "cell_type": "markdown",
   "id": "7c00590e",
   "metadata": {},
   "source": [
    "### comparing in gensim vocab"
   ]
  },
  {
   "cell_type": "code",
   "execution_count": 210,
   "id": "f40dfb8f",
   "metadata": {},
   "outputs": [
    {
     "data": {
      "text/plain": [
       "[('plastic', 0.7942506074905396),\n",
       " ('metal', 0.770871639251709),\n",
       " ('walls', 0.7700635194778442),\n",
       " ('marble', 0.7638523578643799),\n",
       " ('wood', 0.7624281048774719),\n",
       " ('ceramic', 0.7602593302726746),\n",
       " ('pieces', 0.7589111328125),\n",
       " ('stained', 0.7528817653656006),\n",
       " ('tile', 0.748193621635437),\n",
       " ('furniture', 0.7463858723640442)]"
      ]
     },
     "execution_count": 210,
     "metadata": {},
     "output_type": "execute_result"
    }
   ],
   "source": [
    "import gensim.downloader as api\n",
    "\n",
    "w2v = api.load(\"glove-wiki-gigaword-50\")\n",
    "w2v.most_similar(\"glass\")"
   ]
  },
  {
   "cell_type": "code",
   "execution_count": 214,
   "id": "636e7a2b",
   "metadata": {},
   "outputs": [],
   "source": [
    "vocab = list(w2v.key_to_index.keys())\n",
    "\n",
    "vocab_embs = model.encode(vocab, convert_to_tensor=True)\n"
   ]
  },
  {
   "cell_type": "code",
   "execution_count": 215,
   "id": "036f73ec",
   "metadata": {},
   "outputs": [
    {
     "data": {
      "text/plain": [
       "[('cleanfeed', 0.9399279),\n",
       " ('overdevelopment', 0.94011027),\n",
       " ('hindering', 0.94033366),\n",
       " ('averts', 0.94081146),\n",
       " ('regasification', 0.9420348),\n",
       " ('dods', 0.9421477),\n",
       " ('counterproposal', 0.9423385),\n",
       " ('rediscounting', 0.94654495),\n",
       " ('backpropagation', 0.9470374)]"
      ]
     },
     "execution_count": 215,
     "metadata": {},
     "output_type": "execute_result"
    }
   ],
   "source": [
    "most_similar('vaccine', vocab, vocab_embs, model, k=10)"
   ]
  },
  {
   "cell_type": "code",
   "execution_count": 220,
   "id": "8b650b74",
   "metadata": {},
   "outputs": [
    {
     "data": {
      "text/plain": [
       "[('retooled', 0.9054919),\n",
       " ('kapova', 0.90612507),\n",
       " ('dykema', 0.90841216),\n",
       " ('f-fdtl', 0.9097182),\n",
       " ('trans-texas', 0.90972906),\n",
       " ('jdrew', 0.9107921),\n",
       " ('transgendered', 0.91270465),\n",
       " ('reflagged', 0.9133766),\n",
       " ('fdlr', 0.91347164),\n",
       " ('anti-white', 0.91363406),\n",
       " ('shpigel', 0.91434467),\n",
       " ('defatted', 0.9144651),\n",
       " ('fdtd', 0.9154509),\n",
       " ('bdt', 0.9161978),\n",
       " ('trans-pecos', 0.91632265),\n",
       " ('dembo', 0.91688424),\n",
       " ('demby', 0.91711247),\n",
       " ('re-union', 0.9184007),\n",
       " ('flnc', 0.9196488),\n",
       " ('anti-black', 0.9198113),\n",
       " ('yippie', 0.9204249),\n",
       " ('sliwa', 0.9211106),\n",
       " ('demaree', 0.9251369),\n",
       " ('kapow', 0.9274084),\n",
       " ('transmigrants', 0.92956984),\n",
       " ('fdtl', 0.93025285),\n",
       " ('black-majority', 0.93315375),\n",
       " ('abolish', 0.93458647),\n",
       " ('abolishing', 0.9362927),\n",
       " ('ftp', 0.9390266),\n",
       " ('abolishment', 0.940132),\n",
       " ('demsey', 0.9404614),\n",
       " ('defund', 0.94085896),\n",
       " ('abolishes', 0.94256717),\n",
       " ('transwede', 0.9428791),\n",
       " ('rtlm', 0.94452107),\n",
       " ('pro-drop', 0.9445965),\n",
       " ('slumdwellers', 0.9494755),\n",
       " ('gnc', 0.9648286),\n",
       " ('splm-n', 0.96661544),\n",
       " ('klm', 0.9798501),\n",
       " ('rlm', 0.9816295),\n",
       " ('tlm', 0.9822344),\n",
       " ('wlm', 0.98464537),\n",
       " ('mplm', 0.98577565),\n",
       " ('blmc', 0.9901093),\n",
       " ('hlm', 0.9933179),\n",
       " ('splm', 0.99378145),\n",
       " ('glm', 0.99528605)]"
      ]
     },
     "execution_count": 220,
     "metadata": {},
     "output_type": "execute_result"
    }
   ],
   "source": [
    "most_similar('blm', vocab, vocab_embs, model, k=50)"
   ]
  },
  {
   "cell_type": "markdown",
   "id": "e679f9e7",
   "metadata": {},
   "source": [
    "# Word2vec embedding"
   ]
  },
  {
   "cell_type": "code",
   "execution_count": null,
   "id": "1f51047e",
   "metadata": {
    "scrolled": true
   },
   "outputs": [],
   "source": [
    "from gensim.models import Word2Vec\n",
    "from gensim.models.callbacks import CallbackAny2Vec\n",
    "\n",
    "print(len(sentences))\n",
    "\n",
    "class Callback(CallbackAny2Vec):\n",
    "    '''Callback to print loss after each epoch.'''\n",
    "\n",
    "    def __init__(self):\n",
    "        self.epoch = 0\n",
    "        self.loss_to_be_subed = 0\n",
    "\n",
    "    def on_epoch_end(self, model):\n",
    "        loss = model.get_latest_training_loss()\n",
    "        loss_now = loss - self.loss_to_be_subed\n",
    "        self.loss_to_be_subed = loss\n",
    "        print('Loss after epoch {}: {}'.format(self.epoch, loss_now))\n",
    "        self.epoch += 1\n",
    "\n",
    "monitor = Callback()\n",
    "model = Word2Vec(sentences, vector_size=50, window=5, min_count=1,\n",
    "                 negative=10, workers=30, epochs=50, callbacks=[monitor],\n",
    "                 compute_loss=True)\n",
    "\n",
    "model.save('./w2v.model')"
   ]
  },
  {
   "cell_type": "code",
   "execution_count": 7,
   "id": "ccc4c356",
   "metadata": {},
   "outputs": [],
   "source": [
    "model = Word2Vec.load(\"./w2v.model\")"
   ]
  },
  {
   "cell_type": "code",
   "execution_count": 8,
   "id": "65904ea8",
   "metadata": {},
   "outputs": [
    {
     "data": {
      "text/plain": [
       "[('pronouns: he', 0.9228585958480835),\n",
       " ('pronouns he', 0.8569645881652832),\n",
       " ('cis he', 0.8101291656494141),\n",
       " ('pronouns are he', 0.7875774502754211),\n",
       " ('them or he', 0.7698878645896912),\n",
       " ('my pronouns are he', 0.7616384625434875),\n",
       " ('them he', 0.7570477724075317),\n",
       " ('21 he', 0.6931623220443726),\n",
       " ('18 he', 0.6897026300430298),\n",
       " ('24 he', 0.6832929849624634),\n",
       " ('blm he', 0.6671035289764404),\n",
       " ('19 he', 0.6558746695518494),\n",
       " ('22 he', 0.627196192741394),\n",
       " ('23 he', 0.6264557838439941),\n",
       " ('20 he', 0.6185081005096436)]"
      ]
     },
     "execution_count": 8,
     "metadata": {},
     "output_type": "execute_result"
    }
   ],
   "source": [
    "model.wv.most_similar('he', topn=15)"
   ]
  }
 ],
 "metadata": {
  "kernelspec": {
   "display_name": "Python 3 (ipykernel)",
   "language": "python",
   "name": "python3"
  },
  "language_info": {
   "codemirror_mode": {
    "name": "ipython",
    "version": 3
   },
   "file_extension": ".py",
   "mimetype": "text/x-python",
   "name": "python",
   "nbconvert_exporter": "python",
   "pygments_lexer": "ipython3",
   "version": "3.8.12"
  },
  "toc": {
   "base_numbering": 1,
   "nav_menu": {},
   "number_sections": true,
   "sideBar": true,
   "skip_h1_title": false,
   "title_cell": "Table of Contents",
   "title_sidebar": "Contents",
   "toc_cell": false,
   "toc_position": {},
   "toc_section_display": true,
   "toc_window_display": true
  }
 },
 "nbformat": 4,
 "nbformat_minor": 5
}
